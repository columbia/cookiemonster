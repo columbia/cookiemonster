{
 "cells": [
  {
   "cell_type": "code",
   "execution_count": 1,
   "metadata": {},
   "outputs": [],
   "source": [
    "%load_ext autoreload\n",
    "%autoreload 2"
   ]
  },
  {
   "cell_type": "code",
   "execution_count": 2,
   "metadata": {},
   "outputs": [
    {
     "data": {
      "text/html": [
       "        <script type=\"text/javascript\">\n",
       "        window.PlotlyConfig = {MathJaxConfig: 'local'};\n",
       "        if (window.MathJax && window.MathJax.Hub && window.MathJax.Hub.Config) {window.MathJax.Hub.Config({SVG: {font: \"STIX-Web\"}});}\n",
       "        if (typeof require !== 'undefined') {\n",
       "        require.undef(\"plotly\");\n",
       "        requirejs.config({\n",
       "            paths: {\n",
       "                'plotly': ['https://cdn.plot.ly/plotly-2.30.0.min']\n",
       "            }\n",
       "        });\n",
       "        require(['plotly'], function(Plotly) {\n",
       "            window._Plotly = Plotly;\n",
       "        });\n",
       "        }\n",
       "        </script>\n",
       "        "
      ]
     },
     "metadata": {},
     "output_type": "display_data"
    }
   ],
   "source": [
    "import pandas as pd\n",
    "import numpy as np\n",
    "import plotly.io as pio\n",
    "pio.renderers.default = \"notebook\"\n",
    "import plotly.offline as pyo\n",
    "pyo.init_notebook_mode(connected=True)\n",
    "from utils import get_df, analyze_results, plot_budget_consumption, plot_accuracy"
   ]
  },
  {
   "cell_type": "code",
   "execution_count": 28,
   "metadata": {},
   "outputs": [
    {
     "name": "stdout",
     "output_type": "stream",
     "text": [
      "num queries without idp bias: 0 workload size:  22\n",
      "num queries without idp bias: 0 workload size:  22\n",
      "num queries without idp bias: 1 workload size:  22\n",
      "num queries without idp bias: 1 workload size:  22\n",
      "num queries without idp bias: 1 workload size:  22\n",
      "num queries without idp bias: 1 workload size:  22\n",
      "num queries without idp bias: 1 workload size:  22\n",
      "num queries without idp bias: 1 workload size:  22\n",
      "num queries without idp bias: 1 workload size:  22\n",
      "num queries without idp bias: 1 workload size:  22\n",
      "num queries without idp bias: 1 workload size:  22\n",
      "num queries without idp bias: 1 workload size:  22\n",
      "num queries without idp bias: 1 workload size:  22\n",
      "num queries without idp bias: 1 workload size:  22\n",
      "num queries without idp bias: 1 workload size:  22\n",
      "num queries without idp bias: 1 workload size:  22\n",
      "num queries without idp bias: 1 workload size:  22\n",
      "num queries without idp bias: 1 workload size:  22\n",
      "num queries without idp bias: 1 workload size:  22\n",
      "num queries without idp bias: 1 workload size:  22\n",
      "num queries without idp bias: 1 workload size:  22\n",
      "num queries without idp bias: 1 workload size:  22\n",
      "num queries without idp bias: 1 workload size:  37\n",
      "num queries without idp bias: 1 workload size:  37\n",
      "num queries without idp bias: 1 workload size:  37\n",
      "num queries without idp bias: 1 workload size:  37\n",
      "num queries without idp bias: 1 workload size:  37\n",
      "num queries without idp bias: 2 workload size:  37\n",
      "num queries without idp bias: 3 workload size:  37\n",
      "num queries without idp bias: 4 workload size:  37\n",
      "num queries without idp bias: 5 workload size:  37\n",
      "num queries without idp bias: 6 workload size:  37\n",
      "num queries without idp bias: 7 workload size:  37\n",
      "num queries without idp bias: 8 workload size:  37\n",
      "num queries without idp bias: 9 workload size:  37\n",
      "num queries without idp bias: 10 workload size:  37\n",
      "num queries without idp bias: 11 workload size:  37\n",
      "num queries without idp bias: 12 workload size:  37\n",
      "num queries without idp bias: 12 workload size:  37\n",
      "num queries without idp bias: 12 workload size:  37\n",
      "num queries without idp bias: 12 workload size:  37\n",
      "num queries without idp bias: 12 workload size:  37\n",
      "num queries without idp bias: 12 workload size:  37\n",
      "num queries without idp bias: 12 workload size:  37\n",
      "num queries without idp bias: 12 workload size:  37\n",
      "num queries without idp bias: 12 workload size:  37\n",
      "num queries without idp bias: 12 workload size:  37\n",
      "num queries without idp bias: 12 workload size:  37\n",
      "num queries without idp bias: 12 workload size:  37\n",
      "num queries without idp bias: 12 workload size:  37\n",
      "num queries without idp bias: 12 workload size:  37\n",
      "num queries without idp bias: 12 workload size:  37\n",
      "num queries without idp bias: 12 workload size:  37\n",
      "num queries without idp bias: 12 workload size:  37\n",
      "num queries without idp bias: 12 workload size:  37\n",
      "num queries without idp bias: 12 workload size:  37\n",
      "num queries without idp bias: 12 workload size:  37\n",
      "num queries without idp bias: 12 workload size:  37\n",
      "num queries without idp bias: 12 workload size:  37\n",
      "num queries without idp bias: 0 workload size:  42\n",
      "num queries without idp bias: 0 workload size:  42\n",
      "num queries without idp bias: 0 workload size:  42\n",
      "num queries without idp bias: 1 workload size:  42\n",
      "num queries without idp bias: 2 workload size:  42\n",
      "num queries without idp bias: 3 workload size:  42\n",
      "num queries without idp bias: 4 workload size:  42\n",
      "num queries without idp bias: 5 workload size:  42\n",
      "num queries without idp bias: 6 workload size:  42\n",
      "num queries without idp bias: 7 workload size:  42\n",
      "num queries without idp bias: 8 workload size:  42\n",
      "num queries without idp bias: 9 workload size:  42\n",
      "num queries without idp bias: 10 workload size:  42\n",
      "num queries without idp bias: 11 workload size:  42\n",
      "num queries without idp bias: 12 workload size:  42\n",
      "num queries without idp bias: 13 workload size:  42\n",
      "num queries without idp bias: 13 workload size:  42\n",
      "num queries without idp bias: 13 workload size:  42\n",
      "num queries without idp bias: 14 workload size:  42\n",
      "num queries without idp bias: 14 workload size:  42\n",
      "num queries without idp bias: 14 workload size:  42\n",
      "num queries without idp bias: 14 workload size:  42\n",
      "num queries without idp bias: 14 workload size:  42\n",
      "num queries without idp bias: 15 workload size:  42\n",
      "num queries without idp bias: 15 workload size:  42\n",
      "num queries without idp bias: 15 workload size:  42\n",
      "num queries without idp bias: 15 workload size:  42\n",
      "num queries without idp bias: 15 workload size:  42\n",
      "num queries without idp bias: 15 workload size:  42\n",
      "num queries without idp bias: 15 workload size:  42\n",
      "num queries without idp bias: 15 workload size:  42\n",
      "num queries without idp bias: 15 workload size:  42\n",
      "num queries without idp bias: 15 workload size:  42\n",
      "num queries without idp bias: 15 workload size:  42\n",
      "num queries without idp bias: 15 workload size:  42\n",
      "num queries without idp bias: 15 workload size:  42\n",
      "num queries without idp bias: 15 workload size:  42\n",
      "num queries without idp bias: 15 workload size:  42\n",
      "num queries without idp bias: 15 workload size:  42\n",
      "num queries without idp bias: 15 workload size:  42\n",
      "num queries without idp bias: 15 workload size:  42\n",
      "num queries without idp bias: 15 workload size:  42\n",
      "num queries without idp bias: 1 workload size:  39\n",
      "num queries without idp bias: 2 workload size:  39\n",
      "num queries without idp bias: 3 workload size:  39\n",
      "num queries without idp bias: 4 workload size:  39\n",
      "num queries without idp bias: 5 workload size:  39\n",
      "num queries without idp bias: 6 workload size:  39\n",
      "num queries without idp bias: 7 workload size:  39\n",
      "num queries without idp bias: 8 workload size:  39\n",
      "num queries without idp bias: 9 workload size:  39\n",
      "num queries without idp bias: 9 workload size:  39\n",
      "num queries without idp bias: 10 workload size:  39\n",
      "num queries without idp bias: 11 workload size:  39\n",
      "num queries without idp bias: 12 workload size:  39\n",
      "num queries without idp bias: 13 workload size:  39\n",
      "num queries without idp bias: 13 workload size:  39\n",
      "num queries without idp bias: 14 workload size:  39\n",
      "num queries without idp bias: 15 workload size:  39\n",
      "num queries without idp bias: 15 workload size:  39\n",
      "num queries without idp bias: 16 workload size:  39\n",
      "num queries without idp bias: 17 workload size:  39\n",
      "num queries without idp bias: 18 workload size:  39\n",
      "num queries without idp bias: 18 workload size:  39\n",
      "num queries without idp bias: 19 workload size:  39\n",
      "num queries without idp bias: 20 workload size:  39\n",
      "num queries without idp bias: 21 workload size:  39\n",
      "num queries without idp bias: 22 workload size:  39\n",
      "num queries without idp bias: 23 workload size:  39\n",
      "num queries without idp bias: 24 workload size:  39\n",
      "num queries without idp bias: 25 workload size:  39\n",
      "num queries without idp bias: 26 workload size:  39\n",
      "num queries without idp bias: 27 workload size:  39\n",
      "num queries without idp bias: 28 workload size:  39\n",
      "num queries without idp bias: 28 workload size:  39\n",
      "num queries without idp bias: 28 workload size:  39\n",
      "num queries without idp bias: 29 workload size:  39\n",
      "num queries without idp bias: 30 workload size:  39\n",
      "num queries without idp bias: 31 workload size:  39\n",
      "num queries without idp bias: 32 workload size:  39\n",
      "num queries without idp bias: 33 workload size:  39\n",
      "num queries without idp bias: 0 workload size:  42\n",
      "num queries without idp bias: 0 workload size:  42\n",
      "num queries without idp bias: 0 workload size:  42\n",
      "num queries without idp bias: 0 workload size:  42\n",
      "num queries without idp bias: 1 workload size:  42\n",
      "num queries without idp bias: 2 workload size:  42\n",
      "num queries without idp bias: 3 workload size:  42\n",
      "num queries without idp bias: 4 workload size:  42\n",
      "num queries without idp bias: 4 workload size:  42\n",
      "num queries without idp bias: 5 workload size:  42\n",
      "num queries without idp bias: 6 workload size:  42\n",
      "num queries without idp bias: 7 workload size:  42\n",
      "num queries without idp bias: 7 workload size:  42\n",
      "num queries without idp bias: 8 workload size:  42\n",
      "num queries without idp bias: 8 workload size:  42\n",
      "num queries without idp bias: 8 workload size:  42\n",
      "num queries without idp bias: 8 workload size:  42\n",
      "num queries without idp bias: 8 workload size:  42\n",
      "num queries without idp bias: 8 workload size:  42\n",
      "num queries without idp bias: 8 workload size:  42\n",
      "num queries without idp bias: 8 workload size:  42\n",
      "num queries without idp bias: 9 workload size:  42\n",
      "num queries without idp bias: 9 workload size:  42\n",
      "num queries without idp bias: 9 workload size:  42\n",
      "num queries without idp bias: 9 workload size:  42\n",
      "num queries without idp bias: 9 workload size:  42\n",
      "num queries without idp bias: 9 workload size:  42\n",
      "num queries without idp bias: 9 workload size:  42\n",
      "num queries without idp bias: 9 workload size:  42\n",
      "num queries without idp bias: 9 workload size:  42\n",
      "num queries without idp bias: 9 workload size:  42\n",
      "num queries without idp bias: 9 workload size:  42\n",
      "num queries without idp bias: 9 workload size:  42\n",
      "num queries without idp bias: 9 workload size:  42\n",
      "num queries without idp bias: 9 workload size:  42\n",
      "num queries without idp bias: 9 workload size:  42\n",
      "num queries without idp bias: 9 workload size:  42\n",
      "num queries without idp bias: 9 workload size:  42\n",
      "num queries without idp bias: 9 workload size:  42\n",
      "num queries without idp bias: 9 workload size:  42\n",
      "num queries without idp bias: 9 workload size:  42\n",
      "num queries without idp bias: 9 workload size:  42\n",
      "num queries without idp bias: 0 workload size:  19\n",
      "num queries without idp bias: 0 workload size:  19\n",
      "num queries without idp bias: 1 workload size:  19\n",
      "num queries without idp bias: 1 workload size:  19\n",
      "num queries without idp bias: 1 workload size:  19\n",
      "num queries without idp bias: 1 workload size:  19\n",
      "num queries without idp bias: 1 workload size:  19\n",
      "num queries without idp bias: 1 workload size:  19\n",
      "num queries without idp bias: 1 workload size:  19\n",
      "num queries without idp bias: 1 workload size:  19\n",
      "num queries without idp bias: 1 workload size:  19\n",
      "num queries without idp bias: 1 workload size:  19\n",
      "num queries without idp bias: 1 workload size:  19\n",
      "num queries without idp bias: 1 workload size:  19\n",
      "num queries without idp bias: 1 workload size:  19\n",
      "num queries without idp bias: 1 workload size:  19\n",
      "num queries without idp bias: 1 workload size:  19\n",
      "num queries without idp bias: 1 workload size:  19\n",
      "num queries without idp bias: 1 workload size:  19\n",
      "num queries without idp bias: 1 workload size:  23\n",
      "num queries without idp bias: 1 workload size:  23\n",
      "num queries without idp bias: 1 workload size:  23\n",
      "num queries without idp bias: 1 workload size:  23\n",
      "num queries without idp bias: 2 workload size:  23\n",
      "num queries without idp bias: 3 workload size:  23\n",
      "num queries without idp bias: 4 workload size:  23\n",
      "num queries without idp bias: 5 workload size:  23\n",
      "num queries without idp bias: 6 workload size:  23\n",
      "num queries without idp bias: 7 workload size:  23\n",
      "num queries without idp bias: 8 workload size:  23\n",
      "num queries without idp bias: 9 workload size:  23\n",
      "num queries without idp bias: 10 workload size:  23\n",
      "num queries without idp bias: 11 workload size:  23\n",
      "num queries without idp bias: 12 workload size:  23\n",
      "num queries without idp bias: 12 workload size:  23\n",
      "num queries without idp bias: 12 workload size:  23\n",
      "num queries without idp bias: 12 workload size:  23\n",
      "num queries without idp bias: 12 workload size:  23\n",
      "num queries without idp bias: 12 workload size:  23\n",
      "num queries without idp bias: 12 workload size:  23\n",
      "num queries without idp bias: 12 workload size:  23\n",
      "num queries without idp bias: 12 workload size:  23\n",
      "num queries without idp bias: 1 workload size:  19\n",
      "num queries without idp bias: 2 workload size:  19\n",
      "num queries without idp bias: 3 workload size:  19\n",
      "num queries without idp bias: 4 workload size:  19\n",
      "num queries without idp bias: 5 workload size:  19\n",
      "num queries without idp bias: 6 workload size:  19\n",
      "num queries without idp bias: 7 workload size:  19\n",
      "num queries without idp bias: 8 workload size:  19\n",
      "num queries without idp bias: 9 workload size:  19\n",
      "num queries without idp bias: 10 workload size:  19\n",
      "num queries without idp bias: 11 workload size:  19\n",
      "num queries without idp bias: 12 workload size:  19\n",
      "num queries without idp bias: 13 workload size:  19\n",
      "num queries without idp bias: 13 workload size:  19\n",
      "num queries without idp bias: 13 workload size:  19\n",
      "num queries without idp bias: 14 workload size:  19\n",
      "num queries without idp bias: 14 workload size:  19\n",
      "num queries without idp bias: 14 workload size:  19\n",
      "num queries without idp bias: 15 workload size:  19\n",
      "num queries without idp bias: 1 workload size:  19\n",
      "num queries without idp bias: 2 workload size:  19\n",
      "num queries without idp bias: 3 workload size:  19\n",
      "num queries without idp bias: 4 workload size:  19\n",
      "num queries without idp bias: 5 workload size:  19\n",
      "num queries without idp bias: 6 workload size:  19\n",
      "num queries without idp bias: 7 workload size:  19\n",
      "num queries without idp bias: 8 workload size:  19\n",
      "num queries without idp bias: 9 workload size:  19\n",
      "num queries without idp bias: 10 workload size:  19\n",
      "num queries without idp bias: 11 workload size:  19\n",
      "num queries without idp bias: 12 workload size:  19\n",
      "num queries without idp bias: 13 workload size:  19\n",
      "num queries without idp bias: 14 workload size:  19\n",
      "num queries without idp bias: 14 workload size:  19\n",
      "num queries without idp bias: 15 workload size:  19\n",
      "num queries without idp bias: 16 workload size:  19\n",
      "num queries without idp bias: 16 workload size:  19\n",
      "num queries without idp bias: 17 workload size:  19\n",
      "num queries without idp bias: 0 workload size:  20\n",
      "num queries without idp bias: 0 workload size:  20\n",
      "num queries without idp bias: 1 workload size:  20\n",
      "num queries without idp bias: 2 workload size:  20\n",
      "num queries without idp bias: 3 workload size:  20\n",
      "num queries without idp bias: 4 workload size:  20\n",
      "num queries without idp bias: 4 workload size:  20\n",
      "num queries without idp bias: 5 workload size:  20\n",
      "num queries without idp bias: 6 workload size:  20\n",
      "num queries without idp bias: 7 workload size:  20\n",
      "num queries without idp bias: 7 workload size:  20\n",
      "num queries without idp bias: 8 workload size:  20\n",
      "num queries without idp bias: 8 workload size:  20\n",
      "num queries without idp bias: 8 workload size:  20\n",
      "num queries without idp bias: 8 workload size:  20\n",
      "num queries without idp bias: 8 workload size:  20\n",
      "num queries without idp bias: 8 workload size:  20\n",
      "num queries without idp bias: 8 workload size:  20\n",
      "num queries without idp bias: 8 workload size:  20\n",
      "num queries without idp bias: 9 workload size:  20\n",
      "num queries without idp bias: 0 workload size:  22\n",
      "num queries without idp bias: 0 workload size:  22\n",
      "num queries without idp bias: 1 workload size:  22\n",
      "num queries without idp bias: 1 workload size:  22\n",
      "num queries without idp bias: 1 workload size:  22\n",
      "num queries without idp bias: 1 workload size:  22\n",
      "num queries without idp bias: 1 workload size:  22\n",
      "num queries without idp bias: 1 workload size:  22\n",
      "num queries without idp bias: 1 workload size:  22\n",
      "num queries without idp bias: 1 workload size:  22\n",
      "num queries without idp bias: 1 workload size:  22\n",
      "num queries without idp bias: 1 workload size:  22\n",
      "num queries without idp bias: 1 workload size:  22\n",
      "num queries without idp bias: 1 workload size:  22\n",
      "num queries without idp bias: 1 workload size:  22\n",
      "num queries without idp bias: 1 workload size:  22\n",
      "num queries without idp bias: 1 workload size:  22\n",
      "num queries without idp bias: 1 workload size:  22\n",
      "num queries without idp bias: 1 workload size:  22\n",
      "num queries without idp bias: 1 workload size:  22\n",
      "num queries without idp bias: 1 workload size:  22\n",
      "num queries without idp bias: 1 workload size:  22\n",
      "num queries without idp bias: 1 workload size:  29\n",
      "num queries without idp bias: 1 workload size:  29\n",
      "num queries without idp bias: 1 workload size:  29\n",
      "num queries without idp bias: 1 workload size:  29\n",
      "num queries without idp bias: 1 workload size:  29\n",
      "num queries without idp bias: 2 workload size:  29\n",
      "num queries without idp bias: 3 workload size:  29\n",
      "num queries without idp bias: 4 workload size:  29\n",
      "num queries without idp bias: 5 workload size:  29\n",
      "num queries without idp bias: 6 workload size:  29\n",
      "num queries without idp bias: 7 workload size:  29\n",
      "num queries without idp bias: 8 workload size:  29\n",
      "num queries without idp bias: 9 workload size:  29\n",
      "num queries without idp bias: 10 workload size:  29\n",
      "num queries without idp bias: 11 workload size:  29\n",
      "num queries without idp bias: 12 workload size:  29\n",
      "num queries without idp bias: 12 workload size:  29\n",
      "num queries without idp bias: 12 workload size:  29\n",
      "num queries without idp bias: 12 workload size:  29\n",
      "num queries without idp bias: 12 workload size:  29\n",
      "num queries without idp bias: 12 workload size:  29\n",
      "num queries without idp bias: 12 workload size:  29\n",
      "num queries without idp bias: 12 workload size:  29\n",
      "num queries without idp bias: 12 workload size:  29\n",
      "num queries without idp bias: 12 workload size:  29\n",
      "num queries without idp bias: 12 workload size:  29\n",
      "num queries without idp bias: 12 workload size:  29\n",
      "num queries without idp bias: 12 workload size:  29\n",
      "num queries without idp bias: 12 workload size:  29\n",
      "num queries without idp bias: 0 workload size:  25\n",
      "num queries without idp bias: 1 workload size:  25\n",
      "num queries without idp bias: 2 workload size:  25\n",
      "num queries without idp bias: 3 workload size:  25\n",
      "num queries without idp bias: 4 workload size:  25\n",
      "num queries without idp bias: 5 workload size:  25\n",
      "num queries without idp bias: 6 workload size:  25\n",
      "num queries without idp bias: 7 workload size:  25\n",
      "num queries without idp bias: 8 workload size:  25\n",
      "num queries without idp bias: 9 workload size:  25\n",
      "num queries without idp bias: 10 workload size:  25\n",
      "num queries without idp bias: 11 workload size:  25\n",
      "num queries without idp bias: 12 workload size:  25\n",
      "num queries without idp bias: 13 workload size:  25\n",
      "num queries without idp bias: 13 workload size:  25\n",
      "num queries without idp bias: 13 workload size:  25\n",
      "num queries without idp bias: 14 workload size:  25\n",
      "num queries without idp bias: 14 workload size:  25\n",
      "num queries without idp bias: 14 workload size:  25\n",
      "num queries without idp bias: 14 workload size:  25\n",
      "num queries without idp bias: 14 workload size:  25\n",
      "num queries without idp bias: 15 workload size:  25\n",
      "num queries without idp bias: 15 workload size:  25\n",
      "num queries without idp bias: 15 workload size:  25\n",
      "num queries without idp bias: 15 workload size:  25\n",
      "num queries without idp bias: 1 workload size:  24\n",
      "num queries without idp bias: 2 workload size:  24\n",
      "num queries without idp bias: 3 workload size:  24\n",
      "num queries without idp bias: 4 workload size:  24\n",
      "num queries without idp bias: 5 workload size:  24\n",
      "num queries without idp bias: 6 workload size:  24\n",
      "num queries without idp bias: 7 workload size:  24\n",
      "num queries without idp bias: 8 workload size:  24\n",
      "num queries without idp bias: 9 workload size:  24\n",
      "num queries without idp bias: 10 workload size:  24\n",
      "num queries without idp bias: 11 workload size:  24\n",
      "num queries without idp bias: 12 workload size:  24\n",
      "num queries without idp bias: 13 workload size:  24\n",
      "num queries without idp bias: 14 workload size:  24\n",
      "num queries without idp bias: 14 workload size:  24\n",
      "num queries without idp bias: 15 workload size:  24\n",
      "num queries without idp bias: 16 workload size:  24\n",
      "num queries without idp bias: 16 workload size:  24\n",
      "num queries without idp bias: 17 workload size:  24\n",
      "num queries without idp bias: 18 workload size:  24\n",
      "num queries without idp bias: 19 workload size:  24\n",
      "num queries without idp bias: 19 workload size:  24\n",
      "num queries without idp bias: 20 workload size:  24\n",
      "num queries without idp bias: 21 workload size:  24\n",
      "num queries without idp bias: 0 workload size:  26\n",
      "num queries without idp bias: 0 workload size:  26\n",
      "num queries without idp bias: 0 workload size:  26\n",
      "num queries without idp bias: 1 workload size:  26\n",
      "num queries without idp bias: 2 workload size:  26\n",
      "num queries without idp bias: 3 workload size:  26\n",
      "num queries without idp bias: 4 workload size:  26\n",
      "num queries without idp bias: 4 workload size:  26\n",
      "num queries without idp bias: 5 workload size:  26\n",
      "num queries without idp bias: 6 workload size:  26\n",
      "num queries without idp bias: 7 workload size:  26\n",
      "num queries without idp bias: 7 workload size:  26\n",
      "num queries without idp bias: 8 workload size:  26\n",
      "num queries without idp bias: 8 workload size:  26\n",
      "num queries without idp bias: 8 workload size:  26\n",
      "num queries without idp bias: 8 workload size:  26\n",
      "num queries without idp bias: 8 workload size:  26\n",
      "num queries without idp bias: 8 workload size:  26\n",
      "num queries without idp bias: 8 workload size:  26\n",
      "num queries without idp bias: 8 workload size:  26\n",
      "num queries without idp bias: 9 workload size:  26\n",
      "num queries without idp bias: 9 workload size:  26\n",
      "num queries without idp bias: 9 workload size:  26\n",
      "num queries without idp bias: 9 workload size:  26\n",
      "num queries without idp bias: 9 workload size:  26\n",
      "num queries without idp bias: 9 workload size:  26\n",
      "num queries without idp bias: 0 workload size:  14\n",
      "num queries without idp bias: 0 workload size:  14\n",
      "num queries without idp bias: 1 workload size:  14\n",
      "num queries without idp bias: 1 workload size:  14\n",
      "num queries without idp bias: 1 workload size:  14\n",
      "num queries without idp bias: 1 workload size:  14\n",
      "num queries without idp bias: 1 workload size:  14\n",
      "num queries without idp bias: 1 workload size:  14\n",
      "num queries without idp bias: 1 workload size:  14\n",
      "num queries without idp bias: 1 workload size:  14\n",
      "num queries without idp bias: 1 workload size:  14\n",
      "num queries without idp bias: 1 workload size:  14\n",
      "num queries without idp bias: 1 workload size:  14\n",
      "num queries without idp bias: 1 workload size:  14\n",
      "num queries without idp bias: 1 workload size:  15\n",
      "num queries without idp bias: 2 workload size:  15\n",
      "num queries without idp bias: 3 workload size:  15\n",
      "num queries without idp bias: 4 workload size:  15\n",
      "num queries without idp bias: 5 workload size:  15\n",
      "num queries without idp bias: 6 workload size:  15\n",
      "num queries without idp bias: 7 workload size:  15\n",
      "num queries without idp bias: 8 workload size:  15\n",
      "num queries without idp bias: 9 workload size:  15\n",
      "num queries without idp bias: 10 workload size:  15\n",
      "num queries without idp bias: 11 workload size:  15\n",
      "num queries without idp bias: 12 workload size:  15\n",
      "num queries without idp bias: 12 workload size:  15\n",
      "num queries without idp bias: 12 workload size:  15\n",
      "num queries without idp bias: 12 workload size:  15\n",
      "num queries without idp bias: 1 workload size:  14\n",
      "num queries without idp bias: 2 workload size:  14\n",
      "num queries without idp bias: 3 workload size:  14\n",
      "num queries without idp bias: 4 workload size:  14\n",
      "num queries without idp bias: 5 workload size:  14\n",
      "num queries without idp bias: 6 workload size:  14\n",
      "num queries without idp bias: 7 workload size:  14\n",
      "num queries without idp bias: 8 workload size:  14\n",
      "num queries without idp bias: 9 workload size:  14\n",
      "num queries without idp bias: 10 workload size:  14\n",
      "num queries without idp bias: 11 workload size:  14\n",
      "num queries without idp bias: 12 workload size:  14\n",
      "num queries without idp bias: 13 workload size:  14\n",
      "num queries without idp bias: 13 workload size:  14\n",
      "num queries without idp bias: 1 workload size:  14\n",
      "num queries without idp bias: 2 workload size:  14\n",
      "num queries without idp bias: 3 workload size:  14\n",
      "num queries without idp bias: 4 workload size:  14\n",
      "num queries without idp bias: 5 workload size:  14\n",
      "num queries without idp bias: 6 workload size:  14\n",
      "num queries without idp bias: 7 workload size:  14\n",
      "num queries without idp bias: 8 workload size:  14\n",
      "num queries without idp bias: 9 workload size:  14\n",
      "num queries without idp bias: 10 workload size:  14\n",
      "num queries without idp bias: 11 workload size:  14\n",
      "num queries without idp bias: 12 workload size:  14\n",
      "num queries without idp bias: 13 workload size:  14\n",
      "num queries without idp bias: 14 workload size:  14\n",
      "num queries without idp bias: 0 workload size:  14\n",
      "num queries without idp bias: 1 workload size:  14\n",
      "num queries without idp bias: 2 workload size:  14\n",
      "num queries without idp bias: 3 workload size:  14\n",
      "num queries without idp bias: 4 workload size:  14\n",
      "num queries without idp bias: 4 workload size:  14\n",
      "num queries without idp bias: 5 workload size:  14\n",
      "num queries without idp bias: 6 workload size:  14\n",
      "num queries without idp bias: 7 workload size:  14\n",
      "num queries without idp bias: 7 workload size:  14\n",
      "num queries without idp bias: 8 workload size:  14\n",
      "num queries without idp bias: 8 workload size:  14\n",
      "num queries without idp bias: 8 workload size:  14\n",
      "num queries without idp bias: 8 workload size:  14\n",
      "num queries without idp bias: 0 workload size:  22\n",
      "num queries without idp bias: 0 workload size:  22\n",
      "num queries without idp bias: 1 workload size:  22\n",
      "num queries without idp bias: 1 workload size:  22\n",
      "num queries without idp bias: 1 workload size:  22\n",
      "num queries without idp bias: 1 workload size:  22\n",
      "num queries without idp bias: 1 workload size:  22\n",
      "num queries without idp bias: 1 workload size:  22\n",
      "num queries without idp bias: 1 workload size:  22\n",
      "num queries without idp bias: 1 workload size:  22\n",
      "num queries without idp bias: 1 workload size:  22\n",
      "num queries without idp bias: 1 workload size:  22\n",
      "num queries without idp bias: 1 workload size:  22\n",
      "num queries without idp bias: 1 workload size:  22\n",
      "num queries without idp bias: 1 workload size:  22\n",
      "num queries without idp bias: 1 workload size:  22\n",
      "num queries without idp bias: 1 workload size:  22\n",
      "num queries without idp bias: 1 workload size:  22\n",
      "num queries without idp bias: 1 workload size:  22\n",
      "num queries without idp bias: 1 workload size:  22\n",
      "num queries without idp bias: 1 workload size:  22\n",
      "num queries without idp bias: 1 workload size:  22\n",
      "num queries without idp bias: 1 workload size:  37\n",
      "num queries without idp bias: 1 workload size:  37\n",
      "num queries without idp bias: 1 workload size:  37\n",
      "num queries without idp bias: 1 workload size:  37\n",
      "num queries without idp bias: 1 workload size:  37\n",
      "num queries without idp bias: 2 workload size:  37\n",
      "num queries without idp bias: 3 workload size:  37\n",
      "num queries without idp bias: 4 workload size:  37\n",
      "num queries without idp bias: 5 workload size:  37\n",
      "num queries without idp bias: 6 workload size:  37\n",
      "num queries without idp bias: 7 workload size:  37\n",
      "num queries without idp bias: 8 workload size:  37\n",
      "num queries without idp bias: 9 workload size:  37\n",
      "num queries without idp bias: 10 workload size:  37\n",
      "num queries without idp bias: 11 workload size:  37\n",
      "num queries without idp bias: 12 workload size:  37\n",
      "num queries without idp bias: 12 workload size:  37\n",
      "num queries without idp bias: 12 workload size:  37\n",
      "num queries without idp bias: 12 workload size:  37\n",
      "num queries without idp bias: 12 workload size:  37\n",
      "num queries without idp bias: 12 workload size:  37\n",
      "num queries without idp bias: 12 workload size:  37\n",
      "num queries without idp bias: 12 workload size:  37\n",
      "num queries without idp bias: 12 workload size:  37\n",
      "num queries without idp bias: 12 workload size:  37\n",
      "num queries without idp bias: 12 workload size:  37\n",
      "num queries without idp bias: 12 workload size:  37\n",
      "num queries without idp bias: 12 workload size:  37\n",
      "num queries without idp bias: 12 workload size:  37\n",
      "num queries without idp bias: 12 workload size:  37\n",
      "num queries without idp bias: 12 workload size:  37\n",
      "num queries without idp bias: 12 workload size:  37\n",
      "num queries without idp bias: 12 workload size:  37\n",
      "num queries without idp bias: 12 workload size:  37\n",
      "num queries without idp bias: 12 workload size:  37\n",
      "num queries without idp bias: 12 workload size:  37\n",
      "num queries without idp bias: 12 workload size:  37\n",
      "num queries without idp bias: 0 workload size:  37\n",
      "num queries without idp bias: 0 workload size:  37\n",
      "num queries without idp bias: 0 workload size:  37\n",
      "num queries without idp bias: 1 workload size:  37\n",
      "num queries without idp bias: 2 workload size:  37\n",
      "num queries without idp bias: 3 workload size:  37\n",
      "num queries without idp bias: 4 workload size:  37\n",
      "num queries without idp bias: 5 workload size:  37\n",
      "num queries without idp bias: 6 workload size:  37\n",
      "num queries without idp bias: 7 workload size:  37\n",
      "num queries without idp bias: 8 workload size:  37\n",
      "num queries without idp bias: 9 workload size:  37\n",
      "num queries without idp bias: 10 workload size:  37\n",
      "num queries without idp bias: 11 workload size:  37\n",
      "num queries without idp bias: 12 workload size:  37\n",
      "num queries without idp bias: 13 workload size:  37\n",
      "num queries without idp bias: 13 workload size:  37\n",
      "num queries without idp bias: 13 workload size:  37\n",
      "num queries without idp bias: 14 workload size:  37\n",
      "num queries without idp bias: 14 workload size:  37\n",
      "num queries without idp bias: 14 workload size:  37\n",
      "num queries without idp bias: 14 workload size:  37\n",
      "num queries without idp bias: 14 workload size:  37\n",
      "num queries without idp bias: 15 workload size:  37\n",
      "num queries without idp bias: 15 workload size:  37\n",
      "num queries without idp bias: 15 workload size:  37\n",
      "num queries without idp bias: 15 workload size:  37\n",
      "num queries without idp bias: 15 workload size:  37\n",
      "num queries without idp bias: 15 workload size:  37\n",
      "num queries without idp bias: 15 workload size:  37\n",
      "num queries without idp bias: 15 workload size:  37\n",
      "num queries without idp bias: 15 workload size:  37\n",
      "num queries without idp bias: 15 workload size:  37\n",
      "num queries without idp bias: 15 workload size:  37\n",
      "num queries without idp bias: 15 workload size:  37\n",
      "num queries without idp bias: 15 workload size:  37\n",
      "num queries without idp bias: 15 workload size:  37\n",
      "num queries without idp bias: 1 workload size:  34\n",
      "num queries without idp bias: 2 workload size:  34\n",
      "num queries without idp bias: 3 workload size:  34\n",
      "num queries without idp bias: 4 workload size:  34\n",
      "num queries without idp bias: 5 workload size:  34\n",
      "num queries without idp bias: 6 workload size:  34\n",
      "num queries without idp bias: 7 workload size:  34\n",
      "num queries without idp bias: 8 workload size:  34\n",
      "num queries without idp bias: 9 workload size:  34\n",
      "num queries without idp bias: 9 workload size:  34\n",
      "num queries without idp bias: 10 workload size:  34\n",
      "num queries without idp bias: 11 workload size:  34\n",
      "num queries without idp bias: 12 workload size:  34\n",
      "num queries without idp bias: 13 workload size:  34\n",
      "num queries without idp bias: 13 workload size:  34\n",
      "num queries without idp bias: 14 workload size:  34\n",
      "num queries without idp bias: 15 workload size:  34\n",
      "num queries without idp bias: 15 workload size:  34\n",
      "num queries without idp bias: 16 workload size:  34\n",
      "num queries without idp bias: 17 workload size:  34\n",
      "num queries without idp bias: 18 workload size:  34\n",
      "num queries without idp bias: 18 workload size:  34\n",
      "num queries without idp bias: 19 workload size:  34\n",
      "num queries without idp bias: 20 workload size:  34\n",
      "num queries without idp bias: 21 workload size:  34\n",
      "num queries without idp bias: 22 workload size:  34\n",
      "num queries without idp bias: 23 workload size:  34\n",
      "num queries without idp bias: 24 workload size:  34\n",
      "num queries without idp bias: 25 workload size:  34\n",
      "num queries without idp bias: 26 workload size:  34\n",
      "num queries without idp bias: 27 workload size:  34\n",
      "num queries without idp bias: 28 workload size:  34\n",
      "num queries without idp bias: 28 workload size:  34\n",
      "num queries without idp bias: 28 workload size:  34\n",
      "num queries without idp bias: 0 workload size:  37\n",
      "num queries without idp bias: 0 workload size:  37\n",
      "num queries without idp bias: 0 workload size:  37\n",
      "num queries without idp bias: 0 workload size:  37\n",
      "num queries without idp bias: 1 workload size:  37\n",
      "num queries without idp bias: 2 workload size:  37\n",
      "num queries without idp bias: 3 workload size:  37\n",
      "num queries without idp bias: 4 workload size:  37\n",
      "num queries without idp bias: 4 workload size:  37\n",
      "num queries without idp bias: 5 workload size:  37\n",
      "num queries without idp bias: 6 workload size:  37\n",
      "num queries without idp bias: 7 workload size:  37\n",
      "num queries without idp bias: 7 workload size:  37\n",
      "num queries without idp bias: 8 workload size:  37\n",
      "num queries without idp bias: 8 workload size:  37\n",
      "num queries without idp bias: 8 workload size:  37\n",
      "num queries without idp bias: 8 workload size:  37\n",
      "num queries without idp bias: 8 workload size:  37\n",
      "num queries without idp bias: 8 workload size:  37\n",
      "num queries without idp bias: 8 workload size:  37\n",
      "num queries without idp bias: 8 workload size:  37\n",
      "num queries without idp bias: 9 workload size:  37\n",
      "num queries without idp bias: 9 workload size:  37\n",
      "num queries without idp bias: 9 workload size:  37\n",
      "num queries without idp bias: 9 workload size:  37\n",
      "num queries without idp bias: 9 workload size:  37\n",
      "num queries without idp bias: 9 workload size:  37\n",
      "num queries without idp bias: 9 workload size:  37\n",
      "num queries without idp bias: 9 workload size:  37\n",
      "num queries without idp bias: 9 workload size:  37\n",
      "num queries without idp bias: 9 workload size:  37\n",
      "num queries without idp bias: 9 workload size:  37\n",
      "num queries without idp bias: 9 workload size:  37\n",
      "num queries without idp bias: 9 workload size:  37\n",
      "num queries without idp bias: 9 workload size:  37\n",
      "num queries without idp bias: 9 workload size:  37\n",
      "num queries without idp bias: 9 workload size:  37\n",
      "num queries without idp bias: 0 workload size:  4\n",
      "num queries without idp bias: 0 workload size:  4\n",
      "num queries without idp bias: 1 workload size:  4\n",
      "num queries without idp bias: 1 workload size:  4\n",
      "num queries without idp bias: 1 workload size:  4\n",
      "num queries without idp bias: 2 workload size:  4\n",
      "num queries without idp bias: 3 workload size:  4\n",
      "num queries without idp bias: 4 workload size:  4\n",
      "num queries without idp bias: 1 workload size:  4\n",
      "num queries without idp bias: 2 workload size:  4\n",
      "num queries without idp bias: 3 workload size:  4\n",
      "num queries without idp bias: 4 workload size:  4\n",
      "num queries without idp bias: 1 workload size:  4\n",
      "num queries without idp bias: 2 workload size:  4\n",
      "num queries without idp bias: 3 workload size:  4\n",
      "num queries without idp bias: 4 workload size:  4\n",
      "num queries without idp bias: 1 workload size:  4\n",
      "num queries without idp bias: 2 workload size:  4\n",
      "num queries without idp bias: 3 workload size:  4\n",
      "num queries without idp bias: 4 workload size:  4\n",
      "num queries without idp bias: 0 workload size:  22\n",
      "num queries without idp bias: 0 workload size:  22\n",
      "num queries without idp bias: 1 workload size:  22\n",
      "num queries without idp bias: 1 workload size:  22\n",
      "num queries without idp bias: 1 workload size:  22\n",
      "num queries without idp bias: 1 workload size:  22\n",
      "num queries without idp bias: 1 workload size:  22\n",
      "num queries without idp bias: 1 workload size:  22\n",
      "num queries without idp bias: 1 workload size:  22\n",
      "num queries without idp bias: 1 workload size:  22\n",
      "num queries without idp bias: 1 workload size:  22\n",
      "num queries without idp bias: 1 workload size:  22\n",
      "num queries without idp bias: 1 workload size:  22\n",
      "num queries without idp bias: 1 workload size:  22\n",
      "num queries without idp bias: 1 workload size:  22\n",
      "num queries without idp bias: 1 workload size:  22\n",
      "num queries without idp bias: 1 workload size:  22\n",
      "num queries without idp bias: 1 workload size:  22\n",
      "num queries without idp bias: 1 workload size:  22\n",
      "num queries without idp bias: 1 workload size:  22\n",
      "num queries without idp bias: 1 workload size:  22\n",
      "num queries without idp bias: 1 workload size:  22\n",
      "num queries without idp bias: 1 workload size:  37\n",
      "num queries without idp bias: 1 workload size:  37\n",
      "num queries without idp bias: 1 workload size:  37\n",
      "num queries without idp bias: 1 workload size:  37\n",
      "num queries without idp bias: 1 workload size:  37\n",
      "num queries without idp bias: 2 workload size:  37\n",
      "num queries without idp bias: 3 workload size:  37\n",
      "num queries without idp bias: 4 workload size:  37\n",
      "num queries without idp bias: 5 workload size:  37\n",
      "num queries without idp bias: 6 workload size:  37\n",
      "num queries without idp bias: 7 workload size:  37\n",
      "num queries without idp bias: 8 workload size:  37\n",
      "num queries without idp bias: 9 workload size:  37\n",
      "num queries without idp bias: 10 workload size:  37\n",
      "num queries without idp bias: 11 workload size:  37\n",
      "num queries without idp bias: 12 workload size:  37\n",
      "num queries without idp bias: 12 workload size:  37\n",
      "num queries without idp bias: 12 workload size:  37\n",
      "num queries without idp bias: 12 workload size:  37\n",
      "num queries without idp bias: 12 workload size:  37\n",
      "num queries without idp bias: 12 workload size:  37\n",
      "num queries without idp bias: 12 workload size:  37\n",
      "num queries without idp bias: 12 workload size:  37\n",
      "num queries without idp bias: 12 workload size:  37\n",
      "num queries without idp bias: 12 workload size:  37\n",
      "num queries without idp bias: 12 workload size:  37\n",
      "num queries without idp bias: 12 workload size:  37\n",
      "num queries without idp bias: 12 workload size:  37\n",
      "num queries without idp bias: 12 workload size:  37\n",
      "num queries without idp bias: 12 workload size:  37\n",
      "num queries without idp bias: 12 workload size:  37\n",
      "num queries without idp bias: 12 workload size:  37\n",
      "num queries without idp bias: 12 workload size:  37\n",
      "num queries without idp bias: 12 workload size:  37\n",
      "num queries without idp bias: 12 workload size:  37\n",
      "num queries without idp bias: 12 workload size:  37\n",
      "num queries without idp bias: 12 workload size:  37\n",
      "num queries without idp bias: 0 workload size:  42\n",
      "num queries without idp bias: 0 workload size:  42\n",
      "num queries without idp bias: 0 workload size:  42\n",
      "num queries without idp bias: 1 workload size:  42\n",
      "num queries without idp bias: 2 workload size:  42\n",
      "num queries without idp bias: 3 workload size:  42\n",
      "num queries without idp bias: 4 workload size:  42\n",
      "num queries without idp bias: 5 workload size:  42\n",
      "num queries without idp bias: 6 workload size:  42\n",
      "num queries without idp bias: 7 workload size:  42\n",
      "num queries without idp bias: 8 workload size:  42\n",
      "num queries without idp bias: 9 workload size:  42\n",
      "num queries without idp bias: 10 workload size:  42\n",
      "num queries without idp bias: 11 workload size:  42\n",
      "num queries without idp bias: 12 workload size:  42\n",
      "num queries without idp bias: 13 workload size:  42\n",
      "num queries without idp bias: 13 workload size:  42\n",
      "num queries without idp bias: 13 workload size:  42\n",
      "num queries without idp bias: 14 workload size:  42\n",
      "num queries without idp bias: 14 workload size:  42\n",
      "num queries without idp bias: 14 workload size:  42\n",
      "num queries without idp bias: 14 workload size:  42\n",
      "num queries without idp bias: 14 workload size:  42\n",
      "num queries without idp bias: 15 workload size:  42\n",
      "num queries without idp bias: 15 workload size:  42\n",
      "num queries without idp bias: 15 workload size:  42\n",
      "num queries without idp bias: 15 workload size:  42\n",
      "num queries without idp bias: 15 workload size:  42\n",
      "num queries without idp bias: 15 workload size:  42\n",
      "num queries without idp bias: 15 workload size:  42\n",
      "num queries without idp bias: 15 workload size:  42\n",
      "num queries without idp bias: 15 workload size:  42\n",
      "num queries without idp bias: 15 workload size:  42\n",
      "num queries without idp bias: 15 workload size:  42\n",
      "num queries without idp bias: 15 workload size:  42\n",
      "num queries without idp bias: 15 workload size:  42\n",
      "num queries without idp bias: 15 workload size:  42\n",
      "num queries without idp bias: 15 workload size:  42\n",
      "num queries without idp bias: 15 workload size:  42\n",
      "num queries without idp bias: 15 workload size:  42\n",
      "num queries without idp bias: 15 workload size:  42\n",
      "num queries without idp bias: 15 workload size:  42\n",
      "num queries without idp bias: 0 workload size:  294\n",
      "num queries without idp bias: 0 workload size:  294\n",
      "num queries without idp bias: 0 workload size:  294\n",
      "num queries without idp bias: 0 workload size:  294\n",
      "num queries without idp bias: 0 workload size:  294\n",
      "num queries without idp bias: 0 workload size:  294\n",
      "num queries without idp bias: 0 workload size:  294\n",
      "num queries without idp bias: 0 workload size:  294\n",
      "num queries without idp bias: 0 workload size:  294\n",
      "num queries without idp bias: 0 workload size:  294\n",
      "num queries without idp bias: 0 workload size:  294\n",
      "num queries without idp bias: 0 workload size:  294\n",
      "num queries without idp bias: 0 workload size:  294\n",
      "num queries without idp bias: 0 workload size:  294\n",
      "num queries without idp bias: 0 workload size:  294\n",
      "num queries without idp bias: 0 workload size:  294\n",
      "num queries without idp bias: 0 workload size:  294\n",
      "num queries without idp bias: 0 workload size:  294\n",
      "num queries without idp bias: 0 workload size:  294\n",
      "num queries without idp bias: 0 workload size:  294\n",
      "num queries without idp bias: 0 workload size:  294\n",
      "num queries without idp bias: 0 workload size:  294\n",
      "num queries without idp bias: 0 workload size:  294\n",
      "num queries without idp bias: 0 workload size:  294\n",
      "num queries without idp bias: 0 workload size:  294\n",
      "num queries without idp bias: 0 workload size:  294\n",
      "num queries without idp bias: 0 workload size:  294\n",
      "num queries without idp bias: 0 workload size:  294\n",
      "num queries without idp bias: 0 workload size:  294\n",
      "num queries without idp bias: 0 workload size:  294\n",
      "num queries without idp bias: 0 workload size:  294\n",
      "num queries without idp bias: 0 workload size:  294\n",
      "num queries without idp bias: 0 workload size:  294\n",
      "num queries without idp bias: 0 workload size:  294\n",
      "num queries without idp bias: 0 workload size:  294\n",
      "num queries without idp bias: 0 workload size:  294\n",
      "num queries without idp bias: 0 workload size:  294\n",
      "num queries without idp bias: 0 workload size:  294\n",
      "num queries without idp bias: 0 workload size:  294\n",
      "num queries without idp bias: 0 workload size:  294\n",
      "num queries without idp bias: 0 workload size:  294\n",
      "num queries without idp bias: 0 workload size:  294\n",
      "num queries without idp bias: 0 workload size:  294\n",
      "num queries without idp bias: 0 workload size:  294\n",
      "num queries without idp bias: 0 workload size:  294\n",
      "num queries without idp bias: 0 workload size:  294\n",
      "num queries without idp bias: 0 workload size:  294\n",
      "num queries without idp bias: 0 workload size:  294\n",
      "num queries without idp bias: 0 workload size:  294\n",
      "num queries without idp bias: 0 workload size:  294\n",
      "num queries without idp bias: 0 workload size:  294\n",
      "num queries without idp bias: 0 workload size:  294\n",
      "num queries without idp bias: 0 workload size:  294\n",
      "num queries without idp bias: 0 workload size:  294\n",
      "num queries without idp bias: 0 workload size:  294\n",
      "num queries without idp bias: 0 workload size:  294\n",
      "num queries without idp bias: 0 workload size:  294\n",
      "num queries without idp bias: 0 workload size:  294\n",
      "num queries without idp bias: 0 workload size:  294\n",
      "num queries without idp bias: 0 workload size:  294\n",
      "num queries without idp bias: 0 workload size:  294\n",
      "num queries without idp bias: 0 workload size:  294\n",
      "num queries without idp bias: 0 workload size:  294\n",
      "num queries without idp bias: 0 workload size:  294\n",
      "num queries without idp bias: 0 workload size:  294\n",
      "num queries without idp bias: 0 workload size:  294\n",
      "num queries without idp bias: 0 workload size:  294\n",
      "num queries without idp bias: 0 workload size:  294\n",
      "num queries without idp bias: 0 workload size:  294\n",
      "num queries without idp bias: 0 workload size:  294\n",
      "num queries without idp bias: 0 workload size:  294\n",
      "num queries without idp bias: 0 workload size:  294\n",
      "num queries without idp bias: 0 workload size:  294\n",
      "num queries without idp bias: 0 workload size:  294\n",
      "num queries without idp bias: 0 workload size:  294\n",
      "num queries without idp bias: 0 workload size:  294\n",
      "num queries without idp bias: 0 workload size:  294\n",
      "num queries without idp bias: 0 workload size:  294\n",
      "num queries without idp bias: 0 workload size:  294\n",
      "num queries without idp bias: 1 workload size:  294\n",
      "num queries without idp bias: 2 workload size:  294\n",
      "num queries without idp bias: 3 workload size:  294\n",
      "num queries without idp bias: 4 workload size:  294\n",
      "num queries without idp bias: 5 workload size:  294\n",
      "num queries without idp bias: 6 workload size:  294\n",
      "num queries without idp bias: 7 workload size:  294\n",
      "num queries without idp bias: 8 workload size:  294\n",
      "num queries without idp bias: 9 workload size:  294\n",
      "num queries without idp bias: 9 workload size:  294\n",
      "num queries without idp bias: 10 workload size:  294\n",
      "num queries without idp bias: 11 workload size:  294\n",
      "num queries without idp bias: 12 workload size:  294\n",
      "num queries without idp bias: 13 workload size:  294\n",
      "num queries without idp bias: 13 workload size:  294\n",
      "num queries without idp bias: 14 workload size:  294\n",
      "num queries without idp bias: 15 workload size:  294\n",
      "num queries without idp bias: 15 workload size:  294\n",
      "num queries without idp bias: 16 workload size:  294\n",
      "num queries without idp bias: 17 workload size:  294\n",
      "num queries without idp bias: 18 workload size:  294\n",
      "num queries without idp bias: 18 workload size:  294\n",
      "num queries without idp bias: 19 workload size:  294\n",
      "num queries without idp bias: 20 workload size:  294\n",
      "num queries without idp bias: 21 workload size:  294\n",
      "num queries without idp bias: 22 workload size:  294\n",
      "num queries without idp bias: 23 workload size:  294\n",
      "num queries without idp bias: 24 workload size:  294\n",
      "num queries without idp bias: 25 workload size:  294\n",
      "num queries without idp bias: 26 workload size:  294\n",
      "num queries without idp bias: 27 workload size:  294\n",
      "num queries without idp bias: 28 workload size:  294\n",
      "num queries without idp bias: 28 workload size:  294\n",
      "num queries without idp bias: 28 workload size:  294\n",
      "num queries without idp bias: 29 workload size:  294\n",
      "num queries without idp bias: 29 workload size:  294\n",
      "num queries without idp bias: 30 workload size:  294\n",
      "num queries without idp bias: 30 workload size:  294\n",
      "num queries without idp bias: 31 workload size:  294\n",
      "num queries without idp bias: 31 workload size:  294\n",
      "num queries without idp bias: 32 workload size:  294\n",
      "num queries without idp bias: 32 workload size:  294\n",
      "num queries without idp bias: 33 workload size:  294\n",
      "num queries without idp bias: 33 workload size:  294\n",
      "num queries without idp bias: 34 workload size:  294\n",
      "num queries without idp bias: 35 workload size:  294\n",
      "num queries without idp bias: 35 workload size:  294\n",
      "num queries without idp bias: 35 workload size:  294\n",
      "num queries without idp bias: 35 workload size:  294\n",
      "num queries without idp bias: 36 workload size:  294\n",
      "num queries without idp bias: 37 workload size:  294\n",
      "num queries without idp bias: 37 workload size:  294\n",
      "num queries without idp bias: 38 workload size:  294\n",
      "num queries without idp bias: 39 workload size:  294\n",
      "num queries without idp bias: 40 workload size:  294\n",
      "num queries without idp bias: 41 workload size:  294\n",
      "num queries without idp bias: 42 workload size:  294\n",
      "num queries without idp bias: 43 workload size:  294\n",
      "num queries without idp bias: 44 workload size:  294\n",
      "num queries without idp bias: 44 workload size:  294\n",
      "num queries without idp bias: 45 workload size:  294\n",
      "num queries without idp bias: 45 workload size:  294\n",
      "num queries without idp bias: 46 workload size:  294\n",
      "num queries without idp bias: 46 workload size:  294\n",
      "num queries without idp bias: 47 workload size:  294\n",
      "num queries without idp bias: 47 workload size:  294\n",
      "num queries without idp bias: 48 workload size:  294\n",
      "num queries without idp bias: 48 workload size:  294\n",
      "num queries without idp bias: 48 workload size:  294\n",
      "num queries without idp bias: 49 workload size:  294\n",
      "num queries without idp bias: 50 workload size:  294\n",
      "num queries without idp bias: 50 workload size:  294\n",
      "num queries without idp bias: 50 workload size:  294\n",
      "num queries without idp bias: 50 workload size:  294\n",
      "num queries without idp bias: 50 workload size:  294\n",
      "num queries without idp bias: 51 workload size:  294\n",
      "num queries without idp bias: 51 workload size:  294\n",
      "num queries without idp bias: 51 workload size:  294\n",
      "num queries without idp bias: 51 workload size:  294\n",
      "num queries without idp bias: 52 workload size:  294\n",
      "num queries without idp bias: 52 workload size:  294\n",
      "num queries without idp bias: 52 workload size:  294\n",
      "num queries without idp bias: 52 workload size:  294\n",
      "num queries without idp bias: 52 workload size:  294\n",
      "num queries without idp bias: 52 workload size:  294\n",
      "num queries without idp bias: 52 workload size:  294\n",
      "num queries without idp bias: 52 workload size:  294\n",
      "num queries without idp bias: 52 workload size:  294\n",
      "num queries without idp bias: 52 workload size:  294\n",
      "num queries without idp bias: 52 workload size:  294\n",
      "num queries without idp bias: 52 workload size:  294\n",
      "num queries without idp bias: 52 workload size:  294\n",
      "num queries without idp bias: 52 workload size:  294\n",
      "num queries without idp bias: 52 workload size:  294\n",
      "num queries without idp bias: 52 workload size:  294\n",
      "num queries without idp bias: 52 workload size:  294\n",
      "num queries without idp bias: 52 workload size:  294\n",
      "num queries without idp bias: 52 workload size:  294\n",
      "num queries without idp bias: 52 workload size:  294\n",
      "num queries without idp bias: 52 workload size:  294\n",
      "num queries without idp bias: 52 workload size:  294\n",
      "num queries without idp bias: 52 workload size:  294\n",
      "num queries without idp bias: 52 workload size:  294\n",
      "num queries without idp bias: 52 workload size:  294\n",
      "num queries without idp bias: 52 workload size:  294\n",
      "num queries without idp bias: 52 workload size:  294\n",
      "num queries without idp bias: 52 workload size:  294\n",
      "num queries without idp bias: 52 workload size:  294\n",
      "num queries without idp bias: 52 workload size:  294\n",
      "num queries without idp bias: 52 workload size:  294\n",
      "num queries without idp bias: 52 workload size:  294\n",
      "num queries without idp bias: 52 workload size:  294\n",
      "num queries without idp bias: 52 workload size:  294\n",
      "num queries without idp bias: 52 workload size:  294\n",
      "num queries without idp bias: 52 workload size:  294\n",
      "num queries without idp bias: 52 workload size:  294\n",
      "num queries without idp bias: 52 workload size:  294\n",
      "num queries without idp bias: 52 workload size:  294\n",
      "num queries without idp bias: 52 workload size:  294\n",
      "num queries without idp bias: 52 workload size:  294\n",
      "num queries without idp bias: 52 workload size:  294\n",
      "num queries without idp bias: 52 workload size:  294\n",
      "num queries without idp bias: 52 workload size:  294\n",
      "num queries without idp bias: 52 workload size:  294\n",
      "num queries without idp bias: 52 workload size:  294\n",
      "num queries without idp bias: 52 workload size:  294\n",
      "num queries without idp bias: 52 workload size:  294\n",
      "num queries without idp bias: 52 workload size:  294\n",
      "num queries without idp bias: 52 workload size:  294\n",
      "num queries without idp bias: 52 workload size:  294\n",
      "num queries without idp bias: 52 workload size:  294\n",
      "num queries without idp bias: 52 workload size:  294\n",
      "num queries without idp bias: 52 workload size:  294\n",
      "num queries without idp bias: 52 workload size:  294\n",
      "num queries without idp bias: 52 workload size:  294\n",
      "num queries without idp bias: 52 workload size:  294\n",
      "num queries without idp bias: 52 workload size:  294\n",
      "num queries without idp bias: 52 workload size:  294\n",
      "num queries without idp bias: 52 workload size:  294\n",
      "num queries without idp bias: 52 workload size:  294\n",
      "num queries without idp bias: 52 workload size:  294\n",
      "num queries without idp bias: 52 workload size:  294\n",
      "num queries without idp bias: 52 workload size:  294\n",
      "num queries without idp bias: 52 workload size:  294\n",
      "num queries without idp bias: 52 workload size:  294\n",
      "num queries without idp bias: 52 workload size:  294\n",
      "num queries without idp bias: 52 workload size:  294\n",
      "num queries without idp bias: 52 workload size:  294\n",
      "num queries without idp bias: 52 workload size:  294\n",
      "num queries without idp bias: 52 workload size:  294\n",
      "num queries without idp bias: 52 workload size:  294\n",
      "num queries without idp bias: 52 workload size:  294\n",
      "num queries without idp bias: 52 workload size:  294\n",
      "num queries without idp bias: 52 workload size:  294\n",
      "num queries without idp bias: 52 workload size:  294\n",
      "num queries without idp bias: 52 workload size:  294\n",
      "num queries without idp bias: 52 workload size:  294\n",
      "num queries without idp bias: 52 workload size:  294\n",
      "num queries without idp bias: 52 workload size:  294\n",
      "num queries without idp bias: 52 workload size:  294\n",
      "num queries without idp bias: 52 workload size:  294\n",
      "num queries without idp bias: 52 workload size:  294\n",
      "num queries without idp bias: 52 workload size:  294\n",
      "num queries without idp bias: 52 workload size:  294\n",
      "num queries without idp bias: 52 workload size:  294\n",
      "num queries without idp bias: 52 workload size:  294\n",
      "num queries without idp bias: 52 workload size:  294\n",
      "num queries without idp bias: 52 workload size:  294\n",
      "num queries without idp bias: 52 workload size:  294\n",
      "num queries without idp bias: 52 workload size:  294\n",
      "num queries without idp bias: 52 workload size:  294\n",
      "num queries without idp bias: 52 workload size:  294\n",
      "num queries without idp bias: 52 workload size:  294\n",
      "num queries without idp bias: 52 workload size:  294\n",
      "num queries without idp bias: 52 workload size:  294\n",
      "num queries without idp bias: 52 workload size:  294\n",
      "num queries without idp bias: 52 workload size:  294\n",
      "num queries without idp bias: 52 workload size:  294\n",
      "num queries without idp bias: 52 workload size:  294\n",
      "num queries without idp bias: 52 workload size:  294\n",
      "num queries without idp bias: 52 workload size:  294\n",
      "num queries without idp bias: 52 workload size:  294\n",
      "num queries without idp bias: 52 workload size:  294\n",
      "num queries without idp bias: 52 workload size:  294\n",
      "num queries without idp bias: 52 workload size:  294\n",
      "num queries without idp bias: 52 workload size:  294\n",
      "num queries without idp bias: 52 workload size:  294\n",
      "num queries without idp bias: 52 workload size:  294\n",
      "num queries without idp bias: 52 workload size:  294\n",
      "num queries without idp bias: 52 workload size:  294\n",
      "num queries without idp bias: 52 workload size:  294\n",
      "num queries without idp bias: 52 workload size:  294\n",
      "num queries without idp bias: 52 workload size:  294\n",
      "num queries without idp bias: 52 workload size:  294\n",
      "num queries without idp bias: 52 workload size:  294\n",
      "num queries without idp bias: 52 workload size:  294\n",
      "num queries without idp bias: 52 workload size:  294\n",
      "num queries without idp bias: 52 workload size:  294\n",
      "num queries without idp bias: 52 workload size:  294\n",
      "num queries without idp bias: 52 workload size:  294\n",
      "num queries without idp bias: 52 workload size:  294\n",
      "num queries without idp bias: 52 workload size:  294\n",
      "num queries without idp bias: 52 workload size:  294\n",
      "num queries without idp bias: 52 workload size:  294\n",
      "num queries without idp bias: 52 workload size:  294\n",
      "num queries without idp bias: 52 workload size:  294\n",
      "num queries without idp bias: 52 workload size:  294\n",
      "num queries without idp bias: 52 workload size:  294\n",
      "num queries without idp bias: 52 workload size:  294\n",
      "num queries without idp bias: 52 workload size:  294\n",
      "num queries without idp bias: 52 workload size:  294\n",
      "num queries without idp bias: 52 workload size:  294\n",
      "num queries without idp bias: 52 workload size:  294\n",
      "num queries without idp bias: 52 workload size:  294\n",
      "num queries without idp bias: 52 workload size:  294\n",
      "num queries without idp bias: 0 workload size:  47\n",
      "num queries without idp bias: 0 workload size:  47\n",
      "num queries without idp bias: 0 workload size:  47\n",
      "num queries without idp bias: 0 workload size:  47\n",
      "num queries without idp bias: 1 workload size:  47\n",
      "num queries without idp bias: 2 workload size:  47\n",
      "num queries without idp bias: 3 workload size:  47\n",
      "num queries without idp bias: 4 workload size:  47\n",
      "num queries without idp bias: 4 workload size:  47\n",
      "num queries without idp bias: 5 workload size:  47\n",
      "num queries without idp bias: 6 workload size:  47\n",
      "num queries without idp bias: 7 workload size:  47\n",
      "num queries without idp bias: 7 workload size:  47\n",
      "num queries without idp bias: 8 workload size:  47\n",
      "num queries without idp bias: 8 workload size:  47\n",
      "num queries without idp bias: 8 workload size:  47\n",
      "num queries without idp bias: 8 workload size:  47\n",
      "num queries without idp bias: 8 workload size:  47\n",
      "num queries without idp bias: 8 workload size:  47\n",
      "num queries without idp bias: 8 workload size:  47\n",
      "num queries without idp bias: 8 workload size:  47\n",
      "num queries without idp bias: 9 workload size:  47\n",
      "num queries without idp bias: 9 workload size:  47\n",
      "num queries without idp bias: 9 workload size:  47\n",
      "num queries without idp bias: 9 workload size:  47\n",
      "num queries without idp bias: 9 workload size:  47\n",
      "num queries without idp bias: 9 workload size:  47\n",
      "num queries without idp bias: 9 workload size:  47\n",
      "num queries without idp bias: 9 workload size:  47\n",
      "num queries without idp bias: 9 workload size:  47\n",
      "num queries without idp bias: 9 workload size:  47\n",
      "num queries without idp bias: 9 workload size:  47\n",
      "num queries without idp bias: 9 workload size:  47\n",
      "num queries without idp bias: 9 workload size:  47\n",
      "num queries without idp bias: 9 workload size:  47\n",
      "num queries without idp bias: 9 workload size:  47\n",
      "num queries without idp bias: 9 workload size:  47\n",
      "num queries without idp bias: 9 workload size:  47\n",
      "num queries without idp bias: 9 workload size:  47\n",
      "num queries without idp bias: 9 workload size:  47\n",
      "num queries without idp bias: 9 workload size:  47\n",
      "num queries without idp bias: 9 workload size:  47\n",
      "num queries without idp bias: 9 workload size:  47\n",
      "num queries without idp bias: 9 workload size:  47\n",
      "num queries without idp bias: 9 workload size:  47\n",
      "num queries without idp bias: 9 workload size:  47\n",
      "num queries without idp bias: 9 workload size:  47\n",
      "num queries without idp bias: 0 workload size:  9\n",
      "num queries without idp bias: 0 workload size:  9\n",
      "num queries without idp bias: 1 workload size:  9\n",
      "num queries without idp bias: 1 workload size:  9\n",
      "num queries without idp bias: 1 workload size:  9\n",
      "num queries without idp bias: 1 workload size:  9\n",
      "num queries without idp bias: 1 workload size:  9\n",
      "num queries without idp bias: 1 workload size:  9\n",
      "num queries without idp bias: 1 workload size:  9\n",
      "num queries without idp bias: 1 workload size:  10\n",
      "num queries without idp bias: 2 workload size:  10\n",
      "num queries without idp bias: 3 workload size:  10\n",
      "num queries without idp bias: 4 workload size:  10\n",
      "num queries without idp bias: 5 workload size:  10\n",
      "num queries without idp bias: 6 workload size:  10\n",
      "num queries without idp bias: 7 workload size:  10\n",
      "num queries without idp bias: 8 workload size:  10\n",
      "num queries without idp bias: 9 workload size:  10\n",
      "num queries without idp bias: 10 workload size:  10\n",
      "num queries without idp bias: 1 workload size:  9\n",
      "num queries without idp bias: 2 workload size:  9\n",
      "num queries without idp bias: 3 workload size:  9\n",
      "num queries without idp bias: 4 workload size:  9\n",
      "num queries without idp bias: 5 workload size:  9\n",
      "num queries without idp bias: 6 workload size:  9\n",
      "num queries without idp bias: 7 workload size:  9\n",
      "num queries without idp bias: 8 workload size:  9\n",
      "num queries without idp bias: 9 workload size:  9\n",
      "num queries without idp bias: 1 workload size:  9\n",
      "num queries without idp bias: 2 workload size:  9\n",
      "num queries without idp bias: 3 workload size:  9\n",
      "num queries without idp bias: 4 workload size:  9\n",
      "num queries without idp bias: 5 workload size:  9\n",
      "num queries without idp bias: 6 workload size:  9\n",
      "num queries without idp bias: 7 workload size:  9\n",
      "num queries without idp bias: 8 workload size:  9\n",
      "num queries without idp bias: 9 workload size:  9\n",
      "num queries without idp bias: 0 workload size:  10\n",
      "num queries without idp bias: 1 workload size:  10\n",
      "num queries without idp bias: 2 workload size:  10\n",
      "num queries without idp bias: 3 workload size:  10\n",
      "num queries without idp bias: 4 workload size:  10\n",
      "num queries without idp bias: 4 workload size:  10\n",
      "num queries without idp bias: 5 workload size:  10\n",
      "num queries without idp bias: 6 workload size:  10\n",
      "num queries without idp bias: 7 workload size:  10\n",
      "num queries without idp bias: 7 workload size:  10\n",
      "num queries without idp bias: 0 workload size:  22\n",
      "num queries without idp bias: 0 workload size:  22\n",
      "num queries without idp bias: 1 workload size:  22\n",
      "num queries without idp bias: 1 workload size:  22\n",
      "num queries without idp bias: 1 workload size:  22\n",
      "num queries without idp bias: 1 workload size:  22\n",
      "num queries without idp bias: 1 workload size:  22\n",
      "num queries without idp bias: 1 workload size:  22\n",
      "num queries without idp bias: 1 workload size:  22\n",
      "num queries without idp bias: 1 workload size:  22\n",
      "num queries without idp bias: 1 workload size:  22\n",
      "num queries without idp bias: 1 workload size:  22\n",
      "num queries without idp bias: 1 workload size:  22\n",
      "num queries without idp bias: 1 workload size:  22\n",
      "num queries without idp bias: 1 workload size:  22\n",
      "num queries without idp bias: 1 workload size:  22\n",
      "num queries without idp bias: 1 workload size:  22\n",
      "num queries without idp bias: 1 workload size:  22\n",
      "num queries without idp bias: 1 workload size:  22\n",
      "num queries without idp bias: 1 workload size:  22\n",
      "num queries without idp bias: 1 workload size:  22\n",
      "num queries without idp bias: 1 workload size:  22\n",
      "num queries without idp bias: 1 workload size:  34\n",
      "num queries without idp bias: 1 workload size:  34\n",
      "num queries without idp bias: 1 workload size:  34\n",
      "num queries without idp bias: 1 workload size:  34\n",
      "num queries without idp bias: 1 workload size:  34\n",
      "num queries without idp bias: 2 workload size:  34\n",
      "num queries without idp bias: 3 workload size:  34\n",
      "num queries without idp bias: 4 workload size:  34\n",
      "num queries without idp bias: 5 workload size:  34\n",
      "num queries without idp bias: 6 workload size:  34\n",
      "num queries without idp bias: 7 workload size:  34\n",
      "num queries without idp bias: 8 workload size:  34\n",
      "num queries without idp bias: 9 workload size:  34\n",
      "num queries without idp bias: 10 workload size:  34\n",
      "num queries without idp bias: 11 workload size:  34\n",
      "num queries without idp bias: 12 workload size:  34\n",
      "num queries without idp bias: 12 workload size:  34\n",
      "num queries without idp bias: 12 workload size:  34\n",
      "num queries without idp bias: 12 workload size:  34\n",
      "num queries without idp bias: 12 workload size:  34\n",
      "num queries without idp bias: 12 workload size:  34\n",
      "num queries without idp bias: 12 workload size:  34\n",
      "num queries without idp bias: 12 workload size:  34\n",
      "num queries without idp bias: 12 workload size:  34\n",
      "num queries without idp bias: 12 workload size:  34\n",
      "num queries without idp bias: 12 workload size:  34\n",
      "num queries without idp bias: 12 workload size:  34\n",
      "num queries without idp bias: 12 workload size:  34\n",
      "num queries without idp bias: 12 workload size:  34\n",
      "num queries without idp bias: 12 workload size:  34\n",
      "num queries without idp bias: 12 workload size:  34\n",
      "num queries without idp bias: 12 workload size:  34\n",
      "num queries without idp bias: 12 workload size:  34\n",
      "num queries without idp bias: 12 workload size:  34\n",
      "num queries without idp bias: 0 workload size:  32\n",
      "num queries without idp bias: 0 workload size:  32\n",
      "num queries without idp bias: 0 workload size:  32\n",
      "num queries without idp bias: 1 workload size:  32\n",
      "num queries without idp bias: 2 workload size:  32\n",
      "num queries without idp bias: 3 workload size:  32\n",
      "num queries without idp bias: 4 workload size:  32\n",
      "num queries without idp bias: 5 workload size:  32\n",
      "num queries without idp bias: 6 workload size:  32\n",
      "num queries without idp bias: 7 workload size:  32\n",
      "num queries without idp bias: 8 workload size:  32\n",
      "num queries without idp bias: 9 workload size:  32\n",
      "num queries without idp bias: 10 workload size:  32\n",
      "num queries without idp bias: 11 workload size:  32\n",
      "num queries without idp bias: 12 workload size:  32\n",
      "num queries without idp bias: 13 workload size:  32\n",
      "num queries without idp bias: 13 workload size:  32\n",
      "num queries without idp bias: 13 workload size:  32\n",
      "num queries without idp bias: 14 workload size:  32\n",
      "num queries without idp bias: 14 workload size:  32\n",
      "num queries without idp bias: 14 workload size:  32\n",
      "num queries without idp bias: 14 workload size:  32\n",
      "num queries without idp bias: 14 workload size:  32\n",
      "num queries without idp bias: 15 workload size:  32\n",
      "num queries without idp bias: 15 workload size:  32\n",
      "num queries without idp bias: 15 workload size:  32\n",
      "num queries without idp bias: 15 workload size:  32\n",
      "num queries without idp bias: 15 workload size:  32\n",
      "num queries without idp bias: 15 workload size:  32\n",
      "num queries without idp bias: 15 workload size:  32\n",
      "num queries without idp bias: 15 workload size:  32\n",
      "num queries without idp bias: 15 workload size:  32\n",
      "num queries without idp bias: 1 workload size:  29\n",
      "num queries without idp bias: 2 workload size:  29\n",
      "num queries without idp bias: 3 workload size:  29\n",
      "num queries without idp bias: 4 workload size:  29\n",
      "num queries without idp bias: 5 workload size:  29\n",
      "num queries without idp bias: 6 workload size:  29\n",
      "num queries without idp bias: 7 workload size:  29\n",
      "num queries without idp bias: 8 workload size:  29\n",
      "num queries without idp bias: 9 workload size:  29\n",
      "num queries without idp bias: 9 workload size:  29\n",
      "num queries without idp bias: 10 workload size:  29\n",
      "num queries without idp bias: 11 workload size:  29\n",
      "num queries without idp bias: 12 workload size:  29\n",
      "num queries without idp bias: 13 workload size:  29\n",
      "num queries without idp bias: 13 workload size:  29\n",
      "num queries without idp bias: 14 workload size:  29\n",
      "num queries without idp bias: 15 workload size:  29\n",
      "num queries without idp bias: 15 workload size:  29\n",
      "num queries without idp bias: 16 workload size:  29\n",
      "num queries without idp bias: 17 workload size:  29\n",
      "num queries without idp bias: 18 workload size:  29\n",
      "num queries without idp bias: 18 workload size:  29\n",
      "num queries without idp bias: 19 workload size:  29\n",
      "num queries without idp bias: 20 workload size:  29\n",
      "num queries without idp bias: 21 workload size:  29\n",
      "num queries without idp bias: 22 workload size:  29\n",
      "num queries without idp bias: 23 workload size:  29\n",
      "num queries without idp bias: 24 workload size:  29\n",
      "num queries without idp bias: 25 workload size:  29\n",
      "num queries without idp bias: 0 workload size:  32\n",
      "num queries without idp bias: 0 workload size:  32\n",
      "num queries without idp bias: 0 workload size:  32\n",
      "num queries without idp bias: 0 workload size:  32\n",
      "num queries without idp bias: 1 workload size:  32\n",
      "num queries without idp bias: 2 workload size:  32\n",
      "num queries without idp bias: 3 workload size:  32\n",
      "num queries without idp bias: 4 workload size:  32\n",
      "num queries without idp bias: 4 workload size:  32\n",
      "num queries without idp bias: 5 workload size:  32\n",
      "num queries without idp bias: 6 workload size:  32\n",
      "num queries without idp bias: 7 workload size:  32\n",
      "num queries without idp bias: 7 workload size:  32\n",
      "num queries without idp bias: 8 workload size:  32\n",
      "num queries without idp bias: 8 workload size:  32\n",
      "num queries without idp bias: 8 workload size:  32\n",
      "num queries without idp bias: 8 workload size:  32\n",
      "num queries without idp bias: 8 workload size:  32\n",
      "num queries without idp bias: 8 workload size:  32\n",
      "num queries without idp bias: 8 workload size:  32\n",
      "num queries without idp bias: 8 workload size:  32\n",
      "num queries without idp bias: 9 workload size:  32\n",
      "num queries without idp bias: 9 workload size:  32\n",
      "num queries without idp bias: 9 workload size:  32\n",
      "num queries without idp bias: 9 workload size:  32\n",
      "num queries without idp bias: 9 workload size:  32\n",
      "num queries without idp bias: 9 workload size:  32\n",
      "num queries without idp bias: 9 workload size:  32\n",
      "num queries without idp bias: 9 workload size:  32\n",
      "num queries without idp bias: 9 workload size:  32\n",
      "num queries without idp bias: 9 workload size:  32\n",
      "num queries without idp bias: 9 workload size:  32\n",
      "num queries without idp bias: 0 workload size:  22\n",
      "num queries without idp bias: 0 workload size:  22\n",
      "num queries without idp bias: 1 workload size:  22\n",
      "num queries without idp bias: 1 workload size:  22\n",
      "num queries without idp bias: 1 workload size:  22\n",
      "num queries without idp bias: 1 workload size:  22\n",
      "num queries without idp bias: 1 workload size:  22\n",
      "num queries without idp bias: 1 workload size:  22\n",
      "num queries without idp bias: 1 workload size:  22\n",
      "num queries without idp bias: 1 workload size:  22\n",
      "num queries without idp bias: 1 workload size:  22\n",
      "num queries without idp bias: 1 workload size:  22\n",
      "num queries without idp bias: 1 workload size:  22\n",
      "num queries without idp bias: 1 workload size:  22\n",
      "num queries without idp bias: 1 workload size:  22\n",
      "num queries without idp bias: 1 workload size:  22\n",
      "num queries without idp bias: 1 workload size:  22\n",
      "num queries without idp bias: 1 workload size:  22\n",
      "num queries without idp bias: 1 workload size:  22\n",
      "num queries without idp bias: 1 workload size:  22\n",
      "num queries without idp bias: 1 workload size:  22\n",
      "num queries without idp bias: 1 workload size:  22\n",
      "num queries without idp bias: 1 workload size:  37\n",
      "num queries without idp bias: 1 workload size:  37\n",
      "num queries without idp bias: 1 workload size:  37\n",
      "num queries without idp bias: 1 workload size:  37\n",
      "num queries without idp bias: 1 workload size:  37\n",
      "num queries without idp bias: 2 workload size:  37\n",
      "num queries without idp bias: 3 workload size:  37\n",
      "num queries without idp bias: 4 workload size:  37\n",
      "num queries without idp bias: 5 workload size:  37\n",
      "num queries without idp bias: 6 workload size:  37\n",
      "num queries without idp bias: 7 workload size:  37\n",
      "num queries without idp bias: 8 workload size:  37\n",
      "num queries without idp bias: 9 workload size:  37\n",
      "num queries without idp bias: 10 workload size:  37\n",
      "num queries without idp bias: 11 workload size:  37\n",
      "num queries without idp bias: 12 workload size:  37\n",
      "num queries without idp bias: 12 workload size:  37\n",
      "num queries without idp bias: 12 workload size:  37\n",
      "num queries without idp bias: 12 workload size:  37\n",
      "num queries without idp bias: 12 workload size:  37\n",
      "num queries without idp bias: 12 workload size:  37\n",
      "num queries without idp bias: 12 workload size:  37\n",
      "num queries without idp bias: 12 workload size:  37\n",
      "num queries without idp bias: 12 workload size:  37\n",
      "num queries without idp bias: 12 workload size:  37\n",
      "num queries without idp bias: 12 workload size:  37\n",
      "num queries without idp bias: 12 workload size:  37\n",
      "num queries without idp bias: 12 workload size:  37\n",
      "num queries without idp bias: 12 workload size:  37\n",
      "num queries without idp bias: 12 workload size:  37\n",
      "num queries without idp bias: 12 workload size:  37\n",
      "num queries without idp bias: 12 workload size:  37\n",
      "num queries without idp bias: 12 workload size:  37\n",
      "num queries without idp bias: 12 workload size:  37\n",
      "num queries without idp bias: 12 workload size:  37\n",
      "num queries without idp bias: 12 workload size:  37\n",
      "num queries without idp bias: 12 workload size:  37\n",
      "num queries without idp bias: 0 workload size:  42\n",
      "num queries without idp bias: 0 workload size:  42\n",
      "num queries without idp bias: 0 workload size:  42\n",
      "num queries without idp bias: 1 workload size:  42\n",
      "num queries without idp bias: 2 workload size:  42\n",
      "num queries without idp bias: 3 workload size:  42\n",
      "num queries without idp bias: 4 workload size:  42\n",
      "num queries without idp bias: 5 workload size:  42\n",
      "num queries without idp bias: 6 workload size:  42\n",
      "num queries without idp bias: 7 workload size:  42\n",
      "num queries without idp bias: 8 workload size:  42\n",
      "num queries without idp bias: 9 workload size:  42\n",
      "num queries without idp bias: 10 workload size:  42\n",
      "num queries without idp bias: 11 workload size:  42\n",
      "num queries without idp bias: 12 workload size:  42\n",
      "num queries without idp bias: 13 workload size:  42\n",
      "num queries without idp bias: 13 workload size:  42\n",
      "num queries without idp bias: 13 workload size:  42\n",
      "num queries without idp bias: 14 workload size:  42\n",
      "num queries without idp bias: 14 workload size:  42\n",
      "num queries without idp bias: 14 workload size:  42\n",
      "num queries without idp bias: 14 workload size:  42\n",
      "num queries without idp bias: 14 workload size:  42\n",
      "num queries without idp bias: 15 workload size:  42\n",
      "num queries without idp bias: 15 workload size:  42\n",
      "num queries without idp bias: 15 workload size:  42\n",
      "num queries without idp bias: 15 workload size:  42\n",
      "num queries without idp bias: 15 workload size:  42\n",
      "num queries without idp bias: 15 workload size:  42\n",
      "num queries without idp bias: 15 workload size:  42\n",
      "num queries without idp bias: 15 workload size:  42\n",
      "num queries without idp bias: 15 workload size:  42\n",
      "num queries without idp bias: 15 workload size:  42\n",
      "num queries without idp bias: 15 workload size:  42\n",
      "num queries without idp bias: 15 workload size:  42\n",
      "num queries without idp bias: 15 workload size:  42\n",
      "num queries without idp bias: 15 workload size:  42\n",
      "num queries without idp bias: 15 workload size:  42\n",
      "num queries without idp bias: 15 workload size:  42\n",
      "num queries without idp bias: 15 workload size:  42\n",
      "num queries without idp bias: 15 workload size:  42\n",
      "num queries without idp bias: 15 workload size:  42\n",
      "num queries without idp bias: 1 workload size:  44\n",
      "num queries without idp bias: 2 workload size:  44\n",
      "num queries without idp bias: 3 workload size:  44\n",
      "num queries without idp bias: 4 workload size:  44\n",
      "num queries without idp bias: 5 workload size:  44\n",
      "num queries without idp bias: 6 workload size:  44\n",
      "num queries without idp bias: 7 workload size:  44\n",
      "num queries without idp bias: 8 workload size:  44\n",
      "num queries without idp bias: 9 workload size:  44\n",
      "num queries without idp bias: 9 workload size:  44\n",
      "num queries without idp bias: 10 workload size:  44\n",
      "num queries without idp bias: 11 workload size:  44\n",
      "num queries without idp bias: 12 workload size:  44\n",
      "num queries without idp bias: 13 workload size:  44\n",
      "num queries without idp bias: 13 workload size:  44\n",
      "num queries without idp bias: 14 workload size:  44\n",
      "num queries without idp bias: 15 workload size:  44\n",
      "num queries without idp bias: 15 workload size:  44\n",
      "num queries without idp bias: 16 workload size:  44\n",
      "num queries without idp bias: 17 workload size:  44\n",
      "num queries without idp bias: 18 workload size:  44\n",
      "num queries without idp bias: 18 workload size:  44\n",
      "num queries without idp bias: 19 workload size:  44\n",
      "num queries without idp bias: 20 workload size:  44\n",
      "num queries without idp bias: 21 workload size:  44\n",
      "num queries without idp bias: 22 workload size:  44\n",
      "num queries without idp bias: 23 workload size:  44\n",
      "num queries without idp bias: 24 workload size:  44\n",
      "num queries without idp bias: 25 workload size:  44\n",
      "num queries without idp bias: 26 workload size:  44\n",
      "num queries without idp bias: 27 workload size:  44\n",
      "num queries without idp bias: 28 workload size:  44\n",
      "num queries without idp bias: 28 workload size:  44\n",
      "num queries without idp bias: 28 workload size:  44\n",
      "num queries without idp bias: 29 workload size:  44\n",
      "num queries without idp bias: 29 workload size:  44\n",
      "num queries without idp bias: 30 workload size:  44\n",
      "num queries without idp bias: 30 workload size:  44\n",
      "num queries without idp bias: 31 workload size:  44\n",
      "num queries without idp bias: 32 workload size:  44\n",
      "num queries without idp bias: 33 workload size:  44\n",
      "num queries without idp bias: 33 workload size:  44\n",
      "num queries without idp bias: 34 workload size:  44\n",
      "num queries without idp bias: 34 workload size:  44\n",
      "num queries without idp bias: 0 workload size:  47\n",
      "num queries without idp bias: 0 workload size:  47\n",
      "num queries without idp bias: 0 workload size:  47\n",
      "num queries without idp bias: 0 workload size:  47\n",
      "num queries without idp bias: 1 workload size:  47\n",
      "num queries without idp bias: 2 workload size:  47\n",
      "num queries without idp bias: 3 workload size:  47\n",
      "num queries without idp bias: 4 workload size:  47\n",
      "num queries without idp bias: 4 workload size:  47\n",
      "num queries without idp bias: 5 workload size:  47\n",
      "num queries without idp bias: 6 workload size:  47\n",
      "num queries without idp bias: 7 workload size:  47\n",
      "num queries without idp bias: 7 workload size:  47\n",
      "num queries without idp bias: 8 workload size:  47\n",
      "num queries without idp bias: 8 workload size:  47\n",
      "num queries without idp bias: 8 workload size:  47\n",
      "num queries without idp bias: 8 workload size:  47\n",
      "num queries without idp bias: 8 workload size:  47\n",
      "num queries without idp bias: 8 workload size:  47\n",
      "num queries without idp bias: 8 workload size:  47\n",
      "num queries without idp bias: 8 workload size:  47\n",
      "num queries without idp bias: 9 workload size:  47\n",
      "num queries without idp bias: 9 workload size:  47\n",
      "num queries without idp bias: 9 workload size:  47\n",
      "num queries without idp bias: 9 workload size:  47\n",
      "num queries without idp bias: 9 workload size:  47\n",
      "num queries without idp bias: 9 workload size:  47\n",
      "num queries without idp bias: 9 workload size:  47\n",
      "num queries without idp bias: 9 workload size:  47\n",
      "num queries without idp bias: 9 workload size:  47\n",
      "num queries without idp bias: 9 workload size:  47\n",
      "num queries without idp bias: 9 workload size:  47\n",
      "num queries without idp bias: 9 workload size:  47\n",
      "num queries without idp bias: 9 workload size:  47\n",
      "num queries without idp bias: 9 workload size:  47\n",
      "num queries without idp bias: 9 workload size:  47\n",
      "num queries without idp bias: 9 workload size:  47\n",
      "num queries without idp bias: 9 workload size:  47\n",
      "num queries without idp bias: 9 workload size:  47\n",
      "num queries without idp bias: 9 workload size:  47\n",
      "num queries without idp bias: 9 workload size:  47\n",
      "num queries without idp bias: 9 workload size:  47\n",
      "num queries without idp bias: 9 workload size:  47\n",
      "num queries without idp bias: 9 workload size:  47\n",
      "num queries without idp bias: 9 workload size:  47\n",
      "num queries without idp bias: 9 workload size:  47\n",
      "num queries without idp bias: 9 workload size:  47\n"
     ]
    },
    {
     "data": {
      "application/vnd.plotly.v1+json": {
       "config": {
        "linkText": "Export to plot.ly",
        "plotlyServerURL": "https://plot.ly",
        "showLink": false
       },
       "data": [
        {
         "hovertemplate": "baseline=cookiemonster<br>destination=319A2412BDB0EF669733053640B80112<br>workload_size=%{x}<br>fraction_queries_without_idp_bias=%{y}<extra></extra>",
         "legendgroup": "cookiemonster",
         "line": {
          "color": "#00cc96",
          "dash": "solid"
         },
         "marker": {
          "symbol": "circle"
         },
         "mode": "lines+markers",
         "name": "cookiemonster",
         "orientation": "v",
         "showlegend": true,
         "type": "scatter",
         "x": [
          4,
          9,
          14,
          19,
          22,
          22,
          22,
          22,
          22,
          22
         ],
         "xaxis": "x",
         "y": [
          0.25,
          0.1111111111111111,
          0.07142857142857142,
          0.05263157894736842,
          0.045454545454545456,
          0.045454545454545456,
          0.045454545454545456,
          0.045454545454545456,
          0.045454545454545456,
          0.045454545454545456
         ],
         "yaxis": "y"
        }
       ],
       "layout": {
        "annotations": [
         {
          "showarrow": false,
          "text": "destination=319A2412BDB0EF669733053640B80112",
          "x": 0.5,
          "xanchor": "center",
          "xref": "paper",
          "y": 1,
          "yanchor": "bottom",
          "yref": "paper"
         }
        ],
        "height": 600,
        "legend": {
         "title": {
          "text": "baseline"
         },
         "tracegroupgap": 0
        },
        "template": {
         "data": {
          "bar": [
           {
            "error_x": {
             "color": "#2a3f5f"
            },
            "error_y": {
             "color": "#2a3f5f"
            },
            "marker": {
             "line": {
              "color": "#E5ECF6",
              "width": 0.5
             },
             "pattern": {
              "fillmode": "overlay",
              "size": 10,
              "solidity": 0.2
             }
            },
            "type": "bar"
           }
          ],
          "barpolar": [
           {
            "marker": {
             "line": {
              "color": "#E5ECF6",
              "width": 0.5
             },
             "pattern": {
              "fillmode": "overlay",
              "size": 10,
              "solidity": 0.2
             }
            },
            "type": "barpolar"
           }
          ],
          "carpet": [
           {
            "aaxis": {
             "endlinecolor": "#2a3f5f",
             "gridcolor": "white",
             "linecolor": "white",
             "minorgridcolor": "white",
             "startlinecolor": "#2a3f5f"
            },
            "baxis": {
             "endlinecolor": "#2a3f5f",
             "gridcolor": "white",
             "linecolor": "white",
             "minorgridcolor": "white",
             "startlinecolor": "#2a3f5f"
            },
            "type": "carpet"
           }
          ],
          "choropleth": [
           {
            "colorbar": {
             "outlinewidth": 0,
             "ticks": ""
            },
            "type": "choropleth"
           }
          ],
          "contour": [
           {
            "colorbar": {
             "outlinewidth": 0,
             "ticks": ""
            },
            "colorscale": [
             [
              0,
              "#0d0887"
             ],
             [
              0.1111111111111111,
              "#46039f"
             ],
             [
              0.2222222222222222,
              "#7201a8"
             ],
             [
              0.3333333333333333,
              "#9c179e"
             ],
             [
              0.4444444444444444,
              "#bd3786"
             ],
             [
              0.5555555555555556,
              "#d8576b"
             ],
             [
              0.6666666666666666,
              "#ed7953"
             ],
             [
              0.7777777777777778,
              "#fb9f3a"
             ],
             [
              0.8888888888888888,
              "#fdca26"
             ],
             [
              1,
              "#f0f921"
             ]
            ],
            "type": "contour"
           }
          ],
          "contourcarpet": [
           {
            "colorbar": {
             "outlinewidth": 0,
             "ticks": ""
            },
            "type": "contourcarpet"
           }
          ],
          "heatmap": [
           {
            "colorbar": {
             "outlinewidth": 0,
             "ticks": ""
            },
            "colorscale": [
             [
              0,
              "#0d0887"
             ],
             [
              0.1111111111111111,
              "#46039f"
             ],
             [
              0.2222222222222222,
              "#7201a8"
             ],
             [
              0.3333333333333333,
              "#9c179e"
             ],
             [
              0.4444444444444444,
              "#bd3786"
             ],
             [
              0.5555555555555556,
              "#d8576b"
             ],
             [
              0.6666666666666666,
              "#ed7953"
             ],
             [
              0.7777777777777778,
              "#fb9f3a"
             ],
             [
              0.8888888888888888,
              "#fdca26"
             ],
             [
              1,
              "#f0f921"
             ]
            ],
            "type": "heatmap"
           }
          ],
          "heatmapgl": [
           {
            "colorbar": {
             "outlinewidth": 0,
             "ticks": ""
            },
            "colorscale": [
             [
              0,
              "#0d0887"
             ],
             [
              0.1111111111111111,
              "#46039f"
             ],
             [
              0.2222222222222222,
              "#7201a8"
             ],
             [
              0.3333333333333333,
              "#9c179e"
             ],
             [
              0.4444444444444444,
              "#bd3786"
             ],
             [
              0.5555555555555556,
              "#d8576b"
             ],
             [
              0.6666666666666666,
              "#ed7953"
             ],
             [
              0.7777777777777778,
              "#fb9f3a"
             ],
             [
              0.8888888888888888,
              "#fdca26"
             ],
             [
              1,
              "#f0f921"
             ]
            ],
            "type": "heatmapgl"
           }
          ],
          "histogram": [
           {
            "marker": {
             "pattern": {
              "fillmode": "overlay",
              "size": 10,
              "solidity": 0.2
             }
            },
            "type": "histogram"
           }
          ],
          "histogram2d": [
           {
            "colorbar": {
             "outlinewidth": 0,
             "ticks": ""
            },
            "colorscale": [
             [
              0,
              "#0d0887"
             ],
             [
              0.1111111111111111,
              "#46039f"
             ],
             [
              0.2222222222222222,
              "#7201a8"
             ],
             [
              0.3333333333333333,
              "#9c179e"
             ],
             [
              0.4444444444444444,
              "#bd3786"
             ],
             [
              0.5555555555555556,
              "#d8576b"
             ],
             [
              0.6666666666666666,
              "#ed7953"
             ],
             [
              0.7777777777777778,
              "#fb9f3a"
             ],
             [
              0.8888888888888888,
              "#fdca26"
             ],
             [
              1,
              "#f0f921"
             ]
            ],
            "type": "histogram2d"
           }
          ],
          "histogram2dcontour": [
           {
            "colorbar": {
             "outlinewidth": 0,
             "ticks": ""
            },
            "colorscale": [
             [
              0,
              "#0d0887"
             ],
             [
              0.1111111111111111,
              "#46039f"
             ],
             [
              0.2222222222222222,
              "#7201a8"
             ],
             [
              0.3333333333333333,
              "#9c179e"
             ],
             [
              0.4444444444444444,
              "#bd3786"
             ],
             [
              0.5555555555555556,
              "#d8576b"
             ],
             [
              0.6666666666666666,
              "#ed7953"
             ],
             [
              0.7777777777777778,
              "#fb9f3a"
             ],
             [
              0.8888888888888888,
              "#fdca26"
             ],
             [
              1,
              "#f0f921"
             ]
            ],
            "type": "histogram2dcontour"
           }
          ],
          "mesh3d": [
           {
            "colorbar": {
             "outlinewidth": 0,
             "ticks": ""
            },
            "type": "mesh3d"
           }
          ],
          "parcoords": [
           {
            "line": {
             "colorbar": {
              "outlinewidth": 0,
              "ticks": ""
             }
            },
            "type": "parcoords"
           }
          ],
          "pie": [
           {
            "automargin": true,
            "type": "pie"
           }
          ],
          "scatter": [
           {
            "fillpattern": {
             "fillmode": "overlay",
             "size": 10,
             "solidity": 0.2
            },
            "type": "scatter"
           }
          ],
          "scatter3d": [
           {
            "line": {
             "colorbar": {
              "outlinewidth": 0,
              "ticks": ""
             }
            },
            "marker": {
             "colorbar": {
              "outlinewidth": 0,
              "ticks": ""
             }
            },
            "type": "scatter3d"
           }
          ],
          "scattercarpet": [
           {
            "marker": {
             "colorbar": {
              "outlinewidth": 0,
              "ticks": ""
             }
            },
            "type": "scattercarpet"
           }
          ],
          "scattergeo": [
           {
            "marker": {
             "colorbar": {
              "outlinewidth": 0,
              "ticks": ""
             }
            },
            "type": "scattergeo"
           }
          ],
          "scattergl": [
           {
            "marker": {
             "colorbar": {
              "outlinewidth": 0,
              "ticks": ""
             }
            },
            "type": "scattergl"
           }
          ],
          "scattermapbox": [
           {
            "marker": {
             "colorbar": {
              "outlinewidth": 0,
              "ticks": ""
             }
            },
            "type": "scattermapbox"
           }
          ],
          "scatterpolar": [
           {
            "marker": {
             "colorbar": {
              "outlinewidth": 0,
              "ticks": ""
             }
            },
            "type": "scatterpolar"
           }
          ],
          "scatterpolargl": [
           {
            "marker": {
             "colorbar": {
              "outlinewidth": 0,
              "ticks": ""
             }
            },
            "type": "scatterpolargl"
           }
          ],
          "scatterternary": [
           {
            "marker": {
             "colorbar": {
              "outlinewidth": 0,
              "ticks": ""
             }
            },
            "type": "scatterternary"
           }
          ],
          "surface": [
           {
            "colorbar": {
             "outlinewidth": 0,
             "ticks": ""
            },
            "colorscale": [
             [
              0,
              "#0d0887"
             ],
             [
              0.1111111111111111,
              "#46039f"
             ],
             [
              0.2222222222222222,
              "#7201a8"
             ],
             [
              0.3333333333333333,
              "#9c179e"
             ],
             [
              0.4444444444444444,
              "#bd3786"
             ],
             [
              0.5555555555555556,
              "#d8576b"
             ],
             [
              0.6666666666666666,
              "#ed7953"
             ],
             [
              0.7777777777777778,
              "#fb9f3a"
             ],
             [
              0.8888888888888888,
              "#fdca26"
             ],
             [
              1,
              "#f0f921"
             ]
            ],
            "type": "surface"
           }
          ],
          "table": [
           {
            "cells": {
             "fill": {
              "color": "#EBF0F8"
             },
             "line": {
              "color": "white"
             }
            },
            "header": {
             "fill": {
              "color": "#C8D4E3"
             },
             "line": {
              "color": "white"
             }
            },
            "type": "table"
           }
          ]
         },
         "layout": {
          "annotationdefaults": {
           "arrowcolor": "#2a3f5f",
           "arrowhead": 0,
           "arrowwidth": 1
          },
          "autotypenumbers": "strict",
          "coloraxis": {
           "colorbar": {
            "outlinewidth": 0,
            "ticks": ""
           }
          },
          "colorscale": {
           "diverging": [
            [
             0,
             "#8e0152"
            ],
            [
             0.1,
             "#c51b7d"
            ],
            [
             0.2,
             "#de77ae"
            ],
            [
             0.3,
             "#f1b6da"
            ],
            [
             0.4,
             "#fde0ef"
            ],
            [
             0.5,
             "#f7f7f7"
            ],
            [
             0.6,
             "#e6f5d0"
            ],
            [
             0.7,
             "#b8e186"
            ],
            [
             0.8,
             "#7fbc41"
            ],
            [
             0.9,
             "#4d9221"
            ],
            [
             1,
             "#276419"
            ]
           ],
           "sequential": [
            [
             0,
             "#0d0887"
            ],
            [
             0.1111111111111111,
             "#46039f"
            ],
            [
             0.2222222222222222,
             "#7201a8"
            ],
            [
             0.3333333333333333,
             "#9c179e"
            ],
            [
             0.4444444444444444,
             "#bd3786"
            ],
            [
             0.5555555555555556,
             "#d8576b"
            ],
            [
             0.6666666666666666,
             "#ed7953"
            ],
            [
             0.7777777777777778,
             "#fb9f3a"
            ],
            [
             0.8888888888888888,
             "#fdca26"
            ],
            [
             1,
             "#f0f921"
            ]
           ],
           "sequentialminus": [
            [
             0,
             "#0d0887"
            ],
            [
             0.1111111111111111,
             "#46039f"
            ],
            [
             0.2222222222222222,
             "#7201a8"
            ],
            [
             0.3333333333333333,
             "#9c179e"
            ],
            [
             0.4444444444444444,
             "#bd3786"
            ],
            [
             0.5555555555555556,
             "#d8576b"
            ],
            [
             0.6666666666666666,
             "#ed7953"
            ],
            [
             0.7777777777777778,
             "#fb9f3a"
            ],
            [
             0.8888888888888888,
             "#fdca26"
            ],
            [
             1,
             "#f0f921"
            ]
           ]
          },
          "colorway": [
           "#636efa",
           "#EF553B",
           "#00cc96",
           "#ab63fa",
           "#FFA15A",
           "#19d3f3",
           "#FF6692",
           "#B6E880",
           "#FF97FF",
           "#FECB52"
          ],
          "font": {
           "color": "#2a3f5f"
          },
          "geo": {
           "bgcolor": "white",
           "lakecolor": "white",
           "landcolor": "#E5ECF6",
           "showlakes": true,
           "showland": true,
           "subunitcolor": "white"
          },
          "hoverlabel": {
           "align": "left"
          },
          "hovermode": "closest",
          "mapbox": {
           "style": "light"
          },
          "paper_bgcolor": "white",
          "plot_bgcolor": "#E5ECF6",
          "polar": {
           "angularaxis": {
            "gridcolor": "white",
            "linecolor": "white",
            "ticks": ""
           },
           "bgcolor": "#E5ECF6",
           "radialaxis": {
            "gridcolor": "white",
            "linecolor": "white",
            "ticks": ""
           }
          },
          "scene": {
           "xaxis": {
            "backgroundcolor": "#E5ECF6",
            "gridcolor": "white",
            "gridwidth": 2,
            "linecolor": "white",
            "showbackground": true,
            "ticks": "",
            "zerolinecolor": "white"
           },
           "yaxis": {
            "backgroundcolor": "#E5ECF6",
            "gridcolor": "white",
            "gridwidth": 2,
            "linecolor": "white",
            "showbackground": true,
            "ticks": "",
            "zerolinecolor": "white"
           },
           "zaxis": {
            "backgroundcolor": "#E5ECF6",
            "gridcolor": "white",
            "gridwidth": 2,
            "linecolor": "white",
            "showbackground": true,
            "ticks": "",
            "zerolinecolor": "white"
           }
          },
          "shapedefaults": {
           "line": {
            "color": "#2a3f5f"
           }
          },
          "ternary": {
           "aaxis": {
            "gridcolor": "white",
            "linecolor": "white",
            "ticks": ""
           },
           "baxis": {
            "gridcolor": "white",
            "linecolor": "white",
            "ticks": ""
           },
           "bgcolor": "#E5ECF6",
           "caxis": {
            "gridcolor": "white",
            "linecolor": "white",
            "ticks": ""
           }
          },
          "title": {
           "x": 0.05
          },
          "xaxis": {
           "automargin": true,
           "gridcolor": "white",
           "linecolor": "white",
           "ticks": "",
           "title": {
            "standoff": 15
           },
           "zerolinecolor": "white",
           "zerolinewidth": 2
          },
          "yaxis": {
           "automargin": true,
           "gridcolor": "white",
           "linecolor": "white",
           "ticks": "",
           "title": {
            "standoff": 15
           },
           "zerolinecolor": "white",
           "zerolinewidth": 2
          }
         }
        },
        "title": {
         "text": "Fraction of queries reaching accuracy target"
        },
        "width": 1100,
        "xaxis": {
         "anchor": "y",
         "domain": [
          0,
          1
         ],
         "title": {
          "text": "workload_size"
         }
        },
        "yaxis": {
         "anchor": "x",
         "domain": [
          0,
          1
         ],
         "title": {
          "text": "fraction_queries_without_idp_bias"
         }
        }
       }
      },
      "text/html": [
       "<div>                            <div id=\"5c488acd-fe0b-4997-8d07-5fa6f73f7480\" class=\"plotly-graph-div\" style=\"height:600px; width:1100px;\"></div>            <script type=\"text/javascript\">                require([\"plotly\"], function(Plotly) {                    window.PLOTLYENV=window.PLOTLYENV || {};                                    if (document.getElementById(\"5c488acd-fe0b-4997-8d07-5fa6f73f7480\")) {                    Plotly.newPlot(                        \"5c488acd-fe0b-4997-8d07-5fa6f73f7480\",                        [{\"hovertemplate\":\"baseline=cookiemonster\\u003cbr\\u003edestination=319A2412BDB0EF669733053640B80112\\u003cbr\\u003eworkload_size=%{x}\\u003cbr\\u003efraction_queries_without_idp_bias=%{y}\\u003cextra\\u003e\\u003c\\u002fextra\\u003e\",\"legendgroup\":\"cookiemonster\",\"line\":{\"color\":\"#00cc96\",\"dash\":\"solid\"},\"marker\":{\"symbol\":\"circle\"},\"mode\":\"lines+markers\",\"name\":\"cookiemonster\",\"orientation\":\"v\",\"showlegend\":true,\"x\":[4,9,14,19,22,22,22,22,22,22],\"xaxis\":\"x\",\"y\":[0.25,0.1111111111111111,0.07142857142857142,0.05263157894736842,0.045454545454545456,0.045454545454545456,0.045454545454545456,0.045454545454545456,0.045454545454545456,0.045454545454545456],\"yaxis\":\"y\",\"type\":\"scatter\"}],                        {\"annotations\":[{\"showarrow\":false,\"text\":\"destination=319A2412BDB0EF669733053640B80112\",\"x\":0.5,\"xanchor\":\"center\",\"xref\":\"paper\",\"y\":1.0,\"yanchor\":\"bottom\",\"yref\":\"paper\"}],\"height\":600,\"legend\":{\"title\":{\"text\":\"baseline\"},\"tracegroupgap\":0},\"template\":{\"data\":{\"barpolar\":[{\"marker\":{\"line\":{\"color\":\"#E5ECF6\",\"width\":0.5},\"pattern\":{\"fillmode\":\"overlay\",\"size\":10,\"solidity\":0.2}},\"type\":\"barpolar\"}],\"bar\":[{\"error_x\":{\"color\":\"#2a3f5f\"},\"error_y\":{\"color\":\"#2a3f5f\"},\"marker\":{\"line\":{\"color\":\"#E5ECF6\",\"width\":0.5},\"pattern\":{\"fillmode\":\"overlay\",\"size\":10,\"solidity\":0.2}},\"type\":\"bar\"}],\"carpet\":[{\"aaxis\":{\"endlinecolor\":\"#2a3f5f\",\"gridcolor\":\"white\",\"linecolor\":\"white\",\"minorgridcolor\":\"white\",\"startlinecolor\":\"#2a3f5f\"},\"baxis\":{\"endlinecolor\":\"#2a3f5f\",\"gridcolor\":\"white\",\"linecolor\":\"white\",\"minorgridcolor\":\"white\",\"startlinecolor\":\"#2a3f5f\"},\"type\":\"carpet\"}],\"choropleth\":[{\"colorbar\":{\"outlinewidth\":0,\"ticks\":\"\"},\"type\":\"choropleth\"}],\"contourcarpet\":[{\"colorbar\":{\"outlinewidth\":0,\"ticks\":\"\"},\"type\":\"contourcarpet\"}],\"contour\":[{\"colorbar\":{\"outlinewidth\":0,\"ticks\":\"\"},\"colorscale\":[[0.0,\"#0d0887\"],[0.1111111111111111,\"#46039f\"],[0.2222222222222222,\"#7201a8\"],[0.3333333333333333,\"#9c179e\"],[0.4444444444444444,\"#bd3786\"],[0.5555555555555556,\"#d8576b\"],[0.6666666666666666,\"#ed7953\"],[0.7777777777777778,\"#fb9f3a\"],[0.8888888888888888,\"#fdca26\"],[1.0,\"#f0f921\"]],\"type\":\"contour\"}],\"heatmapgl\":[{\"colorbar\":{\"outlinewidth\":0,\"ticks\":\"\"},\"colorscale\":[[0.0,\"#0d0887\"],[0.1111111111111111,\"#46039f\"],[0.2222222222222222,\"#7201a8\"],[0.3333333333333333,\"#9c179e\"],[0.4444444444444444,\"#bd3786\"],[0.5555555555555556,\"#d8576b\"],[0.6666666666666666,\"#ed7953\"],[0.7777777777777778,\"#fb9f3a\"],[0.8888888888888888,\"#fdca26\"],[1.0,\"#f0f921\"]],\"type\":\"heatmapgl\"}],\"heatmap\":[{\"colorbar\":{\"outlinewidth\":0,\"ticks\":\"\"},\"colorscale\":[[0.0,\"#0d0887\"],[0.1111111111111111,\"#46039f\"],[0.2222222222222222,\"#7201a8\"],[0.3333333333333333,\"#9c179e\"],[0.4444444444444444,\"#bd3786\"],[0.5555555555555556,\"#d8576b\"],[0.6666666666666666,\"#ed7953\"],[0.7777777777777778,\"#fb9f3a\"],[0.8888888888888888,\"#fdca26\"],[1.0,\"#f0f921\"]],\"type\":\"heatmap\"}],\"histogram2dcontour\":[{\"colorbar\":{\"outlinewidth\":0,\"ticks\":\"\"},\"colorscale\":[[0.0,\"#0d0887\"],[0.1111111111111111,\"#46039f\"],[0.2222222222222222,\"#7201a8\"],[0.3333333333333333,\"#9c179e\"],[0.4444444444444444,\"#bd3786\"],[0.5555555555555556,\"#d8576b\"],[0.6666666666666666,\"#ed7953\"],[0.7777777777777778,\"#fb9f3a\"],[0.8888888888888888,\"#fdca26\"],[1.0,\"#f0f921\"]],\"type\":\"histogram2dcontour\"}],\"histogram2d\":[{\"colorbar\":{\"outlinewidth\":0,\"ticks\":\"\"},\"colorscale\":[[0.0,\"#0d0887\"],[0.1111111111111111,\"#46039f\"],[0.2222222222222222,\"#7201a8\"],[0.3333333333333333,\"#9c179e\"],[0.4444444444444444,\"#bd3786\"],[0.5555555555555556,\"#d8576b\"],[0.6666666666666666,\"#ed7953\"],[0.7777777777777778,\"#fb9f3a\"],[0.8888888888888888,\"#fdca26\"],[1.0,\"#f0f921\"]],\"type\":\"histogram2d\"}],\"histogram\":[{\"marker\":{\"pattern\":{\"fillmode\":\"overlay\",\"size\":10,\"solidity\":0.2}},\"type\":\"histogram\"}],\"mesh3d\":[{\"colorbar\":{\"outlinewidth\":0,\"ticks\":\"\"},\"type\":\"mesh3d\"}],\"parcoords\":[{\"line\":{\"colorbar\":{\"outlinewidth\":0,\"ticks\":\"\"}},\"type\":\"parcoords\"}],\"pie\":[{\"automargin\":true,\"type\":\"pie\"}],\"scatter3d\":[{\"line\":{\"colorbar\":{\"outlinewidth\":0,\"ticks\":\"\"}},\"marker\":{\"colorbar\":{\"outlinewidth\":0,\"ticks\":\"\"}},\"type\":\"scatter3d\"}],\"scattercarpet\":[{\"marker\":{\"colorbar\":{\"outlinewidth\":0,\"ticks\":\"\"}},\"type\":\"scattercarpet\"}],\"scattergeo\":[{\"marker\":{\"colorbar\":{\"outlinewidth\":0,\"ticks\":\"\"}},\"type\":\"scattergeo\"}],\"scattergl\":[{\"marker\":{\"colorbar\":{\"outlinewidth\":0,\"ticks\":\"\"}},\"type\":\"scattergl\"}],\"scattermapbox\":[{\"marker\":{\"colorbar\":{\"outlinewidth\":0,\"ticks\":\"\"}},\"type\":\"scattermapbox\"}],\"scatterpolargl\":[{\"marker\":{\"colorbar\":{\"outlinewidth\":0,\"ticks\":\"\"}},\"type\":\"scatterpolargl\"}],\"scatterpolar\":[{\"marker\":{\"colorbar\":{\"outlinewidth\":0,\"ticks\":\"\"}},\"type\":\"scatterpolar\"}],\"scatter\":[{\"fillpattern\":{\"fillmode\":\"overlay\",\"size\":10,\"solidity\":0.2},\"type\":\"scatter\"}],\"scatterternary\":[{\"marker\":{\"colorbar\":{\"outlinewidth\":0,\"ticks\":\"\"}},\"type\":\"scatterternary\"}],\"surface\":[{\"colorbar\":{\"outlinewidth\":0,\"ticks\":\"\"},\"colorscale\":[[0.0,\"#0d0887\"],[0.1111111111111111,\"#46039f\"],[0.2222222222222222,\"#7201a8\"],[0.3333333333333333,\"#9c179e\"],[0.4444444444444444,\"#bd3786\"],[0.5555555555555556,\"#d8576b\"],[0.6666666666666666,\"#ed7953\"],[0.7777777777777778,\"#fb9f3a\"],[0.8888888888888888,\"#fdca26\"],[1.0,\"#f0f921\"]],\"type\":\"surface\"}],\"table\":[{\"cells\":{\"fill\":{\"color\":\"#EBF0F8\"},\"line\":{\"color\":\"white\"}},\"header\":{\"fill\":{\"color\":\"#C8D4E3\"},\"line\":{\"color\":\"white\"}},\"type\":\"table\"}]},\"layout\":{\"annotationdefaults\":{\"arrowcolor\":\"#2a3f5f\",\"arrowhead\":0,\"arrowwidth\":1},\"autotypenumbers\":\"strict\",\"coloraxis\":{\"colorbar\":{\"outlinewidth\":0,\"ticks\":\"\"}},\"colorscale\":{\"diverging\":[[0,\"#8e0152\"],[0.1,\"#c51b7d\"],[0.2,\"#de77ae\"],[0.3,\"#f1b6da\"],[0.4,\"#fde0ef\"],[0.5,\"#f7f7f7\"],[0.6,\"#e6f5d0\"],[0.7,\"#b8e186\"],[0.8,\"#7fbc41\"],[0.9,\"#4d9221\"],[1,\"#276419\"]],\"sequential\":[[0.0,\"#0d0887\"],[0.1111111111111111,\"#46039f\"],[0.2222222222222222,\"#7201a8\"],[0.3333333333333333,\"#9c179e\"],[0.4444444444444444,\"#bd3786\"],[0.5555555555555556,\"#d8576b\"],[0.6666666666666666,\"#ed7953\"],[0.7777777777777778,\"#fb9f3a\"],[0.8888888888888888,\"#fdca26\"],[1.0,\"#f0f921\"]],\"sequentialminus\":[[0.0,\"#0d0887\"],[0.1111111111111111,\"#46039f\"],[0.2222222222222222,\"#7201a8\"],[0.3333333333333333,\"#9c179e\"],[0.4444444444444444,\"#bd3786\"],[0.5555555555555556,\"#d8576b\"],[0.6666666666666666,\"#ed7953\"],[0.7777777777777778,\"#fb9f3a\"],[0.8888888888888888,\"#fdca26\"],[1.0,\"#f0f921\"]]},\"colorway\":[\"#636efa\",\"#EF553B\",\"#00cc96\",\"#ab63fa\",\"#FFA15A\",\"#19d3f3\",\"#FF6692\",\"#B6E880\",\"#FF97FF\",\"#FECB52\"],\"font\":{\"color\":\"#2a3f5f\"},\"geo\":{\"bgcolor\":\"white\",\"lakecolor\":\"white\",\"landcolor\":\"#E5ECF6\",\"showlakes\":true,\"showland\":true,\"subunitcolor\":\"white\"},\"hoverlabel\":{\"align\":\"left\"},\"hovermode\":\"closest\",\"mapbox\":{\"style\":\"light\"},\"paper_bgcolor\":\"white\",\"plot_bgcolor\":\"#E5ECF6\",\"polar\":{\"angularaxis\":{\"gridcolor\":\"white\",\"linecolor\":\"white\",\"ticks\":\"\"},\"bgcolor\":\"#E5ECF6\",\"radialaxis\":{\"gridcolor\":\"white\",\"linecolor\":\"white\",\"ticks\":\"\"}},\"scene\":{\"xaxis\":{\"backgroundcolor\":\"#E5ECF6\",\"gridcolor\":\"white\",\"gridwidth\":2,\"linecolor\":\"white\",\"showbackground\":true,\"ticks\":\"\",\"zerolinecolor\":\"white\"},\"yaxis\":{\"backgroundcolor\":\"#E5ECF6\",\"gridcolor\":\"white\",\"gridwidth\":2,\"linecolor\":\"white\",\"showbackground\":true,\"ticks\":\"\",\"zerolinecolor\":\"white\"},\"zaxis\":{\"backgroundcolor\":\"#E5ECF6\",\"gridcolor\":\"white\",\"gridwidth\":2,\"linecolor\":\"white\",\"showbackground\":true,\"ticks\":\"\",\"zerolinecolor\":\"white\"}},\"shapedefaults\":{\"line\":{\"color\":\"#2a3f5f\"}},\"ternary\":{\"aaxis\":{\"gridcolor\":\"white\",\"linecolor\":\"white\",\"ticks\":\"\"},\"baxis\":{\"gridcolor\":\"white\",\"linecolor\":\"white\",\"ticks\":\"\"},\"bgcolor\":\"#E5ECF6\",\"caxis\":{\"gridcolor\":\"white\",\"linecolor\":\"white\",\"ticks\":\"\"}},\"title\":{\"x\":0.05},\"xaxis\":{\"automargin\":true,\"gridcolor\":\"white\",\"linecolor\":\"white\",\"ticks\":\"\",\"title\":{\"standoff\":15},\"zerolinecolor\":\"white\",\"zerolinewidth\":2},\"yaxis\":{\"automargin\":true,\"gridcolor\":\"white\",\"linecolor\":\"white\",\"ticks\":\"\",\"title\":{\"standoff\":15},\"zerolinecolor\":\"white\",\"zerolinewidth\":2}}},\"title\":{\"text\":\"Fraction of queries reaching accuracy target\"},\"width\":1100,\"xaxis\":{\"anchor\":\"y\",\"domain\":[0.0,1.0],\"title\":{\"text\":\"workload_size\"}},\"yaxis\":{\"anchor\":\"x\",\"domain\":[0.0,1.0],\"title\":{\"text\":\"fraction_queries_without_idp_bias\"}}},                        {\"responsive\": true}                    ).then(function(){\n",
       "                            \n",
       "var gd = document.getElementById('5c488acd-fe0b-4997-8d07-5fa6f73f7480');\n",
       "var x = new MutationObserver(function (mutations, observer) {{\n",
       "        var display = window.getComputedStyle(gd).display;\n",
       "        if (!display || display === 'none') {{\n",
       "            console.log([gd, 'removed!']);\n",
       "            Plotly.purge(gd);\n",
       "            observer.disconnect();\n",
       "        }}\n",
       "}});\n",
       "\n",
       "// Listen for the removal of the full notebook cells\n",
       "var notebookContainer = gd.closest('#notebook-container');\n",
       "if (notebookContainer) {{\n",
       "    x.observe(notebookContainer, {childList: true});\n",
       "}}\n",
       "\n",
       "// Listen for the clearing of the current output cell\n",
       "var outputEl = gd.closest('.output');\n",
       "if (outputEl) {{\n",
       "    x.observe(outputEl, {childList: true});\n",
       "}}\n",
       "\n",
       "                        })                };                });            </script>        </div>"
      ]
     },
     "metadata": {},
     "output_type": "display_data"
    },
    {
     "data": {
      "application/vnd.plotly.v1+json": {
       "config": {
        "linkText": "Export to plot.ly",
        "plotlyServerURL": "https://plot.ly",
        "showLink": false
       },
       "data": [
        {
         "hovertemplate": "baseline=cookiemonster<br>destination=319A2412BDB0EF669733053640B80112<br>workload_size=%{x}<br>workload_idp_accuracy=%{y}<extra></extra>",
         "legendgroup": "cookiemonster",
         "line": {
          "color": "#00cc96",
          "dash": "solid"
         },
         "marker": {
          "symbol": "circle"
         },
         "mode": "lines+markers",
         "name": "cookiemonster",
         "orientation": "v",
         "showlegend": true,
         "type": "scatter",
         "x": [
          4,
          9,
          14,
          19,
          22,
          22,
          22,
          22,
          22,
          22
         ],
         "xaxis": "x",
         "y": [
          0.9991078995246638,
          0.9961242032594342,
          0.9926896833033542,
          0.9833920796238429,
          0.9769025755084655,
          0.9769025755084655,
          0.9769025755084655,
          0.9769025755084655,
          0.9769025755084655,
          0.9769025755084655
         ],
         "yaxis": "y"
        }
       ],
       "layout": {
        "annotations": [
         {
          "showarrow": false,
          "text": "destination=319A2412BDB0EF669733053640B80112",
          "x": 0.5,
          "xanchor": "center",
          "xref": "paper",
          "y": 1,
          "yanchor": "bottom",
          "yref": "paper"
         }
        ],
        "height": 600,
        "legend": {
         "title": {
          "text": "baseline"
         },
         "tracegroupgap": 0
        },
        "template": {
         "data": {
          "bar": [
           {
            "error_x": {
             "color": "#2a3f5f"
            },
            "error_y": {
             "color": "#2a3f5f"
            },
            "marker": {
             "line": {
              "color": "#E5ECF6",
              "width": 0.5
             },
             "pattern": {
              "fillmode": "overlay",
              "size": 10,
              "solidity": 0.2
             }
            },
            "type": "bar"
           }
          ],
          "barpolar": [
           {
            "marker": {
             "line": {
              "color": "#E5ECF6",
              "width": 0.5
             },
             "pattern": {
              "fillmode": "overlay",
              "size": 10,
              "solidity": 0.2
             }
            },
            "type": "barpolar"
           }
          ],
          "carpet": [
           {
            "aaxis": {
             "endlinecolor": "#2a3f5f",
             "gridcolor": "white",
             "linecolor": "white",
             "minorgridcolor": "white",
             "startlinecolor": "#2a3f5f"
            },
            "baxis": {
             "endlinecolor": "#2a3f5f",
             "gridcolor": "white",
             "linecolor": "white",
             "minorgridcolor": "white",
             "startlinecolor": "#2a3f5f"
            },
            "type": "carpet"
           }
          ],
          "choropleth": [
           {
            "colorbar": {
             "outlinewidth": 0,
             "ticks": ""
            },
            "type": "choropleth"
           }
          ],
          "contour": [
           {
            "colorbar": {
             "outlinewidth": 0,
             "ticks": ""
            },
            "colorscale": [
             [
              0,
              "#0d0887"
             ],
             [
              0.1111111111111111,
              "#46039f"
             ],
             [
              0.2222222222222222,
              "#7201a8"
             ],
             [
              0.3333333333333333,
              "#9c179e"
             ],
             [
              0.4444444444444444,
              "#bd3786"
             ],
             [
              0.5555555555555556,
              "#d8576b"
             ],
             [
              0.6666666666666666,
              "#ed7953"
             ],
             [
              0.7777777777777778,
              "#fb9f3a"
             ],
             [
              0.8888888888888888,
              "#fdca26"
             ],
             [
              1,
              "#f0f921"
             ]
            ],
            "type": "contour"
           }
          ],
          "contourcarpet": [
           {
            "colorbar": {
             "outlinewidth": 0,
             "ticks": ""
            },
            "type": "contourcarpet"
           }
          ],
          "heatmap": [
           {
            "colorbar": {
             "outlinewidth": 0,
             "ticks": ""
            },
            "colorscale": [
             [
              0,
              "#0d0887"
             ],
             [
              0.1111111111111111,
              "#46039f"
             ],
             [
              0.2222222222222222,
              "#7201a8"
             ],
             [
              0.3333333333333333,
              "#9c179e"
             ],
             [
              0.4444444444444444,
              "#bd3786"
             ],
             [
              0.5555555555555556,
              "#d8576b"
             ],
             [
              0.6666666666666666,
              "#ed7953"
             ],
             [
              0.7777777777777778,
              "#fb9f3a"
             ],
             [
              0.8888888888888888,
              "#fdca26"
             ],
             [
              1,
              "#f0f921"
             ]
            ],
            "type": "heatmap"
           }
          ],
          "heatmapgl": [
           {
            "colorbar": {
             "outlinewidth": 0,
             "ticks": ""
            },
            "colorscale": [
             [
              0,
              "#0d0887"
             ],
             [
              0.1111111111111111,
              "#46039f"
             ],
             [
              0.2222222222222222,
              "#7201a8"
             ],
             [
              0.3333333333333333,
              "#9c179e"
             ],
             [
              0.4444444444444444,
              "#bd3786"
             ],
             [
              0.5555555555555556,
              "#d8576b"
             ],
             [
              0.6666666666666666,
              "#ed7953"
             ],
             [
              0.7777777777777778,
              "#fb9f3a"
             ],
             [
              0.8888888888888888,
              "#fdca26"
             ],
             [
              1,
              "#f0f921"
             ]
            ],
            "type": "heatmapgl"
           }
          ],
          "histogram": [
           {
            "marker": {
             "pattern": {
              "fillmode": "overlay",
              "size": 10,
              "solidity": 0.2
             }
            },
            "type": "histogram"
           }
          ],
          "histogram2d": [
           {
            "colorbar": {
             "outlinewidth": 0,
             "ticks": ""
            },
            "colorscale": [
             [
              0,
              "#0d0887"
             ],
             [
              0.1111111111111111,
              "#46039f"
             ],
             [
              0.2222222222222222,
              "#7201a8"
             ],
             [
              0.3333333333333333,
              "#9c179e"
             ],
             [
              0.4444444444444444,
              "#bd3786"
             ],
             [
              0.5555555555555556,
              "#d8576b"
             ],
             [
              0.6666666666666666,
              "#ed7953"
             ],
             [
              0.7777777777777778,
              "#fb9f3a"
             ],
             [
              0.8888888888888888,
              "#fdca26"
             ],
             [
              1,
              "#f0f921"
             ]
            ],
            "type": "histogram2d"
           }
          ],
          "histogram2dcontour": [
           {
            "colorbar": {
             "outlinewidth": 0,
             "ticks": ""
            },
            "colorscale": [
             [
              0,
              "#0d0887"
             ],
             [
              0.1111111111111111,
              "#46039f"
             ],
             [
              0.2222222222222222,
              "#7201a8"
             ],
             [
              0.3333333333333333,
              "#9c179e"
             ],
             [
              0.4444444444444444,
              "#bd3786"
             ],
             [
              0.5555555555555556,
              "#d8576b"
             ],
             [
              0.6666666666666666,
              "#ed7953"
             ],
             [
              0.7777777777777778,
              "#fb9f3a"
             ],
             [
              0.8888888888888888,
              "#fdca26"
             ],
             [
              1,
              "#f0f921"
             ]
            ],
            "type": "histogram2dcontour"
           }
          ],
          "mesh3d": [
           {
            "colorbar": {
             "outlinewidth": 0,
             "ticks": ""
            },
            "type": "mesh3d"
           }
          ],
          "parcoords": [
           {
            "line": {
             "colorbar": {
              "outlinewidth": 0,
              "ticks": ""
             }
            },
            "type": "parcoords"
           }
          ],
          "pie": [
           {
            "automargin": true,
            "type": "pie"
           }
          ],
          "scatter": [
           {
            "fillpattern": {
             "fillmode": "overlay",
             "size": 10,
             "solidity": 0.2
            },
            "type": "scatter"
           }
          ],
          "scatter3d": [
           {
            "line": {
             "colorbar": {
              "outlinewidth": 0,
              "ticks": ""
             }
            },
            "marker": {
             "colorbar": {
              "outlinewidth": 0,
              "ticks": ""
             }
            },
            "type": "scatter3d"
           }
          ],
          "scattercarpet": [
           {
            "marker": {
             "colorbar": {
              "outlinewidth": 0,
              "ticks": ""
             }
            },
            "type": "scattercarpet"
           }
          ],
          "scattergeo": [
           {
            "marker": {
             "colorbar": {
              "outlinewidth": 0,
              "ticks": ""
             }
            },
            "type": "scattergeo"
           }
          ],
          "scattergl": [
           {
            "marker": {
             "colorbar": {
              "outlinewidth": 0,
              "ticks": ""
             }
            },
            "type": "scattergl"
           }
          ],
          "scattermapbox": [
           {
            "marker": {
             "colorbar": {
              "outlinewidth": 0,
              "ticks": ""
             }
            },
            "type": "scattermapbox"
           }
          ],
          "scatterpolar": [
           {
            "marker": {
             "colorbar": {
              "outlinewidth": 0,
              "ticks": ""
             }
            },
            "type": "scatterpolar"
           }
          ],
          "scatterpolargl": [
           {
            "marker": {
             "colorbar": {
              "outlinewidth": 0,
              "ticks": ""
             }
            },
            "type": "scatterpolargl"
           }
          ],
          "scatterternary": [
           {
            "marker": {
             "colorbar": {
              "outlinewidth": 0,
              "ticks": ""
             }
            },
            "type": "scatterternary"
           }
          ],
          "surface": [
           {
            "colorbar": {
             "outlinewidth": 0,
             "ticks": ""
            },
            "colorscale": [
             [
              0,
              "#0d0887"
             ],
             [
              0.1111111111111111,
              "#46039f"
             ],
             [
              0.2222222222222222,
              "#7201a8"
             ],
             [
              0.3333333333333333,
              "#9c179e"
             ],
             [
              0.4444444444444444,
              "#bd3786"
             ],
             [
              0.5555555555555556,
              "#d8576b"
             ],
             [
              0.6666666666666666,
              "#ed7953"
             ],
             [
              0.7777777777777778,
              "#fb9f3a"
             ],
             [
              0.8888888888888888,
              "#fdca26"
             ],
             [
              1,
              "#f0f921"
             ]
            ],
            "type": "surface"
           }
          ],
          "table": [
           {
            "cells": {
             "fill": {
              "color": "#EBF0F8"
             },
             "line": {
              "color": "white"
             }
            },
            "header": {
             "fill": {
              "color": "#C8D4E3"
             },
             "line": {
              "color": "white"
             }
            },
            "type": "table"
           }
          ]
         },
         "layout": {
          "annotationdefaults": {
           "arrowcolor": "#2a3f5f",
           "arrowhead": 0,
           "arrowwidth": 1
          },
          "autotypenumbers": "strict",
          "coloraxis": {
           "colorbar": {
            "outlinewidth": 0,
            "ticks": ""
           }
          },
          "colorscale": {
           "diverging": [
            [
             0,
             "#8e0152"
            ],
            [
             0.1,
             "#c51b7d"
            ],
            [
             0.2,
             "#de77ae"
            ],
            [
             0.3,
             "#f1b6da"
            ],
            [
             0.4,
             "#fde0ef"
            ],
            [
             0.5,
             "#f7f7f7"
            ],
            [
             0.6,
             "#e6f5d0"
            ],
            [
             0.7,
             "#b8e186"
            ],
            [
             0.8,
             "#7fbc41"
            ],
            [
             0.9,
             "#4d9221"
            ],
            [
             1,
             "#276419"
            ]
           ],
           "sequential": [
            [
             0,
             "#0d0887"
            ],
            [
             0.1111111111111111,
             "#46039f"
            ],
            [
             0.2222222222222222,
             "#7201a8"
            ],
            [
             0.3333333333333333,
             "#9c179e"
            ],
            [
             0.4444444444444444,
             "#bd3786"
            ],
            [
             0.5555555555555556,
             "#d8576b"
            ],
            [
             0.6666666666666666,
             "#ed7953"
            ],
            [
             0.7777777777777778,
             "#fb9f3a"
            ],
            [
             0.8888888888888888,
             "#fdca26"
            ],
            [
             1,
             "#f0f921"
            ]
           ],
           "sequentialminus": [
            [
             0,
             "#0d0887"
            ],
            [
             0.1111111111111111,
             "#46039f"
            ],
            [
             0.2222222222222222,
             "#7201a8"
            ],
            [
             0.3333333333333333,
             "#9c179e"
            ],
            [
             0.4444444444444444,
             "#bd3786"
            ],
            [
             0.5555555555555556,
             "#d8576b"
            ],
            [
             0.6666666666666666,
             "#ed7953"
            ],
            [
             0.7777777777777778,
             "#fb9f3a"
            ],
            [
             0.8888888888888888,
             "#fdca26"
            ],
            [
             1,
             "#f0f921"
            ]
           ]
          },
          "colorway": [
           "#636efa",
           "#EF553B",
           "#00cc96",
           "#ab63fa",
           "#FFA15A",
           "#19d3f3",
           "#FF6692",
           "#B6E880",
           "#FF97FF",
           "#FECB52"
          ],
          "font": {
           "color": "#2a3f5f"
          },
          "geo": {
           "bgcolor": "white",
           "lakecolor": "white",
           "landcolor": "#E5ECF6",
           "showlakes": true,
           "showland": true,
           "subunitcolor": "white"
          },
          "hoverlabel": {
           "align": "left"
          },
          "hovermode": "closest",
          "mapbox": {
           "style": "light"
          },
          "paper_bgcolor": "white",
          "plot_bgcolor": "#E5ECF6",
          "polar": {
           "angularaxis": {
            "gridcolor": "white",
            "linecolor": "white",
            "ticks": ""
           },
           "bgcolor": "#E5ECF6",
           "radialaxis": {
            "gridcolor": "white",
            "linecolor": "white",
            "ticks": ""
           }
          },
          "scene": {
           "xaxis": {
            "backgroundcolor": "#E5ECF6",
            "gridcolor": "white",
            "gridwidth": 2,
            "linecolor": "white",
            "showbackground": true,
            "ticks": "",
            "zerolinecolor": "white"
           },
           "yaxis": {
            "backgroundcolor": "#E5ECF6",
            "gridcolor": "white",
            "gridwidth": 2,
            "linecolor": "white",
            "showbackground": true,
            "ticks": "",
            "zerolinecolor": "white"
           },
           "zaxis": {
            "backgroundcolor": "#E5ECF6",
            "gridcolor": "white",
            "gridwidth": 2,
            "linecolor": "white",
            "showbackground": true,
            "ticks": "",
            "zerolinecolor": "white"
           }
          },
          "shapedefaults": {
           "line": {
            "color": "#2a3f5f"
           }
          },
          "ternary": {
           "aaxis": {
            "gridcolor": "white",
            "linecolor": "white",
            "ticks": ""
           },
           "baxis": {
            "gridcolor": "white",
            "linecolor": "white",
            "ticks": ""
           },
           "bgcolor": "#E5ECF6",
           "caxis": {
            "gridcolor": "white",
            "linecolor": "white",
            "ticks": ""
           }
          },
          "title": {
           "x": 0.05
          },
          "xaxis": {
           "automargin": true,
           "gridcolor": "white",
           "linecolor": "white",
           "ticks": "",
           "title": {
            "standoff": 15
           },
           "zerolinecolor": "white",
           "zerolinewidth": 2
          },
          "yaxis": {
           "automargin": true,
           "gridcolor": "white",
           "linecolor": "white",
           "ticks": "",
           "title": {
            "standoff": 15
           },
           "zerolinecolor": "white",
           "zerolinewidth": 2
          }
         }
        },
        "title": {
         "text": "Avg. relative accuracy across queries in workload"
        },
        "width": 1100,
        "xaxis": {
         "anchor": "y",
         "domain": [
          0,
          1
         ],
         "title": {
          "text": "workload_size"
         }
        },
        "yaxis": {
         "anchor": "x",
         "domain": [
          0,
          1
         ],
         "title": {
          "text": "workload_idp_accuracy"
         }
        }
       }
      },
      "text/html": [
       "<div>                            <div id=\"79c1929f-df1f-4675-8838-aea8e010fada\" class=\"plotly-graph-div\" style=\"height:600px; width:1100px;\"></div>            <script type=\"text/javascript\">                require([\"plotly\"], function(Plotly) {                    window.PLOTLYENV=window.PLOTLYENV || {};                                    if (document.getElementById(\"79c1929f-df1f-4675-8838-aea8e010fada\")) {                    Plotly.newPlot(                        \"79c1929f-df1f-4675-8838-aea8e010fada\",                        [{\"hovertemplate\":\"baseline=cookiemonster\\u003cbr\\u003edestination=319A2412BDB0EF669733053640B80112\\u003cbr\\u003eworkload_size=%{x}\\u003cbr\\u003eworkload_idp_accuracy=%{y}\\u003cextra\\u003e\\u003c\\u002fextra\\u003e\",\"legendgroup\":\"cookiemonster\",\"line\":{\"color\":\"#00cc96\",\"dash\":\"solid\"},\"marker\":{\"symbol\":\"circle\"},\"mode\":\"lines+markers\",\"name\":\"cookiemonster\",\"orientation\":\"v\",\"showlegend\":true,\"x\":[4,9,14,19,22,22,22,22,22,22],\"xaxis\":\"x\",\"y\":[0.9991078995246638,0.9961242032594342,0.9926896833033542,0.9833920796238429,0.9769025755084655,0.9769025755084655,0.9769025755084655,0.9769025755084655,0.9769025755084655,0.9769025755084655],\"yaxis\":\"y\",\"type\":\"scatter\"}],                        {\"annotations\":[{\"showarrow\":false,\"text\":\"destination=319A2412BDB0EF669733053640B80112\",\"x\":0.5,\"xanchor\":\"center\",\"xref\":\"paper\",\"y\":1.0,\"yanchor\":\"bottom\",\"yref\":\"paper\"}],\"height\":600,\"legend\":{\"title\":{\"text\":\"baseline\"},\"tracegroupgap\":0},\"template\":{\"data\":{\"barpolar\":[{\"marker\":{\"line\":{\"color\":\"#E5ECF6\",\"width\":0.5},\"pattern\":{\"fillmode\":\"overlay\",\"size\":10,\"solidity\":0.2}},\"type\":\"barpolar\"}],\"bar\":[{\"error_x\":{\"color\":\"#2a3f5f\"},\"error_y\":{\"color\":\"#2a3f5f\"},\"marker\":{\"line\":{\"color\":\"#E5ECF6\",\"width\":0.5},\"pattern\":{\"fillmode\":\"overlay\",\"size\":10,\"solidity\":0.2}},\"type\":\"bar\"}],\"carpet\":[{\"aaxis\":{\"endlinecolor\":\"#2a3f5f\",\"gridcolor\":\"white\",\"linecolor\":\"white\",\"minorgridcolor\":\"white\",\"startlinecolor\":\"#2a3f5f\"},\"baxis\":{\"endlinecolor\":\"#2a3f5f\",\"gridcolor\":\"white\",\"linecolor\":\"white\",\"minorgridcolor\":\"white\",\"startlinecolor\":\"#2a3f5f\"},\"type\":\"carpet\"}],\"choropleth\":[{\"colorbar\":{\"outlinewidth\":0,\"ticks\":\"\"},\"type\":\"choropleth\"}],\"contourcarpet\":[{\"colorbar\":{\"outlinewidth\":0,\"ticks\":\"\"},\"type\":\"contourcarpet\"}],\"contour\":[{\"colorbar\":{\"outlinewidth\":0,\"ticks\":\"\"},\"colorscale\":[[0.0,\"#0d0887\"],[0.1111111111111111,\"#46039f\"],[0.2222222222222222,\"#7201a8\"],[0.3333333333333333,\"#9c179e\"],[0.4444444444444444,\"#bd3786\"],[0.5555555555555556,\"#d8576b\"],[0.6666666666666666,\"#ed7953\"],[0.7777777777777778,\"#fb9f3a\"],[0.8888888888888888,\"#fdca26\"],[1.0,\"#f0f921\"]],\"type\":\"contour\"}],\"heatmapgl\":[{\"colorbar\":{\"outlinewidth\":0,\"ticks\":\"\"},\"colorscale\":[[0.0,\"#0d0887\"],[0.1111111111111111,\"#46039f\"],[0.2222222222222222,\"#7201a8\"],[0.3333333333333333,\"#9c179e\"],[0.4444444444444444,\"#bd3786\"],[0.5555555555555556,\"#d8576b\"],[0.6666666666666666,\"#ed7953\"],[0.7777777777777778,\"#fb9f3a\"],[0.8888888888888888,\"#fdca26\"],[1.0,\"#f0f921\"]],\"type\":\"heatmapgl\"}],\"heatmap\":[{\"colorbar\":{\"outlinewidth\":0,\"ticks\":\"\"},\"colorscale\":[[0.0,\"#0d0887\"],[0.1111111111111111,\"#46039f\"],[0.2222222222222222,\"#7201a8\"],[0.3333333333333333,\"#9c179e\"],[0.4444444444444444,\"#bd3786\"],[0.5555555555555556,\"#d8576b\"],[0.6666666666666666,\"#ed7953\"],[0.7777777777777778,\"#fb9f3a\"],[0.8888888888888888,\"#fdca26\"],[1.0,\"#f0f921\"]],\"type\":\"heatmap\"}],\"histogram2dcontour\":[{\"colorbar\":{\"outlinewidth\":0,\"ticks\":\"\"},\"colorscale\":[[0.0,\"#0d0887\"],[0.1111111111111111,\"#46039f\"],[0.2222222222222222,\"#7201a8\"],[0.3333333333333333,\"#9c179e\"],[0.4444444444444444,\"#bd3786\"],[0.5555555555555556,\"#d8576b\"],[0.6666666666666666,\"#ed7953\"],[0.7777777777777778,\"#fb9f3a\"],[0.8888888888888888,\"#fdca26\"],[1.0,\"#f0f921\"]],\"type\":\"histogram2dcontour\"}],\"histogram2d\":[{\"colorbar\":{\"outlinewidth\":0,\"ticks\":\"\"},\"colorscale\":[[0.0,\"#0d0887\"],[0.1111111111111111,\"#46039f\"],[0.2222222222222222,\"#7201a8\"],[0.3333333333333333,\"#9c179e\"],[0.4444444444444444,\"#bd3786\"],[0.5555555555555556,\"#d8576b\"],[0.6666666666666666,\"#ed7953\"],[0.7777777777777778,\"#fb9f3a\"],[0.8888888888888888,\"#fdca26\"],[1.0,\"#f0f921\"]],\"type\":\"histogram2d\"}],\"histogram\":[{\"marker\":{\"pattern\":{\"fillmode\":\"overlay\",\"size\":10,\"solidity\":0.2}},\"type\":\"histogram\"}],\"mesh3d\":[{\"colorbar\":{\"outlinewidth\":0,\"ticks\":\"\"},\"type\":\"mesh3d\"}],\"parcoords\":[{\"line\":{\"colorbar\":{\"outlinewidth\":0,\"ticks\":\"\"}},\"type\":\"parcoords\"}],\"pie\":[{\"automargin\":true,\"type\":\"pie\"}],\"scatter3d\":[{\"line\":{\"colorbar\":{\"outlinewidth\":0,\"ticks\":\"\"}},\"marker\":{\"colorbar\":{\"outlinewidth\":0,\"ticks\":\"\"}},\"type\":\"scatter3d\"}],\"scattercarpet\":[{\"marker\":{\"colorbar\":{\"outlinewidth\":0,\"ticks\":\"\"}},\"type\":\"scattercarpet\"}],\"scattergeo\":[{\"marker\":{\"colorbar\":{\"outlinewidth\":0,\"ticks\":\"\"}},\"type\":\"scattergeo\"}],\"scattergl\":[{\"marker\":{\"colorbar\":{\"outlinewidth\":0,\"ticks\":\"\"}},\"type\":\"scattergl\"}],\"scattermapbox\":[{\"marker\":{\"colorbar\":{\"outlinewidth\":0,\"ticks\":\"\"}},\"type\":\"scattermapbox\"}],\"scatterpolargl\":[{\"marker\":{\"colorbar\":{\"outlinewidth\":0,\"ticks\":\"\"}},\"type\":\"scatterpolargl\"}],\"scatterpolar\":[{\"marker\":{\"colorbar\":{\"outlinewidth\":0,\"ticks\":\"\"}},\"type\":\"scatterpolar\"}],\"scatter\":[{\"fillpattern\":{\"fillmode\":\"overlay\",\"size\":10,\"solidity\":0.2},\"type\":\"scatter\"}],\"scatterternary\":[{\"marker\":{\"colorbar\":{\"outlinewidth\":0,\"ticks\":\"\"}},\"type\":\"scatterternary\"}],\"surface\":[{\"colorbar\":{\"outlinewidth\":0,\"ticks\":\"\"},\"colorscale\":[[0.0,\"#0d0887\"],[0.1111111111111111,\"#46039f\"],[0.2222222222222222,\"#7201a8\"],[0.3333333333333333,\"#9c179e\"],[0.4444444444444444,\"#bd3786\"],[0.5555555555555556,\"#d8576b\"],[0.6666666666666666,\"#ed7953\"],[0.7777777777777778,\"#fb9f3a\"],[0.8888888888888888,\"#fdca26\"],[1.0,\"#f0f921\"]],\"type\":\"surface\"}],\"table\":[{\"cells\":{\"fill\":{\"color\":\"#EBF0F8\"},\"line\":{\"color\":\"white\"}},\"header\":{\"fill\":{\"color\":\"#C8D4E3\"},\"line\":{\"color\":\"white\"}},\"type\":\"table\"}]},\"layout\":{\"annotationdefaults\":{\"arrowcolor\":\"#2a3f5f\",\"arrowhead\":0,\"arrowwidth\":1},\"autotypenumbers\":\"strict\",\"coloraxis\":{\"colorbar\":{\"outlinewidth\":0,\"ticks\":\"\"}},\"colorscale\":{\"diverging\":[[0,\"#8e0152\"],[0.1,\"#c51b7d\"],[0.2,\"#de77ae\"],[0.3,\"#f1b6da\"],[0.4,\"#fde0ef\"],[0.5,\"#f7f7f7\"],[0.6,\"#e6f5d0\"],[0.7,\"#b8e186\"],[0.8,\"#7fbc41\"],[0.9,\"#4d9221\"],[1,\"#276419\"]],\"sequential\":[[0.0,\"#0d0887\"],[0.1111111111111111,\"#46039f\"],[0.2222222222222222,\"#7201a8\"],[0.3333333333333333,\"#9c179e\"],[0.4444444444444444,\"#bd3786\"],[0.5555555555555556,\"#d8576b\"],[0.6666666666666666,\"#ed7953\"],[0.7777777777777778,\"#fb9f3a\"],[0.8888888888888888,\"#fdca26\"],[1.0,\"#f0f921\"]],\"sequentialminus\":[[0.0,\"#0d0887\"],[0.1111111111111111,\"#46039f\"],[0.2222222222222222,\"#7201a8\"],[0.3333333333333333,\"#9c179e\"],[0.4444444444444444,\"#bd3786\"],[0.5555555555555556,\"#d8576b\"],[0.6666666666666666,\"#ed7953\"],[0.7777777777777778,\"#fb9f3a\"],[0.8888888888888888,\"#fdca26\"],[1.0,\"#f0f921\"]]},\"colorway\":[\"#636efa\",\"#EF553B\",\"#00cc96\",\"#ab63fa\",\"#FFA15A\",\"#19d3f3\",\"#FF6692\",\"#B6E880\",\"#FF97FF\",\"#FECB52\"],\"font\":{\"color\":\"#2a3f5f\"},\"geo\":{\"bgcolor\":\"white\",\"lakecolor\":\"white\",\"landcolor\":\"#E5ECF6\",\"showlakes\":true,\"showland\":true,\"subunitcolor\":\"white\"},\"hoverlabel\":{\"align\":\"left\"},\"hovermode\":\"closest\",\"mapbox\":{\"style\":\"light\"},\"paper_bgcolor\":\"white\",\"plot_bgcolor\":\"#E5ECF6\",\"polar\":{\"angularaxis\":{\"gridcolor\":\"white\",\"linecolor\":\"white\",\"ticks\":\"\"},\"bgcolor\":\"#E5ECF6\",\"radialaxis\":{\"gridcolor\":\"white\",\"linecolor\":\"white\",\"ticks\":\"\"}},\"scene\":{\"xaxis\":{\"backgroundcolor\":\"#E5ECF6\",\"gridcolor\":\"white\",\"gridwidth\":2,\"linecolor\":\"white\",\"showbackground\":true,\"ticks\":\"\",\"zerolinecolor\":\"white\"},\"yaxis\":{\"backgroundcolor\":\"#E5ECF6\",\"gridcolor\":\"white\",\"gridwidth\":2,\"linecolor\":\"white\",\"showbackground\":true,\"ticks\":\"\",\"zerolinecolor\":\"white\"},\"zaxis\":{\"backgroundcolor\":\"#E5ECF6\",\"gridcolor\":\"white\",\"gridwidth\":2,\"linecolor\":\"white\",\"showbackground\":true,\"ticks\":\"\",\"zerolinecolor\":\"white\"}},\"shapedefaults\":{\"line\":{\"color\":\"#2a3f5f\"}},\"ternary\":{\"aaxis\":{\"gridcolor\":\"white\",\"linecolor\":\"white\",\"ticks\":\"\"},\"baxis\":{\"gridcolor\":\"white\",\"linecolor\":\"white\",\"ticks\":\"\"},\"bgcolor\":\"#E5ECF6\",\"caxis\":{\"gridcolor\":\"white\",\"linecolor\":\"white\",\"ticks\":\"\"}},\"title\":{\"x\":0.05},\"xaxis\":{\"automargin\":true,\"gridcolor\":\"white\",\"linecolor\":\"white\",\"ticks\":\"\",\"title\":{\"standoff\":15},\"zerolinecolor\":\"white\",\"zerolinewidth\":2},\"yaxis\":{\"automargin\":true,\"gridcolor\":\"white\",\"linecolor\":\"white\",\"ticks\":\"\",\"title\":{\"standoff\":15},\"zerolinecolor\":\"white\",\"zerolinewidth\":2}}},\"title\":{\"text\":\"Avg. relative accuracy across queries in workload\"},\"width\":1100,\"xaxis\":{\"anchor\":\"y\",\"domain\":[0.0,1.0],\"title\":{\"text\":\"workload_size\"}},\"yaxis\":{\"anchor\":\"x\",\"domain\":[0.0,1.0],\"title\":{\"text\":\"workload_idp_accuracy\"}}},                        {\"responsive\": true}                    ).then(function(){\n",
       "                            \n",
       "var gd = document.getElementById('79c1929f-df1f-4675-8838-aea8e010fada');\n",
       "var x = new MutationObserver(function (mutations, observer) {{\n",
       "        var display = window.getComputedStyle(gd).display;\n",
       "        if (!display || display === 'none') {{\n",
       "            console.log([gd, 'removed!']);\n",
       "            Plotly.purge(gd);\n",
       "            observer.disconnect();\n",
       "        }}\n",
       "}});\n",
       "\n",
       "// Listen for the removal of the full notebook cells\n",
       "var notebookContainer = gd.closest('#notebook-container');\n",
       "if (notebookContainer) {{\n",
       "    x.observe(notebookContainer, {childList: true});\n",
       "}}\n",
       "\n",
       "// Listen for the clearing of the current output cell\n",
       "var outputEl = gd.closest('.output');\n",
       "if (outputEl) {{\n",
       "    x.observe(outputEl, {childList: true});\n",
       "}}\n",
       "\n",
       "                        })                };                });            </script>        </div>"
      ]
     },
     "metadata": {},
     "output_type": "display_data"
    }
   ],
   "source": [
    "path = \"cookiemonster\"\n",
    "df = analyze_results(path, \"bias\", parallelize=False)\n",
    "for destination in df.groupby(['destination']).destination.unique():\n",
    "    if not destination[0].startswith('319'):\n",
    "        continue\n",
    "    advertiser = df[df['destination'].isin(destination)]\n",
    "    plot_accuracy(advertiser)"
   ]
  },
  {
   "cell_type": "code",
   "execution_count": 29,
   "metadata": {},
   "outputs": [
    {
     "data": {
      "text/html": [
       "<div>\n",
       "<style scoped>\n",
       "    .dataframe tbody tr th:only-of-type {\n",
       "        vertical-align: middle;\n",
       "    }\n",
       "\n",
       "    .dataframe tbody tr th {\n",
       "        vertical-align: top;\n",
       "    }\n",
       "\n",
       "    .dataframe thead th {\n",
       "        text-align: right;\n",
       "    }\n",
       "</style>\n",
       "<table border=\"1\" class=\"dataframe\">\n",
       "  <thead>\n",
       "    <tr style=\"text-align: right;\">\n",
       "      <th></th>\n",
       "      <th>product_age_group</th>\n",
       "      <th>device_type</th>\n",
       "      <th>audience_id</th>\n",
       "      <th>product_gender</th>\n",
       "      <th>product_brand</th>\n",
       "      <th>product_category1</th>\n",
       "      <th>product_category2</th>\n",
       "      <th>product_category3</th>\n",
       "      <th>product_category4</th>\n",
       "      <th>product_category5</th>\n",
       "      <th>...</th>\n",
       "      <th>user_id</th>\n",
       "      <th>conversion_timestamp</th>\n",
       "      <th>conversion_datetime</th>\n",
       "      <th>conversion_day</th>\n",
       "      <th>filter</th>\n",
       "      <th>count</th>\n",
       "      <th>included</th>\n",
       "      <th>epsilon</th>\n",
       "      <th>aggregatable_cap_value</th>\n",
       "      <th>key</th>\n",
       "    </tr>\n",
       "  </thead>\n",
       "  <tbody>\n",
       "    <tr>\n",
       "      <th>0</th>\n",
       "      <td>NaN</td>\n",
       "      <td>7E56C27BFF0305E788DA55A029EC4988</td>\n",
       "      <td>2F0F9415F834C5E483CAF9EECD0728A9</td>\n",
       "      <td>NaN</td>\n",
       "      <td>NaN</td>\n",
       "      <td>7F286560861764CCB93C90B7AA833949</td>\n",
       "      <td>939A40D09BD05A13C32B381245670495</td>\n",
       "      <td>87E33E0563FFE783FB56D01E7E09E692</td>\n",
       "      <td>71EA49120E86E769830E8F99F3771CBD</td>\n",
       "      <td>E1178B3FAE37E3E767143074AAE22C58</td>\n",
       "      <td>...</td>\n",
       "      <td>FD99253C9CAA5EEDE0CB8B590B5A418A</td>\n",
       "      <td>1599439385</td>\n",
       "      <td>2020-09-06 19:43:05</td>\n",
       "      <td>34</td>\n",
       "      <td>-</td>\n",
       "      <td>1.0</td>\n",
       "      <td>True</td>\n",
       "      <td>0.154900</td>\n",
       "      <td>5</td>\n",
       "      <td>1</td>\n",
       "    </tr>\n",
       "    <tr>\n",
       "      <th>1</th>\n",
       "      <td>NaN</td>\n",
       "      <td>7E56C27BFF0305E788DA55A029EC4988</td>\n",
       "      <td>69A24ADB8FB0224E72CB9FD46C0A5885</td>\n",
       "      <td>NaN</td>\n",
       "      <td>NaN</td>\n",
       "      <td>7F286560861764CCB93C90B7AA833949</td>\n",
       "      <td>939A40D09BD05A13C32B381245670495</td>\n",
       "      <td>F12DD5F3BC9E9EE69AF2BFF82AF42027</td>\n",
       "      <td>E0A59502390241811FF14D48EBBA178A</td>\n",
       "      <td>B17162DCB9317062B963EE4C65A87677</td>\n",
       "      <td>...</td>\n",
       "      <td>80B994E556C60C96664A1B4B45F4FDC0</td>\n",
       "      <td>1598897383</td>\n",
       "      <td>2020-08-31 13:09:43</td>\n",
       "      <td>28</td>\n",
       "      <td>-</td>\n",
       "      <td>1.0</td>\n",
       "      <td>True</td>\n",
       "      <td>0.270892</td>\n",
       "      <td>5</td>\n",
       "      <td>2</td>\n",
       "    </tr>\n",
       "    <tr>\n",
       "      <th>2</th>\n",
       "      <td>NaN</td>\n",
       "      <td>D7D1FB49049702BF6338894757E0D959</td>\n",
       "      <td>ACEBB1033A0E853C11470868111DCD10</td>\n",
       "      <td>NaN</td>\n",
       "      <td>NaN</td>\n",
       "      <td>62D6A49514020FA0B2E434DB0B506005</td>\n",
       "      <td>C1E60A42840668783CE8F9C783D33BD5</td>\n",
       "      <td>AC674A0B8D2DDB049A6F98F45DD3CF64</td>\n",
       "      <td>D490BA2B409F8CDCA99C16B868086C9B</td>\n",
       "      <td>FEEFAC3D74EAD2A1D5A1832803329798</td>\n",
       "      <td>...</td>\n",
       "      <td>F1472C56BD894E4F71952291DE9BCE87</td>\n",
       "      <td>1598904321</td>\n",
       "      <td>2020-08-31 15:05:21</td>\n",
       "      <td>28</td>\n",
       "      <td>-</td>\n",
       "      <td>1.0</td>\n",
       "      <td>True</td>\n",
       "      <td>0.190296</td>\n",
       "      <td>5</td>\n",
       "      <td>3</td>\n",
       "    </tr>\n",
       "    <tr>\n",
       "      <th>3</th>\n",
       "      <td>NaN</td>\n",
       "      <td>7E56C27BFF0305E788DA55A029EC4988</td>\n",
       "      <td>NaN</td>\n",
       "      <td>NaN</td>\n",
       "      <td>NaN</td>\n",
       "      <td>7F286560861764CCB93C90B7AA833949</td>\n",
       "      <td>939A40D09BD05A13C32B381245670495</td>\n",
       "      <td>F12DD5F3BC9E9EE69AF2BFF82AF42027</td>\n",
       "      <td>E0A59502390241811FF14D48EBBA178A</td>\n",
       "      <td>B17162DCB9317062B963EE4C65A87677</td>\n",
       "      <td>...</td>\n",
       "      <td>7EA58E979ACADE2AA81F037DA54C142E</td>\n",
       "      <td>1599068983</td>\n",
       "      <td>2020-09-02 12:49:43</td>\n",
       "      <td>30</td>\n",
       "      <td>-</td>\n",
       "      <td>1.0</td>\n",
       "      <td>True</td>\n",
       "      <td>0.270892</td>\n",
       "      <td>5</td>\n",
       "      <td>2</td>\n",
       "    </tr>\n",
       "    <tr>\n",
       "      <th>4</th>\n",
       "      <td>NaN</td>\n",
       "      <td>FF2C446555E3822B0E0FC3406116E86D</td>\n",
       "      <td>NaN</td>\n",
       "      <td>NaN</td>\n",
       "      <td>NaN</td>\n",
       "      <td>7F286560861764CCB93C90B7AA833949</td>\n",
       "      <td>939A40D09BD05A13C32B381245670495</td>\n",
       "      <td>87E33E0563FFE783FB56D01E7E09E692</td>\n",
       "      <td>71EA49120E86E769830E8F99F3771CBD</td>\n",
       "      <td>E1178B3FAE37E3E767143074AAE22C58</td>\n",
       "      <td>...</td>\n",
       "      <td>536DEE8592956A530EB4A19545151DBD</td>\n",
       "      <td>1598907671</td>\n",
       "      <td>2020-08-31 16:01:11</td>\n",
       "      <td>28</td>\n",
       "      <td>-</td>\n",
       "      <td>1.0</td>\n",
       "      <td>True</td>\n",
       "      <td>0.154900</td>\n",
       "      <td>5</td>\n",
       "      <td>1</td>\n",
       "    </tr>\n",
       "  </tbody>\n",
       "</table>\n",
       "<p>5 rows × 24 columns</p>\n",
       "</div>"
      ],
      "text/plain": [
       "  product_age_group                       device_type  \\\n",
       "0               NaN  7E56C27BFF0305E788DA55A029EC4988   \n",
       "1               NaN  7E56C27BFF0305E788DA55A029EC4988   \n",
       "2               NaN  D7D1FB49049702BF6338894757E0D959   \n",
       "3               NaN  7E56C27BFF0305E788DA55A029EC4988   \n",
       "4               NaN  FF2C446555E3822B0E0FC3406116E86D   \n",
       "\n",
       "                        audience_id product_gender product_brand  \\\n",
       "0  2F0F9415F834C5E483CAF9EECD0728A9            NaN           NaN   \n",
       "1  69A24ADB8FB0224E72CB9FD46C0A5885            NaN           NaN   \n",
       "2  ACEBB1033A0E853C11470868111DCD10            NaN           NaN   \n",
       "3                               NaN            NaN           NaN   \n",
       "4                               NaN            NaN           NaN   \n",
       "\n",
       "                  product_category1                 product_category2  \\\n",
       "0  7F286560861764CCB93C90B7AA833949  939A40D09BD05A13C32B381245670495   \n",
       "1  7F286560861764CCB93C90B7AA833949  939A40D09BD05A13C32B381245670495   \n",
       "2  62D6A49514020FA0B2E434DB0B506005  C1E60A42840668783CE8F9C783D33BD5   \n",
       "3  7F286560861764CCB93C90B7AA833949  939A40D09BD05A13C32B381245670495   \n",
       "4  7F286560861764CCB93C90B7AA833949  939A40D09BD05A13C32B381245670495   \n",
       "\n",
       "                  product_category3                 product_category4  \\\n",
       "0  87E33E0563FFE783FB56D01E7E09E692  71EA49120E86E769830E8F99F3771CBD   \n",
       "1  F12DD5F3BC9E9EE69AF2BFF82AF42027  E0A59502390241811FF14D48EBBA178A   \n",
       "2  AC674A0B8D2DDB049A6F98F45DD3CF64  D490BA2B409F8CDCA99C16B868086C9B   \n",
       "3  F12DD5F3BC9E9EE69AF2BFF82AF42027  E0A59502390241811FF14D48EBBA178A   \n",
       "4  87E33E0563FFE783FB56D01E7E09E692  71EA49120E86E769830E8F99F3771CBD   \n",
       "\n",
       "                  product_category5  ...                           user_id  \\\n",
       "0  E1178B3FAE37E3E767143074AAE22C58  ...  FD99253C9CAA5EEDE0CB8B590B5A418A   \n",
       "1  B17162DCB9317062B963EE4C65A87677  ...  80B994E556C60C96664A1B4B45F4FDC0   \n",
       "2  FEEFAC3D74EAD2A1D5A1832803329798  ...  F1472C56BD894E4F71952291DE9BCE87   \n",
       "3  B17162DCB9317062B963EE4C65A87677  ...  7EA58E979ACADE2AA81F037DA54C142E   \n",
       "4  E1178B3FAE37E3E767143074AAE22C58  ...  536DEE8592956A530EB4A19545151DBD   \n",
       "\n",
       "  conversion_timestamp  conversion_datetime conversion_day filter  count  \\\n",
       "0           1599439385  2020-09-06 19:43:05             34      -    1.0   \n",
       "1           1598897383  2020-08-31 13:09:43             28      -    1.0   \n",
       "2           1598904321  2020-08-31 15:05:21             28      -    1.0   \n",
       "3           1599068983  2020-09-02 12:49:43             30      -    1.0   \n",
       "4           1598907671  2020-08-31 16:01:11             28      -    1.0   \n",
       "\n",
       "  included   epsilon aggregatable_cap_value  key  \n",
       "0     True  0.154900                      5    1  \n",
       "1     True  0.270892                      5    2  \n",
       "2     True  0.190296                      5    3  \n",
       "3     True  0.270892                      5    2  \n",
       "4     True  0.154900                      5    1  \n",
       "\n",
       "[5 rows x 24 columns]"
      ]
     },
     "execution_count": 29,
     "metadata": {},
     "output_type": "execute_result"
    }
   ],
   "source": [
    "df = pd.read_csv('../data/criteo/criteo_query_pool_conversions.csv')\n",
    "df.head()"
   ]
  },
  {
   "cell_type": "code",
   "execution_count": 32,
   "metadata": {},
   "outputs": [
    {
     "data": {
      "text/plain": [
       "key\n",
       "1      [1]\n",
       "2      [2]\n",
       "3      [3]\n",
       "4      [4]\n",
       "5      [5]\n",
       "6      [6]\n",
       "7      [7]\n",
       "8      [8]\n",
       "9      [9]\n",
       "10    [10]\n",
       "11    [11]\n",
       "12    [12]\n",
       "13    [13]\n",
       "14    [14]\n",
       "15    [15]\n",
       "16    [16]\n",
       "17    [17]\n",
       "18    [18]\n",
       "19    [19]\n",
       "20    [20]\n",
       "21    [21]\n",
       "22    [22]\n",
       "Name: key, dtype: object"
      ]
     },
     "execution_count": 32,
     "metadata": {},
     "output_type": "execute_result"
    }
   ],
   "source": [
    "that_guy = df[df.partner_id.isin(['319A2412BDB0EF669733053640B80112'])]\n",
    "uk = that_guy.groupby('key').key.unique()\n",
    "uk"
   ]
  },
  {
   "cell_type": "code",
   "execution_count": 7,
   "metadata": {},
   "outputs": [
    {
     "name": "stdout",
     "output_type": "stream",
     "text": [
      "/mydata/cookiemonster/logs/0402-232917_4aad5f/result.json\n"
     ]
    },
    {
     "ename": "KeyboardInterrupt",
     "evalue": "",
     "output_type": "error",
     "traceback": [
      "\u001b[0;31m---------------------------------------------------------------------------\u001b[0m",
      "\u001b[0;31mKeyboardInterrupt\u001b[0m                         Traceback (most recent call last)",
      "Cell \u001b[0;32mIn[7], line 2\u001b[0m\n\u001b[1;32m      1\u001b[0m path \u001b[38;5;241m=\u001b[39m \u001b[38;5;124m\"\u001b[39m\u001b[38;5;124m.\u001b[39m\u001b[38;5;124m\"\u001b[39m\n\u001b[0;32m----> 2\u001b[0m df \u001b[38;5;241m=\u001b[39m \u001b[43manalyze_results\u001b[49m\u001b[43m(\u001b[49m\u001b[43mpath\u001b[49m\u001b[43m,\u001b[49m\u001b[43m \u001b[49m\u001b[38;5;124;43m\"\u001b[39;49m\u001b[38;5;124;43mbudget\u001b[39;49m\u001b[38;5;124;43m\"\u001b[39;49m\u001b[43m)\u001b[49m\n\u001b[1;32m      3\u001b[0m df \u001b[38;5;241m=\u001b[39m df\u001b[38;5;241m.\u001b[39msort_values(by\u001b[38;5;241m=\u001b[39m\u001b[38;5;124m\"\u001b[39m\u001b[38;5;124mworkload_size\u001b[39m\u001b[38;5;124m\"\u001b[39m, ascending\u001b[38;5;241m=\u001b[39m\u001b[38;5;28;01mFalse\u001b[39;00m)\u001b[38;5;241m.\u001b[39mhead()\n\u001b[1;32m      4\u001b[0m plot_budget_consumption(df)\n",
      "File \u001b[0;32m/mydata/cookiemonster/notebooks/utils.py:265\u001b[0m, in \u001b[0;36manalyze_results\u001b[0;34m(path, type, parallelize)\u001b[0m\n\u001b[1;32m    262\u001b[0m         processes[i]\u001b[38;5;241m.\u001b[39mstart()\n\u001b[1;32m    264\u001b[0m     \u001b[38;5;28;01mfor\u001b[39;00m process \u001b[38;5;129;01min\u001b[39;00m processes:\n\u001b[0;32m--> 265\u001b[0m         \u001b[43mprocess\u001b[49m\u001b[38;5;241;43m.\u001b[39;49m\u001b[43mjoin\u001b[49m\u001b[43m(\u001b[49m\u001b[43m)\u001b[49m\n\u001b[1;32m    266\u001b[0m \u001b[38;5;28;01melse\u001b[39;00m:\n\u001b[1;32m    267\u001b[0m     results \u001b[38;5;241m=\u001b[39m {}\n",
      "File \u001b[0;32m/usr/lib/python3.10/multiprocessing/process.py:149\u001b[0m, in \u001b[0;36mBaseProcess.join\u001b[0;34m(self, timeout)\u001b[0m\n\u001b[1;32m    147\u001b[0m \u001b[38;5;28;01massert\u001b[39;00m \u001b[38;5;28mself\u001b[39m\u001b[38;5;241m.\u001b[39m_parent_pid \u001b[38;5;241m==\u001b[39m os\u001b[38;5;241m.\u001b[39mgetpid(), \u001b[38;5;124m'\u001b[39m\u001b[38;5;124mcan only join a child process\u001b[39m\u001b[38;5;124m'\u001b[39m\n\u001b[1;32m    148\u001b[0m \u001b[38;5;28;01massert\u001b[39;00m \u001b[38;5;28mself\u001b[39m\u001b[38;5;241m.\u001b[39m_popen \u001b[38;5;129;01mis\u001b[39;00m \u001b[38;5;129;01mnot\u001b[39;00m \u001b[38;5;28;01mNone\u001b[39;00m, \u001b[38;5;124m'\u001b[39m\u001b[38;5;124mcan only join a started process\u001b[39m\u001b[38;5;124m'\u001b[39m\n\u001b[0;32m--> 149\u001b[0m res \u001b[38;5;241m=\u001b[39m \u001b[38;5;28;43mself\u001b[39;49m\u001b[38;5;241;43m.\u001b[39;49m\u001b[43m_popen\u001b[49m\u001b[38;5;241;43m.\u001b[39;49m\u001b[43mwait\u001b[49m\u001b[43m(\u001b[49m\u001b[43mtimeout\u001b[49m\u001b[43m)\u001b[49m\n\u001b[1;32m    150\u001b[0m \u001b[38;5;28;01mif\u001b[39;00m res \u001b[38;5;129;01mis\u001b[39;00m \u001b[38;5;129;01mnot\u001b[39;00m \u001b[38;5;28;01mNone\u001b[39;00m:\n\u001b[1;32m    151\u001b[0m     _children\u001b[38;5;241m.\u001b[39mdiscard(\u001b[38;5;28mself\u001b[39m)\n",
      "File \u001b[0;32m/usr/lib/python3.10/multiprocessing/popen_fork.py:43\u001b[0m, in \u001b[0;36mPopen.wait\u001b[0;34m(self, timeout)\u001b[0m\n\u001b[1;32m     41\u001b[0m             \u001b[38;5;28;01mreturn\u001b[39;00m \u001b[38;5;28;01mNone\u001b[39;00m\n\u001b[1;32m     42\u001b[0m     \u001b[38;5;66;03m# This shouldn't block if wait() returned successfully.\u001b[39;00m\n\u001b[0;32m---> 43\u001b[0m     \u001b[38;5;28;01mreturn\u001b[39;00m \u001b[38;5;28;43mself\u001b[39;49m\u001b[38;5;241;43m.\u001b[39;49m\u001b[43mpoll\u001b[49m\u001b[43m(\u001b[49m\u001b[43mos\u001b[49m\u001b[38;5;241;43m.\u001b[39;49m\u001b[43mWNOHANG\u001b[49m\u001b[43m \u001b[49m\u001b[38;5;28;43;01mif\u001b[39;49;00m\u001b[43m \u001b[49m\u001b[43mtimeout\u001b[49m\u001b[43m \u001b[49m\u001b[38;5;241;43m==\u001b[39;49m\u001b[43m \u001b[49m\u001b[38;5;241;43m0.0\u001b[39;49m\u001b[43m \u001b[49m\u001b[38;5;28;43;01melse\u001b[39;49;00m\u001b[43m \u001b[49m\u001b[38;5;241;43m0\u001b[39;49m\u001b[43m)\u001b[49m\n\u001b[1;32m     44\u001b[0m \u001b[38;5;28;01mreturn\u001b[39;00m \u001b[38;5;28mself\u001b[39m\u001b[38;5;241m.\u001b[39mreturncode\n",
      "File \u001b[0;32m/usr/lib/python3.10/multiprocessing/popen_fork.py:27\u001b[0m, in \u001b[0;36mPopen.poll\u001b[0;34m(self, flag)\u001b[0m\n\u001b[1;32m     25\u001b[0m \u001b[38;5;28;01mif\u001b[39;00m \u001b[38;5;28mself\u001b[39m\u001b[38;5;241m.\u001b[39mreturncode \u001b[38;5;129;01mis\u001b[39;00m \u001b[38;5;28;01mNone\u001b[39;00m:\n\u001b[1;32m     26\u001b[0m     \u001b[38;5;28;01mtry\u001b[39;00m:\n\u001b[0;32m---> 27\u001b[0m         pid, sts \u001b[38;5;241m=\u001b[39m \u001b[43mos\u001b[49m\u001b[38;5;241;43m.\u001b[39;49m\u001b[43mwaitpid\u001b[49m\u001b[43m(\u001b[49m\u001b[38;5;28;43mself\u001b[39;49m\u001b[38;5;241;43m.\u001b[39;49m\u001b[43mpid\u001b[49m\u001b[43m,\u001b[49m\u001b[43m \u001b[49m\u001b[43mflag\u001b[49m\u001b[43m)\u001b[49m\n\u001b[1;32m     28\u001b[0m     \u001b[38;5;28;01mexcept\u001b[39;00m \u001b[38;5;167;01mOSError\u001b[39;00m:\n\u001b[1;32m     29\u001b[0m         \u001b[38;5;66;03m# Child process not yet created. See #1731717\u001b[39;00m\n\u001b[1;32m     30\u001b[0m         \u001b[38;5;66;03m# e.errno == errno.ECHILD == 10\u001b[39;00m\n\u001b[1;32m     31\u001b[0m         \u001b[38;5;28;01mreturn\u001b[39;00m \u001b[38;5;28;01mNone\u001b[39;00m\n",
      "\u001b[0;31mKeyboardInterrupt\u001b[0m: "
     ]
    }
   ],
   "source": [
    "path = \".\"\n",
    "df = analyze_results(path, \"budget\")\n",
    "df = df.sort_values(by=\"workload_size\", ascending=False).head()\n",
    "plot_budget_consumption(df)"
   ]
  },
  {
   "cell_type": "code",
   "execution_count": 230,
   "metadata": {
    "scrolled": true
   },
   "outputs": [],
   "source": [
    "path = \"ray/synthetic/budget_consumption_varying_impressions_rate_7\"\n",
    "df = analyze_results(path, \"budget\")\n",
    "plot_budget_consumption(df, facet_row=\"impression_rate\")"
   ]
  },
  {
   "cell_type": "code",
   "execution_count": 14,
   "metadata": {},
   "outputs": [],
   "source": [
    "path = \"ray/synthetic/budget_consumption_varying_epoch_granularity\"\n",
    "df = analyze_results(path, \"budget\")\n",
    "plot_budget_consumption(df, facet_row=\"num_days_per_epoch\")"
   ]
  },
  {
   "cell_type": "code",
   "execution_count": 35,
   "metadata": {},
   "outputs": [
    {
     "data": {
      "application/vnd.plotly.v1+json": {
       "config": {
        "linkText": "Export to plot.ly",
        "plotlyServerURL": "https://plot.ly",
        "showLink": false
       },
       "data": [
        {
         "hovertemplate": "baseline=ipa<br>destination=1<br>workload_size=%{x}<br>fraction_queries_without_idp_bias=%{y}<extra></extra>",
         "legendgroup": "ipa",
         "line": {
          "color": "#636efa",
          "dash": "solid"
         },
         "marker": {
          "symbol": "circle"
         },
         "mode": "lines+markers",
         "name": "ipa",
         "orientation": "v",
         "showlegend": true,
         "type": "scatter",
         "x": [
          50,
          100,
          150,
          200,
          250,
          300,
          350,
          400,
          450,
          500
         ],
         "xaxis": "x",
         "y": [
          1,
          0.83,
          0.5733333333333334,
          0.43,
          0.344,
          0.2866666666666667,
          0.24571428571428572,
          0.215,
          0.19111111111111112,
          0.172
         ],
         "yaxis": "y"
        },
        {
         "hovertemplate": "baseline=user_epoch_ara<br>destination=1<br>workload_size=%{x}<br>fraction_queries_without_idp_bias=%{y}<extra></extra>",
         "legendgroup": "user_epoch_ara",
         "line": {
          "color": "#EF553B",
          "dash": "solid"
         },
         "marker": {
          "symbol": "circle"
         },
         "mode": "lines+markers",
         "name": "user_epoch_ara",
         "orientation": "v",
         "showlegend": true,
         "type": "scatter",
         "x": [
          50,
          100,
          150,
          200,
          250,
          300,
          350,
          400,
          450,
          500
         ],
         "xaxis": "x",
         "y": [
          1,
          0.4,
          0.2,
          0.2,
          0,
          0,
          0,
          0,
          0,
          0
         ],
         "yaxis": "y"
        },
        {
         "hovertemplate": "baseline=cookiemonster<br>destination=1<br>workload_size=%{x}<br>fraction_queries_without_idp_bias=%{y}<extra></extra>",
         "legendgroup": "cookiemonster",
         "line": {
          "color": "#00cc96",
          "dash": "solid"
         },
         "marker": {
          "symbol": "circle"
         },
         "mode": "lines+markers",
         "name": "cookiemonster",
         "orientation": "v",
         "showlegend": true,
         "type": "scatter",
         "x": [
          50,
          100,
          150,
          200,
          250,
          300,
          350,
          400,
          450,
          500
         ],
         "xaxis": "x",
         "y": [
          1,
          1,
          0.36,
          0.2,
          0.2,
          0.17333333333333334,
          0,
          0,
          0,
          0
         ],
         "yaxis": "y"
        }
       ],
       "layout": {
        "annotations": [
         {
          "showarrow": false,
          "text": "destination=1",
          "x": 0.5,
          "xanchor": "center",
          "xref": "paper",
          "y": 1,
          "yanchor": "bottom",
          "yref": "paper"
         }
        ],
        "height": 600,
        "legend": {
         "title": {
          "text": "baseline"
         },
         "tracegroupgap": 0
        },
        "template": {
         "data": {
          "bar": [
           {
            "error_x": {
             "color": "#2a3f5f"
            },
            "error_y": {
             "color": "#2a3f5f"
            },
            "marker": {
             "line": {
              "color": "#E5ECF6",
              "width": 0.5
             },
             "pattern": {
              "fillmode": "overlay",
              "size": 10,
              "solidity": 0.2
             }
            },
            "type": "bar"
           }
          ],
          "barpolar": [
           {
            "marker": {
             "line": {
              "color": "#E5ECF6",
              "width": 0.5
             },
             "pattern": {
              "fillmode": "overlay",
              "size": 10,
              "solidity": 0.2
             }
            },
            "type": "barpolar"
           }
          ],
          "carpet": [
           {
            "aaxis": {
             "endlinecolor": "#2a3f5f",
             "gridcolor": "white",
             "linecolor": "white",
             "minorgridcolor": "white",
             "startlinecolor": "#2a3f5f"
            },
            "baxis": {
             "endlinecolor": "#2a3f5f",
             "gridcolor": "white",
             "linecolor": "white",
             "minorgridcolor": "white",
             "startlinecolor": "#2a3f5f"
            },
            "type": "carpet"
           }
          ],
          "choropleth": [
           {
            "colorbar": {
             "outlinewidth": 0,
             "ticks": ""
            },
            "type": "choropleth"
           }
          ],
          "contour": [
           {
            "colorbar": {
             "outlinewidth": 0,
             "ticks": ""
            },
            "colorscale": [
             [
              0,
              "#0d0887"
             ],
             [
              0.1111111111111111,
              "#46039f"
             ],
             [
              0.2222222222222222,
              "#7201a8"
             ],
             [
              0.3333333333333333,
              "#9c179e"
             ],
             [
              0.4444444444444444,
              "#bd3786"
             ],
             [
              0.5555555555555556,
              "#d8576b"
             ],
             [
              0.6666666666666666,
              "#ed7953"
             ],
             [
              0.7777777777777778,
              "#fb9f3a"
             ],
             [
              0.8888888888888888,
              "#fdca26"
             ],
             [
              1,
              "#f0f921"
             ]
            ],
            "type": "contour"
           }
          ],
          "contourcarpet": [
           {
            "colorbar": {
             "outlinewidth": 0,
             "ticks": ""
            },
            "type": "contourcarpet"
           }
          ],
          "heatmap": [
           {
            "colorbar": {
             "outlinewidth": 0,
             "ticks": ""
            },
            "colorscale": [
             [
              0,
              "#0d0887"
             ],
             [
              0.1111111111111111,
              "#46039f"
             ],
             [
              0.2222222222222222,
              "#7201a8"
             ],
             [
              0.3333333333333333,
              "#9c179e"
             ],
             [
              0.4444444444444444,
              "#bd3786"
             ],
             [
              0.5555555555555556,
              "#d8576b"
             ],
             [
              0.6666666666666666,
              "#ed7953"
             ],
             [
              0.7777777777777778,
              "#fb9f3a"
             ],
             [
              0.8888888888888888,
              "#fdca26"
             ],
             [
              1,
              "#f0f921"
             ]
            ],
            "type": "heatmap"
           }
          ],
          "heatmapgl": [
           {
            "colorbar": {
             "outlinewidth": 0,
             "ticks": ""
            },
            "colorscale": [
             [
              0,
              "#0d0887"
             ],
             [
              0.1111111111111111,
              "#46039f"
             ],
             [
              0.2222222222222222,
              "#7201a8"
             ],
             [
              0.3333333333333333,
              "#9c179e"
             ],
             [
              0.4444444444444444,
              "#bd3786"
             ],
             [
              0.5555555555555556,
              "#d8576b"
             ],
             [
              0.6666666666666666,
              "#ed7953"
             ],
             [
              0.7777777777777778,
              "#fb9f3a"
             ],
             [
              0.8888888888888888,
              "#fdca26"
             ],
             [
              1,
              "#f0f921"
             ]
            ],
            "type": "heatmapgl"
           }
          ],
          "histogram": [
           {
            "marker": {
             "pattern": {
              "fillmode": "overlay",
              "size": 10,
              "solidity": 0.2
             }
            },
            "type": "histogram"
           }
          ],
          "histogram2d": [
           {
            "colorbar": {
             "outlinewidth": 0,
             "ticks": ""
            },
            "colorscale": [
             [
              0,
              "#0d0887"
             ],
             [
              0.1111111111111111,
              "#46039f"
             ],
             [
              0.2222222222222222,
              "#7201a8"
             ],
             [
              0.3333333333333333,
              "#9c179e"
             ],
             [
              0.4444444444444444,
              "#bd3786"
             ],
             [
              0.5555555555555556,
              "#d8576b"
             ],
             [
              0.6666666666666666,
              "#ed7953"
             ],
             [
              0.7777777777777778,
              "#fb9f3a"
             ],
             [
              0.8888888888888888,
              "#fdca26"
             ],
             [
              1,
              "#f0f921"
             ]
            ],
            "type": "histogram2d"
           }
          ],
          "histogram2dcontour": [
           {
            "colorbar": {
             "outlinewidth": 0,
             "ticks": ""
            },
            "colorscale": [
             [
              0,
              "#0d0887"
             ],
             [
              0.1111111111111111,
              "#46039f"
             ],
             [
              0.2222222222222222,
              "#7201a8"
             ],
             [
              0.3333333333333333,
              "#9c179e"
             ],
             [
              0.4444444444444444,
              "#bd3786"
             ],
             [
              0.5555555555555556,
              "#d8576b"
             ],
             [
              0.6666666666666666,
              "#ed7953"
             ],
             [
              0.7777777777777778,
              "#fb9f3a"
             ],
             [
              0.8888888888888888,
              "#fdca26"
             ],
             [
              1,
              "#f0f921"
             ]
            ],
            "type": "histogram2dcontour"
           }
          ],
          "mesh3d": [
           {
            "colorbar": {
             "outlinewidth": 0,
             "ticks": ""
            },
            "type": "mesh3d"
           }
          ],
          "parcoords": [
           {
            "line": {
             "colorbar": {
              "outlinewidth": 0,
              "ticks": ""
             }
            },
            "type": "parcoords"
           }
          ],
          "pie": [
           {
            "automargin": true,
            "type": "pie"
           }
          ],
          "scatter": [
           {
            "fillpattern": {
             "fillmode": "overlay",
             "size": 10,
             "solidity": 0.2
            },
            "type": "scatter"
           }
          ],
          "scatter3d": [
           {
            "line": {
             "colorbar": {
              "outlinewidth": 0,
              "ticks": ""
             }
            },
            "marker": {
             "colorbar": {
              "outlinewidth": 0,
              "ticks": ""
             }
            },
            "type": "scatter3d"
           }
          ],
          "scattercarpet": [
           {
            "marker": {
             "colorbar": {
              "outlinewidth": 0,
              "ticks": ""
             }
            },
            "type": "scattercarpet"
           }
          ],
          "scattergeo": [
           {
            "marker": {
             "colorbar": {
              "outlinewidth": 0,
              "ticks": ""
             }
            },
            "type": "scattergeo"
           }
          ],
          "scattergl": [
           {
            "marker": {
             "colorbar": {
              "outlinewidth": 0,
              "ticks": ""
             }
            },
            "type": "scattergl"
           }
          ],
          "scattermapbox": [
           {
            "marker": {
             "colorbar": {
              "outlinewidth": 0,
              "ticks": ""
             }
            },
            "type": "scattermapbox"
           }
          ],
          "scatterpolar": [
           {
            "marker": {
             "colorbar": {
              "outlinewidth": 0,
              "ticks": ""
             }
            },
            "type": "scatterpolar"
           }
          ],
          "scatterpolargl": [
           {
            "marker": {
             "colorbar": {
              "outlinewidth": 0,
              "ticks": ""
             }
            },
            "type": "scatterpolargl"
           }
          ],
          "scatterternary": [
           {
            "marker": {
             "colorbar": {
              "outlinewidth": 0,
              "ticks": ""
             }
            },
            "type": "scatterternary"
           }
          ],
          "surface": [
           {
            "colorbar": {
             "outlinewidth": 0,
             "ticks": ""
            },
            "colorscale": [
             [
              0,
              "#0d0887"
             ],
             [
              0.1111111111111111,
              "#46039f"
             ],
             [
              0.2222222222222222,
              "#7201a8"
             ],
             [
              0.3333333333333333,
              "#9c179e"
             ],
             [
              0.4444444444444444,
              "#bd3786"
             ],
             [
              0.5555555555555556,
              "#d8576b"
             ],
             [
              0.6666666666666666,
              "#ed7953"
             ],
             [
              0.7777777777777778,
              "#fb9f3a"
             ],
             [
              0.8888888888888888,
              "#fdca26"
             ],
             [
              1,
              "#f0f921"
             ]
            ],
            "type": "surface"
           }
          ],
          "table": [
           {
            "cells": {
             "fill": {
              "color": "#EBF0F8"
             },
             "line": {
              "color": "white"
             }
            },
            "header": {
             "fill": {
              "color": "#C8D4E3"
             },
             "line": {
              "color": "white"
             }
            },
            "type": "table"
           }
          ]
         },
         "layout": {
          "annotationdefaults": {
           "arrowcolor": "#2a3f5f",
           "arrowhead": 0,
           "arrowwidth": 1
          },
          "autotypenumbers": "strict",
          "coloraxis": {
           "colorbar": {
            "outlinewidth": 0,
            "ticks": ""
           }
          },
          "colorscale": {
           "diverging": [
            [
             0,
             "#8e0152"
            ],
            [
             0.1,
             "#c51b7d"
            ],
            [
             0.2,
             "#de77ae"
            ],
            [
             0.3,
             "#f1b6da"
            ],
            [
             0.4,
             "#fde0ef"
            ],
            [
             0.5,
             "#f7f7f7"
            ],
            [
             0.6,
             "#e6f5d0"
            ],
            [
             0.7,
             "#b8e186"
            ],
            [
             0.8,
             "#7fbc41"
            ],
            [
             0.9,
             "#4d9221"
            ],
            [
             1,
             "#276419"
            ]
           ],
           "sequential": [
            [
             0,
             "#0d0887"
            ],
            [
             0.1111111111111111,
             "#46039f"
            ],
            [
             0.2222222222222222,
             "#7201a8"
            ],
            [
             0.3333333333333333,
             "#9c179e"
            ],
            [
             0.4444444444444444,
             "#bd3786"
            ],
            [
             0.5555555555555556,
             "#d8576b"
            ],
            [
             0.6666666666666666,
             "#ed7953"
            ],
            [
             0.7777777777777778,
             "#fb9f3a"
            ],
            [
             0.8888888888888888,
             "#fdca26"
            ],
            [
             1,
             "#f0f921"
            ]
           ],
           "sequentialminus": [
            [
             0,
             "#0d0887"
            ],
            [
             0.1111111111111111,
             "#46039f"
            ],
            [
             0.2222222222222222,
             "#7201a8"
            ],
            [
             0.3333333333333333,
             "#9c179e"
            ],
            [
             0.4444444444444444,
             "#bd3786"
            ],
            [
             0.5555555555555556,
             "#d8576b"
            ],
            [
             0.6666666666666666,
             "#ed7953"
            ],
            [
             0.7777777777777778,
             "#fb9f3a"
            ],
            [
             0.8888888888888888,
             "#fdca26"
            ],
            [
             1,
             "#f0f921"
            ]
           ]
          },
          "colorway": [
           "#636efa",
           "#EF553B",
           "#00cc96",
           "#ab63fa",
           "#FFA15A",
           "#19d3f3",
           "#FF6692",
           "#B6E880",
           "#FF97FF",
           "#FECB52"
          ],
          "font": {
           "color": "#2a3f5f"
          },
          "geo": {
           "bgcolor": "white",
           "lakecolor": "white",
           "landcolor": "#E5ECF6",
           "showlakes": true,
           "showland": true,
           "subunitcolor": "white"
          },
          "hoverlabel": {
           "align": "left"
          },
          "hovermode": "closest",
          "mapbox": {
           "style": "light"
          },
          "paper_bgcolor": "white",
          "plot_bgcolor": "#E5ECF6",
          "polar": {
           "angularaxis": {
            "gridcolor": "white",
            "linecolor": "white",
            "ticks": ""
           },
           "bgcolor": "#E5ECF6",
           "radialaxis": {
            "gridcolor": "white",
            "linecolor": "white",
            "ticks": ""
           }
          },
          "scene": {
           "xaxis": {
            "backgroundcolor": "#E5ECF6",
            "gridcolor": "white",
            "gridwidth": 2,
            "linecolor": "white",
            "showbackground": true,
            "ticks": "",
            "zerolinecolor": "white"
           },
           "yaxis": {
            "backgroundcolor": "#E5ECF6",
            "gridcolor": "white",
            "gridwidth": 2,
            "linecolor": "white",
            "showbackground": true,
            "ticks": "",
            "zerolinecolor": "white"
           },
           "zaxis": {
            "backgroundcolor": "#E5ECF6",
            "gridcolor": "white",
            "gridwidth": 2,
            "linecolor": "white",
            "showbackground": true,
            "ticks": "",
            "zerolinecolor": "white"
           }
          },
          "shapedefaults": {
           "line": {
            "color": "#2a3f5f"
           }
          },
          "ternary": {
           "aaxis": {
            "gridcolor": "white",
            "linecolor": "white",
            "ticks": ""
           },
           "baxis": {
            "gridcolor": "white",
            "linecolor": "white",
            "ticks": ""
           },
           "bgcolor": "#E5ECF6",
           "caxis": {
            "gridcolor": "white",
            "linecolor": "white",
            "ticks": ""
           }
          },
          "title": {
           "x": 0.05
          },
          "xaxis": {
           "automargin": true,
           "gridcolor": "white",
           "linecolor": "white",
           "ticks": "",
           "title": {
            "standoff": 15
           },
           "zerolinecolor": "white",
           "zerolinewidth": 2
          },
          "yaxis": {
           "automargin": true,
           "gridcolor": "white",
           "linecolor": "white",
           "ticks": "",
           "title": {
            "standoff": 15
           },
           "zerolinecolor": "white",
           "zerolinewidth": 2
          }
         }
        },
        "title": {
         "text": "Fraction of queries reaching accuracy target"
        },
        "width": 1100,
        "xaxis": {
         "anchor": "y",
         "autorange": true,
         "domain": [
          0,
          1
         ],
         "range": [
          22.521808088818393,
          527.4781919111816
         ],
         "title": {
          "text": "workload_size"
         },
         "type": "linear"
        },
        "yaxis": {
         "anchor": "x",
         "autorange": true,
         "domain": [
          0,
          1
         ],
         "range": [
          -0.06680161943319837,
          1.0668016194331984
         ],
         "title": {
          "text": "fraction_queries_without_idp_bias"
         },
         "type": "linear"
        }
       }
      },
      "image/png": "[encoded data removed]",
      "text/html": [
       "<div>                            <div id=\"28fb2ecf-86cb-4e20-88a6-5966c0be98eb\" class=\"plotly-graph-div\" style=\"height:600px; width:1100px;\"></div>            <script type=\"text/javascript\">                require([\"plotly\"], function(Plotly) {                    window.PLOTLYENV=window.PLOTLYENV || {};                                    if (document.getElementById(\"28fb2ecf-86cb-4e20-88a6-5966c0be98eb\")) {                    Plotly.newPlot(                        \"28fb2ecf-86cb-4e20-88a6-5966c0be98eb\",                        [{\"hovertemplate\":\"baseline=ipa\\u003cbr\\u003edestination=1\\u003cbr\\u003eworkload_size=%{x}\\u003cbr\\u003efraction_queries_without_idp_bias=%{y}\\u003cextra\\u003e\\u003c\\u002fextra\\u003e\",\"legendgroup\":\"ipa\",\"line\":{\"color\":\"#636efa\",\"dash\":\"solid\"},\"marker\":{\"symbol\":\"circle\"},\"mode\":\"lines+markers\",\"name\":\"ipa\",\"orientation\":\"v\",\"showlegend\":true,\"x\":[50,100,150,200,250,300,350,400,450,500],\"xaxis\":\"x\",\"y\":[1.0,0.83,0.5733333333333334,0.43,0.344,0.2866666666666667,0.24571428571428572,0.215,0.19111111111111112,0.172],\"yaxis\":\"y\",\"type\":\"scatter\"},{\"hovertemplate\":\"baseline=user_epoch_ara\\u003cbr\\u003edestination=1\\u003cbr\\u003eworkload_size=%{x}\\u003cbr\\u003efraction_queries_without_idp_bias=%{y}\\u003cextra\\u003e\\u003c\\u002fextra\\u003e\",\"legendgroup\":\"user_epoch_ara\",\"line\":{\"color\":\"#EF553B\",\"dash\":\"solid\"},\"marker\":{\"symbol\":\"circle\"},\"mode\":\"lines+markers\",\"name\":\"user_epoch_ara\",\"orientation\":\"v\",\"showlegend\":true,\"x\":[50,100,150,200,250,300,350,400,450,500],\"xaxis\":\"x\",\"y\":[1.0,0.4,0.2,0.2,0.0,0.0,0.0,0.0,0.0,0.0],\"yaxis\":\"y\",\"type\":\"scatter\"},{\"hovertemplate\":\"baseline=cookiemonster\\u003cbr\\u003edestination=1\\u003cbr\\u003eworkload_size=%{x}\\u003cbr\\u003efraction_queries_without_idp_bias=%{y}\\u003cextra\\u003e\\u003c\\u002fextra\\u003e\",\"legendgroup\":\"cookiemonster\",\"line\":{\"color\":\"#00cc96\",\"dash\":\"solid\"},\"marker\":{\"symbol\":\"circle\"},\"mode\":\"lines+markers\",\"name\":\"cookiemonster\",\"orientation\":\"v\",\"showlegend\":true,\"x\":[50,100,150,200,250,300,350,400,450,500],\"xaxis\":\"x\",\"y\":[1.0,1.0,0.36,0.2,0.2,0.17333333333333334,0.0,0.0,0.0,0.0],\"yaxis\":\"y\",\"type\":\"scatter\"}],                        {\"annotations\":[{\"showarrow\":false,\"text\":\"destination=1\",\"x\":0.5,\"xanchor\":\"center\",\"xref\":\"paper\",\"y\":1.0,\"yanchor\":\"bottom\",\"yref\":\"paper\"}],\"height\":600,\"legend\":{\"title\":{\"text\":\"baseline\"},\"tracegroupgap\":0},\"template\":{\"data\":{\"barpolar\":[{\"marker\":{\"line\":{\"color\":\"#E5ECF6\",\"width\":0.5},\"pattern\":{\"fillmode\":\"overlay\",\"size\":10,\"solidity\":0.2}},\"type\":\"barpolar\"}],\"bar\":[{\"error_x\":{\"color\":\"#2a3f5f\"},\"error_y\":{\"color\":\"#2a3f5f\"},\"marker\":{\"line\":{\"color\":\"#E5ECF6\",\"width\":0.5},\"pattern\":{\"fillmode\":\"overlay\",\"size\":10,\"solidity\":0.2}},\"type\":\"bar\"}],\"carpet\":[{\"aaxis\":{\"endlinecolor\":\"#2a3f5f\",\"gridcolor\":\"white\",\"linecolor\":\"white\",\"minorgridcolor\":\"white\",\"startlinecolor\":\"#2a3f5f\"},\"baxis\":{\"endlinecolor\":\"#2a3f5f\",\"gridcolor\":\"white\",\"linecolor\":\"white\",\"minorgridcolor\":\"white\",\"startlinecolor\":\"#2a3f5f\"},\"type\":\"carpet\"}],\"choropleth\":[{\"colorbar\":{\"outlinewidth\":0,\"ticks\":\"\"},\"type\":\"choropleth\"}],\"contourcarpet\":[{\"colorbar\":{\"outlinewidth\":0,\"ticks\":\"\"},\"type\":\"contourcarpet\"}],\"contour\":[{\"colorbar\":{\"outlinewidth\":0,\"ticks\":\"\"},\"colorscale\":[[0.0,\"#0d0887\"],[0.1111111111111111,\"#46039f\"],[0.2222222222222222,\"#7201a8\"],[0.3333333333333333,\"#9c179e\"],[0.4444444444444444,\"#bd3786\"],[0.5555555555555556,\"#d8576b\"],[0.6666666666666666,\"#ed7953\"],[0.7777777777777778,\"#fb9f3a\"],[0.8888888888888888,\"#fdca26\"],[1.0,\"#f0f921\"]],\"type\":\"contour\"}],\"heatmapgl\":[{\"colorbar\":{\"outlinewidth\":0,\"ticks\":\"\"},\"colorscale\":[[0.0,\"#0d0887\"],[0.1111111111111111,\"#46039f\"],[0.2222222222222222,\"#7201a8\"],[0.3333333333333333,\"#9c179e\"],[0.4444444444444444,\"#bd3786\"],[0.5555555555555556,\"#d8576b\"],[0.6666666666666666,\"#ed7953\"],[0.7777777777777778,\"#fb9f3a\"],[0.8888888888888888,\"#fdca26\"],[1.0,\"#f0f921\"]],\"type\":\"heatmapgl\"}],\"heatmap\":[{\"colorbar\":{\"outlinewidth\":0,\"ticks\":\"\"},\"colorscale\":[[0.0,\"#0d0887\"],[0.1111111111111111,\"#46039f\"],[0.2222222222222222,\"#7201a8\"],[0.3333333333333333,\"#9c179e\"],[0.4444444444444444,\"#bd3786\"],[0.5555555555555556,\"#d8576b\"],[0.6666666666666666,\"#ed7953\"],[0.7777777777777778,\"#fb9f3a\"],[0.8888888888888888,\"#fdca26\"],[1.0,\"#f0f921\"]],\"type\":\"heatmap\"}],\"histogram2dcontour\":[{\"colorbar\":{\"outlinewidth\":0,\"ticks\":\"\"},\"colorscale\":[[0.0,\"#0d0887\"],[0.1111111111111111,\"#46039f\"],[0.2222222222222222,\"#7201a8\"],[0.3333333333333333,\"#9c179e\"],[0.4444444444444444,\"#bd3786\"],[0.5555555555555556,\"#d8576b\"],[0.6666666666666666,\"#ed7953\"],[0.7777777777777778,\"#fb9f3a\"],[0.8888888888888888,\"#fdca26\"],[1.0,\"#f0f921\"]],\"type\":\"histogram2dcontour\"}],\"histogram2d\":[{\"colorbar\":{\"outlinewidth\":0,\"ticks\":\"\"},\"colorscale\":[[0.0,\"#0d0887\"],[0.1111111111111111,\"#46039f\"],[0.2222222222222222,\"#7201a8\"],[0.3333333333333333,\"#9c179e\"],[0.4444444444444444,\"#bd3786\"],[0.5555555555555556,\"#d8576b\"],[0.6666666666666666,\"#ed7953\"],[0.7777777777777778,\"#fb9f3a\"],[0.8888888888888888,\"#fdca26\"],[1.0,\"#f0f921\"]],\"type\":\"histogram2d\"}],\"histogram\":[{\"marker\":{\"pattern\":{\"fillmode\":\"overlay\",\"size\":10,\"solidity\":0.2}},\"type\":\"histogram\"}],\"mesh3d\":[{\"colorbar\":{\"outlinewidth\":0,\"ticks\":\"\"},\"type\":\"mesh3d\"}],\"parcoords\":[{\"line\":{\"colorbar\":{\"outlinewidth\":0,\"ticks\":\"\"}},\"type\":\"parcoords\"}],\"pie\":[{\"automargin\":true,\"type\":\"pie\"}],\"scatter3d\":[{\"line\":{\"colorbar\":{\"outlinewidth\":0,\"ticks\":\"\"}},\"marker\":{\"colorbar\":{\"outlinewidth\":0,\"ticks\":\"\"}},\"type\":\"scatter3d\"}],\"scattercarpet\":[{\"marker\":{\"colorbar\":{\"outlinewidth\":0,\"ticks\":\"\"}},\"type\":\"scattercarpet\"}],\"scattergeo\":[{\"marker\":{\"colorbar\":{\"outlinewidth\":0,\"ticks\":\"\"}},\"type\":\"scattergeo\"}],\"scattergl\":[{\"marker\":{\"colorbar\":{\"outlinewidth\":0,\"ticks\":\"\"}},\"type\":\"scattergl\"}],\"scattermapbox\":[{\"marker\":{\"colorbar\":{\"outlinewidth\":0,\"ticks\":\"\"}},\"type\":\"scattermapbox\"}],\"scatterpolargl\":[{\"marker\":{\"colorbar\":{\"outlinewidth\":0,\"ticks\":\"\"}},\"type\":\"scatterpolargl\"}],\"scatterpolar\":[{\"marker\":{\"colorbar\":{\"outlinewidth\":0,\"ticks\":\"\"}},\"type\":\"scatterpolar\"}],\"scatter\":[{\"fillpattern\":{\"fillmode\":\"overlay\",\"size\":10,\"solidity\":0.2},\"type\":\"scatter\"}],\"scatterternary\":[{\"marker\":{\"colorbar\":{\"outlinewidth\":0,\"ticks\":\"\"}},\"type\":\"scatterternary\"}],\"surface\":[{\"colorbar\":{\"outlinewidth\":0,\"ticks\":\"\"},\"colorscale\":[[0.0,\"#0d0887\"],[0.1111111111111111,\"#46039f\"],[0.2222222222222222,\"#7201a8\"],[0.3333333333333333,\"#9c179e\"],[0.4444444444444444,\"#bd3786\"],[0.5555555555555556,\"#d8576b\"],[0.6666666666666666,\"#ed7953\"],[0.7777777777777778,\"#fb9f3a\"],[0.8888888888888888,\"#fdca26\"],[1.0,\"#f0f921\"]],\"type\":\"surface\"}],\"table\":[{\"cells\":{\"fill\":{\"color\":\"#EBF0F8\"},\"line\":{\"color\":\"white\"}},\"header\":{\"fill\":{\"color\":\"#C8D4E3\"},\"line\":{\"color\":\"white\"}},\"type\":\"table\"}]},\"layout\":{\"annotationdefaults\":{\"arrowcolor\":\"#2a3f5f\",\"arrowhead\":0,\"arrowwidth\":1},\"autotypenumbers\":\"strict\",\"coloraxis\":{\"colorbar\":{\"outlinewidth\":0,\"ticks\":\"\"}},\"colorscale\":{\"diverging\":[[0,\"#8e0152\"],[0.1,\"#c51b7d\"],[0.2,\"#de77ae\"],[0.3,\"#f1b6da\"],[0.4,\"#fde0ef\"],[0.5,\"#f7f7f7\"],[0.6,\"#e6f5d0\"],[0.7,\"#b8e186\"],[0.8,\"#7fbc41\"],[0.9,\"#4d9221\"],[1,\"#276419\"]],\"sequential\":[[0.0,\"#0d0887\"],[0.1111111111111111,\"#46039f\"],[0.2222222222222222,\"#7201a8\"],[0.3333333333333333,\"#9c179e\"],[0.4444444444444444,\"#bd3786\"],[0.5555555555555556,\"#d8576b\"],[0.6666666666666666,\"#ed7953\"],[0.7777777777777778,\"#fb9f3a\"],[0.8888888888888888,\"#fdca26\"],[1.0,\"#f0f921\"]],\"sequentialminus\":[[0.0,\"#0d0887\"],[0.1111111111111111,\"#46039f\"],[0.2222222222222222,\"#7201a8\"],[0.3333333333333333,\"#9c179e\"],[0.4444444444444444,\"#bd3786\"],[0.5555555555555556,\"#d8576b\"],[0.6666666666666666,\"#ed7953\"],[0.7777777777777778,\"#fb9f3a\"],[0.8888888888888888,\"#fdca26\"],[1.0,\"#f0f921\"]]},\"colorway\":[\"#636efa\",\"#EF553B\",\"#00cc96\",\"#ab63fa\",\"#FFA15A\",\"#19d3f3\",\"#FF6692\",\"#B6E880\",\"#FF97FF\",\"#FECB52\"],\"font\":{\"color\":\"#2a3f5f\"},\"geo\":{\"bgcolor\":\"white\",\"lakecolor\":\"white\",\"landcolor\":\"#E5ECF6\",\"showlakes\":true,\"showland\":true,\"subunitcolor\":\"white\"},\"hoverlabel\":{\"align\":\"left\"},\"hovermode\":\"closest\",\"mapbox\":{\"style\":\"light\"},\"paper_bgcolor\":\"white\",\"plot_bgcolor\":\"#E5ECF6\",\"polar\":{\"angularaxis\":{\"gridcolor\":\"white\",\"linecolor\":\"white\",\"ticks\":\"\"},\"bgcolor\":\"#E5ECF6\",\"radialaxis\":{\"gridcolor\":\"white\",\"linecolor\":\"white\",\"ticks\":\"\"}},\"scene\":{\"xaxis\":{\"backgroundcolor\":\"#E5ECF6\",\"gridcolor\":\"white\",\"gridwidth\":2,\"linecolor\":\"white\",\"showbackground\":true,\"ticks\":\"\",\"zerolinecolor\":\"white\"},\"yaxis\":{\"backgroundcolor\":\"#E5ECF6\",\"gridcolor\":\"white\",\"gridwidth\":2,\"linecolor\":\"white\",\"showbackground\":true,\"ticks\":\"\",\"zerolinecolor\":\"white\"},\"zaxis\":{\"backgroundcolor\":\"#E5ECF6\",\"gridcolor\":\"white\",\"gridwidth\":2,\"linecolor\":\"white\",\"showbackground\":true,\"ticks\":\"\",\"zerolinecolor\":\"white\"}},\"shapedefaults\":{\"line\":{\"color\":\"#2a3f5f\"}},\"ternary\":{\"aaxis\":{\"gridcolor\":\"white\",\"linecolor\":\"white\",\"ticks\":\"\"},\"baxis\":{\"gridcolor\":\"white\",\"linecolor\":\"white\",\"ticks\":\"\"},\"bgcolor\":\"#E5ECF6\",\"caxis\":{\"gridcolor\":\"white\",\"linecolor\":\"white\",\"ticks\":\"\"}},\"title\":{\"x\":0.05},\"xaxis\":{\"automargin\":true,\"gridcolor\":\"white\",\"linecolor\":\"white\",\"ticks\":\"\",\"title\":{\"standoff\":15},\"zerolinecolor\":\"white\",\"zerolinewidth\":2},\"yaxis\":{\"automargin\":true,\"gridcolor\":\"white\",\"linecolor\":\"white\",\"ticks\":\"\",\"title\":{\"standoff\":15},\"zerolinecolor\":\"white\",\"zerolinewidth\":2}}},\"title\":{\"text\":\"Fraction of queries reaching accuracy target\"},\"width\":1100,\"xaxis\":{\"anchor\":\"y\",\"domain\":[0.0,1.0],\"title\":{\"text\":\"workload_size\"}},\"yaxis\":{\"anchor\":\"x\",\"domain\":[0.0,1.0],\"title\":{\"text\":\"fraction_queries_without_idp_bias\"}}},                        {\"responsive\": true}                    ).then(function(){\n",
       "                            \n",
       "var gd = document.getElementById('28fb2ecf-86cb-4e20-88a6-5966c0be98eb');\n",
       "var x = new MutationObserver(function (mutations, observer) {{\n",
       "        var display = window.getComputedStyle(gd).display;\n",
       "        if (!display || display === 'none') {{\n",
       "            console.log([gd, 'removed!']);\n",
       "            Plotly.purge(gd);\n",
       "            observer.disconnect();\n",
       "        }}\n",
       "}});\n",
       "\n",
       "// Listen for the removal of the full notebook cells\n",
       "var notebookContainer = gd.closest('#notebook-container');\n",
       "if (notebookContainer) {{\n",
       "    x.observe(notebookContainer, {childList: true});\n",
       "}}\n",
       "\n",
       "// Listen for the clearing of the current output cell\n",
       "var outputEl = gd.closest('.output');\n",
       "if (outputEl) {{\n",
       "    x.observe(outputEl, {childList: true});\n",
       "}}\n",
       "\n",
       "                        })                };                });            </script>        </div>"
      ]
     },
     "metadata": {},
     "output_type": "display_data"
    },
    {
     "data": {
      "application/vnd.plotly.v1+json": {
       "config": {
        "linkText": "Export to plot.ly",
        "plotlyServerURL": "https://plot.ly",
        "showLink": false
       },
       "data": [
        {
         "hovertemplate": "baseline=ipa<br>destination=1<br>workload_size=%{x}<br>workload_idp_accuracy=%{y}<extra></extra>",
         "legendgroup": "ipa",
         "line": {
          "color": "#636efa",
          "dash": "solid"
         },
         "marker": {
          "symbol": "circle"
         },
         "mode": "lines+markers",
         "name": "ipa",
         "orientation": "v",
         "showlegend": true,
         "type": "scatter",
         "x": [
          50,
          100,
          150,
          200,
          250,
          300,
          350,
          400,
          450,
          500
         ],
         "xaxis": "x",
         "y": [
          1,
          0.83,
          0.5733333333333334,
          0.43,
          0.344,
          0.2866666666666667,
          0.24571428571428572,
          0.215,
          0.19111111111111112,
          0.172
         ],
         "yaxis": "y"
        },
        {
         "hovertemplate": "baseline=user_epoch_ara<br>destination=1<br>workload_size=%{x}<br>workload_idp_accuracy=%{y}<extra></extra>",
         "legendgroup": "user_epoch_ara",
         "line": {
          "color": "#EF553B",
          "dash": "solid"
         },
         "marker": {
          "symbol": "circle"
         },
         "mode": "lines+markers",
         "name": "user_epoch_ara",
         "orientation": "v",
         "showlegend": true,
         "type": "scatter",
         "x": [
          50,
          100,
          150,
          200,
          250,
          300,
          350,
          400,
          450,
          500
         ],
         "xaxis": "x",
         "y": [
          1,
          0.977970395727667,
          0.7294100694655843,
          0.5889670415484064,
          0.5026286332773113,
          0.4290231656336643,
          0.36857476370275777,
          0.3225398402292067,
          0.286718507375095,
          0.2580576778865676
         ],
         "yaxis": "y"
        },
        {
         "hovertemplate": "baseline=cookiemonster<br>destination=1<br>workload_size=%{x}<br>workload_idp_accuracy=%{y}<extra></extra>",
         "legendgroup": "cookiemonster",
         "line": {
          "color": "#00cc96",
          "dash": "solid"
         },
         "marker": {
          "symbol": "circle"
         },
         "mode": "lines+markers",
         "name": "cookiemonster",
         "orientation": "v",
         "showlegend": true,
         "type": "scatter",
         "x": [
          50,
          100,
          150,
          200,
          250,
          300,
          350,
          400,
          450,
          500
         ],
         "xaxis": "x",
         "y": [
          1,
          1,
          0.9998879347157613,
          0.9861737389153352,
          0.919618203300722,
          0.8371105921350712,
          0.7628929478207763,
          0.6988380128789454,
          0.643507790136244,
          0.596053650472938
         ],
         "yaxis": "y"
        }
       ],
       "layout": {
        "annotations": [
         {
          "showarrow": false,
          "text": "destination=1",
          "x": 0.5,
          "xanchor": "center",
          "xref": "paper",
          "y": 1,
          "yanchor": "bottom",
          "yref": "paper"
         }
        ],
        "height": 600,
        "legend": {
         "title": {
          "text": "baseline"
         },
         "tracegroupgap": 0
        },
        "template": {
         "data": {
          "bar": [
           {
            "error_x": {
             "color": "#2a3f5f"
            },
            "error_y": {
             "color": "#2a3f5f"
            },
            "marker": {
             "line": {
              "color": "#E5ECF6",
              "width": 0.5
             },
             "pattern": {
              "fillmode": "overlay",
              "size": 10,
              "solidity": 0.2
             }
            },
            "type": "bar"
           }
          ],
          "barpolar": [
           {
            "marker": {
             "line": {
              "color": "#E5ECF6",
              "width": 0.5
             },
             "pattern": {
              "fillmode": "overlay",
              "size": 10,
              "solidity": 0.2
             }
            },
            "type": "barpolar"
           }
          ],
          "carpet": [
           {
            "aaxis": {
             "endlinecolor": "#2a3f5f",
             "gridcolor": "white",
             "linecolor": "white",
             "minorgridcolor": "white",
             "startlinecolor": "#2a3f5f"
            },
            "baxis": {
             "endlinecolor": "#2a3f5f",
             "gridcolor": "white",
             "linecolor": "white",
             "minorgridcolor": "white",
             "startlinecolor": "#2a3f5f"
            },
            "type": "carpet"
           }
          ],
          "choropleth": [
           {
            "colorbar": {
             "outlinewidth": 0,
             "ticks": ""
            },
            "type": "choropleth"
           }
          ],
          "contour": [
           {
            "colorbar": {
             "outlinewidth": 0,
             "ticks": ""
            },
            "colorscale": [
             [
              0,
              "#0d0887"
             ],
             [
              0.1111111111111111,
              "#46039f"
             ],
             [
              0.2222222222222222,
              "#7201a8"
             ],
             [
              0.3333333333333333,
              "#9c179e"
             ],
             [
              0.4444444444444444,
              "#bd3786"
             ],
             [
              0.5555555555555556,
              "#d8576b"
             ],
             [
              0.6666666666666666,
              "#ed7953"
             ],
             [
              0.7777777777777778,
              "#fb9f3a"
             ],
             [
              0.8888888888888888,
              "#fdca26"
             ],
             [
              1,
              "#f0f921"
             ]
            ],
            "type": "contour"
           }
          ],
          "contourcarpet": [
           {
            "colorbar": {
             "outlinewidth": 0,
             "ticks": ""
            },
            "type": "contourcarpet"
           }
          ],
          "heatmap": [
           {
            "colorbar": {
             "outlinewidth": 0,
             "ticks": ""
            },
            "colorscale": [
             [
              0,
              "#0d0887"
             ],
             [
              0.1111111111111111,
              "#46039f"
             ],
             [
              0.2222222222222222,
              "#7201a8"
             ],
             [
              0.3333333333333333,
              "#9c179e"
             ],
             [
              0.4444444444444444,
              "#bd3786"
             ],
             [
              0.5555555555555556,
              "#d8576b"
             ],
             [
              0.6666666666666666,
              "#ed7953"
             ],
             [
              0.7777777777777778,
              "#fb9f3a"
             ],
             [
              0.8888888888888888,
              "#fdca26"
             ],
             [
              1,
              "#f0f921"
             ]
            ],
            "type": "heatmap"
           }
          ],
          "heatmapgl": [
           {
            "colorbar": {
             "outlinewidth": 0,
             "ticks": ""
            },
            "colorscale": [
             [
              0,
              "#0d0887"
             ],
             [
              0.1111111111111111,
              "#46039f"
             ],
             [
              0.2222222222222222,
              "#7201a8"
             ],
             [
              0.3333333333333333,
              "#9c179e"
             ],
             [
              0.4444444444444444,
              "#bd3786"
             ],
             [
              0.5555555555555556,
              "#d8576b"
             ],
             [
              0.6666666666666666,
              "#ed7953"
             ],
             [
              0.7777777777777778,
              "#fb9f3a"
             ],
             [
              0.8888888888888888,
              "#fdca26"
             ],
             [
              1,
              "#f0f921"
             ]
            ],
            "type": "heatmapgl"
           }
          ],
          "histogram": [
           {
            "marker": {
             "pattern": {
              "fillmode": "overlay",
              "size": 10,
              "solidity": 0.2
             }
            },
            "type": "histogram"
           }
          ],
          "histogram2d": [
           {
            "colorbar": {
             "outlinewidth": 0,
             "ticks": ""
            },
            "colorscale": [
             [
              0,
              "#0d0887"
             ],
             [
              0.1111111111111111,
              "#46039f"
             ],
             [
              0.2222222222222222,
              "#7201a8"
             ],
             [
              0.3333333333333333,
              "#9c179e"
             ],
             [
              0.4444444444444444,
              "#bd3786"
             ],
             [
              0.5555555555555556,
              "#d8576b"
             ],
             [
              0.6666666666666666,
              "#ed7953"
             ],
             [
              0.7777777777777778,
              "#fb9f3a"
             ],
             [
              0.8888888888888888,
              "#fdca26"
             ],
             [
              1,
              "#f0f921"
             ]
            ],
            "type": "histogram2d"
           }
          ],
          "histogram2dcontour": [
           {
            "colorbar": {
             "outlinewidth": 0,
             "ticks": ""
            },
            "colorscale": [
             [
              0,
              "#0d0887"
             ],
             [
              0.1111111111111111,
              "#46039f"
             ],
             [
              0.2222222222222222,
              "#7201a8"
             ],
             [
              0.3333333333333333,
              "#9c179e"
             ],
             [
              0.4444444444444444,
              "#bd3786"
             ],
             [
              0.5555555555555556,
              "#d8576b"
             ],
             [
              0.6666666666666666,
              "#ed7953"
             ],
             [
              0.7777777777777778,
              "#fb9f3a"
             ],
             [
              0.8888888888888888,
              "#fdca26"
             ],
             [
              1,
              "#f0f921"
             ]
            ],
            "type": "histogram2dcontour"
           }
          ],
          "mesh3d": [
           {
            "colorbar": {
             "outlinewidth": 0,
             "ticks": ""
            },
            "type": "mesh3d"
           }
          ],
          "parcoords": [
           {
            "line": {
             "colorbar": {
              "outlinewidth": 0,
              "ticks": ""
             }
            },
            "type": "parcoords"
           }
          ],
          "pie": [
           {
            "automargin": true,
            "type": "pie"
           }
          ],
          "scatter": [
           {
            "fillpattern": {
             "fillmode": "overlay",
             "size": 10,
             "solidity": 0.2
            },
            "type": "scatter"
           }
          ],
          "scatter3d": [
           {
            "line": {
             "colorbar": {
              "outlinewidth": 0,
              "ticks": ""
             }
            },
            "marker": {
             "colorbar": {
              "outlinewidth": 0,
              "ticks": ""
             }
            },
            "type": "scatter3d"
           }
          ],
          "scattercarpet": [
           {
            "marker": {
             "colorbar": {
              "outlinewidth": 0,
              "ticks": ""
             }
            },
            "type": "scattercarpet"
           }
          ],
          "scattergeo": [
           {
            "marker": {
             "colorbar": {
              "outlinewidth": 0,
              "ticks": ""
             }
            },
            "type": "scattergeo"
           }
          ],
          "scattergl": [
           {
            "marker": {
             "colorbar": {
              "outlinewidth": 0,
              "ticks": ""
             }
            },
            "type": "scattergl"
           }
          ],
          "scattermapbox": [
           {
            "marker": {
             "colorbar": {
              "outlinewidth": 0,
              "ticks": ""
             }
            },
            "type": "scattermapbox"
           }
          ],
          "scatterpolar": [
           {
            "marker": {
             "colorbar": {
              "outlinewidth": 0,
              "ticks": ""
             }
            },
            "type": "scatterpolar"
           }
          ],
          "scatterpolargl": [
           {
            "marker": {
             "colorbar": {
              "outlinewidth": 0,
              "ticks": ""
             }
            },
            "type": "scatterpolargl"
           }
          ],
          "scatterternary": [
           {
            "marker": {
             "colorbar": {
              "outlinewidth": 0,
              "ticks": ""
             }
            },
            "type": "scatterternary"
           }
          ],
          "surface": [
           {
            "colorbar": {
             "outlinewidth": 0,
             "ticks": ""
            },
            "colorscale": [
             [
              0,
              "#0d0887"
             ],
             [
              0.1111111111111111,
              "#46039f"
             ],
             [
              0.2222222222222222,
              "#7201a8"
             ],
             [
              0.3333333333333333,
              "#9c179e"
             ],
             [
              0.4444444444444444,
              "#bd3786"
             ],
             [
              0.5555555555555556,
              "#d8576b"
             ],
             [
              0.6666666666666666,
              "#ed7953"
             ],
             [
              0.7777777777777778,
              "#fb9f3a"
             ],
             [
              0.8888888888888888,
              "#fdca26"
             ],
             [
              1,
              "#f0f921"
             ]
            ],
            "type": "surface"
           }
          ],
          "table": [
           {
            "cells": {
             "fill": {
              "color": "#EBF0F8"
             },
             "line": {
              "color": "white"
             }
            },
            "header": {
             "fill": {
              "color": "#C8D4E3"
             },
             "line": {
              "color": "white"
             }
            },
            "type": "table"
           }
          ]
         },
         "layout": {
          "annotationdefaults": {
           "arrowcolor": "#2a3f5f",
           "arrowhead": 0,
           "arrowwidth": 1
          },
          "autotypenumbers": "strict",
          "coloraxis": {
           "colorbar": {
            "outlinewidth": 0,
            "ticks": ""
           }
          },
          "colorscale": {
           "diverging": [
            [
             0,
             "#8e0152"
            ],
            [
             0.1,
             "#c51b7d"
            ],
            [
             0.2,
             "#de77ae"
            ],
            [
             0.3,
             "#f1b6da"
            ],
            [
             0.4,
             "#fde0ef"
            ],
            [
             0.5,
             "#f7f7f7"
            ],
            [
             0.6,
             "#e6f5d0"
            ],
            [
             0.7,
             "#b8e186"
            ],
            [
             0.8,
             "#7fbc41"
            ],
            [
             0.9,
             "#4d9221"
            ],
            [
             1,
             "#276419"
            ]
           ],
           "sequential": [
            [
             0,
             "#0d0887"
            ],
            [
             0.1111111111111111,
             "#46039f"
            ],
            [
             0.2222222222222222,
             "#7201a8"
            ],
            [
             0.3333333333333333,
             "#9c179e"
            ],
            [
             0.4444444444444444,
             "#bd3786"
            ],
            [
             0.5555555555555556,
             "#d8576b"
            ],
            [
             0.6666666666666666,
             "#ed7953"
            ],
            [
             0.7777777777777778,
             "#fb9f3a"
            ],
            [
             0.8888888888888888,
             "#fdca26"
            ],
            [
             1,
             "#f0f921"
            ]
           ],
           "sequentialminus": [
            [
             0,
             "#0d0887"
            ],
            [
             0.1111111111111111,
             "#46039f"
            ],
            [
             0.2222222222222222,
             "#7201a8"
            ],
            [
             0.3333333333333333,
             "#9c179e"
            ],
            [
             0.4444444444444444,
             "#bd3786"
            ],
            [
             0.5555555555555556,
             "#d8576b"
            ],
            [
             0.6666666666666666,
             "#ed7953"
            ],
            [
             0.7777777777777778,
             "#fb9f3a"
            ],
            [
             0.8888888888888888,
             "#fdca26"
            ],
            [
             1,
             "#f0f921"
            ]
           ]
          },
          "colorway": [
           "#636efa",
           "#EF553B",
           "#00cc96",
           "#ab63fa",
           "#FFA15A",
           "#19d3f3",
           "#FF6692",
           "#B6E880",
           "#FF97FF",
           "#FECB52"
          ],
          "font": {
           "color": "#2a3f5f"
          },
          "geo": {
           "bgcolor": "white",
           "lakecolor": "white",
           "landcolor": "#E5ECF6",
           "showlakes": true,
           "showland": true,
           "subunitcolor": "white"
          },
          "hoverlabel": {
           "align": "left"
          },
          "hovermode": "closest",
          "mapbox": {
           "style": "light"
          },
          "paper_bgcolor": "white",
          "plot_bgcolor": "#E5ECF6",
          "polar": {
           "angularaxis": {
            "gridcolor": "white",
            "linecolor": "white",
            "ticks": ""
           },
           "bgcolor": "#E5ECF6",
           "radialaxis": {
            "gridcolor": "white",
            "linecolor": "white",
            "ticks": ""
           }
          },
          "scene": {
           "xaxis": {
            "backgroundcolor": "#E5ECF6",
            "gridcolor": "white",
            "gridwidth": 2,
            "linecolor": "white",
            "showbackground": true,
            "ticks": "",
            "zerolinecolor": "white"
           },
           "yaxis": {
            "backgroundcolor": "#E5ECF6",
            "gridcolor": "white",
            "gridwidth": 2,
            "linecolor": "white",
            "showbackground": true,
            "ticks": "",
            "zerolinecolor": "white"
           },
           "zaxis": {
            "backgroundcolor": "#E5ECF6",
            "gridcolor": "white",
            "gridwidth": 2,
            "linecolor": "white",
            "showbackground": true,
            "ticks": "",
            "zerolinecolor": "white"
           }
          },
          "shapedefaults": {
           "line": {
            "color": "#2a3f5f"
           }
          },
          "ternary": {
           "aaxis": {
            "gridcolor": "white",
            "linecolor": "white",
            "ticks": ""
           },
           "baxis": {
            "gridcolor": "white",
            "linecolor": "white",
            "ticks": ""
           },
           "bgcolor": "#E5ECF6",
           "caxis": {
            "gridcolor": "white",
            "linecolor": "white",
            "ticks": ""
           }
          },
          "title": {
           "x": 0.05
          },
          "xaxis": {
           "automargin": true,
           "gridcolor": "white",
           "linecolor": "white",
           "ticks": "",
           "title": {
            "standoff": 15
           },
           "zerolinecolor": "white",
           "zerolinewidth": 2
          },
          "yaxis": {
           "automargin": true,
           "gridcolor": "white",
           "linecolor": "white",
           "ticks": "",
           "title": {
            "standoff": 15
           },
           "zerolinecolor": "white",
           "zerolinewidth": 2
          }
         }
        },
        "title": {
         "text": "Avg. relative accuracy across queries in workload"
        },
        "width": 1100,
        "xaxis": {
         "anchor": "y",
         "autorange": true,
         "domain": [
          0,
          1
         ],
         "range": [
          22.521808088818393,
          527.4781919111816
         ],
         "title": {
          "text": "workload_size"
         },
         "type": "linear"
        },
        "yaxis": {
         "anchor": "x",
         "autorange": true,
         "domain": [
          0,
          1
         ],
         "range": [
          0.11668825910931171,
          1.0553117408906882
         ],
         "title": {
          "text": "workload_idp_accuracy"
         },
         "type": "linear"
        }
       }
      },
      "image/png": "[encoded data removed]",
      "text/html": [
       "<div>                            <div id=\"c2111bb5-700c-4e64-ae86-f7cfeda6d142\" class=\"plotly-graph-div\" style=\"height:600px; width:1100px;\"></div>            <script type=\"text/javascript\">                require([\"plotly\"], function(Plotly) {                    window.PLOTLYENV=window.PLOTLYENV || {};                                    if (document.getElementById(\"c2111bb5-700c-4e64-ae86-f7cfeda6d142\")) {                    Plotly.newPlot(                        \"c2111bb5-700c-4e64-ae86-f7cfeda6d142\",                        [{\"hovertemplate\":\"baseline=ipa\\u003cbr\\u003edestination=1\\u003cbr\\u003eworkload_size=%{x}\\u003cbr\\u003eworkload_idp_accuracy=%{y}\\u003cextra\\u003e\\u003c\\u002fextra\\u003e\",\"legendgroup\":\"ipa\",\"line\":{\"color\":\"#636efa\",\"dash\":\"solid\"},\"marker\":{\"symbol\":\"circle\"},\"mode\":\"lines+markers\",\"name\":\"ipa\",\"orientation\":\"v\",\"showlegend\":true,\"x\":[50,100,150,200,250,300,350,400,450,500],\"xaxis\":\"x\",\"y\":[1.0,0.83,0.5733333333333334,0.43,0.344,0.2866666666666667,0.24571428571428572,0.215,0.19111111111111112,0.172],\"yaxis\":\"y\",\"type\":\"scatter\"},{\"hovertemplate\":\"baseline=user_epoch_ara\\u003cbr\\u003edestination=1\\u003cbr\\u003eworkload_size=%{x}\\u003cbr\\u003eworkload_idp_accuracy=%{y}\\u003cextra\\u003e\\u003c\\u002fextra\\u003e\",\"legendgroup\":\"user_epoch_ara\",\"line\":{\"color\":\"#EF553B\",\"dash\":\"solid\"},\"marker\":{\"symbol\":\"circle\"},\"mode\":\"lines+markers\",\"name\":\"user_epoch_ara\",\"orientation\":\"v\",\"showlegend\":true,\"x\":[50,100,150,200,250,300,350,400,450,500],\"xaxis\":\"x\",\"y\":[1.0,0.977970395727667,0.7294100694655843,0.5889670415484064,0.5026286332773113,0.4290231656336643,0.36857476370275777,0.3225398402292067,0.286718507375095,0.2580576778865676],\"yaxis\":\"y\",\"type\":\"scatter\"},{\"hovertemplate\":\"baseline=cookiemonster\\u003cbr\\u003edestination=1\\u003cbr\\u003eworkload_size=%{x}\\u003cbr\\u003eworkload_idp_accuracy=%{y}\\u003cextra\\u003e\\u003c\\u002fextra\\u003e\",\"legendgroup\":\"cookiemonster\",\"line\":{\"color\":\"#00cc96\",\"dash\":\"solid\"},\"marker\":{\"symbol\":\"circle\"},\"mode\":\"lines+markers\",\"name\":\"cookiemonster\",\"orientation\":\"v\",\"showlegend\":true,\"x\":[50,100,150,200,250,300,350,400,450,500],\"xaxis\":\"x\",\"y\":[1.0,1.0,0.9998879347157613,0.9861737389153352,0.919618203300722,0.8371105921350712,0.7628929478207763,0.6988380128789454,0.643507790136244,0.596053650472938],\"yaxis\":\"y\",\"type\":\"scatter\"}],                        {\"annotations\":[{\"showarrow\":false,\"text\":\"destination=1\",\"x\":0.5,\"xanchor\":\"center\",\"xref\":\"paper\",\"y\":1.0,\"yanchor\":\"bottom\",\"yref\":\"paper\"}],\"height\":600,\"legend\":{\"title\":{\"text\":\"baseline\"},\"tracegroupgap\":0},\"template\":{\"data\":{\"barpolar\":[{\"marker\":{\"line\":{\"color\":\"#E5ECF6\",\"width\":0.5},\"pattern\":{\"fillmode\":\"overlay\",\"size\":10,\"solidity\":0.2}},\"type\":\"barpolar\"}],\"bar\":[{\"error_x\":{\"color\":\"#2a3f5f\"},\"error_y\":{\"color\":\"#2a3f5f\"},\"marker\":{\"line\":{\"color\":\"#E5ECF6\",\"width\":0.5},\"pattern\":{\"fillmode\":\"overlay\",\"size\":10,\"solidity\":0.2}},\"type\":\"bar\"}],\"carpet\":[{\"aaxis\":{\"endlinecolor\":\"#2a3f5f\",\"gridcolor\":\"white\",\"linecolor\":\"white\",\"minorgridcolor\":\"white\",\"startlinecolor\":\"#2a3f5f\"},\"baxis\":{\"endlinecolor\":\"#2a3f5f\",\"gridcolor\":\"white\",\"linecolor\":\"white\",\"minorgridcolor\":\"white\",\"startlinecolor\":\"#2a3f5f\"},\"type\":\"carpet\"}],\"choropleth\":[{\"colorbar\":{\"outlinewidth\":0,\"ticks\":\"\"},\"type\":\"choropleth\"}],\"contourcarpet\":[{\"colorbar\":{\"outlinewidth\":0,\"ticks\":\"\"},\"type\":\"contourcarpet\"}],\"contour\":[{\"colorbar\":{\"outlinewidth\":0,\"ticks\":\"\"},\"colorscale\":[[0.0,\"#0d0887\"],[0.1111111111111111,\"#46039f\"],[0.2222222222222222,\"#7201a8\"],[0.3333333333333333,\"#9c179e\"],[0.4444444444444444,\"#bd3786\"],[0.5555555555555556,\"#d8576b\"],[0.6666666666666666,\"#ed7953\"],[0.7777777777777778,\"#fb9f3a\"],[0.8888888888888888,\"#fdca26\"],[1.0,\"#f0f921\"]],\"type\":\"contour\"}],\"heatmapgl\":[{\"colorbar\":{\"outlinewidth\":0,\"ticks\":\"\"},\"colorscale\":[[0.0,\"#0d0887\"],[0.1111111111111111,\"#46039f\"],[0.2222222222222222,\"#7201a8\"],[0.3333333333333333,\"#9c179e\"],[0.4444444444444444,\"#bd3786\"],[0.5555555555555556,\"#d8576b\"],[0.6666666666666666,\"#ed7953\"],[0.7777777777777778,\"#fb9f3a\"],[0.8888888888888888,\"#fdca26\"],[1.0,\"#f0f921\"]],\"type\":\"heatmapgl\"}],\"heatmap\":[{\"colorbar\":{\"outlinewidth\":0,\"ticks\":\"\"},\"colorscale\":[[0.0,\"#0d0887\"],[0.1111111111111111,\"#46039f\"],[0.2222222222222222,\"#7201a8\"],[0.3333333333333333,\"#9c179e\"],[0.4444444444444444,\"#bd3786\"],[0.5555555555555556,\"#d8576b\"],[0.6666666666666666,\"#ed7953\"],[0.7777777777777778,\"#fb9f3a\"],[0.8888888888888888,\"#fdca26\"],[1.0,\"#f0f921\"]],\"type\":\"heatmap\"}],\"histogram2dcontour\":[{\"colorbar\":{\"outlinewidth\":0,\"ticks\":\"\"},\"colorscale\":[[0.0,\"#0d0887\"],[0.1111111111111111,\"#46039f\"],[0.2222222222222222,\"#7201a8\"],[0.3333333333333333,\"#9c179e\"],[0.4444444444444444,\"#bd3786\"],[0.5555555555555556,\"#d8576b\"],[0.6666666666666666,\"#ed7953\"],[0.7777777777777778,\"#fb9f3a\"],[0.8888888888888888,\"#fdca26\"],[1.0,\"#f0f921\"]],\"type\":\"histogram2dcontour\"}],\"histogram2d\":[{\"colorbar\":{\"outlinewidth\":0,\"ticks\":\"\"},\"colorscale\":[[0.0,\"#0d0887\"],[0.1111111111111111,\"#46039f\"],[0.2222222222222222,\"#7201a8\"],[0.3333333333333333,\"#9c179e\"],[0.4444444444444444,\"#bd3786\"],[0.5555555555555556,\"#d8576b\"],[0.6666666666666666,\"#ed7953\"],[0.7777777777777778,\"#fb9f3a\"],[0.8888888888888888,\"#fdca26\"],[1.0,\"#f0f921\"]],\"type\":\"histogram2d\"}],\"histogram\":[{\"marker\":{\"pattern\":{\"fillmode\":\"overlay\",\"size\":10,\"solidity\":0.2}},\"type\":\"histogram\"}],\"mesh3d\":[{\"colorbar\":{\"outlinewidth\":0,\"ticks\":\"\"},\"type\":\"mesh3d\"}],\"parcoords\":[{\"line\":{\"colorbar\":{\"outlinewidth\":0,\"ticks\":\"\"}},\"type\":\"parcoords\"}],\"pie\":[{\"automargin\":true,\"type\":\"pie\"}],\"scatter3d\":[{\"line\":{\"colorbar\":{\"outlinewidth\":0,\"ticks\":\"\"}},\"marker\":{\"colorbar\":{\"outlinewidth\":0,\"ticks\":\"\"}},\"type\":\"scatter3d\"}],\"scattercarpet\":[{\"marker\":{\"colorbar\":{\"outlinewidth\":0,\"ticks\":\"\"}},\"type\":\"scattercarpet\"}],\"scattergeo\":[{\"marker\":{\"colorbar\":{\"outlinewidth\":0,\"ticks\":\"\"}},\"type\":\"scattergeo\"}],\"scattergl\":[{\"marker\":{\"colorbar\":{\"outlinewidth\":0,\"ticks\":\"\"}},\"type\":\"scattergl\"}],\"scattermapbox\":[{\"marker\":{\"colorbar\":{\"outlinewidth\":0,\"ticks\":\"\"}},\"type\":\"scattermapbox\"}],\"scatterpolargl\":[{\"marker\":{\"colorbar\":{\"outlinewidth\":0,\"ticks\":\"\"}},\"type\":\"scatterpolargl\"}],\"scatterpolar\":[{\"marker\":{\"colorbar\":{\"outlinewidth\":0,\"ticks\":\"\"}},\"type\":\"scatterpolar\"}],\"scatter\":[{\"fillpattern\":{\"fillmode\":\"overlay\",\"size\":10,\"solidity\":0.2},\"type\":\"scatter\"}],\"scatterternary\":[{\"marker\":{\"colorbar\":{\"outlinewidth\":0,\"ticks\":\"\"}},\"type\":\"scatterternary\"}],\"surface\":[{\"colorbar\":{\"outlinewidth\":0,\"ticks\":\"\"},\"colorscale\":[[0.0,\"#0d0887\"],[0.1111111111111111,\"#46039f\"],[0.2222222222222222,\"#7201a8\"],[0.3333333333333333,\"#9c179e\"],[0.4444444444444444,\"#bd3786\"],[0.5555555555555556,\"#d8576b\"],[0.6666666666666666,\"#ed7953\"],[0.7777777777777778,\"#fb9f3a\"],[0.8888888888888888,\"#fdca26\"],[1.0,\"#f0f921\"]],\"type\":\"surface\"}],\"table\":[{\"cells\":{\"fill\":{\"color\":\"#EBF0F8\"},\"line\":{\"color\":\"white\"}},\"header\":{\"fill\":{\"color\":\"#C8D4E3\"},\"line\":{\"color\":\"white\"}},\"type\":\"table\"}]},\"layout\":{\"annotationdefaults\":{\"arrowcolor\":\"#2a3f5f\",\"arrowhead\":0,\"arrowwidth\":1},\"autotypenumbers\":\"strict\",\"coloraxis\":{\"colorbar\":{\"outlinewidth\":0,\"ticks\":\"\"}},\"colorscale\":{\"diverging\":[[0,\"#8e0152\"],[0.1,\"#c51b7d\"],[0.2,\"#de77ae\"],[0.3,\"#f1b6da\"],[0.4,\"#fde0ef\"],[0.5,\"#f7f7f7\"],[0.6,\"#e6f5d0\"],[0.7,\"#b8e186\"],[0.8,\"#7fbc41\"],[0.9,\"#4d9221\"],[1,\"#276419\"]],\"sequential\":[[0.0,\"#0d0887\"],[0.1111111111111111,\"#46039f\"],[0.2222222222222222,\"#7201a8\"],[0.3333333333333333,\"#9c179e\"],[0.4444444444444444,\"#bd3786\"],[0.5555555555555556,\"#d8576b\"],[0.6666666666666666,\"#ed7953\"],[0.7777777777777778,\"#fb9f3a\"],[0.8888888888888888,\"#fdca26\"],[1.0,\"#f0f921\"]],\"sequentialminus\":[[0.0,\"#0d0887\"],[0.1111111111111111,\"#46039f\"],[0.2222222222222222,\"#7201a8\"],[0.3333333333333333,\"#9c179e\"],[0.4444444444444444,\"#bd3786\"],[0.5555555555555556,\"#d8576b\"],[0.6666666666666666,\"#ed7953\"],[0.7777777777777778,\"#fb9f3a\"],[0.8888888888888888,\"#fdca26\"],[1.0,\"#f0f921\"]]},\"colorway\":[\"#636efa\",\"#EF553B\",\"#00cc96\",\"#ab63fa\",\"#FFA15A\",\"#19d3f3\",\"#FF6692\",\"#B6E880\",\"#FF97FF\",\"#FECB52\"],\"font\":{\"color\":\"#2a3f5f\"},\"geo\":{\"bgcolor\":\"white\",\"lakecolor\":\"white\",\"landcolor\":\"#E5ECF6\",\"showlakes\":true,\"showland\":true,\"subunitcolor\":\"white\"},\"hoverlabel\":{\"align\":\"left\"},\"hovermode\":\"closest\",\"mapbox\":{\"style\":\"light\"},\"paper_bgcolor\":\"white\",\"plot_bgcolor\":\"#E5ECF6\",\"polar\":{\"angularaxis\":{\"gridcolor\":\"white\",\"linecolor\":\"white\",\"ticks\":\"\"},\"bgcolor\":\"#E5ECF6\",\"radialaxis\":{\"gridcolor\":\"white\",\"linecolor\":\"white\",\"ticks\":\"\"}},\"scene\":{\"xaxis\":{\"backgroundcolor\":\"#E5ECF6\",\"gridcolor\":\"white\",\"gridwidth\":2,\"linecolor\":\"white\",\"showbackground\":true,\"ticks\":\"\",\"zerolinecolor\":\"white\"},\"yaxis\":{\"backgroundcolor\":\"#E5ECF6\",\"gridcolor\":\"white\",\"gridwidth\":2,\"linecolor\":\"white\",\"showbackground\":true,\"ticks\":\"\",\"zerolinecolor\":\"white\"},\"zaxis\":{\"backgroundcolor\":\"#E5ECF6\",\"gridcolor\":\"white\",\"gridwidth\":2,\"linecolor\":\"white\",\"showbackground\":true,\"ticks\":\"\",\"zerolinecolor\":\"white\"}},\"shapedefaults\":{\"line\":{\"color\":\"#2a3f5f\"}},\"ternary\":{\"aaxis\":{\"gridcolor\":\"white\",\"linecolor\":\"white\",\"ticks\":\"\"},\"baxis\":{\"gridcolor\":\"white\",\"linecolor\":\"white\",\"ticks\":\"\"},\"bgcolor\":\"#E5ECF6\",\"caxis\":{\"gridcolor\":\"white\",\"linecolor\":\"white\",\"ticks\":\"\"}},\"title\":{\"x\":0.05},\"xaxis\":{\"automargin\":true,\"gridcolor\":\"white\",\"linecolor\":\"white\",\"ticks\":\"\",\"title\":{\"standoff\":15},\"zerolinecolor\":\"white\",\"zerolinewidth\":2},\"yaxis\":{\"automargin\":true,\"gridcolor\":\"white\",\"linecolor\":\"white\",\"ticks\":\"\",\"title\":{\"standoff\":15},\"zerolinecolor\":\"white\",\"zerolinewidth\":2}}},\"title\":{\"text\":\"Avg. relative accuracy across queries in workload\"},\"width\":1100,\"xaxis\":{\"anchor\":\"y\",\"domain\":[0.0,1.0],\"title\":{\"text\":\"workload_size\"}},\"yaxis\":{\"anchor\":\"x\",\"domain\":[0.0,1.0],\"title\":{\"text\":\"workload_idp_accuracy\"}}},                        {\"responsive\": true}                    ).then(function(){\n",
       "                            \n",
       "var gd = document.getElementById('c2111bb5-700c-4e64-ae86-f7cfeda6d142');\n",
       "var x = new MutationObserver(function (mutations, observer) {{\n",
       "        var display = window.getComputedStyle(gd).display;\n",
       "        if (!display || display === 'none') {{\n",
       "            console.log([gd, 'removed!']);\n",
       "            Plotly.purge(gd);\n",
       "            observer.disconnect();\n",
       "        }}\n",
       "}});\n",
       "\n",
       "// Listen for the removal of the full notebook cells\n",
       "var notebookContainer = gd.closest('#notebook-container');\n",
       "if (notebookContainer) {{\n",
       "    x.observe(notebookContainer, {childList: true});\n",
       "}}\n",
       "\n",
       "// Listen for the clearing of the current output cell\n",
       "var outputEl = gd.closest('.output');\n",
       "if (outputEl) {{\n",
       "    x.observe(outputEl, {childList: true});\n",
       "}}\n",
       "\n",
       "                        })                };                });            </script>        </div>"
      ]
     },
     "metadata": {},
     "output_type": "display_data"
    }
   ],
   "source": [
    "path = \"ray/synthetic/bias_varying_workload_size\"\n",
    "df = analyze_results(path, \"bias\")\n",
    "plot_accuracy(df)"
   ]
  },
  {
   "cell_type": "code",
   "execution_count": 27,
   "metadata": {},
   "outputs": [
    {
     "data": {
      "text/html": [
       "<div>\n",
       "<style scoped>\n",
       "    .dataframe tbody tr th:only-of-type {\n",
       "        vertical-align: middle;\n",
       "    }\n",
       "\n",
       "    .dataframe tbody tr th {\n",
       "        vertical-align: top;\n",
       "    }\n",
       "\n",
       "    .dataframe thead th {\n",
       "        text-align: right;\n",
       "    }\n",
       "</style>\n",
       "<table border=\"1\" class=\"dataframe\">\n",
       "  <thead>\n",
       "    <tr style=\"text-align: right;\">\n",
       "      <th></th>\n",
       "      <th>destination</th>\n",
       "      <th>workload_size</th>\n",
       "      <th>fraction_queries_without_idp_bias</th>\n",
       "      <th>workload_idp_accuracy</th>\n",
       "      <th>baseline</th>\n",
       "      <th>num_days_per_epoch</th>\n",
       "    </tr>\n",
       "  </thead>\n",
       "  <tbody>\n",
       "    <tr>\n",
       "      <th>0</th>\n",
       "      <td>1</td>\n",
       "      <td>400</td>\n",
       "      <td>0.000000</td>\n",
       "      <td>0.322540</td>\n",
       "      <td>user_epoch_ara</td>\n",
       "      <td>7</td>\n",
       "    </tr>\n",
       "    <tr>\n",
       "      <th>0</th>\n",
       "      <td>1</td>\n",
       "      <td>50</td>\n",
       "      <td>1.000000</td>\n",
       "      <td>1.000000</td>\n",
       "      <td>user_epoch_ara</td>\n",
       "      <td>7</td>\n",
       "    </tr>\n",
       "    <tr>\n",
       "      <th>0</th>\n",
       "      <td>1</td>\n",
       "      <td>150</td>\n",
       "      <td>0.573333</td>\n",
       "      <td>NaN</td>\n",
       "      <td>ipa</td>\n",
       "      <td>7</td>\n",
       "    </tr>\n",
       "    <tr>\n",
       "      <th>0</th>\n",
       "      <td>1</td>\n",
       "      <td>200</td>\n",
       "      <td>0.430000</td>\n",
       "      <td>NaN</td>\n",
       "      <td>ipa</td>\n",
       "      <td>7</td>\n",
       "    </tr>\n",
       "    <tr>\n",
       "      <th>0</th>\n",
       "      <td>1</td>\n",
       "      <td>200</td>\n",
       "      <td>0.200000</td>\n",
       "      <td>0.986174</td>\n",
       "      <td>cookiemonster</td>\n",
       "      <td>7</td>\n",
       "    </tr>\n",
       "    <tr>\n",
       "      <th>0</th>\n",
       "      <td>1</td>\n",
       "      <td>250</td>\n",
       "      <td>0.200000</td>\n",
       "      <td>0.919618</td>\n",
       "      <td>cookiemonster</td>\n",
       "      <td>7</td>\n",
       "    </tr>\n",
       "    <tr>\n",
       "      <th>0</th>\n",
       "      <td>1</td>\n",
       "      <td>450</td>\n",
       "      <td>0.191111</td>\n",
       "      <td>NaN</td>\n",
       "      <td>ipa</td>\n",
       "      <td>7</td>\n",
       "    </tr>\n",
       "    <tr>\n",
       "      <th>0</th>\n",
       "      <td>1</td>\n",
       "      <td>100</td>\n",
       "      <td>1.000000</td>\n",
       "      <td>1.000000</td>\n",
       "      <td>cookiemonster</td>\n",
       "      <td>7</td>\n",
       "    </tr>\n",
       "    <tr>\n",
       "      <th>0</th>\n",
       "      <td>1</td>\n",
       "      <td>250</td>\n",
       "      <td>0.000000</td>\n",
       "      <td>0.502629</td>\n",
       "      <td>user_epoch_ara</td>\n",
       "      <td>7</td>\n",
       "    </tr>\n",
       "    <tr>\n",
       "      <th>0</th>\n",
       "      <td>1</td>\n",
       "      <td>50</td>\n",
       "      <td>1.000000</td>\n",
       "      <td>1.000000</td>\n",
       "      <td>cookiemonster</td>\n",
       "      <td>7</td>\n",
       "    </tr>\n",
       "    <tr>\n",
       "      <th>0</th>\n",
       "      <td>1</td>\n",
       "      <td>300</td>\n",
       "      <td>0.173333</td>\n",
       "      <td>0.837111</td>\n",
       "      <td>cookiemonster</td>\n",
       "      <td>7</td>\n",
       "    </tr>\n",
       "    <tr>\n",
       "      <th>0</th>\n",
       "      <td>1</td>\n",
       "      <td>450</td>\n",
       "      <td>0.000000</td>\n",
       "      <td>0.286719</td>\n",
       "      <td>user_epoch_ara</td>\n",
       "      <td>7</td>\n",
       "    </tr>\n",
       "    <tr>\n",
       "      <th>0</th>\n",
       "      <td>1</td>\n",
       "      <td>150</td>\n",
       "      <td>0.360000</td>\n",
       "      <td>0.999888</td>\n",
       "      <td>cookiemonster</td>\n",
       "      <td>7</td>\n",
       "    </tr>\n",
       "    <tr>\n",
       "      <th>0</th>\n",
       "      <td>1</td>\n",
       "      <td>100</td>\n",
       "      <td>0.400000</td>\n",
       "      <td>0.977970</td>\n",
       "      <td>user_epoch_ara</td>\n",
       "      <td>7</td>\n",
       "    </tr>\n",
       "    <tr>\n",
       "      <th>0</th>\n",
       "      <td>1</td>\n",
       "      <td>100</td>\n",
       "      <td>0.830000</td>\n",
       "      <td>NaN</td>\n",
       "      <td>ipa</td>\n",
       "      <td>7</td>\n",
       "    </tr>\n",
       "    <tr>\n",
       "      <th>0</th>\n",
       "      <td>1</td>\n",
       "      <td>50</td>\n",
       "      <td>1.000000</td>\n",
       "      <td>1.000000</td>\n",
       "      <td>ipa</td>\n",
       "      <td>7</td>\n",
       "    </tr>\n",
       "    <tr>\n",
       "      <th>0</th>\n",
       "      <td>1</td>\n",
       "      <td>250</td>\n",
       "      <td>0.344000</td>\n",
       "      <td>NaN</td>\n",
       "      <td>ipa</td>\n",
       "      <td>7</td>\n",
       "    </tr>\n",
       "    <tr>\n",
       "      <th>0</th>\n",
       "      <td>1</td>\n",
       "      <td>200</td>\n",
       "      <td>0.200000</td>\n",
       "      <td>0.588967</td>\n",
       "      <td>user_epoch_ara</td>\n",
       "      <td>7</td>\n",
       "    </tr>\n",
       "    <tr>\n",
       "      <th>0</th>\n",
       "      <td>1</td>\n",
       "      <td>500</td>\n",
       "      <td>0.000000</td>\n",
       "      <td>0.258058</td>\n",
       "      <td>user_epoch_ara</td>\n",
       "      <td>7</td>\n",
       "    </tr>\n",
       "    <tr>\n",
       "      <th>0</th>\n",
       "      <td>1</td>\n",
       "      <td>350</td>\n",
       "      <td>0.245714</td>\n",
       "      <td>NaN</td>\n",
       "      <td>ipa</td>\n",
       "      <td>7</td>\n",
       "    </tr>\n",
       "    <tr>\n",
       "      <th>0</th>\n",
       "      <td>1</td>\n",
       "      <td>500</td>\n",
       "      <td>0.172000</td>\n",
       "      <td>NaN</td>\n",
       "      <td>ipa</td>\n",
       "      <td>7</td>\n",
       "    </tr>\n",
       "    <tr>\n",
       "      <th>0</th>\n",
       "      <td>1</td>\n",
       "      <td>350</td>\n",
       "      <td>0.000000</td>\n",
       "      <td>0.368575</td>\n",
       "      <td>user_epoch_ara</td>\n",
       "      <td>7</td>\n",
       "    </tr>\n",
       "    <tr>\n",
       "      <th>0</th>\n",
       "      <td>1</td>\n",
       "      <td>400</td>\n",
       "      <td>0.215000</td>\n",
       "      <td>NaN</td>\n",
       "      <td>ipa</td>\n",
       "      <td>7</td>\n",
       "    </tr>\n",
       "    <tr>\n",
       "      <th>0</th>\n",
       "      <td>1</td>\n",
       "      <td>350</td>\n",
       "      <td>0.000000</td>\n",
       "      <td>0.762893</td>\n",
       "      <td>cookiemonster</td>\n",
       "      <td>7</td>\n",
       "    </tr>\n",
       "    <tr>\n",
       "      <th>0</th>\n",
       "      <td>1</td>\n",
       "      <td>300</td>\n",
       "      <td>0.286667</td>\n",
       "      <td>NaN</td>\n",
       "      <td>ipa</td>\n",
       "      <td>7</td>\n",
       "    </tr>\n",
       "    <tr>\n",
       "      <th>0</th>\n",
       "      <td>1</td>\n",
       "      <td>450</td>\n",
       "      <td>0.000000</td>\n",
       "      <td>0.643508</td>\n",
       "      <td>cookiemonster</td>\n",
       "      <td>7</td>\n",
       "    </tr>\n",
       "    <tr>\n",
       "      <th>0</th>\n",
       "      <td>1</td>\n",
       "      <td>300</td>\n",
       "      <td>0.000000</td>\n",
       "      <td>0.429023</td>\n",
       "      <td>user_epoch_ara</td>\n",
       "      <td>7</td>\n",
       "    </tr>\n",
       "    <tr>\n",
       "      <th>0</th>\n",
       "      <td>1</td>\n",
       "      <td>400</td>\n",
       "      <td>0.000000</td>\n",
       "      <td>0.698838</td>\n",
       "      <td>cookiemonster</td>\n",
       "      <td>7</td>\n",
       "    </tr>\n",
       "    <tr>\n",
       "      <th>0</th>\n",
       "      <td>1</td>\n",
       "      <td>150</td>\n",
       "      <td>0.200000</td>\n",
       "      <td>0.729410</td>\n",
       "      <td>user_epoch_ara</td>\n",
       "      <td>7</td>\n",
       "    </tr>\n",
       "    <tr>\n",
       "      <th>0</th>\n",
       "      <td>1</td>\n",
       "      <td>500</td>\n",
       "      <td>0.000000</td>\n",
       "      <td>0.596054</td>\n",
       "      <td>cookiemonster</td>\n",
       "      <td>7</td>\n",
       "    </tr>\n",
       "  </tbody>\n",
       "</table>\n",
       "</div>"
      ],
      "text/plain": [
       "   destination  workload_size  fraction_queries_without_idp_bias  \\\n",
       "0            1            400                           0.000000   \n",
       "0            1             50                           1.000000   \n",
       "0            1            150                           0.573333   \n",
       "0            1            200                           0.430000   \n",
       "0            1            200                           0.200000   \n",
       "0            1            250                           0.200000   \n",
       "0            1            450                           0.191111   \n",
       "0            1            100                           1.000000   \n",
       "0            1            250                           0.000000   \n",
       "0            1             50                           1.000000   \n",
       "0            1            300                           0.173333   \n",
       "0            1            450                           0.000000   \n",
       "0            1            150                           0.360000   \n",
       "0            1            100                           0.400000   \n",
       "0            1            100                           0.830000   \n",
       "0            1             50                           1.000000   \n",
       "0            1            250                           0.344000   \n",
       "0            1            200                           0.200000   \n",
       "0            1            500                           0.000000   \n",
       "0            1            350                           0.245714   \n",
       "0            1            500                           0.172000   \n",
       "0            1            350                           0.000000   \n",
       "0            1            400                           0.215000   \n",
       "0            1            350                           0.000000   \n",
       "0            1            300                           0.286667   \n",
       "0            1            450                           0.000000   \n",
       "0            1            300                           0.000000   \n",
       "0            1            400                           0.000000   \n",
       "0            1            150                           0.200000   \n",
       "0            1            500                           0.000000   \n",
       "\n",
       "   workload_idp_accuracy        baseline  num_days_per_epoch  \n",
       "0               0.322540  user_epoch_ara                   7  \n",
       "0               1.000000  user_epoch_ara                   7  \n",
       "0                    NaN             ipa                   7  \n",
       "0                    NaN             ipa                   7  \n",
       "0               0.986174   cookiemonster                   7  \n",
       "0               0.919618   cookiemonster                   7  \n",
       "0                    NaN             ipa                   7  \n",
       "0               1.000000   cookiemonster                   7  \n",
       "0               0.502629  user_epoch_ara                   7  \n",
       "0               1.000000   cookiemonster                   7  \n",
       "0               0.837111   cookiemonster                   7  \n",
       "0               0.286719  user_epoch_ara                   7  \n",
       "0               0.999888   cookiemonster                   7  \n",
       "0               0.977970  user_epoch_ara                   7  \n",
       "0                    NaN             ipa                   7  \n",
       "0               1.000000             ipa                   7  \n",
       "0                    NaN             ipa                   7  \n",
       "0               0.588967  user_epoch_ara                   7  \n",
       "0               0.258058  user_epoch_ara                   7  \n",
       "0                    NaN             ipa                   7  \n",
       "0                    NaN             ipa                   7  \n",
       "0               0.368575  user_epoch_ara                   7  \n",
       "0                    NaN             ipa                   7  \n",
       "0               0.762893   cookiemonster                   7  \n",
       "0                    NaN             ipa                   7  \n",
       "0               0.643508   cookiemonster                   7  \n",
       "0               0.429023  user_epoch_ara                   7  \n",
       "0               0.698838   cookiemonster                   7  \n",
       "0               0.729410  user_epoch_ara                   7  \n",
       "0               0.596054   cookiemonster                   7  "
      ]
     },
     "execution_count": 27,
     "metadata": {},
     "output_type": "execute_result"
    }
   ],
   "source": [
    "df"
   ]
  },
  {
   "cell_type": "code",
   "execution_count": null,
   "metadata": {},
   "outputs": [],
   "source": []
  }
 ],
 "metadata": {
  "kernelspec": {
   "display_name": "Python 3 (ipykernel)",
   "language": "python",
   "name": "python3"
  },
  "language_info": {
   "codemirror_mode": {
    "name": "ipython",
    "version": 3
   },
   "file_extension": ".py",
   "mimetype": "text/x-python",
   "name": "python",
   "nbconvert_exporter": "python",
   "pygments_lexer": "ipython3",
   "version": "3.10.12"
  }
 },
 "nbformat": 4,
 "nbformat_minor": 4
}
