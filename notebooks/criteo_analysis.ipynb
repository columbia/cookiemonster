{
 "cells": [
  {
   "cell_type": "code",
   "execution_count": 2,
   "metadata": {},
   "outputs": [],
   "source": [
    "%load_ext autoreload\n",
    "%autoreload 2"
   ]
  },
  {
   "cell_type": "code",
   "execution_count": 3,
   "metadata": {},
   "outputs": [
    {
     "data": {
      "text/html": [
       "        <script type=\"text/javascript\">\n",
       "        window.PlotlyConfig = {MathJaxConfig: 'local'};\n",
       "        if (window.MathJax && window.MathJax.Hub && window.MathJax.Hub.Config) {window.MathJax.Hub.Config({SVG: {font: \"STIX-Web\"}});}\n",
       "        if (typeof require !== 'undefined') {\n",
       "        require.undef(\"plotly\");\n",
       "        requirejs.config({\n",
       "            paths: {\n",
       "                'plotly': ['https://cdn.plot.ly/plotly-2.30.0.min']\n",
       "            }\n",
       "        });\n",
       "        require(['plotly'], function(Plotly) {\n",
       "            window._Plotly = Plotly;\n",
       "        });\n",
       "        }\n",
       "        </script>\n",
       "        "
      ]
     },
     "metadata": {},
     "output_type": "display_data"
    }
   ],
   "source": [
    "import pandas as pd\n",
    "import numpy as np\n",
    "import plotly.io as pio\n",
    "pio.renderers.default = \"notebook\"\n",
    "import plotly.offline as pyo\n",
    "pyo.init_notebook_mode(connected=True)\n",
    "from utils import get_df, analyze_results, plot_accuracy"
   ]
  },
  {
   "cell_type": "code",
   "execution_count": 3,
   "metadata": {},
   "outputs": [
    {
     "data": {
      "application/vnd.plotly.v1+json": {
       "config": {
        "linkText": "Export to plot.ly",
        "plotlyServerURL": "https://plot.ly",
        "showLink": false
       },
       "data": [
        {
         "hovertemplate": "baseline=ipa<br>destination=319A2412BDB0EF669733053640B80112<br>workload_size=%{x}<br>fraction_queries_without_idp_bias=%{y}<extra></extra>",
         "legendgroup": "ipa",
         "line": {
          "color": "#636efa",
          "dash": "solid"
         },
         "marker": {
          "symbol": "circle"
         },
         "mode": "lines+markers",
         "name": "ipa",
         "orientation": "v",
         "showlegend": true,
         "type": "scatter",
         "x": [
          1,
          5,
          10,
          15,
          19,
          19
         ],
         "xaxis": "x",
         "y": [
          1,
          1,
          0.9,
          0.6666666666666666,
          0.5789473684210527,
          0.5789473684210527
         ],
         "yaxis": "y"
        },
        {
         "hovertemplate": "baseline=user_epoch_ara<br>destination=319A2412BDB0EF669733053640B80112<br>workload_size=%{x}<br>fraction_queries_without_idp_bias=%{y}<extra></extra>",
         "legendgroup": "user_epoch_ara",
         "line": {
          "color": "#EF553B",
          "dash": "solid"
         },
         "marker": {
          "symbol": "circle"
         },
         "mode": "lines+markers",
         "name": "user_epoch_ara",
         "orientation": "v",
         "showlegend": true,
         "type": "scatter",
         "x": [
          1,
          5,
          10,
          15,
          19,
          19
         ],
         "xaxis": "x",
         "y": [
          1,
          1,
          1,
          0.8666666666666667,
          0.6842105263157895,
          0.6842105263157895
         ],
         "yaxis": "y"
        },
        {
         "hovertemplate": "baseline=cookiemonster<br>destination=319A2412BDB0EF669733053640B80112<br>workload_size=%{x}<br>fraction_queries_without_idp_bias=%{y}<extra></extra>",
         "legendgroup": "cookiemonster",
         "line": {
          "color": "#00cc96",
          "dash": "solid"
         },
         "marker": {
          "symbol": "circle"
         },
         "mode": "lines+markers",
         "name": "cookiemonster",
         "orientation": "v",
         "showlegend": true,
         "type": "scatter",
         "x": [
          1,
          5,
          10,
          15,
          19,
          19
         ],
         "xaxis": "x",
         "y": [
          1,
          1,
          1,
          0.9333333333333333,
          0.7368421052631579,
          0.7368421052631579
         ],
         "yaxis": "y"
        }
       ],
       "layout": {
        "annotations": [
         {
          "showarrow": false,
          "text": "destination=319A2412BDB0EF669733053640B80112",
          "x": 0.5,
          "xanchor": "center",
          "xref": "paper",
          "y": 1,
          "yanchor": "bottom",
          "yref": "paper"
         }
        ],
        "height": 600,
        "legend": {
         "title": {
          "text": "baseline"
         },
         "tracegroupgap": 0
        },
        "template": {
         "data": {
          "bar": [
           {
            "error_x": {
             "color": "#2a3f5f"
            },
            "error_y": {
             "color": "#2a3f5f"
            },
            "marker": {
             "line": {
              "color": "#E5ECF6",
              "width": 0.5
             },
             "pattern": {
              "fillmode": "overlay",
              "size": 10,
              "solidity": 0.2
             }
            },
            "type": "bar"
           }
          ],
          "barpolar": [
           {
            "marker": {
             "line": {
              "color": "#E5ECF6",
              "width": 0.5
             },
             "pattern": {
              "fillmode": "overlay",
              "size": 10,
              "solidity": 0.2
             }
            },
            "type": "barpolar"
           }
          ],
          "carpet": [
           {
            "aaxis": {
             "endlinecolor": "#2a3f5f",
             "gridcolor": "white",
             "linecolor": "white",
             "minorgridcolor": "white",
             "startlinecolor": "#2a3f5f"
            },
            "baxis": {
             "endlinecolor": "#2a3f5f",
             "gridcolor": "white",
             "linecolor": "white",
             "minorgridcolor": "white",
             "startlinecolor": "#2a3f5f"
            },
            "type": "carpet"
           }
          ],
          "choropleth": [
           {
            "colorbar": {
             "outlinewidth": 0,
             "ticks": ""
            },
            "type": "choropleth"
           }
          ],
          "contour": [
           {
            "colorbar": {
             "outlinewidth": 0,
             "ticks": ""
            },
            "colorscale": [
             [
              0,
              "#0d0887"
             ],
             [
              0.1111111111111111,
              "#46039f"
             ],
             [
              0.2222222222222222,
              "#7201a8"
             ],
             [
              0.3333333333333333,
              "#9c179e"
             ],
             [
              0.4444444444444444,
              "#bd3786"
             ],
             [
              0.5555555555555556,
              "#d8576b"
             ],
             [
              0.6666666666666666,
              "#ed7953"
             ],
             [
              0.7777777777777778,
              "#fb9f3a"
             ],
             [
              0.8888888888888888,
              "#fdca26"
             ],
             [
              1,
              "#f0f921"
             ]
            ],
            "type": "contour"
           }
          ],
          "contourcarpet": [
           {
            "colorbar": {
             "outlinewidth": 0,
             "ticks": ""
            },
            "type": "contourcarpet"
           }
          ],
          "heatmap": [
           {
            "colorbar": {
             "outlinewidth": 0,
             "ticks": ""
            },
            "colorscale": [
             [
              0,
              "#0d0887"
             ],
             [
              0.1111111111111111,
              "#46039f"
             ],
             [
              0.2222222222222222,
              "#7201a8"
             ],
             [
              0.3333333333333333,
              "#9c179e"
             ],
             [
              0.4444444444444444,
              "#bd3786"
             ],
             [
              0.5555555555555556,
              "#d8576b"
             ],
             [
              0.6666666666666666,
              "#ed7953"
             ],
             [
              0.7777777777777778,
              "#fb9f3a"
             ],
             [
              0.8888888888888888,
              "#fdca26"
             ],
             [
              1,
              "#f0f921"
             ]
            ],
            "type": "heatmap"
           }
          ],
          "heatmapgl": [
           {
            "colorbar": {
             "outlinewidth": 0,
             "ticks": ""
            },
            "colorscale": [
             [
              0,
              "#0d0887"
             ],
             [
              0.1111111111111111,
              "#46039f"
             ],
             [
              0.2222222222222222,
              "#7201a8"
             ],
             [
              0.3333333333333333,
              "#9c179e"
             ],
             [
              0.4444444444444444,
              "#bd3786"
             ],
             [
              0.5555555555555556,
              "#d8576b"
             ],
             [
              0.6666666666666666,
              "#ed7953"
             ],
             [
              0.7777777777777778,
              "#fb9f3a"
             ],
             [
              0.8888888888888888,
              "#fdca26"
             ],
             [
              1,
              "#f0f921"
             ]
            ],
            "type": "heatmapgl"
           }
          ],
          "histogram": [
           {
            "marker": {
             "pattern": {
              "fillmode": "overlay",
              "size": 10,
              "solidity": 0.2
             }
            },
            "type": "histogram"
           }
          ],
          "histogram2d": [
           {
            "colorbar": {
             "outlinewidth": 0,
             "ticks": ""
            },
            "colorscale": [
             [
              0,
              "#0d0887"
             ],
             [
              0.1111111111111111,
              "#46039f"
             ],
             [
              0.2222222222222222,
              "#7201a8"
             ],
             [
              0.3333333333333333,
              "#9c179e"
             ],
             [
              0.4444444444444444,
              "#bd3786"
             ],
             [
              0.5555555555555556,
              "#d8576b"
             ],
             [
              0.6666666666666666,
              "#ed7953"
             ],
             [
              0.7777777777777778,
              "#fb9f3a"
             ],
             [
              0.8888888888888888,
              "#fdca26"
             ],
             [
              1,
              "#f0f921"
             ]
            ],
            "type": "histogram2d"
           }
          ],
          "histogram2dcontour": [
           {
            "colorbar": {
             "outlinewidth": 0,
             "ticks": ""
            },
            "colorscale": [
             [
              0,
              "#0d0887"
             ],
             [
              0.1111111111111111,
              "#46039f"
             ],
             [
              0.2222222222222222,
              "#7201a8"
             ],
             [
              0.3333333333333333,
              "#9c179e"
             ],
             [
              0.4444444444444444,
              "#bd3786"
             ],
             [
              0.5555555555555556,
              "#d8576b"
             ],
             [
              0.6666666666666666,
              "#ed7953"
             ],
             [
              0.7777777777777778,
              "#fb9f3a"
             ],
             [
              0.8888888888888888,
              "#fdca26"
             ],
             [
              1,
              "#f0f921"
             ]
            ],
            "type": "histogram2dcontour"
           }
          ],
          "mesh3d": [
           {
            "colorbar": {
             "outlinewidth": 0,
             "ticks": ""
            },
            "type": "mesh3d"
           }
          ],
          "parcoords": [
           {
            "line": {
             "colorbar": {
              "outlinewidth": 0,
              "ticks": ""
             }
            },
            "type": "parcoords"
           }
          ],
          "pie": [
           {
            "automargin": true,
            "type": "pie"
           }
          ],
          "scatter": [
           {
            "fillpattern": {
             "fillmode": "overlay",
             "size": 10,
             "solidity": 0.2
            },
            "type": "scatter"
           }
          ],
          "scatter3d": [
           {
            "line": {
             "colorbar": {
              "outlinewidth": 0,
              "ticks": ""
             }
            },
            "marker": {
             "colorbar": {
              "outlinewidth": 0,
              "ticks": ""
             }
            },
            "type": "scatter3d"
           }
          ],
          "scattercarpet": [
           {
            "marker": {
             "colorbar": {
              "outlinewidth": 0,
              "ticks": ""
             }
            },
            "type": "scattercarpet"
           }
          ],
          "scattergeo": [
           {
            "marker": {
             "colorbar": {
              "outlinewidth": 0,
              "ticks": ""
             }
            },
            "type": "scattergeo"
           }
          ],
          "scattergl": [
           {
            "marker": {
             "colorbar": {
              "outlinewidth": 0,
              "ticks": ""
             }
            },
            "type": "scattergl"
           }
          ],
          "scattermapbox": [
           {
            "marker": {
             "colorbar": {
              "outlinewidth": 0,
              "ticks": ""
             }
            },
            "type": "scattermapbox"
           }
          ],
          "scatterpolar": [
           {
            "marker": {
             "colorbar": {
              "outlinewidth": 0,
              "ticks": ""
             }
            },
            "type": "scatterpolar"
           }
          ],
          "scatterpolargl": [
           {
            "marker": {
             "colorbar": {
              "outlinewidth": 0,
              "ticks": ""
             }
            },
            "type": "scatterpolargl"
           }
          ],
          "scatterternary": [
           {
            "marker": {
             "colorbar": {
              "outlinewidth": 0,
              "ticks": ""
             }
            },
            "type": "scatterternary"
           }
          ],
          "surface": [
           {
            "colorbar": {
             "outlinewidth": 0,
             "ticks": ""
            },
            "colorscale": [
             [
              0,
              "#0d0887"
             ],
             [
              0.1111111111111111,
              "#46039f"
             ],
             [
              0.2222222222222222,
              "#7201a8"
             ],
             [
              0.3333333333333333,
              "#9c179e"
             ],
             [
              0.4444444444444444,
              "#bd3786"
             ],
             [
              0.5555555555555556,
              "#d8576b"
             ],
             [
              0.6666666666666666,
              "#ed7953"
             ],
             [
              0.7777777777777778,
              "#fb9f3a"
             ],
             [
              0.8888888888888888,
              "#fdca26"
             ],
             [
              1,
              "#f0f921"
             ]
            ],
            "type": "surface"
           }
          ],
          "table": [
           {
            "cells": {
             "fill": {
              "color": "#EBF0F8"
             },
             "line": {
              "color": "white"
             }
            },
            "header": {
             "fill": {
              "color": "#C8D4E3"
             },
             "line": {
              "color": "white"
             }
            },
            "type": "table"
           }
          ]
         },
         "layout": {
          "annotationdefaults": {
           "arrowcolor": "#2a3f5f",
           "arrowhead": 0,
           "arrowwidth": 1
          },
          "autotypenumbers": "strict",
          "coloraxis": {
           "colorbar": {
            "outlinewidth": 0,
            "ticks": ""
           }
          },
          "colorscale": {
           "diverging": [
            [
             0,
             "#8e0152"
            ],
            [
             0.1,
             "#c51b7d"
            ],
            [
             0.2,
             "#de77ae"
            ],
            [
             0.3,
             "#f1b6da"
            ],
            [
             0.4,
             "#fde0ef"
            ],
            [
             0.5,
             "#f7f7f7"
            ],
            [
             0.6,
             "#e6f5d0"
            ],
            [
             0.7,
             "#b8e186"
            ],
            [
             0.8,
             "#7fbc41"
            ],
            [
             0.9,
             "#4d9221"
            ],
            [
             1,
             "#276419"
            ]
           ],
           "sequential": [
            [
             0,
             "#0d0887"
            ],
            [
             0.1111111111111111,
             "#46039f"
            ],
            [
             0.2222222222222222,
             "#7201a8"
            ],
            [
             0.3333333333333333,
             "#9c179e"
            ],
            [
             0.4444444444444444,
             "#bd3786"
            ],
            [
             0.5555555555555556,
             "#d8576b"
            ],
            [
             0.6666666666666666,
             "#ed7953"
            ],
            [
             0.7777777777777778,
             "#fb9f3a"
            ],
            [
             0.8888888888888888,
             "#fdca26"
            ],
            [
             1,
             "#f0f921"
            ]
           ],
           "sequentialminus": [
            [
             0,
             "#0d0887"
            ],
            [
             0.1111111111111111,
             "#46039f"
            ],
            [
             0.2222222222222222,
             "#7201a8"
            ],
            [
             0.3333333333333333,
             "#9c179e"
            ],
            [
             0.4444444444444444,
             "#bd3786"
            ],
            [
             0.5555555555555556,
             "#d8576b"
            ],
            [
             0.6666666666666666,
             "#ed7953"
            ],
            [
             0.7777777777777778,
             "#fb9f3a"
            ],
            [
             0.8888888888888888,
             "#fdca26"
            ],
            [
             1,
             "#f0f921"
            ]
           ]
          },
          "colorway": [
           "#636efa",
           "#EF553B",
           "#00cc96",
           "#ab63fa",
           "#FFA15A",
           "#19d3f3",
           "#FF6692",
           "#B6E880",
           "#FF97FF",
           "#FECB52"
          ],
          "font": {
           "color": "#2a3f5f"
          },
          "geo": {
           "bgcolor": "white",
           "lakecolor": "white",
           "landcolor": "#E5ECF6",
           "showlakes": true,
           "showland": true,
           "subunitcolor": "white"
          },
          "hoverlabel": {
           "align": "left"
          },
          "hovermode": "closest",
          "mapbox": {
           "style": "light"
          },
          "paper_bgcolor": "white",
          "plot_bgcolor": "#E5ECF6",
          "polar": {
           "angularaxis": {
            "gridcolor": "white",
            "linecolor": "white",
            "ticks": ""
           },
           "bgcolor": "#E5ECF6",
           "radialaxis": {
            "gridcolor": "white",
            "linecolor": "white",
            "ticks": ""
           }
          },
          "scene": {
           "xaxis": {
            "backgroundcolor": "#E5ECF6",
            "gridcolor": "white",
            "gridwidth": 2,
            "linecolor": "white",
            "showbackground": true,
            "ticks": "",
            "zerolinecolor": "white"
           },
           "yaxis": {
            "backgroundcolor": "#E5ECF6",
            "gridcolor": "white",
            "gridwidth": 2,
            "linecolor": "white",
            "showbackground": true,
            "ticks": "",
            "zerolinecolor": "white"
           },
           "zaxis": {
            "backgroundcolor": "#E5ECF6",
            "gridcolor": "white",
            "gridwidth": 2,
            "linecolor": "white",
            "showbackground": true,
            "ticks": "",
            "zerolinecolor": "white"
           }
          },
          "shapedefaults": {
           "line": {
            "color": "#2a3f5f"
           }
          },
          "ternary": {
           "aaxis": {
            "gridcolor": "white",
            "linecolor": "white",
            "ticks": ""
           },
           "baxis": {
            "gridcolor": "white",
            "linecolor": "white",
            "ticks": ""
           },
           "bgcolor": "#E5ECF6",
           "caxis": {
            "gridcolor": "white",
            "linecolor": "white",
            "ticks": ""
           }
          },
          "title": {
           "x": 0.05
          },
          "xaxis": {
           "automargin": true,
           "gridcolor": "white",
           "linecolor": "white",
           "ticks": "",
           "title": {
            "standoff": 15
           },
           "zerolinecolor": "white",
           "zerolinewidth": 2
          },
          "yaxis": {
           "automargin": true,
           "gridcolor": "white",
           "linecolor": "white",
           "ticks": "",
           "title": {
            "standoff": 15
           },
           "zerolinecolor": "white",
           "zerolinewidth": 2
          }
         }
        },
        "title": {
         "text": "Fraction of queries reaching accuracy target"
        },
        "width": 1100,
        "xaxis": {
         "anchor": "y",
         "domain": [
          0,
          1
         ],
         "title": {
          "text": "workload_size"
         }
        },
        "yaxis": {
         "anchor": "x",
         "domain": [
          0,
          1
         ],
         "title": {
          "text": "fraction_queries_without_idp_bias"
         }
        }
       }
      },
      "text/html": [
       "<div>                            <div id=\"855695a0-5794-461c-ac78-13f8bbae38b0\" class=\"plotly-graph-div\" style=\"height:600px; width:1100px;\"></div>            <script type=\"text/javascript\">                require([\"plotly\"], function(Plotly) {                    window.PLOTLYENV=window.PLOTLYENV || {};                                    if (document.getElementById(\"855695a0-5794-461c-ac78-13f8bbae38b0\")) {                    Plotly.newPlot(                        \"855695a0-5794-461c-ac78-13f8bbae38b0\",                        [{\"hovertemplate\":\"baseline=ipa\\u003cbr\\u003edestination=319A2412BDB0EF669733053640B80112\\u003cbr\\u003eworkload_size=%{x}\\u003cbr\\u003efraction_queries_without_idp_bias=%{y}\\u003cextra\\u003e\\u003c\\u002fextra\\u003e\",\"legendgroup\":\"ipa\",\"line\":{\"color\":\"#636efa\",\"dash\":\"solid\"},\"marker\":{\"symbol\":\"circle\"},\"mode\":\"lines+markers\",\"name\":\"ipa\",\"orientation\":\"v\",\"showlegend\":true,\"x\":[1,5,10,15,19,19],\"xaxis\":\"x\",\"y\":[1.0,1.0,0.9,0.6666666666666666,0.5789473684210527,0.5789473684210527],\"yaxis\":\"y\",\"type\":\"scatter\"},{\"hovertemplate\":\"baseline=user_epoch_ara\\u003cbr\\u003edestination=319A2412BDB0EF669733053640B80112\\u003cbr\\u003eworkload_size=%{x}\\u003cbr\\u003efraction_queries_without_idp_bias=%{y}\\u003cextra\\u003e\\u003c\\u002fextra\\u003e\",\"legendgroup\":\"user_epoch_ara\",\"line\":{\"color\":\"#EF553B\",\"dash\":\"solid\"},\"marker\":{\"symbol\":\"circle\"},\"mode\":\"lines+markers\",\"name\":\"user_epoch_ara\",\"orientation\":\"v\",\"showlegend\":true,\"x\":[1,5,10,15,19,19],\"xaxis\":\"x\",\"y\":[1.0,1.0,1.0,0.8666666666666667,0.6842105263157895,0.6842105263157895],\"yaxis\":\"y\",\"type\":\"scatter\"},{\"hovertemplate\":\"baseline=cookiemonster\\u003cbr\\u003edestination=319A2412BDB0EF669733053640B80112\\u003cbr\\u003eworkload_size=%{x}\\u003cbr\\u003efraction_queries_without_idp_bias=%{y}\\u003cextra\\u003e\\u003c\\u002fextra\\u003e\",\"legendgroup\":\"cookiemonster\",\"line\":{\"color\":\"#00cc96\",\"dash\":\"solid\"},\"marker\":{\"symbol\":\"circle\"},\"mode\":\"lines+markers\",\"name\":\"cookiemonster\",\"orientation\":\"v\",\"showlegend\":true,\"x\":[1,5,10,15,19,19],\"xaxis\":\"x\",\"y\":[1.0,1.0,1.0,0.9333333333333333,0.7368421052631579,0.7368421052631579],\"yaxis\":\"y\",\"type\":\"scatter\"}],                        {\"annotations\":[{\"showarrow\":false,\"text\":\"destination=319A2412BDB0EF669733053640B80112\",\"x\":0.5,\"xanchor\":\"center\",\"xref\":\"paper\",\"y\":1.0,\"yanchor\":\"bottom\",\"yref\":\"paper\"}],\"height\":600,\"legend\":{\"title\":{\"text\":\"baseline\"},\"tracegroupgap\":0},\"template\":{\"data\":{\"barpolar\":[{\"marker\":{\"line\":{\"color\":\"#E5ECF6\",\"width\":0.5},\"pattern\":{\"fillmode\":\"overlay\",\"size\":10,\"solidity\":0.2}},\"type\":\"barpolar\"}],\"bar\":[{\"error_x\":{\"color\":\"#2a3f5f\"},\"error_y\":{\"color\":\"#2a3f5f\"},\"marker\":{\"line\":{\"color\":\"#E5ECF6\",\"width\":0.5},\"pattern\":{\"fillmode\":\"overlay\",\"size\":10,\"solidity\":0.2}},\"type\":\"bar\"}],\"carpet\":[{\"aaxis\":{\"endlinecolor\":\"#2a3f5f\",\"gridcolor\":\"white\",\"linecolor\":\"white\",\"minorgridcolor\":\"white\",\"startlinecolor\":\"#2a3f5f\"},\"baxis\":{\"endlinecolor\":\"#2a3f5f\",\"gridcolor\":\"white\",\"linecolor\":\"white\",\"minorgridcolor\":\"white\",\"startlinecolor\":\"#2a3f5f\"},\"type\":\"carpet\"}],\"choropleth\":[{\"colorbar\":{\"outlinewidth\":0,\"ticks\":\"\"},\"type\":\"choropleth\"}],\"contourcarpet\":[{\"colorbar\":{\"outlinewidth\":0,\"ticks\":\"\"},\"type\":\"contourcarpet\"}],\"contour\":[{\"colorbar\":{\"outlinewidth\":0,\"ticks\":\"\"},\"colorscale\":[[0.0,\"#0d0887\"],[0.1111111111111111,\"#46039f\"],[0.2222222222222222,\"#7201a8\"],[0.3333333333333333,\"#9c179e\"],[0.4444444444444444,\"#bd3786\"],[0.5555555555555556,\"#d8576b\"],[0.6666666666666666,\"#ed7953\"],[0.7777777777777778,\"#fb9f3a\"],[0.8888888888888888,\"#fdca26\"],[1.0,\"#f0f921\"]],\"type\":\"contour\"}],\"heatmapgl\":[{\"colorbar\":{\"outlinewidth\":0,\"ticks\":\"\"},\"colorscale\":[[0.0,\"#0d0887\"],[0.1111111111111111,\"#46039f\"],[0.2222222222222222,\"#7201a8\"],[0.3333333333333333,\"#9c179e\"],[0.4444444444444444,\"#bd3786\"],[0.5555555555555556,\"#d8576b\"],[0.6666666666666666,\"#ed7953\"],[0.7777777777777778,\"#fb9f3a\"],[0.8888888888888888,\"#fdca26\"],[1.0,\"#f0f921\"]],\"type\":\"heatmapgl\"}],\"heatmap\":[{\"colorbar\":{\"outlinewidth\":0,\"ticks\":\"\"},\"colorscale\":[[0.0,\"#0d0887\"],[0.1111111111111111,\"#46039f\"],[0.2222222222222222,\"#7201a8\"],[0.3333333333333333,\"#9c179e\"],[0.4444444444444444,\"#bd3786\"],[0.5555555555555556,\"#d8576b\"],[0.6666666666666666,\"#ed7953\"],[0.7777777777777778,\"#fb9f3a\"],[0.8888888888888888,\"#fdca26\"],[1.0,\"#f0f921\"]],\"type\":\"heatmap\"}],\"histogram2dcontour\":[{\"colorbar\":{\"outlinewidth\":0,\"ticks\":\"\"},\"colorscale\":[[0.0,\"#0d0887\"],[0.1111111111111111,\"#46039f\"],[0.2222222222222222,\"#7201a8\"],[0.3333333333333333,\"#9c179e\"],[0.4444444444444444,\"#bd3786\"],[0.5555555555555556,\"#d8576b\"],[0.6666666666666666,\"#ed7953\"],[0.7777777777777778,\"#fb9f3a\"],[0.8888888888888888,\"#fdca26\"],[1.0,\"#f0f921\"]],\"type\":\"histogram2dcontour\"}],\"histogram2d\":[{\"colorbar\":{\"outlinewidth\":0,\"ticks\":\"\"},\"colorscale\":[[0.0,\"#0d0887\"],[0.1111111111111111,\"#46039f\"],[0.2222222222222222,\"#7201a8\"],[0.3333333333333333,\"#9c179e\"],[0.4444444444444444,\"#bd3786\"],[0.5555555555555556,\"#d8576b\"],[0.6666666666666666,\"#ed7953\"],[0.7777777777777778,\"#fb9f3a\"],[0.8888888888888888,\"#fdca26\"],[1.0,\"#f0f921\"]],\"type\":\"histogram2d\"}],\"histogram\":[{\"marker\":{\"pattern\":{\"fillmode\":\"overlay\",\"size\":10,\"solidity\":0.2}},\"type\":\"histogram\"}],\"mesh3d\":[{\"colorbar\":{\"outlinewidth\":0,\"ticks\":\"\"},\"type\":\"mesh3d\"}],\"parcoords\":[{\"line\":{\"colorbar\":{\"outlinewidth\":0,\"ticks\":\"\"}},\"type\":\"parcoords\"}],\"pie\":[{\"automargin\":true,\"type\":\"pie\"}],\"scatter3d\":[{\"line\":{\"colorbar\":{\"outlinewidth\":0,\"ticks\":\"\"}},\"marker\":{\"colorbar\":{\"outlinewidth\":0,\"ticks\":\"\"}},\"type\":\"scatter3d\"}],\"scattercarpet\":[{\"marker\":{\"colorbar\":{\"outlinewidth\":0,\"ticks\":\"\"}},\"type\":\"scattercarpet\"}],\"scattergeo\":[{\"marker\":{\"colorbar\":{\"outlinewidth\":0,\"ticks\":\"\"}},\"type\":\"scattergeo\"}],\"scattergl\":[{\"marker\":{\"colorbar\":{\"outlinewidth\":0,\"ticks\":\"\"}},\"type\":\"scattergl\"}],\"scattermapbox\":[{\"marker\":{\"colorbar\":{\"outlinewidth\":0,\"ticks\":\"\"}},\"type\":\"scattermapbox\"}],\"scatterpolargl\":[{\"marker\":{\"colorbar\":{\"outlinewidth\":0,\"ticks\":\"\"}},\"type\":\"scatterpolargl\"}],\"scatterpolar\":[{\"marker\":{\"colorbar\":{\"outlinewidth\":0,\"ticks\":\"\"}},\"type\":\"scatterpolar\"}],\"scatter\":[{\"fillpattern\":{\"fillmode\":\"overlay\",\"size\":10,\"solidity\":0.2},\"type\":\"scatter\"}],\"scatterternary\":[{\"marker\":{\"colorbar\":{\"outlinewidth\":0,\"ticks\":\"\"}},\"type\":\"scatterternary\"}],\"surface\":[{\"colorbar\":{\"outlinewidth\":0,\"ticks\":\"\"},\"colorscale\":[[0.0,\"#0d0887\"],[0.1111111111111111,\"#46039f\"],[0.2222222222222222,\"#7201a8\"],[0.3333333333333333,\"#9c179e\"],[0.4444444444444444,\"#bd3786\"],[0.5555555555555556,\"#d8576b\"],[0.6666666666666666,\"#ed7953\"],[0.7777777777777778,\"#fb9f3a\"],[0.8888888888888888,\"#fdca26\"],[1.0,\"#f0f921\"]],\"type\":\"surface\"}],\"table\":[{\"cells\":{\"fill\":{\"color\":\"#EBF0F8\"},\"line\":{\"color\":\"white\"}},\"header\":{\"fill\":{\"color\":\"#C8D4E3\"},\"line\":{\"color\":\"white\"}},\"type\":\"table\"}]},\"layout\":{\"annotationdefaults\":{\"arrowcolor\":\"#2a3f5f\",\"arrowhead\":0,\"arrowwidth\":1},\"autotypenumbers\":\"strict\",\"coloraxis\":{\"colorbar\":{\"outlinewidth\":0,\"ticks\":\"\"}},\"colorscale\":{\"diverging\":[[0,\"#8e0152\"],[0.1,\"#c51b7d\"],[0.2,\"#de77ae\"],[0.3,\"#f1b6da\"],[0.4,\"#fde0ef\"],[0.5,\"#f7f7f7\"],[0.6,\"#e6f5d0\"],[0.7,\"#b8e186\"],[0.8,\"#7fbc41\"],[0.9,\"#4d9221\"],[1,\"#276419\"]],\"sequential\":[[0.0,\"#0d0887\"],[0.1111111111111111,\"#46039f\"],[0.2222222222222222,\"#7201a8\"],[0.3333333333333333,\"#9c179e\"],[0.4444444444444444,\"#bd3786\"],[0.5555555555555556,\"#d8576b\"],[0.6666666666666666,\"#ed7953\"],[0.7777777777777778,\"#fb9f3a\"],[0.8888888888888888,\"#fdca26\"],[1.0,\"#f0f921\"]],\"sequentialminus\":[[0.0,\"#0d0887\"],[0.1111111111111111,\"#46039f\"],[0.2222222222222222,\"#7201a8\"],[0.3333333333333333,\"#9c179e\"],[0.4444444444444444,\"#bd3786\"],[0.5555555555555556,\"#d8576b\"],[0.6666666666666666,\"#ed7953\"],[0.7777777777777778,\"#fb9f3a\"],[0.8888888888888888,\"#fdca26\"],[1.0,\"#f0f921\"]]},\"colorway\":[\"#636efa\",\"#EF553B\",\"#00cc96\",\"#ab63fa\",\"#FFA15A\",\"#19d3f3\",\"#FF6692\",\"#B6E880\",\"#FF97FF\",\"#FECB52\"],\"font\":{\"color\":\"#2a3f5f\"},\"geo\":{\"bgcolor\":\"white\",\"lakecolor\":\"white\",\"landcolor\":\"#E5ECF6\",\"showlakes\":true,\"showland\":true,\"subunitcolor\":\"white\"},\"hoverlabel\":{\"align\":\"left\"},\"hovermode\":\"closest\",\"mapbox\":{\"style\":\"light\"},\"paper_bgcolor\":\"white\",\"plot_bgcolor\":\"#E5ECF6\",\"polar\":{\"angularaxis\":{\"gridcolor\":\"white\",\"linecolor\":\"white\",\"ticks\":\"\"},\"bgcolor\":\"#E5ECF6\",\"radialaxis\":{\"gridcolor\":\"white\",\"linecolor\":\"white\",\"ticks\":\"\"}},\"scene\":{\"xaxis\":{\"backgroundcolor\":\"#E5ECF6\",\"gridcolor\":\"white\",\"gridwidth\":2,\"linecolor\":\"white\",\"showbackground\":true,\"ticks\":\"\",\"zerolinecolor\":\"white\"},\"yaxis\":{\"backgroundcolor\":\"#E5ECF6\",\"gridcolor\":\"white\",\"gridwidth\":2,\"linecolor\":\"white\",\"showbackground\":true,\"ticks\":\"\",\"zerolinecolor\":\"white\"},\"zaxis\":{\"backgroundcolor\":\"#E5ECF6\",\"gridcolor\":\"white\",\"gridwidth\":2,\"linecolor\":\"white\",\"showbackground\":true,\"ticks\":\"\",\"zerolinecolor\":\"white\"}},\"shapedefaults\":{\"line\":{\"color\":\"#2a3f5f\"}},\"ternary\":{\"aaxis\":{\"gridcolor\":\"white\",\"linecolor\":\"white\",\"ticks\":\"\"},\"baxis\":{\"gridcolor\":\"white\",\"linecolor\":\"white\",\"ticks\":\"\"},\"bgcolor\":\"#E5ECF6\",\"caxis\":{\"gridcolor\":\"white\",\"linecolor\":\"white\",\"ticks\":\"\"}},\"title\":{\"x\":0.05},\"xaxis\":{\"automargin\":true,\"gridcolor\":\"white\",\"linecolor\":\"white\",\"ticks\":\"\",\"title\":{\"standoff\":15},\"zerolinecolor\":\"white\",\"zerolinewidth\":2},\"yaxis\":{\"automargin\":true,\"gridcolor\":\"white\",\"linecolor\":\"white\",\"ticks\":\"\",\"title\":{\"standoff\":15},\"zerolinecolor\":\"white\",\"zerolinewidth\":2}}},\"title\":{\"text\":\"Fraction of queries reaching accuracy target\"},\"width\":1100,\"xaxis\":{\"anchor\":\"y\",\"domain\":[0.0,1.0],\"title\":{\"text\":\"workload_size\"}},\"yaxis\":{\"anchor\":\"x\",\"domain\":[0.0,1.0],\"title\":{\"text\":\"fraction_queries_without_idp_bias\"}}},                        {\"responsive\": true}                    ).then(function(){\n",
       "                            \n",
       "var gd = document.getElementById('855695a0-5794-461c-ac78-13f8bbae38b0');\n",
       "var x = new MutationObserver(function (mutations, observer) {{\n",
       "        var display = window.getComputedStyle(gd).display;\n",
       "        if (!display || display === 'none') {{\n",
       "            console.log([gd, 'removed!']);\n",
       "            Plotly.purge(gd);\n",
       "            observer.disconnect();\n",
       "        }}\n",
       "}});\n",
       "\n",
       "// Listen for the removal of the full notebook cells\n",
       "var notebookContainer = gd.closest('#notebook-container');\n",
       "if (notebookContainer) {{\n",
       "    x.observe(notebookContainer, {childList: true});\n",
       "}}\n",
       "\n",
       "// Listen for the clearing of the current output cell\n",
       "var outputEl = gd.closest('.output');\n",
       "if (outputEl) {{\n",
       "    x.observe(outputEl, {childList: true});\n",
       "}}\n",
       "\n",
       "                        })                };                });            </script>        </div>"
      ]
     },
     "metadata": {},
     "output_type": "display_data"
    },
    {
     "data": {
      "application/vnd.plotly.v1+json": {
       "config": {
        "linkText": "Export to plot.ly",
        "plotlyServerURL": "https://plot.ly",
        "showLink": false
       },
       "data": [
        {
         "hovertemplate": "baseline=ipa<br>destination=319A2412BDB0EF669733053640B80112<br>workload_size=%{x}<br>workload_idp_accuracy=%{y}<extra></extra>",
         "legendgroup": "ipa",
         "line": {
          "color": "#636efa",
          "dash": "solid"
         },
         "marker": {
          "symbol": "circle"
         },
         "mode": "lines+markers",
         "name": "ipa",
         "orientation": "v",
         "showlegend": true,
         "type": "scatter",
         "x": [
          1,
          5,
          10,
          15,
          19,
          19
         ],
         "xaxis": "x",
         "y": [
          1,
          1,
          0.9,
          0.6666666666666666,
          0.5789473684210527,
          0.5789473684210527
         ],
         "yaxis": "y"
        },
        {
         "hovertemplate": "baseline=user_epoch_ara<br>destination=319A2412BDB0EF669733053640B80112<br>workload_size=%{x}<br>workload_idp_accuracy=%{y}<extra></extra>",
         "legendgroup": "user_epoch_ara",
         "line": {
          "color": "#EF553B",
          "dash": "solid"
         },
         "marker": {
          "symbol": "circle"
         },
         "mode": "lines+markers",
         "name": "user_epoch_ara",
         "orientation": "v",
         "showlegend": true,
         "type": "scatter",
         "x": [
          1,
          5,
          10,
          15,
          19,
          19
         ],
         "xaxis": "x",
         "y": [
          1,
          1,
          1,
          0.9998052958343516,
          0.9994704051725578,
          0.9994704051725578
         ],
         "yaxis": "y"
        },
        {
         "hovertemplate": "baseline=cookiemonster<br>destination=319A2412BDB0EF669733053640B80112<br>workload_size=%{x}<br>workload_idp_accuracy=%{y}<extra></extra>",
         "legendgroup": "cookiemonster",
         "line": {
          "color": "#00cc96",
          "dash": "solid"
         },
         "marker": {
          "symbol": "circle"
         },
         "mode": "lines+markers",
         "name": "cookiemonster",
         "orientation": "v",
         "showlegend": true,
         "type": "scatter",
         "x": [
          1,
          5,
          10,
          15,
          19,
          19
         ],
         "xaxis": "x",
         "y": [
          1,
          1,
          1,
          0.9999704557205111,
          0.9996471835078452,
          0.9996471835078452
         ],
         "yaxis": "y"
        }
       ],
       "layout": {
        "annotations": [
         {
          "showarrow": false,
          "text": "destination=319A2412BDB0EF669733053640B80112",
          "x": 0.5,
          "xanchor": "center",
          "xref": "paper",
          "y": 1,
          "yanchor": "bottom",
          "yref": "paper"
         }
        ],
        "height": 600,
        "legend": {
         "title": {
          "text": "baseline"
         },
         "tracegroupgap": 0
        },
        "template": {
         "data": {
          "bar": [
           {
            "error_x": {
             "color": "#2a3f5f"
            },
            "error_y": {
             "color": "#2a3f5f"
            },
            "marker": {
             "line": {
              "color": "#E5ECF6",
              "width": 0.5
             },
             "pattern": {
              "fillmode": "overlay",
              "size": 10,
              "solidity": 0.2
             }
            },
            "type": "bar"
           }
          ],
          "barpolar": [
           {
            "marker": {
             "line": {
              "color": "#E5ECF6",
              "width": 0.5
             },
             "pattern": {
              "fillmode": "overlay",
              "size": 10,
              "solidity": 0.2
             }
            },
            "type": "barpolar"
           }
          ],
          "carpet": [
           {
            "aaxis": {
             "endlinecolor": "#2a3f5f",
             "gridcolor": "white",
             "linecolor": "white",
             "minorgridcolor": "white",
             "startlinecolor": "#2a3f5f"
            },
            "baxis": {
             "endlinecolor": "#2a3f5f",
             "gridcolor": "white",
             "linecolor": "white",
             "minorgridcolor": "white",
             "startlinecolor": "#2a3f5f"
            },
            "type": "carpet"
           }
          ],
          "choropleth": [
           {
            "colorbar": {
             "outlinewidth": 0,
             "ticks": ""
            },
            "type": "choropleth"
           }
          ],
          "contour": [
           {
            "colorbar": {
             "outlinewidth": 0,
             "ticks": ""
            },
            "colorscale": [
             [
              0,
              "#0d0887"
             ],
             [
              0.1111111111111111,
              "#46039f"
             ],
             [
              0.2222222222222222,
              "#7201a8"
             ],
             [
              0.3333333333333333,
              "#9c179e"
             ],
             [
              0.4444444444444444,
              "#bd3786"
             ],
             [
              0.5555555555555556,
              "#d8576b"
             ],
             [
              0.6666666666666666,
              "#ed7953"
             ],
             [
              0.7777777777777778,
              "#fb9f3a"
             ],
             [
              0.8888888888888888,
              "#fdca26"
             ],
             [
              1,
              "#f0f921"
             ]
            ],
            "type": "contour"
           }
          ],
          "contourcarpet": [
           {
            "colorbar": {
             "outlinewidth": 0,
             "ticks": ""
            },
            "type": "contourcarpet"
           }
          ],
          "heatmap": [
           {
            "colorbar": {
             "outlinewidth": 0,
             "ticks": ""
            },
            "colorscale": [
             [
              0,
              "#0d0887"
             ],
             [
              0.1111111111111111,
              "#46039f"
             ],
             [
              0.2222222222222222,
              "#7201a8"
             ],
             [
              0.3333333333333333,
              "#9c179e"
             ],
             [
              0.4444444444444444,
              "#bd3786"
             ],
             [
              0.5555555555555556,
              "#d8576b"
             ],
             [
              0.6666666666666666,
              "#ed7953"
             ],
             [
              0.7777777777777778,
              "#fb9f3a"
             ],
             [
              0.8888888888888888,
              "#fdca26"
             ],
             [
              1,
              "#f0f921"
             ]
            ],
            "type": "heatmap"
           }
          ],
          "heatmapgl": [
           {
            "colorbar": {
             "outlinewidth": 0,
             "ticks": ""
            },
            "colorscale": [
             [
              0,
              "#0d0887"
             ],
             [
              0.1111111111111111,
              "#46039f"
             ],
             [
              0.2222222222222222,
              "#7201a8"
             ],
             [
              0.3333333333333333,
              "#9c179e"
             ],
             [
              0.4444444444444444,
              "#bd3786"
             ],
             [
              0.5555555555555556,
              "#d8576b"
             ],
             [
              0.6666666666666666,
              "#ed7953"
             ],
             [
              0.7777777777777778,
              "#fb9f3a"
             ],
             [
              0.8888888888888888,
              "#fdca26"
             ],
             [
              1,
              "#f0f921"
             ]
            ],
            "type": "heatmapgl"
           }
          ],
          "histogram": [
           {
            "marker": {
             "pattern": {
              "fillmode": "overlay",
              "size": 10,
              "solidity": 0.2
             }
            },
            "type": "histogram"
           }
          ],
          "histogram2d": [
           {
            "colorbar": {
             "outlinewidth": 0,
             "ticks": ""
            },
            "colorscale": [
             [
              0,
              "#0d0887"
             ],
             [
              0.1111111111111111,
              "#46039f"
             ],
             [
              0.2222222222222222,
              "#7201a8"
             ],
             [
              0.3333333333333333,
              "#9c179e"
             ],
             [
              0.4444444444444444,
              "#bd3786"
             ],
             [
              0.5555555555555556,
              "#d8576b"
             ],
             [
              0.6666666666666666,
              "#ed7953"
             ],
             [
              0.7777777777777778,
              "#fb9f3a"
             ],
             [
              0.8888888888888888,
              "#fdca26"
             ],
             [
              1,
              "#f0f921"
             ]
            ],
            "type": "histogram2d"
           }
          ],
          "histogram2dcontour": [
           {
            "colorbar": {
             "outlinewidth": 0,
             "ticks": ""
            },
            "colorscale": [
             [
              0,
              "#0d0887"
             ],
             [
              0.1111111111111111,
              "#46039f"
             ],
             [
              0.2222222222222222,
              "#7201a8"
             ],
             [
              0.3333333333333333,
              "#9c179e"
             ],
             [
              0.4444444444444444,
              "#bd3786"
             ],
             [
              0.5555555555555556,
              "#d8576b"
             ],
             [
              0.6666666666666666,
              "#ed7953"
             ],
             [
              0.7777777777777778,
              "#fb9f3a"
             ],
             [
              0.8888888888888888,
              "#fdca26"
             ],
             [
              1,
              "#f0f921"
             ]
            ],
            "type": "histogram2dcontour"
           }
          ],
          "mesh3d": [
           {
            "colorbar": {
             "outlinewidth": 0,
             "ticks": ""
            },
            "type": "mesh3d"
           }
          ],
          "parcoords": [
           {
            "line": {
             "colorbar": {
              "outlinewidth": 0,
              "ticks": ""
             }
            },
            "type": "parcoords"
           }
          ],
          "pie": [
           {
            "automargin": true,
            "type": "pie"
           }
          ],
          "scatter": [
           {
            "fillpattern": {
             "fillmode": "overlay",
             "size": 10,
             "solidity": 0.2
            },
            "type": "scatter"
           }
          ],
          "scatter3d": [
           {
            "line": {
             "colorbar": {
              "outlinewidth": 0,
              "ticks": ""
             }
            },
            "marker": {
             "colorbar": {
              "outlinewidth": 0,
              "ticks": ""
             }
            },
            "type": "scatter3d"
           }
          ],
          "scattercarpet": [
           {
            "marker": {
             "colorbar": {
              "outlinewidth": 0,
              "ticks": ""
             }
            },
            "type": "scattercarpet"
           }
          ],
          "scattergeo": [
           {
            "marker": {
             "colorbar": {
              "outlinewidth": 0,
              "ticks": ""
             }
            },
            "type": "scattergeo"
           }
          ],
          "scattergl": [
           {
            "marker": {
             "colorbar": {
              "outlinewidth": 0,
              "ticks": ""
             }
            },
            "type": "scattergl"
           }
          ],
          "scattermapbox": [
           {
            "marker": {
             "colorbar": {
              "outlinewidth": 0,
              "ticks": ""
             }
            },
            "type": "scattermapbox"
           }
          ],
          "scatterpolar": [
           {
            "marker": {
             "colorbar": {
              "outlinewidth": 0,
              "ticks": ""
             }
            },
            "type": "scatterpolar"
           }
          ],
          "scatterpolargl": [
           {
            "marker": {
             "colorbar": {
              "outlinewidth": 0,
              "ticks": ""
             }
            },
            "type": "scatterpolargl"
           }
          ],
          "scatterternary": [
           {
            "marker": {
             "colorbar": {
              "outlinewidth": 0,
              "ticks": ""
             }
            },
            "type": "scatterternary"
           }
          ],
          "surface": [
           {
            "colorbar": {
             "outlinewidth": 0,
             "ticks": ""
            },
            "colorscale": [
             [
              0,
              "#0d0887"
             ],
             [
              0.1111111111111111,
              "#46039f"
             ],
             [
              0.2222222222222222,
              "#7201a8"
             ],
             [
              0.3333333333333333,
              "#9c179e"
             ],
             [
              0.4444444444444444,
              "#bd3786"
             ],
             [
              0.5555555555555556,
              "#d8576b"
             ],
             [
              0.6666666666666666,
              "#ed7953"
             ],
             [
              0.7777777777777778,
              "#fb9f3a"
             ],
             [
              0.8888888888888888,
              "#fdca26"
             ],
             [
              1,
              "#f0f921"
             ]
            ],
            "type": "surface"
           }
          ],
          "table": [
           {
            "cells": {
             "fill": {
              "color": "#EBF0F8"
             },
             "line": {
              "color": "white"
             }
            },
            "header": {
             "fill": {
              "color": "#C8D4E3"
             },
             "line": {
              "color": "white"
             }
            },
            "type": "table"
           }
          ]
         },
         "layout": {
          "annotationdefaults": {
           "arrowcolor": "#2a3f5f",
           "arrowhead": 0,
           "arrowwidth": 1
          },
          "autotypenumbers": "strict",
          "coloraxis": {
           "colorbar": {
            "outlinewidth": 0,
            "ticks": ""
           }
          },
          "colorscale": {
           "diverging": [
            [
             0,
             "#8e0152"
            ],
            [
             0.1,
             "#c51b7d"
            ],
            [
             0.2,
             "#de77ae"
            ],
            [
             0.3,
             "#f1b6da"
            ],
            [
             0.4,
             "#fde0ef"
            ],
            [
             0.5,
             "#f7f7f7"
            ],
            [
             0.6,
             "#e6f5d0"
            ],
            [
             0.7,
             "#b8e186"
            ],
            [
             0.8,
             "#7fbc41"
            ],
            [
             0.9,
             "#4d9221"
            ],
            [
             1,
             "#276419"
            ]
           ],
           "sequential": [
            [
             0,
             "#0d0887"
            ],
            [
             0.1111111111111111,
             "#46039f"
            ],
            [
             0.2222222222222222,
             "#7201a8"
            ],
            [
             0.3333333333333333,
             "#9c179e"
            ],
            [
             0.4444444444444444,
             "#bd3786"
            ],
            [
             0.5555555555555556,
             "#d8576b"
            ],
            [
             0.6666666666666666,
             "#ed7953"
            ],
            [
             0.7777777777777778,
             "#fb9f3a"
            ],
            [
             0.8888888888888888,
             "#fdca26"
            ],
            [
             1,
             "#f0f921"
            ]
           ],
           "sequentialminus": [
            [
             0,
             "#0d0887"
            ],
            [
             0.1111111111111111,
             "#46039f"
            ],
            [
             0.2222222222222222,
             "#7201a8"
            ],
            [
             0.3333333333333333,
             "#9c179e"
            ],
            [
             0.4444444444444444,
             "#bd3786"
            ],
            [
             0.5555555555555556,
             "#d8576b"
            ],
            [
             0.6666666666666666,
             "#ed7953"
            ],
            [
             0.7777777777777778,
             "#fb9f3a"
            ],
            [
             0.8888888888888888,
             "#fdca26"
            ],
            [
             1,
             "#f0f921"
            ]
           ]
          },
          "colorway": [
           "#636efa",
           "#EF553B",
           "#00cc96",
           "#ab63fa",
           "#FFA15A",
           "#19d3f3",
           "#FF6692",
           "#B6E880",
           "#FF97FF",
           "#FECB52"
          ],
          "font": {
           "color": "#2a3f5f"
          },
          "geo": {
           "bgcolor": "white",
           "lakecolor": "white",
           "landcolor": "#E5ECF6",
           "showlakes": true,
           "showland": true,
           "subunitcolor": "white"
          },
          "hoverlabel": {
           "align": "left"
          },
          "hovermode": "closest",
          "mapbox": {
           "style": "light"
          },
          "paper_bgcolor": "white",
          "plot_bgcolor": "#E5ECF6",
          "polar": {
           "angularaxis": {
            "gridcolor": "white",
            "linecolor": "white",
            "ticks": ""
           },
           "bgcolor": "#E5ECF6",
           "radialaxis": {
            "gridcolor": "white",
            "linecolor": "white",
            "ticks": ""
           }
          },
          "scene": {
           "xaxis": {
            "backgroundcolor": "#E5ECF6",
            "gridcolor": "white",
            "gridwidth": 2,
            "linecolor": "white",
            "showbackground": true,
            "ticks": "",
            "zerolinecolor": "white"
           },
           "yaxis": {
            "backgroundcolor": "#E5ECF6",
            "gridcolor": "white",
            "gridwidth": 2,
            "linecolor": "white",
            "showbackground": true,
            "ticks": "",
            "zerolinecolor": "white"
           },
           "zaxis": {
            "backgroundcolor": "#E5ECF6",
            "gridcolor": "white",
            "gridwidth": 2,
            "linecolor": "white",
            "showbackground": true,
            "ticks": "",
            "zerolinecolor": "white"
           }
          },
          "shapedefaults": {
           "line": {
            "color": "#2a3f5f"
           }
          },
          "ternary": {
           "aaxis": {
            "gridcolor": "white",
            "linecolor": "white",
            "ticks": ""
           },
           "baxis": {
            "gridcolor": "white",
            "linecolor": "white",
            "ticks": ""
           },
           "bgcolor": "#E5ECF6",
           "caxis": {
            "gridcolor": "white",
            "linecolor": "white",
            "ticks": ""
           }
          },
          "title": {
           "x": 0.05
          },
          "xaxis": {
           "automargin": true,
           "gridcolor": "white",
           "linecolor": "white",
           "ticks": "",
           "title": {
            "standoff": 15
           },
           "zerolinecolor": "white",
           "zerolinewidth": 2
          },
          "yaxis": {
           "automargin": true,
           "gridcolor": "white",
           "linecolor": "white",
           "ticks": "",
           "title": {
            "standoff": 15
           },
           "zerolinecolor": "white",
           "zerolinewidth": 2
          }
         }
        },
        "title": {
         "text": "Avg. relative accuracy across queries in workload"
        },
        "width": 1100,
        "xaxis": {
         "anchor": "y",
         "domain": [
          0,
          1
         ],
         "title": {
          "text": "workload_size"
         }
        },
        "yaxis": {
         "anchor": "x",
         "domain": [
          0,
          1
         ],
         "title": {
          "text": "workload_idp_accuracy"
         }
        }
       }
      },
      "text/html": [
       "<div>                            <div id=\"6e59eae3-ec6f-4671-a5a8-27a2e0095362\" class=\"plotly-graph-div\" style=\"height:600px; width:1100px;\"></div>            <script type=\"text/javascript\">                require([\"plotly\"], function(Plotly) {                    window.PLOTLYENV=window.PLOTLYENV || {};                                    if (document.getElementById(\"6e59eae3-ec6f-4671-a5a8-27a2e0095362\")) {                    Plotly.newPlot(                        \"6e59eae3-ec6f-4671-a5a8-27a2e0095362\",                        [{\"hovertemplate\":\"baseline=ipa\\u003cbr\\u003edestination=319A2412BDB0EF669733053640B80112\\u003cbr\\u003eworkload_size=%{x}\\u003cbr\\u003eworkload_idp_accuracy=%{y}\\u003cextra\\u003e\\u003c\\u002fextra\\u003e\",\"legendgroup\":\"ipa\",\"line\":{\"color\":\"#636efa\",\"dash\":\"solid\"},\"marker\":{\"symbol\":\"circle\"},\"mode\":\"lines+markers\",\"name\":\"ipa\",\"orientation\":\"v\",\"showlegend\":true,\"x\":[1,5,10,15,19,19],\"xaxis\":\"x\",\"y\":[1.0,1.0,0.9,0.6666666666666666,0.5789473684210527,0.5789473684210527],\"yaxis\":\"y\",\"type\":\"scatter\"},{\"hovertemplate\":\"baseline=user_epoch_ara\\u003cbr\\u003edestination=319A2412BDB0EF669733053640B80112\\u003cbr\\u003eworkload_size=%{x}\\u003cbr\\u003eworkload_idp_accuracy=%{y}\\u003cextra\\u003e\\u003c\\u002fextra\\u003e\",\"legendgroup\":\"user_epoch_ara\",\"line\":{\"color\":\"#EF553B\",\"dash\":\"solid\"},\"marker\":{\"symbol\":\"circle\"},\"mode\":\"lines+markers\",\"name\":\"user_epoch_ara\",\"orientation\":\"v\",\"showlegend\":true,\"x\":[1,5,10,15,19,19],\"xaxis\":\"x\",\"y\":[1.0,1.0,1.0,0.9998052958343516,0.9994704051725578,0.9994704051725578],\"yaxis\":\"y\",\"type\":\"scatter\"},{\"hovertemplate\":\"baseline=cookiemonster\\u003cbr\\u003edestination=319A2412BDB0EF669733053640B80112\\u003cbr\\u003eworkload_size=%{x}\\u003cbr\\u003eworkload_idp_accuracy=%{y}\\u003cextra\\u003e\\u003c\\u002fextra\\u003e\",\"legendgroup\":\"cookiemonster\",\"line\":{\"color\":\"#00cc96\",\"dash\":\"solid\"},\"marker\":{\"symbol\":\"circle\"},\"mode\":\"lines+markers\",\"name\":\"cookiemonster\",\"orientation\":\"v\",\"showlegend\":true,\"x\":[1,5,10,15,19,19],\"xaxis\":\"x\",\"y\":[1.0,1.0,1.0,0.9999704557205111,0.9996471835078452,0.9996471835078452],\"yaxis\":\"y\",\"type\":\"scatter\"}],                        {\"annotations\":[{\"showarrow\":false,\"text\":\"destination=319A2412BDB0EF669733053640B80112\",\"x\":0.5,\"xanchor\":\"center\",\"xref\":\"paper\",\"y\":1.0,\"yanchor\":\"bottom\",\"yref\":\"paper\"}],\"height\":600,\"legend\":{\"title\":{\"text\":\"baseline\"},\"tracegroupgap\":0},\"template\":{\"data\":{\"barpolar\":[{\"marker\":{\"line\":{\"color\":\"#E5ECF6\",\"width\":0.5},\"pattern\":{\"fillmode\":\"overlay\",\"size\":10,\"solidity\":0.2}},\"type\":\"barpolar\"}],\"bar\":[{\"error_x\":{\"color\":\"#2a3f5f\"},\"error_y\":{\"color\":\"#2a3f5f\"},\"marker\":{\"line\":{\"color\":\"#E5ECF6\",\"width\":0.5},\"pattern\":{\"fillmode\":\"overlay\",\"size\":10,\"solidity\":0.2}},\"type\":\"bar\"}],\"carpet\":[{\"aaxis\":{\"endlinecolor\":\"#2a3f5f\",\"gridcolor\":\"white\",\"linecolor\":\"white\",\"minorgridcolor\":\"white\",\"startlinecolor\":\"#2a3f5f\"},\"baxis\":{\"endlinecolor\":\"#2a3f5f\",\"gridcolor\":\"white\",\"linecolor\":\"white\",\"minorgridcolor\":\"white\",\"startlinecolor\":\"#2a3f5f\"},\"type\":\"carpet\"}],\"choropleth\":[{\"colorbar\":{\"outlinewidth\":0,\"ticks\":\"\"},\"type\":\"choropleth\"}],\"contourcarpet\":[{\"colorbar\":{\"outlinewidth\":0,\"ticks\":\"\"},\"type\":\"contourcarpet\"}],\"contour\":[{\"colorbar\":{\"outlinewidth\":0,\"ticks\":\"\"},\"colorscale\":[[0.0,\"#0d0887\"],[0.1111111111111111,\"#46039f\"],[0.2222222222222222,\"#7201a8\"],[0.3333333333333333,\"#9c179e\"],[0.4444444444444444,\"#bd3786\"],[0.5555555555555556,\"#d8576b\"],[0.6666666666666666,\"#ed7953\"],[0.7777777777777778,\"#fb9f3a\"],[0.8888888888888888,\"#fdca26\"],[1.0,\"#f0f921\"]],\"type\":\"contour\"}],\"heatmapgl\":[{\"colorbar\":{\"outlinewidth\":0,\"ticks\":\"\"},\"colorscale\":[[0.0,\"#0d0887\"],[0.1111111111111111,\"#46039f\"],[0.2222222222222222,\"#7201a8\"],[0.3333333333333333,\"#9c179e\"],[0.4444444444444444,\"#bd3786\"],[0.5555555555555556,\"#d8576b\"],[0.6666666666666666,\"#ed7953\"],[0.7777777777777778,\"#fb9f3a\"],[0.8888888888888888,\"#fdca26\"],[1.0,\"#f0f921\"]],\"type\":\"heatmapgl\"}],\"heatmap\":[{\"colorbar\":{\"outlinewidth\":0,\"ticks\":\"\"},\"colorscale\":[[0.0,\"#0d0887\"],[0.1111111111111111,\"#46039f\"],[0.2222222222222222,\"#7201a8\"],[0.3333333333333333,\"#9c179e\"],[0.4444444444444444,\"#bd3786\"],[0.5555555555555556,\"#d8576b\"],[0.6666666666666666,\"#ed7953\"],[0.7777777777777778,\"#fb9f3a\"],[0.8888888888888888,\"#fdca26\"],[1.0,\"#f0f921\"]],\"type\":\"heatmap\"}],\"histogram2dcontour\":[{\"colorbar\":{\"outlinewidth\":0,\"ticks\":\"\"},\"colorscale\":[[0.0,\"#0d0887\"],[0.1111111111111111,\"#46039f\"],[0.2222222222222222,\"#7201a8\"],[0.3333333333333333,\"#9c179e\"],[0.4444444444444444,\"#bd3786\"],[0.5555555555555556,\"#d8576b\"],[0.6666666666666666,\"#ed7953\"],[0.7777777777777778,\"#fb9f3a\"],[0.8888888888888888,\"#fdca26\"],[1.0,\"#f0f921\"]],\"type\":\"histogram2dcontour\"}],\"histogram2d\":[{\"colorbar\":{\"outlinewidth\":0,\"ticks\":\"\"},\"colorscale\":[[0.0,\"#0d0887\"],[0.1111111111111111,\"#46039f\"],[0.2222222222222222,\"#7201a8\"],[0.3333333333333333,\"#9c179e\"],[0.4444444444444444,\"#bd3786\"],[0.5555555555555556,\"#d8576b\"],[0.6666666666666666,\"#ed7953\"],[0.7777777777777778,\"#fb9f3a\"],[0.8888888888888888,\"#fdca26\"],[1.0,\"#f0f921\"]],\"type\":\"histogram2d\"}],\"histogram\":[{\"marker\":{\"pattern\":{\"fillmode\":\"overlay\",\"size\":10,\"solidity\":0.2}},\"type\":\"histogram\"}],\"mesh3d\":[{\"colorbar\":{\"outlinewidth\":0,\"ticks\":\"\"},\"type\":\"mesh3d\"}],\"parcoords\":[{\"line\":{\"colorbar\":{\"outlinewidth\":0,\"ticks\":\"\"}},\"type\":\"parcoords\"}],\"pie\":[{\"automargin\":true,\"type\":\"pie\"}],\"scatter3d\":[{\"line\":{\"colorbar\":{\"outlinewidth\":0,\"ticks\":\"\"}},\"marker\":{\"colorbar\":{\"outlinewidth\":0,\"ticks\":\"\"}},\"type\":\"scatter3d\"}],\"scattercarpet\":[{\"marker\":{\"colorbar\":{\"outlinewidth\":0,\"ticks\":\"\"}},\"type\":\"scattercarpet\"}],\"scattergeo\":[{\"marker\":{\"colorbar\":{\"outlinewidth\":0,\"ticks\":\"\"}},\"type\":\"scattergeo\"}],\"scattergl\":[{\"marker\":{\"colorbar\":{\"outlinewidth\":0,\"ticks\":\"\"}},\"type\":\"scattergl\"}],\"scattermapbox\":[{\"marker\":{\"colorbar\":{\"outlinewidth\":0,\"ticks\":\"\"}},\"type\":\"scattermapbox\"}],\"scatterpolargl\":[{\"marker\":{\"colorbar\":{\"outlinewidth\":0,\"ticks\":\"\"}},\"type\":\"scatterpolargl\"}],\"scatterpolar\":[{\"marker\":{\"colorbar\":{\"outlinewidth\":0,\"ticks\":\"\"}},\"type\":\"scatterpolar\"}],\"scatter\":[{\"fillpattern\":{\"fillmode\":\"overlay\",\"size\":10,\"solidity\":0.2},\"type\":\"scatter\"}],\"scatterternary\":[{\"marker\":{\"colorbar\":{\"outlinewidth\":0,\"ticks\":\"\"}},\"type\":\"scatterternary\"}],\"surface\":[{\"colorbar\":{\"outlinewidth\":0,\"ticks\":\"\"},\"colorscale\":[[0.0,\"#0d0887\"],[0.1111111111111111,\"#46039f\"],[0.2222222222222222,\"#7201a8\"],[0.3333333333333333,\"#9c179e\"],[0.4444444444444444,\"#bd3786\"],[0.5555555555555556,\"#d8576b\"],[0.6666666666666666,\"#ed7953\"],[0.7777777777777778,\"#fb9f3a\"],[0.8888888888888888,\"#fdca26\"],[1.0,\"#f0f921\"]],\"type\":\"surface\"}],\"table\":[{\"cells\":{\"fill\":{\"color\":\"#EBF0F8\"},\"line\":{\"color\":\"white\"}},\"header\":{\"fill\":{\"color\":\"#C8D4E3\"},\"line\":{\"color\":\"white\"}},\"type\":\"table\"}]},\"layout\":{\"annotationdefaults\":{\"arrowcolor\":\"#2a3f5f\",\"arrowhead\":0,\"arrowwidth\":1},\"autotypenumbers\":\"strict\",\"coloraxis\":{\"colorbar\":{\"outlinewidth\":0,\"ticks\":\"\"}},\"colorscale\":{\"diverging\":[[0,\"#8e0152\"],[0.1,\"#c51b7d\"],[0.2,\"#de77ae\"],[0.3,\"#f1b6da\"],[0.4,\"#fde0ef\"],[0.5,\"#f7f7f7\"],[0.6,\"#e6f5d0\"],[0.7,\"#b8e186\"],[0.8,\"#7fbc41\"],[0.9,\"#4d9221\"],[1,\"#276419\"]],\"sequential\":[[0.0,\"#0d0887\"],[0.1111111111111111,\"#46039f\"],[0.2222222222222222,\"#7201a8\"],[0.3333333333333333,\"#9c179e\"],[0.4444444444444444,\"#bd3786\"],[0.5555555555555556,\"#d8576b\"],[0.6666666666666666,\"#ed7953\"],[0.7777777777777778,\"#fb9f3a\"],[0.8888888888888888,\"#fdca26\"],[1.0,\"#f0f921\"]],\"sequentialminus\":[[0.0,\"#0d0887\"],[0.1111111111111111,\"#46039f\"],[0.2222222222222222,\"#7201a8\"],[0.3333333333333333,\"#9c179e\"],[0.4444444444444444,\"#bd3786\"],[0.5555555555555556,\"#d8576b\"],[0.6666666666666666,\"#ed7953\"],[0.7777777777777778,\"#fb9f3a\"],[0.8888888888888888,\"#fdca26\"],[1.0,\"#f0f921\"]]},\"colorway\":[\"#636efa\",\"#EF553B\",\"#00cc96\",\"#ab63fa\",\"#FFA15A\",\"#19d3f3\",\"#FF6692\",\"#B6E880\",\"#FF97FF\",\"#FECB52\"],\"font\":{\"color\":\"#2a3f5f\"},\"geo\":{\"bgcolor\":\"white\",\"lakecolor\":\"white\",\"landcolor\":\"#E5ECF6\",\"showlakes\":true,\"showland\":true,\"subunitcolor\":\"white\"},\"hoverlabel\":{\"align\":\"left\"},\"hovermode\":\"closest\",\"mapbox\":{\"style\":\"light\"},\"paper_bgcolor\":\"white\",\"plot_bgcolor\":\"#E5ECF6\",\"polar\":{\"angularaxis\":{\"gridcolor\":\"white\",\"linecolor\":\"white\",\"ticks\":\"\"},\"bgcolor\":\"#E5ECF6\",\"radialaxis\":{\"gridcolor\":\"white\",\"linecolor\":\"white\",\"ticks\":\"\"}},\"scene\":{\"xaxis\":{\"backgroundcolor\":\"#E5ECF6\",\"gridcolor\":\"white\",\"gridwidth\":2,\"linecolor\":\"white\",\"showbackground\":true,\"ticks\":\"\",\"zerolinecolor\":\"white\"},\"yaxis\":{\"backgroundcolor\":\"#E5ECF6\",\"gridcolor\":\"white\",\"gridwidth\":2,\"linecolor\":\"white\",\"showbackground\":true,\"ticks\":\"\",\"zerolinecolor\":\"white\"},\"zaxis\":{\"backgroundcolor\":\"#E5ECF6\",\"gridcolor\":\"white\",\"gridwidth\":2,\"linecolor\":\"white\",\"showbackground\":true,\"ticks\":\"\",\"zerolinecolor\":\"white\"}},\"shapedefaults\":{\"line\":{\"color\":\"#2a3f5f\"}},\"ternary\":{\"aaxis\":{\"gridcolor\":\"white\",\"linecolor\":\"white\",\"ticks\":\"\"},\"baxis\":{\"gridcolor\":\"white\",\"linecolor\":\"white\",\"ticks\":\"\"},\"bgcolor\":\"#E5ECF6\",\"caxis\":{\"gridcolor\":\"white\",\"linecolor\":\"white\",\"ticks\":\"\"}},\"title\":{\"x\":0.05},\"xaxis\":{\"automargin\":true,\"gridcolor\":\"white\",\"linecolor\":\"white\",\"ticks\":\"\",\"title\":{\"standoff\":15},\"zerolinecolor\":\"white\",\"zerolinewidth\":2},\"yaxis\":{\"automargin\":true,\"gridcolor\":\"white\",\"linecolor\":\"white\",\"ticks\":\"\",\"title\":{\"standoff\":15},\"zerolinecolor\":\"white\",\"zerolinewidth\":2}}},\"title\":{\"text\":\"Avg. relative accuracy across queries in workload\"},\"width\":1100,\"xaxis\":{\"anchor\":\"y\",\"domain\":[0.0,1.0],\"title\":{\"text\":\"workload_size\"}},\"yaxis\":{\"anchor\":\"x\",\"domain\":[0.0,1.0],\"title\":{\"text\":\"workload_idp_accuracy\"}}},                        {\"responsive\": true}                    ).then(function(){\n",
       "                            \n",
       "var gd = document.getElementById('6e59eae3-ec6f-4671-a5a8-27a2e0095362');\n",
       "var x = new MutationObserver(function (mutations, observer) {{\n",
       "        var display = window.getComputedStyle(gd).display;\n",
       "        if (!display || display === 'none') {{\n",
       "            console.log([gd, 'removed!']);\n",
       "            Plotly.purge(gd);\n",
       "            observer.disconnect();\n",
       "        }}\n",
       "}});\n",
       "\n",
       "// Listen for the removal of the full notebook cells\n",
       "var notebookContainer = gd.closest('#notebook-container');\n",
       "if (notebookContainer) {{\n",
       "    x.observe(notebookContainer, {childList: true});\n",
       "}}\n",
       "\n",
       "// Listen for the clearing of the current output cell\n",
       "var outputEl = gd.closest('.output');\n",
       "if (outputEl) {{\n",
       "    x.observe(outputEl, {childList: true});\n",
       "}}\n",
       "\n",
       "                        })                };                });            </script>        </div>"
      ]
     },
     "metadata": {},
     "output_type": "display_data"
    },
    {
     "data": {
      "application/vnd.plotly.v1+json": {
       "config": {
        "linkText": "Export to plot.ly",
        "plotlyServerURL": "https://plot.ly",
        "showLink": false
       },
       "data": [
        {
         "hovertemplate": "baseline=ipa<br>destination=51EBAAC05E372CBCDF0F207517A225AB<br>workload_size=%{x}<br>fraction_queries_without_idp_bias=%{y}<extra></extra>",
         "legendgroup": "ipa",
         "line": {
          "color": "#636efa",
          "dash": "solid"
         },
         "marker": {
          "symbol": "circle"
         },
         "mode": "lines+markers",
         "name": "ipa",
         "orientation": "v",
         "showlegend": true,
         "type": "scatter",
         "x": [
          1,
          5,
          10,
          15,
          19,
          19
         ],
         "xaxis": "x",
         "y": [
          1,
          1,
          0.7,
          0.6,
          0.47368421052631576,
          0.47368421052631576
         ],
         "yaxis": "y"
        },
        {
         "hovertemplate": "baseline=user_epoch_ara<br>destination=51EBAAC05E372CBCDF0F207517A225AB<br>workload_size=%{x}<br>fraction_queries_without_idp_bias=%{y}<extra></extra>",
         "legendgroup": "user_epoch_ara",
         "line": {
          "color": "#EF553B",
          "dash": "solid"
         },
         "marker": {
          "symbol": "circle"
         },
         "mode": "lines+markers",
         "name": "user_epoch_ara",
         "orientation": "v",
         "showlegend": true,
         "type": "scatter",
         "x": [
          1,
          5,
          10,
          15,
          19,
          19
         ],
         "xaxis": "x",
         "y": [
          1,
          1,
          1,
          0.8666666666666667,
          0.7368421052631579,
          0.7368421052631579
         ],
         "yaxis": "y"
        },
        {
         "hovertemplate": "baseline=cookiemonster<br>destination=51EBAAC05E372CBCDF0F207517A225AB<br>workload_size=%{x}<br>fraction_queries_without_idp_bias=%{y}<extra></extra>",
         "legendgroup": "cookiemonster",
         "line": {
          "color": "#00cc96",
          "dash": "solid"
         },
         "marker": {
          "symbol": "circle"
         },
         "mode": "lines+markers",
         "name": "cookiemonster",
         "orientation": "v",
         "showlegend": true,
         "type": "scatter",
         "x": [
          1,
          5,
          10,
          15,
          19,
          19
         ],
         "xaxis": "x",
         "y": [
          1,
          1,
          1,
          0.9333333333333333,
          0.8421052631578947,
          0.8421052631578947
         ],
         "yaxis": "y"
        }
       ],
       "layout": {
        "annotations": [
         {
          "showarrow": false,
          "text": "destination=51EBAAC05E372CBCDF0F207517A225AB",
          "x": 0.5,
          "xanchor": "center",
          "xref": "paper",
          "y": 1,
          "yanchor": "bottom",
          "yref": "paper"
         }
        ],
        "height": 600,
        "legend": {
         "title": {
          "text": "baseline"
         },
         "tracegroupgap": 0
        },
        "template": {
         "data": {
          "bar": [
           {
            "error_x": {
             "color": "#2a3f5f"
            },
            "error_y": {
             "color": "#2a3f5f"
            },
            "marker": {
             "line": {
              "color": "#E5ECF6",
              "width": 0.5
             },
             "pattern": {
              "fillmode": "overlay",
              "size": 10,
              "solidity": 0.2
             }
            },
            "type": "bar"
           }
          ],
          "barpolar": [
           {
            "marker": {
             "line": {
              "color": "#E5ECF6",
              "width": 0.5
             },
             "pattern": {
              "fillmode": "overlay",
              "size": 10,
              "solidity": 0.2
             }
            },
            "type": "barpolar"
           }
          ],
          "carpet": [
           {
            "aaxis": {
             "endlinecolor": "#2a3f5f",
             "gridcolor": "white",
             "linecolor": "white",
             "minorgridcolor": "white",
             "startlinecolor": "#2a3f5f"
            },
            "baxis": {
             "endlinecolor": "#2a3f5f",
             "gridcolor": "white",
             "linecolor": "white",
             "minorgridcolor": "white",
             "startlinecolor": "#2a3f5f"
            },
            "type": "carpet"
           }
          ],
          "choropleth": [
           {
            "colorbar": {
             "outlinewidth": 0,
             "ticks": ""
            },
            "type": "choropleth"
           }
          ],
          "contour": [
           {
            "colorbar": {
             "outlinewidth": 0,
             "ticks": ""
            },
            "colorscale": [
             [
              0,
              "#0d0887"
             ],
             [
              0.1111111111111111,
              "#46039f"
             ],
             [
              0.2222222222222222,
              "#7201a8"
             ],
             [
              0.3333333333333333,
              "#9c179e"
             ],
             [
              0.4444444444444444,
              "#bd3786"
             ],
             [
              0.5555555555555556,
              "#d8576b"
             ],
             [
              0.6666666666666666,
              "#ed7953"
             ],
             [
              0.7777777777777778,
              "#fb9f3a"
             ],
             [
              0.8888888888888888,
              "#fdca26"
             ],
             [
              1,
              "#f0f921"
             ]
            ],
            "type": "contour"
           }
          ],
          "contourcarpet": [
           {
            "colorbar": {
             "outlinewidth": 0,
             "ticks": ""
            },
            "type": "contourcarpet"
           }
          ],
          "heatmap": [
           {
            "colorbar": {
             "outlinewidth": 0,
             "ticks": ""
            },
            "colorscale": [
             [
              0,
              "#0d0887"
             ],
             [
              0.1111111111111111,
              "#46039f"
             ],
             [
              0.2222222222222222,
              "#7201a8"
             ],
             [
              0.3333333333333333,
              "#9c179e"
             ],
             [
              0.4444444444444444,
              "#bd3786"
             ],
             [
              0.5555555555555556,
              "#d8576b"
             ],
             [
              0.6666666666666666,
              "#ed7953"
             ],
             [
              0.7777777777777778,
              "#fb9f3a"
             ],
             [
              0.8888888888888888,
              "#fdca26"
             ],
             [
              1,
              "#f0f921"
             ]
            ],
            "type": "heatmap"
           }
          ],
          "heatmapgl": [
           {
            "colorbar": {
             "outlinewidth": 0,
             "ticks": ""
            },
            "colorscale": [
             [
              0,
              "#0d0887"
             ],
             [
              0.1111111111111111,
              "#46039f"
             ],
             [
              0.2222222222222222,
              "#7201a8"
             ],
             [
              0.3333333333333333,
              "#9c179e"
             ],
             [
              0.4444444444444444,
              "#bd3786"
             ],
             [
              0.5555555555555556,
              "#d8576b"
             ],
             [
              0.6666666666666666,
              "#ed7953"
             ],
             [
              0.7777777777777778,
              "#fb9f3a"
             ],
             [
              0.8888888888888888,
              "#fdca26"
             ],
             [
              1,
              "#f0f921"
             ]
            ],
            "type": "heatmapgl"
           }
          ],
          "histogram": [
           {
            "marker": {
             "pattern": {
              "fillmode": "overlay",
              "size": 10,
              "solidity": 0.2
             }
            },
            "type": "histogram"
           }
          ],
          "histogram2d": [
           {
            "colorbar": {
             "outlinewidth": 0,
             "ticks": ""
            },
            "colorscale": [
             [
              0,
              "#0d0887"
             ],
             [
              0.1111111111111111,
              "#46039f"
             ],
             [
              0.2222222222222222,
              "#7201a8"
             ],
             [
              0.3333333333333333,
              "#9c179e"
             ],
             [
              0.4444444444444444,
              "#bd3786"
             ],
             [
              0.5555555555555556,
              "#d8576b"
             ],
             [
              0.6666666666666666,
              "#ed7953"
             ],
             [
              0.7777777777777778,
              "#fb9f3a"
             ],
             [
              0.8888888888888888,
              "#fdca26"
             ],
             [
              1,
              "#f0f921"
             ]
            ],
            "type": "histogram2d"
           }
          ],
          "histogram2dcontour": [
           {
            "colorbar": {
             "outlinewidth": 0,
             "ticks": ""
            },
            "colorscale": [
             [
              0,
              "#0d0887"
             ],
             [
              0.1111111111111111,
              "#46039f"
             ],
             [
              0.2222222222222222,
              "#7201a8"
             ],
             [
              0.3333333333333333,
              "#9c179e"
             ],
             [
              0.4444444444444444,
              "#bd3786"
             ],
             [
              0.5555555555555556,
              "#d8576b"
             ],
             [
              0.6666666666666666,
              "#ed7953"
             ],
             [
              0.7777777777777778,
              "#fb9f3a"
             ],
             [
              0.8888888888888888,
              "#fdca26"
             ],
             [
              1,
              "#f0f921"
             ]
            ],
            "type": "histogram2dcontour"
           }
          ],
          "mesh3d": [
           {
            "colorbar": {
             "outlinewidth": 0,
             "ticks": ""
            },
            "type": "mesh3d"
           }
          ],
          "parcoords": [
           {
            "line": {
             "colorbar": {
              "outlinewidth": 0,
              "ticks": ""
             }
            },
            "type": "parcoords"
           }
          ],
          "pie": [
           {
            "automargin": true,
            "type": "pie"
           }
          ],
          "scatter": [
           {
            "fillpattern": {
             "fillmode": "overlay",
             "size": 10,
             "solidity": 0.2
            },
            "type": "scatter"
           }
          ],
          "scatter3d": [
           {
            "line": {
             "colorbar": {
              "outlinewidth": 0,
              "ticks": ""
             }
            },
            "marker": {
             "colorbar": {
              "outlinewidth": 0,
              "ticks": ""
             }
            },
            "type": "scatter3d"
           }
          ],
          "scattercarpet": [
           {
            "marker": {
             "colorbar": {
              "outlinewidth": 0,
              "ticks": ""
             }
            },
            "type": "scattercarpet"
           }
          ],
          "scattergeo": [
           {
            "marker": {
             "colorbar": {
              "outlinewidth": 0,
              "ticks": ""
             }
            },
            "type": "scattergeo"
           }
          ],
          "scattergl": [
           {
            "marker": {
             "colorbar": {
              "outlinewidth": 0,
              "ticks": ""
             }
            },
            "type": "scattergl"
           }
          ],
          "scattermapbox": [
           {
            "marker": {
             "colorbar": {
              "outlinewidth": 0,
              "ticks": ""
             }
            },
            "type": "scattermapbox"
           }
          ],
          "scatterpolar": [
           {
            "marker": {
             "colorbar": {
              "outlinewidth": 0,
              "ticks": ""
             }
            },
            "type": "scatterpolar"
           }
          ],
          "scatterpolargl": [
           {
            "marker": {
             "colorbar": {
              "outlinewidth": 0,
              "ticks": ""
             }
            },
            "type": "scatterpolargl"
           }
          ],
          "scatterternary": [
           {
            "marker": {
             "colorbar": {
              "outlinewidth": 0,
              "ticks": ""
             }
            },
            "type": "scatterternary"
           }
          ],
          "surface": [
           {
            "colorbar": {
             "outlinewidth": 0,
             "ticks": ""
            },
            "colorscale": [
             [
              0,
              "#0d0887"
             ],
             [
              0.1111111111111111,
              "#46039f"
             ],
             [
              0.2222222222222222,
              "#7201a8"
             ],
             [
              0.3333333333333333,
              "#9c179e"
             ],
             [
              0.4444444444444444,
              "#bd3786"
             ],
             [
              0.5555555555555556,
              "#d8576b"
             ],
             [
              0.6666666666666666,
              "#ed7953"
             ],
             [
              0.7777777777777778,
              "#fb9f3a"
             ],
             [
              0.8888888888888888,
              "#fdca26"
             ],
             [
              1,
              "#f0f921"
             ]
            ],
            "type": "surface"
           }
          ],
          "table": [
           {
            "cells": {
             "fill": {
              "color": "#EBF0F8"
             },
             "line": {
              "color": "white"
             }
            },
            "header": {
             "fill": {
              "color": "#C8D4E3"
             },
             "line": {
              "color": "white"
             }
            },
            "type": "table"
           }
          ]
         },
         "layout": {
          "annotationdefaults": {
           "arrowcolor": "#2a3f5f",
           "arrowhead": 0,
           "arrowwidth": 1
          },
          "autotypenumbers": "strict",
          "coloraxis": {
           "colorbar": {
            "outlinewidth": 0,
            "ticks": ""
           }
          },
          "colorscale": {
           "diverging": [
            [
             0,
             "#8e0152"
            ],
            [
             0.1,
             "#c51b7d"
            ],
            [
             0.2,
             "#de77ae"
            ],
            [
             0.3,
             "#f1b6da"
            ],
            [
             0.4,
             "#fde0ef"
            ],
            [
             0.5,
             "#f7f7f7"
            ],
            [
             0.6,
             "#e6f5d0"
            ],
            [
             0.7,
             "#b8e186"
            ],
            [
             0.8,
             "#7fbc41"
            ],
            [
             0.9,
             "#4d9221"
            ],
            [
             1,
             "#276419"
            ]
           ],
           "sequential": [
            [
             0,
             "#0d0887"
            ],
            [
             0.1111111111111111,
             "#46039f"
            ],
            [
             0.2222222222222222,
             "#7201a8"
            ],
            [
             0.3333333333333333,
             "#9c179e"
            ],
            [
             0.4444444444444444,
             "#bd3786"
            ],
            [
             0.5555555555555556,
             "#d8576b"
            ],
            [
             0.6666666666666666,
             "#ed7953"
            ],
            [
             0.7777777777777778,
             "#fb9f3a"
            ],
            [
             0.8888888888888888,
             "#fdca26"
            ],
            [
             1,
             "#f0f921"
            ]
           ],
           "sequentialminus": [
            [
             0,
             "#0d0887"
            ],
            [
             0.1111111111111111,
             "#46039f"
            ],
            [
             0.2222222222222222,
             "#7201a8"
            ],
            [
             0.3333333333333333,
             "#9c179e"
            ],
            [
             0.4444444444444444,
             "#bd3786"
            ],
            [
             0.5555555555555556,
             "#d8576b"
            ],
            [
             0.6666666666666666,
             "#ed7953"
            ],
            [
             0.7777777777777778,
             "#fb9f3a"
            ],
            [
             0.8888888888888888,
             "#fdca26"
            ],
            [
             1,
             "#f0f921"
            ]
           ]
          },
          "colorway": [
           "#636efa",
           "#EF553B",
           "#00cc96",
           "#ab63fa",
           "#FFA15A",
           "#19d3f3",
           "#FF6692",
           "#B6E880",
           "#FF97FF",
           "#FECB52"
          ],
          "font": {
           "color": "#2a3f5f"
          },
          "geo": {
           "bgcolor": "white",
           "lakecolor": "white",
           "landcolor": "#E5ECF6",
           "showlakes": true,
           "showland": true,
           "subunitcolor": "white"
          },
          "hoverlabel": {
           "align": "left"
          },
          "hovermode": "closest",
          "mapbox": {
           "style": "light"
          },
          "paper_bgcolor": "white",
          "plot_bgcolor": "#E5ECF6",
          "polar": {
           "angularaxis": {
            "gridcolor": "white",
            "linecolor": "white",
            "ticks": ""
           },
           "bgcolor": "#E5ECF6",
           "radialaxis": {
            "gridcolor": "white",
            "linecolor": "white",
            "ticks": ""
           }
          },
          "scene": {
           "xaxis": {
            "backgroundcolor": "#E5ECF6",
            "gridcolor": "white",
            "gridwidth": 2,
            "linecolor": "white",
            "showbackground": true,
            "ticks": "",
            "zerolinecolor": "white"
           },
           "yaxis": {
            "backgroundcolor": "#E5ECF6",
            "gridcolor": "white",
            "gridwidth": 2,
            "linecolor": "white",
            "showbackground": true,
            "ticks": "",
            "zerolinecolor": "white"
           },
           "zaxis": {
            "backgroundcolor": "#E5ECF6",
            "gridcolor": "white",
            "gridwidth": 2,
            "linecolor": "white",
            "showbackground": true,
            "ticks": "",
            "zerolinecolor": "white"
           }
          },
          "shapedefaults": {
           "line": {
            "color": "#2a3f5f"
           }
          },
          "ternary": {
           "aaxis": {
            "gridcolor": "white",
            "linecolor": "white",
            "ticks": ""
           },
           "baxis": {
            "gridcolor": "white",
            "linecolor": "white",
            "ticks": ""
           },
           "bgcolor": "#E5ECF6",
           "caxis": {
            "gridcolor": "white",
            "linecolor": "white",
            "ticks": ""
           }
          },
          "title": {
           "x": 0.05
          },
          "xaxis": {
           "automargin": true,
           "gridcolor": "white",
           "linecolor": "white",
           "ticks": "",
           "title": {
            "standoff": 15
           },
           "zerolinecolor": "white",
           "zerolinewidth": 2
          },
          "yaxis": {
           "automargin": true,
           "gridcolor": "white",
           "linecolor": "white",
           "ticks": "",
           "title": {
            "standoff": 15
           },
           "zerolinecolor": "white",
           "zerolinewidth": 2
          }
         }
        },
        "title": {
         "text": "Fraction of queries reaching accuracy target"
        },
        "width": 1100,
        "xaxis": {
         "anchor": "y",
         "domain": [
          0,
          1
         ],
         "title": {
          "text": "workload_size"
         }
        },
        "yaxis": {
         "anchor": "x",
         "domain": [
          0,
          1
         ],
         "title": {
          "text": "fraction_queries_without_idp_bias"
         }
        }
       }
      },
      "text/html": [
       "<div>                            <div id=\"efdaa776-1432-41c6-a4ed-fbdf052e11ca\" class=\"plotly-graph-div\" style=\"height:600px; width:1100px;\"></div>            <script type=\"text/javascript\">                require([\"plotly\"], function(Plotly) {                    window.PLOTLYENV=window.PLOTLYENV || {};                                    if (document.getElementById(\"efdaa776-1432-41c6-a4ed-fbdf052e11ca\")) {                    Plotly.newPlot(                        \"efdaa776-1432-41c6-a4ed-fbdf052e11ca\",                        [{\"hovertemplate\":\"baseline=ipa\\u003cbr\\u003edestination=51EBAAC05E372CBCDF0F207517A225AB\\u003cbr\\u003eworkload_size=%{x}\\u003cbr\\u003efraction_queries_without_idp_bias=%{y}\\u003cextra\\u003e\\u003c\\u002fextra\\u003e\",\"legendgroup\":\"ipa\",\"line\":{\"color\":\"#636efa\",\"dash\":\"solid\"},\"marker\":{\"symbol\":\"circle\"},\"mode\":\"lines+markers\",\"name\":\"ipa\",\"orientation\":\"v\",\"showlegend\":true,\"x\":[1,5,10,15,19,19],\"xaxis\":\"x\",\"y\":[1.0,1.0,0.7,0.6,0.47368421052631576,0.47368421052631576],\"yaxis\":\"y\",\"type\":\"scatter\"},{\"hovertemplate\":\"baseline=user_epoch_ara\\u003cbr\\u003edestination=51EBAAC05E372CBCDF0F207517A225AB\\u003cbr\\u003eworkload_size=%{x}\\u003cbr\\u003efraction_queries_without_idp_bias=%{y}\\u003cextra\\u003e\\u003c\\u002fextra\\u003e\",\"legendgroup\":\"user_epoch_ara\",\"line\":{\"color\":\"#EF553B\",\"dash\":\"solid\"},\"marker\":{\"symbol\":\"circle\"},\"mode\":\"lines+markers\",\"name\":\"user_epoch_ara\",\"orientation\":\"v\",\"showlegend\":true,\"x\":[1,5,10,15,19,19],\"xaxis\":\"x\",\"y\":[1.0,1.0,1.0,0.8666666666666667,0.7368421052631579,0.7368421052631579],\"yaxis\":\"y\",\"type\":\"scatter\"},{\"hovertemplate\":\"baseline=cookiemonster\\u003cbr\\u003edestination=51EBAAC05E372CBCDF0F207517A225AB\\u003cbr\\u003eworkload_size=%{x}\\u003cbr\\u003efraction_queries_without_idp_bias=%{y}\\u003cextra\\u003e\\u003c\\u002fextra\\u003e\",\"legendgroup\":\"cookiemonster\",\"line\":{\"color\":\"#00cc96\",\"dash\":\"solid\"},\"marker\":{\"symbol\":\"circle\"},\"mode\":\"lines+markers\",\"name\":\"cookiemonster\",\"orientation\":\"v\",\"showlegend\":true,\"x\":[1,5,10,15,19,19],\"xaxis\":\"x\",\"y\":[1.0,1.0,1.0,0.9333333333333333,0.8421052631578947,0.8421052631578947],\"yaxis\":\"y\",\"type\":\"scatter\"}],                        {\"annotations\":[{\"showarrow\":false,\"text\":\"destination=51EBAAC05E372CBCDF0F207517A225AB\",\"x\":0.5,\"xanchor\":\"center\",\"xref\":\"paper\",\"y\":1.0,\"yanchor\":\"bottom\",\"yref\":\"paper\"}],\"height\":600,\"legend\":{\"title\":{\"text\":\"baseline\"},\"tracegroupgap\":0},\"template\":{\"data\":{\"barpolar\":[{\"marker\":{\"line\":{\"color\":\"#E5ECF6\",\"width\":0.5},\"pattern\":{\"fillmode\":\"overlay\",\"size\":10,\"solidity\":0.2}},\"type\":\"barpolar\"}],\"bar\":[{\"error_x\":{\"color\":\"#2a3f5f\"},\"error_y\":{\"color\":\"#2a3f5f\"},\"marker\":{\"line\":{\"color\":\"#E5ECF6\",\"width\":0.5},\"pattern\":{\"fillmode\":\"overlay\",\"size\":10,\"solidity\":0.2}},\"type\":\"bar\"}],\"carpet\":[{\"aaxis\":{\"endlinecolor\":\"#2a3f5f\",\"gridcolor\":\"white\",\"linecolor\":\"white\",\"minorgridcolor\":\"white\",\"startlinecolor\":\"#2a3f5f\"},\"baxis\":{\"endlinecolor\":\"#2a3f5f\",\"gridcolor\":\"white\",\"linecolor\":\"white\",\"minorgridcolor\":\"white\",\"startlinecolor\":\"#2a3f5f\"},\"type\":\"carpet\"}],\"choropleth\":[{\"colorbar\":{\"outlinewidth\":0,\"ticks\":\"\"},\"type\":\"choropleth\"}],\"contourcarpet\":[{\"colorbar\":{\"outlinewidth\":0,\"ticks\":\"\"},\"type\":\"contourcarpet\"}],\"contour\":[{\"colorbar\":{\"outlinewidth\":0,\"ticks\":\"\"},\"colorscale\":[[0.0,\"#0d0887\"],[0.1111111111111111,\"#46039f\"],[0.2222222222222222,\"#7201a8\"],[0.3333333333333333,\"#9c179e\"],[0.4444444444444444,\"#bd3786\"],[0.5555555555555556,\"#d8576b\"],[0.6666666666666666,\"#ed7953\"],[0.7777777777777778,\"#fb9f3a\"],[0.8888888888888888,\"#fdca26\"],[1.0,\"#f0f921\"]],\"type\":\"contour\"}],\"heatmapgl\":[{\"colorbar\":{\"outlinewidth\":0,\"ticks\":\"\"},\"colorscale\":[[0.0,\"#0d0887\"],[0.1111111111111111,\"#46039f\"],[0.2222222222222222,\"#7201a8\"],[0.3333333333333333,\"#9c179e\"],[0.4444444444444444,\"#bd3786\"],[0.5555555555555556,\"#d8576b\"],[0.6666666666666666,\"#ed7953\"],[0.7777777777777778,\"#fb9f3a\"],[0.8888888888888888,\"#fdca26\"],[1.0,\"#f0f921\"]],\"type\":\"heatmapgl\"}],\"heatmap\":[{\"colorbar\":{\"outlinewidth\":0,\"ticks\":\"\"},\"colorscale\":[[0.0,\"#0d0887\"],[0.1111111111111111,\"#46039f\"],[0.2222222222222222,\"#7201a8\"],[0.3333333333333333,\"#9c179e\"],[0.4444444444444444,\"#bd3786\"],[0.5555555555555556,\"#d8576b\"],[0.6666666666666666,\"#ed7953\"],[0.7777777777777778,\"#fb9f3a\"],[0.8888888888888888,\"#fdca26\"],[1.0,\"#f0f921\"]],\"type\":\"heatmap\"}],\"histogram2dcontour\":[{\"colorbar\":{\"outlinewidth\":0,\"ticks\":\"\"},\"colorscale\":[[0.0,\"#0d0887\"],[0.1111111111111111,\"#46039f\"],[0.2222222222222222,\"#7201a8\"],[0.3333333333333333,\"#9c179e\"],[0.4444444444444444,\"#bd3786\"],[0.5555555555555556,\"#d8576b\"],[0.6666666666666666,\"#ed7953\"],[0.7777777777777778,\"#fb9f3a\"],[0.8888888888888888,\"#fdca26\"],[1.0,\"#f0f921\"]],\"type\":\"histogram2dcontour\"}],\"histogram2d\":[{\"colorbar\":{\"outlinewidth\":0,\"ticks\":\"\"},\"colorscale\":[[0.0,\"#0d0887\"],[0.1111111111111111,\"#46039f\"],[0.2222222222222222,\"#7201a8\"],[0.3333333333333333,\"#9c179e\"],[0.4444444444444444,\"#bd3786\"],[0.5555555555555556,\"#d8576b\"],[0.6666666666666666,\"#ed7953\"],[0.7777777777777778,\"#fb9f3a\"],[0.8888888888888888,\"#fdca26\"],[1.0,\"#f0f921\"]],\"type\":\"histogram2d\"}],\"histogram\":[{\"marker\":{\"pattern\":{\"fillmode\":\"overlay\",\"size\":10,\"solidity\":0.2}},\"type\":\"histogram\"}],\"mesh3d\":[{\"colorbar\":{\"outlinewidth\":0,\"ticks\":\"\"},\"type\":\"mesh3d\"}],\"parcoords\":[{\"line\":{\"colorbar\":{\"outlinewidth\":0,\"ticks\":\"\"}},\"type\":\"parcoords\"}],\"pie\":[{\"automargin\":true,\"type\":\"pie\"}],\"scatter3d\":[{\"line\":{\"colorbar\":{\"outlinewidth\":0,\"ticks\":\"\"}},\"marker\":{\"colorbar\":{\"outlinewidth\":0,\"ticks\":\"\"}},\"type\":\"scatter3d\"}],\"scattercarpet\":[{\"marker\":{\"colorbar\":{\"outlinewidth\":0,\"ticks\":\"\"}},\"type\":\"scattercarpet\"}],\"scattergeo\":[{\"marker\":{\"colorbar\":{\"outlinewidth\":0,\"ticks\":\"\"}},\"type\":\"scattergeo\"}],\"scattergl\":[{\"marker\":{\"colorbar\":{\"outlinewidth\":0,\"ticks\":\"\"}},\"type\":\"scattergl\"}],\"scattermapbox\":[{\"marker\":{\"colorbar\":{\"outlinewidth\":0,\"ticks\":\"\"}},\"type\":\"scattermapbox\"}],\"scatterpolargl\":[{\"marker\":{\"colorbar\":{\"outlinewidth\":0,\"ticks\":\"\"}},\"type\":\"scatterpolargl\"}],\"scatterpolar\":[{\"marker\":{\"colorbar\":{\"outlinewidth\":0,\"ticks\":\"\"}},\"type\":\"scatterpolar\"}],\"scatter\":[{\"fillpattern\":{\"fillmode\":\"overlay\",\"size\":10,\"solidity\":0.2},\"type\":\"scatter\"}],\"scatterternary\":[{\"marker\":{\"colorbar\":{\"outlinewidth\":0,\"ticks\":\"\"}},\"type\":\"scatterternary\"}],\"surface\":[{\"colorbar\":{\"outlinewidth\":0,\"ticks\":\"\"},\"colorscale\":[[0.0,\"#0d0887\"],[0.1111111111111111,\"#46039f\"],[0.2222222222222222,\"#7201a8\"],[0.3333333333333333,\"#9c179e\"],[0.4444444444444444,\"#bd3786\"],[0.5555555555555556,\"#d8576b\"],[0.6666666666666666,\"#ed7953\"],[0.7777777777777778,\"#fb9f3a\"],[0.8888888888888888,\"#fdca26\"],[1.0,\"#f0f921\"]],\"type\":\"surface\"}],\"table\":[{\"cells\":{\"fill\":{\"color\":\"#EBF0F8\"},\"line\":{\"color\":\"white\"}},\"header\":{\"fill\":{\"color\":\"#C8D4E3\"},\"line\":{\"color\":\"white\"}},\"type\":\"table\"}]},\"layout\":{\"annotationdefaults\":{\"arrowcolor\":\"#2a3f5f\",\"arrowhead\":0,\"arrowwidth\":1},\"autotypenumbers\":\"strict\",\"coloraxis\":{\"colorbar\":{\"outlinewidth\":0,\"ticks\":\"\"}},\"colorscale\":{\"diverging\":[[0,\"#8e0152\"],[0.1,\"#c51b7d\"],[0.2,\"#de77ae\"],[0.3,\"#f1b6da\"],[0.4,\"#fde0ef\"],[0.5,\"#f7f7f7\"],[0.6,\"#e6f5d0\"],[0.7,\"#b8e186\"],[0.8,\"#7fbc41\"],[0.9,\"#4d9221\"],[1,\"#276419\"]],\"sequential\":[[0.0,\"#0d0887\"],[0.1111111111111111,\"#46039f\"],[0.2222222222222222,\"#7201a8\"],[0.3333333333333333,\"#9c179e\"],[0.4444444444444444,\"#bd3786\"],[0.5555555555555556,\"#d8576b\"],[0.6666666666666666,\"#ed7953\"],[0.7777777777777778,\"#fb9f3a\"],[0.8888888888888888,\"#fdca26\"],[1.0,\"#f0f921\"]],\"sequentialminus\":[[0.0,\"#0d0887\"],[0.1111111111111111,\"#46039f\"],[0.2222222222222222,\"#7201a8\"],[0.3333333333333333,\"#9c179e\"],[0.4444444444444444,\"#bd3786\"],[0.5555555555555556,\"#d8576b\"],[0.6666666666666666,\"#ed7953\"],[0.7777777777777778,\"#fb9f3a\"],[0.8888888888888888,\"#fdca26\"],[1.0,\"#f0f921\"]]},\"colorway\":[\"#636efa\",\"#EF553B\",\"#00cc96\",\"#ab63fa\",\"#FFA15A\",\"#19d3f3\",\"#FF6692\",\"#B6E880\",\"#FF97FF\",\"#FECB52\"],\"font\":{\"color\":\"#2a3f5f\"},\"geo\":{\"bgcolor\":\"white\",\"lakecolor\":\"white\",\"landcolor\":\"#E5ECF6\",\"showlakes\":true,\"showland\":true,\"subunitcolor\":\"white\"},\"hoverlabel\":{\"align\":\"left\"},\"hovermode\":\"closest\",\"mapbox\":{\"style\":\"light\"},\"paper_bgcolor\":\"white\",\"plot_bgcolor\":\"#E5ECF6\",\"polar\":{\"angularaxis\":{\"gridcolor\":\"white\",\"linecolor\":\"white\",\"ticks\":\"\"},\"bgcolor\":\"#E5ECF6\",\"radialaxis\":{\"gridcolor\":\"white\",\"linecolor\":\"white\",\"ticks\":\"\"}},\"scene\":{\"xaxis\":{\"backgroundcolor\":\"#E5ECF6\",\"gridcolor\":\"white\",\"gridwidth\":2,\"linecolor\":\"white\",\"showbackground\":true,\"ticks\":\"\",\"zerolinecolor\":\"white\"},\"yaxis\":{\"backgroundcolor\":\"#E5ECF6\",\"gridcolor\":\"white\",\"gridwidth\":2,\"linecolor\":\"white\",\"showbackground\":true,\"ticks\":\"\",\"zerolinecolor\":\"white\"},\"zaxis\":{\"backgroundcolor\":\"#E5ECF6\",\"gridcolor\":\"white\",\"gridwidth\":2,\"linecolor\":\"white\",\"showbackground\":true,\"ticks\":\"\",\"zerolinecolor\":\"white\"}},\"shapedefaults\":{\"line\":{\"color\":\"#2a3f5f\"}},\"ternary\":{\"aaxis\":{\"gridcolor\":\"white\",\"linecolor\":\"white\",\"ticks\":\"\"},\"baxis\":{\"gridcolor\":\"white\",\"linecolor\":\"white\",\"ticks\":\"\"},\"bgcolor\":\"#E5ECF6\",\"caxis\":{\"gridcolor\":\"white\",\"linecolor\":\"white\",\"ticks\":\"\"}},\"title\":{\"x\":0.05},\"xaxis\":{\"automargin\":true,\"gridcolor\":\"white\",\"linecolor\":\"white\",\"ticks\":\"\",\"title\":{\"standoff\":15},\"zerolinecolor\":\"white\",\"zerolinewidth\":2},\"yaxis\":{\"automargin\":true,\"gridcolor\":\"white\",\"linecolor\":\"white\",\"ticks\":\"\",\"title\":{\"standoff\":15},\"zerolinecolor\":\"white\",\"zerolinewidth\":2}}},\"title\":{\"text\":\"Fraction of queries reaching accuracy target\"},\"width\":1100,\"xaxis\":{\"anchor\":\"y\",\"domain\":[0.0,1.0],\"title\":{\"text\":\"workload_size\"}},\"yaxis\":{\"anchor\":\"x\",\"domain\":[0.0,1.0],\"title\":{\"text\":\"fraction_queries_without_idp_bias\"}}},                        {\"responsive\": true}                    ).then(function(){\n",
       "                            \n",
       "var gd = document.getElementById('efdaa776-1432-41c6-a4ed-fbdf052e11ca');\n",
       "var x = new MutationObserver(function (mutations, observer) {{\n",
       "        var display = window.getComputedStyle(gd).display;\n",
       "        if (!display || display === 'none') {{\n",
       "            console.log([gd, 'removed!']);\n",
       "            Plotly.purge(gd);\n",
       "            observer.disconnect();\n",
       "        }}\n",
       "}});\n",
       "\n",
       "// Listen for the removal of the full notebook cells\n",
       "var notebookContainer = gd.closest('#notebook-container');\n",
       "if (notebookContainer) {{\n",
       "    x.observe(notebookContainer, {childList: true});\n",
       "}}\n",
       "\n",
       "// Listen for the clearing of the current output cell\n",
       "var outputEl = gd.closest('.output');\n",
       "if (outputEl) {{\n",
       "    x.observe(outputEl, {childList: true});\n",
       "}}\n",
       "\n",
       "                        })                };                });            </script>        </div>"
      ]
     },
     "metadata": {},
     "output_type": "display_data"
    },
    {
     "data": {
      "application/vnd.plotly.v1+json": {
       "config": {
        "linkText": "Export to plot.ly",
        "plotlyServerURL": "https://plot.ly",
        "showLink": false
       },
       "data": [
        {
         "hovertemplate": "baseline=ipa<br>destination=51EBAAC05E372CBCDF0F207517A225AB<br>workload_size=%{x}<br>workload_idp_accuracy=%{y}<extra></extra>",
         "legendgroup": "ipa",
         "line": {
          "color": "#636efa",
          "dash": "solid"
         },
         "marker": {
          "symbol": "circle"
         },
         "mode": "lines+markers",
         "name": "ipa",
         "orientation": "v",
         "showlegend": true,
         "type": "scatter",
         "x": [
          1,
          5,
          10,
          15,
          19,
          19
         ],
         "xaxis": "x",
         "y": [
          1,
          1,
          0.7,
          0.6,
          0.47368421052631576,
          0.47368421052631576
         ],
         "yaxis": "y"
        },
        {
         "hovertemplate": "baseline=user_epoch_ara<br>destination=51EBAAC05E372CBCDF0F207517A225AB<br>workload_size=%{x}<br>workload_idp_accuracy=%{y}<extra></extra>",
         "legendgroup": "user_epoch_ara",
         "line": {
          "color": "#EF553B",
          "dash": "solid"
         },
         "marker": {
          "symbol": "circle"
         },
         "mode": "lines+markers",
         "name": "user_epoch_ara",
         "orientation": "v",
         "showlegend": true,
         "type": "scatter",
         "x": [
          1,
          5,
          10,
          15,
          19,
          19
         ],
         "xaxis": "x",
         "y": [
          1,
          1,
          1,
          0.9994764031925233,
          0.9994191879410872,
          0.9994191879410872
         ],
         "yaxis": "y"
        },
        {
         "hovertemplate": "baseline=cookiemonster<br>destination=51EBAAC05E372CBCDF0F207517A225AB<br>workload_size=%{x}<br>workload_idp_accuracy=%{y}<extra></extra>",
         "legendgroup": "cookiemonster",
         "line": {
          "color": "#00cc96",
          "dash": "solid"
         },
         "marker": {
          "symbol": "circle"
         },
         "mode": "lines+markers",
         "name": "cookiemonster",
         "orientation": "v",
         "showlegend": true,
         "type": "scatter",
         "x": [
          1,
          5,
          10,
          15,
          19,
          19
         ],
         "xaxis": "x",
         "y": [
          1,
          1,
          1,
          0.9998067632850242,
          0.9997519677914228,
          0.9997519677914228
         ],
         "yaxis": "y"
        }
       ],
       "layout": {
        "annotations": [
         {
          "showarrow": false,
          "text": "destination=51EBAAC05E372CBCDF0F207517A225AB",
          "x": 0.5,
          "xanchor": "center",
          "xref": "paper",
          "y": 1,
          "yanchor": "bottom",
          "yref": "paper"
         }
        ],
        "height": 600,
        "legend": {
         "title": {
          "text": "baseline"
         },
         "tracegroupgap": 0
        },
        "template": {
         "data": {
          "bar": [
           {
            "error_x": {
             "color": "#2a3f5f"
            },
            "error_y": {
             "color": "#2a3f5f"
            },
            "marker": {
             "line": {
              "color": "#E5ECF6",
              "width": 0.5
             },
             "pattern": {
              "fillmode": "overlay",
              "size": 10,
              "solidity": 0.2
             }
            },
            "type": "bar"
           }
          ],
          "barpolar": [
           {
            "marker": {
             "line": {
              "color": "#E5ECF6",
              "width": 0.5
             },
             "pattern": {
              "fillmode": "overlay",
              "size": 10,
              "solidity": 0.2
             }
            },
            "type": "barpolar"
           }
          ],
          "carpet": [
           {
            "aaxis": {
             "endlinecolor": "#2a3f5f",
             "gridcolor": "white",
             "linecolor": "white",
             "minorgridcolor": "white",
             "startlinecolor": "#2a3f5f"
            },
            "baxis": {
             "endlinecolor": "#2a3f5f",
             "gridcolor": "white",
             "linecolor": "white",
             "minorgridcolor": "white",
             "startlinecolor": "#2a3f5f"
            },
            "type": "carpet"
           }
          ],
          "choropleth": [
           {
            "colorbar": {
             "outlinewidth": 0,
             "ticks": ""
            },
            "type": "choropleth"
           }
          ],
          "contour": [
           {
            "colorbar": {
             "outlinewidth": 0,
             "ticks": ""
            },
            "colorscale": [
             [
              0,
              "#0d0887"
             ],
             [
              0.1111111111111111,
              "#46039f"
             ],
             [
              0.2222222222222222,
              "#7201a8"
             ],
             [
              0.3333333333333333,
              "#9c179e"
             ],
             [
              0.4444444444444444,
              "#bd3786"
             ],
             [
              0.5555555555555556,
              "#d8576b"
             ],
             [
              0.6666666666666666,
              "#ed7953"
             ],
             [
              0.7777777777777778,
              "#fb9f3a"
             ],
             [
              0.8888888888888888,
              "#fdca26"
             ],
             [
              1,
              "#f0f921"
             ]
            ],
            "type": "contour"
           }
          ],
          "contourcarpet": [
           {
            "colorbar": {
             "outlinewidth": 0,
             "ticks": ""
            },
            "type": "contourcarpet"
           }
          ],
          "heatmap": [
           {
            "colorbar": {
             "outlinewidth": 0,
             "ticks": ""
            },
            "colorscale": [
             [
              0,
              "#0d0887"
             ],
             [
              0.1111111111111111,
              "#46039f"
             ],
             [
              0.2222222222222222,
              "#7201a8"
             ],
             [
              0.3333333333333333,
              "#9c179e"
             ],
             [
              0.4444444444444444,
              "#bd3786"
             ],
             [
              0.5555555555555556,
              "#d8576b"
             ],
             [
              0.6666666666666666,
              "#ed7953"
             ],
             [
              0.7777777777777778,
              "#fb9f3a"
             ],
             [
              0.8888888888888888,
              "#fdca26"
             ],
             [
              1,
              "#f0f921"
             ]
            ],
            "type": "heatmap"
           }
          ],
          "heatmapgl": [
           {
            "colorbar": {
             "outlinewidth": 0,
             "ticks": ""
            },
            "colorscale": [
             [
              0,
              "#0d0887"
             ],
             [
              0.1111111111111111,
              "#46039f"
             ],
             [
              0.2222222222222222,
              "#7201a8"
             ],
             [
              0.3333333333333333,
              "#9c179e"
             ],
             [
              0.4444444444444444,
              "#bd3786"
             ],
             [
              0.5555555555555556,
              "#d8576b"
             ],
             [
              0.6666666666666666,
              "#ed7953"
             ],
             [
              0.7777777777777778,
              "#fb9f3a"
             ],
             [
              0.8888888888888888,
              "#fdca26"
             ],
             [
              1,
              "#f0f921"
             ]
            ],
            "type": "heatmapgl"
           }
          ],
          "histogram": [
           {
            "marker": {
             "pattern": {
              "fillmode": "overlay",
              "size": 10,
              "solidity": 0.2
             }
            },
            "type": "histogram"
           }
          ],
          "histogram2d": [
           {
            "colorbar": {
             "outlinewidth": 0,
             "ticks": ""
            },
            "colorscale": [
             [
              0,
              "#0d0887"
             ],
             [
              0.1111111111111111,
              "#46039f"
             ],
             [
              0.2222222222222222,
              "#7201a8"
             ],
             [
              0.3333333333333333,
              "#9c179e"
             ],
             [
              0.4444444444444444,
              "#bd3786"
             ],
             [
              0.5555555555555556,
              "#d8576b"
             ],
             [
              0.6666666666666666,
              "#ed7953"
             ],
             [
              0.7777777777777778,
              "#fb9f3a"
             ],
             [
              0.8888888888888888,
              "#fdca26"
             ],
             [
              1,
              "#f0f921"
             ]
            ],
            "type": "histogram2d"
           }
          ],
          "histogram2dcontour": [
           {
            "colorbar": {
             "outlinewidth": 0,
             "ticks": ""
            },
            "colorscale": [
             [
              0,
              "#0d0887"
             ],
             [
              0.1111111111111111,
              "#46039f"
             ],
             [
              0.2222222222222222,
              "#7201a8"
             ],
             [
              0.3333333333333333,
              "#9c179e"
             ],
             [
              0.4444444444444444,
              "#bd3786"
             ],
             [
              0.5555555555555556,
              "#d8576b"
             ],
             [
              0.6666666666666666,
              "#ed7953"
             ],
             [
              0.7777777777777778,
              "#fb9f3a"
             ],
             [
              0.8888888888888888,
              "#fdca26"
             ],
             [
              1,
              "#f0f921"
             ]
            ],
            "type": "histogram2dcontour"
           }
          ],
          "mesh3d": [
           {
            "colorbar": {
             "outlinewidth": 0,
             "ticks": ""
            },
            "type": "mesh3d"
           }
          ],
          "parcoords": [
           {
            "line": {
             "colorbar": {
              "outlinewidth": 0,
              "ticks": ""
             }
            },
            "type": "parcoords"
           }
          ],
          "pie": [
           {
            "automargin": true,
            "type": "pie"
           }
          ],
          "scatter": [
           {
            "fillpattern": {
             "fillmode": "overlay",
             "size": 10,
             "solidity": 0.2
            },
            "type": "scatter"
           }
          ],
          "scatter3d": [
           {
            "line": {
             "colorbar": {
              "outlinewidth": 0,
              "ticks": ""
             }
            },
            "marker": {
             "colorbar": {
              "outlinewidth": 0,
              "ticks": ""
             }
            },
            "type": "scatter3d"
           }
          ],
          "scattercarpet": [
           {
            "marker": {
             "colorbar": {
              "outlinewidth": 0,
              "ticks": ""
             }
            },
            "type": "scattercarpet"
           }
          ],
          "scattergeo": [
           {
            "marker": {
             "colorbar": {
              "outlinewidth": 0,
              "ticks": ""
             }
            },
            "type": "scattergeo"
           }
          ],
          "scattergl": [
           {
            "marker": {
             "colorbar": {
              "outlinewidth": 0,
              "ticks": ""
             }
            },
            "type": "scattergl"
           }
          ],
          "scattermapbox": [
           {
            "marker": {
             "colorbar": {
              "outlinewidth": 0,
              "ticks": ""
             }
            },
            "type": "scattermapbox"
           }
          ],
          "scatterpolar": [
           {
            "marker": {
             "colorbar": {
              "outlinewidth": 0,
              "ticks": ""
             }
            },
            "type": "scatterpolar"
           }
          ],
          "scatterpolargl": [
           {
            "marker": {
             "colorbar": {
              "outlinewidth": 0,
              "ticks": ""
             }
            },
            "type": "scatterpolargl"
           }
          ],
          "scatterternary": [
           {
            "marker": {
             "colorbar": {
              "outlinewidth": 0,
              "ticks": ""
             }
            },
            "type": "scatterternary"
           }
          ],
          "surface": [
           {
            "colorbar": {
             "outlinewidth": 0,
             "ticks": ""
            },
            "colorscale": [
             [
              0,
              "#0d0887"
             ],
             [
              0.1111111111111111,
              "#46039f"
             ],
             [
              0.2222222222222222,
              "#7201a8"
             ],
             [
              0.3333333333333333,
              "#9c179e"
             ],
             [
              0.4444444444444444,
              "#bd3786"
             ],
             [
              0.5555555555555556,
              "#d8576b"
             ],
             [
              0.6666666666666666,
              "#ed7953"
             ],
             [
              0.7777777777777778,
              "#fb9f3a"
             ],
             [
              0.8888888888888888,
              "#fdca26"
             ],
             [
              1,
              "#f0f921"
             ]
            ],
            "type": "surface"
           }
          ],
          "table": [
           {
            "cells": {
             "fill": {
              "color": "#EBF0F8"
             },
             "line": {
              "color": "white"
             }
            },
            "header": {
             "fill": {
              "color": "#C8D4E3"
             },
             "line": {
              "color": "white"
             }
            },
            "type": "table"
           }
          ]
         },
         "layout": {
          "annotationdefaults": {
           "arrowcolor": "#2a3f5f",
           "arrowhead": 0,
           "arrowwidth": 1
          },
          "autotypenumbers": "strict",
          "coloraxis": {
           "colorbar": {
            "outlinewidth": 0,
            "ticks": ""
           }
          },
          "colorscale": {
           "diverging": [
            [
             0,
             "#8e0152"
            ],
            [
             0.1,
             "#c51b7d"
            ],
            [
             0.2,
             "#de77ae"
            ],
            [
             0.3,
             "#f1b6da"
            ],
            [
             0.4,
             "#fde0ef"
            ],
            [
             0.5,
             "#f7f7f7"
            ],
            [
             0.6,
             "#e6f5d0"
            ],
            [
             0.7,
             "#b8e186"
            ],
            [
             0.8,
             "#7fbc41"
            ],
            [
             0.9,
             "#4d9221"
            ],
            [
             1,
             "#276419"
            ]
           ],
           "sequential": [
            [
             0,
             "#0d0887"
            ],
            [
             0.1111111111111111,
             "#46039f"
            ],
            [
             0.2222222222222222,
             "#7201a8"
            ],
            [
             0.3333333333333333,
             "#9c179e"
            ],
            [
             0.4444444444444444,
             "#bd3786"
            ],
            [
             0.5555555555555556,
             "#d8576b"
            ],
            [
             0.6666666666666666,
             "#ed7953"
            ],
            [
             0.7777777777777778,
             "#fb9f3a"
            ],
            [
             0.8888888888888888,
             "#fdca26"
            ],
            [
             1,
             "#f0f921"
            ]
           ],
           "sequentialminus": [
            [
             0,
             "#0d0887"
            ],
            [
             0.1111111111111111,
             "#46039f"
            ],
            [
             0.2222222222222222,
             "#7201a8"
            ],
            [
             0.3333333333333333,
             "#9c179e"
            ],
            [
             0.4444444444444444,
             "#bd3786"
            ],
            [
             0.5555555555555556,
             "#d8576b"
            ],
            [
             0.6666666666666666,
             "#ed7953"
            ],
            [
             0.7777777777777778,
             "#fb9f3a"
            ],
            [
             0.8888888888888888,
             "#fdca26"
            ],
            [
             1,
             "#f0f921"
            ]
           ]
          },
          "colorway": [
           "#636efa",
           "#EF553B",
           "#00cc96",
           "#ab63fa",
           "#FFA15A",
           "#19d3f3",
           "#FF6692",
           "#B6E880",
           "#FF97FF",
           "#FECB52"
          ],
          "font": {
           "color": "#2a3f5f"
          },
          "geo": {
           "bgcolor": "white",
           "lakecolor": "white",
           "landcolor": "#E5ECF6",
           "showlakes": true,
           "showland": true,
           "subunitcolor": "white"
          },
          "hoverlabel": {
           "align": "left"
          },
          "hovermode": "closest",
          "mapbox": {
           "style": "light"
          },
          "paper_bgcolor": "white",
          "plot_bgcolor": "#E5ECF6",
          "polar": {
           "angularaxis": {
            "gridcolor": "white",
            "linecolor": "white",
            "ticks": ""
           },
           "bgcolor": "#E5ECF6",
           "radialaxis": {
            "gridcolor": "white",
            "linecolor": "white",
            "ticks": ""
           }
          },
          "scene": {
           "xaxis": {
            "backgroundcolor": "#E5ECF6",
            "gridcolor": "white",
            "gridwidth": 2,
            "linecolor": "white",
            "showbackground": true,
            "ticks": "",
            "zerolinecolor": "white"
           },
           "yaxis": {
            "backgroundcolor": "#E5ECF6",
            "gridcolor": "white",
            "gridwidth": 2,
            "linecolor": "white",
            "showbackground": true,
            "ticks": "",
            "zerolinecolor": "white"
           },
           "zaxis": {
            "backgroundcolor": "#E5ECF6",
            "gridcolor": "white",
            "gridwidth": 2,
            "linecolor": "white",
            "showbackground": true,
            "ticks": "",
            "zerolinecolor": "white"
           }
          },
          "shapedefaults": {
           "line": {
            "color": "#2a3f5f"
           }
          },
          "ternary": {
           "aaxis": {
            "gridcolor": "white",
            "linecolor": "white",
            "ticks": ""
           },
           "baxis": {
            "gridcolor": "white",
            "linecolor": "white",
            "ticks": ""
           },
           "bgcolor": "#E5ECF6",
           "caxis": {
            "gridcolor": "white",
            "linecolor": "white",
            "ticks": ""
           }
          },
          "title": {
           "x": 0.05
          },
          "xaxis": {
           "automargin": true,
           "gridcolor": "white",
           "linecolor": "white",
           "ticks": "",
           "title": {
            "standoff": 15
           },
           "zerolinecolor": "white",
           "zerolinewidth": 2
          },
          "yaxis": {
           "automargin": true,
           "gridcolor": "white",
           "linecolor": "white",
           "ticks": "",
           "title": {
            "standoff": 15
           },
           "zerolinecolor": "white",
           "zerolinewidth": 2
          }
         }
        },
        "title": {
         "text": "Avg. relative accuracy across queries in workload"
        },
        "width": 1100,
        "xaxis": {
         "anchor": "y",
         "domain": [
          0,
          1
         ],
         "title": {
          "text": "workload_size"
         }
        },
        "yaxis": {
         "anchor": "x",
         "domain": [
          0,
          1
         ],
         "title": {
          "text": "workload_idp_accuracy"
         }
        }
       }
      },
      "text/html": [
       "<div>                            <div id=\"6ad35136-fa56-4b28-b08e-3b313b4f8066\" class=\"plotly-graph-div\" style=\"height:600px; width:1100px;\"></div>            <script type=\"text/javascript\">                require([\"plotly\"], function(Plotly) {                    window.PLOTLYENV=window.PLOTLYENV || {};                                    if (document.getElementById(\"6ad35136-fa56-4b28-b08e-3b313b4f8066\")) {                    Plotly.newPlot(                        \"6ad35136-fa56-4b28-b08e-3b313b4f8066\",                        [{\"hovertemplate\":\"baseline=ipa\\u003cbr\\u003edestination=51EBAAC05E372CBCDF0F207517A225AB\\u003cbr\\u003eworkload_size=%{x}\\u003cbr\\u003eworkload_idp_accuracy=%{y}\\u003cextra\\u003e\\u003c\\u002fextra\\u003e\",\"legendgroup\":\"ipa\",\"line\":{\"color\":\"#636efa\",\"dash\":\"solid\"},\"marker\":{\"symbol\":\"circle\"},\"mode\":\"lines+markers\",\"name\":\"ipa\",\"orientation\":\"v\",\"showlegend\":true,\"x\":[1,5,10,15,19,19],\"xaxis\":\"x\",\"y\":[1.0,1.0,0.7,0.6,0.47368421052631576,0.47368421052631576],\"yaxis\":\"y\",\"type\":\"scatter\"},{\"hovertemplate\":\"baseline=user_epoch_ara\\u003cbr\\u003edestination=51EBAAC05E372CBCDF0F207517A225AB\\u003cbr\\u003eworkload_size=%{x}\\u003cbr\\u003eworkload_idp_accuracy=%{y}\\u003cextra\\u003e\\u003c\\u002fextra\\u003e\",\"legendgroup\":\"user_epoch_ara\",\"line\":{\"color\":\"#EF553B\",\"dash\":\"solid\"},\"marker\":{\"symbol\":\"circle\"},\"mode\":\"lines+markers\",\"name\":\"user_epoch_ara\",\"orientation\":\"v\",\"showlegend\":true,\"x\":[1,5,10,15,19,19],\"xaxis\":\"x\",\"y\":[1.0,1.0,1.0,0.9994764031925233,0.9994191879410872,0.9994191879410872],\"yaxis\":\"y\",\"type\":\"scatter\"},{\"hovertemplate\":\"baseline=cookiemonster\\u003cbr\\u003edestination=51EBAAC05E372CBCDF0F207517A225AB\\u003cbr\\u003eworkload_size=%{x}\\u003cbr\\u003eworkload_idp_accuracy=%{y}\\u003cextra\\u003e\\u003c\\u002fextra\\u003e\",\"legendgroup\":\"cookiemonster\",\"line\":{\"color\":\"#00cc96\",\"dash\":\"solid\"},\"marker\":{\"symbol\":\"circle\"},\"mode\":\"lines+markers\",\"name\":\"cookiemonster\",\"orientation\":\"v\",\"showlegend\":true,\"x\":[1,5,10,15,19,19],\"xaxis\":\"x\",\"y\":[1.0,1.0,1.0,0.9998067632850242,0.9997519677914228,0.9997519677914228],\"yaxis\":\"y\",\"type\":\"scatter\"}],                        {\"annotations\":[{\"showarrow\":false,\"text\":\"destination=51EBAAC05E372CBCDF0F207517A225AB\",\"x\":0.5,\"xanchor\":\"center\",\"xref\":\"paper\",\"y\":1.0,\"yanchor\":\"bottom\",\"yref\":\"paper\"}],\"height\":600,\"legend\":{\"title\":{\"text\":\"baseline\"},\"tracegroupgap\":0},\"template\":{\"data\":{\"barpolar\":[{\"marker\":{\"line\":{\"color\":\"#E5ECF6\",\"width\":0.5},\"pattern\":{\"fillmode\":\"overlay\",\"size\":10,\"solidity\":0.2}},\"type\":\"barpolar\"}],\"bar\":[{\"error_x\":{\"color\":\"#2a3f5f\"},\"error_y\":{\"color\":\"#2a3f5f\"},\"marker\":{\"line\":{\"color\":\"#E5ECF6\",\"width\":0.5},\"pattern\":{\"fillmode\":\"overlay\",\"size\":10,\"solidity\":0.2}},\"type\":\"bar\"}],\"carpet\":[{\"aaxis\":{\"endlinecolor\":\"#2a3f5f\",\"gridcolor\":\"white\",\"linecolor\":\"white\",\"minorgridcolor\":\"white\",\"startlinecolor\":\"#2a3f5f\"},\"baxis\":{\"endlinecolor\":\"#2a3f5f\",\"gridcolor\":\"white\",\"linecolor\":\"white\",\"minorgridcolor\":\"white\",\"startlinecolor\":\"#2a3f5f\"},\"type\":\"carpet\"}],\"choropleth\":[{\"colorbar\":{\"outlinewidth\":0,\"ticks\":\"\"},\"type\":\"choropleth\"}],\"contourcarpet\":[{\"colorbar\":{\"outlinewidth\":0,\"ticks\":\"\"},\"type\":\"contourcarpet\"}],\"contour\":[{\"colorbar\":{\"outlinewidth\":0,\"ticks\":\"\"},\"colorscale\":[[0.0,\"#0d0887\"],[0.1111111111111111,\"#46039f\"],[0.2222222222222222,\"#7201a8\"],[0.3333333333333333,\"#9c179e\"],[0.4444444444444444,\"#bd3786\"],[0.5555555555555556,\"#d8576b\"],[0.6666666666666666,\"#ed7953\"],[0.7777777777777778,\"#fb9f3a\"],[0.8888888888888888,\"#fdca26\"],[1.0,\"#f0f921\"]],\"type\":\"contour\"}],\"heatmapgl\":[{\"colorbar\":{\"outlinewidth\":0,\"ticks\":\"\"},\"colorscale\":[[0.0,\"#0d0887\"],[0.1111111111111111,\"#46039f\"],[0.2222222222222222,\"#7201a8\"],[0.3333333333333333,\"#9c179e\"],[0.4444444444444444,\"#bd3786\"],[0.5555555555555556,\"#d8576b\"],[0.6666666666666666,\"#ed7953\"],[0.7777777777777778,\"#fb9f3a\"],[0.8888888888888888,\"#fdca26\"],[1.0,\"#f0f921\"]],\"type\":\"heatmapgl\"}],\"heatmap\":[{\"colorbar\":{\"outlinewidth\":0,\"ticks\":\"\"},\"colorscale\":[[0.0,\"#0d0887\"],[0.1111111111111111,\"#46039f\"],[0.2222222222222222,\"#7201a8\"],[0.3333333333333333,\"#9c179e\"],[0.4444444444444444,\"#bd3786\"],[0.5555555555555556,\"#d8576b\"],[0.6666666666666666,\"#ed7953\"],[0.7777777777777778,\"#fb9f3a\"],[0.8888888888888888,\"#fdca26\"],[1.0,\"#f0f921\"]],\"type\":\"heatmap\"}],\"histogram2dcontour\":[{\"colorbar\":{\"outlinewidth\":0,\"ticks\":\"\"},\"colorscale\":[[0.0,\"#0d0887\"],[0.1111111111111111,\"#46039f\"],[0.2222222222222222,\"#7201a8\"],[0.3333333333333333,\"#9c179e\"],[0.4444444444444444,\"#bd3786\"],[0.5555555555555556,\"#d8576b\"],[0.6666666666666666,\"#ed7953\"],[0.7777777777777778,\"#fb9f3a\"],[0.8888888888888888,\"#fdca26\"],[1.0,\"#f0f921\"]],\"type\":\"histogram2dcontour\"}],\"histogram2d\":[{\"colorbar\":{\"outlinewidth\":0,\"ticks\":\"\"},\"colorscale\":[[0.0,\"#0d0887\"],[0.1111111111111111,\"#46039f\"],[0.2222222222222222,\"#7201a8\"],[0.3333333333333333,\"#9c179e\"],[0.4444444444444444,\"#bd3786\"],[0.5555555555555556,\"#d8576b\"],[0.6666666666666666,\"#ed7953\"],[0.7777777777777778,\"#fb9f3a\"],[0.8888888888888888,\"#fdca26\"],[1.0,\"#f0f921\"]],\"type\":\"histogram2d\"}],\"histogram\":[{\"marker\":{\"pattern\":{\"fillmode\":\"overlay\",\"size\":10,\"solidity\":0.2}},\"type\":\"histogram\"}],\"mesh3d\":[{\"colorbar\":{\"outlinewidth\":0,\"ticks\":\"\"},\"type\":\"mesh3d\"}],\"parcoords\":[{\"line\":{\"colorbar\":{\"outlinewidth\":0,\"ticks\":\"\"}},\"type\":\"parcoords\"}],\"pie\":[{\"automargin\":true,\"type\":\"pie\"}],\"scatter3d\":[{\"line\":{\"colorbar\":{\"outlinewidth\":0,\"ticks\":\"\"}},\"marker\":{\"colorbar\":{\"outlinewidth\":0,\"ticks\":\"\"}},\"type\":\"scatter3d\"}],\"scattercarpet\":[{\"marker\":{\"colorbar\":{\"outlinewidth\":0,\"ticks\":\"\"}},\"type\":\"scattercarpet\"}],\"scattergeo\":[{\"marker\":{\"colorbar\":{\"outlinewidth\":0,\"ticks\":\"\"}},\"type\":\"scattergeo\"}],\"scattergl\":[{\"marker\":{\"colorbar\":{\"outlinewidth\":0,\"ticks\":\"\"}},\"type\":\"scattergl\"}],\"scattermapbox\":[{\"marker\":{\"colorbar\":{\"outlinewidth\":0,\"ticks\":\"\"}},\"type\":\"scattermapbox\"}],\"scatterpolargl\":[{\"marker\":{\"colorbar\":{\"outlinewidth\":0,\"ticks\":\"\"}},\"type\":\"scatterpolargl\"}],\"scatterpolar\":[{\"marker\":{\"colorbar\":{\"outlinewidth\":0,\"ticks\":\"\"}},\"type\":\"scatterpolar\"}],\"scatter\":[{\"fillpattern\":{\"fillmode\":\"overlay\",\"size\":10,\"solidity\":0.2},\"type\":\"scatter\"}],\"scatterternary\":[{\"marker\":{\"colorbar\":{\"outlinewidth\":0,\"ticks\":\"\"}},\"type\":\"scatterternary\"}],\"surface\":[{\"colorbar\":{\"outlinewidth\":0,\"ticks\":\"\"},\"colorscale\":[[0.0,\"#0d0887\"],[0.1111111111111111,\"#46039f\"],[0.2222222222222222,\"#7201a8\"],[0.3333333333333333,\"#9c179e\"],[0.4444444444444444,\"#bd3786\"],[0.5555555555555556,\"#d8576b\"],[0.6666666666666666,\"#ed7953\"],[0.7777777777777778,\"#fb9f3a\"],[0.8888888888888888,\"#fdca26\"],[1.0,\"#f0f921\"]],\"type\":\"surface\"}],\"table\":[{\"cells\":{\"fill\":{\"color\":\"#EBF0F8\"},\"line\":{\"color\":\"white\"}},\"header\":{\"fill\":{\"color\":\"#C8D4E3\"},\"line\":{\"color\":\"white\"}},\"type\":\"table\"}]},\"layout\":{\"annotationdefaults\":{\"arrowcolor\":\"#2a3f5f\",\"arrowhead\":0,\"arrowwidth\":1},\"autotypenumbers\":\"strict\",\"coloraxis\":{\"colorbar\":{\"outlinewidth\":0,\"ticks\":\"\"}},\"colorscale\":{\"diverging\":[[0,\"#8e0152\"],[0.1,\"#c51b7d\"],[0.2,\"#de77ae\"],[0.3,\"#f1b6da\"],[0.4,\"#fde0ef\"],[0.5,\"#f7f7f7\"],[0.6,\"#e6f5d0\"],[0.7,\"#b8e186\"],[0.8,\"#7fbc41\"],[0.9,\"#4d9221\"],[1,\"#276419\"]],\"sequential\":[[0.0,\"#0d0887\"],[0.1111111111111111,\"#46039f\"],[0.2222222222222222,\"#7201a8\"],[0.3333333333333333,\"#9c179e\"],[0.4444444444444444,\"#bd3786\"],[0.5555555555555556,\"#d8576b\"],[0.6666666666666666,\"#ed7953\"],[0.7777777777777778,\"#fb9f3a\"],[0.8888888888888888,\"#fdca26\"],[1.0,\"#f0f921\"]],\"sequentialminus\":[[0.0,\"#0d0887\"],[0.1111111111111111,\"#46039f\"],[0.2222222222222222,\"#7201a8\"],[0.3333333333333333,\"#9c179e\"],[0.4444444444444444,\"#bd3786\"],[0.5555555555555556,\"#d8576b\"],[0.6666666666666666,\"#ed7953\"],[0.7777777777777778,\"#fb9f3a\"],[0.8888888888888888,\"#fdca26\"],[1.0,\"#f0f921\"]]},\"colorway\":[\"#636efa\",\"#EF553B\",\"#00cc96\",\"#ab63fa\",\"#FFA15A\",\"#19d3f3\",\"#FF6692\",\"#B6E880\",\"#FF97FF\",\"#FECB52\"],\"font\":{\"color\":\"#2a3f5f\"},\"geo\":{\"bgcolor\":\"white\",\"lakecolor\":\"white\",\"landcolor\":\"#E5ECF6\",\"showlakes\":true,\"showland\":true,\"subunitcolor\":\"white\"},\"hoverlabel\":{\"align\":\"left\"},\"hovermode\":\"closest\",\"mapbox\":{\"style\":\"light\"},\"paper_bgcolor\":\"white\",\"plot_bgcolor\":\"#E5ECF6\",\"polar\":{\"angularaxis\":{\"gridcolor\":\"white\",\"linecolor\":\"white\",\"ticks\":\"\"},\"bgcolor\":\"#E5ECF6\",\"radialaxis\":{\"gridcolor\":\"white\",\"linecolor\":\"white\",\"ticks\":\"\"}},\"scene\":{\"xaxis\":{\"backgroundcolor\":\"#E5ECF6\",\"gridcolor\":\"white\",\"gridwidth\":2,\"linecolor\":\"white\",\"showbackground\":true,\"ticks\":\"\",\"zerolinecolor\":\"white\"},\"yaxis\":{\"backgroundcolor\":\"#E5ECF6\",\"gridcolor\":\"white\",\"gridwidth\":2,\"linecolor\":\"white\",\"showbackground\":true,\"ticks\":\"\",\"zerolinecolor\":\"white\"},\"zaxis\":{\"backgroundcolor\":\"#E5ECF6\",\"gridcolor\":\"white\",\"gridwidth\":2,\"linecolor\":\"white\",\"showbackground\":true,\"ticks\":\"\",\"zerolinecolor\":\"white\"}},\"shapedefaults\":{\"line\":{\"color\":\"#2a3f5f\"}},\"ternary\":{\"aaxis\":{\"gridcolor\":\"white\",\"linecolor\":\"white\",\"ticks\":\"\"},\"baxis\":{\"gridcolor\":\"white\",\"linecolor\":\"white\",\"ticks\":\"\"},\"bgcolor\":\"#E5ECF6\",\"caxis\":{\"gridcolor\":\"white\",\"linecolor\":\"white\",\"ticks\":\"\"}},\"title\":{\"x\":0.05},\"xaxis\":{\"automargin\":true,\"gridcolor\":\"white\",\"linecolor\":\"white\",\"ticks\":\"\",\"title\":{\"standoff\":15},\"zerolinecolor\":\"white\",\"zerolinewidth\":2},\"yaxis\":{\"automargin\":true,\"gridcolor\":\"white\",\"linecolor\":\"white\",\"ticks\":\"\",\"title\":{\"standoff\":15},\"zerolinecolor\":\"white\",\"zerolinewidth\":2}}},\"title\":{\"text\":\"Avg. relative accuracy across queries in workload\"},\"width\":1100,\"xaxis\":{\"anchor\":\"y\",\"domain\":[0.0,1.0],\"title\":{\"text\":\"workload_size\"}},\"yaxis\":{\"anchor\":\"x\",\"domain\":[0.0,1.0],\"title\":{\"text\":\"workload_idp_accuracy\"}}},                        {\"responsive\": true}                    ).then(function(){\n",
       "                            \n",
       "var gd = document.getElementById('6ad35136-fa56-4b28-b08e-3b313b4f8066');\n",
       "var x = new MutationObserver(function (mutations, observer) {{\n",
       "        var display = window.getComputedStyle(gd).display;\n",
       "        if (!display || display === 'none') {{\n",
       "            console.log([gd, 'removed!']);\n",
       "            Plotly.purge(gd);\n",
       "            observer.disconnect();\n",
       "        }}\n",
       "}});\n",
       "\n",
       "// Listen for the removal of the full notebook cells\n",
       "var notebookContainer = gd.closest('#notebook-container');\n",
       "if (notebookContainer) {{\n",
       "    x.observe(notebookContainer, {childList: true});\n",
       "}}\n",
       "\n",
       "// Listen for the clearing of the current output cell\n",
       "var outputEl = gd.closest('.output');\n",
       "if (outputEl) {{\n",
       "    x.observe(outputEl, {childList: true});\n",
       "}}\n",
       "\n",
       "                        })                };                });            </script>        </div>"
      ]
     },
     "metadata": {},
     "output_type": "display_data"
    },
    {
     "data": {
      "application/vnd.plotly.v1+json": {
       "config": {
        "linkText": "Export to plot.ly",
        "plotlyServerURL": "https://plot.ly",
        "showLink": false
       },
       "data": [
        {
         "hovertemplate": "baseline=ipa<br>destination=9D9E93D1D461D7BAE47FB67EC0E01B62<br>workload_size=%{x}<br>fraction_queries_without_idp_bias=%{y}<extra></extra>",
         "legendgroup": "ipa",
         "line": {
          "color": "#636efa",
          "dash": "solid"
         },
         "marker": {
          "symbol": "circle"
         },
         "mode": "lines+markers",
         "name": "ipa",
         "orientation": "v",
         "showlegend": true,
         "type": "scatter",
         "x": [
          1,
          5,
          10,
          15,
          20,
          25
         ],
         "xaxis": "x",
         "y": [
          1,
          1,
          1,
          0.8666666666666667,
          0.65,
          0.52
         ],
         "yaxis": "y"
        },
        {
         "hovertemplate": "baseline=user_epoch_ara<br>destination=9D9E93D1D461D7BAE47FB67EC0E01B62<br>workload_size=%{x}<br>fraction_queries_without_idp_bias=%{y}<extra></extra>",
         "legendgroup": "user_epoch_ara",
         "line": {
          "color": "#EF553B",
          "dash": "solid"
         },
         "marker": {
          "symbol": "circle"
         },
         "mode": "lines+markers",
         "name": "user_epoch_ara",
         "orientation": "v",
         "showlegend": true,
         "type": "scatter",
         "x": [
          1,
          5,
          10,
          15,
          20,
          25
         ],
         "xaxis": "x",
         "y": [
          1,
          1,
          1,
          1,
          1,
          0.92
         ],
         "yaxis": "y"
        },
        {
         "hovertemplate": "baseline=cookiemonster<br>destination=9D9E93D1D461D7BAE47FB67EC0E01B62<br>workload_size=%{x}<br>fraction_queries_without_idp_bias=%{y}<extra></extra>",
         "legendgroup": "cookiemonster",
         "line": {
          "color": "#00cc96",
          "dash": "solid"
         },
         "marker": {
          "symbol": "circle"
         },
         "mode": "lines+markers",
         "name": "cookiemonster",
         "orientation": "v",
         "showlegend": true,
         "type": "scatter",
         "x": [
          1,
          5,
          10,
          15,
          20,
          25
         ],
         "xaxis": "x",
         "y": [
          1,
          1,
          1,
          1,
          1,
          0.92
         ],
         "yaxis": "y"
        }
       ],
       "layout": {
        "annotations": [
         {
          "showarrow": false,
          "text": "destination=9D9E93D1D461D7BAE47FB67EC0E01B62",
          "x": 0.5,
          "xanchor": "center",
          "xref": "paper",
          "y": 1,
          "yanchor": "bottom",
          "yref": "paper"
         }
        ],
        "height": 600,
        "legend": {
         "title": {
          "text": "baseline"
         },
         "tracegroupgap": 0
        },
        "template": {
         "data": {
          "bar": [
           {
            "error_x": {
             "color": "#2a3f5f"
            },
            "error_y": {
             "color": "#2a3f5f"
            },
            "marker": {
             "line": {
              "color": "#E5ECF6",
              "width": 0.5
             },
             "pattern": {
              "fillmode": "overlay",
              "size": 10,
              "solidity": 0.2
             }
            },
            "type": "bar"
           }
          ],
          "barpolar": [
           {
            "marker": {
             "line": {
              "color": "#E5ECF6",
              "width": 0.5
             },
             "pattern": {
              "fillmode": "overlay",
              "size": 10,
              "solidity": 0.2
             }
            },
            "type": "barpolar"
           }
          ],
          "carpet": [
           {
            "aaxis": {
             "endlinecolor": "#2a3f5f",
             "gridcolor": "white",
             "linecolor": "white",
             "minorgridcolor": "white",
             "startlinecolor": "#2a3f5f"
            },
            "baxis": {
             "endlinecolor": "#2a3f5f",
             "gridcolor": "white",
             "linecolor": "white",
             "minorgridcolor": "white",
             "startlinecolor": "#2a3f5f"
            },
            "type": "carpet"
           }
          ],
          "choropleth": [
           {
            "colorbar": {
             "outlinewidth": 0,
             "ticks": ""
            },
            "type": "choropleth"
           }
          ],
          "contour": [
           {
            "colorbar": {
             "outlinewidth": 0,
             "ticks": ""
            },
            "colorscale": [
             [
              0,
              "#0d0887"
             ],
             [
              0.1111111111111111,
              "#46039f"
             ],
             [
              0.2222222222222222,
              "#7201a8"
             ],
             [
              0.3333333333333333,
              "#9c179e"
             ],
             [
              0.4444444444444444,
              "#bd3786"
             ],
             [
              0.5555555555555556,
              "#d8576b"
             ],
             [
              0.6666666666666666,
              "#ed7953"
             ],
             [
              0.7777777777777778,
              "#fb9f3a"
             ],
             [
              0.8888888888888888,
              "#fdca26"
             ],
             [
              1,
              "#f0f921"
             ]
            ],
            "type": "contour"
           }
          ],
          "contourcarpet": [
           {
            "colorbar": {
             "outlinewidth": 0,
             "ticks": ""
            },
            "type": "contourcarpet"
           }
          ],
          "heatmap": [
           {
            "colorbar": {
             "outlinewidth": 0,
             "ticks": ""
            },
            "colorscale": [
             [
              0,
              "#0d0887"
             ],
             [
              0.1111111111111111,
              "#46039f"
             ],
             [
              0.2222222222222222,
              "#7201a8"
             ],
             [
              0.3333333333333333,
              "#9c179e"
             ],
             [
              0.4444444444444444,
              "#bd3786"
             ],
             [
              0.5555555555555556,
              "#d8576b"
             ],
             [
              0.6666666666666666,
              "#ed7953"
             ],
             [
              0.7777777777777778,
              "#fb9f3a"
             ],
             [
              0.8888888888888888,
              "#fdca26"
             ],
             [
              1,
              "#f0f921"
             ]
            ],
            "type": "heatmap"
           }
          ],
          "heatmapgl": [
           {
            "colorbar": {
             "outlinewidth": 0,
             "ticks": ""
            },
            "colorscale": [
             [
              0,
              "#0d0887"
             ],
             [
              0.1111111111111111,
              "#46039f"
             ],
             [
              0.2222222222222222,
              "#7201a8"
             ],
             [
              0.3333333333333333,
              "#9c179e"
             ],
             [
              0.4444444444444444,
              "#bd3786"
             ],
             [
              0.5555555555555556,
              "#d8576b"
             ],
             [
              0.6666666666666666,
              "#ed7953"
             ],
             [
              0.7777777777777778,
              "#fb9f3a"
             ],
             [
              0.8888888888888888,
              "#fdca26"
             ],
             [
              1,
              "#f0f921"
             ]
            ],
            "type": "heatmapgl"
           }
          ],
          "histogram": [
           {
            "marker": {
             "pattern": {
              "fillmode": "overlay",
              "size": 10,
              "solidity": 0.2
             }
            },
            "type": "histogram"
           }
          ],
          "histogram2d": [
           {
            "colorbar": {
             "outlinewidth": 0,
             "ticks": ""
            },
            "colorscale": [
             [
              0,
              "#0d0887"
             ],
             [
              0.1111111111111111,
              "#46039f"
             ],
             [
              0.2222222222222222,
              "#7201a8"
             ],
             [
              0.3333333333333333,
              "#9c179e"
             ],
             [
              0.4444444444444444,
              "#bd3786"
             ],
             [
              0.5555555555555556,
              "#d8576b"
             ],
             [
              0.6666666666666666,
              "#ed7953"
             ],
             [
              0.7777777777777778,
              "#fb9f3a"
             ],
             [
              0.8888888888888888,
              "#fdca26"
             ],
             [
              1,
              "#f0f921"
             ]
            ],
            "type": "histogram2d"
           }
          ],
          "histogram2dcontour": [
           {
            "colorbar": {
             "outlinewidth": 0,
             "ticks": ""
            },
            "colorscale": [
             [
              0,
              "#0d0887"
             ],
             [
              0.1111111111111111,
              "#46039f"
             ],
             [
              0.2222222222222222,
              "#7201a8"
             ],
             [
              0.3333333333333333,
              "#9c179e"
             ],
             [
              0.4444444444444444,
              "#bd3786"
             ],
             [
              0.5555555555555556,
              "#d8576b"
             ],
             [
              0.6666666666666666,
              "#ed7953"
             ],
             [
              0.7777777777777778,
              "#fb9f3a"
             ],
             [
              0.8888888888888888,
              "#fdca26"
             ],
             [
              1,
              "#f0f921"
             ]
            ],
            "type": "histogram2dcontour"
           }
          ],
          "mesh3d": [
           {
            "colorbar": {
             "outlinewidth": 0,
             "ticks": ""
            },
            "type": "mesh3d"
           }
          ],
          "parcoords": [
           {
            "line": {
             "colorbar": {
              "outlinewidth": 0,
              "ticks": ""
             }
            },
            "type": "parcoords"
           }
          ],
          "pie": [
           {
            "automargin": true,
            "type": "pie"
           }
          ],
          "scatter": [
           {
            "fillpattern": {
             "fillmode": "overlay",
             "size": 10,
             "solidity": 0.2
            },
            "type": "scatter"
           }
          ],
          "scatter3d": [
           {
            "line": {
             "colorbar": {
              "outlinewidth": 0,
              "ticks": ""
             }
            },
            "marker": {
             "colorbar": {
              "outlinewidth": 0,
              "ticks": ""
             }
            },
            "type": "scatter3d"
           }
          ],
          "scattercarpet": [
           {
            "marker": {
             "colorbar": {
              "outlinewidth": 0,
              "ticks": ""
             }
            },
            "type": "scattercarpet"
           }
          ],
          "scattergeo": [
           {
            "marker": {
             "colorbar": {
              "outlinewidth": 0,
              "ticks": ""
             }
            },
            "type": "scattergeo"
           }
          ],
          "scattergl": [
           {
            "marker": {
             "colorbar": {
              "outlinewidth": 0,
              "ticks": ""
             }
            },
            "type": "scattergl"
           }
          ],
          "scattermapbox": [
           {
            "marker": {
             "colorbar": {
              "outlinewidth": 0,
              "ticks": ""
             }
            },
            "type": "scattermapbox"
           }
          ],
          "scatterpolar": [
           {
            "marker": {
             "colorbar": {
              "outlinewidth": 0,
              "ticks": ""
             }
            },
            "type": "scatterpolar"
           }
          ],
          "scatterpolargl": [
           {
            "marker": {
             "colorbar": {
              "outlinewidth": 0,
              "ticks": ""
             }
            },
            "type": "scatterpolargl"
           }
          ],
          "scatterternary": [
           {
            "marker": {
             "colorbar": {
              "outlinewidth": 0,
              "ticks": ""
             }
            },
            "type": "scatterternary"
           }
          ],
          "surface": [
           {
            "colorbar": {
             "outlinewidth": 0,
             "ticks": ""
            },
            "colorscale": [
             [
              0,
              "#0d0887"
             ],
             [
              0.1111111111111111,
              "#46039f"
             ],
             [
              0.2222222222222222,
              "#7201a8"
             ],
             [
              0.3333333333333333,
              "#9c179e"
             ],
             [
              0.4444444444444444,
              "#bd3786"
             ],
             [
              0.5555555555555556,
              "#d8576b"
             ],
             [
              0.6666666666666666,
              "#ed7953"
             ],
             [
              0.7777777777777778,
              "#fb9f3a"
             ],
             [
              0.8888888888888888,
              "#fdca26"
             ],
             [
              1,
              "#f0f921"
             ]
            ],
            "type": "surface"
           }
          ],
          "table": [
           {
            "cells": {
             "fill": {
              "color": "#EBF0F8"
             },
             "line": {
              "color": "white"
             }
            },
            "header": {
             "fill": {
              "color": "#C8D4E3"
             },
             "line": {
              "color": "white"
             }
            },
            "type": "table"
           }
          ]
         },
         "layout": {
          "annotationdefaults": {
           "arrowcolor": "#2a3f5f",
           "arrowhead": 0,
           "arrowwidth": 1
          },
          "autotypenumbers": "strict",
          "coloraxis": {
           "colorbar": {
            "outlinewidth": 0,
            "ticks": ""
           }
          },
          "colorscale": {
           "diverging": [
            [
             0,
             "#8e0152"
            ],
            [
             0.1,
             "#c51b7d"
            ],
            [
             0.2,
             "#de77ae"
            ],
            [
             0.3,
             "#f1b6da"
            ],
            [
             0.4,
             "#fde0ef"
            ],
            [
             0.5,
             "#f7f7f7"
            ],
            [
             0.6,
             "#e6f5d0"
            ],
            [
             0.7,
             "#b8e186"
            ],
            [
             0.8,
             "#7fbc41"
            ],
            [
             0.9,
             "#4d9221"
            ],
            [
             1,
             "#276419"
            ]
           ],
           "sequential": [
            [
             0,
             "#0d0887"
            ],
            [
             0.1111111111111111,
             "#46039f"
            ],
            [
             0.2222222222222222,
             "#7201a8"
            ],
            [
             0.3333333333333333,
             "#9c179e"
            ],
            [
             0.4444444444444444,
             "#bd3786"
            ],
            [
             0.5555555555555556,
             "#d8576b"
            ],
            [
             0.6666666666666666,
             "#ed7953"
            ],
            [
             0.7777777777777778,
             "#fb9f3a"
            ],
            [
             0.8888888888888888,
             "#fdca26"
            ],
            [
             1,
             "#f0f921"
            ]
           ],
           "sequentialminus": [
            [
             0,
             "#0d0887"
            ],
            [
             0.1111111111111111,
             "#46039f"
            ],
            [
             0.2222222222222222,
             "#7201a8"
            ],
            [
             0.3333333333333333,
             "#9c179e"
            ],
            [
             0.4444444444444444,
             "#bd3786"
            ],
            [
             0.5555555555555556,
             "#d8576b"
            ],
            [
             0.6666666666666666,
             "#ed7953"
            ],
            [
             0.7777777777777778,
             "#fb9f3a"
            ],
            [
             0.8888888888888888,
             "#fdca26"
            ],
            [
             1,
             "#f0f921"
            ]
           ]
          },
          "colorway": [
           "#636efa",
           "#EF553B",
           "#00cc96",
           "#ab63fa",
           "#FFA15A",
           "#19d3f3",
           "#FF6692",
           "#B6E880",
           "#FF97FF",
           "#FECB52"
          ],
          "font": {
           "color": "#2a3f5f"
          },
          "geo": {
           "bgcolor": "white",
           "lakecolor": "white",
           "landcolor": "#E5ECF6",
           "showlakes": true,
           "showland": true,
           "subunitcolor": "white"
          },
          "hoverlabel": {
           "align": "left"
          },
          "hovermode": "closest",
          "mapbox": {
           "style": "light"
          },
          "paper_bgcolor": "white",
          "plot_bgcolor": "#E5ECF6",
          "polar": {
           "angularaxis": {
            "gridcolor": "white",
            "linecolor": "white",
            "ticks": ""
           },
           "bgcolor": "#E5ECF6",
           "radialaxis": {
            "gridcolor": "white",
            "linecolor": "white",
            "ticks": ""
           }
          },
          "scene": {
           "xaxis": {
            "backgroundcolor": "#E5ECF6",
            "gridcolor": "white",
            "gridwidth": 2,
            "linecolor": "white",
            "showbackground": true,
            "ticks": "",
            "zerolinecolor": "white"
           },
           "yaxis": {
            "backgroundcolor": "#E5ECF6",
            "gridcolor": "white",
            "gridwidth": 2,
            "linecolor": "white",
            "showbackground": true,
            "ticks": "",
            "zerolinecolor": "white"
           },
           "zaxis": {
            "backgroundcolor": "#E5ECF6",
            "gridcolor": "white",
            "gridwidth": 2,
            "linecolor": "white",
            "showbackground": true,
            "ticks": "",
            "zerolinecolor": "white"
           }
          },
          "shapedefaults": {
           "line": {
            "color": "#2a3f5f"
           }
          },
          "ternary": {
           "aaxis": {
            "gridcolor": "white",
            "linecolor": "white",
            "ticks": ""
           },
           "baxis": {
            "gridcolor": "white",
            "linecolor": "white",
            "ticks": ""
           },
           "bgcolor": "#E5ECF6",
           "caxis": {
            "gridcolor": "white",
            "linecolor": "white",
            "ticks": ""
           }
          },
          "title": {
           "x": 0.05
          },
          "xaxis": {
           "automargin": true,
           "gridcolor": "white",
           "linecolor": "white",
           "ticks": "",
           "title": {
            "standoff": 15
           },
           "zerolinecolor": "white",
           "zerolinewidth": 2
          },
          "yaxis": {
           "automargin": true,
           "gridcolor": "white",
           "linecolor": "white",
           "ticks": "",
           "title": {
            "standoff": 15
           },
           "zerolinecolor": "white",
           "zerolinewidth": 2
          }
         }
        },
        "title": {
         "text": "Fraction of queries reaching accuracy target"
        },
        "width": 1100,
        "xaxis": {
         "anchor": "y",
         "domain": [
          0,
          1
         ],
         "title": {
          "text": "workload_size"
         }
        },
        "yaxis": {
         "anchor": "x",
         "domain": [
          0,
          1
         ],
         "title": {
          "text": "fraction_queries_without_idp_bias"
         }
        }
       }
      },
      "text/html": [
       "<div>                            <div id=\"34fdc24b-e60d-4b99-948f-8a4362da34ba\" class=\"plotly-graph-div\" style=\"height:600px; width:1100px;\"></div>            <script type=\"text/javascript\">                require([\"plotly\"], function(Plotly) {                    window.PLOTLYENV=window.PLOTLYENV || {};                                    if (document.getElementById(\"34fdc24b-e60d-4b99-948f-8a4362da34ba\")) {                    Plotly.newPlot(                        \"34fdc24b-e60d-4b99-948f-8a4362da34ba\",                        [{\"hovertemplate\":\"baseline=ipa\\u003cbr\\u003edestination=9D9E93D1D461D7BAE47FB67EC0E01B62\\u003cbr\\u003eworkload_size=%{x}\\u003cbr\\u003efraction_queries_without_idp_bias=%{y}\\u003cextra\\u003e\\u003c\\u002fextra\\u003e\",\"legendgroup\":\"ipa\",\"line\":{\"color\":\"#636efa\",\"dash\":\"solid\"},\"marker\":{\"symbol\":\"circle\"},\"mode\":\"lines+markers\",\"name\":\"ipa\",\"orientation\":\"v\",\"showlegend\":true,\"x\":[1,5,10,15,20,25],\"xaxis\":\"x\",\"y\":[1.0,1.0,1.0,0.8666666666666667,0.65,0.52],\"yaxis\":\"y\",\"type\":\"scatter\"},{\"hovertemplate\":\"baseline=user_epoch_ara\\u003cbr\\u003edestination=9D9E93D1D461D7BAE47FB67EC0E01B62\\u003cbr\\u003eworkload_size=%{x}\\u003cbr\\u003efraction_queries_without_idp_bias=%{y}\\u003cextra\\u003e\\u003c\\u002fextra\\u003e\",\"legendgroup\":\"user_epoch_ara\",\"line\":{\"color\":\"#EF553B\",\"dash\":\"solid\"},\"marker\":{\"symbol\":\"circle\"},\"mode\":\"lines+markers\",\"name\":\"user_epoch_ara\",\"orientation\":\"v\",\"showlegend\":true,\"x\":[1,5,10,15,20,25],\"xaxis\":\"x\",\"y\":[1.0,1.0,1.0,1.0,1.0,0.92],\"yaxis\":\"y\",\"type\":\"scatter\"},{\"hovertemplate\":\"baseline=cookiemonster\\u003cbr\\u003edestination=9D9E93D1D461D7BAE47FB67EC0E01B62\\u003cbr\\u003eworkload_size=%{x}\\u003cbr\\u003efraction_queries_without_idp_bias=%{y}\\u003cextra\\u003e\\u003c\\u002fextra\\u003e\",\"legendgroup\":\"cookiemonster\",\"line\":{\"color\":\"#00cc96\",\"dash\":\"solid\"},\"marker\":{\"symbol\":\"circle\"},\"mode\":\"lines+markers\",\"name\":\"cookiemonster\",\"orientation\":\"v\",\"showlegend\":true,\"x\":[1,5,10,15,20,25],\"xaxis\":\"x\",\"y\":[1.0,1.0,1.0,1.0,1.0,0.92],\"yaxis\":\"y\",\"type\":\"scatter\"}],                        {\"annotations\":[{\"showarrow\":false,\"text\":\"destination=9D9E93D1D461D7BAE47FB67EC0E01B62\",\"x\":0.5,\"xanchor\":\"center\",\"xref\":\"paper\",\"y\":1.0,\"yanchor\":\"bottom\",\"yref\":\"paper\"}],\"height\":600,\"legend\":{\"title\":{\"text\":\"baseline\"},\"tracegroupgap\":0},\"template\":{\"data\":{\"barpolar\":[{\"marker\":{\"line\":{\"color\":\"#E5ECF6\",\"width\":0.5},\"pattern\":{\"fillmode\":\"overlay\",\"size\":10,\"solidity\":0.2}},\"type\":\"barpolar\"}],\"bar\":[{\"error_x\":{\"color\":\"#2a3f5f\"},\"error_y\":{\"color\":\"#2a3f5f\"},\"marker\":{\"line\":{\"color\":\"#E5ECF6\",\"width\":0.5},\"pattern\":{\"fillmode\":\"overlay\",\"size\":10,\"solidity\":0.2}},\"type\":\"bar\"}],\"carpet\":[{\"aaxis\":{\"endlinecolor\":\"#2a3f5f\",\"gridcolor\":\"white\",\"linecolor\":\"white\",\"minorgridcolor\":\"white\",\"startlinecolor\":\"#2a3f5f\"},\"baxis\":{\"endlinecolor\":\"#2a3f5f\",\"gridcolor\":\"white\",\"linecolor\":\"white\",\"minorgridcolor\":\"white\",\"startlinecolor\":\"#2a3f5f\"},\"type\":\"carpet\"}],\"choropleth\":[{\"colorbar\":{\"outlinewidth\":0,\"ticks\":\"\"},\"type\":\"choropleth\"}],\"contourcarpet\":[{\"colorbar\":{\"outlinewidth\":0,\"ticks\":\"\"},\"type\":\"contourcarpet\"}],\"contour\":[{\"colorbar\":{\"outlinewidth\":0,\"ticks\":\"\"},\"colorscale\":[[0.0,\"#0d0887\"],[0.1111111111111111,\"#46039f\"],[0.2222222222222222,\"#7201a8\"],[0.3333333333333333,\"#9c179e\"],[0.4444444444444444,\"#bd3786\"],[0.5555555555555556,\"#d8576b\"],[0.6666666666666666,\"#ed7953\"],[0.7777777777777778,\"#fb9f3a\"],[0.8888888888888888,\"#fdca26\"],[1.0,\"#f0f921\"]],\"type\":\"contour\"}],\"heatmapgl\":[{\"colorbar\":{\"outlinewidth\":0,\"ticks\":\"\"},\"colorscale\":[[0.0,\"#0d0887\"],[0.1111111111111111,\"#46039f\"],[0.2222222222222222,\"#7201a8\"],[0.3333333333333333,\"#9c179e\"],[0.4444444444444444,\"#bd3786\"],[0.5555555555555556,\"#d8576b\"],[0.6666666666666666,\"#ed7953\"],[0.7777777777777778,\"#fb9f3a\"],[0.8888888888888888,\"#fdca26\"],[1.0,\"#f0f921\"]],\"type\":\"heatmapgl\"}],\"heatmap\":[{\"colorbar\":{\"outlinewidth\":0,\"ticks\":\"\"},\"colorscale\":[[0.0,\"#0d0887\"],[0.1111111111111111,\"#46039f\"],[0.2222222222222222,\"#7201a8\"],[0.3333333333333333,\"#9c179e\"],[0.4444444444444444,\"#bd3786\"],[0.5555555555555556,\"#d8576b\"],[0.6666666666666666,\"#ed7953\"],[0.7777777777777778,\"#fb9f3a\"],[0.8888888888888888,\"#fdca26\"],[1.0,\"#f0f921\"]],\"type\":\"heatmap\"}],\"histogram2dcontour\":[{\"colorbar\":{\"outlinewidth\":0,\"ticks\":\"\"},\"colorscale\":[[0.0,\"#0d0887\"],[0.1111111111111111,\"#46039f\"],[0.2222222222222222,\"#7201a8\"],[0.3333333333333333,\"#9c179e\"],[0.4444444444444444,\"#bd3786\"],[0.5555555555555556,\"#d8576b\"],[0.6666666666666666,\"#ed7953\"],[0.7777777777777778,\"#fb9f3a\"],[0.8888888888888888,\"#fdca26\"],[1.0,\"#f0f921\"]],\"type\":\"histogram2dcontour\"}],\"histogram2d\":[{\"colorbar\":{\"outlinewidth\":0,\"ticks\":\"\"},\"colorscale\":[[0.0,\"#0d0887\"],[0.1111111111111111,\"#46039f\"],[0.2222222222222222,\"#7201a8\"],[0.3333333333333333,\"#9c179e\"],[0.4444444444444444,\"#bd3786\"],[0.5555555555555556,\"#d8576b\"],[0.6666666666666666,\"#ed7953\"],[0.7777777777777778,\"#fb9f3a\"],[0.8888888888888888,\"#fdca26\"],[1.0,\"#f0f921\"]],\"type\":\"histogram2d\"}],\"histogram\":[{\"marker\":{\"pattern\":{\"fillmode\":\"overlay\",\"size\":10,\"solidity\":0.2}},\"type\":\"histogram\"}],\"mesh3d\":[{\"colorbar\":{\"outlinewidth\":0,\"ticks\":\"\"},\"type\":\"mesh3d\"}],\"parcoords\":[{\"line\":{\"colorbar\":{\"outlinewidth\":0,\"ticks\":\"\"}},\"type\":\"parcoords\"}],\"pie\":[{\"automargin\":true,\"type\":\"pie\"}],\"scatter3d\":[{\"line\":{\"colorbar\":{\"outlinewidth\":0,\"ticks\":\"\"}},\"marker\":{\"colorbar\":{\"outlinewidth\":0,\"ticks\":\"\"}},\"type\":\"scatter3d\"}],\"scattercarpet\":[{\"marker\":{\"colorbar\":{\"outlinewidth\":0,\"ticks\":\"\"}},\"type\":\"scattercarpet\"}],\"scattergeo\":[{\"marker\":{\"colorbar\":{\"outlinewidth\":0,\"ticks\":\"\"}},\"type\":\"scattergeo\"}],\"scattergl\":[{\"marker\":{\"colorbar\":{\"outlinewidth\":0,\"ticks\":\"\"}},\"type\":\"scattergl\"}],\"scattermapbox\":[{\"marker\":{\"colorbar\":{\"outlinewidth\":0,\"ticks\":\"\"}},\"type\":\"scattermapbox\"}],\"scatterpolargl\":[{\"marker\":{\"colorbar\":{\"outlinewidth\":0,\"ticks\":\"\"}},\"type\":\"scatterpolargl\"}],\"scatterpolar\":[{\"marker\":{\"colorbar\":{\"outlinewidth\":0,\"ticks\":\"\"}},\"type\":\"scatterpolar\"}],\"scatter\":[{\"fillpattern\":{\"fillmode\":\"overlay\",\"size\":10,\"solidity\":0.2},\"type\":\"scatter\"}],\"scatterternary\":[{\"marker\":{\"colorbar\":{\"outlinewidth\":0,\"ticks\":\"\"}},\"type\":\"scatterternary\"}],\"surface\":[{\"colorbar\":{\"outlinewidth\":0,\"ticks\":\"\"},\"colorscale\":[[0.0,\"#0d0887\"],[0.1111111111111111,\"#46039f\"],[0.2222222222222222,\"#7201a8\"],[0.3333333333333333,\"#9c179e\"],[0.4444444444444444,\"#bd3786\"],[0.5555555555555556,\"#d8576b\"],[0.6666666666666666,\"#ed7953\"],[0.7777777777777778,\"#fb9f3a\"],[0.8888888888888888,\"#fdca26\"],[1.0,\"#f0f921\"]],\"type\":\"surface\"}],\"table\":[{\"cells\":{\"fill\":{\"color\":\"#EBF0F8\"},\"line\":{\"color\":\"white\"}},\"header\":{\"fill\":{\"color\":\"#C8D4E3\"},\"line\":{\"color\":\"white\"}},\"type\":\"table\"}]},\"layout\":{\"annotationdefaults\":{\"arrowcolor\":\"#2a3f5f\",\"arrowhead\":0,\"arrowwidth\":1},\"autotypenumbers\":\"strict\",\"coloraxis\":{\"colorbar\":{\"outlinewidth\":0,\"ticks\":\"\"}},\"colorscale\":{\"diverging\":[[0,\"#8e0152\"],[0.1,\"#c51b7d\"],[0.2,\"#de77ae\"],[0.3,\"#f1b6da\"],[0.4,\"#fde0ef\"],[0.5,\"#f7f7f7\"],[0.6,\"#e6f5d0\"],[0.7,\"#b8e186\"],[0.8,\"#7fbc41\"],[0.9,\"#4d9221\"],[1,\"#276419\"]],\"sequential\":[[0.0,\"#0d0887\"],[0.1111111111111111,\"#46039f\"],[0.2222222222222222,\"#7201a8\"],[0.3333333333333333,\"#9c179e\"],[0.4444444444444444,\"#bd3786\"],[0.5555555555555556,\"#d8576b\"],[0.6666666666666666,\"#ed7953\"],[0.7777777777777778,\"#fb9f3a\"],[0.8888888888888888,\"#fdca26\"],[1.0,\"#f0f921\"]],\"sequentialminus\":[[0.0,\"#0d0887\"],[0.1111111111111111,\"#46039f\"],[0.2222222222222222,\"#7201a8\"],[0.3333333333333333,\"#9c179e\"],[0.4444444444444444,\"#bd3786\"],[0.5555555555555556,\"#d8576b\"],[0.6666666666666666,\"#ed7953\"],[0.7777777777777778,\"#fb9f3a\"],[0.8888888888888888,\"#fdca26\"],[1.0,\"#f0f921\"]]},\"colorway\":[\"#636efa\",\"#EF553B\",\"#00cc96\",\"#ab63fa\",\"#FFA15A\",\"#19d3f3\",\"#FF6692\",\"#B6E880\",\"#FF97FF\",\"#FECB52\"],\"font\":{\"color\":\"#2a3f5f\"},\"geo\":{\"bgcolor\":\"white\",\"lakecolor\":\"white\",\"landcolor\":\"#E5ECF6\",\"showlakes\":true,\"showland\":true,\"subunitcolor\":\"white\"},\"hoverlabel\":{\"align\":\"left\"},\"hovermode\":\"closest\",\"mapbox\":{\"style\":\"light\"},\"paper_bgcolor\":\"white\",\"plot_bgcolor\":\"#E5ECF6\",\"polar\":{\"angularaxis\":{\"gridcolor\":\"white\",\"linecolor\":\"white\",\"ticks\":\"\"},\"bgcolor\":\"#E5ECF6\",\"radialaxis\":{\"gridcolor\":\"white\",\"linecolor\":\"white\",\"ticks\":\"\"}},\"scene\":{\"xaxis\":{\"backgroundcolor\":\"#E5ECF6\",\"gridcolor\":\"white\",\"gridwidth\":2,\"linecolor\":\"white\",\"showbackground\":true,\"ticks\":\"\",\"zerolinecolor\":\"white\"},\"yaxis\":{\"backgroundcolor\":\"#E5ECF6\",\"gridcolor\":\"white\",\"gridwidth\":2,\"linecolor\":\"white\",\"showbackground\":true,\"ticks\":\"\",\"zerolinecolor\":\"white\"},\"zaxis\":{\"backgroundcolor\":\"#E5ECF6\",\"gridcolor\":\"white\",\"gridwidth\":2,\"linecolor\":\"white\",\"showbackground\":true,\"ticks\":\"\",\"zerolinecolor\":\"white\"}},\"shapedefaults\":{\"line\":{\"color\":\"#2a3f5f\"}},\"ternary\":{\"aaxis\":{\"gridcolor\":\"white\",\"linecolor\":\"white\",\"ticks\":\"\"},\"baxis\":{\"gridcolor\":\"white\",\"linecolor\":\"white\",\"ticks\":\"\"},\"bgcolor\":\"#E5ECF6\",\"caxis\":{\"gridcolor\":\"white\",\"linecolor\":\"white\",\"ticks\":\"\"}},\"title\":{\"x\":0.05},\"xaxis\":{\"automargin\":true,\"gridcolor\":\"white\",\"linecolor\":\"white\",\"ticks\":\"\",\"title\":{\"standoff\":15},\"zerolinecolor\":\"white\",\"zerolinewidth\":2},\"yaxis\":{\"automargin\":true,\"gridcolor\":\"white\",\"linecolor\":\"white\",\"ticks\":\"\",\"title\":{\"standoff\":15},\"zerolinecolor\":\"white\",\"zerolinewidth\":2}}},\"title\":{\"text\":\"Fraction of queries reaching accuracy target\"},\"width\":1100,\"xaxis\":{\"anchor\":\"y\",\"domain\":[0.0,1.0],\"title\":{\"text\":\"workload_size\"}},\"yaxis\":{\"anchor\":\"x\",\"domain\":[0.0,1.0],\"title\":{\"text\":\"fraction_queries_without_idp_bias\"}}},                        {\"responsive\": true}                    ).then(function(){\n",
       "                            \n",
       "var gd = document.getElementById('34fdc24b-e60d-4b99-948f-8a4362da34ba');\n",
       "var x = new MutationObserver(function (mutations, observer) {{\n",
       "        var display = window.getComputedStyle(gd).display;\n",
       "        if (!display || display === 'none') {{\n",
       "            console.log([gd, 'removed!']);\n",
       "            Plotly.purge(gd);\n",
       "            observer.disconnect();\n",
       "        }}\n",
       "}});\n",
       "\n",
       "// Listen for the removal of the full notebook cells\n",
       "var notebookContainer = gd.closest('#notebook-container');\n",
       "if (notebookContainer) {{\n",
       "    x.observe(notebookContainer, {childList: true});\n",
       "}}\n",
       "\n",
       "// Listen for the clearing of the current output cell\n",
       "var outputEl = gd.closest('.output');\n",
       "if (outputEl) {{\n",
       "    x.observe(outputEl, {childList: true});\n",
       "}}\n",
       "\n",
       "                        })                };                });            </script>        </div>"
      ]
     },
     "metadata": {},
     "output_type": "display_data"
    },
    {
     "data": {
      "application/vnd.plotly.v1+json": {
       "config": {
        "linkText": "Export to plot.ly",
        "plotlyServerURL": "https://plot.ly",
        "showLink": false
       },
       "data": [
        {
         "hovertemplate": "baseline=ipa<br>destination=9D9E93D1D461D7BAE47FB67EC0E01B62<br>workload_size=%{x}<br>workload_idp_accuracy=%{y}<extra></extra>",
         "legendgroup": "ipa",
         "line": {
          "color": "#636efa",
          "dash": "solid"
         },
         "marker": {
          "symbol": "circle"
         },
         "mode": "lines+markers",
         "name": "ipa",
         "orientation": "v",
         "showlegend": true,
         "type": "scatter",
         "x": [
          1,
          5,
          10,
          15,
          20,
          25
         ],
         "xaxis": "x",
         "y": [
          1,
          1,
          1,
          0.8666666666666667,
          0.65,
          0.52
         ],
         "yaxis": "y"
        },
        {
         "hovertemplate": "baseline=user_epoch_ara<br>destination=9D9E93D1D461D7BAE47FB67EC0E01B62<br>workload_size=%{x}<br>workload_idp_accuracy=%{y}<extra></extra>",
         "legendgroup": "user_epoch_ara",
         "line": {
          "color": "#EF553B",
          "dash": "solid"
         },
         "marker": {
          "symbol": "circle"
         },
         "mode": "lines+markers",
         "name": "user_epoch_ara",
         "orientation": "v",
         "showlegend": true,
         "type": "scatter",
         "x": [
          1,
          5,
          10,
          15,
          20,
          25
         ],
         "xaxis": "x",
         "y": [
          1,
          1,
          1,
          1,
          1,
          0.999865821632123
         ],
         "yaxis": "y"
        },
        {
         "hovertemplate": "baseline=cookiemonster<br>destination=9D9E93D1D461D7BAE47FB67EC0E01B62<br>workload_size=%{x}<br>workload_idp_accuracy=%{y}<extra></extra>",
         "legendgroup": "cookiemonster",
         "line": {
          "color": "#00cc96",
          "dash": "solid"
         },
         "marker": {
          "symbol": "circle"
         },
         "mode": "lines+markers",
         "name": "cookiemonster",
         "orientation": "v",
         "showlegend": true,
         "type": "scatter",
         "x": [
          1,
          5,
          10,
          15,
          20,
          25
         ],
         "xaxis": "x",
         "y": [
          1,
          1,
          1,
          1,
          1,
          0.999865821632123
         ],
         "yaxis": "y"
        }
       ],
       "layout": {
        "annotations": [
         {
          "showarrow": false,
          "text": "destination=9D9E93D1D461D7BAE47FB67EC0E01B62",
          "x": 0.5,
          "xanchor": "center",
          "xref": "paper",
          "y": 1,
          "yanchor": "bottom",
          "yref": "paper"
         }
        ],
        "height": 600,
        "legend": {
         "title": {
          "text": "baseline"
         },
         "tracegroupgap": 0
        },
        "template": {
         "data": {
          "bar": [
           {
            "error_x": {
             "color": "#2a3f5f"
            },
            "error_y": {
             "color": "#2a3f5f"
            },
            "marker": {
             "line": {
              "color": "#E5ECF6",
              "width": 0.5
             },
             "pattern": {
              "fillmode": "overlay",
              "size": 10,
              "solidity": 0.2
             }
            },
            "type": "bar"
           }
          ],
          "barpolar": [
           {
            "marker": {
             "line": {
              "color": "#E5ECF6",
              "width": 0.5
             },
             "pattern": {
              "fillmode": "overlay",
              "size": 10,
              "solidity": 0.2
             }
            },
            "type": "barpolar"
           }
          ],
          "carpet": [
           {
            "aaxis": {
             "endlinecolor": "#2a3f5f",
             "gridcolor": "white",
             "linecolor": "white",
             "minorgridcolor": "white",
             "startlinecolor": "#2a3f5f"
            },
            "baxis": {
             "endlinecolor": "#2a3f5f",
             "gridcolor": "white",
             "linecolor": "white",
             "minorgridcolor": "white",
             "startlinecolor": "#2a3f5f"
            },
            "type": "carpet"
           }
          ],
          "choropleth": [
           {
            "colorbar": {
             "outlinewidth": 0,
             "ticks": ""
            },
            "type": "choropleth"
           }
          ],
          "contour": [
           {
            "colorbar": {
             "outlinewidth": 0,
             "ticks": ""
            },
            "colorscale": [
             [
              0,
              "#0d0887"
             ],
             [
              0.1111111111111111,
              "#46039f"
             ],
             [
              0.2222222222222222,
              "#7201a8"
             ],
             [
              0.3333333333333333,
              "#9c179e"
             ],
             [
              0.4444444444444444,
              "#bd3786"
             ],
             [
              0.5555555555555556,
              "#d8576b"
             ],
             [
              0.6666666666666666,
              "#ed7953"
             ],
             [
              0.7777777777777778,
              "#fb9f3a"
             ],
             [
              0.8888888888888888,
              "#fdca26"
             ],
             [
              1,
              "#f0f921"
             ]
            ],
            "type": "contour"
           }
          ],
          "contourcarpet": [
           {
            "colorbar": {
             "outlinewidth": 0,
             "ticks": ""
            },
            "type": "contourcarpet"
           }
          ],
          "heatmap": [
           {
            "colorbar": {
             "outlinewidth": 0,
             "ticks": ""
            },
            "colorscale": [
             [
              0,
              "#0d0887"
             ],
             [
              0.1111111111111111,
              "#46039f"
             ],
             [
              0.2222222222222222,
              "#7201a8"
             ],
             [
              0.3333333333333333,
              "#9c179e"
             ],
             [
              0.4444444444444444,
              "#bd3786"
             ],
             [
              0.5555555555555556,
              "#d8576b"
             ],
             [
              0.6666666666666666,
              "#ed7953"
             ],
             [
              0.7777777777777778,
              "#fb9f3a"
             ],
             [
              0.8888888888888888,
              "#fdca26"
             ],
             [
              1,
              "#f0f921"
             ]
            ],
            "type": "heatmap"
           }
          ],
          "heatmapgl": [
           {
            "colorbar": {
             "outlinewidth": 0,
             "ticks": ""
            },
            "colorscale": [
             [
              0,
              "#0d0887"
             ],
             [
              0.1111111111111111,
              "#46039f"
             ],
             [
              0.2222222222222222,
              "#7201a8"
             ],
             [
              0.3333333333333333,
              "#9c179e"
             ],
             [
              0.4444444444444444,
              "#bd3786"
             ],
             [
              0.5555555555555556,
              "#d8576b"
             ],
             [
              0.6666666666666666,
              "#ed7953"
             ],
             [
              0.7777777777777778,
              "#fb9f3a"
             ],
             [
              0.8888888888888888,
              "#fdca26"
             ],
             [
              1,
              "#f0f921"
             ]
            ],
            "type": "heatmapgl"
           }
          ],
          "histogram": [
           {
            "marker": {
             "pattern": {
              "fillmode": "overlay",
              "size": 10,
              "solidity": 0.2
             }
            },
            "type": "histogram"
           }
          ],
          "histogram2d": [
           {
            "colorbar": {
             "outlinewidth": 0,
             "ticks": ""
            },
            "colorscale": [
             [
              0,
              "#0d0887"
             ],
             [
              0.1111111111111111,
              "#46039f"
             ],
             [
              0.2222222222222222,
              "#7201a8"
             ],
             [
              0.3333333333333333,
              "#9c179e"
             ],
             [
              0.4444444444444444,
              "#bd3786"
             ],
             [
              0.5555555555555556,
              "#d8576b"
             ],
             [
              0.6666666666666666,
              "#ed7953"
             ],
             [
              0.7777777777777778,
              "#fb9f3a"
             ],
             [
              0.8888888888888888,
              "#fdca26"
             ],
             [
              1,
              "#f0f921"
             ]
            ],
            "type": "histogram2d"
           }
          ],
          "histogram2dcontour": [
           {
            "colorbar": {
             "outlinewidth": 0,
             "ticks": ""
            },
            "colorscale": [
             [
              0,
              "#0d0887"
             ],
             [
              0.1111111111111111,
              "#46039f"
             ],
             [
              0.2222222222222222,
              "#7201a8"
             ],
             [
              0.3333333333333333,
              "#9c179e"
             ],
             [
              0.4444444444444444,
              "#bd3786"
             ],
             [
              0.5555555555555556,
              "#d8576b"
             ],
             [
              0.6666666666666666,
              "#ed7953"
             ],
             [
              0.7777777777777778,
              "#fb9f3a"
             ],
             [
              0.8888888888888888,
              "#fdca26"
             ],
             [
              1,
              "#f0f921"
             ]
            ],
            "type": "histogram2dcontour"
           }
          ],
          "mesh3d": [
           {
            "colorbar": {
             "outlinewidth": 0,
             "ticks": ""
            },
            "type": "mesh3d"
           }
          ],
          "parcoords": [
           {
            "line": {
             "colorbar": {
              "outlinewidth": 0,
              "ticks": ""
             }
            },
            "type": "parcoords"
           }
          ],
          "pie": [
           {
            "automargin": true,
            "type": "pie"
           }
          ],
          "scatter": [
           {
            "fillpattern": {
             "fillmode": "overlay",
             "size": 10,
             "solidity": 0.2
            },
            "type": "scatter"
           }
          ],
          "scatter3d": [
           {
            "line": {
             "colorbar": {
              "outlinewidth": 0,
              "ticks": ""
             }
            },
            "marker": {
             "colorbar": {
              "outlinewidth": 0,
              "ticks": ""
             }
            },
            "type": "scatter3d"
           }
          ],
          "scattercarpet": [
           {
            "marker": {
             "colorbar": {
              "outlinewidth": 0,
              "ticks": ""
             }
            },
            "type": "scattercarpet"
           }
          ],
          "scattergeo": [
           {
            "marker": {
             "colorbar": {
              "outlinewidth": 0,
              "ticks": ""
             }
            },
            "type": "scattergeo"
           }
          ],
          "scattergl": [
           {
            "marker": {
             "colorbar": {
              "outlinewidth": 0,
              "ticks": ""
             }
            },
            "type": "scattergl"
           }
          ],
          "scattermapbox": [
           {
            "marker": {
             "colorbar": {
              "outlinewidth": 0,
              "ticks": ""
             }
            },
            "type": "scattermapbox"
           }
          ],
          "scatterpolar": [
           {
            "marker": {
             "colorbar": {
              "outlinewidth": 0,
              "ticks": ""
             }
            },
            "type": "scatterpolar"
           }
          ],
          "scatterpolargl": [
           {
            "marker": {
             "colorbar": {
              "outlinewidth": 0,
              "ticks": ""
             }
            },
            "type": "scatterpolargl"
           }
          ],
          "scatterternary": [
           {
            "marker": {
             "colorbar": {
              "outlinewidth": 0,
              "ticks": ""
             }
            },
            "type": "scatterternary"
           }
          ],
          "surface": [
           {
            "colorbar": {
             "outlinewidth": 0,
             "ticks": ""
            },
            "colorscale": [
             [
              0,
              "#0d0887"
             ],
             [
              0.1111111111111111,
              "#46039f"
             ],
             [
              0.2222222222222222,
              "#7201a8"
             ],
             [
              0.3333333333333333,
              "#9c179e"
             ],
             [
              0.4444444444444444,
              "#bd3786"
             ],
             [
              0.5555555555555556,
              "#d8576b"
             ],
             [
              0.6666666666666666,
              "#ed7953"
             ],
             [
              0.7777777777777778,
              "#fb9f3a"
             ],
             [
              0.8888888888888888,
              "#fdca26"
             ],
             [
              1,
              "#f0f921"
             ]
            ],
            "type": "surface"
           }
          ],
          "table": [
           {
            "cells": {
             "fill": {
              "color": "#EBF0F8"
             },
             "line": {
              "color": "white"
             }
            },
            "header": {
             "fill": {
              "color": "#C8D4E3"
             },
             "line": {
              "color": "white"
             }
            },
            "type": "table"
           }
          ]
         },
         "layout": {
          "annotationdefaults": {
           "arrowcolor": "#2a3f5f",
           "arrowhead": 0,
           "arrowwidth": 1
          },
          "autotypenumbers": "strict",
          "coloraxis": {
           "colorbar": {
            "outlinewidth": 0,
            "ticks": ""
           }
          },
          "colorscale": {
           "diverging": [
            [
             0,
             "#8e0152"
            ],
            [
             0.1,
             "#c51b7d"
            ],
            [
             0.2,
             "#de77ae"
            ],
            [
             0.3,
             "#f1b6da"
            ],
            [
             0.4,
             "#fde0ef"
            ],
            [
             0.5,
             "#f7f7f7"
            ],
            [
             0.6,
             "#e6f5d0"
            ],
            [
             0.7,
             "#b8e186"
            ],
            [
             0.8,
             "#7fbc41"
            ],
            [
             0.9,
             "#4d9221"
            ],
            [
             1,
             "#276419"
            ]
           ],
           "sequential": [
            [
             0,
             "#0d0887"
            ],
            [
             0.1111111111111111,
             "#46039f"
            ],
            [
             0.2222222222222222,
             "#7201a8"
            ],
            [
             0.3333333333333333,
             "#9c179e"
            ],
            [
             0.4444444444444444,
             "#bd3786"
            ],
            [
             0.5555555555555556,
             "#d8576b"
            ],
            [
             0.6666666666666666,
             "#ed7953"
            ],
            [
             0.7777777777777778,
             "#fb9f3a"
            ],
            [
             0.8888888888888888,
             "#fdca26"
            ],
            [
             1,
             "#f0f921"
            ]
           ],
           "sequentialminus": [
            [
             0,
             "#0d0887"
            ],
            [
             0.1111111111111111,
             "#46039f"
            ],
            [
             0.2222222222222222,
             "#7201a8"
            ],
            [
             0.3333333333333333,
             "#9c179e"
            ],
            [
             0.4444444444444444,
             "#bd3786"
            ],
            [
             0.5555555555555556,
             "#d8576b"
            ],
            [
             0.6666666666666666,
             "#ed7953"
            ],
            [
             0.7777777777777778,
             "#fb9f3a"
            ],
            [
             0.8888888888888888,
             "#fdca26"
            ],
            [
             1,
             "#f0f921"
            ]
           ]
          },
          "colorway": [
           "#636efa",
           "#EF553B",
           "#00cc96",
           "#ab63fa",
           "#FFA15A",
           "#19d3f3",
           "#FF6692",
           "#B6E880",
           "#FF97FF",
           "#FECB52"
          ],
          "font": {
           "color": "#2a3f5f"
          },
          "geo": {
           "bgcolor": "white",
           "lakecolor": "white",
           "landcolor": "#E5ECF6",
           "showlakes": true,
           "showland": true,
           "subunitcolor": "white"
          },
          "hoverlabel": {
           "align": "left"
          },
          "hovermode": "closest",
          "mapbox": {
           "style": "light"
          },
          "paper_bgcolor": "white",
          "plot_bgcolor": "#E5ECF6",
          "polar": {
           "angularaxis": {
            "gridcolor": "white",
            "linecolor": "white",
            "ticks": ""
           },
           "bgcolor": "#E5ECF6",
           "radialaxis": {
            "gridcolor": "white",
            "linecolor": "white",
            "ticks": ""
           }
          },
          "scene": {
           "xaxis": {
            "backgroundcolor": "#E5ECF6",
            "gridcolor": "white",
            "gridwidth": 2,
            "linecolor": "white",
            "showbackground": true,
            "ticks": "",
            "zerolinecolor": "white"
           },
           "yaxis": {
            "backgroundcolor": "#E5ECF6",
            "gridcolor": "white",
            "gridwidth": 2,
            "linecolor": "white",
            "showbackground": true,
            "ticks": "",
            "zerolinecolor": "white"
           },
           "zaxis": {
            "backgroundcolor": "#E5ECF6",
            "gridcolor": "white",
            "gridwidth": 2,
            "linecolor": "white",
            "showbackground": true,
            "ticks": "",
            "zerolinecolor": "white"
           }
          },
          "shapedefaults": {
           "line": {
            "color": "#2a3f5f"
           }
          },
          "ternary": {
           "aaxis": {
            "gridcolor": "white",
            "linecolor": "white",
            "ticks": ""
           },
           "baxis": {
            "gridcolor": "white",
            "linecolor": "white",
            "ticks": ""
           },
           "bgcolor": "#E5ECF6",
           "caxis": {
            "gridcolor": "white",
            "linecolor": "white",
            "ticks": ""
           }
          },
          "title": {
           "x": 0.05
          },
          "xaxis": {
           "automargin": true,
           "gridcolor": "white",
           "linecolor": "white",
           "ticks": "",
           "title": {
            "standoff": 15
           },
           "zerolinecolor": "white",
           "zerolinewidth": 2
          },
          "yaxis": {
           "automargin": true,
           "gridcolor": "white",
           "linecolor": "white",
           "ticks": "",
           "title": {
            "standoff": 15
           },
           "zerolinecolor": "white",
           "zerolinewidth": 2
          }
         }
        },
        "title": {
         "text": "Avg. relative accuracy across queries in workload"
        },
        "width": 1100,
        "xaxis": {
         "anchor": "y",
         "domain": [
          0,
          1
         ],
         "title": {
          "text": "workload_size"
         }
        },
        "yaxis": {
         "anchor": "x",
         "domain": [
          0,
          1
         ],
         "title": {
          "text": "workload_idp_accuracy"
         }
        }
       }
      },
      "text/html": [
       "<div>                            <div id=\"636f3429-4f77-48d5-bd7b-0d0f63ad1930\" class=\"plotly-graph-div\" style=\"height:600px; width:1100px;\"></div>            <script type=\"text/javascript\">                require([\"plotly\"], function(Plotly) {                    window.PLOTLYENV=window.PLOTLYENV || {};                                    if (document.getElementById(\"636f3429-4f77-48d5-bd7b-0d0f63ad1930\")) {                    Plotly.newPlot(                        \"636f3429-4f77-48d5-bd7b-0d0f63ad1930\",                        [{\"hovertemplate\":\"baseline=ipa\\u003cbr\\u003edestination=9D9E93D1D461D7BAE47FB67EC0E01B62\\u003cbr\\u003eworkload_size=%{x}\\u003cbr\\u003eworkload_idp_accuracy=%{y}\\u003cextra\\u003e\\u003c\\u002fextra\\u003e\",\"legendgroup\":\"ipa\",\"line\":{\"color\":\"#636efa\",\"dash\":\"solid\"},\"marker\":{\"symbol\":\"circle\"},\"mode\":\"lines+markers\",\"name\":\"ipa\",\"orientation\":\"v\",\"showlegend\":true,\"x\":[1,5,10,15,20,25],\"xaxis\":\"x\",\"y\":[1.0,1.0,1.0,0.8666666666666667,0.65,0.52],\"yaxis\":\"y\",\"type\":\"scatter\"},{\"hovertemplate\":\"baseline=user_epoch_ara\\u003cbr\\u003edestination=9D9E93D1D461D7BAE47FB67EC0E01B62\\u003cbr\\u003eworkload_size=%{x}\\u003cbr\\u003eworkload_idp_accuracy=%{y}\\u003cextra\\u003e\\u003c\\u002fextra\\u003e\",\"legendgroup\":\"user_epoch_ara\",\"line\":{\"color\":\"#EF553B\",\"dash\":\"solid\"},\"marker\":{\"symbol\":\"circle\"},\"mode\":\"lines+markers\",\"name\":\"user_epoch_ara\",\"orientation\":\"v\",\"showlegend\":true,\"x\":[1,5,10,15,20,25],\"xaxis\":\"x\",\"y\":[1.0,1.0,1.0,1.0,1.0,0.999865821632123],\"yaxis\":\"y\",\"type\":\"scatter\"},{\"hovertemplate\":\"baseline=cookiemonster\\u003cbr\\u003edestination=9D9E93D1D461D7BAE47FB67EC0E01B62\\u003cbr\\u003eworkload_size=%{x}\\u003cbr\\u003eworkload_idp_accuracy=%{y}\\u003cextra\\u003e\\u003c\\u002fextra\\u003e\",\"legendgroup\":\"cookiemonster\",\"line\":{\"color\":\"#00cc96\",\"dash\":\"solid\"},\"marker\":{\"symbol\":\"circle\"},\"mode\":\"lines+markers\",\"name\":\"cookiemonster\",\"orientation\":\"v\",\"showlegend\":true,\"x\":[1,5,10,15,20,25],\"xaxis\":\"x\",\"y\":[1.0,1.0,1.0,1.0,1.0,0.999865821632123],\"yaxis\":\"y\",\"type\":\"scatter\"}],                        {\"annotations\":[{\"showarrow\":false,\"text\":\"destination=9D9E93D1D461D7BAE47FB67EC0E01B62\",\"x\":0.5,\"xanchor\":\"center\",\"xref\":\"paper\",\"y\":1.0,\"yanchor\":\"bottom\",\"yref\":\"paper\"}],\"height\":600,\"legend\":{\"title\":{\"text\":\"baseline\"},\"tracegroupgap\":0},\"template\":{\"data\":{\"barpolar\":[{\"marker\":{\"line\":{\"color\":\"#E5ECF6\",\"width\":0.5},\"pattern\":{\"fillmode\":\"overlay\",\"size\":10,\"solidity\":0.2}},\"type\":\"barpolar\"}],\"bar\":[{\"error_x\":{\"color\":\"#2a3f5f\"},\"error_y\":{\"color\":\"#2a3f5f\"},\"marker\":{\"line\":{\"color\":\"#E5ECF6\",\"width\":0.5},\"pattern\":{\"fillmode\":\"overlay\",\"size\":10,\"solidity\":0.2}},\"type\":\"bar\"}],\"carpet\":[{\"aaxis\":{\"endlinecolor\":\"#2a3f5f\",\"gridcolor\":\"white\",\"linecolor\":\"white\",\"minorgridcolor\":\"white\",\"startlinecolor\":\"#2a3f5f\"},\"baxis\":{\"endlinecolor\":\"#2a3f5f\",\"gridcolor\":\"white\",\"linecolor\":\"white\",\"minorgridcolor\":\"white\",\"startlinecolor\":\"#2a3f5f\"},\"type\":\"carpet\"}],\"choropleth\":[{\"colorbar\":{\"outlinewidth\":0,\"ticks\":\"\"},\"type\":\"choropleth\"}],\"contourcarpet\":[{\"colorbar\":{\"outlinewidth\":0,\"ticks\":\"\"},\"type\":\"contourcarpet\"}],\"contour\":[{\"colorbar\":{\"outlinewidth\":0,\"ticks\":\"\"},\"colorscale\":[[0.0,\"#0d0887\"],[0.1111111111111111,\"#46039f\"],[0.2222222222222222,\"#7201a8\"],[0.3333333333333333,\"#9c179e\"],[0.4444444444444444,\"#bd3786\"],[0.5555555555555556,\"#d8576b\"],[0.6666666666666666,\"#ed7953\"],[0.7777777777777778,\"#fb9f3a\"],[0.8888888888888888,\"#fdca26\"],[1.0,\"#f0f921\"]],\"type\":\"contour\"}],\"heatmapgl\":[{\"colorbar\":{\"outlinewidth\":0,\"ticks\":\"\"},\"colorscale\":[[0.0,\"#0d0887\"],[0.1111111111111111,\"#46039f\"],[0.2222222222222222,\"#7201a8\"],[0.3333333333333333,\"#9c179e\"],[0.4444444444444444,\"#bd3786\"],[0.5555555555555556,\"#d8576b\"],[0.6666666666666666,\"#ed7953\"],[0.7777777777777778,\"#fb9f3a\"],[0.8888888888888888,\"#fdca26\"],[1.0,\"#f0f921\"]],\"type\":\"heatmapgl\"}],\"heatmap\":[{\"colorbar\":{\"outlinewidth\":0,\"ticks\":\"\"},\"colorscale\":[[0.0,\"#0d0887\"],[0.1111111111111111,\"#46039f\"],[0.2222222222222222,\"#7201a8\"],[0.3333333333333333,\"#9c179e\"],[0.4444444444444444,\"#bd3786\"],[0.5555555555555556,\"#d8576b\"],[0.6666666666666666,\"#ed7953\"],[0.7777777777777778,\"#fb9f3a\"],[0.8888888888888888,\"#fdca26\"],[1.0,\"#f0f921\"]],\"type\":\"heatmap\"}],\"histogram2dcontour\":[{\"colorbar\":{\"outlinewidth\":0,\"ticks\":\"\"},\"colorscale\":[[0.0,\"#0d0887\"],[0.1111111111111111,\"#46039f\"],[0.2222222222222222,\"#7201a8\"],[0.3333333333333333,\"#9c179e\"],[0.4444444444444444,\"#bd3786\"],[0.5555555555555556,\"#d8576b\"],[0.6666666666666666,\"#ed7953\"],[0.7777777777777778,\"#fb9f3a\"],[0.8888888888888888,\"#fdca26\"],[1.0,\"#f0f921\"]],\"type\":\"histogram2dcontour\"}],\"histogram2d\":[{\"colorbar\":{\"outlinewidth\":0,\"ticks\":\"\"},\"colorscale\":[[0.0,\"#0d0887\"],[0.1111111111111111,\"#46039f\"],[0.2222222222222222,\"#7201a8\"],[0.3333333333333333,\"#9c179e\"],[0.4444444444444444,\"#bd3786\"],[0.5555555555555556,\"#d8576b\"],[0.6666666666666666,\"#ed7953\"],[0.7777777777777778,\"#fb9f3a\"],[0.8888888888888888,\"#fdca26\"],[1.0,\"#f0f921\"]],\"type\":\"histogram2d\"}],\"histogram\":[{\"marker\":{\"pattern\":{\"fillmode\":\"overlay\",\"size\":10,\"solidity\":0.2}},\"type\":\"histogram\"}],\"mesh3d\":[{\"colorbar\":{\"outlinewidth\":0,\"ticks\":\"\"},\"type\":\"mesh3d\"}],\"parcoords\":[{\"line\":{\"colorbar\":{\"outlinewidth\":0,\"ticks\":\"\"}},\"type\":\"parcoords\"}],\"pie\":[{\"automargin\":true,\"type\":\"pie\"}],\"scatter3d\":[{\"line\":{\"colorbar\":{\"outlinewidth\":0,\"ticks\":\"\"}},\"marker\":{\"colorbar\":{\"outlinewidth\":0,\"ticks\":\"\"}},\"type\":\"scatter3d\"}],\"scattercarpet\":[{\"marker\":{\"colorbar\":{\"outlinewidth\":0,\"ticks\":\"\"}},\"type\":\"scattercarpet\"}],\"scattergeo\":[{\"marker\":{\"colorbar\":{\"outlinewidth\":0,\"ticks\":\"\"}},\"type\":\"scattergeo\"}],\"scattergl\":[{\"marker\":{\"colorbar\":{\"outlinewidth\":0,\"ticks\":\"\"}},\"type\":\"scattergl\"}],\"scattermapbox\":[{\"marker\":{\"colorbar\":{\"outlinewidth\":0,\"ticks\":\"\"}},\"type\":\"scattermapbox\"}],\"scatterpolargl\":[{\"marker\":{\"colorbar\":{\"outlinewidth\":0,\"ticks\":\"\"}},\"type\":\"scatterpolargl\"}],\"scatterpolar\":[{\"marker\":{\"colorbar\":{\"outlinewidth\":0,\"ticks\":\"\"}},\"type\":\"scatterpolar\"}],\"scatter\":[{\"fillpattern\":{\"fillmode\":\"overlay\",\"size\":10,\"solidity\":0.2},\"type\":\"scatter\"}],\"scatterternary\":[{\"marker\":{\"colorbar\":{\"outlinewidth\":0,\"ticks\":\"\"}},\"type\":\"scatterternary\"}],\"surface\":[{\"colorbar\":{\"outlinewidth\":0,\"ticks\":\"\"},\"colorscale\":[[0.0,\"#0d0887\"],[0.1111111111111111,\"#46039f\"],[0.2222222222222222,\"#7201a8\"],[0.3333333333333333,\"#9c179e\"],[0.4444444444444444,\"#bd3786\"],[0.5555555555555556,\"#d8576b\"],[0.6666666666666666,\"#ed7953\"],[0.7777777777777778,\"#fb9f3a\"],[0.8888888888888888,\"#fdca26\"],[1.0,\"#f0f921\"]],\"type\":\"surface\"}],\"table\":[{\"cells\":{\"fill\":{\"color\":\"#EBF0F8\"},\"line\":{\"color\":\"white\"}},\"header\":{\"fill\":{\"color\":\"#C8D4E3\"},\"line\":{\"color\":\"white\"}},\"type\":\"table\"}]},\"layout\":{\"annotationdefaults\":{\"arrowcolor\":\"#2a3f5f\",\"arrowhead\":0,\"arrowwidth\":1},\"autotypenumbers\":\"strict\",\"coloraxis\":{\"colorbar\":{\"outlinewidth\":0,\"ticks\":\"\"}},\"colorscale\":{\"diverging\":[[0,\"#8e0152\"],[0.1,\"#c51b7d\"],[0.2,\"#de77ae\"],[0.3,\"#f1b6da\"],[0.4,\"#fde0ef\"],[0.5,\"#f7f7f7\"],[0.6,\"#e6f5d0\"],[0.7,\"#b8e186\"],[0.8,\"#7fbc41\"],[0.9,\"#4d9221\"],[1,\"#276419\"]],\"sequential\":[[0.0,\"#0d0887\"],[0.1111111111111111,\"#46039f\"],[0.2222222222222222,\"#7201a8\"],[0.3333333333333333,\"#9c179e\"],[0.4444444444444444,\"#bd3786\"],[0.5555555555555556,\"#d8576b\"],[0.6666666666666666,\"#ed7953\"],[0.7777777777777778,\"#fb9f3a\"],[0.8888888888888888,\"#fdca26\"],[1.0,\"#f0f921\"]],\"sequentialminus\":[[0.0,\"#0d0887\"],[0.1111111111111111,\"#46039f\"],[0.2222222222222222,\"#7201a8\"],[0.3333333333333333,\"#9c179e\"],[0.4444444444444444,\"#bd3786\"],[0.5555555555555556,\"#d8576b\"],[0.6666666666666666,\"#ed7953\"],[0.7777777777777778,\"#fb9f3a\"],[0.8888888888888888,\"#fdca26\"],[1.0,\"#f0f921\"]]},\"colorway\":[\"#636efa\",\"#EF553B\",\"#00cc96\",\"#ab63fa\",\"#FFA15A\",\"#19d3f3\",\"#FF6692\",\"#B6E880\",\"#FF97FF\",\"#FECB52\"],\"font\":{\"color\":\"#2a3f5f\"},\"geo\":{\"bgcolor\":\"white\",\"lakecolor\":\"white\",\"landcolor\":\"#E5ECF6\",\"showlakes\":true,\"showland\":true,\"subunitcolor\":\"white\"},\"hoverlabel\":{\"align\":\"left\"},\"hovermode\":\"closest\",\"mapbox\":{\"style\":\"light\"},\"paper_bgcolor\":\"white\",\"plot_bgcolor\":\"#E5ECF6\",\"polar\":{\"angularaxis\":{\"gridcolor\":\"white\",\"linecolor\":\"white\",\"ticks\":\"\"},\"bgcolor\":\"#E5ECF6\",\"radialaxis\":{\"gridcolor\":\"white\",\"linecolor\":\"white\",\"ticks\":\"\"}},\"scene\":{\"xaxis\":{\"backgroundcolor\":\"#E5ECF6\",\"gridcolor\":\"white\",\"gridwidth\":2,\"linecolor\":\"white\",\"showbackground\":true,\"ticks\":\"\",\"zerolinecolor\":\"white\"},\"yaxis\":{\"backgroundcolor\":\"#E5ECF6\",\"gridcolor\":\"white\",\"gridwidth\":2,\"linecolor\":\"white\",\"showbackground\":true,\"ticks\":\"\",\"zerolinecolor\":\"white\"},\"zaxis\":{\"backgroundcolor\":\"#E5ECF6\",\"gridcolor\":\"white\",\"gridwidth\":2,\"linecolor\":\"white\",\"showbackground\":true,\"ticks\":\"\",\"zerolinecolor\":\"white\"}},\"shapedefaults\":{\"line\":{\"color\":\"#2a3f5f\"}},\"ternary\":{\"aaxis\":{\"gridcolor\":\"white\",\"linecolor\":\"white\",\"ticks\":\"\"},\"baxis\":{\"gridcolor\":\"white\",\"linecolor\":\"white\",\"ticks\":\"\"},\"bgcolor\":\"#E5ECF6\",\"caxis\":{\"gridcolor\":\"white\",\"linecolor\":\"white\",\"ticks\":\"\"}},\"title\":{\"x\":0.05},\"xaxis\":{\"automargin\":true,\"gridcolor\":\"white\",\"linecolor\":\"white\",\"ticks\":\"\",\"title\":{\"standoff\":15},\"zerolinecolor\":\"white\",\"zerolinewidth\":2},\"yaxis\":{\"automargin\":true,\"gridcolor\":\"white\",\"linecolor\":\"white\",\"ticks\":\"\",\"title\":{\"standoff\":15},\"zerolinecolor\":\"white\",\"zerolinewidth\":2}}},\"title\":{\"text\":\"Avg. relative accuracy across queries in workload\"},\"width\":1100,\"xaxis\":{\"anchor\":\"y\",\"domain\":[0.0,1.0],\"title\":{\"text\":\"workload_size\"}},\"yaxis\":{\"anchor\":\"x\",\"domain\":[0.0,1.0],\"title\":{\"text\":\"workload_idp_accuracy\"}}},                        {\"responsive\": true}                    ).then(function(){\n",
       "                            \n",
       "var gd = document.getElementById('636f3429-4f77-48d5-bd7b-0d0f63ad1930');\n",
       "var x = new MutationObserver(function (mutations, observer) {{\n",
       "        var display = window.getComputedStyle(gd).display;\n",
       "        if (!display || display === 'none') {{\n",
       "            console.log([gd, 'removed!']);\n",
       "            Plotly.purge(gd);\n",
       "            observer.disconnect();\n",
       "        }}\n",
       "}});\n",
       "\n",
       "// Listen for the removal of the full notebook cells\n",
       "var notebookContainer = gd.closest('#notebook-container');\n",
       "if (notebookContainer) {{\n",
       "    x.observe(notebookContainer, {childList: true});\n",
       "}}\n",
       "\n",
       "// Listen for the clearing of the current output cell\n",
       "var outputEl = gd.closest('.output');\n",
       "if (outputEl) {{\n",
       "    x.observe(outputEl, {childList: true});\n",
       "}}\n",
       "\n",
       "                        })                };                });            </script>        </div>"
      ]
     },
     "metadata": {},
     "output_type": "display_data"
    },
    {
     "data": {
      "application/vnd.plotly.v1+json": {
       "config": {
        "linkText": "Export to plot.ly",
        "plotlyServerURL": "https://plot.ly",
        "showLink": false
       },
       "data": [
        {
         "hovertemplate": "baseline=ipa<br>destination=9FF550C0B17A3C493378CB6E2DEEE6E4<br>workload_size=%{x}<br>fraction_queries_without_idp_bias=%{y}<extra></extra>",
         "legendgroup": "ipa",
         "line": {
          "color": "#636efa",
          "dash": "solid"
         },
         "marker": {
          "symbol": "circle"
         },
         "mode": "lines+markers",
         "name": "ipa",
         "orientation": "v",
         "showlegend": true,
         "type": "scatter",
         "x": [
          1,
          5,
          10,
          15,
          20,
          25
         ],
         "xaxis": "x",
         "y": [
          1,
          1,
          1,
          0.8,
          0.7,
          0.6
         ],
         "yaxis": "y"
        },
        {
         "hovertemplate": "baseline=user_epoch_ara<br>destination=9FF550C0B17A3C493378CB6E2DEEE6E4<br>workload_size=%{x}<br>fraction_queries_without_idp_bias=%{y}<extra></extra>",
         "legendgroup": "user_epoch_ara",
         "line": {
          "color": "#EF553B",
          "dash": "solid"
         },
         "marker": {
          "symbol": "circle"
         },
         "mode": "lines+markers",
         "name": "user_epoch_ara",
         "orientation": "v",
         "showlegend": true,
         "type": "scatter",
         "x": [
          1,
          5,
          10,
          15,
          20,
          25
         ],
         "xaxis": "x",
         "y": [
          1,
          1,
          1,
          1,
          1,
          1
         ],
         "yaxis": "y"
        },
        {
         "hovertemplate": "baseline=cookiemonster<br>destination=9FF550C0B17A3C493378CB6E2DEEE6E4<br>workload_size=%{x}<br>fraction_queries_without_idp_bias=%{y}<extra></extra>",
         "legendgroup": "cookiemonster",
         "line": {
          "color": "#00cc96",
          "dash": "solid"
         },
         "marker": {
          "symbol": "circle"
         },
         "mode": "lines+markers",
         "name": "cookiemonster",
         "orientation": "v",
         "showlegend": true,
         "type": "scatter",
         "x": [
          1,
          5,
          10,
          15,
          20,
          25
         ],
         "xaxis": "x",
         "y": [
          1,
          1,
          1,
          1,
          1,
          1
         ],
         "yaxis": "y"
        }
       ],
       "layout": {
        "annotations": [
         {
          "showarrow": false,
          "text": "destination=9FF550C0B17A3C493378CB6E2DEEE6E4",
          "x": 0.5,
          "xanchor": "center",
          "xref": "paper",
          "y": 1,
          "yanchor": "bottom",
          "yref": "paper"
         }
        ],
        "height": 600,
        "legend": {
         "title": {
          "text": "baseline"
         },
         "tracegroupgap": 0
        },
        "template": {
         "data": {
          "bar": [
           {
            "error_x": {
             "color": "#2a3f5f"
            },
            "error_y": {
             "color": "#2a3f5f"
            },
            "marker": {
             "line": {
              "color": "#E5ECF6",
              "width": 0.5
             },
             "pattern": {
              "fillmode": "overlay",
              "size": 10,
              "solidity": 0.2
             }
            },
            "type": "bar"
           }
          ],
          "barpolar": [
           {
            "marker": {
             "line": {
              "color": "#E5ECF6",
              "width": 0.5
             },
             "pattern": {
              "fillmode": "overlay",
              "size": 10,
              "solidity": 0.2
             }
            },
            "type": "barpolar"
           }
          ],
          "carpet": [
           {
            "aaxis": {
             "endlinecolor": "#2a3f5f",
             "gridcolor": "white",
             "linecolor": "white",
             "minorgridcolor": "white",
             "startlinecolor": "#2a3f5f"
            },
            "baxis": {
             "endlinecolor": "#2a3f5f",
             "gridcolor": "white",
             "linecolor": "white",
             "minorgridcolor": "white",
             "startlinecolor": "#2a3f5f"
            },
            "type": "carpet"
           }
          ],
          "choropleth": [
           {
            "colorbar": {
             "outlinewidth": 0,
             "ticks": ""
            },
            "type": "choropleth"
           }
          ],
          "contour": [
           {
            "colorbar": {
             "outlinewidth": 0,
             "ticks": ""
            },
            "colorscale": [
             [
              0,
              "#0d0887"
             ],
             [
              0.1111111111111111,
              "#46039f"
             ],
             [
              0.2222222222222222,
              "#7201a8"
             ],
             [
              0.3333333333333333,
              "#9c179e"
             ],
             [
              0.4444444444444444,
              "#bd3786"
             ],
             [
              0.5555555555555556,
              "#d8576b"
             ],
             [
              0.6666666666666666,
              "#ed7953"
             ],
             [
              0.7777777777777778,
              "#fb9f3a"
             ],
             [
              0.8888888888888888,
              "#fdca26"
             ],
             [
              1,
              "#f0f921"
             ]
            ],
            "type": "contour"
           }
          ],
          "contourcarpet": [
           {
            "colorbar": {
             "outlinewidth": 0,
             "ticks": ""
            },
            "type": "contourcarpet"
           }
          ],
          "heatmap": [
           {
            "colorbar": {
             "outlinewidth": 0,
             "ticks": ""
            },
            "colorscale": [
             [
              0,
              "#0d0887"
             ],
             [
              0.1111111111111111,
              "#46039f"
             ],
             [
              0.2222222222222222,
              "#7201a8"
             ],
             [
              0.3333333333333333,
              "#9c179e"
             ],
             [
              0.4444444444444444,
              "#bd3786"
             ],
             [
              0.5555555555555556,
              "#d8576b"
             ],
             [
              0.6666666666666666,
              "#ed7953"
             ],
             [
              0.7777777777777778,
              "#fb9f3a"
             ],
             [
              0.8888888888888888,
              "#fdca26"
             ],
             [
              1,
              "#f0f921"
             ]
            ],
            "type": "heatmap"
           }
          ],
          "heatmapgl": [
           {
            "colorbar": {
             "outlinewidth": 0,
             "ticks": ""
            },
            "colorscale": [
             [
              0,
              "#0d0887"
             ],
             [
              0.1111111111111111,
              "#46039f"
             ],
             [
              0.2222222222222222,
              "#7201a8"
             ],
             [
              0.3333333333333333,
              "#9c179e"
             ],
             [
              0.4444444444444444,
              "#bd3786"
             ],
             [
              0.5555555555555556,
              "#d8576b"
             ],
             [
              0.6666666666666666,
              "#ed7953"
             ],
             [
              0.7777777777777778,
              "#fb9f3a"
             ],
             [
              0.8888888888888888,
              "#fdca26"
             ],
             [
              1,
              "#f0f921"
             ]
            ],
            "type": "heatmapgl"
           }
          ],
          "histogram": [
           {
            "marker": {
             "pattern": {
              "fillmode": "overlay",
              "size": 10,
              "solidity": 0.2
             }
            },
            "type": "histogram"
           }
          ],
          "histogram2d": [
           {
            "colorbar": {
             "outlinewidth": 0,
             "ticks": ""
            },
            "colorscale": [
             [
              0,
              "#0d0887"
             ],
             [
              0.1111111111111111,
              "#46039f"
             ],
             [
              0.2222222222222222,
              "#7201a8"
             ],
             [
              0.3333333333333333,
              "#9c179e"
             ],
             [
              0.4444444444444444,
              "#bd3786"
             ],
             [
              0.5555555555555556,
              "#d8576b"
             ],
             [
              0.6666666666666666,
              "#ed7953"
             ],
             [
              0.7777777777777778,
              "#fb9f3a"
             ],
             [
              0.8888888888888888,
              "#fdca26"
             ],
             [
              1,
              "#f0f921"
             ]
            ],
            "type": "histogram2d"
           }
          ],
          "histogram2dcontour": [
           {
            "colorbar": {
             "outlinewidth": 0,
             "ticks": ""
            },
            "colorscale": [
             [
              0,
              "#0d0887"
             ],
             [
              0.1111111111111111,
              "#46039f"
             ],
             [
              0.2222222222222222,
              "#7201a8"
             ],
             [
              0.3333333333333333,
              "#9c179e"
             ],
             [
              0.4444444444444444,
              "#bd3786"
             ],
             [
              0.5555555555555556,
              "#d8576b"
             ],
             [
              0.6666666666666666,
              "#ed7953"
             ],
             [
              0.7777777777777778,
              "#fb9f3a"
             ],
             [
              0.8888888888888888,
              "#fdca26"
             ],
             [
              1,
              "#f0f921"
             ]
            ],
            "type": "histogram2dcontour"
           }
          ],
          "mesh3d": [
           {
            "colorbar": {
             "outlinewidth": 0,
             "ticks": ""
            },
            "type": "mesh3d"
           }
          ],
          "parcoords": [
           {
            "line": {
             "colorbar": {
              "outlinewidth": 0,
              "ticks": ""
             }
            },
            "type": "parcoords"
           }
          ],
          "pie": [
           {
            "automargin": true,
            "type": "pie"
           }
          ],
          "scatter": [
           {
            "fillpattern": {
             "fillmode": "overlay",
             "size": 10,
             "solidity": 0.2
            },
            "type": "scatter"
           }
          ],
          "scatter3d": [
           {
            "line": {
             "colorbar": {
              "outlinewidth": 0,
              "ticks": ""
             }
            },
            "marker": {
             "colorbar": {
              "outlinewidth": 0,
              "ticks": ""
             }
            },
            "type": "scatter3d"
           }
          ],
          "scattercarpet": [
           {
            "marker": {
             "colorbar": {
              "outlinewidth": 0,
              "ticks": ""
             }
            },
            "type": "scattercarpet"
           }
          ],
          "scattergeo": [
           {
            "marker": {
             "colorbar": {
              "outlinewidth": 0,
              "ticks": ""
             }
            },
            "type": "scattergeo"
           }
          ],
          "scattergl": [
           {
            "marker": {
             "colorbar": {
              "outlinewidth": 0,
              "ticks": ""
             }
            },
            "type": "scattergl"
           }
          ],
          "scattermapbox": [
           {
            "marker": {
             "colorbar": {
              "outlinewidth": 0,
              "ticks": ""
             }
            },
            "type": "scattermapbox"
           }
          ],
          "scatterpolar": [
           {
            "marker": {
             "colorbar": {
              "outlinewidth": 0,
              "ticks": ""
             }
            },
            "type": "scatterpolar"
           }
          ],
          "scatterpolargl": [
           {
            "marker": {
             "colorbar": {
              "outlinewidth": 0,
              "ticks": ""
             }
            },
            "type": "scatterpolargl"
           }
          ],
          "scatterternary": [
           {
            "marker": {
             "colorbar": {
              "outlinewidth": 0,
              "ticks": ""
             }
            },
            "type": "scatterternary"
           }
          ],
          "surface": [
           {
            "colorbar": {
             "outlinewidth": 0,
             "ticks": ""
            },
            "colorscale": [
             [
              0,
              "#0d0887"
             ],
             [
              0.1111111111111111,
              "#46039f"
             ],
             [
              0.2222222222222222,
              "#7201a8"
             ],
             [
              0.3333333333333333,
              "#9c179e"
             ],
             [
              0.4444444444444444,
              "#bd3786"
             ],
             [
              0.5555555555555556,
              "#d8576b"
             ],
             [
              0.6666666666666666,
              "#ed7953"
             ],
             [
              0.7777777777777778,
              "#fb9f3a"
             ],
             [
              0.8888888888888888,
              "#fdca26"
             ],
             [
              1,
              "#f0f921"
             ]
            ],
            "type": "surface"
           }
          ],
          "table": [
           {
            "cells": {
             "fill": {
              "color": "#EBF0F8"
             },
             "line": {
              "color": "white"
             }
            },
            "header": {
             "fill": {
              "color": "#C8D4E3"
             },
             "line": {
              "color": "white"
             }
            },
            "type": "table"
           }
          ]
         },
         "layout": {
          "annotationdefaults": {
           "arrowcolor": "#2a3f5f",
           "arrowhead": 0,
           "arrowwidth": 1
          },
          "autotypenumbers": "strict",
          "coloraxis": {
           "colorbar": {
            "outlinewidth": 0,
            "ticks": ""
           }
          },
          "colorscale": {
           "diverging": [
            [
             0,
             "#8e0152"
            ],
            [
             0.1,
             "#c51b7d"
            ],
            [
             0.2,
             "#de77ae"
            ],
            [
             0.3,
             "#f1b6da"
            ],
            [
             0.4,
             "#fde0ef"
            ],
            [
             0.5,
             "#f7f7f7"
            ],
            [
             0.6,
             "#e6f5d0"
            ],
            [
             0.7,
             "#b8e186"
            ],
            [
             0.8,
             "#7fbc41"
            ],
            [
             0.9,
             "#4d9221"
            ],
            [
             1,
             "#276419"
            ]
           ],
           "sequential": [
            [
             0,
             "#0d0887"
            ],
            [
             0.1111111111111111,
             "#46039f"
            ],
            [
             0.2222222222222222,
             "#7201a8"
            ],
            [
             0.3333333333333333,
             "#9c179e"
            ],
            [
             0.4444444444444444,
             "#bd3786"
            ],
            [
             0.5555555555555556,
             "#d8576b"
            ],
            [
             0.6666666666666666,
             "#ed7953"
            ],
            [
             0.7777777777777778,
             "#fb9f3a"
            ],
            [
             0.8888888888888888,
             "#fdca26"
            ],
            [
             1,
             "#f0f921"
            ]
           ],
           "sequentialminus": [
            [
             0,
             "#0d0887"
            ],
            [
             0.1111111111111111,
             "#46039f"
            ],
            [
             0.2222222222222222,
             "#7201a8"
            ],
            [
             0.3333333333333333,
             "#9c179e"
            ],
            [
             0.4444444444444444,
             "#bd3786"
            ],
            [
             0.5555555555555556,
             "#d8576b"
            ],
            [
             0.6666666666666666,
             "#ed7953"
            ],
            [
             0.7777777777777778,
             "#fb9f3a"
            ],
            [
             0.8888888888888888,
             "#fdca26"
            ],
            [
             1,
             "#f0f921"
            ]
           ]
          },
          "colorway": [
           "#636efa",
           "#EF553B",
           "#00cc96",
           "#ab63fa",
           "#FFA15A",
           "#19d3f3",
           "#FF6692",
           "#B6E880",
           "#FF97FF",
           "#FECB52"
          ],
          "font": {
           "color": "#2a3f5f"
          },
          "geo": {
           "bgcolor": "white",
           "lakecolor": "white",
           "landcolor": "#E5ECF6",
           "showlakes": true,
           "showland": true,
           "subunitcolor": "white"
          },
          "hoverlabel": {
           "align": "left"
          },
          "hovermode": "closest",
          "mapbox": {
           "style": "light"
          },
          "paper_bgcolor": "white",
          "plot_bgcolor": "#E5ECF6",
          "polar": {
           "angularaxis": {
            "gridcolor": "white",
            "linecolor": "white",
            "ticks": ""
           },
           "bgcolor": "#E5ECF6",
           "radialaxis": {
            "gridcolor": "white",
            "linecolor": "white",
            "ticks": ""
           }
          },
          "scene": {
           "xaxis": {
            "backgroundcolor": "#E5ECF6",
            "gridcolor": "white",
            "gridwidth": 2,
            "linecolor": "white",
            "showbackground": true,
            "ticks": "",
            "zerolinecolor": "white"
           },
           "yaxis": {
            "backgroundcolor": "#E5ECF6",
            "gridcolor": "white",
            "gridwidth": 2,
            "linecolor": "white",
            "showbackground": true,
            "ticks": "",
            "zerolinecolor": "white"
           },
           "zaxis": {
            "backgroundcolor": "#E5ECF6",
            "gridcolor": "white",
            "gridwidth": 2,
            "linecolor": "white",
            "showbackground": true,
            "ticks": "",
            "zerolinecolor": "white"
           }
          },
          "shapedefaults": {
           "line": {
            "color": "#2a3f5f"
           }
          },
          "ternary": {
           "aaxis": {
            "gridcolor": "white",
            "linecolor": "white",
            "ticks": ""
           },
           "baxis": {
            "gridcolor": "white",
            "linecolor": "white",
            "ticks": ""
           },
           "bgcolor": "#E5ECF6",
           "caxis": {
            "gridcolor": "white",
            "linecolor": "white",
            "ticks": ""
           }
          },
          "title": {
           "x": 0.05
          },
          "xaxis": {
           "automargin": true,
           "gridcolor": "white",
           "linecolor": "white",
           "ticks": "",
           "title": {
            "standoff": 15
           },
           "zerolinecolor": "white",
           "zerolinewidth": 2
          },
          "yaxis": {
           "automargin": true,
           "gridcolor": "white",
           "linecolor": "white",
           "ticks": "",
           "title": {
            "standoff": 15
           },
           "zerolinecolor": "white",
           "zerolinewidth": 2
          }
         }
        },
        "title": {
         "text": "Fraction of queries reaching accuracy target"
        },
        "width": 1100,
        "xaxis": {
         "anchor": "y",
         "domain": [
          0,
          1
         ],
         "title": {
          "text": "workload_size"
         }
        },
        "yaxis": {
         "anchor": "x",
         "domain": [
          0,
          1
         ],
         "title": {
          "text": "fraction_queries_without_idp_bias"
         }
        }
       }
      },
      "text/html": [
       "<div>                            <div id=\"f6446806-ed95-4e0c-bcaf-b53f30f11120\" class=\"plotly-graph-div\" style=\"height:600px; width:1100px;\"></div>            <script type=\"text/javascript\">                require([\"plotly\"], function(Plotly) {                    window.PLOTLYENV=window.PLOTLYENV || {};                                    if (document.getElementById(\"f6446806-ed95-4e0c-bcaf-b53f30f11120\")) {                    Plotly.newPlot(                        \"f6446806-ed95-4e0c-bcaf-b53f30f11120\",                        [{\"hovertemplate\":\"baseline=ipa\\u003cbr\\u003edestination=9FF550C0B17A3C493378CB6E2DEEE6E4\\u003cbr\\u003eworkload_size=%{x}\\u003cbr\\u003efraction_queries_without_idp_bias=%{y}\\u003cextra\\u003e\\u003c\\u002fextra\\u003e\",\"legendgroup\":\"ipa\",\"line\":{\"color\":\"#636efa\",\"dash\":\"solid\"},\"marker\":{\"symbol\":\"circle\"},\"mode\":\"lines+markers\",\"name\":\"ipa\",\"orientation\":\"v\",\"showlegend\":true,\"x\":[1,5,10,15,20,25],\"xaxis\":\"x\",\"y\":[1.0,1.0,1.0,0.8,0.7,0.6],\"yaxis\":\"y\",\"type\":\"scatter\"},{\"hovertemplate\":\"baseline=user_epoch_ara\\u003cbr\\u003edestination=9FF550C0B17A3C493378CB6E2DEEE6E4\\u003cbr\\u003eworkload_size=%{x}\\u003cbr\\u003efraction_queries_without_idp_bias=%{y}\\u003cextra\\u003e\\u003c\\u002fextra\\u003e\",\"legendgroup\":\"user_epoch_ara\",\"line\":{\"color\":\"#EF553B\",\"dash\":\"solid\"},\"marker\":{\"symbol\":\"circle\"},\"mode\":\"lines+markers\",\"name\":\"user_epoch_ara\",\"orientation\":\"v\",\"showlegend\":true,\"x\":[1,5,10,15,20,25],\"xaxis\":\"x\",\"y\":[1.0,1.0,1.0,1.0,1.0,1.0],\"yaxis\":\"y\",\"type\":\"scatter\"},{\"hovertemplate\":\"baseline=cookiemonster\\u003cbr\\u003edestination=9FF550C0B17A3C493378CB6E2DEEE6E4\\u003cbr\\u003eworkload_size=%{x}\\u003cbr\\u003efraction_queries_without_idp_bias=%{y}\\u003cextra\\u003e\\u003c\\u002fextra\\u003e\",\"legendgroup\":\"cookiemonster\",\"line\":{\"color\":\"#00cc96\",\"dash\":\"solid\"},\"marker\":{\"symbol\":\"circle\"},\"mode\":\"lines+markers\",\"name\":\"cookiemonster\",\"orientation\":\"v\",\"showlegend\":true,\"x\":[1,5,10,15,20,25],\"xaxis\":\"x\",\"y\":[1.0,1.0,1.0,1.0,1.0,1.0],\"yaxis\":\"y\",\"type\":\"scatter\"}],                        {\"annotations\":[{\"showarrow\":false,\"text\":\"destination=9FF550C0B17A3C493378CB6E2DEEE6E4\",\"x\":0.5,\"xanchor\":\"center\",\"xref\":\"paper\",\"y\":1.0,\"yanchor\":\"bottom\",\"yref\":\"paper\"}],\"height\":600,\"legend\":{\"title\":{\"text\":\"baseline\"},\"tracegroupgap\":0},\"template\":{\"data\":{\"barpolar\":[{\"marker\":{\"line\":{\"color\":\"#E5ECF6\",\"width\":0.5},\"pattern\":{\"fillmode\":\"overlay\",\"size\":10,\"solidity\":0.2}},\"type\":\"barpolar\"}],\"bar\":[{\"error_x\":{\"color\":\"#2a3f5f\"},\"error_y\":{\"color\":\"#2a3f5f\"},\"marker\":{\"line\":{\"color\":\"#E5ECF6\",\"width\":0.5},\"pattern\":{\"fillmode\":\"overlay\",\"size\":10,\"solidity\":0.2}},\"type\":\"bar\"}],\"carpet\":[{\"aaxis\":{\"endlinecolor\":\"#2a3f5f\",\"gridcolor\":\"white\",\"linecolor\":\"white\",\"minorgridcolor\":\"white\",\"startlinecolor\":\"#2a3f5f\"},\"baxis\":{\"endlinecolor\":\"#2a3f5f\",\"gridcolor\":\"white\",\"linecolor\":\"white\",\"minorgridcolor\":\"white\",\"startlinecolor\":\"#2a3f5f\"},\"type\":\"carpet\"}],\"choropleth\":[{\"colorbar\":{\"outlinewidth\":0,\"ticks\":\"\"},\"type\":\"choropleth\"}],\"contourcarpet\":[{\"colorbar\":{\"outlinewidth\":0,\"ticks\":\"\"},\"type\":\"contourcarpet\"}],\"contour\":[{\"colorbar\":{\"outlinewidth\":0,\"ticks\":\"\"},\"colorscale\":[[0.0,\"#0d0887\"],[0.1111111111111111,\"#46039f\"],[0.2222222222222222,\"#7201a8\"],[0.3333333333333333,\"#9c179e\"],[0.4444444444444444,\"#bd3786\"],[0.5555555555555556,\"#d8576b\"],[0.6666666666666666,\"#ed7953\"],[0.7777777777777778,\"#fb9f3a\"],[0.8888888888888888,\"#fdca26\"],[1.0,\"#f0f921\"]],\"type\":\"contour\"}],\"heatmapgl\":[{\"colorbar\":{\"outlinewidth\":0,\"ticks\":\"\"},\"colorscale\":[[0.0,\"#0d0887\"],[0.1111111111111111,\"#46039f\"],[0.2222222222222222,\"#7201a8\"],[0.3333333333333333,\"#9c179e\"],[0.4444444444444444,\"#bd3786\"],[0.5555555555555556,\"#d8576b\"],[0.6666666666666666,\"#ed7953\"],[0.7777777777777778,\"#fb9f3a\"],[0.8888888888888888,\"#fdca26\"],[1.0,\"#f0f921\"]],\"type\":\"heatmapgl\"}],\"heatmap\":[{\"colorbar\":{\"outlinewidth\":0,\"ticks\":\"\"},\"colorscale\":[[0.0,\"#0d0887\"],[0.1111111111111111,\"#46039f\"],[0.2222222222222222,\"#7201a8\"],[0.3333333333333333,\"#9c179e\"],[0.4444444444444444,\"#bd3786\"],[0.5555555555555556,\"#d8576b\"],[0.6666666666666666,\"#ed7953\"],[0.7777777777777778,\"#fb9f3a\"],[0.8888888888888888,\"#fdca26\"],[1.0,\"#f0f921\"]],\"type\":\"heatmap\"}],\"histogram2dcontour\":[{\"colorbar\":{\"outlinewidth\":0,\"ticks\":\"\"},\"colorscale\":[[0.0,\"#0d0887\"],[0.1111111111111111,\"#46039f\"],[0.2222222222222222,\"#7201a8\"],[0.3333333333333333,\"#9c179e\"],[0.4444444444444444,\"#bd3786\"],[0.5555555555555556,\"#d8576b\"],[0.6666666666666666,\"#ed7953\"],[0.7777777777777778,\"#fb9f3a\"],[0.8888888888888888,\"#fdca26\"],[1.0,\"#f0f921\"]],\"type\":\"histogram2dcontour\"}],\"histogram2d\":[{\"colorbar\":{\"outlinewidth\":0,\"ticks\":\"\"},\"colorscale\":[[0.0,\"#0d0887\"],[0.1111111111111111,\"#46039f\"],[0.2222222222222222,\"#7201a8\"],[0.3333333333333333,\"#9c179e\"],[0.4444444444444444,\"#bd3786\"],[0.5555555555555556,\"#d8576b\"],[0.6666666666666666,\"#ed7953\"],[0.7777777777777778,\"#fb9f3a\"],[0.8888888888888888,\"#fdca26\"],[1.0,\"#f0f921\"]],\"type\":\"histogram2d\"}],\"histogram\":[{\"marker\":{\"pattern\":{\"fillmode\":\"overlay\",\"size\":10,\"solidity\":0.2}},\"type\":\"histogram\"}],\"mesh3d\":[{\"colorbar\":{\"outlinewidth\":0,\"ticks\":\"\"},\"type\":\"mesh3d\"}],\"parcoords\":[{\"line\":{\"colorbar\":{\"outlinewidth\":0,\"ticks\":\"\"}},\"type\":\"parcoords\"}],\"pie\":[{\"automargin\":true,\"type\":\"pie\"}],\"scatter3d\":[{\"line\":{\"colorbar\":{\"outlinewidth\":0,\"ticks\":\"\"}},\"marker\":{\"colorbar\":{\"outlinewidth\":0,\"ticks\":\"\"}},\"type\":\"scatter3d\"}],\"scattercarpet\":[{\"marker\":{\"colorbar\":{\"outlinewidth\":0,\"ticks\":\"\"}},\"type\":\"scattercarpet\"}],\"scattergeo\":[{\"marker\":{\"colorbar\":{\"outlinewidth\":0,\"ticks\":\"\"}},\"type\":\"scattergeo\"}],\"scattergl\":[{\"marker\":{\"colorbar\":{\"outlinewidth\":0,\"ticks\":\"\"}},\"type\":\"scattergl\"}],\"scattermapbox\":[{\"marker\":{\"colorbar\":{\"outlinewidth\":0,\"ticks\":\"\"}},\"type\":\"scattermapbox\"}],\"scatterpolargl\":[{\"marker\":{\"colorbar\":{\"outlinewidth\":0,\"ticks\":\"\"}},\"type\":\"scatterpolargl\"}],\"scatterpolar\":[{\"marker\":{\"colorbar\":{\"outlinewidth\":0,\"ticks\":\"\"}},\"type\":\"scatterpolar\"}],\"scatter\":[{\"fillpattern\":{\"fillmode\":\"overlay\",\"size\":10,\"solidity\":0.2},\"type\":\"scatter\"}],\"scatterternary\":[{\"marker\":{\"colorbar\":{\"outlinewidth\":0,\"ticks\":\"\"}},\"type\":\"scatterternary\"}],\"surface\":[{\"colorbar\":{\"outlinewidth\":0,\"ticks\":\"\"},\"colorscale\":[[0.0,\"#0d0887\"],[0.1111111111111111,\"#46039f\"],[0.2222222222222222,\"#7201a8\"],[0.3333333333333333,\"#9c179e\"],[0.4444444444444444,\"#bd3786\"],[0.5555555555555556,\"#d8576b\"],[0.6666666666666666,\"#ed7953\"],[0.7777777777777778,\"#fb9f3a\"],[0.8888888888888888,\"#fdca26\"],[1.0,\"#f0f921\"]],\"type\":\"surface\"}],\"table\":[{\"cells\":{\"fill\":{\"color\":\"#EBF0F8\"},\"line\":{\"color\":\"white\"}},\"header\":{\"fill\":{\"color\":\"#C8D4E3\"},\"line\":{\"color\":\"white\"}},\"type\":\"table\"}]},\"layout\":{\"annotationdefaults\":{\"arrowcolor\":\"#2a3f5f\",\"arrowhead\":0,\"arrowwidth\":1},\"autotypenumbers\":\"strict\",\"coloraxis\":{\"colorbar\":{\"outlinewidth\":0,\"ticks\":\"\"}},\"colorscale\":{\"diverging\":[[0,\"#8e0152\"],[0.1,\"#c51b7d\"],[0.2,\"#de77ae\"],[0.3,\"#f1b6da\"],[0.4,\"#fde0ef\"],[0.5,\"#f7f7f7\"],[0.6,\"#e6f5d0\"],[0.7,\"#b8e186\"],[0.8,\"#7fbc41\"],[0.9,\"#4d9221\"],[1,\"#276419\"]],\"sequential\":[[0.0,\"#0d0887\"],[0.1111111111111111,\"#46039f\"],[0.2222222222222222,\"#7201a8\"],[0.3333333333333333,\"#9c179e\"],[0.4444444444444444,\"#bd3786\"],[0.5555555555555556,\"#d8576b\"],[0.6666666666666666,\"#ed7953\"],[0.7777777777777778,\"#fb9f3a\"],[0.8888888888888888,\"#fdca26\"],[1.0,\"#f0f921\"]],\"sequentialminus\":[[0.0,\"#0d0887\"],[0.1111111111111111,\"#46039f\"],[0.2222222222222222,\"#7201a8\"],[0.3333333333333333,\"#9c179e\"],[0.4444444444444444,\"#bd3786\"],[0.5555555555555556,\"#d8576b\"],[0.6666666666666666,\"#ed7953\"],[0.7777777777777778,\"#fb9f3a\"],[0.8888888888888888,\"#fdca26\"],[1.0,\"#f0f921\"]]},\"colorway\":[\"#636efa\",\"#EF553B\",\"#00cc96\",\"#ab63fa\",\"#FFA15A\",\"#19d3f3\",\"#FF6692\",\"#B6E880\",\"#FF97FF\",\"#FECB52\"],\"font\":{\"color\":\"#2a3f5f\"},\"geo\":{\"bgcolor\":\"white\",\"lakecolor\":\"white\",\"landcolor\":\"#E5ECF6\",\"showlakes\":true,\"showland\":true,\"subunitcolor\":\"white\"},\"hoverlabel\":{\"align\":\"left\"},\"hovermode\":\"closest\",\"mapbox\":{\"style\":\"light\"},\"paper_bgcolor\":\"white\",\"plot_bgcolor\":\"#E5ECF6\",\"polar\":{\"angularaxis\":{\"gridcolor\":\"white\",\"linecolor\":\"white\",\"ticks\":\"\"},\"bgcolor\":\"#E5ECF6\",\"radialaxis\":{\"gridcolor\":\"white\",\"linecolor\":\"white\",\"ticks\":\"\"}},\"scene\":{\"xaxis\":{\"backgroundcolor\":\"#E5ECF6\",\"gridcolor\":\"white\",\"gridwidth\":2,\"linecolor\":\"white\",\"showbackground\":true,\"ticks\":\"\",\"zerolinecolor\":\"white\"},\"yaxis\":{\"backgroundcolor\":\"#E5ECF6\",\"gridcolor\":\"white\",\"gridwidth\":2,\"linecolor\":\"white\",\"showbackground\":true,\"ticks\":\"\",\"zerolinecolor\":\"white\"},\"zaxis\":{\"backgroundcolor\":\"#E5ECF6\",\"gridcolor\":\"white\",\"gridwidth\":2,\"linecolor\":\"white\",\"showbackground\":true,\"ticks\":\"\",\"zerolinecolor\":\"white\"}},\"shapedefaults\":{\"line\":{\"color\":\"#2a3f5f\"}},\"ternary\":{\"aaxis\":{\"gridcolor\":\"white\",\"linecolor\":\"white\",\"ticks\":\"\"},\"baxis\":{\"gridcolor\":\"white\",\"linecolor\":\"white\",\"ticks\":\"\"},\"bgcolor\":\"#E5ECF6\",\"caxis\":{\"gridcolor\":\"white\",\"linecolor\":\"white\",\"ticks\":\"\"}},\"title\":{\"x\":0.05},\"xaxis\":{\"automargin\":true,\"gridcolor\":\"white\",\"linecolor\":\"white\",\"ticks\":\"\",\"title\":{\"standoff\":15},\"zerolinecolor\":\"white\",\"zerolinewidth\":2},\"yaxis\":{\"automargin\":true,\"gridcolor\":\"white\",\"linecolor\":\"white\",\"ticks\":\"\",\"title\":{\"standoff\":15},\"zerolinecolor\":\"white\",\"zerolinewidth\":2}}},\"title\":{\"text\":\"Fraction of queries reaching accuracy target\"},\"width\":1100,\"xaxis\":{\"anchor\":\"y\",\"domain\":[0.0,1.0],\"title\":{\"text\":\"workload_size\"}},\"yaxis\":{\"anchor\":\"x\",\"domain\":[0.0,1.0],\"title\":{\"text\":\"fraction_queries_without_idp_bias\"}}},                        {\"responsive\": true}                    ).then(function(){\n",
       "                            \n",
       "var gd = document.getElementById('f6446806-ed95-4e0c-bcaf-b53f30f11120');\n",
       "var x = new MutationObserver(function (mutations, observer) {{\n",
       "        var display = window.getComputedStyle(gd).display;\n",
       "        if (!display || display === 'none') {{\n",
       "            console.log([gd, 'removed!']);\n",
       "            Plotly.purge(gd);\n",
       "            observer.disconnect();\n",
       "        }}\n",
       "}});\n",
       "\n",
       "// Listen for the removal of the full notebook cells\n",
       "var notebookContainer = gd.closest('#notebook-container');\n",
       "if (notebookContainer) {{\n",
       "    x.observe(notebookContainer, {childList: true});\n",
       "}}\n",
       "\n",
       "// Listen for the clearing of the current output cell\n",
       "var outputEl = gd.closest('.output');\n",
       "if (outputEl) {{\n",
       "    x.observe(outputEl, {childList: true});\n",
       "}}\n",
       "\n",
       "                        })                };                });            </script>        </div>"
      ]
     },
     "metadata": {},
     "output_type": "display_data"
    },
    {
     "data": {
      "application/vnd.plotly.v1+json": {
       "config": {
        "linkText": "Export to plot.ly",
        "plotlyServerURL": "https://plot.ly",
        "showLink": false
       },
       "data": [
        {
         "hovertemplate": "baseline=ipa<br>destination=9FF550C0B17A3C493378CB6E2DEEE6E4<br>workload_size=%{x}<br>workload_idp_accuracy=%{y}<extra></extra>",
         "legendgroup": "ipa",
         "line": {
          "color": "#636efa",
          "dash": "solid"
         },
         "marker": {
          "symbol": "circle"
         },
         "mode": "lines+markers",
         "name": "ipa",
         "orientation": "v",
         "showlegend": true,
         "type": "scatter",
         "x": [
          1,
          5,
          10,
          15,
          20,
          25
         ],
         "xaxis": "x",
         "y": [
          1,
          1,
          1,
          0.8,
          0.7,
          0.6
         ],
         "yaxis": "y"
        },
        {
         "hovertemplate": "baseline=user_epoch_ara<br>destination=9FF550C0B17A3C493378CB6E2DEEE6E4<br>workload_size=%{x}<br>workload_idp_accuracy=%{y}<extra></extra>",
         "legendgroup": "user_epoch_ara",
         "line": {
          "color": "#EF553B",
          "dash": "solid"
         },
         "marker": {
          "symbol": "circle"
         },
         "mode": "lines+markers",
         "name": "user_epoch_ara",
         "orientation": "v",
         "showlegend": true,
         "type": "scatter",
         "x": [
          1,
          5,
          10,
          15,
          20,
          25
         ],
         "xaxis": "x",
         "y": [
          1,
          1,
          1,
          1,
          1,
          1
         ],
         "yaxis": "y"
        },
        {
         "hovertemplate": "baseline=cookiemonster<br>destination=9FF550C0B17A3C493378CB6E2DEEE6E4<br>workload_size=%{x}<br>workload_idp_accuracy=%{y}<extra></extra>",
         "legendgroup": "cookiemonster",
         "line": {
          "color": "#00cc96",
          "dash": "solid"
         },
         "marker": {
          "symbol": "circle"
         },
         "mode": "lines+markers",
         "name": "cookiemonster",
         "orientation": "v",
         "showlegend": true,
         "type": "scatter",
         "x": [
          1,
          5,
          10,
          15,
          20,
          25
         ],
         "xaxis": "x",
         "y": [
          1,
          1,
          1,
          1,
          1,
          1
         ],
         "yaxis": "y"
        }
       ],
       "layout": {
        "annotations": [
         {
          "showarrow": false,
          "text": "destination=9FF550C0B17A3C493378CB6E2DEEE6E4",
          "x": 0.5,
          "xanchor": "center",
          "xref": "paper",
          "y": 1,
          "yanchor": "bottom",
          "yref": "paper"
         }
        ],
        "height": 600,
        "legend": {
         "title": {
          "text": "baseline"
         },
         "tracegroupgap": 0
        },
        "template": {
         "data": {
          "bar": [
           {
            "error_x": {
             "color": "#2a3f5f"
            },
            "error_y": {
             "color": "#2a3f5f"
            },
            "marker": {
             "line": {
              "color": "#E5ECF6",
              "width": 0.5
             },
             "pattern": {
              "fillmode": "overlay",
              "size": 10,
              "solidity": 0.2
             }
            },
            "type": "bar"
           }
          ],
          "barpolar": [
           {
            "marker": {
             "line": {
              "color": "#E5ECF6",
              "width": 0.5
             },
             "pattern": {
              "fillmode": "overlay",
              "size": 10,
              "solidity": 0.2
             }
            },
            "type": "barpolar"
           }
          ],
          "carpet": [
           {
            "aaxis": {
             "endlinecolor": "#2a3f5f",
             "gridcolor": "white",
             "linecolor": "white",
             "minorgridcolor": "white",
             "startlinecolor": "#2a3f5f"
            },
            "baxis": {
             "endlinecolor": "#2a3f5f",
             "gridcolor": "white",
             "linecolor": "white",
             "minorgridcolor": "white",
             "startlinecolor": "#2a3f5f"
            },
            "type": "carpet"
           }
          ],
          "choropleth": [
           {
            "colorbar": {
             "outlinewidth": 0,
             "ticks": ""
            },
            "type": "choropleth"
           }
          ],
          "contour": [
           {
            "colorbar": {
             "outlinewidth": 0,
             "ticks": ""
            },
            "colorscale": [
             [
              0,
              "#0d0887"
             ],
             [
              0.1111111111111111,
              "#46039f"
             ],
             [
              0.2222222222222222,
              "#7201a8"
             ],
             [
              0.3333333333333333,
              "#9c179e"
             ],
             [
              0.4444444444444444,
              "#bd3786"
             ],
             [
              0.5555555555555556,
              "#d8576b"
             ],
             [
              0.6666666666666666,
              "#ed7953"
             ],
             [
              0.7777777777777778,
              "#fb9f3a"
             ],
             [
              0.8888888888888888,
              "#fdca26"
             ],
             [
              1,
              "#f0f921"
             ]
            ],
            "type": "contour"
           }
          ],
          "contourcarpet": [
           {
            "colorbar": {
             "outlinewidth": 0,
             "ticks": ""
            },
            "type": "contourcarpet"
           }
          ],
          "heatmap": [
           {
            "colorbar": {
             "outlinewidth": 0,
             "ticks": ""
            },
            "colorscale": [
             [
              0,
              "#0d0887"
             ],
             [
              0.1111111111111111,
              "#46039f"
             ],
             [
              0.2222222222222222,
              "#7201a8"
             ],
             [
              0.3333333333333333,
              "#9c179e"
             ],
             [
              0.4444444444444444,
              "#bd3786"
             ],
             [
              0.5555555555555556,
              "#d8576b"
             ],
             [
              0.6666666666666666,
              "#ed7953"
             ],
             [
              0.7777777777777778,
              "#fb9f3a"
             ],
             [
              0.8888888888888888,
              "#fdca26"
             ],
             [
              1,
              "#f0f921"
             ]
            ],
            "type": "heatmap"
           }
          ],
          "heatmapgl": [
           {
            "colorbar": {
             "outlinewidth": 0,
             "ticks": ""
            },
            "colorscale": [
             [
              0,
              "#0d0887"
             ],
             [
              0.1111111111111111,
              "#46039f"
             ],
             [
              0.2222222222222222,
              "#7201a8"
             ],
             [
              0.3333333333333333,
              "#9c179e"
             ],
             [
              0.4444444444444444,
              "#bd3786"
             ],
             [
              0.5555555555555556,
              "#d8576b"
             ],
             [
              0.6666666666666666,
              "#ed7953"
             ],
             [
              0.7777777777777778,
              "#fb9f3a"
             ],
             [
              0.8888888888888888,
              "#fdca26"
             ],
             [
              1,
              "#f0f921"
             ]
            ],
            "type": "heatmapgl"
           }
          ],
          "histogram": [
           {
            "marker": {
             "pattern": {
              "fillmode": "overlay",
              "size": 10,
              "solidity": 0.2
             }
            },
            "type": "histogram"
           }
          ],
          "histogram2d": [
           {
            "colorbar": {
             "outlinewidth": 0,
             "ticks": ""
            },
            "colorscale": [
             [
              0,
              "#0d0887"
             ],
             [
              0.1111111111111111,
              "#46039f"
             ],
             [
              0.2222222222222222,
              "#7201a8"
             ],
             [
              0.3333333333333333,
              "#9c179e"
             ],
             [
              0.4444444444444444,
              "#bd3786"
             ],
             [
              0.5555555555555556,
              "#d8576b"
             ],
             [
              0.6666666666666666,
              "#ed7953"
             ],
             [
              0.7777777777777778,
              "#fb9f3a"
             ],
             [
              0.8888888888888888,
              "#fdca26"
             ],
             [
              1,
              "#f0f921"
             ]
            ],
            "type": "histogram2d"
           }
          ],
          "histogram2dcontour": [
           {
            "colorbar": {
             "outlinewidth": 0,
             "ticks": ""
            },
            "colorscale": [
             [
              0,
              "#0d0887"
             ],
             [
              0.1111111111111111,
              "#46039f"
             ],
             [
              0.2222222222222222,
              "#7201a8"
             ],
             [
              0.3333333333333333,
              "#9c179e"
             ],
             [
              0.4444444444444444,
              "#bd3786"
             ],
             [
              0.5555555555555556,
              "#d8576b"
             ],
             [
              0.6666666666666666,
              "#ed7953"
             ],
             [
              0.7777777777777778,
              "#fb9f3a"
             ],
             [
              0.8888888888888888,
              "#fdca26"
             ],
             [
              1,
              "#f0f921"
             ]
            ],
            "type": "histogram2dcontour"
           }
          ],
          "mesh3d": [
           {
            "colorbar": {
             "outlinewidth": 0,
             "ticks": ""
            },
            "type": "mesh3d"
           }
          ],
          "parcoords": [
           {
            "line": {
             "colorbar": {
              "outlinewidth": 0,
              "ticks": ""
             }
            },
            "type": "parcoords"
           }
          ],
          "pie": [
           {
            "automargin": true,
            "type": "pie"
           }
          ],
          "scatter": [
           {
            "fillpattern": {
             "fillmode": "overlay",
             "size": 10,
             "solidity": 0.2
            },
            "type": "scatter"
           }
          ],
          "scatter3d": [
           {
            "line": {
             "colorbar": {
              "outlinewidth": 0,
              "ticks": ""
             }
            },
            "marker": {
             "colorbar": {
              "outlinewidth": 0,
              "ticks": ""
             }
            },
            "type": "scatter3d"
           }
          ],
          "scattercarpet": [
           {
            "marker": {
             "colorbar": {
              "outlinewidth": 0,
              "ticks": ""
             }
            },
            "type": "scattercarpet"
           }
          ],
          "scattergeo": [
           {
            "marker": {
             "colorbar": {
              "outlinewidth": 0,
              "ticks": ""
             }
            },
            "type": "scattergeo"
           }
          ],
          "scattergl": [
           {
            "marker": {
             "colorbar": {
              "outlinewidth": 0,
              "ticks": ""
             }
            },
            "type": "scattergl"
           }
          ],
          "scattermapbox": [
           {
            "marker": {
             "colorbar": {
              "outlinewidth": 0,
              "ticks": ""
             }
            },
            "type": "scattermapbox"
           }
          ],
          "scatterpolar": [
           {
            "marker": {
             "colorbar": {
              "outlinewidth": 0,
              "ticks": ""
             }
            },
            "type": "scatterpolar"
           }
          ],
          "scatterpolargl": [
           {
            "marker": {
             "colorbar": {
              "outlinewidth": 0,
              "ticks": ""
             }
            },
            "type": "scatterpolargl"
           }
          ],
          "scatterternary": [
           {
            "marker": {
             "colorbar": {
              "outlinewidth": 0,
              "ticks": ""
             }
            },
            "type": "scatterternary"
           }
          ],
          "surface": [
           {
            "colorbar": {
             "outlinewidth": 0,
             "ticks": ""
            },
            "colorscale": [
             [
              0,
              "#0d0887"
             ],
             [
              0.1111111111111111,
              "#46039f"
             ],
             [
              0.2222222222222222,
              "#7201a8"
             ],
             [
              0.3333333333333333,
              "#9c179e"
             ],
             [
              0.4444444444444444,
              "#bd3786"
             ],
             [
              0.5555555555555556,
              "#d8576b"
             ],
             [
              0.6666666666666666,
              "#ed7953"
             ],
             [
              0.7777777777777778,
              "#fb9f3a"
             ],
             [
              0.8888888888888888,
              "#fdca26"
             ],
             [
              1,
              "#f0f921"
             ]
            ],
            "type": "surface"
           }
          ],
          "table": [
           {
            "cells": {
             "fill": {
              "color": "#EBF0F8"
             },
             "line": {
              "color": "white"
             }
            },
            "header": {
             "fill": {
              "color": "#C8D4E3"
             },
             "line": {
              "color": "white"
             }
            },
            "type": "table"
           }
          ]
         },
         "layout": {
          "annotationdefaults": {
           "arrowcolor": "#2a3f5f",
           "arrowhead": 0,
           "arrowwidth": 1
          },
          "autotypenumbers": "strict",
          "coloraxis": {
           "colorbar": {
            "outlinewidth": 0,
            "ticks": ""
           }
          },
          "colorscale": {
           "diverging": [
            [
             0,
             "#8e0152"
            ],
            [
             0.1,
             "#c51b7d"
            ],
            [
             0.2,
             "#de77ae"
            ],
            [
             0.3,
             "#f1b6da"
            ],
            [
             0.4,
             "#fde0ef"
            ],
            [
             0.5,
             "#f7f7f7"
            ],
            [
             0.6,
             "#e6f5d0"
            ],
            [
             0.7,
             "#b8e186"
            ],
            [
             0.8,
             "#7fbc41"
            ],
            [
             0.9,
             "#4d9221"
            ],
            [
             1,
             "#276419"
            ]
           ],
           "sequential": [
            [
             0,
             "#0d0887"
            ],
            [
             0.1111111111111111,
             "#46039f"
            ],
            [
             0.2222222222222222,
             "#7201a8"
            ],
            [
             0.3333333333333333,
             "#9c179e"
            ],
            [
             0.4444444444444444,
             "#bd3786"
            ],
            [
             0.5555555555555556,
             "#d8576b"
            ],
            [
             0.6666666666666666,
             "#ed7953"
            ],
            [
             0.7777777777777778,
             "#fb9f3a"
            ],
            [
             0.8888888888888888,
             "#fdca26"
            ],
            [
             1,
             "#f0f921"
            ]
           ],
           "sequentialminus": [
            [
             0,
             "#0d0887"
            ],
            [
             0.1111111111111111,
             "#46039f"
            ],
            [
             0.2222222222222222,
             "#7201a8"
            ],
            [
             0.3333333333333333,
             "#9c179e"
            ],
            [
             0.4444444444444444,
             "#bd3786"
            ],
            [
             0.5555555555555556,
             "#d8576b"
            ],
            [
             0.6666666666666666,
             "#ed7953"
            ],
            [
             0.7777777777777778,
             "#fb9f3a"
            ],
            [
             0.8888888888888888,
             "#fdca26"
            ],
            [
             1,
             "#f0f921"
            ]
           ]
          },
          "colorway": [
           "#636efa",
           "#EF553B",
           "#00cc96",
           "#ab63fa",
           "#FFA15A",
           "#19d3f3",
           "#FF6692",
           "#B6E880",
           "#FF97FF",
           "#FECB52"
          ],
          "font": {
           "color": "#2a3f5f"
          },
          "geo": {
           "bgcolor": "white",
           "lakecolor": "white",
           "landcolor": "#E5ECF6",
           "showlakes": true,
           "showland": true,
           "subunitcolor": "white"
          },
          "hoverlabel": {
           "align": "left"
          },
          "hovermode": "closest",
          "mapbox": {
           "style": "light"
          },
          "paper_bgcolor": "white",
          "plot_bgcolor": "#E5ECF6",
          "polar": {
           "angularaxis": {
            "gridcolor": "white",
            "linecolor": "white",
            "ticks": ""
           },
           "bgcolor": "#E5ECF6",
           "radialaxis": {
            "gridcolor": "white",
            "linecolor": "white",
            "ticks": ""
           }
          },
          "scene": {
           "xaxis": {
            "backgroundcolor": "#E5ECF6",
            "gridcolor": "white",
            "gridwidth": 2,
            "linecolor": "white",
            "showbackground": true,
            "ticks": "",
            "zerolinecolor": "white"
           },
           "yaxis": {
            "backgroundcolor": "#E5ECF6",
            "gridcolor": "white",
            "gridwidth": 2,
            "linecolor": "white",
            "showbackground": true,
            "ticks": "",
            "zerolinecolor": "white"
           },
           "zaxis": {
            "backgroundcolor": "#E5ECF6",
            "gridcolor": "white",
            "gridwidth": 2,
            "linecolor": "white",
            "showbackground": true,
            "ticks": "",
            "zerolinecolor": "white"
           }
          },
          "shapedefaults": {
           "line": {
            "color": "#2a3f5f"
           }
          },
          "ternary": {
           "aaxis": {
            "gridcolor": "white",
            "linecolor": "white",
            "ticks": ""
           },
           "baxis": {
            "gridcolor": "white",
            "linecolor": "white",
            "ticks": ""
           },
           "bgcolor": "#E5ECF6",
           "caxis": {
            "gridcolor": "white",
            "linecolor": "white",
            "ticks": ""
           }
          },
          "title": {
           "x": 0.05
          },
          "xaxis": {
           "automargin": true,
           "gridcolor": "white",
           "linecolor": "white",
           "ticks": "",
           "title": {
            "standoff": 15
           },
           "zerolinecolor": "white",
           "zerolinewidth": 2
          },
          "yaxis": {
           "automargin": true,
           "gridcolor": "white",
           "linecolor": "white",
           "ticks": "",
           "title": {
            "standoff": 15
           },
           "zerolinecolor": "white",
           "zerolinewidth": 2
          }
         }
        },
        "title": {
         "text": "Avg. relative accuracy across queries in workload"
        },
        "width": 1100,
        "xaxis": {
         "anchor": "y",
         "domain": [
          0,
          1
         ],
         "title": {
          "text": "workload_size"
         }
        },
        "yaxis": {
         "anchor": "x",
         "domain": [
          0,
          1
         ],
         "title": {
          "text": "workload_idp_accuracy"
         }
        }
       }
      },
      "text/html": [
       "<div>                            <div id=\"f116c2cf-011f-49ac-8f3f-e26c27f34993\" class=\"plotly-graph-div\" style=\"height:600px; width:1100px;\"></div>            <script type=\"text/javascript\">                require([\"plotly\"], function(Plotly) {                    window.PLOTLYENV=window.PLOTLYENV || {};                                    if (document.getElementById(\"f116c2cf-011f-49ac-8f3f-e26c27f34993\")) {                    Plotly.newPlot(                        \"f116c2cf-011f-49ac-8f3f-e26c27f34993\",                        [{\"hovertemplate\":\"baseline=ipa\\u003cbr\\u003edestination=9FF550C0B17A3C493378CB6E2DEEE6E4\\u003cbr\\u003eworkload_size=%{x}\\u003cbr\\u003eworkload_idp_accuracy=%{y}\\u003cextra\\u003e\\u003c\\u002fextra\\u003e\",\"legendgroup\":\"ipa\",\"line\":{\"color\":\"#636efa\",\"dash\":\"solid\"},\"marker\":{\"symbol\":\"circle\"},\"mode\":\"lines+markers\",\"name\":\"ipa\",\"orientation\":\"v\",\"showlegend\":true,\"x\":[1,5,10,15,20,25],\"xaxis\":\"x\",\"y\":[1.0,1.0,1.0,0.8,0.7,0.6],\"yaxis\":\"y\",\"type\":\"scatter\"},{\"hovertemplate\":\"baseline=user_epoch_ara\\u003cbr\\u003edestination=9FF550C0B17A3C493378CB6E2DEEE6E4\\u003cbr\\u003eworkload_size=%{x}\\u003cbr\\u003eworkload_idp_accuracy=%{y}\\u003cextra\\u003e\\u003c\\u002fextra\\u003e\",\"legendgroup\":\"user_epoch_ara\",\"line\":{\"color\":\"#EF553B\",\"dash\":\"solid\"},\"marker\":{\"symbol\":\"circle\"},\"mode\":\"lines+markers\",\"name\":\"user_epoch_ara\",\"orientation\":\"v\",\"showlegend\":true,\"x\":[1,5,10,15,20,25],\"xaxis\":\"x\",\"y\":[1.0,1.0,1.0,1.0,1.0,1.0],\"yaxis\":\"y\",\"type\":\"scatter\"},{\"hovertemplate\":\"baseline=cookiemonster\\u003cbr\\u003edestination=9FF550C0B17A3C493378CB6E2DEEE6E4\\u003cbr\\u003eworkload_size=%{x}\\u003cbr\\u003eworkload_idp_accuracy=%{y}\\u003cextra\\u003e\\u003c\\u002fextra\\u003e\",\"legendgroup\":\"cookiemonster\",\"line\":{\"color\":\"#00cc96\",\"dash\":\"solid\"},\"marker\":{\"symbol\":\"circle\"},\"mode\":\"lines+markers\",\"name\":\"cookiemonster\",\"orientation\":\"v\",\"showlegend\":true,\"x\":[1,5,10,15,20,25],\"xaxis\":\"x\",\"y\":[1.0,1.0,1.0,1.0,1.0,1.0],\"yaxis\":\"y\",\"type\":\"scatter\"}],                        {\"annotations\":[{\"showarrow\":false,\"text\":\"destination=9FF550C0B17A3C493378CB6E2DEEE6E4\",\"x\":0.5,\"xanchor\":\"center\",\"xref\":\"paper\",\"y\":1.0,\"yanchor\":\"bottom\",\"yref\":\"paper\"}],\"height\":600,\"legend\":{\"title\":{\"text\":\"baseline\"},\"tracegroupgap\":0},\"template\":{\"data\":{\"barpolar\":[{\"marker\":{\"line\":{\"color\":\"#E5ECF6\",\"width\":0.5},\"pattern\":{\"fillmode\":\"overlay\",\"size\":10,\"solidity\":0.2}},\"type\":\"barpolar\"}],\"bar\":[{\"error_x\":{\"color\":\"#2a3f5f\"},\"error_y\":{\"color\":\"#2a3f5f\"},\"marker\":{\"line\":{\"color\":\"#E5ECF6\",\"width\":0.5},\"pattern\":{\"fillmode\":\"overlay\",\"size\":10,\"solidity\":0.2}},\"type\":\"bar\"}],\"carpet\":[{\"aaxis\":{\"endlinecolor\":\"#2a3f5f\",\"gridcolor\":\"white\",\"linecolor\":\"white\",\"minorgridcolor\":\"white\",\"startlinecolor\":\"#2a3f5f\"},\"baxis\":{\"endlinecolor\":\"#2a3f5f\",\"gridcolor\":\"white\",\"linecolor\":\"white\",\"minorgridcolor\":\"white\",\"startlinecolor\":\"#2a3f5f\"},\"type\":\"carpet\"}],\"choropleth\":[{\"colorbar\":{\"outlinewidth\":0,\"ticks\":\"\"},\"type\":\"choropleth\"}],\"contourcarpet\":[{\"colorbar\":{\"outlinewidth\":0,\"ticks\":\"\"},\"type\":\"contourcarpet\"}],\"contour\":[{\"colorbar\":{\"outlinewidth\":0,\"ticks\":\"\"},\"colorscale\":[[0.0,\"#0d0887\"],[0.1111111111111111,\"#46039f\"],[0.2222222222222222,\"#7201a8\"],[0.3333333333333333,\"#9c179e\"],[0.4444444444444444,\"#bd3786\"],[0.5555555555555556,\"#d8576b\"],[0.6666666666666666,\"#ed7953\"],[0.7777777777777778,\"#fb9f3a\"],[0.8888888888888888,\"#fdca26\"],[1.0,\"#f0f921\"]],\"type\":\"contour\"}],\"heatmapgl\":[{\"colorbar\":{\"outlinewidth\":0,\"ticks\":\"\"},\"colorscale\":[[0.0,\"#0d0887\"],[0.1111111111111111,\"#46039f\"],[0.2222222222222222,\"#7201a8\"],[0.3333333333333333,\"#9c179e\"],[0.4444444444444444,\"#bd3786\"],[0.5555555555555556,\"#d8576b\"],[0.6666666666666666,\"#ed7953\"],[0.7777777777777778,\"#fb9f3a\"],[0.8888888888888888,\"#fdca26\"],[1.0,\"#f0f921\"]],\"type\":\"heatmapgl\"}],\"heatmap\":[{\"colorbar\":{\"outlinewidth\":0,\"ticks\":\"\"},\"colorscale\":[[0.0,\"#0d0887\"],[0.1111111111111111,\"#46039f\"],[0.2222222222222222,\"#7201a8\"],[0.3333333333333333,\"#9c179e\"],[0.4444444444444444,\"#bd3786\"],[0.5555555555555556,\"#d8576b\"],[0.6666666666666666,\"#ed7953\"],[0.7777777777777778,\"#fb9f3a\"],[0.8888888888888888,\"#fdca26\"],[1.0,\"#f0f921\"]],\"type\":\"heatmap\"}],\"histogram2dcontour\":[{\"colorbar\":{\"outlinewidth\":0,\"ticks\":\"\"},\"colorscale\":[[0.0,\"#0d0887\"],[0.1111111111111111,\"#46039f\"],[0.2222222222222222,\"#7201a8\"],[0.3333333333333333,\"#9c179e\"],[0.4444444444444444,\"#bd3786\"],[0.5555555555555556,\"#d8576b\"],[0.6666666666666666,\"#ed7953\"],[0.7777777777777778,\"#fb9f3a\"],[0.8888888888888888,\"#fdca26\"],[1.0,\"#f0f921\"]],\"type\":\"histogram2dcontour\"}],\"histogram2d\":[{\"colorbar\":{\"outlinewidth\":0,\"ticks\":\"\"},\"colorscale\":[[0.0,\"#0d0887\"],[0.1111111111111111,\"#46039f\"],[0.2222222222222222,\"#7201a8\"],[0.3333333333333333,\"#9c179e\"],[0.4444444444444444,\"#bd3786\"],[0.5555555555555556,\"#d8576b\"],[0.6666666666666666,\"#ed7953\"],[0.7777777777777778,\"#fb9f3a\"],[0.8888888888888888,\"#fdca26\"],[1.0,\"#f0f921\"]],\"type\":\"histogram2d\"}],\"histogram\":[{\"marker\":{\"pattern\":{\"fillmode\":\"overlay\",\"size\":10,\"solidity\":0.2}},\"type\":\"histogram\"}],\"mesh3d\":[{\"colorbar\":{\"outlinewidth\":0,\"ticks\":\"\"},\"type\":\"mesh3d\"}],\"parcoords\":[{\"line\":{\"colorbar\":{\"outlinewidth\":0,\"ticks\":\"\"}},\"type\":\"parcoords\"}],\"pie\":[{\"automargin\":true,\"type\":\"pie\"}],\"scatter3d\":[{\"line\":{\"colorbar\":{\"outlinewidth\":0,\"ticks\":\"\"}},\"marker\":{\"colorbar\":{\"outlinewidth\":0,\"ticks\":\"\"}},\"type\":\"scatter3d\"}],\"scattercarpet\":[{\"marker\":{\"colorbar\":{\"outlinewidth\":0,\"ticks\":\"\"}},\"type\":\"scattercarpet\"}],\"scattergeo\":[{\"marker\":{\"colorbar\":{\"outlinewidth\":0,\"ticks\":\"\"}},\"type\":\"scattergeo\"}],\"scattergl\":[{\"marker\":{\"colorbar\":{\"outlinewidth\":0,\"ticks\":\"\"}},\"type\":\"scattergl\"}],\"scattermapbox\":[{\"marker\":{\"colorbar\":{\"outlinewidth\":0,\"ticks\":\"\"}},\"type\":\"scattermapbox\"}],\"scatterpolargl\":[{\"marker\":{\"colorbar\":{\"outlinewidth\":0,\"ticks\":\"\"}},\"type\":\"scatterpolargl\"}],\"scatterpolar\":[{\"marker\":{\"colorbar\":{\"outlinewidth\":0,\"ticks\":\"\"}},\"type\":\"scatterpolar\"}],\"scatter\":[{\"fillpattern\":{\"fillmode\":\"overlay\",\"size\":10,\"solidity\":0.2},\"type\":\"scatter\"}],\"scatterternary\":[{\"marker\":{\"colorbar\":{\"outlinewidth\":0,\"ticks\":\"\"}},\"type\":\"scatterternary\"}],\"surface\":[{\"colorbar\":{\"outlinewidth\":0,\"ticks\":\"\"},\"colorscale\":[[0.0,\"#0d0887\"],[0.1111111111111111,\"#46039f\"],[0.2222222222222222,\"#7201a8\"],[0.3333333333333333,\"#9c179e\"],[0.4444444444444444,\"#bd3786\"],[0.5555555555555556,\"#d8576b\"],[0.6666666666666666,\"#ed7953\"],[0.7777777777777778,\"#fb9f3a\"],[0.8888888888888888,\"#fdca26\"],[1.0,\"#f0f921\"]],\"type\":\"surface\"}],\"table\":[{\"cells\":{\"fill\":{\"color\":\"#EBF0F8\"},\"line\":{\"color\":\"white\"}},\"header\":{\"fill\":{\"color\":\"#C8D4E3\"},\"line\":{\"color\":\"white\"}},\"type\":\"table\"}]},\"layout\":{\"annotationdefaults\":{\"arrowcolor\":\"#2a3f5f\",\"arrowhead\":0,\"arrowwidth\":1},\"autotypenumbers\":\"strict\",\"coloraxis\":{\"colorbar\":{\"outlinewidth\":0,\"ticks\":\"\"}},\"colorscale\":{\"diverging\":[[0,\"#8e0152\"],[0.1,\"#c51b7d\"],[0.2,\"#de77ae\"],[0.3,\"#f1b6da\"],[0.4,\"#fde0ef\"],[0.5,\"#f7f7f7\"],[0.6,\"#e6f5d0\"],[0.7,\"#b8e186\"],[0.8,\"#7fbc41\"],[0.9,\"#4d9221\"],[1,\"#276419\"]],\"sequential\":[[0.0,\"#0d0887\"],[0.1111111111111111,\"#46039f\"],[0.2222222222222222,\"#7201a8\"],[0.3333333333333333,\"#9c179e\"],[0.4444444444444444,\"#bd3786\"],[0.5555555555555556,\"#d8576b\"],[0.6666666666666666,\"#ed7953\"],[0.7777777777777778,\"#fb9f3a\"],[0.8888888888888888,\"#fdca26\"],[1.0,\"#f0f921\"]],\"sequentialminus\":[[0.0,\"#0d0887\"],[0.1111111111111111,\"#46039f\"],[0.2222222222222222,\"#7201a8\"],[0.3333333333333333,\"#9c179e\"],[0.4444444444444444,\"#bd3786\"],[0.5555555555555556,\"#d8576b\"],[0.6666666666666666,\"#ed7953\"],[0.7777777777777778,\"#fb9f3a\"],[0.8888888888888888,\"#fdca26\"],[1.0,\"#f0f921\"]]},\"colorway\":[\"#636efa\",\"#EF553B\",\"#00cc96\",\"#ab63fa\",\"#FFA15A\",\"#19d3f3\",\"#FF6692\",\"#B6E880\",\"#FF97FF\",\"#FECB52\"],\"font\":{\"color\":\"#2a3f5f\"},\"geo\":{\"bgcolor\":\"white\",\"lakecolor\":\"white\",\"landcolor\":\"#E5ECF6\",\"showlakes\":true,\"showland\":true,\"subunitcolor\":\"white\"},\"hoverlabel\":{\"align\":\"left\"},\"hovermode\":\"closest\",\"mapbox\":{\"style\":\"light\"},\"paper_bgcolor\":\"white\",\"plot_bgcolor\":\"#E5ECF6\",\"polar\":{\"angularaxis\":{\"gridcolor\":\"white\",\"linecolor\":\"white\",\"ticks\":\"\"},\"bgcolor\":\"#E5ECF6\",\"radialaxis\":{\"gridcolor\":\"white\",\"linecolor\":\"white\",\"ticks\":\"\"}},\"scene\":{\"xaxis\":{\"backgroundcolor\":\"#E5ECF6\",\"gridcolor\":\"white\",\"gridwidth\":2,\"linecolor\":\"white\",\"showbackground\":true,\"ticks\":\"\",\"zerolinecolor\":\"white\"},\"yaxis\":{\"backgroundcolor\":\"#E5ECF6\",\"gridcolor\":\"white\",\"gridwidth\":2,\"linecolor\":\"white\",\"showbackground\":true,\"ticks\":\"\",\"zerolinecolor\":\"white\"},\"zaxis\":{\"backgroundcolor\":\"#E5ECF6\",\"gridcolor\":\"white\",\"gridwidth\":2,\"linecolor\":\"white\",\"showbackground\":true,\"ticks\":\"\",\"zerolinecolor\":\"white\"}},\"shapedefaults\":{\"line\":{\"color\":\"#2a3f5f\"}},\"ternary\":{\"aaxis\":{\"gridcolor\":\"white\",\"linecolor\":\"white\",\"ticks\":\"\"},\"baxis\":{\"gridcolor\":\"white\",\"linecolor\":\"white\",\"ticks\":\"\"},\"bgcolor\":\"#E5ECF6\",\"caxis\":{\"gridcolor\":\"white\",\"linecolor\":\"white\",\"ticks\":\"\"}},\"title\":{\"x\":0.05},\"xaxis\":{\"automargin\":true,\"gridcolor\":\"white\",\"linecolor\":\"white\",\"ticks\":\"\",\"title\":{\"standoff\":15},\"zerolinecolor\":\"white\",\"zerolinewidth\":2},\"yaxis\":{\"automargin\":true,\"gridcolor\":\"white\",\"linecolor\":\"white\",\"ticks\":\"\",\"title\":{\"standoff\":15},\"zerolinecolor\":\"white\",\"zerolinewidth\":2}}},\"title\":{\"text\":\"Avg. relative accuracy across queries in workload\"},\"width\":1100,\"xaxis\":{\"anchor\":\"y\",\"domain\":[0.0,1.0],\"title\":{\"text\":\"workload_size\"}},\"yaxis\":{\"anchor\":\"x\",\"domain\":[0.0,1.0],\"title\":{\"text\":\"workload_idp_accuracy\"}}},                        {\"responsive\": true}                    ).then(function(){\n",
       "                            \n",
       "var gd = document.getElementById('f116c2cf-011f-49ac-8f3f-e26c27f34993');\n",
       "var x = new MutationObserver(function (mutations, observer) {{\n",
       "        var display = window.getComputedStyle(gd).display;\n",
       "        if (!display || display === 'none') {{\n",
       "            console.log([gd, 'removed!']);\n",
       "            Plotly.purge(gd);\n",
       "            observer.disconnect();\n",
       "        }}\n",
       "}});\n",
       "\n",
       "// Listen for the removal of the full notebook cells\n",
       "var notebookContainer = gd.closest('#notebook-container');\n",
       "if (notebookContainer) {{\n",
       "    x.observe(notebookContainer, {childList: true});\n",
       "}}\n",
       "\n",
       "// Listen for the clearing of the current output cell\n",
       "var outputEl = gd.closest('.output');\n",
       "if (outputEl) {{\n",
       "    x.observe(outputEl, {childList: true});\n",
       "}}\n",
       "\n",
       "                        })                };                });            </script>        </div>"
      ]
     },
     "metadata": {},
     "output_type": "display_data"
    },
    {
     "data": {
      "application/vnd.plotly.v1+json": {
       "config": {
        "linkText": "Export to plot.ly",
        "plotlyServerURL": "https://plot.ly",
        "showLink": false
       },
       "data": [
        {
         "hovertemplate": "baseline=ipa<br>destination=E3DDEB04F8AFF944B11943BB57D2F620<br>workload_size=%{x}<br>fraction_queries_without_idp_bias=%{y}<extra></extra>",
         "legendgroup": "ipa",
         "line": {
          "color": "#636efa",
          "dash": "solid"
         },
         "marker": {
          "symbol": "circle"
         },
         "mode": "lines+markers",
         "name": "ipa",
         "orientation": "v",
         "showlegend": true,
         "type": "scatter",
         "x": [
          1,
          5,
          10,
          15,
          20,
          25
         ],
         "xaxis": "x",
         "y": [
          1,
          1,
          1,
          1,
          0.95,
          0.8
         ],
         "yaxis": "y"
        },
        {
         "hovertemplate": "baseline=user_epoch_ara<br>destination=E3DDEB04F8AFF944B11943BB57D2F620<br>workload_size=%{x}<br>fraction_queries_without_idp_bias=%{y}<extra></extra>",
         "legendgroup": "user_epoch_ara",
         "line": {
          "color": "#EF553B",
          "dash": "solid"
         },
         "marker": {
          "symbol": "circle"
         },
         "mode": "lines+markers",
         "name": "user_epoch_ara",
         "orientation": "v",
         "showlegend": true,
         "type": "scatter",
         "x": [
          1,
          5,
          10,
          15,
          20,
          25
         ],
         "xaxis": "x",
         "y": [
          1,
          1,
          1,
          1,
          1,
          1
         ],
         "yaxis": "y"
        },
        {
         "hovertemplate": "baseline=cookiemonster<br>destination=E3DDEB04F8AFF944B11943BB57D2F620<br>workload_size=%{x}<br>fraction_queries_without_idp_bias=%{y}<extra></extra>",
         "legendgroup": "cookiemonster",
         "line": {
          "color": "#00cc96",
          "dash": "solid"
         },
         "marker": {
          "symbol": "circle"
         },
         "mode": "lines+markers",
         "name": "cookiemonster",
         "orientation": "v",
         "showlegend": true,
         "type": "scatter",
         "x": [
          1,
          5,
          10,
          15,
          20,
          25
         ],
         "xaxis": "x",
         "y": [
          1,
          1,
          1,
          1,
          1,
          1
         ],
         "yaxis": "y"
        }
       ],
       "layout": {
        "annotations": [
         {
          "showarrow": false,
          "text": "destination=E3DDEB04F8AFF944B11943BB57D2F620",
          "x": 0.5,
          "xanchor": "center",
          "xref": "paper",
          "y": 1,
          "yanchor": "bottom",
          "yref": "paper"
         }
        ],
        "height": 600,
        "legend": {
         "title": {
          "text": "baseline"
         },
         "tracegroupgap": 0
        },
        "template": {
         "data": {
          "bar": [
           {
            "error_x": {
             "color": "#2a3f5f"
            },
            "error_y": {
             "color": "#2a3f5f"
            },
            "marker": {
             "line": {
              "color": "#E5ECF6",
              "width": 0.5
             },
             "pattern": {
              "fillmode": "overlay",
              "size": 10,
              "solidity": 0.2
             }
            },
            "type": "bar"
           }
          ],
          "barpolar": [
           {
            "marker": {
             "line": {
              "color": "#E5ECF6",
              "width": 0.5
             },
             "pattern": {
              "fillmode": "overlay",
              "size": 10,
              "solidity": 0.2
             }
            },
            "type": "barpolar"
           }
          ],
          "carpet": [
           {
            "aaxis": {
             "endlinecolor": "#2a3f5f",
             "gridcolor": "white",
             "linecolor": "white",
             "minorgridcolor": "white",
             "startlinecolor": "#2a3f5f"
            },
            "baxis": {
             "endlinecolor": "#2a3f5f",
             "gridcolor": "white",
             "linecolor": "white",
             "minorgridcolor": "white",
             "startlinecolor": "#2a3f5f"
            },
            "type": "carpet"
           }
          ],
          "choropleth": [
           {
            "colorbar": {
             "outlinewidth": 0,
             "ticks": ""
            },
            "type": "choropleth"
           }
          ],
          "contour": [
           {
            "colorbar": {
             "outlinewidth": 0,
             "ticks": ""
            },
            "colorscale": [
             [
              0,
              "#0d0887"
             ],
             [
              0.1111111111111111,
              "#46039f"
             ],
             [
              0.2222222222222222,
              "#7201a8"
             ],
             [
              0.3333333333333333,
              "#9c179e"
             ],
             [
              0.4444444444444444,
              "#bd3786"
             ],
             [
              0.5555555555555556,
              "#d8576b"
             ],
             [
              0.6666666666666666,
              "#ed7953"
             ],
             [
              0.7777777777777778,
              "#fb9f3a"
             ],
             [
              0.8888888888888888,
              "#fdca26"
             ],
             [
              1,
              "#f0f921"
             ]
            ],
            "type": "contour"
           }
          ],
          "contourcarpet": [
           {
            "colorbar": {
             "outlinewidth": 0,
             "ticks": ""
            },
            "type": "contourcarpet"
           }
          ],
          "heatmap": [
           {
            "colorbar": {
             "outlinewidth": 0,
             "ticks": ""
            },
            "colorscale": [
             [
              0,
              "#0d0887"
             ],
             [
              0.1111111111111111,
              "#46039f"
             ],
             [
              0.2222222222222222,
              "#7201a8"
             ],
             [
              0.3333333333333333,
              "#9c179e"
             ],
             [
              0.4444444444444444,
              "#bd3786"
             ],
             [
              0.5555555555555556,
              "#d8576b"
             ],
             [
              0.6666666666666666,
              "#ed7953"
             ],
             [
              0.7777777777777778,
              "#fb9f3a"
             ],
             [
              0.8888888888888888,
              "#fdca26"
             ],
             [
              1,
              "#f0f921"
             ]
            ],
            "type": "heatmap"
           }
          ],
          "heatmapgl": [
           {
            "colorbar": {
             "outlinewidth": 0,
             "ticks": ""
            },
            "colorscale": [
             [
              0,
              "#0d0887"
             ],
             [
              0.1111111111111111,
              "#46039f"
             ],
             [
              0.2222222222222222,
              "#7201a8"
             ],
             [
              0.3333333333333333,
              "#9c179e"
             ],
             [
              0.4444444444444444,
              "#bd3786"
             ],
             [
              0.5555555555555556,
              "#d8576b"
             ],
             [
              0.6666666666666666,
              "#ed7953"
             ],
             [
              0.7777777777777778,
              "#fb9f3a"
             ],
             [
              0.8888888888888888,
              "#fdca26"
             ],
             [
              1,
              "#f0f921"
             ]
            ],
            "type": "heatmapgl"
           }
          ],
          "histogram": [
           {
            "marker": {
             "pattern": {
              "fillmode": "overlay",
              "size": 10,
              "solidity": 0.2
             }
            },
            "type": "histogram"
           }
          ],
          "histogram2d": [
           {
            "colorbar": {
             "outlinewidth": 0,
             "ticks": ""
            },
            "colorscale": [
             [
              0,
              "#0d0887"
             ],
             [
              0.1111111111111111,
              "#46039f"
             ],
             [
              0.2222222222222222,
              "#7201a8"
             ],
             [
              0.3333333333333333,
              "#9c179e"
             ],
             [
              0.4444444444444444,
              "#bd3786"
             ],
             [
              0.5555555555555556,
              "#d8576b"
             ],
             [
              0.6666666666666666,
              "#ed7953"
             ],
             [
              0.7777777777777778,
              "#fb9f3a"
             ],
             [
              0.8888888888888888,
              "#fdca26"
             ],
             [
              1,
              "#f0f921"
             ]
            ],
            "type": "histogram2d"
           }
          ],
          "histogram2dcontour": [
           {
            "colorbar": {
             "outlinewidth": 0,
             "ticks": ""
            },
            "colorscale": [
             [
              0,
              "#0d0887"
             ],
             [
              0.1111111111111111,
              "#46039f"
             ],
             [
              0.2222222222222222,
              "#7201a8"
             ],
             [
              0.3333333333333333,
              "#9c179e"
             ],
             [
              0.4444444444444444,
              "#bd3786"
             ],
             [
              0.5555555555555556,
              "#d8576b"
             ],
             [
              0.6666666666666666,
              "#ed7953"
             ],
             [
              0.7777777777777778,
              "#fb9f3a"
             ],
             [
              0.8888888888888888,
              "#fdca26"
             ],
             [
              1,
              "#f0f921"
             ]
            ],
            "type": "histogram2dcontour"
           }
          ],
          "mesh3d": [
           {
            "colorbar": {
             "outlinewidth": 0,
             "ticks": ""
            },
            "type": "mesh3d"
           }
          ],
          "parcoords": [
           {
            "line": {
             "colorbar": {
              "outlinewidth": 0,
              "ticks": ""
             }
            },
            "type": "parcoords"
           }
          ],
          "pie": [
           {
            "automargin": true,
            "type": "pie"
           }
          ],
          "scatter": [
           {
            "fillpattern": {
             "fillmode": "overlay",
             "size": 10,
             "solidity": 0.2
            },
            "type": "scatter"
           }
          ],
          "scatter3d": [
           {
            "line": {
             "colorbar": {
              "outlinewidth": 0,
              "ticks": ""
             }
            },
            "marker": {
             "colorbar": {
              "outlinewidth": 0,
              "ticks": ""
             }
            },
            "type": "scatter3d"
           }
          ],
          "scattercarpet": [
           {
            "marker": {
             "colorbar": {
              "outlinewidth": 0,
              "ticks": ""
             }
            },
            "type": "scattercarpet"
           }
          ],
          "scattergeo": [
           {
            "marker": {
             "colorbar": {
              "outlinewidth": 0,
              "ticks": ""
             }
            },
            "type": "scattergeo"
           }
          ],
          "scattergl": [
           {
            "marker": {
             "colorbar": {
              "outlinewidth": 0,
              "ticks": ""
             }
            },
            "type": "scattergl"
           }
          ],
          "scattermapbox": [
           {
            "marker": {
             "colorbar": {
              "outlinewidth": 0,
              "ticks": ""
             }
            },
            "type": "scattermapbox"
           }
          ],
          "scatterpolar": [
           {
            "marker": {
             "colorbar": {
              "outlinewidth": 0,
              "ticks": ""
             }
            },
            "type": "scatterpolar"
           }
          ],
          "scatterpolargl": [
           {
            "marker": {
             "colorbar": {
              "outlinewidth": 0,
              "ticks": ""
             }
            },
            "type": "scatterpolargl"
           }
          ],
          "scatterternary": [
           {
            "marker": {
             "colorbar": {
              "outlinewidth": 0,
              "ticks": ""
             }
            },
            "type": "scatterternary"
           }
          ],
          "surface": [
           {
            "colorbar": {
             "outlinewidth": 0,
             "ticks": ""
            },
            "colorscale": [
             [
              0,
              "#0d0887"
             ],
             [
              0.1111111111111111,
              "#46039f"
             ],
             [
              0.2222222222222222,
              "#7201a8"
             ],
             [
              0.3333333333333333,
              "#9c179e"
             ],
             [
              0.4444444444444444,
              "#bd3786"
             ],
             [
              0.5555555555555556,
              "#d8576b"
             ],
             [
              0.6666666666666666,
              "#ed7953"
             ],
             [
              0.7777777777777778,
              "#fb9f3a"
             ],
             [
              0.8888888888888888,
              "#fdca26"
             ],
             [
              1,
              "#f0f921"
             ]
            ],
            "type": "surface"
           }
          ],
          "table": [
           {
            "cells": {
             "fill": {
              "color": "#EBF0F8"
             },
             "line": {
              "color": "white"
             }
            },
            "header": {
             "fill": {
              "color": "#C8D4E3"
             },
             "line": {
              "color": "white"
             }
            },
            "type": "table"
           }
          ]
         },
         "layout": {
          "annotationdefaults": {
           "arrowcolor": "#2a3f5f",
           "arrowhead": 0,
           "arrowwidth": 1
          },
          "autotypenumbers": "strict",
          "coloraxis": {
           "colorbar": {
            "outlinewidth": 0,
            "ticks": ""
           }
          },
          "colorscale": {
           "diverging": [
            [
             0,
             "#8e0152"
            ],
            [
             0.1,
             "#c51b7d"
            ],
            [
             0.2,
             "#de77ae"
            ],
            [
             0.3,
             "#f1b6da"
            ],
            [
             0.4,
             "#fde0ef"
            ],
            [
             0.5,
             "#f7f7f7"
            ],
            [
             0.6,
             "#e6f5d0"
            ],
            [
             0.7,
             "#b8e186"
            ],
            [
             0.8,
             "#7fbc41"
            ],
            [
             0.9,
             "#4d9221"
            ],
            [
             1,
             "#276419"
            ]
           ],
           "sequential": [
            [
             0,
             "#0d0887"
            ],
            [
             0.1111111111111111,
             "#46039f"
            ],
            [
             0.2222222222222222,
             "#7201a8"
            ],
            [
             0.3333333333333333,
             "#9c179e"
            ],
            [
             0.4444444444444444,
             "#bd3786"
            ],
            [
             0.5555555555555556,
             "#d8576b"
            ],
            [
             0.6666666666666666,
             "#ed7953"
            ],
            [
             0.7777777777777778,
             "#fb9f3a"
            ],
            [
             0.8888888888888888,
             "#fdca26"
            ],
            [
             1,
             "#f0f921"
            ]
           ],
           "sequentialminus": [
            [
             0,
             "#0d0887"
            ],
            [
             0.1111111111111111,
             "#46039f"
            ],
            [
             0.2222222222222222,
             "#7201a8"
            ],
            [
             0.3333333333333333,
             "#9c179e"
            ],
            [
             0.4444444444444444,
             "#bd3786"
            ],
            [
             0.5555555555555556,
             "#d8576b"
            ],
            [
             0.6666666666666666,
             "#ed7953"
            ],
            [
             0.7777777777777778,
             "#fb9f3a"
            ],
            [
             0.8888888888888888,
             "#fdca26"
            ],
            [
             1,
             "#f0f921"
            ]
           ]
          },
          "colorway": [
           "#636efa",
           "#EF553B",
           "#00cc96",
           "#ab63fa",
           "#FFA15A",
           "#19d3f3",
           "#FF6692",
           "#B6E880",
           "#FF97FF",
           "#FECB52"
          ],
          "font": {
           "color": "#2a3f5f"
          },
          "geo": {
           "bgcolor": "white",
           "lakecolor": "white",
           "landcolor": "#E5ECF6",
           "showlakes": true,
           "showland": true,
           "subunitcolor": "white"
          },
          "hoverlabel": {
           "align": "left"
          },
          "hovermode": "closest",
          "mapbox": {
           "style": "light"
          },
          "paper_bgcolor": "white",
          "plot_bgcolor": "#E5ECF6",
          "polar": {
           "angularaxis": {
            "gridcolor": "white",
            "linecolor": "white",
            "ticks": ""
           },
           "bgcolor": "#E5ECF6",
           "radialaxis": {
            "gridcolor": "white",
            "linecolor": "white",
            "ticks": ""
           }
          },
          "scene": {
           "xaxis": {
            "backgroundcolor": "#E5ECF6",
            "gridcolor": "white",
            "gridwidth": 2,
            "linecolor": "white",
            "showbackground": true,
            "ticks": "",
            "zerolinecolor": "white"
           },
           "yaxis": {
            "backgroundcolor": "#E5ECF6",
            "gridcolor": "white",
            "gridwidth": 2,
            "linecolor": "white",
            "showbackground": true,
            "ticks": "",
            "zerolinecolor": "white"
           },
           "zaxis": {
            "backgroundcolor": "#E5ECF6",
            "gridcolor": "white",
            "gridwidth": 2,
            "linecolor": "white",
            "showbackground": true,
            "ticks": "",
            "zerolinecolor": "white"
           }
          },
          "shapedefaults": {
           "line": {
            "color": "#2a3f5f"
           }
          },
          "ternary": {
           "aaxis": {
            "gridcolor": "white",
            "linecolor": "white",
            "ticks": ""
           },
           "baxis": {
            "gridcolor": "white",
            "linecolor": "white",
            "ticks": ""
           },
           "bgcolor": "#E5ECF6",
           "caxis": {
            "gridcolor": "white",
            "linecolor": "white",
            "ticks": ""
           }
          },
          "title": {
           "x": 0.05
          },
          "xaxis": {
           "automargin": true,
           "gridcolor": "white",
           "linecolor": "white",
           "ticks": "",
           "title": {
            "standoff": 15
           },
           "zerolinecolor": "white",
           "zerolinewidth": 2
          },
          "yaxis": {
           "automargin": true,
           "gridcolor": "white",
           "linecolor": "white",
           "ticks": "",
           "title": {
            "standoff": 15
           },
           "zerolinecolor": "white",
           "zerolinewidth": 2
          }
         }
        },
        "title": {
         "text": "Fraction of queries reaching accuracy target"
        },
        "width": 1100,
        "xaxis": {
         "anchor": "y",
         "domain": [
          0,
          1
         ],
         "title": {
          "text": "workload_size"
         }
        },
        "yaxis": {
         "anchor": "x",
         "domain": [
          0,
          1
         ],
         "title": {
          "text": "fraction_queries_without_idp_bias"
         }
        }
       }
      },
      "text/html": [
       "<div>                            <div id=\"ba9670da-e589-4cec-9f67-c62f87172147\" class=\"plotly-graph-div\" style=\"height:600px; width:1100px;\"></div>            <script type=\"text/javascript\">                require([\"plotly\"], function(Plotly) {                    window.PLOTLYENV=window.PLOTLYENV || {};                                    if (document.getElementById(\"ba9670da-e589-4cec-9f67-c62f87172147\")) {                    Plotly.newPlot(                        \"ba9670da-e589-4cec-9f67-c62f87172147\",                        [{\"hovertemplate\":\"baseline=ipa\\u003cbr\\u003edestination=E3DDEB04F8AFF944B11943BB57D2F620\\u003cbr\\u003eworkload_size=%{x}\\u003cbr\\u003efraction_queries_without_idp_bias=%{y}\\u003cextra\\u003e\\u003c\\u002fextra\\u003e\",\"legendgroup\":\"ipa\",\"line\":{\"color\":\"#636efa\",\"dash\":\"solid\"},\"marker\":{\"symbol\":\"circle\"},\"mode\":\"lines+markers\",\"name\":\"ipa\",\"orientation\":\"v\",\"showlegend\":true,\"x\":[1,5,10,15,20,25],\"xaxis\":\"x\",\"y\":[1.0,1.0,1.0,1.0,0.95,0.8],\"yaxis\":\"y\",\"type\":\"scatter\"},{\"hovertemplate\":\"baseline=user_epoch_ara\\u003cbr\\u003edestination=E3DDEB04F8AFF944B11943BB57D2F620\\u003cbr\\u003eworkload_size=%{x}\\u003cbr\\u003efraction_queries_without_idp_bias=%{y}\\u003cextra\\u003e\\u003c\\u002fextra\\u003e\",\"legendgroup\":\"user_epoch_ara\",\"line\":{\"color\":\"#EF553B\",\"dash\":\"solid\"},\"marker\":{\"symbol\":\"circle\"},\"mode\":\"lines+markers\",\"name\":\"user_epoch_ara\",\"orientation\":\"v\",\"showlegend\":true,\"x\":[1,5,10,15,20,25],\"xaxis\":\"x\",\"y\":[1.0,1.0,1.0,1.0,1.0,1.0],\"yaxis\":\"y\",\"type\":\"scatter\"},{\"hovertemplate\":\"baseline=cookiemonster\\u003cbr\\u003edestination=E3DDEB04F8AFF944B11943BB57D2F620\\u003cbr\\u003eworkload_size=%{x}\\u003cbr\\u003efraction_queries_without_idp_bias=%{y}\\u003cextra\\u003e\\u003c\\u002fextra\\u003e\",\"legendgroup\":\"cookiemonster\",\"line\":{\"color\":\"#00cc96\",\"dash\":\"solid\"},\"marker\":{\"symbol\":\"circle\"},\"mode\":\"lines+markers\",\"name\":\"cookiemonster\",\"orientation\":\"v\",\"showlegend\":true,\"x\":[1,5,10,15,20,25],\"xaxis\":\"x\",\"y\":[1.0,1.0,1.0,1.0,1.0,1.0],\"yaxis\":\"y\",\"type\":\"scatter\"}],                        {\"annotations\":[{\"showarrow\":false,\"text\":\"destination=E3DDEB04F8AFF944B11943BB57D2F620\",\"x\":0.5,\"xanchor\":\"center\",\"xref\":\"paper\",\"y\":1.0,\"yanchor\":\"bottom\",\"yref\":\"paper\"}],\"height\":600,\"legend\":{\"title\":{\"text\":\"baseline\"},\"tracegroupgap\":0},\"template\":{\"data\":{\"barpolar\":[{\"marker\":{\"line\":{\"color\":\"#E5ECF6\",\"width\":0.5},\"pattern\":{\"fillmode\":\"overlay\",\"size\":10,\"solidity\":0.2}},\"type\":\"barpolar\"}],\"bar\":[{\"error_x\":{\"color\":\"#2a3f5f\"},\"error_y\":{\"color\":\"#2a3f5f\"},\"marker\":{\"line\":{\"color\":\"#E5ECF6\",\"width\":0.5},\"pattern\":{\"fillmode\":\"overlay\",\"size\":10,\"solidity\":0.2}},\"type\":\"bar\"}],\"carpet\":[{\"aaxis\":{\"endlinecolor\":\"#2a3f5f\",\"gridcolor\":\"white\",\"linecolor\":\"white\",\"minorgridcolor\":\"white\",\"startlinecolor\":\"#2a3f5f\"},\"baxis\":{\"endlinecolor\":\"#2a3f5f\",\"gridcolor\":\"white\",\"linecolor\":\"white\",\"minorgridcolor\":\"white\",\"startlinecolor\":\"#2a3f5f\"},\"type\":\"carpet\"}],\"choropleth\":[{\"colorbar\":{\"outlinewidth\":0,\"ticks\":\"\"},\"type\":\"choropleth\"}],\"contourcarpet\":[{\"colorbar\":{\"outlinewidth\":0,\"ticks\":\"\"},\"type\":\"contourcarpet\"}],\"contour\":[{\"colorbar\":{\"outlinewidth\":0,\"ticks\":\"\"},\"colorscale\":[[0.0,\"#0d0887\"],[0.1111111111111111,\"#46039f\"],[0.2222222222222222,\"#7201a8\"],[0.3333333333333333,\"#9c179e\"],[0.4444444444444444,\"#bd3786\"],[0.5555555555555556,\"#d8576b\"],[0.6666666666666666,\"#ed7953\"],[0.7777777777777778,\"#fb9f3a\"],[0.8888888888888888,\"#fdca26\"],[1.0,\"#f0f921\"]],\"type\":\"contour\"}],\"heatmapgl\":[{\"colorbar\":{\"outlinewidth\":0,\"ticks\":\"\"},\"colorscale\":[[0.0,\"#0d0887\"],[0.1111111111111111,\"#46039f\"],[0.2222222222222222,\"#7201a8\"],[0.3333333333333333,\"#9c179e\"],[0.4444444444444444,\"#bd3786\"],[0.5555555555555556,\"#d8576b\"],[0.6666666666666666,\"#ed7953\"],[0.7777777777777778,\"#fb9f3a\"],[0.8888888888888888,\"#fdca26\"],[1.0,\"#f0f921\"]],\"type\":\"heatmapgl\"}],\"heatmap\":[{\"colorbar\":{\"outlinewidth\":0,\"ticks\":\"\"},\"colorscale\":[[0.0,\"#0d0887\"],[0.1111111111111111,\"#46039f\"],[0.2222222222222222,\"#7201a8\"],[0.3333333333333333,\"#9c179e\"],[0.4444444444444444,\"#bd3786\"],[0.5555555555555556,\"#d8576b\"],[0.6666666666666666,\"#ed7953\"],[0.7777777777777778,\"#fb9f3a\"],[0.8888888888888888,\"#fdca26\"],[1.0,\"#f0f921\"]],\"type\":\"heatmap\"}],\"histogram2dcontour\":[{\"colorbar\":{\"outlinewidth\":0,\"ticks\":\"\"},\"colorscale\":[[0.0,\"#0d0887\"],[0.1111111111111111,\"#46039f\"],[0.2222222222222222,\"#7201a8\"],[0.3333333333333333,\"#9c179e\"],[0.4444444444444444,\"#bd3786\"],[0.5555555555555556,\"#d8576b\"],[0.6666666666666666,\"#ed7953\"],[0.7777777777777778,\"#fb9f3a\"],[0.8888888888888888,\"#fdca26\"],[1.0,\"#f0f921\"]],\"type\":\"histogram2dcontour\"}],\"histogram2d\":[{\"colorbar\":{\"outlinewidth\":0,\"ticks\":\"\"},\"colorscale\":[[0.0,\"#0d0887\"],[0.1111111111111111,\"#46039f\"],[0.2222222222222222,\"#7201a8\"],[0.3333333333333333,\"#9c179e\"],[0.4444444444444444,\"#bd3786\"],[0.5555555555555556,\"#d8576b\"],[0.6666666666666666,\"#ed7953\"],[0.7777777777777778,\"#fb9f3a\"],[0.8888888888888888,\"#fdca26\"],[1.0,\"#f0f921\"]],\"type\":\"histogram2d\"}],\"histogram\":[{\"marker\":{\"pattern\":{\"fillmode\":\"overlay\",\"size\":10,\"solidity\":0.2}},\"type\":\"histogram\"}],\"mesh3d\":[{\"colorbar\":{\"outlinewidth\":0,\"ticks\":\"\"},\"type\":\"mesh3d\"}],\"parcoords\":[{\"line\":{\"colorbar\":{\"outlinewidth\":0,\"ticks\":\"\"}},\"type\":\"parcoords\"}],\"pie\":[{\"automargin\":true,\"type\":\"pie\"}],\"scatter3d\":[{\"line\":{\"colorbar\":{\"outlinewidth\":0,\"ticks\":\"\"}},\"marker\":{\"colorbar\":{\"outlinewidth\":0,\"ticks\":\"\"}},\"type\":\"scatter3d\"}],\"scattercarpet\":[{\"marker\":{\"colorbar\":{\"outlinewidth\":0,\"ticks\":\"\"}},\"type\":\"scattercarpet\"}],\"scattergeo\":[{\"marker\":{\"colorbar\":{\"outlinewidth\":0,\"ticks\":\"\"}},\"type\":\"scattergeo\"}],\"scattergl\":[{\"marker\":{\"colorbar\":{\"outlinewidth\":0,\"ticks\":\"\"}},\"type\":\"scattergl\"}],\"scattermapbox\":[{\"marker\":{\"colorbar\":{\"outlinewidth\":0,\"ticks\":\"\"}},\"type\":\"scattermapbox\"}],\"scatterpolargl\":[{\"marker\":{\"colorbar\":{\"outlinewidth\":0,\"ticks\":\"\"}},\"type\":\"scatterpolargl\"}],\"scatterpolar\":[{\"marker\":{\"colorbar\":{\"outlinewidth\":0,\"ticks\":\"\"}},\"type\":\"scatterpolar\"}],\"scatter\":[{\"fillpattern\":{\"fillmode\":\"overlay\",\"size\":10,\"solidity\":0.2},\"type\":\"scatter\"}],\"scatterternary\":[{\"marker\":{\"colorbar\":{\"outlinewidth\":0,\"ticks\":\"\"}},\"type\":\"scatterternary\"}],\"surface\":[{\"colorbar\":{\"outlinewidth\":0,\"ticks\":\"\"},\"colorscale\":[[0.0,\"#0d0887\"],[0.1111111111111111,\"#46039f\"],[0.2222222222222222,\"#7201a8\"],[0.3333333333333333,\"#9c179e\"],[0.4444444444444444,\"#bd3786\"],[0.5555555555555556,\"#d8576b\"],[0.6666666666666666,\"#ed7953\"],[0.7777777777777778,\"#fb9f3a\"],[0.8888888888888888,\"#fdca26\"],[1.0,\"#f0f921\"]],\"type\":\"surface\"}],\"table\":[{\"cells\":{\"fill\":{\"color\":\"#EBF0F8\"},\"line\":{\"color\":\"white\"}},\"header\":{\"fill\":{\"color\":\"#C8D4E3\"},\"line\":{\"color\":\"white\"}},\"type\":\"table\"}]},\"layout\":{\"annotationdefaults\":{\"arrowcolor\":\"#2a3f5f\",\"arrowhead\":0,\"arrowwidth\":1},\"autotypenumbers\":\"strict\",\"coloraxis\":{\"colorbar\":{\"outlinewidth\":0,\"ticks\":\"\"}},\"colorscale\":{\"diverging\":[[0,\"#8e0152\"],[0.1,\"#c51b7d\"],[0.2,\"#de77ae\"],[0.3,\"#f1b6da\"],[0.4,\"#fde0ef\"],[0.5,\"#f7f7f7\"],[0.6,\"#e6f5d0\"],[0.7,\"#b8e186\"],[0.8,\"#7fbc41\"],[0.9,\"#4d9221\"],[1,\"#276419\"]],\"sequential\":[[0.0,\"#0d0887\"],[0.1111111111111111,\"#46039f\"],[0.2222222222222222,\"#7201a8\"],[0.3333333333333333,\"#9c179e\"],[0.4444444444444444,\"#bd3786\"],[0.5555555555555556,\"#d8576b\"],[0.6666666666666666,\"#ed7953\"],[0.7777777777777778,\"#fb9f3a\"],[0.8888888888888888,\"#fdca26\"],[1.0,\"#f0f921\"]],\"sequentialminus\":[[0.0,\"#0d0887\"],[0.1111111111111111,\"#46039f\"],[0.2222222222222222,\"#7201a8\"],[0.3333333333333333,\"#9c179e\"],[0.4444444444444444,\"#bd3786\"],[0.5555555555555556,\"#d8576b\"],[0.6666666666666666,\"#ed7953\"],[0.7777777777777778,\"#fb9f3a\"],[0.8888888888888888,\"#fdca26\"],[1.0,\"#f0f921\"]]},\"colorway\":[\"#636efa\",\"#EF553B\",\"#00cc96\",\"#ab63fa\",\"#FFA15A\",\"#19d3f3\",\"#FF6692\",\"#B6E880\",\"#FF97FF\",\"#FECB52\"],\"font\":{\"color\":\"#2a3f5f\"},\"geo\":{\"bgcolor\":\"white\",\"lakecolor\":\"white\",\"landcolor\":\"#E5ECF6\",\"showlakes\":true,\"showland\":true,\"subunitcolor\":\"white\"},\"hoverlabel\":{\"align\":\"left\"},\"hovermode\":\"closest\",\"mapbox\":{\"style\":\"light\"},\"paper_bgcolor\":\"white\",\"plot_bgcolor\":\"#E5ECF6\",\"polar\":{\"angularaxis\":{\"gridcolor\":\"white\",\"linecolor\":\"white\",\"ticks\":\"\"},\"bgcolor\":\"#E5ECF6\",\"radialaxis\":{\"gridcolor\":\"white\",\"linecolor\":\"white\",\"ticks\":\"\"}},\"scene\":{\"xaxis\":{\"backgroundcolor\":\"#E5ECF6\",\"gridcolor\":\"white\",\"gridwidth\":2,\"linecolor\":\"white\",\"showbackground\":true,\"ticks\":\"\",\"zerolinecolor\":\"white\"},\"yaxis\":{\"backgroundcolor\":\"#E5ECF6\",\"gridcolor\":\"white\",\"gridwidth\":2,\"linecolor\":\"white\",\"showbackground\":true,\"ticks\":\"\",\"zerolinecolor\":\"white\"},\"zaxis\":{\"backgroundcolor\":\"#E5ECF6\",\"gridcolor\":\"white\",\"gridwidth\":2,\"linecolor\":\"white\",\"showbackground\":true,\"ticks\":\"\",\"zerolinecolor\":\"white\"}},\"shapedefaults\":{\"line\":{\"color\":\"#2a3f5f\"}},\"ternary\":{\"aaxis\":{\"gridcolor\":\"white\",\"linecolor\":\"white\",\"ticks\":\"\"},\"baxis\":{\"gridcolor\":\"white\",\"linecolor\":\"white\",\"ticks\":\"\"},\"bgcolor\":\"#E5ECF6\",\"caxis\":{\"gridcolor\":\"white\",\"linecolor\":\"white\",\"ticks\":\"\"}},\"title\":{\"x\":0.05},\"xaxis\":{\"automargin\":true,\"gridcolor\":\"white\",\"linecolor\":\"white\",\"ticks\":\"\",\"title\":{\"standoff\":15},\"zerolinecolor\":\"white\",\"zerolinewidth\":2},\"yaxis\":{\"automargin\":true,\"gridcolor\":\"white\",\"linecolor\":\"white\",\"ticks\":\"\",\"title\":{\"standoff\":15},\"zerolinecolor\":\"white\",\"zerolinewidth\":2}}},\"title\":{\"text\":\"Fraction of queries reaching accuracy target\"},\"width\":1100,\"xaxis\":{\"anchor\":\"y\",\"domain\":[0.0,1.0],\"title\":{\"text\":\"workload_size\"}},\"yaxis\":{\"anchor\":\"x\",\"domain\":[0.0,1.0],\"title\":{\"text\":\"fraction_queries_without_idp_bias\"}}},                        {\"responsive\": true}                    ).then(function(){\n",
       "                            \n",
       "var gd = document.getElementById('ba9670da-e589-4cec-9f67-c62f87172147');\n",
       "var x = new MutationObserver(function (mutations, observer) {{\n",
       "        var display = window.getComputedStyle(gd).display;\n",
       "        if (!display || display === 'none') {{\n",
       "            console.log([gd, 'removed!']);\n",
       "            Plotly.purge(gd);\n",
       "            observer.disconnect();\n",
       "        }}\n",
       "}});\n",
       "\n",
       "// Listen for the removal of the full notebook cells\n",
       "var notebookContainer = gd.closest('#notebook-container');\n",
       "if (notebookContainer) {{\n",
       "    x.observe(notebookContainer, {childList: true});\n",
       "}}\n",
       "\n",
       "// Listen for the clearing of the current output cell\n",
       "var outputEl = gd.closest('.output');\n",
       "if (outputEl) {{\n",
       "    x.observe(outputEl, {childList: true});\n",
       "}}\n",
       "\n",
       "                        })                };                });            </script>        </div>"
      ]
     },
     "metadata": {},
     "output_type": "display_data"
    },
    {
     "data": {
      "application/vnd.plotly.v1+json": {
       "config": {
        "linkText": "Export to plot.ly",
        "plotlyServerURL": "https://plot.ly",
        "showLink": false
       },
       "data": [
        {
         "hovertemplate": "baseline=ipa<br>destination=E3DDEB04F8AFF944B11943BB57D2F620<br>workload_size=%{x}<br>workload_idp_accuracy=%{y}<extra></extra>",
         "legendgroup": "ipa",
         "line": {
          "color": "#636efa",
          "dash": "solid"
         },
         "marker": {
          "symbol": "circle"
         },
         "mode": "lines+markers",
         "name": "ipa",
         "orientation": "v",
         "showlegend": true,
         "type": "scatter",
         "x": [
          1,
          5,
          10,
          15,
          20,
          25
         ],
         "xaxis": "x",
         "y": [
          1,
          1,
          1,
          1,
          0.95,
          0.8
         ],
         "yaxis": "y"
        },
        {
         "hovertemplate": "baseline=user_epoch_ara<br>destination=E3DDEB04F8AFF944B11943BB57D2F620<br>workload_size=%{x}<br>workload_idp_accuracy=%{y}<extra></extra>",
         "legendgroup": "user_epoch_ara",
         "line": {
          "color": "#EF553B",
          "dash": "solid"
         },
         "marker": {
          "symbol": "circle"
         },
         "mode": "lines+markers",
         "name": "user_epoch_ara",
         "orientation": "v",
         "showlegend": true,
         "type": "scatter",
         "x": [
          1,
          5,
          10,
          15,
          20,
          25
         ],
         "xaxis": "x",
         "y": [
          1,
          1,
          1,
          1,
          1,
          1
         ],
         "yaxis": "y"
        },
        {
         "hovertemplate": "baseline=cookiemonster<br>destination=E3DDEB04F8AFF944B11943BB57D2F620<br>workload_size=%{x}<br>workload_idp_accuracy=%{y}<extra></extra>",
         "legendgroup": "cookiemonster",
         "line": {
          "color": "#00cc96",
          "dash": "solid"
         },
         "marker": {
          "symbol": "circle"
         },
         "mode": "lines+markers",
         "name": "cookiemonster",
         "orientation": "v",
         "showlegend": true,
         "type": "scatter",
         "x": [
          1,
          5,
          10,
          15,
          20,
          25
         ],
         "xaxis": "x",
         "y": [
          1,
          1,
          1,
          1,
          1,
          1
         ],
         "yaxis": "y"
        }
       ],
       "layout": {
        "annotations": [
         {
          "showarrow": false,
          "text": "destination=E3DDEB04F8AFF944B11943BB57D2F620",
          "x": 0.5,
          "xanchor": "center",
          "xref": "paper",
          "y": 1,
          "yanchor": "bottom",
          "yref": "paper"
         }
        ],
        "height": 600,
        "legend": {
         "title": {
          "text": "baseline"
         },
         "tracegroupgap": 0
        },
        "template": {
         "data": {
          "bar": [
           {
            "error_x": {
             "color": "#2a3f5f"
            },
            "error_y": {
             "color": "#2a3f5f"
            },
            "marker": {
             "line": {
              "color": "#E5ECF6",
              "width": 0.5
             },
             "pattern": {
              "fillmode": "overlay",
              "size": 10,
              "solidity": 0.2
             }
            },
            "type": "bar"
           }
          ],
          "barpolar": [
           {
            "marker": {
             "line": {
              "color": "#E5ECF6",
              "width": 0.5
             },
             "pattern": {
              "fillmode": "overlay",
              "size": 10,
              "solidity": 0.2
             }
            },
            "type": "barpolar"
           }
          ],
          "carpet": [
           {
            "aaxis": {
             "endlinecolor": "#2a3f5f",
             "gridcolor": "white",
             "linecolor": "white",
             "minorgridcolor": "white",
             "startlinecolor": "#2a3f5f"
            },
            "baxis": {
             "endlinecolor": "#2a3f5f",
             "gridcolor": "white",
             "linecolor": "white",
             "minorgridcolor": "white",
             "startlinecolor": "#2a3f5f"
            },
            "type": "carpet"
           }
          ],
          "choropleth": [
           {
            "colorbar": {
             "outlinewidth": 0,
             "ticks": ""
            },
            "type": "choropleth"
           }
          ],
          "contour": [
           {
            "colorbar": {
             "outlinewidth": 0,
             "ticks": ""
            },
            "colorscale": [
             [
              0,
              "#0d0887"
             ],
             [
              0.1111111111111111,
              "#46039f"
             ],
             [
              0.2222222222222222,
              "#7201a8"
             ],
             [
              0.3333333333333333,
              "#9c179e"
             ],
             [
              0.4444444444444444,
              "#bd3786"
             ],
             [
              0.5555555555555556,
              "#d8576b"
             ],
             [
              0.6666666666666666,
              "#ed7953"
             ],
             [
              0.7777777777777778,
              "#fb9f3a"
             ],
             [
              0.8888888888888888,
              "#fdca26"
             ],
             [
              1,
              "#f0f921"
             ]
            ],
            "type": "contour"
           }
          ],
          "contourcarpet": [
           {
            "colorbar": {
             "outlinewidth": 0,
             "ticks": ""
            },
            "type": "contourcarpet"
           }
          ],
          "heatmap": [
           {
            "colorbar": {
             "outlinewidth": 0,
             "ticks": ""
            },
            "colorscale": [
             [
              0,
              "#0d0887"
             ],
             [
              0.1111111111111111,
              "#46039f"
             ],
             [
              0.2222222222222222,
              "#7201a8"
             ],
             [
              0.3333333333333333,
              "#9c179e"
             ],
             [
              0.4444444444444444,
              "#bd3786"
             ],
             [
              0.5555555555555556,
              "#d8576b"
             ],
             [
              0.6666666666666666,
              "#ed7953"
             ],
             [
              0.7777777777777778,
              "#fb9f3a"
             ],
             [
              0.8888888888888888,
              "#fdca26"
             ],
             [
              1,
              "#f0f921"
             ]
            ],
            "type": "heatmap"
           }
          ],
          "heatmapgl": [
           {
            "colorbar": {
             "outlinewidth": 0,
             "ticks": ""
            },
            "colorscale": [
             [
              0,
              "#0d0887"
             ],
             [
              0.1111111111111111,
              "#46039f"
             ],
             [
              0.2222222222222222,
              "#7201a8"
             ],
             [
              0.3333333333333333,
              "#9c179e"
             ],
             [
              0.4444444444444444,
              "#bd3786"
             ],
             [
              0.5555555555555556,
              "#d8576b"
             ],
             [
              0.6666666666666666,
              "#ed7953"
             ],
             [
              0.7777777777777778,
              "#fb9f3a"
             ],
             [
              0.8888888888888888,
              "#fdca26"
             ],
             [
              1,
              "#f0f921"
             ]
            ],
            "type": "heatmapgl"
           }
          ],
          "histogram": [
           {
            "marker": {
             "pattern": {
              "fillmode": "overlay",
              "size": 10,
              "solidity": 0.2
             }
            },
            "type": "histogram"
           }
          ],
          "histogram2d": [
           {
            "colorbar": {
             "outlinewidth": 0,
             "ticks": ""
            },
            "colorscale": [
             [
              0,
              "#0d0887"
             ],
             [
              0.1111111111111111,
              "#46039f"
             ],
             [
              0.2222222222222222,
              "#7201a8"
             ],
             [
              0.3333333333333333,
              "#9c179e"
             ],
             [
              0.4444444444444444,
              "#bd3786"
             ],
             [
              0.5555555555555556,
              "#d8576b"
             ],
             [
              0.6666666666666666,
              "#ed7953"
             ],
             [
              0.7777777777777778,
              "#fb9f3a"
             ],
             [
              0.8888888888888888,
              "#fdca26"
             ],
             [
              1,
              "#f0f921"
             ]
            ],
            "type": "histogram2d"
           }
          ],
          "histogram2dcontour": [
           {
            "colorbar": {
             "outlinewidth": 0,
             "ticks": ""
            },
            "colorscale": [
             [
              0,
              "#0d0887"
             ],
             [
              0.1111111111111111,
              "#46039f"
             ],
             [
              0.2222222222222222,
              "#7201a8"
             ],
             [
              0.3333333333333333,
              "#9c179e"
             ],
             [
              0.4444444444444444,
              "#bd3786"
             ],
             [
              0.5555555555555556,
              "#d8576b"
             ],
             [
              0.6666666666666666,
              "#ed7953"
             ],
             [
              0.7777777777777778,
              "#fb9f3a"
             ],
             [
              0.8888888888888888,
              "#fdca26"
             ],
             [
              1,
              "#f0f921"
             ]
            ],
            "type": "histogram2dcontour"
           }
          ],
          "mesh3d": [
           {
            "colorbar": {
             "outlinewidth": 0,
             "ticks": ""
            },
            "type": "mesh3d"
           }
          ],
          "parcoords": [
           {
            "line": {
             "colorbar": {
              "outlinewidth": 0,
              "ticks": ""
             }
            },
            "type": "parcoords"
           }
          ],
          "pie": [
           {
            "automargin": true,
            "type": "pie"
           }
          ],
          "scatter": [
           {
            "fillpattern": {
             "fillmode": "overlay",
             "size": 10,
             "solidity": 0.2
            },
            "type": "scatter"
           }
          ],
          "scatter3d": [
           {
            "line": {
             "colorbar": {
              "outlinewidth": 0,
              "ticks": ""
             }
            },
            "marker": {
             "colorbar": {
              "outlinewidth": 0,
              "ticks": ""
             }
            },
            "type": "scatter3d"
           }
          ],
          "scattercarpet": [
           {
            "marker": {
             "colorbar": {
              "outlinewidth": 0,
              "ticks": ""
             }
            },
            "type": "scattercarpet"
           }
          ],
          "scattergeo": [
           {
            "marker": {
             "colorbar": {
              "outlinewidth": 0,
              "ticks": ""
             }
            },
            "type": "scattergeo"
           }
          ],
          "scattergl": [
           {
            "marker": {
             "colorbar": {
              "outlinewidth": 0,
              "ticks": ""
             }
            },
            "type": "scattergl"
           }
          ],
          "scattermapbox": [
           {
            "marker": {
             "colorbar": {
              "outlinewidth": 0,
              "ticks": ""
             }
            },
            "type": "scattermapbox"
           }
          ],
          "scatterpolar": [
           {
            "marker": {
             "colorbar": {
              "outlinewidth": 0,
              "ticks": ""
             }
            },
            "type": "scatterpolar"
           }
          ],
          "scatterpolargl": [
           {
            "marker": {
             "colorbar": {
              "outlinewidth": 0,
              "ticks": ""
             }
            },
            "type": "scatterpolargl"
           }
          ],
          "scatterternary": [
           {
            "marker": {
             "colorbar": {
              "outlinewidth": 0,
              "ticks": ""
             }
            },
            "type": "scatterternary"
           }
          ],
          "surface": [
           {
            "colorbar": {
             "outlinewidth": 0,
             "ticks": ""
            },
            "colorscale": [
             [
              0,
              "#0d0887"
             ],
             [
              0.1111111111111111,
              "#46039f"
             ],
             [
              0.2222222222222222,
              "#7201a8"
             ],
             [
              0.3333333333333333,
              "#9c179e"
             ],
             [
              0.4444444444444444,
              "#bd3786"
             ],
             [
              0.5555555555555556,
              "#d8576b"
             ],
             [
              0.6666666666666666,
              "#ed7953"
             ],
             [
              0.7777777777777778,
              "#fb9f3a"
             ],
             [
              0.8888888888888888,
              "#fdca26"
             ],
             [
              1,
              "#f0f921"
             ]
            ],
            "type": "surface"
           }
          ],
          "table": [
           {
            "cells": {
             "fill": {
              "color": "#EBF0F8"
             },
             "line": {
              "color": "white"
             }
            },
            "header": {
             "fill": {
              "color": "#C8D4E3"
             },
             "line": {
              "color": "white"
             }
            },
            "type": "table"
           }
          ]
         },
         "layout": {
          "annotationdefaults": {
           "arrowcolor": "#2a3f5f",
           "arrowhead": 0,
           "arrowwidth": 1
          },
          "autotypenumbers": "strict",
          "coloraxis": {
           "colorbar": {
            "outlinewidth": 0,
            "ticks": ""
           }
          },
          "colorscale": {
           "diverging": [
            [
             0,
             "#8e0152"
            ],
            [
             0.1,
             "#c51b7d"
            ],
            [
             0.2,
             "#de77ae"
            ],
            [
             0.3,
             "#f1b6da"
            ],
            [
             0.4,
             "#fde0ef"
            ],
            [
             0.5,
             "#f7f7f7"
            ],
            [
             0.6,
             "#e6f5d0"
            ],
            [
             0.7,
             "#b8e186"
            ],
            [
             0.8,
             "#7fbc41"
            ],
            [
             0.9,
             "#4d9221"
            ],
            [
             1,
             "#276419"
            ]
           ],
           "sequential": [
            [
             0,
             "#0d0887"
            ],
            [
             0.1111111111111111,
             "#46039f"
            ],
            [
             0.2222222222222222,
             "#7201a8"
            ],
            [
             0.3333333333333333,
             "#9c179e"
            ],
            [
             0.4444444444444444,
             "#bd3786"
            ],
            [
             0.5555555555555556,
             "#d8576b"
            ],
            [
             0.6666666666666666,
             "#ed7953"
            ],
            [
             0.7777777777777778,
             "#fb9f3a"
            ],
            [
             0.8888888888888888,
             "#fdca26"
            ],
            [
             1,
             "#f0f921"
            ]
           ],
           "sequentialminus": [
            [
             0,
             "#0d0887"
            ],
            [
             0.1111111111111111,
             "#46039f"
            ],
            [
             0.2222222222222222,
             "#7201a8"
            ],
            [
             0.3333333333333333,
             "#9c179e"
            ],
            [
             0.4444444444444444,
             "#bd3786"
            ],
            [
             0.5555555555555556,
             "#d8576b"
            ],
            [
             0.6666666666666666,
             "#ed7953"
            ],
            [
             0.7777777777777778,
             "#fb9f3a"
            ],
            [
             0.8888888888888888,
             "#fdca26"
            ],
            [
             1,
             "#f0f921"
            ]
           ]
          },
          "colorway": [
           "#636efa",
           "#EF553B",
           "#00cc96",
           "#ab63fa",
           "#FFA15A",
           "#19d3f3",
           "#FF6692",
           "#B6E880",
           "#FF97FF",
           "#FECB52"
          ],
          "font": {
           "color": "#2a3f5f"
          },
          "geo": {
           "bgcolor": "white",
           "lakecolor": "white",
           "landcolor": "#E5ECF6",
           "showlakes": true,
           "showland": true,
           "subunitcolor": "white"
          },
          "hoverlabel": {
           "align": "left"
          },
          "hovermode": "closest",
          "mapbox": {
           "style": "light"
          },
          "paper_bgcolor": "white",
          "plot_bgcolor": "#E5ECF6",
          "polar": {
           "angularaxis": {
            "gridcolor": "white",
            "linecolor": "white",
            "ticks": ""
           },
           "bgcolor": "#E5ECF6",
           "radialaxis": {
            "gridcolor": "white",
            "linecolor": "white",
            "ticks": ""
           }
          },
          "scene": {
           "xaxis": {
            "backgroundcolor": "#E5ECF6",
            "gridcolor": "white",
            "gridwidth": 2,
            "linecolor": "white",
            "showbackground": true,
            "ticks": "",
            "zerolinecolor": "white"
           },
           "yaxis": {
            "backgroundcolor": "#E5ECF6",
            "gridcolor": "white",
            "gridwidth": 2,
            "linecolor": "white",
            "showbackground": true,
            "ticks": "",
            "zerolinecolor": "white"
           },
           "zaxis": {
            "backgroundcolor": "#E5ECF6",
            "gridcolor": "white",
            "gridwidth": 2,
            "linecolor": "white",
            "showbackground": true,
            "ticks": "",
            "zerolinecolor": "white"
           }
          },
          "shapedefaults": {
           "line": {
            "color": "#2a3f5f"
           }
          },
          "ternary": {
           "aaxis": {
            "gridcolor": "white",
            "linecolor": "white",
            "ticks": ""
           },
           "baxis": {
            "gridcolor": "white",
            "linecolor": "white",
            "ticks": ""
           },
           "bgcolor": "#E5ECF6",
           "caxis": {
            "gridcolor": "white",
            "linecolor": "white",
            "ticks": ""
           }
          },
          "title": {
           "x": 0.05
          },
          "xaxis": {
           "automargin": true,
           "gridcolor": "white",
           "linecolor": "white",
           "ticks": "",
           "title": {
            "standoff": 15
           },
           "zerolinecolor": "white",
           "zerolinewidth": 2
          },
          "yaxis": {
           "automargin": true,
           "gridcolor": "white",
           "linecolor": "white",
           "ticks": "",
           "title": {
            "standoff": 15
           },
           "zerolinecolor": "white",
           "zerolinewidth": 2
          }
         }
        },
        "title": {
         "text": "Avg. relative accuracy across queries in workload"
        },
        "width": 1100,
        "xaxis": {
         "anchor": "y",
         "domain": [
          0,
          1
         ],
         "title": {
          "text": "workload_size"
         }
        },
        "yaxis": {
         "anchor": "x",
         "domain": [
          0,
          1
         ],
         "title": {
          "text": "workload_idp_accuracy"
         }
        }
       }
      },
      "text/html": [
       "<div>                            <div id=\"5b4a77b6-4f33-4248-94a2-412291d513de\" class=\"plotly-graph-div\" style=\"height:600px; width:1100px;\"></div>            <script type=\"text/javascript\">                require([\"plotly\"], function(Plotly) {                    window.PLOTLYENV=window.PLOTLYENV || {};                                    if (document.getElementById(\"5b4a77b6-4f33-4248-94a2-412291d513de\")) {                    Plotly.newPlot(                        \"5b4a77b6-4f33-4248-94a2-412291d513de\",                        [{\"hovertemplate\":\"baseline=ipa\\u003cbr\\u003edestination=E3DDEB04F8AFF944B11943BB57D2F620\\u003cbr\\u003eworkload_size=%{x}\\u003cbr\\u003eworkload_idp_accuracy=%{y}\\u003cextra\\u003e\\u003c\\u002fextra\\u003e\",\"legendgroup\":\"ipa\",\"line\":{\"color\":\"#636efa\",\"dash\":\"solid\"},\"marker\":{\"symbol\":\"circle\"},\"mode\":\"lines+markers\",\"name\":\"ipa\",\"orientation\":\"v\",\"showlegend\":true,\"x\":[1,5,10,15,20,25],\"xaxis\":\"x\",\"y\":[1.0,1.0,1.0,1.0,0.95,0.8],\"yaxis\":\"y\",\"type\":\"scatter\"},{\"hovertemplate\":\"baseline=user_epoch_ara\\u003cbr\\u003edestination=E3DDEB04F8AFF944B11943BB57D2F620\\u003cbr\\u003eworkload_size=%{x}\\u003cbr\\u003eworkload_idp_accuracy=%{y}\\u003cextra\\u003e\\u003c\\u002fextra\\u003e\",\"legendgroup\":\"user_epoch_ara\",\"line\":{\"color\":\"#EF553B\",\"dash\":\"solid\"},\"marker\":{\"symbol\":\"circle\"},\"mode\":\"lines+markers\",\"name\":\"user_epoch_ara\",\"orientation\":\"v\",\"showlegend\":true,\"x\":[1,5,10,15,20,25],\"xaxis\":\"x\",\"y\":[1.0,1.0,1.0,1.0,1.0,1.0],\"yaxis\":\"y\",\"type\":\"scatter\"},{\"hovertemplate\":\"baseline=cookiemonster\\u003cbr\\u003edestination=E3DDEB04F8AFF944B11943BB57D2F620\\u003cbr\\u003eworkload_size=%{x}\\u003cbr\\u003eworkload_idp_accuracy=%{y}\\u003cextra\\u003e\\u003c\\u002fextra\\u003e\",\"legendgroup\":\"cookiemonster\",\"line\":{\"color\":\"#00cc96\",\"dash\":\"solid\"},\"marker\":{\"symbol\":\"circle\"},\"mode\":\"lines+markers\",\"name\":\"cookiemonster\",\"orientation\":\"v\",\"showlegend\":true,\"x\":[1,5,10,15,20,25],\"xaxis\":\"x\",\"y\":[1.0,1.0,1.0,1.0,1.0,1.0],\"yaxis\":\"y\",\"type\":\"scatter\"}],                        {\"annotations\":[{\"showarrow\":false,\"text\":\"destination=E3DDEB04F8AFF944B11943BB57D2F620\",\"x\":0.5,\"xanchor\":\"center\",\"xref\":\"paper\",\"y\":1.0,\"yanchor\":\"bottom\",\"yref\":\"paper\"}],\"height\":600,\"legend\":{\"title\":{\"text\":\"baseline\"},\"tracegroupgap\":0},\"template\":{\"data\":{\"barpolar\":[{\"marker\":{\"line\":{\"color\":\"#E5ECF6\",\"width\":0.5},\"pattern\":{\"fillmode\":\"overlay\",\"size\":10,\"solidity\":0.2}},\"type\":\"barpolar\"}],\"bar\":[{\"error_x\":{\"color\":\"#2a3f5f\"},\"error_y\":{\"color\":\"#2a3f5f\"},\"marker\":{\"line\":{\"color\":\"#E5ECF6\",\"width\":0.5},\"pattern\":{\"fillmode\":\"overlay\",\"size\":10,\"solidity\":0.2}},\"type\":\"bar\"}],\"carpet\":[{\"aaxis\":{\"endlinecolor\":\"#2a3f5f\",\"gridcolor\":\"white\",\"linecolor\":\"white\",\"minorgridcolor\":\"white\",\"startlinecolor\":\"#2a3f5f\"},\"baxis\":{\"endlinecolor\":\"#2a3f5f\",\"gridcolor\":\"white\",\"linecolor\":\"white\",\"minorgridcolor\":\"white\",\"startlinecolor\":\"#2a3f5f\"},\"type\":\"carpet\"}],\"choropleth\":[{\"colorbar\":{\"outlinewidth\":0,\"ticks\":\"\"},\"type\":\"choropleth\"}],\"contourcarpet\":[{\"colorbar\":{\"outlinewidth\":0,\"ticks\":\"\"},\"type\":\"contourcarpet\"}],\"contour\":[{\"colorbar\":{\"outlinewidth\":0,\"ticks\":\"\"},\"colorscale\":[[0.0,\"#0d0887\"],[0.1111111111111111,\"#46039f\"],[0.2222222222222222,\"#7201a8\"],[0.3333333333333333,\"#9c179e\"],[0.4444444444444444,\"#bd3786\"],[0.5555555555555556,\"#d8576b\"],[0.6666666666666666,\"#ed7953\"],[0.7777777777777778,\"#fb9f3a\"],[0.8888888888888888,\"#fdca26\"],[1.0,\"#f0f921\"]],\"type\":\"contour\"}],\"heatmapgl\":[{\"colorbar\":{\"outlinewidth\":0,\"ticks\":\"\"},\"colorscale\":[[0.0,\"#0d0887\"],[0.1111111111111111,\"#46039f\"],[0.2222222222222222,\"#7201a8\"],[0.3333333333333333,\"#9c179e\"],[0.4444444444444444,\"#bd3786\"],[0.5555555555555556,\"#d8576b\"],[0.6666666666666666,\"#ed7953\"],[0.7777777777777778,\"#fb9f3a\"],[0.8888888888888888,\"#fdca26\"],[1.0,\"#f0f921\"]],\"type\":\"heatmapgl\"}],\"heatmap\":[{\"colorbar\":{\"outlinewidth\":0,\"ticks\":\"\"},\"colorscale\":[[0.0,\"#0d0887\"],[0.1111111111111111,\"#46039f\"],[0.2222222222222222,\"#7201a8\"],[0.3333333333333333,\"#9c179e\"],[0.4444444444444444,\"#bd3786\"],[0.5555555555555556,\"#d8576b\"],[0.6666666666666666,\"#ed7953\"],[0.7777777777777778,\"#fb9f3a\"],[0.8888888888888888,\"#fdca26\"],[1.0,\"#f0f921\"]],\"type\":\"heatmap\"}],\"histogram2dcontour\":[{\"colorbar\":{\"outlinewidth\":0,\"ticks\":\"\"},\"colorscale\":[[0.0,\"#0d0887\"],[0.1111111111111111,\"#46039f\"],[0.2222222222222222,\"#7201a8\"],[0.3333333333333333,\"#9c179e\"],[0.4444444444444444,\"#bd3786\"],[0.5555555555555556,\"#d8576b\"],[0.6666666666666666,\"#ed7953\"],[0.7777777777777778,\"#fb9f3a\"],[0.8888888888888888,\"#fdca26\"],[1.0,\"#f0f921\"]],\"type\":\"histogram2dcontour\"}],\"histogram2d\":[{\"colorbar\":{\"outlinewidth\":0,\"ticks\":\"\"},\"colorscale\":[[0.0,\"#0d0887\"],[0.1111111111111111,\"#46039f\"],[0.2222222222222222,\"#7201a8\"],[0.3333333333333333,\"#9c179e\"],[0.4444444444444444,\"#bd3786\"],[0.5555555555555556,\"#d8576b\"],[0.6666666666666666,\"#ed7953\"],[0.7777777777777778,\"#fb9f3a\"],[0.8888888888888888,\"#fdca26\"],[1.0,\"#f0f921\"]],\"type\":\"histogram2d\"}],\"histogram\":[{\"marker\":{\"pattern\":{\"fillmode\":\"overlay\",\"size\":10,\"solidity\":0.2}},\"type\":\"histogram\"}],\"mesh3d\":[{\"colorbar\":{\"outlinewidth\":0,\"ticks\":\"\"},\"type\":\"mesh3d\"}],\"parcoords\":[{\"line\":{\"colorbar\":{\"outlinewidth\":0,\"ticks\":\"\"}},\"type\":\"parcoords\"}],\"pie\":[{\"automargin\":true,\"type\":\"pie\"}],\"scatter3d\":[{\"line\":{\"colorbar\":{\"outlinewidth\":0,\"ticks\":\"\"}},\"marker\":{\"colorbar\":{\"outlinewidth\":0,\"ticks\":\"\"}},\"type\":\"scatter3d\"}],\"scattercarpet\":[{\"marker\":{\"colorbar\":{\"outlinewidth\":0,\"ticks\":\"\"}},\"type\":\"scattercarpet\"}],\"scattergeo\":[{\"marker\":{\"colorbar\":{\"outlinewidth\":0,\"ticks\":\"\"}},\"type\":\"scattergeo\"}],\"scattergl\":[{\"marker\":{\"colorbar\":{\"outlinewidth\":0,\"ticks\":\"\"}},\"type\":\"scattergl\"}],\"scattermapbox\":[{\"marker\":{\"colorbar\":{\"outlinewidth\":0,\"ticks\":\"\"}},\"type\":\"scattermapbox\"}],\"scatterpolargl\":[{\"marker\":{\"colorbar\":{\"outlinewidth\":0,\"ticks\":\"\"}},\"type\":\"scatterpolargl\"}],\"scatterpolar\":[{\"marker\":{\"colorbar\":{\"outlinewidth\":0,\"ticks\":\"\"}},\"type\":\"scatterpolar\"}],\"scatter\":[{\"fillpattern\":{\"fillmode\":\"overlay\",\"size\":10,\"solidity\":0.2},\"type\":\"scatter\"}],\"scatterternary\":[{\"marker\":{\"colorbar\":{\"outlinewidth\":0,\"ticks\":\"\"}},\"type\":\"scatterternary\"}],\"surface\":[{\"colorbar\":{\"outlinewidth\":0,\"ticks\":\"\"},\"colorscale\":[[0.0,\"#0d0887\"],[0.1111111111111111,\"#46039f\"],[0.2222222222222222,\"#7201a8\"],[0.3333333333333333,\"#9c179e\"],[0.4444444444444444,\"#bd3786\"],[0.5555555555555556,\"#d8576b\"],[0.6666666666666666,\"#ed7953\"],[0.7777777777777778,\"#fb9f3a\"],[0.8888888888888888,\"#fdca26\"],[1.0,\"#f0f921\"]],\"type\":\"surface\"}],\"table\":[{\"cells\":{\"fill\":{\"color\":\"#EBF0F8\"},\"line\":{\"color\":\"white\"}},\"header\":{\"fill\":{\"color\":\"#C8D4E3\"},\"line\":{\"color\":\"white\"}},\"type\":\"table\"}]},\"layout\":{\"annotationdefaults\":{\"arrowcolor\":\"#2a3f5f\",\"arrowhead\":0,\"arrowwidth\":1},\"autotypenumbers\":\"strict\",\"coloraxis\":{\"colorbar\":{\"outlinewidth\":0,\"ticks\":\"\"}},\"colorscale\":{\"diverging\":[[0,\"#8e0152\"],[0.1,\"#c51b7d\"],[0.2,\"#de77ae\"],[0.3,\"#f1b6da\"],[0.4,\"#fde0ef\"],[0.5,\"#f7f7f7\"],[0.6,\"#e6f5d0\"],[0.7,\"#b8e186\"],[0.8,\"#7fbc41\"],[0.9,\"#4d9221\"],[1,\"#276419\"]],\"sequential\":[[0.0,\"#0d0887\"],[0.1111111111111111,\"#46039f\"],[0.2222222222222222,\"#7201a8\"],[0.3333333333333333,\"#9c179e\"],[0.4444444444444444,\"#bd3786\"],[0.5555555555555556,\"#d8576b\"],[0.6666666666666666,\"#ed7953\"],[0.7777777777777778,\"#fb9f3a\"],[0.8888888888888888,\"#fdca26\"],[1.0,\"#f0f921\"]],\"sequentialminus\":[[0.0,\"#0d0887\"],[0.1111111111111111,\"#46039f\"],[0.2222222222222222,\"#7201a8\"],[0.3333333333333333,\"#9c179e\"],[0.4444444444444444,\"#bd3786\"],[0.5555555555555556,\"#d8576b\"],[0.6666666666666666,\"#ed7953\"],[0.7777777777777778,\"#fb9f3a\"],[0.8888888888888888,\"#fdca26\"],[1.0,\"#f0f921\"]]},\"colorway\":[\"#636efa\",\"#EF553B\",\"#00cc96\",\"#ab63fa\",\"#FFA15A\",\"#19d3f3\",\"#FF6692\",\"#B6E880\",\"#FF97FF\",\"#FECB52\"],\"font\":{\"color\":\"#2a3f5f\"},\"geo\":{\"bgcolor\":\"white\",\"lakecolor\":\"white\",\"landcolor\":\"#E5ECF6\",\"showlakes\":true,\"showland\":true,\"subunitcolor\":\"white\"},\"hoverlabel\":{\"align\":\"left\"},\"hovermode\":\"closest\",\"mapbox\":{\"style\":\"light\"},\"paper_bgcolor\":\"white\",\"plot_bgcolor\":\"#E5ECF6\",\"polar\":{\"angularaxis\":{\"gridcolor\":\"white\",\"linecolor\":\"white\",\"ticks\":\"\"},\"bgcolor\":\"#E5ECF6\",\"radialaxis\":{\"gridcolor\":\"white\",\"linecolor\":\"white\",\"ticks\":\"\"}},\"scene\":{\"xaxis\":{\"backgroundcolor\":\"#E5ECF6\",\"gridcolor\":\"white\",\"gridwidth\":2,\"linecolor\":\"white\",\"showbackground\":true,\"ticks\":\"\",\"zerolinecolor\":\"white\"},\"yaxis\":{\"backgroundcolor\":\"#E5ECF6\",\"gridcolor\":\"white\",\"gridwidth\":2,\"linecolor\":\"white\",\"showbackground\":true,\"ticks\":\"\",\"zerolinecolor\":\"white\"},\"zaxis\":{\"backgroundcolor\":\"#E5ECF6\",\"gridcolor\":\"white\",\"gridwidth\":2,\"linecolor\":\"white\",\"showbackground\":true,\"ticks\":\"\",\"zerolinecolor\":\"white\"}},\"shapedefaults\":{\"line\":{\"color\":\"#2a3f5f\"}},\"ternary\":{\"aaxis\":{\"gridcolor\":\"white\",\"linecolor\":\"white\",\"ticks\":\"\"},\"baxis\":{\"gridcolor\":\"white\",\"linecolor\":\"white\",\"ticks\":\"\"},\"bgcolor\":\"#E5ECF6\",\"caxis\":{\"gridcolor\":\"white\",\"linecolor\":\"white\",\"ticks\":\"\"}},\"title\":{\"x\":0.05},\"xaxis\":{\"automargin\":true,\"gridcolor\":\"white\",\"linecolor\":\"white\",\"ticks\":\"\",\"title\":{\"standoff\":15},\"zerolinecolor\":\"white\",\"zerolinewidth\":2},\"yaxis\":{\"automargin\":true,\"gridcolor\":\"white\",\"linecolor\":\"white\",\"ticks\":\"\",\"title\":{\"standoff\":15},\"zerolinecolor\":\"white\",\"zerolinewidth\":2}}},\"title\":{\"text\":\"Avg. relative accuracy across queries in workload\"},\"width\":1100,\"xaxis\":{\"anchor\":\"y\",\"domain\":[0.0,1.0],\"title\":{\"text\":\"workload_size\"}},\"yaxis\":{\"anchor\":\"x\",\"domain\":[0.0,1.0],\"title\":{\"text\":\"workload_idp_accuracy\"}}},                        {\"responsive\": true}                    ).then(function(){\n",
       "                            \n",
       "var gd = document.getElementById('5b4a77b6-4f33-4248-94a2-412291d513de');\n",
       "var x = new MutationObserver(function (mutations, observer) {{\n",
       "        var display = window.getComputedStyle(gd).display;\n",
       "        if (!display || display === 'none') {{\n",
       "            console.log([gd, 'removed!']);\n",
       "            Plotly.purge(gd);\n",
       "            observer.disconnect();\n",
       "        }}\n",
       "}});\n",
       "\n",
       "// Listen for the removal of the full notebook cells\n",
       "var notebookContainer = gd.closest('#notebook-container');\n",
       "if (notebookContainer) {{\n",
       "    x.observe(notebookContainer, {childList: true});\n",
       "}}\n",
       "\n",
       "// Listen for the clearing of the current output cell\n",
       "var outputEl = gd.closest('.output');\n",
       "if (outputEl) {{\n",
       "    x.observe(outputEl, {childList: true});\n",
       "}}\n",
       "\n",
       "                        })                };                });            </script>        </div>"
      ]
     },
     "metadata": {},
     "output_type": "display_data"
    },
    {
     "data": {
      "application/vnd.plotly.v1+json": {
       "config": {
        "linkText": "Export to plot.ly",
        "plotlyServerURL": "https://plot.ly",
        "showLink": false
       },
       "data": [
        {
         "hovertemplate": "baseline=ipa<br>destination=F122B91F6D102E4630817566839A4F1F<br>workload_size=%{x}<br>fraction_queries_without_idp_bias=%{y}<extra></extra>",
         "legendgroup": "ipa",
         "line": {
          "color": "#636efa",
          "dash": "solid"
         },
         "marker": {
          "symbol": "circle"
         },
         "mode": "lines+markers",
         "name": "ipa",
         "orientation": "v",
         "showlegend": true,
         "type": "scatter",
         "x": [
          1,
          5,
          10,
          15,
          20,
          25
         ],
         "xaxis": "x",
         "y": [
          1,
          1,
          0.8,
          0.6,
          0.45,
          0.4
         ],
         "yaxis": "y"
        },
        {
         "hovertemplate": "baseline=user_epoch_ara<br>destination=F122B91F6D102E4630817566839A4F1F<br>workload_size=%{x}<br>fraction_queries_without_idp_bias=%{y}<extra></extra>",
         "legendgroup": "user_epoch_ara",
         "line": {
          "color": "#EF553B",
          "dash": "solid"
         },
         "marker": {
          "symbol": "circle"
         },
         "mode": "lines+markers",
         "name": "user_epoch_ara",
         "orientation": "v",
         "showlegend": true,
         "type": "scatter",
         "x": [
          1,
          5,
          10,
          15,
          20,
          25
         ],
         "xaxis": "x",
         "y": [
          1,
          1,
          1,
          0.9333333333333333,
          0.9,
          0.76
         ],
         "yaxis": "y"
        },
        {
         "hovertemplate": "baseline=cookiemonster<br>destination=F122B91F6D102E4630817566839A4F1F<br>workload_size=%{x}<br>fraction_queries_without_idp_bias=%{y}<extra></extra>",
         "legendgroup": "cookiemonster",
         "line": {
          "color": "#00cc96",
          "dash": "solid"
         },
         "marker": {
          "symbol": "circle"
         },
         "mode": "lines+markers",
         "name": "cookiemonster",
         "orientation": "v",
         "showlegend": true,
         "type": "scatter",
         "x": [
          1,
          5,
          10,
          15,
          20,
          25
         ],
         "xaxis": "x",
         "y": [
          1,
          1,
          1,
          0.9333333333333333,
          0.95,
          0.92
         ],
         "yaxis": "y"
        }
       ],
       "layout": {
        "annotations": [
         {
          "showarrow": false,
          "text": "destination=F122B91F6D102E4630817566839A4F1F",
          "x": 0.5,
          "xanchor": "center",
          "xref": "paper",
          "y": 1,
          "yanchor": "bottom",
          "yref": "paper"
         }
        ],
        "height": 600,
        "legend": {
         "title": {
          "text": "baseline"
         },
         "tracegroupgap": 0
        },
        "template": {
         "data": {
          "bar": [
           {
            "error_x": {
             "color": "#2a3f5f"
            },
            "error_y": {
             "color": "#2a3f5f"
            },
            "marker": {
             "line": {
              "color": "#E5ECF6",
              "width": 0.5
             },
             "pattern": {
              "fillmode": "overlay",
              "size": 10,
              "solidity": 0.2
             }
            },
            "type": "bar"
           }
          ],
          "barpolar": [
           {
            "marker": {
             "line": {
              "color": "#E5ECF6",
              "width": 0.5
             },
             "pattern": {
              "fillmode": "overlay",
              "size": 10,
              "solidity": 0.2
             }
            },
            "type": "barpolar"
           }
          ],
          "carpet": [
           {
            "aaxis": {
             "endlinecolor": "#2a3f5f",
             "gridcolor": "white",
             "linecolor": "white",
             "minorgridcolor": "white",
             "startlinecolor": "#2a3f5f"
            },
            "baxis": {
             "endlinecolor": "#2a3f5f",
             "gridcolor": "white",
             "linecolor": "white",
             "minorgridcolor": "white",
             "startlinecolor": "#2a3f5f"
            },
            "type": "carpet"
           }
          ],
          "choropleth": [
           {
            "colorbar": {
             "outlinewidth": 0,
             "ticks": ""
            },
            "type": "choropleth"
           }
          ],
          "contour": [
           {
            "colorbar": {
             "outlinewidth": 0,
             "ticks": ""
            },
            "colorscale": [
             [
              0,
              "#0d0887"
             ],
             [
              0.1111111111111111,
              "#46039f"
             ],
             [
              0.2222222222222222,
              "#7201a8"
             ],
             [
              0.3333333333333333,
              "#9c179e"
             ],
             [
              0.4444444444444444,
              "#bd3786"
             ],
             [
              0.5555555555555556,
              "#d8576b"
             ],
             [
              0.6666666666666666,
              "#ed7953"
             ],
             [
              0.7777777777777778,
              "#fb9f3a"
             ],
             [
              0.8888888888888888,
              "#fdca26"
             ],
             [
              1,
              "#f0f921"
             ]
            ],
            "type": "contour"
           }
          ],
          "contourcarpet": [
           {
            "colorbar": {
             "outlinewidth": 0,
             "ticks": ""
            },
            "type": "contourcarpet"
           }
          ],
          "heatmap": [
           {
            "colorbar": {
             "outlinewidth": 0,
             "ticks": ""
            },
            "colorscale": [
             [
              0,
              "#0d0887"
             ],
             [
              0.1111111111111111,
              "#46039f"
             ],
             [
              0.2222222222222222,
              "#7201a8"
             ],
             [
              0.3333333333333333,
              "#9c179e"
             ],
             [
              0.4444444444444444,
              "#bd3786"
             ],
             [
              0.5555555555555556,
              "#d8576b"
             ],
             [
              0.6666666666666666,
              "#ed7953"
             ],
             [
              0.7777777777777778,
              "#fb9f3a"
             ],
             [
              0.8888888888888888,
              "#fdca26"
             ],
             [
              1,
              "#f0f921"
             ]
            ],
            "type": "heatmap"
           }
          ],
          "heatmapgl": [
           {
            "colorbar": {
             "outlinewidth": 0,
             "ticks": ""
            },
            "colorscale": [
             [
              0,
              "#0d0887"
             ],
             [
              0.1111111111111111,
              "#46039f"
             ],
             [
              0.2222222222222222,
              "#7201a8"
             ],
             [
              0.3333333333333333,
              "#9c179e"
             ],
             [
              0.4444444444444444,
              "#bd3786"
             ],
             [
              0.5555555555555556,
              "#d8576b"
             ],
             [
              0.6666666666666666,
              "#ed7953"
             ],
             [
              0.7777777777777778,
              "#fb9f3a"
             ],
             [
              0.8888888888888888,
              "#fdca26"
             ],
             [
              1,
              "#f0f921"
             ]
            ],
            "type": "heatmapgl"
           }
          ],
          "histogram": [
           {
            "marker": {
             "pattern": {
              "fillmode": "overlay",
              "size": 10,
              "solidity": 0.2
             }
            },
            "type": "histogram"
           }
          ],
          "histogram2d": [
           {
            "colorbar": {
             "outlinewidth": 0,
             "ticks": ""
            },
            "colorscale": [
             [
              0,
              "#0d0887"
             ],
             [
              0.1111111111111111,
              "#46039f"
             ],
             [
              0.2222222222222222,
              "#7201a8"
             ],
             [
              0.3333333333333333,
              "#9c179e"
             ],
             [
              0.4444444444444444,
              "#bd3786"
             ],
             [
              0.5555555555555556,
              "#d8576b"
             ],
             [
              0.6666666666666666,
              "#ed7953"
             ],
             [
              0.7777777777777778,
              "#fb9f3a"
             ],
             [
              0.8888888888888888,
              "#fdca26"
             ],
             [
              1,
              "#f0f921"
             ]
            ],
            "type": "histogram2d"
           }
          ],
          "histogram2dcontour": [
           {
            "colorbar": {
             "outlinewidth": 0,
             "ticks": ""
            },
            "colorscale": [
             [
              0,
              "#0d0887"
             ],
             [
              0.1111111111111111,
              "#46039f"
             ],
             [
              0.2222222222222222,
              "#7201a8"
             ],
             [
              0.3333333333333333,
              "#9c179e"
             ],
             [
              0.4444444444444444,
              "#bd3786"
             ],
             [
              0.5555555555555556,
              "#d8576b"
             ],
             [
              0.6666666666666666,
              "#ed7953"
             ],
             [
              0.7777777777777778,
              "#fb9f3a"
             ],
             [
              0.8888888888888888,
              "#fdca26"
             ],
             [
              1,
              "#f0f921"
             ]
            ],
            "type": "histogram2dcontour"
           }
          ],
          "mesh3d": [
           {
            "colorbar": {
             "outlinewidth": 0,
             "ticks": ""
            },
            "type": "mesh3d"
           }
          ],
          "parcoords": [
           {
            "line": {
             "colorbar": {
              "outlinewidth": 0,
              "ticks": ""
             }
            },
            "type": "parcoords"
           }
          ],
          "pie": [
           {
            "automargin": true,
            "type": "pie"
           }
          ],
          "scatter": [
           {
            "fillpattern": {
             "fillmode": "overlay",
             "size": 10,
             "solidity": 0.2
            },
            "type": "scatter"
           }
          ],
          "scatter3d": [
           {
            "line": {
             "colorbar": {
              "outlinewidth": 0,
              "ticks": ""
             }
            },
            "marker": {
             "colorbar": {
              "outlinewidth": 0,
              "ticks": ""
             }
            },
            "type": "scatter3d"
           }
          ],
          "scattercarpet": [
           {
            "marker": {
             "colorbar": {
              "outlinewidth": 0,
              "ticks": ""
             }
            },
            "type": "scattercarpet"
           }
          ],
          "scattergeo": [
           {
            "marker": {
             "colorbar": {
              "outlinewidth": 0,
              "ticks": ""
             }
            },
            "type": "scattergeo"
           }
          ],
          "scattergl": [
           {
            "marker": {
             "colorbar": {
              "outlinewidth": 0,
              "ticks": ""
             }
            },
            "type": "scattergl"
           }
          ],
          "scattermapbox": [
           {
            "marker": {
             "colorbar": {
              "outlinewidth": 0,
              "ticks": ""
             }
            },
            "type": "scattermapbox"
           }
          ],
          "scatterpolar": [
           {
            "marker": {
             "colorbar": {
              "outlinewidth": 0,
              "ticks": ""
             }
            },
            "type": "scatterpolar"
           }
          ],
          "scatterpolargl": [
           {
            "marker": {
             "colorbar": {
              "outlinewidth": 0,
              "ticks": ""
             }
            },
            "type": "scatterpolargl"
           }
          ],
          "scatterternary": [
           {
            "marker": {
             "colorbar": {
              "outlinewidth": 0,
              "ticks": ""
             }
            },
            "type": "scatterternary"
           }
          ],
          "surface": [
           {
            "colorbar": {
             "outlinewidth": 0,
             "ticks": ""
            },
            "colorscale": [
             [
              0,
              "#0d0887"
             ],
             [
              0.1111111111111111,
              "#46039f"
             ],
             [
              0.2222222222222222,
              "#7201a8"
             ],
             [
              0.3333333333333333,
              "#9c179e"
             ],
             [
              0.4444444444444444,
              "#bd3786"
             ],
             [
              0.5555555555555556,
              "#d8576b"
             ],
             [
              0.6666666666666666,
              "#ed7953"
             ],
             [
              0.7777777777777778,
              "#fb9f3a"
             ],
             [
              0.8888888888888888,
              "#fdca26"
             ],
             [
              1,
              "#f0f921"
             ]
            ],
            "type": "surface"
           }
          ],
          "table": [
           {
            "cells": {
             "fill": {
              "color": "#EBF0F8"
             },
             "line": {
              "color": "white"
             }
            },
            "header": {
             "fill": {
              "color": "#C8D4E3"
             },
             "line": {
              "color": "white"
             }
            },
            "type": "table"
           }
          ]
         },
         "layout": {
          "annotationdefaults": {
           "arrowcolor": "#2a3f5f",
           "arrowhead": 0,
           "arrowwidth": 1
          },
          "autotypenumbers": "strict",
          "coloraxis": {
           "colorbar": {
            "outlinewidth": 0,
            "ticks": ""
           }
          },
          "colorscale": {
           "diverging": [
            [
             0,
             "#8e0152"
            ],
            [
             0.1,
             "#c51b7d"
            ],
            [
             0.2,
             "#de77ae"
            ],
            [
             0.3,
             "#f1b6da"
            ],
            [
             0.4,
             "#fde0ef"
            ],
            [
             0.5,
             "#f7f7f7"
            ],
            [
             0.6,
             "#e6f5d0"
            ],
            [
             0.7,
             "#b8e186"
            ],
            [
             0.8,
             "#7fbc41"
            ],
            [
             0.9,
             "#4d9221"
            ],
            [
             1,
             "#276419"
            ]
           ],
           "sequential": [
            [
             0,
             "#0d0887"
            ],
            [
             0.1111111111111111,
             "#46039f"
            ],
            [
             0.2222222222222222,
             "#7201a8"
            ],
            [
             0.3333333333333333,
             "#9c179e"
            ],
            [
             0.4444444444444444,
             "#bd3786"
            ],
            [
             0.5555555555555556,
             "#d8576b"
            ],
            [
             0.6666666666666666,
             "#ed7953"
            ],
            [
             0.7777777777777778,
             "#fb9f3a"
            ],
            [
             0.8888888888888888,
             "#fdca26"
            ],
            [
             1,
             "#f0f921"
            ]
           ],
           "sequentialminus": [
            [
             0,
             "#0d0887"
            ],
            [
             0.1111111111111111,
             "#46039f"
            ],
            [
             0.2222222222222222,
             "#7201a8"
            ],
            [
             0.3333333333333333,
             "#9c179e"
            ],
            [
             0.4444444444444444,
             "#bd3786"
            ],
            [
             0.5555555555555556,
             "#d8576b"
            ],
            [
             0.6666666666666666,
             "#ed7953"
            ],
            [
             0.7777777777777778,
             "#fb9f3a"
            ],
            [
             0.8888888888888888,
             "#fdca26"
            ],
            [
             1,
             "#f0f921"
            ]
           ]
          },
          "colorway": [
           "#636efa",
           "#EF553B",
           "#00cc96",
           "#ab63fa",
           "#FFA15A",
           "#19d3f3",
           "#FF6692",
           "#B6E880",
           "#FF97FF",
           "#FECB52"
          ],
          "font": {
           "color": "#2a3f5f"
          },
          "geo": {
           "bgcolor": "white",
           "lakecolor": "white",
           "landcolor": "#E5ECF6",
           "showlakes": true,
           "showland": true,
           "subunitcolor": "white"
          },
          "hoverlabel": {
           "align": "left"
          },
          "hovermode": "closest",
          "mapbox": {
           "style": "light"
          },
          "paper_bgcolor": "white",
          "plot_bgcolor": "#E5ECF6",
          "polar": {
           "angularaxis": {
            "gridcolor": "white",
            "linecolor": "white",
            "ticks": ""
           },
           "bgcolor": "#E5ECF6",
           "radialaxis": {
            "gridcolor": "white",
            "linecolor": "white",
            "ticks": ""
           }
          },
          "scene": {
           "xaxis": {
            "backgroundcolor": "#E5ECF6",
            "gridcolor": "white",
            "gridwidth": 2,
            "linecolor": "white",
            "showbackground": true,
            "ticks": "",
            "zerolinecolor": "white"
           },
           "yaxis": {
            "backgroundcolor": "#E5ECF6",
            "gridcolor": "white",
            "gridwidth": 2,
            "linecolor": "white",
            "showbackground": true,
            "ticks": "",
            "zerolinecolor": "white"
           },
           "zaxis": {
            "backgroundcolor": "#E5ECF6",
            "gridcolor": "white",
            "gridwidth": 2,
            "linecolor": "white",
            "showbackground": true,
            "ticks": "",
            "zerolinecolor": "white"
           }
          },
          "shapedefaults": {
           "line": {
            "color": "#2a3f5f"
           }
          },
          "ternary": {
           "aaxis": {
            "gridcolor": "white",
            "linecolor": "white",
            "ticks": ""
           },
           "baxis": {
            "gridcolor": "white",
            "linecolor": "white",
            "ticks": ""
           },
           "bgcolor": "#E5ECF6",
           "caxis": {
            "gridcolor": "white",
            "linecolor": "white",
            "ticks": ""
           }
          },
          "title": {
           "x": 0.05
          },
          "xaxis": {
           "automargin": true,
           "gridcolor": "white",
           "linecolor": "white",
           "ticks": "",
           "title": {
            "standoff": 15
           },
           "zerolinecolor": "white",
           "zerolinewidth": 2
          },
          "yaxis": {
           "automargin": true,
           "gridcolor": "white",
           "linecolor": "white",
           "ticks": "",
           "title": {
            "standoff": 15
           },
           "zerolinecolor": "white",
           "zerolinewidth": 2
          }
         }
        },
        "title": {
         "text": "Fraction of queries reaching accuracy target"
        },
        "width": 1100,
        "xaxis": {
         "anchor": "y",
         "domain": [
          0,
          1
         ],
         "title": {
          "text": "workload_size"
         }
        },
        "yaxis": {
         "anchor": "x",
         "domain": [
          0,
          1
         ],
         "title": {
          "text": "fraction_queries_without_idp_bias"
         }
        }
       }
      },
      "text/html": [
       "<div>                            <div id=\"145ec582-bfa7-4268-870b-414a87d2b5f2\" class=\"plotly-graph-div\" style=\"height:600px; width:1100px;\"></div>            <script type=\"text/javascript\">                require([\"plotly\"], function(Plotly) {                    window.PLOTLYENV=window.PLOTLYENV || {};                                    if (document.getElementById(\"145ec582-bfa7-4268-870b-414a87d2b5f2\")) {                    Plotly.newPlot(                        \"145ec582-bfa7-4268-870b-414a87d2b5f2\",                        [{\"hovertemplate\":\"baseline=ipa\\u003cbr\\u003edestination=F122B91F6D102E4630817566839A4F1F\\u003cbr\\u003eworkload_size=%{x}\\u003cbr\\u003efraction_queries_without_idp_bias=%{y}\\u003cextra\\u003e\\u003c\\u002fextra\\u003e\",\"legendgroup\":\"ipa\",\"line\":{\"color\":\"#636efa\",\"dash\":\"solid\"},\"marker\":{\"symbol\":\"circle\"},\"mode\":\"lines+markers\",\"name\":\"ipa\",\"orientation\":\"v\",\"showlegend\":true,\"x\":[1,5,10,15,20,25],\"xaxis\":\"x\",\"y\":[1.0,1.0,0.8,0.6,0.45,0.4],\"yaxis\":\"y\",\"type\":\"scatter\"},{\"hovertemplate\":\"baseline=user_epoch_ara\\u003cbr\\u003edestination=F122B91F6D102E4630817566839A4F1F\\u003cbr\\u003eworkload_size=%{x}\\u003cbr\\u003efraction_queries_without_idp_bias=%{y}\\u003cextra\\u003e\\u003c\\u002fextra\\u003e\",\"legendgroup\":\"user_epoch_ara\",\"line\":{\"color\":\"#EF553B\",\"dash\":\"solid\"},\"marker\":{\"symbol\":\"circle\"},\"mode\":\"lines+markers\",\"name\":\"user_epoch_ara\",\"orientation\":\"v\",\"showlegend\":true,\"x\":[1,5,10,15,20,25],\"xaxis\":\"x\",\"y\":[1.0,1.0,1.0,0.9333333333333333,0.9,0.76],\"yaxis\":\"y\",\"type\":\"scatter\"},{\"hovertemplate\":\"baseline=cookiemonster\\u003cbr\\u003edestination=F122B91F6D102E4630817566839A4F1F\\u003cbr\\u003eworkload_size=%{x}\\u003cbr\\u003efraction_queries_without_idp_bias=%{y}\\u003cextra\\u003e\\u003c\\u002fextra\\u003e\",\"legendgroup\":\"cookiemonster\",\"line\":{\"color\":\"#00cc96\",\"dash\":\"solid\"},\"marker\":{\"symbol\":\"circle\"},\"mode\":\"lines+markers\",\"name\":\"cookiemonster\",\"orientation\":\"v\",\"showlegend\":true,\"x\":[1,5,10,15,20,25],\"xaxis\":\"x\",\"y\":[1.0,1.0,1.0,0.9333333333333333,0.95,0.92],\"yaxis\":\"y\",\"type\":\"scatter\"}],                        {\"annotations\":[{\"showarrow\":false,\"text\":\"destination=F122B91F6D102E4630817566839A4F1F\",\"x\":0.5,\"xanchor\":\"center\",\"xref\":\"paper\",\"y\":1.0,\"yanchor\":\"bottom\",\"yref\":\"paper\"}],\"height\":600,\"legend\":{\"title\":{\"text\":\"baseline\"},\"tracegroupgap\":0},\"template\":{\"data\":{\"barpolar\":[{\"marker\":{\"line\":{\"color\":\"#E5ECF6\",\"width\":0.5},\"pattern\":{\"fillmode\":\"overlay\",\"size\":10,\"solidity\":0.2}},\"type\":\"barpolar\"}],\"bar\":[{\"error_x\":{\"color\":\"#2a3f5f\"},\"error_y\":{\"color\":\"#2a3f5f\"},\"marker\":{\"line\":{\"color\":\"#E5ECF6\",\"width\":0.5},\"pattern\":{\"fillmode\":\"overlay\",\"size\":10,\"solidity\":0.2}},\"type\":\"bar\"}],\"carpet\":[{\"aaxis\":{\"endlinecolor\":\"#2a3f5f\",\"gridcolor\":\"white\",\"linecolor\":\"white\",\"minorgridcolor\":\"white\",\"startlinecolor\":\"#2a3f5f\"},\"baxis\":{\"endlinecolor\":\"#2a3f5f\",\"gridcolor\":\"white\",\"linecolor\":\"white\",\"minorgridcolor\":\"white\",\"startlinecolor\":\"#2a3f5f\"},\"type\":\"carpet\"}],\"choropleth\":[{\"colorbar\":{\"outlinewidth\":0,\"ticks\":\"\"},\"type\":\"choropleth\"}],\"contourcarpet\":[{\"colorbar\":{\"outlinewidth\":0,\"ticks\":\"\"},\"type\":\"contourcarpet\"}],\"contour\":[{\"colorbar\":{\"outlinewidth\":0,\"ticks\":\"\"},\"colorscale\":[[0.0,\"#0d0887\"],[0.1111111111111111,\"#46039f\"],[0.2222222222222222,\"#7201a8\"],[0.3333333333333333,\"#9c179e\"],[0.4444444444444444,\"#bd3786\"],[0.5555555555555556,\"#d8576b\"],[0.6666666666666666,\"#ed7953\"],[0.7777777777777778,\"#fb9f3a\"],[0.8888888888888888,\"#fdca26\"],[1.0,\"#f0f921\"]],\"type\":\"contour\"}],\"heatmapgl\":[{\"colorbar\":{\"outlinewidth\":0,\"ticks\":\"\"},\"colorscale\":[[0.0,\"#0d0887\"],[0.1111111111111111,\"#46039f\"],[0.2222222222222222,\"#7201a8\"],[0.3333333333333333,\"#9c179e\"],[0.4444444444444444,\"#bd3786\"],[0.5555555555555556,\"#d8576b\"],[0.6666666666666666,\"#ed7953\"],[0.7777777777777778,\"#fb9f3a\"],[0.8888888888888888,\"#fdca26\"],[1.0,\"#f0f921\"]],\"type\":\"heatmapgl\"}],\"heatmap\":[{\"colorbar\":{\"outlinewidth\":0,\"ticks\":\"\"},\"colorscale\":[[0.0,\"#0d0887\"],[0.1111111111111111,\"#46039f\"],[0.2222222222222222,\"#7201a8\"],[0.3333333333333333,\"#9c179e\"],[0.4444444444444444,\"#bd3786\"],[0.5555555555555556,\"#d8576b\"],[0.6666666666666666,\"#ed7953\"],[0.7777777777777778,\"#fb9f3a\"],[0.8888888888888888,\"#fdca26\"],[1.0,\"#f0f921\"]],\"type\":\"heatmap\"}],\"histogram2dcontour\":[{\"colorbar\":{\"outlinewidth\":0,\"ticks\":\"\"},\"colorscale\":[[0.0,\"#0d0887\"],[0.1111111111111111,\"#46039f\"],[0.2222222222222222,\"#7201a8\"],[0.3333333333333333,\"#9c179e\"],[0.4444444444444444,\"#bd3786\"],[0.5555555555555556,\"#d8576b\"],[0.6666666666666666,\"#ed7953\"],[0.7777777777777778,\"#fb9f3a\"],[0.8888888888888888,\"#fdca26\"],[1.0,\"#f0f921\"]],\"type\":\"histogram2dcontour\"}],\"histogram2d\":[{\"colorbar\":{\"outlinewidth\":0,\"ticks\":\"\"},\"colorscale\":[[0.0,\"#0d0887\"],[0.1111111111111111,\"#46039f\"],[0.2222222222222222,\"#7201a8\"],[0.3333333333333333,\"#9c179e\"],[0.4444444444444444,\"#bd3786\"],[0.5555555555555556,\"#d8576b\"],[0.6666666666666666,\"#ed7953\"],[0.7777777777777778,\"#fb9f3a\"],[0.8888888888888888,\"#fdca26\"],[1.0,\"#f0f921\"]],\"type\":\"histogram2d\"}],\"histogram\":[{\"marker\":{\"pattern\":{\"fillmode\":\"overlay\",\"size\":10,\"solidity\":0.2}},\"type\":\"histogram\"}],\"mesh3d\":[{\"colorbar\":{\"outlinewidth\":0,\"ticks\":\"\"},\"type\":\"mesh3d\"}],\"parcoords\":[{\"line\":{\"colorbar\":{\"outlinewidth\":0,\"ticks\":\"\"}},\"type\":\"parcoords\"}],\"pie\":[{\"automargin\":true,\"type\":\"pie\"}],\"scatter3d\":[{\"line\":{\"colorbar\":{\"outlinewidth\":0,\"ticks\":\"\"}},\"marker\":{\"colorbar\":{\"outlinewidth\":0,\"ticks\":\"\"}},\"type\":\"scatter3d\"}],\"scattercarpet\":[{\"marker\":{\"colorbar\":{\"outlinewidth\":0,\"ticks\":\"\"}},\"type\":\"scattercarpet\"}],\"scattergeo\":[{\"marker\":{\"colorbar\":{\"outlinewidth\":0,\"ticks\":\"\"}},\"type\":\"scattergeo\"}],\"scattergl\":[{\"marker\":{\"colorbar\":{\"outlinewidth\":0,\"ticks\":\"\"}},\"type\":\"scattergl\"}],\"scattermapbox\":[{\"marker\":{\"colorbar\":{\"outlinewidth\":0,\"ticks\":\"\"}},\"type\":\"scattermapbox\"}],\"scatterpolargl\":[{\"marker\":{\"colorbar\":{\"outlinewidth\":0,\"ticks\":\"\"}},\"type\":\"scatterpolargl\"}],\"scatterpolar\":[{\"marker\":{\"colorbar\":{\"outlinewidth\":0,\"ticks\":\"\"}},\"type\":\"scatterpolar\"}],\"scatter\":[{\"fillpattern\":{\"fillmode\":\"overlay\",\"size\":10,\"solidity\":0.2},\"type\":\"scatter\"}],\"scatterternary\":[{\"marker\":{\"colorbar\":{\"outlinewidth\":0,\"ticks\":\"\"}},\"type\":\"scatterternary\"}],\"surface\":[{\"colorbar\":{\"outlinewidth\":0,\"ticks\":\"\"},\"colorscale\":[[0.0,\"#0d0887\"],[0.1111111111111111,\"#46039f\"],[0.2222222222222222,\"#7201a8\"],[0.3333333333333333,\"#9c179e\"],[0.4444444444444444,\"#bd3786\"],[0.5555555555555556,\"#d8576b\"],[0.6666666666666666,\"#ed7953\"],[0.7777777777777778,\"#fb9f3a\"],[0.8888888888888888,\"#fdca26\"],[1.0,\"#f0f921\"]],\"type\":\"surface\"}],\"table\":[{\"cells\":{\"fill\":{\"color\":\"#EBF0F8\"},\"line\":{\"color\":\"white\"}},\"header\":{\"fill\":{\"color\":\"#C8D4E3\"},\"line\":{\"color\":\"white\"}},\"type\":\"table\"}]},\"layout\":{\"annotationdefaults\":{\"arrowcolor\":\"#2a3f5f\",\"arrowhead\":0,\"arrowwidth\":1},\"autotypenumbers\":\"strict\",\"coloraxis\":{\"colorbar\":{\"outlinewidth\":0,\"ticks\":\"\"}},\"colorscale\":{\"diverging\":[[0,\"#8e0152\"],[0.1,\"#c51b7d\"],[0.2,\"#de77ae\"],[0.3,\"#f1b6da\"],[0.4,\"#fde0ef\"],[0.5,\"#f7f7f7\"],[0.6,\"#e6f5d0\"],[0.7,\"#b8e186\"],[0.8,\"#7fbc41\"],[0.9,\"#4d9221\"],[1,\"#276419\"]],\"sequential\":[[0.0,\"#0d0887\"],[0.1111111111111111,\"#46039f\"],[0.2222222222222222,\"#7201a8\"],[0.3333333333333333,\"#9c179e\"],[0.4444444444444444,\"#bd3786\"],[0.5555555555555556,\"#d8576b\"],[0.6666666666666666,\"#ed7953\"],[0.7777777777777778,\"#fb9f3a\"],[0.8888888888888888,\"#fdca26\"],[1.0,\"#f0f921\"]],\"sequentialminus\":[[0.0,\"#0d0887\"],[0.1111111111111111,\"#46039f\"],[0.2222222222222222,\"#7201a8\"],[0.3333333333333333,\"#9c179e\"],[0.4444444444444444,\"#bd3786\"],[0.5555555555555556,\"#d8576b\"],[0.6666666666666666,\"#ed7953\"],[0.7777777777777778,\"#fb9f3a\"],[0.8888888888888888,\"#fdca26\"],[1.0,\"#f0f921\"]]},\"colorway\":[\"#636efa\",\"#EF553B\",\"#00cc96\",\"#ab63fa\",\"#FFA15A\",\"#19d3f3\",\"#FF6692\",\"#B6E880\",\"#FF97FF\",\"#FECB52\"],\"font\":{\"color\":\"#2a3f5f\"},\"geo\":{\"bgcolor\":\"white\",\"lakecolor\":\"white\",\"landcolor\":\"#E5ECF6\",\"showlakes\":true,\"showland\":true,\"subunitcolor\":\"white\"},\"hoverlabel\":{\"align\":\"left\"},\"hovermode\":\"closest\",\"mapbox\":{\"style\":\"light\"},\"paper_bgcolor\":\"white\",\"plot_bgcolor\":\"#E5ECF6\",\"polar\":{\"angularaxis\":{\"gridcolor\":\"white\",\"linecolor\":\"white\",\"ticks\":\"\"},\"bgcolor\":\"#E5ECF6\",\"radialaxis\":{\"gridcolor\":\"white\",\"linecolor\":\"white\",\"ticks\":\"\"}},\"scene\":{\"xaxis\":{\"backgroundcolor\":\"#E5ECF6\",\"gridcolor\":\"white\",\"gridwidth\":2,\"linecolor\":\"white\",\"showbackground\":true,\"ticks\":\"\",\"zerolinecolor\":\"white\"},\"yaxis\":{\"backgroundcolor\":\"#E5ECF6\",\"gridcolor\":\"white\",\"gridwidth\":2,\"linecolor\":\"white\",\"showbackground\":true,\"ticks\":\"\",\"zerolinecolor\":\"white\"},\"zaxis\":{\"backgroundcolor\":\"#E5ECF6\",\"gridcolor\":\"white\",\"gridwidth\":2,\"linecolor\":\"white\",\"showbackground\":true,\"ticks\":\"\",\"zerolinecolor\":\"white\"}},\"shapedefaults\":{\"line\":{\"color\":\"#2a3f5f\"}},\"ternary\":{\"aaxis\":{\"gridcolor\":\"white\",\"linecolor\":\"white\",\"ticks\":\"\"},\"baxis\":{\"gridcolor\":\"white\",\"linecolor\":\"white\",\"ticks\":\"\"},\"bgcolor\":\"#E5ECF6\",\"caxis\":{\"gridcolor\":\"white\",\"linecolor\":\"white\",\"ticks\":\"\"}},\"title\":{\"x\":0.05},\"xaxis\":{\"automargin\":true,\"gridcolor\":\"white\",\"linecolor\":\"white\",\"ticks\":\"\",\"title\":{\"standoff\":15},\"zerolinecolor\":\"white\",\"zerolinewidth\":2},\"yaxis\":{\"automargin\":true,\"gridcolor\":\"white\",\"linecolor\":\"white\",\"ticks\":\"\",\"title\":{\"standoff\":15},\"zerolinecolor\":\"white\",\"zerolinewidth\":2}}},\"title\":{\"text\":\"Fraction of queries reaching accuracy target\"},\"width\":1100,\"xaxis\":{\"anchor\":\"y\",\"domain\":[0.0,1.0],\"title\":{\"text\":\"workload_size\"}},\"yaxis\":{\"anchor\":\"x\",\"domain\":[0.0,1.0],\"title\":{\"text\":\"fraction_queries_without_idp_bias\"}}},                        {\"responsive\": true}                    ).then(function(){\n",
       "                            \n",
       "var gd = document.getElementById('145ec582-bfa7-4268-870b-414a87d2b5f2');\n",
       "var x = new MutationObserver(function (mutations, observer) {{\n",
       "        var display = window.getComputedStyle(gd).display;\n",
       "        if (!display || display === 'none') {{\n",
       "            console.log([gd, 'removed!']);\n",
       "            Plotly.purge(gd);\n",
       "            observer.disconnect();\n",
       "        }}\n",
       "}});\n",
       "\n",
       "// Listen for the removal of the full notebook cells\n",
       "var notebookContainer = gd.closest('#notebook-container');\n",
       "if (notebookContainer) {{\n",
       "    x.observe(notebookContainer, {childList: true});\n",
       "}}\n",
       "\n",
       "// Listen for the clearing of the current output cell\n",
       "var outputEl = gd.closest('.output');\n",
       "if (outputEl) {{\n",
       "    x.observe(outputEl, {childList: true});\n",
       "}}\n",
       "\n",
       "                        })                };                });            </script>        </div>"
      ]
     },
     "metadata": {},
     "output_type": "display_data"
    },
    {
     "data": {
      "application/vnd.plotly.v1+json": {
       "config": {
        "linkText": "Export to plot.ly",
        "plotlyServerURL": "https://plot.ly",
        "showLink": false
       },
       "data": [
        {
         "hovertemplate": "baseline=ipa<br>destination=F122B91F6D102E4630817566839A4F1F<br>workload_size=%{x}<br>workload_idp_accuracy=%{y}<extra></extra>",
         "legendgroup": "ipa",
         "line": {
          "color": "#636efa",
          "dash": "solid"
         },
         "marker": {
          "symbol": "circle"
         },
         "mode": "lines+markers",
         "name": "ipa",
         "orientation": "v",
         "showlegend": true,
         "type": "scatter",
         "x": [
          1,
          5,
          10,
          15,
          20,
          25
         ],
         "xaxis": "x",
         "y": [
          1,
          1,
          0.8,
          0.6,
          0.45,
          0.4
         ],
         "yaxis": "y"
        },
        {
         "hovertemplate": "baseline=user_epoch_ara<br>destination=F122B91F6D102E4630817566839A4F1F<br>workload_size=%{x}<br>workload_idp_accuracy=%{y}<extra></extra>",
         "legendgroup": "user_epoch_ara",
         "line": {
          "color": "#EF553B",
          "dash": "solid"
         },
         "marker": {
          "symbol": "circle"
         },
         "mode": "lines+markers",
         "name": "user_epoch_ara",
         "orientation": "v",
         "showlegend": true,
         "type": "scatter",
         "x": [
          1,
          5,
          10,
          15,
          20,
          25
         ],
         "xaxis": "x",
         "y": [
          1,
          1,
          1,
          0.999972744617062,
          0.9999404828794539,
          0.9998294990064348
         ],
         "yaxis": "y"
        },
        {
         "hovertemplate": "baseline=cookiemonster<br>destination=F122B91F6D102E4630817566839A4F1F<br>workload_size=%{x}<br>workload_idp_accuracy=%{y}<extra></extra>",
         "legendgroup": "cookiemonster",
         "line": {
          "color": "#00cc96",
          "dash": "solid"
         },
         "marker": {
          "symbol": "circle"
         },
         "mode": "lines+markers",
         "name": "cookiemonster",
         "orientation": "v",
         "showlegend": true,
         "type": "scatter",
         "x": [
          1,
          5,
          10,
          15,
          20,
          25
         ],
         "xaxis": "x",
         "y": [
          1,
          1,
          1,
          0.999972744617062,
          0.9999795584627964,
          0.999982553903922
         ],
         "yaxis": "y"
        }
       ],
       "layout": {
        "annotations": [
         {
          "showarrow": false,
          "text": "destination=F122B91F6D102E4630817566839A4F1F",
          "x": 0.5,
          "xanchor": "center",
          "xref": "paper",
          "y": 1,
          "yanchor": "bottom",
          "yref": "paper"
         }
        ],
        "height": 600,
        "legend": {
         "title": {
          "text": "baseline"
         },
         "tracegroupgap": 0
        },
        "template": {
         "data": {
          "bar": [
           {
            "error_x": {
             "color": "#2a3f5f"
            },
            "error_y": {
             "color": "#2a3f5f"
            },
            "marker": {
             "line": {
              "color": "#E5ECF6",
              "width": 0.5
             },
             "pattern": {
              "fillmode": "overlay",
              "size": 10,
              "solidity": 0.2
             }
            },
            "type": "bar"
           }
          ],
          "barpolar": [
           {
            "marker": {
             "line": {
              "color": "#E5ECF6",
              "width": 0.5
             },
             "pattern": {
              "fillmode": "overlay",
              "size": 10,
              "solidity": 0.2
             }
            },
            "type": "barpolar"
           }
          ],
          "carpet": [
           {
            "aaxis": {
             "endlinecolor": "#2a3f5f",
             "gridcolor": "white",
             "linecolor": "white",
             "minorgridcolor": "white",
             "startlinecolor": "#2a3f5f"
            },
            "baxis": {
             "endlinecolor": "#2a3f5f",
             "gridcolor": "white",
             "linecolor": "white",
             "minorgridcolor": "white",
             "startlinecolor": "#2a3f5f"
            },
            "type": "carpet"
           }
          ],
          "choropleth": [
           {
            "colorbar": {
             "outlinewidth": 0,
             "ticks": ""
            },
            "type": "choropleth"
           }
          ],
          "contour": [
           {
            "colorbar": {
             "outlinewidth": 0,
             "ticks": ""
            },
            "colorscale": [
             [
              0,
              "#0d0887"
             ],
             [
              0.1111111111111111,
              "#46039f"
             ],
             [
              0.2222222222222222,
              "#7201a8"
             ],
             [
              0.3333333333333333,
              "#9c179e"
             ],
             [
              0.4444444444444444,
              "#bd3786"
             ],
             [
              0.5555555555555556,
              "#d8576b"
             ],
             [
              0.6666666666666666,
              "#ed7953"
             ],
             [
              0.7777777777777778,
              "#fb9f3a"
             ],
             [
              0.8888888888888888,
              "#fdca26"
             ],
             [
              1,
              "#f0f921"
             ]
            ],
            "type": "contour"
           }
          ],
          "contourcarpet": [
           {
            "colorbar": {
             "outlinewidth": 0,
             "ticks": ""
            },
            "type": "contourcarpet"
           }
          ],
          "heatmap": [
           {
            "colorbar": {
             "outlinewidth": 0,
             "ticks": ""
            },
            "colorscale": [
             [
              0,
              "#0d0887"
             ],
             [
              0.1111111111111111,
              "#46039f"
             ],
             [
              0.2222222222222222,
              "#7201a8"
             ],
             [
              0.3333333333333333,
              "#9c179e"
             ],
             [
              0.4444444444444444,
              "#bd3786"
             ],
             [
              0.5555555555555556,
              "#d8576b"
             ],
             [
              0.6666666666666666,
              "#ed7953"
             ],
             [
              0.7777777777777778,
              "#fb9f3a"
             ],
             [
              0.8888888888888888,
              "#fdca26"
             ],
             [
              1,
              "#f0f921"
             ]
            ],
            "type": "heatmap"
           }
          ],
          "heatmapgl": [
           {
            "colorbar": {
             "outlinewidth": 0,
             "ticks": ""
            },
            "colorscale": [
             [
              0,
              "#0d0887"
             ],
             [
              0.1111111111111111,
              "#46039f"
             ],
             [
              0.2222222222222222,
              "#7201a8"
             ],
             [
              0.3333333333333333,
              "#9c179e"
             ],
             [
              0.4444444444444444,
              "#bd3786"
             ],
             [
              0.5555555555555556,
              "#d8576b"
             ],
             [
              0.6666666666666666,
              "#ed7953"
             ],
             [
              0.7777777777777778,
              "#fb9f3a"
             ],
             [
              0.8888888888888888,
              "#fdca26"
             ],
             [
              1,
              "#f0f921"
             ]
            ],
            "type": "heatmapgl"
           }
          ],
          "histogram": [
           {
            "marker": {
             "pattern": {
              "fillmode": "overlay",
              "size": 10,
              "solidity": 0.2
             }
            },
            "type": "histogram"
           }
          ],
          "histogram2d": [
           {
            "colorbar": {
             "outlinewidth": 0,
             "ticks": ""
            },
            "colorscale": [
             [
              0,
              "#0d0887"
             ],
             [
              0.1111111111111111,
              "#46039f"
             ],
             [
              0.2222222222222222,
              "#7201a8"
             ],
             [
              0.3333333333333333,
              "#9c179e"
             ],
             [
              0.4444444444444444,
              "#bd3786"
             ],
             [
              0.5555555555555556,
              "#d8576b"
             ],
             [
              0.6666666666666666,
              "#ed7953"
             ],
             [
              0.7777777777777778,
              "#fb9f3a"
             ],
             [
              0.8888888888888888,
              "#fdca26"
             ],
             [
              1,
              "#f0f921"
             ]
            ],
            "type": "histogram2d"
           }
          ],
          "histogram2dcontour": [
           {
            "colorbar": {
             "outlinewidth": 0,
             "ticks": ""
            },
            "colorscale": [
             [
              0,
              "#0d0887"
             ],
             [
              0.1111111111111111,
              "#46039f"
             ],
             [
              0.2222222222222222,
              "#7201a8"
             ],
             [
              0.3333333333333333,
              "#9c179e"
             ],
             [
              0.4444444444444444,
              "#bd3786"
             ],
             [
              0.5555555555555556,
              "#d8576b"
             ],
             [
              0.6666666666666666,
              "#ed7953"
             ],
             [
              0.7777777777777778,
              "#fb9f3a"
             ],
             [
              0.8888888888888888,
              "#fdca26"
             ],
             [
              1,
              "#f0f921"
             ]
            ],
            "type": "histogram2dcontour"
           }
          ],
          "mesh3d": [
           {
            "colorbar": {
             "outlinewidth": 0,
             "ticks": ""
            },
            "type": "mesh3d"
           }
          ],
          "parcoords": [
           {
            "line": {
             "colorbar": {
              "outlinewidth": 0,
              "ticks": ""
             }
            },
            "type": "parcoords"
           }
          ],
          "pie": [
           {
            "automargin": true,
            "type": "pie"
           }
          ],
          "scatter": [
           {
            "fillpattern": {
             "fillmode": "overlay",
             "size": 10,
             "solidity": 0.2
            },
            "type": "scatter"
           }
          ],
          "scatter3d": [
           {
            "line": {
             "colorbar": {
              "outlinewidth": 0,
              "ticks": ""
             }
            },
            "marker": {
             "colorbar": {
              "outlinewidth": 0,
              "ticks": ""
             }
            },
            "type": "scatter3d"
           }
          ],
          "scattercarpet": [
           {
            "marker": {
             "colorbar": {
              "outlinewidth": 0,
              "ticks": ""
             }
            },
            "type": "scattercarpet"
           }
          ],
          "scattergeo": [
           {
            "marker": {
             "colorbar": {
              "outlinewidth": 0,
              "ticks": ""
             }
            },
            "type": "scattergeo"
           }
          ],
          "scattergl": [
           {
            "marker": {
             "colorbar": {
              "outlinewidth": 0,
              "ticks": ""
             }
            },
            "type": "scattergl"
           }
          ],
          "scattermapbox": [
           {
            "marker": {
             "colorbar": {
              "outlinewidth": 0,
              "ticks": ""
             }
            },
            "type": "scattermapbox"
           }
          ],
          "scatterpolar": [
           {
            "marker": {
             "colorbar": {
              "outlinewidth": 0,
              "ticks": ""
             }
            },
            "type": "scatterpolar"
           }
          ],
          "scatterpolargl": [
           {
            "marker": {
             "colorbar": {
              "outlinewidth": 0,
              "ticks": ""
             }
            },
            "type": "scatterpolargl"
           }
          ],
          "scatterternary": [
           {
            "marker": {
             "colorbar": {
              "outlinewidth": 0,
              "ticks": ""
             }
            },
            "type": "scatterternary"
           }
          ],
          "surface": [
           {
            "colorbar": {
             "outlinewidth": 0,
             "ticks": ""
            },
            "colorscale": [
             [
              0,
              "#0d0887"
             ],
             [
              0.1111111111111111,
              "#46039f"
             ],
             [
              0.2222222222222222,
              "#7201a8"
             ],
             [
              0.3333333333333333,
              "#9c179e"
             ],
             [
              0.4444444444444444,
              "#bd3786"
             ],
             [
              0.5555555555555556,
              "#d8576b"
             ],
             [
              0.6666666666666666,
              "#ed7953"
             ],
             [
              0.7777777777777778,
              "#fb9f3a"
             ],
             [
              0.8888888888888888,
              "#fdca26"
             ],
             [
              1,
              "#f0f921"
             ]
            ],
            "type": "surface"
           }
          ],
          "table": [
           {
            "cells": {
             "fill": {
              "color": "#EBF0F8"
             },
             "line": {
              "color": "white"
             }
            },
            "header": {
             "fill": {
              "color": "#C8D4E3"
             },
             "line": {
              "color": "white"
             }
            },
            "type": "table"
           }
          ]
         },
         "layout": {
          "annotationdefaults": {
           "arrowcolor": "#2a3f5f",
           "arrowhead": 0,
           "arrowwidth": 1
          },
          "autotypenumbers": "strict",
          "coloraxis": {
           "colorbar": {
            "outlinewidth": 0,
            "ticks": ""
           }
          },
          "colorscale": {
           "diverging": [
            [
             0,
             "#8e0152"
            ],
            [
             0.1,
             "#c51b7d"
            ],
            [
             0.2,
             "#de77ae"
            ],
            [
             0.3,
             "#f1b6da"
            ],
            [
             0.4,
             "#fde0ef"
            ],
            [
             0.5,
             "#f7f7f7"
            ],
            [
             0.6,
             "#e6f5d0"
            ],
            [
             0.7,
             "#b8e186"
            ],
            [
             0.8,
             "#7fbc41"
            ],
            [
             0.9,
             "#4d9221"
            ],
            [
             1,
             "#276419"
            ]
           ],
           "sequential": [
            [
             0,
             "#0d0887"
            ],
            [
             0.1111111111111111,
             "#46039f"
            ],
            [
             0.2222222222222222,
             "#7201a8"
            ],
            [
             0.3333333333333333,
             "#9c179e"
            ],
            [
             0.4444444444444444,
             "#bd3786"
            ],
            [
             0.5555555555555556,
             "#d8576b"
            ],
            [
             0.6666666666666666,
             "#ed7953"
            ],
            [
             0.7777777777777778,
             "#fb9f3a"
            ],
            [
             0.8888888888888888,
             "#fdca26"
            ],
            [
             1,
             "#f0f921"
            ]
           ],
           "sequentialminus": [
            [
             0,
             "#0d0887"
            ],
            [
             0.1111111111111111,
             "#46039f"
            ],
            [
             0.2222222222222222,
             "#7201a8"
            ],
            [
             0.3333333333333333,
             "#9c179e"
            ],
            [
             0.4444444444444444,
             "#bd3786"
            ],
            [
             0.5555555555555556,
             "#d8576b"
            ],
            [
             0.6666666666666666,
             "#ed7953"
            ],
            [
             0.7777777777777778,
             "#fb9f3a"
            ],
            [
             0.8888888888888888,
             "#fdca26"
            ],
            [
             1,
             "#f0f921"
            ]
           ]
          },
          "colorway": [
           "#636efa",
           "#EF553B",
           "#00cc96",
           "#ab63fa",
           "#FFA15A",
           "#19d3f3",
           "#FF6692",
           "#B6E880",
           "#FF97FF",
           "#FECB52"
          ],
          "font": {
           "color": "#2a3f5f"
          },
          "geo": {
           "bgcolor": "white",
           "lakecolor": "white",
           "landcolor": "#E5ECF6",
           "showlakes": true,
           "showland": true,
           "subunitcolor": "white"
          },
          "hoverlabel": {
           "align": "left"
          },
          "hovermode": "closest",
          "mapbox": {
           "style": "light"
          },
          "paper_bgcolor": "white",
          "plot_bgcolor": "#E5ECF6",
          "polar": {
           "angularaxis": {
            "gridcolor": "white",
            "linecolor": "white",
            "ticks": ""
           },
           "bgcolor": "#E5ECF6",
           "radialaxis": {
            "gridcolor": "white",
            "linecolor": "white",
            "ticks": ""
           }
          },
          "scene": {
           "xaxis": {
            "backgroundcolor": "#E5ECF6",
            "gridcolor": "white",
            "gridwidth": 2,
            "linecolor": "white",
            "showbackground": true,
            "ticks": "",
            "zerolinecolor": "white"
           },
           "yaxis": {
            "backgroundcolor": "#E5ECF6",
            "gridcolor": "white",
            "gridwidth": 2,
            "linecolor": "white",
            "showbackground": true,
            "ticks": "",
            "zerolinecolor": "white"
           },
           "zaxis": {
            "backgroundcolor": "#E5ECF6",
            "gridcolor": "white",
            "gridwidth": 2,
            "linecolor": "white",
            "showbackground": true,
            "ticks": "",
            "zerolinecolor": "white"
           }
          },
          "shapedefaults": {
           "line": {
            "color": "#2a3f5f"
           }
          },
          "ternary": {
           "aaxis": {
            "gridcolor": "white",
            "linecolor": "white",
            "ticks": ""
           },
           "baxis": {
            "gridcolor": "white",
            "linecolor": "white",
            "ticks": ""
           },
           "bgcolor": "#E5ECF6",
           "caxis": {
            "gridcolor": "white",
            "linecolor": "white",
            "ticks": ""
           }
          },
          "title": {
           "x": 0.05
          },
          "xaxis": {
           "automargin": true,
           "gridcolor": "white",
           "linecolor": "white",
           "ticks": "",
           "title": {
            "standoff": 15
           },
           "zerolinecolor": "white",
           "zerolinewidth": 2
          },
          "yaxis": {
           "automargin": true,
           "gridcolor": "white",
           "linecolor": "white",
           "ticks": "",
           "title": {
            "standoff": 15
           },
           "zerolinecolor": "white",
           "zerolinewidth": 2
          }
         }
        },
        "title": {
         "text": "Avg. relative accuracy across queries in workload"
        },
        "width": 1100,
        "xaxis": {
         "anchor": "y",
         "domain": [
          0,
          1
         ],
         "title": {
          "text": "workload_size"
         }
        },
        "yaxis": {
         "anchor": "x",
         "domain": [
          0,
          1
         ],
         "title": {
          "text": "workload_idp_accuracy"
         }
        }
       }
      },
      "text/html": [
       "<div>                            <div id=\"0f9d2c68-df8c-432a-b014-6a1fe9a01f6f\" class=\"plotly-graph-div\" style=\"height:600px; width:1100px;\"></div>            <script type=\"text/javascript\">                require([\"plotly\"], function(Plotly) {                    window.PLOTLYENV=window.PLOTLYENV || {};                                    if (document.getElementById(\"0f9d2c68-df8c-432a-b014-6a1fe9a01f6f\")) {                    Plotly.newPlot(                        \"0f9d2c68-df8c-432a-b014-6a1fe9a01f6f\",                        [{\"hovertemplate\":\"baseline=ipa\\u003cbr\\u003edestination=F122B91F6D102E4630817566839A4F1F\\u003cbr\\u003eworkload_size=%{x}\\u003cbr\\u003eworkload_idp_accuracy=%{y}\\u003cextra\\u003e\\u003c\\u002fextra\\u003e\",\"legendgroup\":\"ipa\",\"line\":{\"color\":\"#636efa\",\"dash\":\"solid\"},\"marker\":{\"symbol\":\"circle\"},\"mode\":\"lines+markers\",\"name\":\"ipa\",\"orientation\":\"v\",\"showlegend\":true,\"x\":[1,5,10,15,20,25],\"xaxis\":\"x\",\"y\":[1.0,1.0,0.8,0.6,0.45,0.4],\"yaxis\":\"y\",\"type\":\"scatter\"},{\"hovertemplate\":\"baseline=user_epoch_ara\\u003cbr\\u003edestination=F122B91F6D102E4630817566839A4F1F\\u003cbr\\u003eworkload_size=%{x}\\u003cbr\\u003eworkload_idp_accuracy=%{y}\\u003cextra\\u003e\\u003c\\u002fextra\\u003e\",\"legendgroup\":\"user_epoch_ara\",\"line\":{\"color\":\"#EF553B\",\"dash\":\"solid\"},\"marker\":{\"symbol\":\"circle\"},\"mode\":\"lines+markers\",\"name\":\"user_epoch_ara\",\"orientation\":\"v\",\"showlegend\":true,\"x\":[1,5,10,15,20,25],\"xaxis\":\"x\",\"y\":[1.0,1.0,1.0,0.999972744617062,0.9999404828794539,0.9998294990064348],\"yaxis\":\"y\",\"type\":\"scatter\"},{\"hovertemplate\":\"baseline=cookiemonster\\u003cbr\\u003edestination=F122B91F6D102E4630817566839A4F1F\\u003cbr\\u003eworkload_size=%{x}\\u003cbr\\u003eworkload_idp_accuracy=%{y}\\u003cextra\\u003e\\u003c\\u002fextra\\u003e\",\"legendgroup\":\"cookiemonster\",\"line\":{\"color\":\"#00cc96\",\"dash\":\"solid\"},\"marker\":{\"symbol\":\"circle\"},\"mode\":\"lines+markers\",\"name\":\"cookiemonster\",\"orientation\":\"v\",\"showlegend\":true,\"x\":[1,5,10,15,20,25],\"xaxis\":\"x\",\"y\":[1.0,1.0,1.0,0.999972744617062,0.9999795584627964,0.999982553903922],\"yaxis\":\"y\",\"type\":\"scatter\"}],                        {\"annotations\":[{\"showarrow\":false,\"text\":\"destination=F122B91F6D102E4630817566839A4F1F\",\"x\":0.5,\"xanchor\":\"center\",\"xref\":\"paper\",\"y\":1.0,\"yanchor\":\"bottom\",\"yref\":\"paper\"}],\"height\":600,\"legend\":{\"title\":{\"text\":\"baseline\"},\"tracegroupgap\":0},\"template\":{\"data\":{\"barpolar\":[{\"marker\":{\"line\":{\"color\":\"#E5ECF6\",\"width\":0.5},\"pattern\":{\"fillmode\":\"overlay\",\"size\":10,\"solidity\":0.2}},\"type\":\"barpolar\"}],\"bar\":[{\"error_x\":{\"color\":\"#2a3f5f\"},\"error_y\":{\"color\":\"#2a3f5f\"},\"marker\":{\"line\":{\"color\":\"#E5ECF6\",\"width\":0.5},\"pattern\":{\"fillmode\":\"overlay\",\"size\":10,\"solidity\":0.2}},\"type\":\"bar\"}],\"carpet\":[{\"aaxis\":{\"endlinecolor\":\"#2a3f5f\",\"gridcolor\":\"white\",\"linecolor\":\"white\",\"minorgridcolor\":\"white\",\"startlinecolor\":\"#2a3f5f\"},\"baxis\":{\"endlinecolor\":\"#2a3f5f\",\"gridcolor\":\"white\",\"linecolor\":\"white\",\"minorgridcolor\":\"white\",\"startlinecolor\":\"#2a3f5f\"},\"type\":\"carpet\"}],\"choropleth\":[{\"colorbar\":{\"outlinewidth\":0,\"ticks\":\"\"},\"type\":\"choropleth\"}],\"contourcarpet\":[{\"colorbar\":{\"outlinewidth\":0,\"ticks\":\"\"},\"type\":\"contourcarpet\"}],\"contour\":[{\"colorbar\":{\"outlinewidth\":0,\"ticks\":\"\"},\"colorscale\":[[0.0,\"#0d0887\"],[0.1111111111111111,\"#46039f\"],[0.2222222222222222,\"#7201a8\"],[0.3333333333333333,\"#9c179e\"],[0.4444444444444444,\"#bd3786\"],[0.5555555555555556,\"#d8576b\"],[0.6666666666666666,\"#ed7953\"],[0.7777777777777778,\"#fb9f3a\"],[0.8888888888888888,\"#fdca26\"],[1.0,\"#f0f921\"]],\"type\":\"contour\"}],\"heatmapgl\":[{\"colorbar\":{\"outlinewidth\":0,\"ticks\":\"\"},\"colorscale\":[[0.0,\"#0d0887\"],[0.1111111111111111,\"#46039f\"],[0.2222222222222222,\"#7201a8\"],[0.3333333333333333,\"#9c179e\"],[0.4444444444444444,\"#bd3786\"],[0.5555555555555556,\"#d8576b\"],[0.6666666666666666,\"#ed7953\"],[0.7777777777777778,\"#fb9f3a\"],[0.8888888888888888,\"#fdca26\"],[1.0,\"#f0f921\"]],\"type\":\"heatmapgl\"}],\"heatmap\":[{\"colorbar\":{\"outlinewidth\":0,\"ticks\":\"\"},\"colorscale\":[[0.0,\"#0d0887\"],[0.1111111111111111,\"#46039f\"],[0.2222222222222222,\"#7201a8\"],[0.3333333333333333,\"#9c179e\"],[0.4444444444444444,\"#bd3786\"],[0.5555555555555556,\"#d8576b\"],[0.6666666666666666,\"#ed7953\"],[0.7777777777777778,\"#fb9f3a\"],[0.8888888888888888,\"#fdca26\"],[1.0,\"#f0f921\"]],\"type\":\"heatmap\"}],\"histogram2dcontour\":[{\"colorbar\":{\"outlinewidth\":0,\"ticks\":\"\"},\"colorscale\":[[0.0,\"#0d0887\"],[0.1111111111111111,\"#46039f\"],[0.2222222222222222,\"#7201a8\"],[0.3333333333333333,\"#9c179e\"],[0.4444444444444444,\"#bd3786\"],[0.5555555555555556,\"#d8576b\"],[0.6666666666666666,\"#ed7953\"],[0.7777777777777778,\"#fb9f3a\"],[0.8888888888888888,\"#fdca26\"],[1.0,\"#f0f921\"]],\"type\":\"histogram2dcontour\"}],\"histogram2d\":[{\"colorbar\":{\"outlinewidth\":0,\"ticks\":\"\"},\"colorscale\":[[0.0,\"#0d0887\"],[0.1111111111111111,\"#46039f\"],[0.2222222222222222,\"#7201a8\"],[0.3333333333333333,\"#9c179e\"],[0.4444444444444444,\"#bd3786\"],[0.5555555555555556,\"#d8576b\"],[0.6666666666666666,\"#ed7953\"],[0.7777777777777778,\"#fb9f3a\"],[0.8888888888888888,\"#fdca26\"],[1.0,\"#f0f921\"]],\"type\":\"histogram2d\"}],\"histogram\":[{\"marker\":{\"pattern\":{\"fillmode\":\"overlay\",\"size\":10,\"solidity\":0.2}},\"type\":\"histogram\"}],\"mesh3d\":[{\"colorbar\":{\"outlinewidth\":0,\"ticks\":\"\"},\"type\":\"mesh3d\"}],\"parcoords\":[{\"line\":{\"colorbar\":{\"outlinewidth\":0,\"ticks\":\"\"}},\"type\":\"parcoords\"}],\"pie\":[{\"automargin\":true,\"type\":\"pie\"}],\"scatter3d\":[{\"line\":{\"colorbar\":{\"outlinewidth\":0,\"ticks\":\"\"}},\"marker\":{\"colorbar\":{\"outlinewidth\":0,\"ticks\":\"\"}},\"type\":\"scatter3d\"}],\"scattercarpet\":[{\"marker\":{\"colorbar\":{\"outlinewidth\":0,\"ticks\":\"\"}},\"type\":\"scattercarpet\"}],\"scattergeo\":[{\"marker\":{\"colorbar\":{\"outlinewidth\":0,\"ticks\":\"\"}},\"type\":\"scattergeo\"}],\"scattergl\":[{\"marker\":{\"colorbar\":{\"outlinewidth\":0,\"ticks\":\"\"}},\"type\":\"scattergl\"}],\"scattermapbox\":[{\"marker\":{\"colorbar\":{\"outlinewidth\":0,\"ticks\":\"\"}},\"type\":\"scattermapbox\"}],\"scatterpolargl\":[{\"marker\":{\"colorbar\":{\"outlinewidth\":0,\"ticks\":\"\"}},\"type\":\"scatterpolargl\"}],\"scatterpolar\":[{\"marker\":{\"colorbar\":{\"outlinewidth\":0,\"ticks\":\"\"}},\"type\":\"scatterpolar\"}],\"scatter\":[{\"fillpattern\":{\"fillmode\":\"overlay\",\"size\":10,\"solidity\":0.2},\"type\":\"scatter\"}],\"scatterternary\":[{\"marker\":{\"colorbar\":{\"outlinewidth\":0,\"ticks\":\"\"}},\"type\":\"scatterternary\"}],\"surface\":[{\"colorbar\":{\"outlinewidth\":0,\"ticks\":\"\"},\"colorscale\":[[0.0,\"#0d0887\"],[0.1111111111111111,\"#46039f\"],[0.2222222222222222,\"#7201a8\"],[0.3333333333333333,\"#9c179e\"],[0.4444444444444444,\"#bd3786\"],[0.5555555555555556,\"#d8576b\"],[0.6666666666666666,\"#ed7953\"],[0.7777777777777778,\"#fb9f3a\"],[0.8888888888888888,\"#fdca26\"],[1.0,\"#f0f921\"]],\"type\":\"surface\"}],\"table\":[{\"cells\":{\"fill\":{\"color\":\"#EBF0F8\"},\"line\":{\"color\":\"white\"}},\"header\":{\"fill\":{\"color\":\"#C8D4E3\"},\"line\":{\"color\":\"white\"}},\"type\":\"table\"}]},\"layout\":{\"annotationdefaults\":{\"arrowcolor\":\"#2a3f5f\",\"arrowhead\":0,\"arrowwidth\":1},\"autotypenumbers\":\"strict\",\"coloraxis\":{\"colorbar\":{\"outlinewidth\":0,\"ticks\":\"\"}},\"colorscale\":{\"diverging\":[[0,\"#8e0152\"],[0.1,\"#c51b7d\"],[0.2,\"#de77ae\"],[0.3,\"#f1b6da\"],[0.4,\"#fde0ef\"],[0.5,\"#f7f7f7\"],[0.6,\"#e6f5d0\"],[0.7,\"#b8e186\"],[0.8,\"#7fbc41\"],[0.9,\"#4d9221\"],[1,\"#276419\"]],\"sequential\":[[0.0,\"#0d0887\"],[0.1111111111111111,\"#46039f\"],[0.2222222222222222,\"#7201a8\"],[0.3333333333333333,\"#9c179e\"],[0.4444444444444444,\"#bd3786\"],[0.5555555555555556,\"#d8576b\"],[0.6666666666666666,\"#ed7953\"],[0.7777777777777778,\"#fb9f3a\"],[0.8888888888888888,\"#fdca26\"],[1.0,\"#f0f921\"]],\"sequentialminus\":[[0.0,\"#0d0887\"],[0.1111111111111111,\"#46039f\"],[0.2222222222222222,\"#7201a8\"],[0.3333333333333333,\"#9c179e\"],[0.4444444444444444,\"#bd3786\"],[0.5555555555555556,\"#d8576b\"],[0.6666666666666666,\"#ed7953\"],[0.7777777777777778,\"#fb9f3a\"],[0.8888888888888888,\"#fdca26\"],[1.0,\"#f0f921\"]]},\"colorway\":[\"#636efa\",\"#EF553B\",\"#00cc96\",\"#ab63fa\",\"#FFA15A\",\"#19d3f3\",\"#FF6692\",\"#B6E880\",\"#FF97FF\",\"#FECB52\"],\"font\":{\"color\":\"#2a3f5f\"},\"geo\":{\"bgcolor\":\"white\",\"lakecolor\":\"white\",\"landcolor\":\"#E5ECF6\",\"showlakes\":true,\"showland\":true,\"subunitcolor\":\"white\"},\"hoverlabel\":{\"align\":\"left\"},\"hovermode\":\"closest\",\"mapbox\":{\"style\":\"light\"},\"paper_bgcolor\":\"white\",\"plot_bgcolor\":\"#E5ECF6\",\"polar\":{\"angularaxis\":{\"gridcolor\":\"white\",\"linecolor\":\"white\",\"ticks\":\"\"},\"bgcolor\":\"#E5ECF6\",\"radialaxis\":{\"gridcolor\":\"white\",\"linecolor\":\"white\",\"ticks\":\"\"}},\"scene\":{\"xaxis\":{\"backgroundcolor\":\"#E5ECF6\",\"gridcolor\":\"white\",\"gridwidth\":2,\"linecolor\":\"white\",\"showbackground\":true,\"ticks\":\"\",\"zerolinecolor\":\"white\"},\"yaxis\":{\"backgroundcolor\":\"#E5ECF6\",\"gridcolor\":\"white\",\"gridwidth\":2,\"linecolor\":\"white\",\"showbackground\":true,\"ticks\":\"\",\"zerolinecolor\":\"white\"},\"zaxis\":{\"backgroundcolor\":\"#E5ECF6\",\"gridcolor\":\"white\",\"gridwidth\":2,\"linecolor\":\"white\",\"showbackground\":true,\"ticks\":\"\",\"zerolinecolor\":\"white\"}},\"shapedefaults\":{\"line\":{\"color\":\"#2a3f5f\"}},\"ternary\":{\"aaxis\":{\"gridcolor\":\"white\",\"linecolor\":\"white\",\"ticks\":\"\"},\"baxis\":{\"gridcolor\":\"white\",\"linecolor\":\"white\",\"ticks\":\"\"},\"bgcolor\":\"#E5ECF6\",\"caxis\":{\"gridcolor\":\"white\",\"linecolor\":\"white\",\"ticks\":\"\"}},\"title\":{\"x\":0.05},\"xaxis\":{\"automargin\":true,\"gridcolor\":\"white\",\"linecolor\":\"white\",\"ticks\":\"\",\"title\":{\"standoff\":15},\"zerolinecolor\":\"white\",\"zerolinewidth\":2},\"yaxis\":{\"automargin\":true,\"gridcolor\":\"white\",\"linecolor\":\"white\",\"ticks\":\"\",\"title\":{\"standoff\":15},\"zerolinecolor\":\"white\",\"zerolinewidth\":2}}},\"title\":{\"text\":\"Avg. relative accuracy across queries in workload\"},\"width\":1100,\"xaxis\":{\"anchor\":\"y\",\"domain\":[0.0,1.0],\"title\":{\"text\":\"workload_size\"}},\"yaxis\":{\"anchor\":\"x\",\"domain\":[0.0,1.0],\"title\":{\"text\":\"workload_idp_accuracy\"}}},                        {\"responsive\": true}                    ).then(function(){\n",
       "                            \n",
       "var gd = document.getElementById('0f9d2c68-df8c-432a-b014-6a1fe9a01f6f');\n",
       "var x = new MutationObserver(function (mutations, observer) {{\n",
       "        var display = window.getComputedStyle(gd).display;\n",
       "        if (!display || display === 'none') {{\n",
       "            console.log([gd, 'removed!']);\n",
       "            Plotly.purge(gd);\n",
       "            observer.disconnect();\n",
       "        }}\n",
       "}});\n",
       "\n",
       "// Listen for the removal of the full notebook cells\n",
       "var notebookContainer = gd.closest('#notebook-container');\n",
       "if (notebookContainer) {{\n",
       "    x.observe(notebookContainer, {childList: true});\n",
       "}}\n",
       "\n",
       "// Listen for the clearing of the current output cell\n",
       "var outputEl = gd.closest('.output');\n",
       "if (outputEl) {{\n",
       "    x.observe(outputEl, {childList: true});\n",
       "}}\n",
       "\n",
       "                        })                };                });            </script>        </div>"
      ]
     },
     "metadata": {},
     "output_type": "display_data"
    }
   ],
   "source": [
    "path = \"ray/criteo/bias_varying_workload_size\"\n",
    "df = analyze_results(path, \"bias\", parallelize=False)\n",
    "for destination in df.groupby(['destination']).destination.unique():\n",
    "    advertiser = df[df['destination'].isin(destination)]\n",
    "    plot_accuracy(advertiser)"
   ]
  },
  {
   "cell_type": "code",
   "execution_count": 4,
   "metadata": {},
   "outputs": [
    {
     "name": "stdout",
     "output_type": "stream",
     "text": [
      "{'32': 0.0230258509299404}{'27': 0.0230258509299404, '28': 0.0230258509299404, '29': 0.0230258509299404, '30': 0.0230258509299404, '31': 0.0230258509299404, '32': 0.0230258509299404, '33': 0.0230258509299404, '34': 0.0230258509299404, '35': 0.0230258509299404, '36': 0.0230258509299404, '37': 0.0230258509299404, '38': 0.0230258509299404, '39': 0.0230258509299404, '40': 0.0230258509299404, '41': 0.0230258509299404, '42': 0.0230258509299404}\n",
      "\n",
      "{'32': 0.0230258509299404}\n",
      "\n",
      "\n",
      "{'32': 0.0230258509299404}\n",
      "{'38': 0.0888685871475895, '39': 0.0888685871475895, '40': 0.0888685871475895, '41': 0.0888685871475895, '42': 0.0888685871475895, '43': 0.0888685871475895, '44': 0.0888685871475895, '45': 0.0888685871475895, '46': 0.0888685871475895}{'32': 0.0230258509299404}{'27': 0.0230258509299404, '28': 0.0230258509299404, '29': 0.0230258509299404, '30': 0.0230258509299404, '31': 0.0230258509299404, '32': 0.0230258509299404, '33': 0.0230258509299404, '34': 0.0230258509299404, '35': 0.0230258509299404, '36': 0.0230258509299404, '37': 0.0230258509299404, '38': 0.0230258509299404, '39': 0.0230258509299404, '40': 0.0230258509299404, '41': 0.0230258509299404, '42': 0.0230258509299404}{'27': 0.0230258509299404, '28': 0.0230258509299404, '29': 0.0230258509299404, '30': 0.0230258509299404, '31': 0.0230258509299404, '32': 0.0230258509299404, '33': 0.0230258509299404, '34': 0.0230258509299404, '35': 0.0230258509299404, '36': 0.0230258509299404, '37': 0.0230258509299404, '38': 0.0230258509299404, '39': 0.0230258509299404, '40': 0.0230258509299404, '41': 0.0230258509299404, '42': 0.0230258509299404, '43': 0.0230258509299404, '44': 0.0230258509299404}{'38': 0.0888685871475895, '39': 0.0888685871475895, '40': 0.0888685871475895, '41': 0.0888685871475895, '42': 0.0888685871475895, '43': 0.0888685871475895, '44': 0.0888685871475895, '45': 0.0888685871475895, '46': 0.0888685871475895}\n",
      "\n",
      "\n",
      "{'27': 0.0230258509299404, '28': 0.0230258509299404, '29': 0.0230258509299404, '30': 0.0230258509299404, '31': 0.0230258509299404, '32': 0.0230258509299404, '33': 0.0230258509299404, '34': 0.0230258509299404, '35': 0.0230258509299404, '36': 0.0230258509299404, '37': 0.0230258509299404, '38': 0.0230258509299404, '39': 0.0230258509299404, '40': 0.0230258509299404, '41': 0.0230258509299404, '42': 0.0230258509299404, '43': 0.0230258509299404, '44': 0.0230258509299404}{'32': 0.0230258509299404}{'39': 0.2432736495503482, '40': 0.2432736495503482, '41': 0.2432736495503482, '42': 0.2432736495503482, '43': 0.2432736495503482, '44': 0.2432736495503482, '45': 0.2432736495503482, '46': 0.2432736495503482}\n",
      "\n",
      "\n",
      "{'39': 0.2432736495503482, '40': 0.2432736495503482, '41': 0.2432736495503482, '42': 0.2432736495503482, '43': 0.2432736495503482, '44': 0.2432736495503482, '45': 0.2432736495503482, '46': 0.2432736495503482}{'32': 0.0230258509299404}{'27': 0.2250816317687239, '28': 0.2250816317687239, '29': 0.2250816317687239, '30': 0.2250816317687239, '31': 0.2250816317687239, '32': 0.2250816317687239, '33': 0.2250816317687239, '34': 0.2250816317687239, '35': 0.2250816317687239, '36': 0.2250816317687239, '37': 0.2250816317687239, '38': 0.2250816317687239, '39': 0.2250816317687239, '40': 0.2250816317687239, '41': 0.2250816317687239, '42': 0.2250816317687239, '43': 0.2250816317687239, '44': 0.2250816317687239, '45': 0.2250816317687239, '46': 0.2250816317687239}\n",
      "\n",
      "\n",
      "{'27': 0.2250816317687239, '28': 0.2250816317687239, '29': 0.2250816317687239, '30': 0.2250816317687239, '31': 0.2250816317687239, '32': 0.2250816317687239, '33': 0.2250816317687239, '34': 0.2250816317687239, '35': 0.2250816317687239, '36': 0.2250816317687239, '37': 0.2250816317687239, '38': 0.2250816317687239, '39': 0.2250816317687239, '40': 0.2250816317687239, '41': 0.2250816317687239, '42': 0.2250816317687239, '43': 0.2250816317687239, '44': 0.2250816317687239, '45': 0.2250816317687239, '46': 0.2250816317687239}{'32': 0.0230258509299404}\n",
      "{'27': 0.0648159069104587, '28': 0.0648159069104587, '29': 0.0648159069104587, '30': 0.0648159069104587, '31': 0.0648159069104587, '32': 0.0648159069104587, '33': 0.0648159069104587, '34': 0.0648159069104587, '35': 0.0648159069104587, '36': 0.0648159069104587, '37': 0.0648159069104587, '38': 0.0648159069104587, '39': 0.0648159069104587, '40': 0.0648159069104587, '41': 0.0648159069104587, '42': 0.0648159069104587, '43': 0.0648159069104587, '44': 0.0648159069104587, '45': 0.0648159069104587, '46': 0.0648159069104587}\n",
      "{'27': 0.1395929125792086, '28': 0.1395929125792086, '29': 0.1395929125792086, '30': 0.1395929125792086, '31': 0.1395929125792086, '32': 0.1395929125792086, '33': 0.1395929125792086, '34': 0.1395929125792086, '35': 0.1395929125792086, '36': 0.1395929125792086, '37': 0.1395929125792086, '38': 0.1395929125792086, '39': 0.1395929125792086, '40': 0.1395929125792086, '41': 0.1395929125792086, '42': 0.1395929125792086, '43': 0.1395929125792086, '44': 0.1395929125792086, '45': 0.1395929125792086, '46': 0.1395929125792086}\n",
      "{'32': 0.0230258509299404}\n",
      "{'27': 0.2633030409369978, '28': 0.2633030409369978, '29': 0.2633030409369978, '30': 0.2633030409369978, '31': 0.2633030409369978, '32': 0.2633030409369978, '33': 0.2633030409369978, '34': 0.2633030409369978, '35': 0.2633030409369978, '36': 0.2633030409369978, '37': 0.2633030409369978, '38': 0.2633030409369978, '39': 0.2633030409369978, '40': 0.2633030409369978, '41': 0.2633030409369978, '42': 0.2633030409369978, '43': 0.2633030409369978, '44': 0.2633030409369978, '45': 0.2633030409369978, '46': 0.2633030409369978}\n",
      "{'27': 0.0526606081873995, '28': 0.0526606081873995, '29': 0.0526606081873995, '30': 0.0526606081873995, '31': 0.0526606081873995, '32': 0.0526606081873995, '33': 0.0526606081873995, '34': 0.0526606081873995, '35': 0.0526606081873995, '36': 0.0526606081873995, '37': 0.0526606081873995, '38': 0.0526606081873995, '39': 0.0526606081873995, '40': 0.0526606081873995, '41': 0.0526606081873995, '42': 0.0526606081873995, '43': 0.0526606081873995, '44': 0.0526606081873995, '45': 0.0526606081873995, '46': 0.0526606081873995}\n",
      "{'32': 0.0230258509299404}\n",
      "{'27': 0.0895599024890721, '28': 0.0895599024890721, '29': 0.0895599024890721, '30': 0.0895599024890721, '31': 0.0895599024890721, '32': 0.0895599024890721, '33': 0.0895599024890721, '34': 0.0895599024890721, '35': 0.0895599024890721, '36': 0.0895599024890721, '37': 0.0895599024890721, '38': 0.0895599024890721, '39': 0.0895599024890721, '40': 0.0895599024890721, '41': 0.0895599024890721, '42': 0.0895599024890721, '43': 0.0895599024890721, '44': 0.0895599024890721, '45': 0.0895599024890721, '46': 0.0895599024890721}\n",
      "{'27': 0.1081533627521862, '28': 0.1081533627521862, '29': 0.1081533627521862, '30': 0.1081533627521862, '31': 0.1081533627521862, '32': 0.1081533627521862, '33': 0.1081533627521862, '34': 0.1081533627521862, '35': 0.1081533627521862, '36': 0.1081533627521862, '37': 0.1081533627521862, '38': 0.1081533627521862, '39': 0.1081533627521862, '40': 0.1081533627521862, '41': 0.1081533627521862, '42': 0.1081533627521862, '43': 0.1081533627521862, '44': 0.1081533627521862, '45': 0.1081533627521862, '46': 0.1081533627521862}\n",
      "\n",
      "{'32': 0.0230258509299404}{'27': 0.1003523684024426, '28': 0.1003523684024426, '29': 0.1003523684024426, '30': 0.1003523684024426, '31': 0.1003523684024426, '32': 0.1003523684024426, '33': 0.1003523684024426, '34': 0.1003523684024426, '35': 0.1003523684024426, '36': 0.1003523684024426, '37': 0.1003523684024426, '38': 0.1003523684024426, '39': 0.1003523684024426, '40': 0.1003523684024426, '41': 0.1003523684024426, '42': 0.1003523684024426, '43': 0.1003523684024426, '44': 0.1003523684024426, '45': 0.1003523684024426, '46': 0.1003523684024426}inf\n",
      "\n",
      "\n",
      "{'32': 0.0230258509299404}{'27': 0.2487936351155101, '28': 0.2487936351155101, '29': 0.2487936351155101, '30': 0.2487936351155101, '31': 0.2487936351155101, '32': 0.2487936351155101, '33': 0.2487936351155101, '34': 0.2487936351155101, '35': 0.2487936351155101, '36': 0.2487936351155101, '37': 0.2487936351155101, '38': 0.2487936351155101, '39': 0.2487936351155101, '40': 0.2487936351155101, '41': 0.2487936351155101, '42': 0.2487936351155101, '43': 0.2487936351155101, '44': 0.2487936351155101, '45': 0.2487936351155101, '46': 0.2487936351155101}\n"
     ]
    },
    {
     "name": "stderr",
     "output_type": "stream",
     "text": [
      "Process Process-4:\n"
     ]
    },
    {
     "name": "stdout",
     "output_type": "stream",
     "text": [
      "\n",
      "{'32': 0.0230258509299404}\n",
      "{'27': 0.0230258509299404, '28': 0.0230258509299404, '29': 0.0230258509299404, '30': 0.0230258509299404, '31': 0.0230258509299404, '32': 0.0230258509299404, '33': 0.0230258509299404, '34': 0.0230258509299404, '35': 0.0230258509299404, '36': 0.0230258509299404, '37': 0.0230258509299404, '38': 0.0230258509299404}{'32': 0.0230258509299404}\n",
      "\n",
      "{'27': 0.0230258509299404, '28': 0.0230258509299404, '29': 0.0230258509299404, '30': 0.0230258509299404, '31': 0.0230258509299404, '32': 0.0230258509299404, '33': 0.0230258509299404, '34': 0.0230258509299404, '35': 0.0230258509299404, '36': 0.0230258509299404, '37': 0.0230258509299404, '38': 0.0230258509299404, '39': 0.0230258509299404, '40': 0.0230258509299404, '41': 0.0230258509299404, '42': 0.0230258509299404}"
     ]
    },
    {
     "name": "stderr",
     "output_type": "stream",
     "text": [
      "Traceback (most recent call last):\n"
     ]
    },
    {
     "name": "stdout",
     "output_type": "stream",
     "text": [
      "{'27': 0.0230258509299404, '28': 0.0230258509299404, '29': 0.0230258509299404, '30': 0.0230258509299404, '31': 0.0230258509299404, '32': 0.0230258509299404}{'32': 0.0230258509299404}{'34': 0.0230258509299404, '35': 0.0230258509299404, '36': 0.0230258509299404, '37': 0.0230258509299404, '38': 0.0230258509299404, '39': 0.0230258509299404, '40': 0.0230258509299404, '41': 0.0230258509299404, '42': 0.0230258509299404, '43': 0.0230258509299404}\n"
     ]
    },
    {
     "name": "stderr",
     "output_type": "stream",
     "text": [
      "  File \"/usr/lib/python3.10/multiprocessing/process.py\", line 314, in _bootstrap\n",
      "    self.run()\n"
     ]
    },
    {
     "name": "stdout",
     "output_type": "stream",
     "text": [
      "\n",
      "\n",
      "\n"
     ]
    },
    {
     "name": "stderr",
     "output_type": "stream",
     "text": [
      "  File \"/usr/lib/python3.10/multiprocessing/process.py\", line 108, in run\n",
      "    self._target(*self._args, **self._kwargs)\n"
     ]
    },
    {
     "name": "stdout",
     "output_type": "stream",
     "text": [
      "{'27': 0.0230258509299404, '28': 0.0230258509299404, '29': 0.0230258509299404, '30': 0.0230258509299404, '31': 0.0230258509299404, '32': 0.0230258509299404}{'32': 0.0230258509299404}{'27': 0.0648159069104587, '28': 0.0648159069104587, '29': 0.0648159069104587, '30': 0.0648159069104587, '31': 0.0648159069104587, '32': 0.0648159069104587, '33': 0.0648159069104587, '34': 0.0648159069104587, '35': 0.0648159069104587, '36': 0.0648159069104587, '37': 0.0648159069104587, '38': 0.0648159069104587, '39': 0.0648159069104587, '40': 0.0648159069104587, '41': 0.0648159069104587, '42': 0.0648159069104587, '43': 0.0648159069104587, '44': 0.0648159069104587, '45': 0.0648159069104587, '46': 0.0648159069104587}{'39': 0.0441446528564809, '40': 0.0441446528564809, '41': 0.0441446528564809, '42': 0.0441446528564809, '43': 0.0441446528564809, '44': 0.0441446528564809, '45': 0.0441446528564809, '46': 0.0441446528564809}"
     ]
    },
    {
     "name": "stderr",
     "output_type": "stream",
     "text": [
      "  File \"/mydata/cookiemonster/notebooks/utils.py\", line 72, in get_budget_logs\n",
      "    for epoch, budget_consumed in budget_per_epoch.items():\n"
     ]
    },
    {
     "name": "stdout",
     "output_type": "stream",
     "text": [
      "\n",
      "\n",
      "\n",
      "\n"
     ]
    },
    {
     "name": "stderr",
     "output_type": "stream",
     "text": [
      "AttributeError: 'float' object has no attribute 'items'\n"
     ]
    },
    {
     "name": "stdout",
     "output_type": "stream",
     "text": [
      "{'32': 0.0230258509299404}{'27': 0.0230258509299404, '28': 0.0230258509299404, '29': 0.0230258509299404, '30': 0.0230258509299404, '31': 0.0230258509299404, '32': 0.0230258509299404, '33': 0.0230258509299404, '34': 0.0230258509299404, '35': 0.0230258509299404, '36': 0.0230258509299404, '37': 0.0230258509299404, '38': 0.0230258509299404}{'27': 0.0230258509299404, '28': 0.0230258509299404, '29': 0.0230258509299404, '30': 0.0230258509299404, '31': 0.0230258509299404, '32': 0.0230258509299404}{'27': 0.0230258509299404, '28': 0.0230258509299404, '29': 0.0230258509299404, '30': 0.0230258509299404, '31': 0.0230258509299404, '32': 0.0230258509299404, '33': 0.0230258509299404, '34': 0.0230258509299404, '35': 0.0230258509299404, '36': 0.0230258509299404, '37': 0.0230258509299404, '38': 0.0230258509299404, '39': 0.0230258509299404, '40': 0.0230258509299404, '41': 0.0230258509299404, '42': 0.0230258509299404}\n",
      "{'27': 0.0410333260802645, '28': 0.0410333260802645, '29': 0.0410333260802645, '30': 0.0410333260802645, '31': 0.0410333260802645, '32': 0.0410333260802645, '33': 0.0410333260802645, '34': 0.0410333260802645, '35': 0.0410333260802645, '36': 0.0410333260802645, '37': 0.0410333260802645, '38': 0.0410333260802645, '39': 0.0410333260802645, '40': 0.0410333260802645, '41': 0.0410333260802645, '42': 0.0410333260802645, '43': 0.0410333260802645, '44': 0.0410333260802645, '45': 0.0410333260802645, '46': 0.0410333260802645}\n",
      "\n",
      "\n",
      "\n",
      "{'32': 0.0230258509299404}{'27': 0.0230258509299404, '28': 0.0230258509299404, '29': 0.0230258509299404, '30': 0.0230258509299404, '31': 0.0230258509299404, '32': 0.0230258509299404}\n",
      "{'27': 0.0230258509299404, '28': 0.0230258509299404, '29': 0.0230258509299404, '30': 0.0230258509299404, '31': 0.0230258509299404, '32': 0.0230258509299404, '33': 0.0230258509299404, '34': 0.0230258509299404, '35': 0.0230258509299404, '36': 0.0230258509299404, '37': 0.0230258509299404, '38': 0.0230258509299404, '39': 0.0230258509299404, '40': 0.0230258509299404}\n",
      "{'38': 0.0888685871475895, '39': 0.0888685871475895, '40': 0.0888685871475895, '41': 0.0888685871475895, '42': 0.0888685871475895, '43': 0.0888685871475895, '44': 0.0888685871475895, '45': 0.0888685871475895, '46': 0.0888685871475895}{'27': 0.0242020716101959, '28': 0.0242020716101959, '29': 0.0242020716101959, '30': 0.0242020716101959, '31': 0.0242020716101959, '32': 0.0242020716101959, '33': 0.0242020716101959, '34': 0.0242020716101959, '35': 0.0242020716101959, '36': 0.0242020716101959, '37': 0.0242020716101959, '38': 0.0242020716101959, '39': 0.0242020716101959, '40': 0.0242020716101959, '41': 0.0242020716101959, '42': 0.0242020716101959, '43': 0.0242020716101959, '44': 0.0242020716101959, '45': 0.0242020716101959, '46': 0.0242020716101959}{'32': 0.0230258509299404}\n",
      "{'27': 0.0230258509299404, '28': 0.0230258509299404, '29': 0.0230258509299404, '30': 0.0230258509299404, '31': 0.0230258509299404, '32': 0.0230258509299404}\n",
      "\n",
      "\n",
      "{'27': 0.0242020716101959, '28': 0.0242020716101959, '29': 0.0242020716101959, '30': 0.0242020716101959, '31': 0.0242020716101959, '32': 0.0242020716101959, '33': 0.0242020716101959, '34': 0.0242020716101959, '35': 0.0242020716101959, '36': 0.0242020716101959, '37': 0.0242020716101959, '38': 0.0242020716101959, '39': 0.0242020716101959, '40': 0.0242020716101959, '41': 0.0242020716101959, '42': 0.0242020716101959, '43': 0.0242020716101959, '44': 0.0242020716101959, '45': 0.0242020716101959, '46': 0.0242020716101959}\n",
      "\n",
      "{'32': 0.0230258509299404}{'27': 0.0230258509299404, '28': 0.0230258509299404, '29': 0.0230258509299404, '30': 0.0230258509299404, '31': 0.0230258509299404, '32': 0.0230258509299404, '33': 0.0230258509299404, '34': 0.0230258509299404, '35': 0.0230258509299404, '36': 0.0230258509299404, '37': 0.0230258509299404, '38': 0.0230258509299404, '39': 0.0230258509299404, '40': 0.0230258509299404, '41': 0.0230258509299404, '42': 0.0230258509299404, '43': 0.0230258509299404, '44': 0.0230258509299404}{'27': 0.0230258509299404, '28': 0.0230258509299404, '29': 0.0230258509299404, '30': 0.0230258509299404, '31': 0.0230258509299404, '32': 0.0230258509299404, '33': 0.0230258509299404, '34': 0.0230258509299404, '35': 0.0230258509299404, '36': 0.0230258509299404}{'27': 0.0230258509299404, '28': 0.0230258509299404, '29': 0.0230258509299404, '30': 0.0230258509299404, '31': 0.0230258509299404, '32': 0.0230258509299404}\n",
      "{'27': 0.0230258509299404, '28': 0.0230258509299404, '29': 0.0230258509299404, '30': 0.0230258509299404, '31': 0.0230258509299404, '32': 0.0230258509299404, '33': 0.0230258509299404, '34': 0.0230258509299404, '35': 0.0230258509299404, '36': 0.0230258509299404, '37': 0.0230258509299404, '38': 0.0230258509299404, '39': 0.0230258509299404, '40': 0.0230258509299404, '41': 0.0230258509299404, '42': 0.0230258509299404, '43': 0.0230258509299404, '44': 0.0230258509299404}\n",
      "\n",
      "\n",
      "\n",
      "{'27': 0.0230258509299404, '28': 0.0230258509299404, '29': 0.0230258509299404, '30': 0.0230258509299404, '31': 0.0230258509299404, '32': 0.0230258509299404, '33': 0.0230258509299404, '34': 0.0230258509299404, '35': 0.0230258509299404, '36': 0.0230258509299404, '37': 0.0230258509299404, '38': 0.0230258509299404, '39': 0.0230258509299404, '40': 0.0230258509299404, '41': 0.0230258509299404, '42': 0.0230258509299404}{'32': 0.0230258509299404}{'27': 0.0230258509299404, '28': 0.0230258509299404, '29': 0.0230258509299404, '30': 0.0230258509299404, '31': 0.0230258509299404, '32': 0.0230258509299404}\n",
      "{'39': 0.2432736495503482, '40': 0.2432736495503482, '41': 0.2432736495503482, '42': 0.2432736495503482, '43': 0.2432736495503482, '44': 0.2432736495503482, '45': 0.2432736495503482, '46': 0.2432736495503482}\n",
      "{'40': 0.1104357358750142, '41': 0.1104357358750142, '42': 0.1104357358750142, '43': 0.1104357358750142, '44': 0.1104357358750142, '45': 0.1104357358750142, '46': 0.1104357358750142}{'27': 0.0230258509299404, '28': 0.0230258509299404, '29': 0.0230258509299404, '30': 0.0230258509299404, '31': 0.0230258509299404, '32': 0.0230258509299404}\n",
      "\n",
      "\n",
      "{'32': 0.0230258509299404}\n",
      "{'27': 0.0230258509299404, '28': 0.0230258509299404, '29': 0.0230258509299404, '30': 0.0230258509299404, '31': 0.0230258509299404, '32': 0.0230258509299404}{'27': 0.2250816317687239, '28': 0.2250816317687239, '29': 0.2250816317687239, '30': 0.2250816317687239, '31': 0.2250816317687239, '32': 0.2250816317687239, '33': 0.2250816317687239, '34': 0.2250816317687239, '35': 0.2250816317687239, '36': 0.2250816317687239, '37': 0.2250816317687239, '38': 0.2250816317687239, '39': 0.2250816317687239, '40': 0.2250816317687239, '41': 0.2250816317687239, '42': 0.2250816317687239, '43': 0.2250816317687239, '44': 0.2250816317687239, '45': 0.2250816317687239, '46': 0.2250816317687239}\n",
      "\n",
      "{'27': 0.0303031531617298, '28': 0.0303031531617298, '29': 0.0303031531617298, '30': 0.0303031531617298, '31': 0.0303031531617298, '32': 0.0303031531617298, '33': 0.0303031531617298, '34': 0.0303031531617298, '35': 0.0303031531617298, '36': 0.0303031531617298, '37': 0.0303031531617298, '38': 0.0303031531617298, '39': 0.0303031531617298, '40': 0.0303031531617298, '41': 0.0303031531617298, '42': 0.0303031531617298, '43': 0.0303031531617298, '44': 0.0303031531617298, '45': 0.0303031531617298, '46': 0.0303031531617298}{'27': 0.0230258509299404, '28': 0.0230258509299404, '29': 0.0230258509299404, '30': 0.0230258509299404, '31': 0.0230258509299404, '32': 0.0230258509299404}\n",
      "{'32': 0.0230258509299404}\n",
      "{'27': 0.0230258509299404, '28': 0.0230258509299404, '29': 0.0230258509299404, '30': 0.0230258509299404, '31': 0.0230258509299404, '32': 0.0230258509299404}\n",
      "\n",
      "{'27': 0.1395929125792086, '28': 0.1395929125792086, '29': 0.1395929125792086, '30': 0.1395929125792086, '31': 0.1395929125792086, '32': 0.1395929125792086, '33': 0.1395929125792086, '34': 0.1395929125792086, '35': 0.1395929125792086, '36': 0.1395929125792086, '37': 0.1395929125792086, '38': 0.1395929125792086, '39': 0.1395929125792086, '40': 0.1395929125792086, '41': 0.1395929125792086, '42': 0.1395929125792086, '43': 0.1395929125792086, '44': 0.1395929125792086, '45': 0.1395929125792086, '46': 0.1395929125792086}\n",
      "{'27': 0.0230258509299404, '28': 0.0230258509299404, '29': 0.0230258509299404, '30': 0.0230258509299404, '31': 0.0230258509299404, '32': 0.0230258509299404, '33': 0.0230258509299404, '34': 0.0230258509299404, '35': 0.0230258509299404, '36': 0.0230258509299404, '37': 0.0230258509299404, '38': 0.0230258509299404, '39': 0.0230258509299404, '40': 0.0230258509299404, '41': 0.0230258509299404, '42': 0.0230258509299404, '43': 0.0230258509299404, '44': 0.0230258509299404}{'27': 0.0230258509299404, '28': 0.0230258509299404, '29': 0.0230258509299404, '30': 0.0230258509299404, '31': 0.0230258509299404, '32': 0.0230258509299404}{'27': 0.0230258509299404, '28': 0.0230258509299404, '29': 0.0230258509299404, '30': 0.0230258509299404, '31': 0.0230258509299404, '32': 0.0230258509299404, '33': 0.0230258509299404, '34': 0.0230258509299404, '35': 0.0230258509299404, '36': 0.0230258509299404, '37': 0.0230258509299404, '38': 0.0230258509299404, '39': 0.0230258509299404, '40': 0.0230258509299404, '41': 0.0230258509299404, '42': 0.0230258509299404}{'32': 0.0230258509299404}\n",
      "{'32': 0.0230258509299404}\n",
      "{'27': 0.0230258509299404, '28': 0.0230258509299404, '29': 0.0230258509299404, '30': 0.0230258509299404, '31': 0.0230258509299404, '32': 0.0230258509299404}\n",
      "\n",
      "\n",
      "\n",
      "{'27': 0.0526606081873995, '28': 0.0526606081873995, '29': 0.0526606081873995, '30': 0.0526606081873995, '31': 0.0526606081873995, '32': 0.0526606081873995, '33': 0.0526606081873995, '34': 0.0526606081873995, '35': 0.0526606081873995, '36': 0.0526606081873995, '37': 0.0526606081873995, '38': 0.0526606081873995, '39': 0.0526606081873995, '40': 0.0526606081873995, '41': 0.0526606081873995, '42': 0.0526606081873995, '43': 0.0526606081873995, '44': 0.0526606081873995, '45': 0.0526606081873995, '46': 0.0526606081873995}\n",
      "{'27': 0.0230258509299404, '28': 0.0230258509299404, '29': 0.0230258509299404, '30': 0.0230258509299404, '31': 0.0230258509299404, '32': 0.0230258509299404}{'27': 0.0230258509299404, '28': 0.0230258509299404, '29': 0.0230258509299404, '30': 0.0230258509299404, '31': 0.0230258509299404, '32': 0.0230258509299404, '33': 0.0230258509299404, '34': 0.0230258509299404, '35': 0.0230258509299404, '36': 0.0230258509299404}{'32': 0.0230258509299404}{'38': 0.0888685871475895, '39': 0.0888685871475895, '40': 0.0888685871475895, '41': 0.0888685871475895, '42': 0.0888685871475895, '43': 0.0888685871475895, '44': 0.0888685871475895, '45': 0.0888685871475895, '46': 0.0888685871475895}\n",
      "{'32': 0.0230258509299404}{'27': 0.0230258509299404, '28': 0.0230258509299404, '29': 0.0230258509299404, '30': 0.0230258509299404, '31': 0.0230258509299404, '32': 0.0230258509299404}\n",
      "\n",
      "\n",
      "\n",
      "{'27': 0.1081533627521862, '28': 0.1081533627521862, '29': 0.1081533627521862, '30': 0.1081533627521862, '31': 0.1081533627521862, '32': 0.1081533627521862, '33': 0.1081533627521862, '34': 0.1081533627521862, '35': 0.1081533627521862, '36': 0.1081533627521862, '37': 0.1081533627521862, '38': 0.1081533627521862, '39': 0.1081533627521862, '40': 0.1081533627521862, '41': 0.1081533627521862, '42': 0.1081533627521862, '43': 0.1081533627521862, '44': 0.1081533627521862, '45': 0.1081533627521862, '46': 0.1081533627521862}\n",
      "\n",
      "{'32': 0.0230258509299404}{'27': 0.0230258509299404, '28': 0.0230258509299404, '29': 0.0230258509299404, '30': 0.0230258509299404, '31': 0.0230258509299404, '32': 0.0230258509299404}{'32': 0.0230258509299404, '33': 0.0230258509299404, '34': 0.0230258509299404, '35': 0.0230258509299404, '36': 0.0230258509299404, '37': 0.0230258509299404, '38': 0.0230258509299404, '39': 0.0230258509299404, '40': 0.0230258509299404}\n",
      "{'32': 0.0230258509299404}{'27': 0.0230258509299404, '28': 0.0230258509299404, '29': 0.0230258509299404, '30': 0.0230258509299404, '31': 0.0230258509299404, '32': 0.0230258509299404, '33': 0.0230258509299404, '34': 0.0230258509299404, '35': 0.0230258509299404, '36': 0.0230258509299404, '37': 0.0230258509299404, '38': 0.0230258509299404, '39': 0.0230258509299404, '40': 0.0230258509299404, '41': 0.0230258509299404, '42': 0.0230258509299404, '43': 0.0230258509299404, '44': 0.0230258509299404}{'27': 0.0230258509299404, '28': 0.0230258509299404, '29': 0.0230258509299404, '30': 0.0230258509299404, '31': 0.0230258509299404, '32': 0.0230258509299404}\n",
      "\n",
      "\n",
      "inf{'27': 0.0230258509299404, '28': 0.0230258509299404, '29': 0.0230258509299404, '30': 0.0230258509299404, '31': 0.0230258509299404, '32': 0.0230258509299404, '33': 0.0230258509299404, '34': 0.0230258509299404, '35': 0.0230258509299404, '36': 0.0230258509299404, '37': 0.0230258509299404, '38': 0.0230258509299404, '39': 0.0230258509299404, '40': 0.0230258509299404, '41': 0.0230258509299404, '42': 0.0230258509299404}\n",
      "{'27': 0.0230258509299404, '28': 0.0230258509299404, '29': 0.0230258509299404, '30': 0.0230258509299404, '31': 0.0230258509299404, '32': 0.0230258509299404}\n",
      "\n",
      "{'32': 0.0230258509299404}{'27': 0.0230258509299404, '28': 0.0230258509299404, '29': 0.0230258509299404, '30': 0.0230258509299404, '31': 0.0230258509299404, '32': 0.0230258509299404}\n",
      "{'36': 0.0230258509299404, '37': 0.0230258509299404, '38': 0.0230258509299404, '39': 0.0230258509299404, '40': 0.0230258509299404, '41': 0.0230258509299404, '42': 0.0230258509299404, '43': 0.0230258509299404}\n",
      "\n",
      "{'32': 0.0230258509299404}{'39': 0.2432736495503482, '40': 0.2432736495503482, '41': 0.2432736495503482, '42': 0.2432736495503482, '43': 0.2432736495503482, '44': 0.2432736495503482, '45': 0.2432736495503482, '46': 0.2432736495503482}\n",
      "{'27': 0.0230258509299404, '28': 0.0230258509299404, '29': 0.0230258509299404, '30': 0.0230258509299404, '31': 0.0230258509299404, '32': 0.0230258509299404}\n",
      "\n"
     ]
    },
    {
     "name": "stderr",
     "output_type": "stream",
     "text": [
      "Process Process-10:\n"
     ]
    },
    {
     "name": "stdout",
     "output_type": "stream",
     "text": [
      "{'27': 0.0230258509299404, '28': 0.0230258509299404, '29': 0.0230258509299404, '30': 0.0230258509299404, '31': 0.0230258509299404, '32': 0.0230258509299404}{'38': 0.0888685871475895, '39': 0.0888685871475895, '40': 0.0888685871475895, '41': 0.0888685871475895, '42': 0.0888685871475895, '43': 0.0888685871475895, '44': 0.0888685871475895, '45': 0.0888685871475895, '46': 0.0888685871475895}\n",
      "{'32': 0.0230258509299404}\n",
      "\n",
      "{'27': 0.0230258509299404, '28': 0.0230258509299404, '29': 0.0230258509299404, '30': 0.0230258509299404, '31': 0.0230258509299404, '32': 0.0230258509299404}{'39': 0.039083172248053, '40': 0.039083172248053, '41': 0.039083172248053, '42': 0.039083172248053, '43': 0.039083172248053, '44': 0.039083172248053, '45': 0.039083172248053, '46': 0.039083172248053}\n",
      "\n",
      "\n",
      "{'32': 0.0230258509299404}"
     ]
    },
    {
     "name": "stderr",
     "output_type": "stream",
     "text": [
      "Traceback (most recent call last):\n"
     ]
    },
    {
     "name": "stdout",
     "output_type": "stream",
     "text": [
      "\n",
      "{'27': 0.2250816317687239, '28': 0.2250816317687239, '29': 0.2250816317687239, '30': 0.2250816317687239, '31': 0.2250816317687239, '32': 0.2250816317687239, '33': 0.2250816317687239, '34': 0.2250816317687239, '35': 0.2250816317687239, '36': 0.2250816317687239, '37': 0.2250816317687239, '38': 0.2250816317687239, '39': 0.2250816317687239, '40': 0.2250816317687239, '41': 0.2250816317687239, '42': 0.2250816317687239, '43': 0.2250816317687239, '44': 0.2250816317687239, '45': 0.2250816317687239, '46': 0.2250816317687239}{'27': 0.0230258509299404, '28': 0.0230258509299404, '29': 0.0230258509299404, '30': 0.0230258509299404, '31': 0.0230258509299404, '32': 0.0230258509299404}\n",
      "{'27': 0.0230258509299404, '28': 0.0230258509299404, '29': 0.0230258509299404, '30': 0.0230258509299404, '31': 0.0230258509299404, '32': 0.0230258509299404, '33': 0.0230258509299404, '34': 0.0230258509299404, '35': 0.0230258509299404, '36': 0.0230258509299404, '37': 0.0230258509299404, '38': 0.0230258509299404, '39': 0.0230258509299404, '40': 0.0230258509299404, '41': 0.0230258509299404, '42': 0.0230258509299404, '43': 0.0230258509299404, '44': 0.0230258509299404}{'32': 0.0230258509299404}{'27': 0.0230258509299404, '28': 0.0230258509299404, '29': 0.0230258509299404, '30': 0.0230258509299404, '31': 0.0230258509299404, '32': 0.0230258509299404}\n"
     ]
    },
    {
     "name": "stderr",
     "output_type": "stream",
     "text": [
      "  File \"/usr/lib/python3.10/multiprocessing/process.py\", line 314, in _bootstrap\n",
      "    self.run()\n"
     ]
    },
    {
     "name": "stdout",
     "output_type": "stream",
     "text": [
      "\n",
      "{'27': 0.0230258509299404, '28': 0.0230258509299404, '29': 0.0230258509299404, '30': 0.0230258509299404, '31': 0.0230258509299404, '32': 0.0230258509299404}\n",
      "\n",
      "{'27': 0.0230258509299404, '28': 0.0230258509299404, '29': 0.0230258509299404, '30': 0.0230258509299404, '31': 0.0230258509299404, '32': 0.0230258509299404, '33': 0.0230258509299404, '34': 0.0230258509299404, '35': 0.0230258509299404}\n",
      "\n",
      "{'32': 0.0230258509299404}"
     ]
    },
    {
     "name": "stderr",
     "output_type": "stream",
     "text": [
      "  File \"/usr/lib/python3.10/multiprocessing/process.py\", line 108, in run\n",
      "    self._target(*self._args, **self._kwargs)\n"
     ]
    },
    {
     "name": "stdout",
     "output_type": "stream",
     "text": [
      "\n",
      "{'27': 0.0230258509299404, '28': 0.0230258509299404, '29': 0.0230258509299404, '30': 0.0230258509299404, '31': 0.0230258509299404, '32': 0.0230258509299404}{'27': 0.1395929125792086, '28': 0.1395929125792086, '29': 0.1395929125792086, '30': 0.1395929125792086, '31': 0.1395929125792086, '32': 0.1395929125792086, '33': 0.1395929125792086, '34': 0.1395929125792086, '35': 0.1395929125792086, '36': 0.1395929125792086, '37': 0.1395929125792086, '38': 0.1395929125792086, '39': 0.1395929125792086, '40': 0.1395929125792086, '41': 0.1395929125792086, '42': 0.1395929125792086, '43': 0.1395929125792086, '44': 0.1395929125792086, '45': 0.1395929125792086, '46': 0.1395929125792086}\n",
      "{'39': 0.2432736495503482, '40': 0.2432736495503482, '41': 0.2432736495503482, '42': 0.2432736495503482, '43': 0.2432736495503482, '44': 0.2432736495503482, '45': 0.2432736495503482, '46': 0.2432736495503482}\n"
     ]
    },
    {
     "name": "stderr",
     "output_type": "stream",
     "text": [
      "  File \"/mydata/cookiemonster/notebooks/utils.py\", line 72, in get_budget_logs\n",
      "    for epoch, budget_consumed in budget_per_epoch.items():\n"
     ]
    },
    {
     "name": "stdout",
     "output_type": "stream",
     "text": [
      "{'27': 0.0230258509299404, '28': 0.0230258509299404, '29': 0.0230258509299404, '30': 0.0230258509299404, '31': 0.0230258509299404, '32': 0.0230258509299404}{'32': 0.0230258509299404}{'27': 0.0230258509299404, '28': 0.0230258509299404, '29': 0.0230258509299404, '30': 0.0230258509299404, '31': 0.0230258509299404, '32': 0.0230258509299404}\n",
      "\n",
      "{'32': 0.0230258509299404}\n",
      "{'27': 0.0230258509299404, '28': 0.0230258509299404, '29': 0.0230258509299404, '30': 0.0230258509299404, '31': 0.0230258509299404, '32': 0.0230258509299404, '33': 0.0230258509299404, '34': 0.0230258509299404, '35': 0.0230258509299404, '36': 0.0230258509299404, '37': 0.0230258509299404, '38': 0.0230258509299404, '39': 0.0230258509299404, '40': 0.0230258509299404, '41': 0.0230258509299404, '42': 0.0230258509299404}\n"
     ]
    },
    {
     "name": "stderr",
     "output_type": "stream",
     "text": [
      "AttributeError: 'float' object has no attribute 'items'\n"
     ]
    },
    {
     "name": "stdout",
     "output_type": "stream",
     "text": [
      "\n",
      "\n",
      "{'27': 0.0230258509299404, '28': 0.0230258509299404, '29': 0.0230258509299404, '30': 0.0230258509299404, '31': 0.0230258509299404, '32': 0.0230258509299404}\n",
      "{'27': 0.0526606081873995, '28': 0.0526606081873995, '29': 0.0526606081873995, '30': 0.0526606081873995, '31': 0.0526606081873995, '32': 0.0526606081873995, '33': 0.0526606081873995, '34': 0.0526606081873995, '35': 0.0526606081873995, '36': 0.0526606081873995, '37': 0.0526606081873995, '38': 0.0526606081873995, '39': 0.0526606081873995, '40': 0.0526606081873995, '41': 0.0526606081873995, '42': 0.0526606081873995, '43': 0.0526606081873995, '44': 0.0526606081873995, '45': 0.0526606081873995, '46': 0.0526606081873995}{'27': 0.2250816317687239, '28': 0.2250816317687239, '29': 0.2250816317687239, '30': 0.2250816317687239, '31': 0.2250816317687239, '32': 0.2250816317687239, '33': 0.2250816317687239, '34': 0.2250816317687239, '35': 0.2250816317687239, '36': 0.2250816317687239, '37': 0.2250816317687239, '38': 0.2250816317687239, '39': 0.2250816317687239, '40': 0.2250816317687239, '41': 0.2250816317687239, '42': 0.2250816317687239, '43': 0.2250816317687239, '44': 0.2250816317687239, '45': 0.2250816317687239, '46': 0.2250816317687239}{'27': 0.0230258509299404, '28': 0.0230258509299404, '29': 0.0230258509299404, '30': 0.0230258509299404, '31': 0.0230258509299404, '32': 0.0230258509299404}{'32': 0.0230258509299404}\n",
      "{'27': 0.0230258509299404, '28': 0.0230258509299404, '29': 0.0230258509299404, '30': 0.0230258509299404, '31': 0.0230258509299404, '32': 0.0230258509299404}\n",
      "\n",
      "{'32': 0.0230258509299404}{'27': 0.0230258509299404, '28': 0.0230258509299404, '29': 0.0230258509299404, '30': 0.0230258509299404, '31': 0.0230258509299404, '32': 0.0230258509299404}\n",
      "{'32': 0.0230258509299404}\n",
      "\n",
      "{'38': 0.1144710461344293, '39': 0.1144710461344293, '40': 0.1144710461344293, '41': 0.1144710461344293, '42': 0.1144710461344293, '43': 0.1144710461344293, '44': 0.1144710461344293, '45': 0.1144710461344293, '46': 0.1144710461344293}\n",
      "{'27': 0.0230258509299404, '28': 0.0230258509299404, '29': 0.0230258509299404, '30': 0.0230258509299404, '31': 0.0230258509299404, '32': 0.0230258509299404}\n",
      "{'27': 0.1081533627521862, '28': 0.1081533627521862, '29': 0.1081533627521862, '30': 0.1081533627521862, '31': 0.1081533627521862, '32': 0.1081533627521862, '33': 0.1081533627521862, '34': 0.1081533627521862, '35': 0.1081533627521862, '36': 0.1081533627521862, '37': 0.1081533627521862, '38': 0.1081533627521862, '39': 0.1081533627521862, '40': 0.1081533627521862, '41': 0.1081533627521862, '42': 0.1081533627521862, '43': 0.1081533627521862, '44': 0.1081533627521862, '45': 0.1081533627521862, '46': 0.1081533627521862}\n",
      "{'27': 0.1395929125792086, '28': 0.1395929125792086, '29': 0.1395929125792086, '30': 0.1395929125792086, '31': 0.1395929125792086, '32': 0.1395929125792086, '33': 0.1395929125792086, '34': 0.1395929125792086, '35': 0.1395929125792086, '36': 0.1395929125792086, '37': 0.1395929125792086, '38': 0.1395929125792086, '39': 0.1395929125792086, '40': 0.1395929125792086, '41': 0.1395929125792086, '42': 0.1395929125792086, '43': 0.1395929125792086, '44': 0.1395929125792086, '45': 0.1395929125792086, '46': 0.1395929125792086}\n",
      "{'27': 0.0230258509299404, '28': 0.0230258509299404, '29': 0.0230258509299404, '30': 0.0230258509299404, '31': 0.0230258509299404, '32': 0.0230258509299404}\n",
      "{'32': 0.0230258509299404}\n",
      "{'27': 0.0230258509299404, '28': 0.0230258509299404, '29': 0.0230258509299404, '30': 0.0230258509299404, '31': 0.0230258509299404, '32': 0.0230258509299404}{'32': 0.0230258509299404}\n",
      "{'27': 0.0230258509299404, '28': 0.0230258509299404, '29': 0.0230258509299404, '30': 0.0230258509299404, '31': 0.0230258509299404, '32': 0.0230258509299404}\n",
      "\n",
      "{'32': 0.0230258509299404}\n",
      "\n",
      "{'27': 0.0230258509299404, '28': 0.0230258509299404, '29': 0.0230258509299404, '30': 0.0230258509299404, '31': 0.0230258509299404, '32': 0.0230258509299404}\n",
      "{'27': 0.0725909550124226, '28': 0.0725909550124226, '29': 0.0725909550124226, '30': 0.0725909550124226, '31': 0.0725909550124226, '32': 0.0725909550124226, '33': 0.0725909550124226, '34': 0.0725909550124226, '35': 0.0725909550124226, '36': 0.0725909550124226, '37': 0.0725909550124226, '38': 0.0725909550124226, '39': 0.0725909550124226, '40': 0.0725909550124226, '41': 0.0725909550124226, '42': 0.0725909550124226, '43': 0.0725909550124226, '44': 0.0725909550124226, '45': 0.0725909550124226, '46': 0.0725909550124226}\n",
      "inf\n",
      "{'27': 0.0230258509299404, '28': 0.0230258509299404, '29': 0.0230258509299404, '30': 0.0230258509299404, '31': 0.0230258509299404, '32': 0.0230258509299404}{'27': 0.0526606081873995, '28': 0.0526606081873995, '29': 0.0526606081873995, '30': 0.0526606081873995, '31': 0.0526606081873995, '32': 0.0526606081873995, '33': 0.0526606081873995, '34': 0.0526606081873995, '35': 0.0526606081873995, '36': 0.0526606081873995, '37': 0.0526606081873995, '38': 0.0526606081873995, '39': 0.0526606081873995, '40': 0.0526606081873995, '41': 0.0526606081873995, '42': 0.0526606081873995, '43': 0.0526606081873995, '44': 0.0526606081873995, '45': 0.0526606081873995, '46': 0.0526606081873995}{'32': 0.0230258509299404}\n",
      "{'27': 0.0230258509299404, '28': 0.0230258509299404, '29': 0.0230258509299404, '30': 0.0230258509299404, '31': 0.0230258509299404, '32': 0.0230258509299404}\n",
      "\n",
      "{'32': 0.0230258509299404}{'27': 0.0230258509299404, '28': 0.0230258509299404, '29': 0.0230258509299404, '30': 0.0230258509299404, '31': 0.0230258509299404, '32': 0.0230258509299404}\n",
      "\n",
      "{'32': 0.0230258509299404}\n",
      "\n",
      "{'27': 0.0230258509299404, '28': 0.0230258509299404, '29': 0.0230258509299404, '30': 0.0230258509299404, '31': 0.0230258509299404, '32': 0.0230258509299404}\n",
      "\n",
      "{'27': 0.0745293766950654, '28': 0.0745293766950654, '29': 0.0745293766950654, '30': 0.0745293766950654, '31': 0.0745293766950654, '32': 0.0745293766950654, '33': 0.0745293766950654, '34': 0.0745293766950654, '35': 0.0745293766950654, '36': 0.0745293766950654, '37': 0.0745293766950654, '38': 0.0745293766950654, '39': 0.0745293766950654, '40': 0.0745293766950654, '41': 0.0745293766950654, '42': 0.0745293766950654, '43': 0.0745293766950654, '44': 0.0745293766950654, '45': 0.0745293766950654}{'27': 0.1081533627521862, '28': 0.1081533627521862, '29': 0.1081533627521862, '30': 0.1081533627521862, '31': 0.1081533627521862, '32': 0.1081533627521862, '33': 0.1081533627521862, '34': 0.1081533627521862, '35': 0.1081533627521862, '36': 0.1081533627521862, '37': 0.1081533627521862, '38': 0.1081533627521862, '39': 0.1081533627521862, '40': 0.1081533627521862, '41': 0.1081533627521862, '42': 0.1081533627521862, '43': 0.1081533627521862, '44': 0.1081533627521862, '45': 0.1081533627521862, '46': 0.1081533627521862}"
     ]
    },
    {
     "name": "stderr",
     "output_type": "stream",
     "text": [
      "Process Process-13:\n"
     ]
    },
    {
     "name": "stdout",
     "output_type": "stream",
     "text": [
      "\n",
      "{'27': 0.0230258509299404, '28': 0.0230258509299404, '29': 0.0230258509299404, '30': 0.0230258509299404, '31': 0.0230258509299404, '32': 0.0230258509299404}\n",
      "{'32': 0.0230258509299404}{'27': 0.0230258509299404, '28': 0.0230258509299404, '29': 0.0230258509299404, '30': 0.0230258509299404, '31': 0.0230258509299404, '32': 0.0230258509299404}{'27': 0.0230258509299404, '28': 0.0230258509299404, '29': 0.0230258509299404, '30': 0.0230258509299404, '31': 0.0230258509299404, '32': 0.0230258509299404}{'32': 0.0230258509299404}\n",
      "\n",
      "\n",
      "{'32': 0.0230258509299404}\n",
      "{'27': 0.0230258509299404, '28': 0.0230258509299404, '29': 0.0230258509299404, '30': 0.0230258509299404, '31': 0.0230258509299404, '32': 0.0230258509299404}\n",
      "\n",
      "\n"
     ]
    },
    {
     "name": "stderr",
     "output_type": "stream",
     "text": [
      "Traceback (most recent call last):\n"
     ]
    },
    {
     "name": "stdout",
     "output_type": "stream",
     "text": [
      "inf{'27': 0.1516355016788967, '28': 0.1516355016788967, '29': 0.1516355016788967, '30': 0.1516355016788967, '31': 0.1516355016788967, '32': 0.1516355016788967, '33': 0.1516355016788967, '34': 0.1516355016788967, '35': 0.1516355016788967, '36': 0.1516355016788967, '37': 0.1516355016788967, '38': 0.1516355016788967, '39': 0.1516355016788967, '40': 0.1516355016788967, '41': 0.1516355016788967, '42': 0.1516355016788967, '43': 0.1516355016788967, '44': 0.1516355016788967, '45': 0.1516355016788967, '46': 0.1516355016788967}\n",
      "\n",
      "{'27': 0.0230258509299404, '28': 0.0230258509299404, '29': 0.0230258509299404, '30': 0.0230258509299404, '31': 0.0230258509299404, '32': 0.0230258509299404}{'32': 0.0230258509299404}{'27': 0.0230258509299404, '28': 0.0230258509299404, '29': 0.0230258509299404, '30': 0.0230258509299404, '31': 0.0230258509299404, '32': 0.0230258509299404}{'27': 0.0230258509299404, '28': 0.0230258509299404, '29': 0.0230258509299404, '30': 0.0230258509299404, '31': 0.0230258509299404, '32': 0.0230258509299404}"
     ]
    },
    {
     "name": "stderr",
     "output_type": "stream",
     "text": [
      "  File \"/usr/lib/python3.10/multiprocessing/process.py\", line 314, in _bootstrap\n",
      "    self.run()\n"
     ]
    },
    {
     "name": "stdout",
     "output_type": "stream",
     "text": [
      "{'32': 0.0230258509299404}\n",
      "\n",
      "\n",
      "{'32': 0.0230258509299404}{'27': 0.0230258509299404, '28': 0.0230258509299404, '29': 0.0230258509299404, '30': 0.0230258509299404, '31': 0.0230258509299404, '32': 0.0230258509299404}\n",
      "\n"
     ]
    },
    {
     "name": "stderr",
     "output_type": "stream",
     "text": [
      "  File \"/usr/lib/python3.10/multiprocessing/process.py\", line 108, in run\n",
      "    self._target(*self._args, **self._kwargs)\n"
     ]
    },
    {
     "name": "stdout",
     "output_type": "stream",
     "text": [
      "\n",
      "\n",
      "\n",
      "\n",
      "{'27': 0.0230258509299404, '28': 0.0230258509299404, '29': 0.0230258509299404, '30': 0.0230258509299404, '31': 0.0230258509299404, '32': 0.0230258509299404}"
     ]
    },
    {
     "name": "stderr",
     "output_type": "stream",
     "text": [
      "Process Process-14:\n"
     ]
    },
    {
     "name": "stdout",
     "output_type": "stream",
     "text": [
      "{'32': 0.0230258509299404}"
     ]
    },
    {
     "name": "stderr",
     "output_type": "stream",
     "text": [
      "  File \"/mydata/cookiemonster/notebooks/utils.py\", line 72, in get_budget_logs\n",
      "    for epoch, budget_consumed in budget_per_epoch.items():\n"
     ]
    },
    {
     "name": "stdout",
     "output_type": "stream",
     "text": [
      "{'27': 0.0230258509299404, '28': 0.0230258509299404, '29': 0.0230258509299404, '30': 0.0230258509299404, '31': 0.0230258509299404, '32': 0.0230258509299404}{'27': 0.0230258509299404, '28': 0.0230258509299404, '29': 0.0230258509299404, '30': 0.0230258509299404, '31': 0.0230258509299404, '32': 0.0230258509299404}\n",
      "{'32': 0.0230258509299404}{'32': 0.0230258509299404}{'27': 0.0230258509299404, '28': 0.0230258509299404, '29': 0.0230258509299404, '30': 0.0230258509299404, '31': 0.0230258509299404, '32': 0.0230258509299404}"
     ]
    },
    {
     "name": "stderr",
     "output_type": "stream",
     "text": [
      "AttributeError: 'float' object has no attribute 'items'\n"
     ]
    },
    {
     "name": "stdout",
     "output_type": "stream",
     "text": [
      "\n",
      "\n",
      "\n"
     ]
    },
    {
     "name": "stderr",
     "output_type": "stream",
     "text": [
      "Traceback (most recent call last):\n"
     ]
    },
    {
     "name": "stdout",
     "output_type": "stream",
     "text": [
      "\n",
      "\n",
      "{'27': 0.0230258509299404, '28': 0.0230258509299404, '29': 0.0230258509299404, '30': 0.0230258509299404, '31': 0.0230258509299404, '32': 0.0230258509299404}\n",
      "{'27': 0.0230258509299404, '28': 0.0230258509299404, '29': 0.0230258509299404, '30': 0.0230258509299404, '31': 0.0230258509299404, '32': 0.0230258509299404}{'27': 0.0230258509299404, '28': 0.0230258509299404, '29': 0.0230258509299404, '30': 0.0230258509299404, '31': 0.0230258509299404, '32': 0.0230258509299404}"
     ]
    },
    {
     "name": "stderr",
     "output_type": "stream",
     "text": [
      "  File \"/usr/lib/python3.10/multiprocessing/process.py\", line 314, in _bootstrap\n",
      "    self.run()\n"
     ]
    },
    {
     "name": "stdout",
     "output_type": "stream",
     "text": [
      "\n",
      "{'32': 0.0230258509299404}{'32': 0.0230258509299404}\n",
      "\n",
      "{'27': 0.0230258509299404, '28': 0.0230258509299404, '29': 0.0230258509299404, '30': 0.0230258509299404, '31': 0.0230258509299404, '32': 0.0230258509299404}{'32': 0.0230258509299404}"
     ]
    },
    {
     "name": "stderr",
     "output_type": "stream",
     "text": [
      "  File \"/usr/lib/python3.10/multiprocessing/process.py\", line 108, in run\n",
      "    self._target(*self._args, **self._kwargs)\n"
     ]
    },
    {
     "name": "stdout",
     "output_type": "stream",
     "text": [
      "\n",
      "{'27': 0.0230258509299404, '28': 0.0230258509299404, '29': 0.0230258509299404, '30': 0.0230258509299404, '31': 0.0230258509299404, '32': 0.0230258509299404}\n",
      "{'27': 0.0230258509299404, '28': 0.0230258509299404, '29': 0.0230258509299404, '30': 0.0230258509299404, '31': 0.0230258509299404, '32': 0.0230258509299404}{'32': 0.0230258509299404}{'27': 0.0230258509299404, '28': 0.0230258509299404, '29': 0.0230258509299404, '30': 0.0230258509299404, '31': 0.0230258509299404, '32': 0.0230258509299404}\n"
     ]
    },
    {
     "name": "stderr",
     "output_type": "stream",
     "text": [
      "  File \"/mydata/cookiemonster/notebooks/utils.py\", line 72, in get_budget_logs\n",
      "    for epoch, budget_consumed in budget_per_epoch.items():\n"
     ]
    },
    {
     "name": "stdout",
     "output_type": "stream",
     "text": [
      "\n",
      "\n",
      "\n",
      "{'32': 0.0230258509299404}{'32': 0.0230258509299404}\n",
      "\n"
     ]
    },
    {
     "name": "stderr",
     "output_type": "stream",
     "text": [
      "AttributeError: 'float' object has no attribute 'items'\n"
     ]
    },
    {
     "name": "stdout",
     "output_type": "stream",
     "text": [
      "{'27': 0.0230258509299404, '28': 0.0230258509299404, '29': 0.0230258509299404, '30': 0.0230258509299404, '31': 0.0230258509299404, '32': 0.0230258509299404}\n",
      "{'32': 0.0230258509299404}{'27': 0.0230258509299404, '28': 0.0230258509299404, '29': 0.0230258509299404, '30': 0.0230258509299404, '31': 0.0230258509299404, '32': 0.0230258509299404}{'27': 0.0230258509299404, '28': 0.0230258509299404, '29': 0.0230258509299404, '30': 0.0230258509299404, '31': 0.0230258509299404, '32': 0.0230258509299404}\n",
      "{'32': 0.0230258509299404}{'27': 0.0230258509299404, '28': 0.0230258509299404, '29': 0.0230258509299404, '30': 0.0230258509299404, '31': 0.0230258509299404, '32': 0.0230258509299404}{'32': 0.0230258509299404}\n",
      "\n",
      "\n",
      "\n",
      "{'32': 0.0230258509299404}\n",
      "\n",
      "\n",
      "{'27': 0.0230258509299404, '28': 0.0230258509299404, '29': 0.0230258509299404, '30': 0.0230258509299404, '31': 0.0230258509299404, '32': 0.0230258509299404}{'27': 0.0230258509299404, '28': 0.0230258509299404, '29': 0.0230258509299404, '30': 0.0230258509299404, '31': 0.0230258509299404, '32': 0.0230258509299404}{'32': 0.0230258509299404}{'27': 0.0230258509299404, '28': 0.0230258509299404, '29': 0.0230258509299404, '30': 0.0230258509299404, '31': 0.0230258509299404, '32': 0.0230258509299404}{'27': 0.0230258509299404, '28': 0.0230258509299404, '29': 0.0230258509299404, '30': 0.0230258509299404, '31': 0.0230258509299404, '32': 0.0230258509299404}\n",
      "{'32': 0.0230258509299404}\n",
      "{'32': 0.0230258509299404}\n",
      "\n",
      "\n",
      "\n",
      "\n",
      "{'27': 0.0230258509299404, '28': 0.0230258509299404, '29': 0.0230258509299404, '30': 0.0230258509299404, '31': 0.0230258509299404, '32': 0.0230258509299404}{'32': 0.0230258509299404}\n",
      "{'32': 0.0230258509299404}{'27': 0.0230258509299404, '28': 0.0230258509299404, '29': 0.0230258509299404, '30': 0.0230258509299404, '31': 0.0230258509299404, '32': 0.0230258509299404}{'27': 0.0230258509299404, '28': 0.0230258509299404, '29': 0.0230258509299404, '30': 0.0230258509299404, '31': 0.0230258509299404, '32': 0.0230258509299404}{'32': 0.0230258509299404}\n",
      "{'27': 0.0230258509299404, '28': 0.0230258509299404, '29': 0.0230258509299404, '30': 0.0230258509299404, '31': 0.0230258509299404, '32': 0.0230258509299404}\n",
      "\n",
      "\n",
      "{'32': 0.0230258509299404}\n",
      "\n",
      "{'27': 0.0230258509299404, '28': 0.0230258509299404, '29': 0.0230258509299404, '30': 0.0230258509299404, '31': 0.0230258509299404, '32': 0.0230258509299404}\n",
      "{'32': 0.0230258509299404}{'32': 0.0230258509299404}{'27': 0.0230258509299404, '28': 0.0230258509299404, '29': 0.0230258509299404, '30': 0.0230258509299404, '31': 0.0230258509299404, '32': 0.0230258509299404}\n",
      "\n",
      "{'32': 0.0230258509299404}{'27': 0.0230258509299404, '28': 0.0230258509299404, '29': 0.0230258509299404, '30': 0.0230258509299404, '31': 0.0230258509299404, '32': 0.0230258509299404}{'27': 0.0230258509299404, '28': 0.0230258509299404, '29': 0.0230258509299404, '30': 0.0230258509299404, '31': 0.0230258509299404, '32': 0.0230258509299404}\n",
      "\n",
      "\n",
      "\n",
      "{'27': 0.0230258509299404, '28': 0.0230258509299404, '29': 0.0230258509299404, '30': 0.0230258509299404, '31': 0.0230258509299404, '32': 0.0230258509299404}{'32': 0.0230258509299404}\n",
      "\n",
      "{'32': 0.0230258509299404}{'32': 0.0230258509299404}{'27': 0.0230258509299404, '28': 0.0230258509299404, '29': 0.0230258509299404, '30': 0.0230258509299404, '31': 0.0230258509299404, '32': 0.0230258509299404}{'32': 0.0230258509299404}\n",
      "\n",
      "{'27': 0.0230258509299404, '28': 0.0230258509299404, '29': 0.0230258509299404, '30': 0.0230258509299404, '31': 0.0230258509299404, '32': 0.0230258509299404}\n",
      "\n",
      "{'27': 0.0230258509299404, '28': 0.0230258509299404, '29': 0.0230258509299404, '30': 0.0230258509299404, '31': 0.0230258509299404, '32': 0.0230258509299404}\n",
      "\n",
      "{'27': 0.0230258509299404, '28': 0.0230258509299404, '29': 0.0230258509299404, '30': 0.0230258509299404, '31': 0.0230258509299404, '32': 0.0230258509299404}{'32': 0.0230258509299404}\n",
      "{'32': 0.0230258509299404}{'32': 0.0230258509299404}{'27': 0.0230258509299404, '28': 0.0230258509299404, '29': 0.0230258509299404, '30': 0.0230258509299404, '31': 0.0230258509299404, '32': 0.0230258509299404}\n",
      "\n",
      "\n",
      "{'32': 0.0230258509299404}{'27': 0.0230258509299404, '28': 0.0230258509299404, '29': 0.0230258509299404, '30': 0.0230258509299404, '31': 0.0230258509299404, '32': 0.0230258509299404}\n",
      "\n",
      "\n",
      "{'27': 0.0230258509299404, '28': 0.0230258509299404, '29': 0.0230258509299404, '30': 0.0230258509299404, '31': 0.0230258509299404, '32': 0.0230258509299404}{'27': 0.0230258509299404, '28': 0.0230258509299404, '29': 0.0230258509299404, '30': 0.0230258509299404, '31': 0.0230258509299404, '32': 0.0230258509299404}\n",
      "{'32': 0.0230258509299404}\n",
      "{'32': 0.0230258509299404}{'32': 0.0230258509299404}{'27': 0.0230258509299404, '28': 0.0230258509299404, '29': 0.0230258509299404, '30': 0.0230258509299404, '31': 0.0230258509299404, '32': 0.0230258509299404}\n",
      "\n",
      "\n",
      "\n",
      "{'32': 0.0230258509299404}{'27': 0.0230258509299404, '28': 0.0230258509299404, '29': 0.0230258509299404, '30': 0.0230258509299404, '31': 0.0230258509299404, '32': 0.0230258509299404}\n",
      "\n",
      "{'27': 0.0230258509299404, '28': 0.0230258509299404, '29': 0.0230258509299404, '30': 0.0230258509299404, '31': 0.0230258509299404, '32': 0.0230258509299404}{'32': 0.0230258509299404}{'27': 0.0230258509299404, '28': 0.0230258509299404, '29': 0.0230258509299404, '30': 0.0230258509299404, '31': 0.0230258509299404, '32': 0.0230258509299404}\n",
      "{'32': 0.0230258509299404}\n",
      "{'32': 0.0230258509299404}\n",
      "{'27': 0.0230258509299404, '28': 0.0230258509299404, '29': 0.0230258509299404, '30': 0.0230258509299404, '31': 0.0230258509299404, '32': 0.0230258509299404}\n",
      "\n",
      "\n",
      "{'32': 0.0230258509299404}\n",
      "{'27': 0.0230258509299404, '28': 0.0230258509299404, '29': 0.0230258509299404, '30': 0.0230258509299404, '31': 0.0230258509299404, '32': 0.0230258509299404}{'27': 0.0230258509299404, '28': 0.0230258509299404, '29': 0.0230258509299404, '30': 0.0230258509299404, '31': 0.0230258509299404, '32': 0.0230258509299404}\n",
      "{'32': 0.0230258509299404}\n",
      "\n",
      "{'27': 0.0230258509299404, '28': 0.0230258509299404, '29': 0.0230258509299404, '30': 0.0230258509299404, '31': 0.0230258509299404, '32': 0.0230258509299404}{'32': 0.0230258509299404}\n",
      "{'32': 0.0230258509299404}\n",
      "{'27': 0.0230258509299404, '28': 0.0230258509299404, '29': 0.0230258509299404, '30': 0.0230258509299404, '31': 0.0230258509299404, '32': 0.0230258509299404}{'32': 0.0230258509299404}{'27': 0.0230258509299404, '28': 0.0230258509299404, '29': 0.0230258509299404, '30': 0.0230258509299404, '31': 0.0230258509299404, '32': 0.0230258509299404}\n",
      "\n",
      "\n",
      "\n",
      "{'27': 0.0230258509299404, '28': 0.0230258509299404, '29': 0.0230258509299404, '30': 0.0230258509299404, '31': 0.0230258509299404, '32': 0.0230258509299404}\n",
      "{'32': 0.0230258509299404}\n",
      "{'32': 0.0230258509299404}{'27': 0.0230258509299404, '28': 0.0230258509299404, '29': 0.0230258509299404, '30': 0.0230258509299404, '31': 0.0230258509299404, '32': 0.0230258509299404}{'27': 0.0230258509299404, '28': 0.0230258509299404, '29': 0.0230258509299404, '30': 0.0230258509299404, '31': 0.0230258509299404, '32': 0.0230258509299404}\n",
      "{'32': 0.0230258509299404}\n",
      "{'27': 0.0230258509299404, '28': 0.0230258509299404, '29': 0.0230258509299404, '30': 0.0230258509299404, '31': 0.0230258509299404, '32': 0.0230258509299404}{'32': 0.0230258509299404}\n",
      "\n",
      "\n",
      "\n",
      "{'27': 0.0230258509299404, '28': 0.0230258509299404, '29': 0.0230258509299404, '30': 0.0230258509299404, '31': 0.0230258509299404, '32': 0.0230258509299404}\n",
      "\n",
      "{'32': 0.0230258509299404}{'32': 0.0230258509299404}{'27': 0.0230258509299404, '28': 0.0230258509299404, '29': 0.0230258509299404, '30': 0.0230258509299404, '31': 0.0230258509299404, '32': 0.0230258509299404}{'27': 0.0230258509299404, '28': 0.0230258509299404, '29': 0.0230258509299404, '30': 0.0230258509299404, '31': 0.0230258509299404, '32': 0.0230258509299404}\n",
      "{'27': 0.0230258509299404, '28': 0.0230258509299404, '29': 0.0230258509299404, '30': 0.0230258509299404, '31': 0.0230258509299404, '32': 0.0230258509299404}{'32': 0.0230258509299404}{'32': 0.0230258509299404}\n",
      "\n",
      "\n",
      "\n",
      "\n",
      "{'27': 0.0230258509299404, '28': 0.0230258509299404, '29': 0.0230258509299404, '30': 0.0230258509299404, '31': 0.0230258509299404, '32': 0.0230258509299404}{'32': 0.0230258509299404}{'32': 0.0230258509299404}\n",
      "\n",
      "{'27': 0.0230258509299404, '28': 0.0230258509299404, '29': 0.0230258509299404, '30': 0.0230258509299404, '31': 0.0230258509299404, '32': 0.0230258509299404}{'32': 0.0230258509299404}\n",
      "{'32': 0.0230258509299404}\n",
      "\n",
      "{'27': 0.0230258509299404, '28': 0.0230258509299404, '29': 0.0230258509299404, '30': 0.0230258509299404, '31': 0.0230258509299404, '32': 0.0230258509299404}\n",
      "{'27': 0.0230258509299404, '28': 0.0230258509299404, '29': 0.0230258509299404, '30': 0.0230258509299404, '31': 0.0230258509299404, '32': 0.0230258509299404}\n",
      "\n",
      "{'32': 0.0230258509299404}{'27': 0.0230258509299404, '28': 0.0230258509299404, '29': 0.0230258509299404, '30': 0.0230258509299404, '31': 0.0230258509299404, '32': 0.0230258509299404}\n",
      "{'32': 0.0230258509299404}{'32': 0.0230258509299404}\n",
      "\n",
      "{'27': 0.0230258509299404, '28': 0.0230258509299404, '29': 0.0230258509299404, '30': 0.0230258509299404, '31': 0.0230258509299404, '32': 0.0230258509299404}\n",
      "\n",
      "{'27': 0.0230258509299404, '28': 0.0230258509299404, '29': 0.0230258509299404, '30': 0.0230258509299404, '31': 0.0230258509299404, '32': 0.0230258509299404}{'32': 0.0230258509299404}\n",
      "{'32': 0.0230258509299404}\n",
      "{'27': 0.0230258509299404, '28': 0.0230258509299404, '29': 0.0230258509299404, '30': 0.0230258509299404, '31': 0.0230258509299404, '32': 0.0230258509299404}\n",
      "{'32': 0.0230258509299404}{'27': 0.0230258509299404, '28': 0.0230258509299404, '29': 0.0230258509299404, '30': 0.0230258509299404, '31': 0.0230258509299404, '32': 0.0230258509299404}\n",
      "\n",
      "{'32': 0.0230258509299404}\n",
      "{'27': 0.0230258509299404, '28': 0.0230258509299404, '29': 0.0230258509299404, '30': 0.0230258509299404, '31': 0.0230258509299404, '32': 0.0230258509299404}{'27': 0.0230258509299404, '28': 0.0230258509299404, '29': 0.0230258509299404, '30': 0.0230258509299404, '31': 0.0230258509299404, '32': 0.0230258509299404}\n",
      "\n",
      "{'32': 0.0230258509299404}\n",
      "{'32': 0.0230258509299404}\n",
      "\n",
      "{'32': 0.0230258509299404}{'32': 0.0230258509299404}{'27': 0.0230258509299404, '28': 0.0230258509299404, '29': 0.0230258509299404, '30': 0.0230258509299404, '31': 0.0230258509299404, '32': 0.0230258509299404}\n",
      "\n",
      "{'27': 0.0230258509299404, '28': 0.0230258509299404, '29': 0.0230258509299404, '30': 0.0230258509299404, '31': 0.0230258509299404, '32': 0.0230258509299404}\n",
      "{'27': 0.0230258509299404, '28': 0.0230258509299404, '29': 0.0230258509299404, '30': 0.0230258509299404, '31': 0.0230258509299404, '32': 0.0230258509299404}{'27': 0.0230258509299404, '28': 0.0230258509299404, '29': 0.0230258509299404, '30': 0.0230258509299404, '31': 0.0230258509299404, '32': 0.0230258509299404}\n",
      "\n",
      "{'32': 0.0230258509299404}{'32': 0.0230258509299404}{'32': 0.0230258509299404}\n",
      "\n",
      "\n",
      "{'32': 0.0230258509299404}\n",
      "\n",
      "{'27': 0.0230258509299404, '28': 0.0230258509299404, '29': 0.0230258509299404, '30': 0.0230258509299404, '31': 0.0230258509299404, '32': 0.0230258509299404}\n",
      "\n",
      "{'27': 0.0230258509299404, '28': 0.0230258509299404, '29': 0.0230258509299404, '30': 0.0230258509299404, '31': 0.0230258509299404, '32': 0.0230258509299404}{'27': 0.0230258509299404, '28': 0.0230258509299404, '29': 0.0230258509299404, '30': 0.0230258509299404, '31': 0.0230258509299404, '32': 0.0230258509299404}{'32': 0.0230258509299404}\n",
      "{'32': 0.0230258509299404}{'32': 0.0230258509299404}{'27': 0.0230258509299404, '28': 0.0230258509299404, '29': 0.0230258509299404, '30': 0.0230258509299404, '31': 0.0230258509299404, '32': 0.0230258509299404}{'32': 0.0230258509299404}\n",
      "\n",
      "\n",
      "\n",
      "\n",
      "{'27': 0.0230258509299404, '28': 0.0230258509299404, '29': 0.0230258509299404, '30': 0.0230258509299404, '31': 0.0230258509299404, '32': 0.0230258509299404}\n",
      "\n",
      "{'27': 0.0230258509299404, '28': 0.0230258509299404, '29': 0.0230258509299404, '30': 0.0230258509299404, '31': 0.0230258509299404, '32': 0.0230258509299404}{'32': 0.0230258509299404}{'27': 0.0230258509299404, '28': 0.0230258509299404, '29': 0.0230258509299404, '30': 0.0230258509299404, '31': 0.0230258509299404, '32': 0.0230258509299404}{'32': 0.0230258509299404}\n",
      "{'32': 0.0230258509299404}{'27': 0.0230258509299404, '28': 0.0230258509299404, '29': 0.0230258509299404, '30': 0.0230258509299404, '31': 0.0230258509299404, '32': 0.0230258509299404}\n",
      "{'32': 0.0230258509299404}\n",
      "\n",
      "\n",
      "\n",
      "\n",
      "{'27': 0.0230258509299404, '28': 0.0230258509299404, '29': 0.0230258509299404, '30': 0.0230258509299404, '31': 0.0230258509299404, '32': 0.0230258509299404}\n",
      "{'27': 0.0230258509299404, '28': 0.0230258509299404, '29': 0.0230258509299404, '30': 0.0230258509299404, '31': 0.0230258509299404, '32': 0.0230258509299404}{'32': 0.0230258509299404}{'27': 0.0230258509299404, '28': 0.0230258509299404, '29': 0.0230258509299404, '30': 0.0230258509299404, '31': 0.0230258509299404, '32': 0.0230258509299404}{'32': 0.0230258509299404}{'27': 0.0230258509299404, '28': 0.0230258509299404, '29': 0.0230258509299404, '30': 0.0230258509299404, '31': 0.0230258509299404, '32': 0.0230258509299404}\n",
      "{'32': 0.0230258509299404}\n",
      "{'32': 0.0230258509299404}\n",
      "\n",
      "\n",
      "\n",
      "{'27': 0.0230258509299404, '28': 0.0230258509299404, '29': 0.0230258509299404, '30': 0.0230258509299404, '31': 0.0230258509299404, '32': 0.0230258509299404}\n",
      "\n",
      "{'27': 0.0230258509299404, '28': 0.0230258509299404, '29': 0.0230258509299404, '30': 0.0230258509299404, '31': 0.0230258509299404, '32': 0.0230258509299404}{'32': 0.0230258509299404}{'27': 0.0230258509299404, '28': 0.0230258509299404, '29': 0.0230258509299404, '30': 0.0230258509299404, '31': 0.0230258509299404, '32': 0.0230258509299404}{'27': 0.0230258509299404, '28': 0.0230258509299404, '29': 0.0230258509299404, '30': 0.0230258509299404, '31': 0.0230258509299404, '32': 0.0230258509299404}{'32': 0.0230258509299404}\n",
      "{'32': 0.0230258509299404}\n",
      "\n",
      "{'32': 0.0230258509299404}\n",
      "\n",
      "\n",
      "\n",
      "{'27': 0.0230258509299404, '28': 0.0230258509299404, '29': 0.0230258509299404, '30': 0.0230258509299404, '31': 0.0230258509299404, '32': 0.0230258509299404}{'27': 0.0230258509299404, '28': 0.0230258509299404, '29': 0.0230258509299404, '30': 0.0230258509299404, '31': 0.0230258509299404, '32': 0.0230258509299404}{'32': 0.0230258509299404}\n",
      "{'27': 0.0230258509299404, '28': 0.0230258509299404, '29': 0.0230258509299404, '30': 0.0230258509299404, '31': 0.0230258509299404, '32': 0.0230258509299404}{'27': 0.0230258509299404, '28': 0.0230258509299404, '29': 0.0230258509299404, '30': 0.0230258509299404, '31': 0.0230258509299404, '32': 0.0230258509299404}{'32': 0.0230258509299404}{'32': 0.0230258509299404}\n",
      "\n",
      "\n",
      "\n",
      "{'32': 0.0230258509299404}\n",
      "\n",
      "\n",
      "{'27': 0.0230258509299404, '28': 0.0230258509299404, '29': 0.0230258509299404, '30': 0.0230258509299404, '31': 0.0230258509299404, '32': 0.0230258509299404}{'32': 0.0230258509299404}{'27': 0.0230258509299404, '28': 0.0230258509299404, '29': 0.0230258509299404, '30': 0.0230258509299404, '31': 0.0230258509299404, '32': 0.0230258509299404}{'27': 0.0230258509299404, '28': 0.0230258509299404, '29': 0.0230258509299404, '30': 0.0230258509299404, '31': 0.0230258509299404, '32': 0.0230258509299404}\n",
      "{'27': 0.0230258509299404, '28': 0.0230258509299404, '29': 0.0230258509299404, '30': 0.0230258509299404, '31': 0.0230258509299404, '32': 0.0230258509299404}{'32': 0.0230258509299404}\n",
      "{'32': 0.0230258509299404}\n",
      "\n",
      "\n",
      "\n",
      "{'32': 0.0230258509299404}\n",
      "\n",
      "{'27': 0.0230258509299404, '28': 0.0230258509299404, '29': 0.0230258509299404, '30': 0.0230258509299404, '31': 0.0230258509299404, '32': 0.0230258509299404}{'32': 0.0230258509299404}{'27': 0.0230258509299404, '28': 0.0230258509299404, '29': 0.0230258509299404, '30': 0.0230258509299404, '31': 0.0230258509299404, '32': 0.0230258509299404}{'27': 0.0230258509299404, '28': 0.0230258509299404, '29': 0.0230258509299404, '30': 0.0230258509299404, '31': 0.0230258509299404, '32': 0.0230258509299404}{'27': 0.0230258509299404, '28': 0.0230258509299404, '29': 0.0230258509299404, '30': 0.0230258509299404, '31': 0.0230258509299404, '32': 0.0230258509299404}\n",
      "{'32': 0.0230258509299404}{'32': 0.0230258509299404}\n",
      "\n",
      "\n",
      "\n",
      "\n",
      "\n",
      "\n",
      "{'32': 0.0230258509299404}{'32': 0.0230258509299404}{'27': 0.0230258509299404, '28': 0.0230258509299404, '29': 0.0230258509299404, '30': 0.0230258509299404, '31': 0.0230258509299404, '32': 0.0230258509299404}{'27': 0.0230258509299404, '28': 0.0230258509299404, '29': 0.0230258509299404, '30': 0.0230258509299404, '31': 0.0230258509299404, '32': 0.0230258509299404}{'27': 0.0230258509299404, '28': 0.0230258509299404, '29': 0.0230258509299404, '30': 0.0230258509299404, '31': 0.0230258509299404, '32': 0.0230258509299404}{'32': 0.0230258509299404}{'32': 0.0230258509299404}{'27': 0.0230258509299404, '28': 0.0230258509299404, '29': 0.0230258509299404, '30': 0.0230258509299404, '31': 0.0230258509299404, '32': 0.0230258509299404}\n",
      "\n",
      "\n",
      "\n",
      "\n",
      "\n",
      "\n",
      "\n",
      "{'27': 0.0230258509299404, '28': 0.0230258509299404, '29': 0.0230258509299404, '30': 0.0230258509299404, '31': 0.0230258509299404, '32': 0.0230258509299404}{'32': 0.0230258509299404}{'32': 0.0230258509299404}{'27': 0.0230258509299404, '28': 0.0230258509299404, '29': 0.0230258509299404, '30': 0.0230258509299404, '31': 0.0230258509299404, '32': 0.0230258509299404}{'27': 0.0230258509299404, '28': 0.0230258509299404, '29': 0.0230258509299404, '30': 0.0230258509299404, '31': 0.0230258509299404, '32': 0.0230258509299404}{'32': 0.0230258509299404}{'32': 0.0230258509299404}\n",
      "\n",
      "{'27': 0.0230258509299404, '28': 0.0230258509299404, '29': 0.0230258509299404, '30': 0.0230258509299404, '31': 0.0230258509299404, '32': 0.0230258509299404}\n",
      "\n",
      "\n",
      "\n",
      "\n",
      "{'27': 0.0230258509299404, '28': 0.0230258509299404, '29': 0.0230258509299404, '30': 0.0230258509299404, '31': 0.0230258509299404, '32': 0.0230258509299404}{'32': 0.0230258509299404}\n",
      "{'32': 0.0230258509299404}{'27': 0.0230258509299404, '28': 0.0230258509299404, '29': 0.0230258509299404, '30': 0.0230258509299404, '31': 0.0230258509299404, '32': 0.0230258509299404}{'32': 0.0230258509299404}{'27': 0.0230258509299404, '28': 0.0230258509299404, '29': 0.0230258509299404, '30': 0.0230258509299404, '31': 0.0230258509299404, '32': 0.0230258509299404}\n",
      "\n",
      "{'32': 0.0230258509299404}{'27': 0.0230258509299404, '28': 0.0230258509299404, '29': 0.0230258509299404, '30': 0.0230258509299404, '31': 0.0230258509299404, '32': 0.0230258509299404}\n",
      "\n",
      "\n",
      "\n",
      "{'27': 0.0230258509299404, '28': 0.0230258509299404, '29': 0.0230258509299404, '30': 0.0230258509299404, '31': 0.0230258509299404, '32': 0.0230258509299404}{'32': 0.0230258509299404}\n",
      "\n",
      "{'27': 0.0230258509299404, '28': 0.0230258509299404, '29': 0.0230258509299404, '30': 0.0230258509299404, '31': 0.0230258509299404, '32': 0.0230258509299404}{'32': 0.0230258509299404}\n",
      "{'32': 0.0230258509299404}{'27': 0.0230258509299404, '28': 0.0230258509299404, '29': 0.0230258509299404, '30': 0.0230258509299404, '31': 0.0230258509299404, '32': 0.0230258509299404}\n",
      "{'32': 0.0230258509299404}\n",
      "{'27': 0.0230258509299404, '28': 0.0230258509299404, '29': 0.0230258509299404, '30': 0.0230258509299404, '31': 0.0230258509299404, '32': 0.0230258509299404}\n",
      "\n",
      "{'27': 0.0230258509299404, '28': 0.0230258509299404, '29': 0.0230258509299404, '30': 0.0230258509299404, '31': 0.0230258509299404, '32': 0.0230258509299404}\n",
      "\n",
      "{'32': 0.0230258509299404}{'27': 0.0230258509299404, '28': 0.0230258509299404, '29': 0.0230258509299404, '30': 0.0230258509299404, '31': 0.0230258509299404, '32': 0.0230258509299404}\n",
      "{'32': 0.0230258509299404}\n",
      "{'32': 0.0230258509299404}\n",
      "{'27': 0.0230258509299404, '28': 0.0230258509299404, '29': 0.0230258509299404, '30': 0.0230258509299404, '31': 0.0230258509299404, '32': 0.0230258509299404}\n",
      "{'32': 0.0230258509299404}\n",
      "{'27': 0.0230258509299404, '28': 0.0230258509299404, '29': 0.0230258509299404, '30': 0.0230258509299404, '31': 0.0230258509299404, '32': 0.0230258509299404}{'27': 0.0230258509299404, '28': 0.0230258509299404, '29': 0.0230258509299404, '30': 0.0230258509299404, '31': 0.0230258509299404, '32': 0.0230258509299404}\n",
      "{'32': 0.0230258509299404}\n",
      "{'27': 0.0230258509299404, '28': 0.0230258509299404, '29': 0.0230258509299404, '30': 0.0230258509299404, '31': 0.0230258509299404, '32': 0.0230258509299404}{'32': 0.0230258509299404}\n",
      "\n",
      "\n",
      "\n",
      "{'32': 0.0230258509299404}\n",
      "\n",
      "{'32': 0.0230258509299404}{'27': 0.0230258509299404, '28': 0.0230258509299404, '29': 0.0230258509299404, '30': 0.0230258509299404, '31': 0.0230258509299404, '32': 0.0230258509299404}{'27': 0.0230258509299404, '28': 0.0230258509299404, '29': 0.0230258509299404, '30': 0.0230258509299404, '31': 0.0230258509299404, '32': 0.0230258509299404}{'32': 0.0230258509299404}{'27': 0.0230258509299404, '28': 0.0230258509299404, '29': 0.0230258509299404, '30': 0.0230258509299404, '31': 0.0230258509299404, '32': 0.0230258509299404}\n",
      "{'32': 0.0230258509299404}{'27': 0.0230258509299404, '28': 0.0230258509299404, '29': 0.0230258509299404, '30': 0.0230258509299404, '31': 0.0230258509299404, '32': 0.0230258509299404}\n",
      "\n",
      "\n",
      "\n",
      "\n",
      "{'32': 0.0230258509299404}\n",
      "\n",
      "{'32': 0.0230258509299404}{'27': 0.0230258509299404, '28': 0.0230258509299404, '29': 0.0230258509299404, '30': 0.0230258509299404, '31': 0.0230258509299404, '32': 0.0230258509299404}{'32': 0.0230258509299404}{'27': 0.0230258509299404, '28': 0.0230258509299404, '29': 0.0230258509299404, '30': 0.0230258509299404, '31': 0.0230258509299404, '32': 0.0230258509299404}{'32': 0.0230258509299404}\n",
      "{'27': 0.0230258509299404, '28': 0.0230258509299404, '29': 0.0230258509299404, '30': 0.0230258509299404, '31': 0.0230258509299404, '32': 0.0230258509299404}\n",
      "{'27': 0.0230258509299404, '28': 0.0230258509299404, '29': 0.0230258509299404, '30': 0.0230258509299404, '31': 0.0230258509299404, '32': 0.0230258509299404}\n",
      "\n",
      "\n",
      "\n",
      "{'32': 0.0230258509299404}\n",
      "\n",
      "{'32': 0.0230258509299404}{'32': 0.0230258509299404}{'27': 0.0230258509299404, '28': 0.0230258509299404, '29': 0.0230258509299404, '30': 0.0230258509299404, '31': 0.0230258509299404, '32': 0.0230258509299404}{'32': 0.0230258509299404}{'27': 0.0230258509299404, '28': 0.0230258509299404, '29': 0.0230258509299404, '30': 0.0230258509299404, '31': 0.0230258509299404, '32': 0.0230258509299404}\n",
      "{'27': 0.0230258509299404, '28': 0.0230258509299404, '29': 0.0230258509299404, '30': 0.0230258509299404, '31': 0.0230258509299404, '32': 0.0230258509299404}{'27': 0.0230258509299404, '28': 0.0230258509299404, '29': 0.0230258509299404, '30': 0.0230258509299404, '31': 0.0230258509299404, '32': 0.0230258509299404}\n",
      "\n",
      "\n",
      "\n",
      "\n",
      "\n",
      "\n",
      "{'32': 0.0230258509299404}{'32': 0.0230258509299404}{'27': 0.0230258509299404, '28': 0.0230258509299404, '29': 0.0230258509299404, '30': 0.0230258509299404, '31': 0.0230258509299404, '32': 0.0230258509299404}{'32': 0.0230258509299404}{'32': 0.0230258509299404}{'27': 0.0230258509299404, '28': 0.0230258509299404, '29': 0.0230258509299404, '30': 0.0230258509299404, '31': 0.0230258509299404, '32': 0.0230258509299404}\n",
      "{'27': 0.0230258509299404, '28': 0.0230258509299404, '29': 0.0230258509299404, '30': 0.0230258509299404, '31': 0.0230258509299404, '32': 0.0230258509299404}{'27': 0.0230258509299404, '28': 0.0230258509299404, '29': 0.0230258509299404, '30': 0.0230258509299404, '31': 0.0230258509299404, '32': 0.0230258509299404}\n",
      "\n",
      "\n",
      "\n",
      "\n",
      "{'32': 0.0230258509299404}\n",
      "\n",
      "{'27': 0.0230258509299404, '28': 0.0230258509299404, '29': 0.0230258509299404, '30': 0.0230258509299404, '31': 0.0230258509299404, '32': 0.0230258509299404}{'32': 0.0230258509299404}{'32': 0.0230258509299404}{'32': 0.0230258509299404}{'27': 0.0230258509299404, '28': 0.0230258509299404, '29': 0.0230258509299404, '30': 0.0230258509299404, '31': 0.0230258509299404, '32': 0.0230258509299404}\n",
      "{'27': 0.0230258509299404, '28': 0.0230258509299404, '29': 0.0230258509299404, '30': 0.0230258509299404, '31': 0.0230258509299404, '32': 0.0230258509299404}\n",
      "\n",
      "\n",
      "{'27': 0.0230258509299404, '28': 0.0230258509299404, '29': 0.0230258509299404, '30': 0.0230258509299404, '31': 0.0230258509299404, '32': 0.0230258509299404}\n",
      "\n",
      "{'32': 0.0230258509299404}\n",
      "{'32': 0.0230258509299404}{'27': 0.0230258509299404, '28': 0.0230258509299404, '29': 0.0230258509299404, '30': 0.0230258509299404, '31': 0.0230258509299404, '32': 0.0230258509299404}\n",
      "{'32': 0.0230258509299404}{'27': 0.0230258509299404, '28': 0.0230258509299404, '29': 0.0230258509299404, '30': 0.0230258509299404, '31': 0.0230258509299404, '32': 0.0230258509299404}\n",
      "{'32': 0.0230258509299404}{'27': 0.0230258509299404, '28': 0.0230258509299404, '29': 0.0230258509299404, '30': 0.0230258509299404, '31': 0.0230258509299404, '32': 0.0230258509299404}\n",
      "\n",
      "\n",
      "\n",
      "{'27': 0.0230258509299404, '28': 0.0230258509299404, '29': 0.0230258509299404, '30': 0.0230258509299404, '31': 0.0230258509299404, '32': 0.0230258509299404}\n",
      "{'32': 0.0230258509299404}\n",
      "{'27': 0.0230258509299404, '28': 0.0230258509299404, '29': 0.0230258509299404, '30': 0.0230258509299404, '31': 0.0230258509299404, '32': 0.0230258509299404}{'32': 0.0230258509299404}{'32': 0.0230258509299404}{'27': 0.0230258509299404, '28': 0.0230258509299404, '29': 0.0230258509299404, '30': 0.0230258509299404, '31': 0.0230258509299404, '32': 0.0230258509299404}\n",
      "\n",
      "{'32': 0.0230258509299404}{'27': 0.0230258509299404, '28': 0.0230258509299404, '29': 0.0230258509299404, '30': 0.0230258509299404, '31': 0.0230258509299404, '32': 0.0230258509299404}\n",
      "\n",
      "\n",
      "\n",
      "{'27': 0.0230258509299404, '28': 0.0230258509299404, '29': 0.0230258509299404, '30': 0.0230258509299404, '31': 0.0230258509299404, '32': 0.0230258509299404}\n",
      "{'32': 0.0230258509299404}\n",
      "{'27': 0.0230258509299404, '28': 0.0230258509299404, '29': 0.0230258509299404, '30': 0.0230258509299404, '31': 0.0230258509299404, '32': 0.0230258509299404}{'32': 0.0230258509299404}{'32': 0.0230258509299404}{'32': 0.0230258509299404}{'27': 0.0230258509299404, '28': 0.0230258509299404, '29': 0.0230258509299404, '30': 0.0230258509299404, '31': 0.0230258509299404, '32': 0.0230258509299404}\n",
      "\n",
      "{'27': 0.0230258509299404, '28': 0.0230258509299404, '29': 0.0230258509299404, '30': 0.0230258509299404, '31': 0.0230258509299404, '32': 0.0230258509299404}\n",
      "\n",
      "\n",
      "\n",
      "\n",
      "\n",
      "{'27': 0.0230258509299404, '28': 0.0230258509299404, '29': 0.0230258509299404, '30': 0.0230258509299404, '31': 0.0230258509299404, '32': 0.0230258509299404}{'32': 0.0230258509299404}{'27': 0.0230258509299404, '28': 0.0230258509299404, '29': 0.0230258509299404, '30': 0.0230258509299404, '31': 0.0230258509299404, '32': 0.0230258509299404}{'32': 0.0230258509299404}{'32': 0.0230258509299404}{'27': 0.0230258509299404, '28': 0.0230258509299404, '29': 0.0230258509299404, '30': 0.0230258509299404, '31': 0.0230258509299404, '32': 0.0230258509299404}{'32': 0.0230258509299404}{'27': 0.0230258509299404, '28': 0.0230258509299404, '29': 0.0230258509299404, '30': 0.0230258509299404, '31': 0.0230258509299404, '32': 0.0230258509299404}\n",
      "\n",
      "\n",
      "\n",
      "\n",
      "\n",
      "\n",
      "\n",
      "{'27': 0.0230258509299404, '28': 0.0230258509299404, '29': 0.0230258509299404, '30': 0.0230258509299404, '31': 0.0230258509299404, '32': 0.0230258509299404}{'32': 0.0230258509299404}{'27': 0.0230258509299404, '28': 0.0230258509299404, '29': 0.0230258509299404, '30': 0.0230258509299404, '31': 0.0230258509299404, '32': 0.0230258509299404}{'27': 0.0230258509299404, '28': 0.0230258509299404, '29': 0.0230258509299404, '30': 0.0230258509299404, '31': 0.0230258509299404, '32': 0.0230258509299404}{'32': 0.0230258509299404}{'32': 0.0230258509299404}{'27': 0.0230258509299404, '28': 0.0230258509299404, '29': 0.0230258509299404, '30': 0.0230258509299404, '31': 0.0230258509299404, '32': 0.0230258509299404}\n",
      "{'32': 0.0230258509299404}\n",
      "\n",
      "\n",
      "\n",
      "\n",
      "{'27': 0.0230258509299404, '28': 0.0230258509299404, '29': 0.0230258509299404, '30': 0.0230258509299404, '31': 0.0230258509299404, '32': 0.0230258509299404}\n",
      "{'27': 0.0230258509299404, '28': 0.0230258509299404, '29': 0.0230258509299404, '30': 0.0230258509299404, '31': 0.0230258509299404, '32': 0.0230258509299404}{'32': 0.0230258509299404}{'32': 0.0230258509299404}{'32': 0.0230258509299404}\n",
      "{'27': 0.0230258509299404, '28': 0.0230258509299404, '29': 0.0230258509299404, '30': 0.0230258509299404, '31': 0.0230258509299404, '32': 0.0230258509299404}\n",
      "\n",
      "\n",
      "\n",
      "{'32': 0.0230258509299404}\n",
      "{'27': 0.0230258509299404, '28': 0.0230258509299404, '29': 0.0230258509299404, '30': 0.0230258509299404, '31': 0.0230258509299404, '32': 0.0230258509299404}\n",
      "{'27': 0.0230258509299404, '28': 0.0230258509299404, '29': 0.0230258509299404, '30': 0.0230258509299404, '31': 0.0230258509299404, '32': 0.0230258509299404}{'32': 0.0230258509299404}{'27': 0.0230258509299404, '28': 0.0230258509299404, '29': 0.0230258509299404, '30': 0.0230258509299404, '31': 0.0230258509299404, '32': 0.0230258509299404}\n",
      "{'32': 0.0230258509299404}\n",
      "\n",
      "{'27': 0.0230258509299404, '28': 0.0230258509299404, '29': 0.0230258509299404, '30': 0.0230258509299404, '31': 0.0230258509299404, '32': 0.0230258509299404}{'32': 0.0230258509299404}\n",
      "\n",
      "\n",
      "{'32': 0.0230258509299404}{'27': 0.0230258509299404, '28': 0.0230258509299404, '29': 0.0230258509299404, '30': 0.0230258509299404, '31': 0.0230258509299404, '32': 0.0230258509299404}{'27': 0.0230258509299404, '28': 0.0230258509299404, '29': 0.0230258509299404, '30': 0.0230258509299404, '31': 0.0230258509299404, '32': 0.0230258509299404}\n",
      "\n",
      "{'32': 0.0230258509299404}{'27': 0.0230258509299404, '28': 0.0230258509299404, '29': 0.0230258509299404, '30': 0.0230258509299404, '31': 0.0230258509299404, '32': 0.0230258509299404}\n",
      "\n",
      "{'32': 0.0230258509299404}\n",
      "\n",
      "\n",
      "{'32': 0.0230258509299404}{'27': 0.0230258509299404, '28': 0.0230258509299404, '29': 0.0230258509299404, '30': 0.0230258509299404, '31': 0.0230258509299404, '32': 0.0230258509299404}\n",
      "{'27': 0.0230258509299404, '28': 0.0230258509299404, '29': 0.0230258509299404, '30': 0.0230258509299404, '31': 0.0230258509299404, '32': 0.0230258509299404}{'27': 0.0230258509299404, '28': 0.0230258509299404, '29': 0.0230258509299404, '30': 0.0230258509299404, '31': 0.0230258509299404, '32': 0.0230258509299404}{'32': 0.0230258509299404}{'32': 0.0230258509299404}\n",
      "{'27': 0.0230258509299404, '28': 0.0230258509299404, '29': 0.0230258509299404, '30': 0.0230258509299404, '31': 0.0230258509299404, '32': 0.0230258509299404}\n",
      "{'32': 0.0230258509299404}\n",
      "\n",
      "\n",
      "\n",
      "\n",
      "{'27': 0.0230258509299404, '28': 0.0230258509299404, '29': 0.0230258509299404, '30': 0.0230258509299404, '31': 0.0230258509299404, '32': 0.0230258509299404}{'32': 0.0230258509299404}\n",
      "{'27': 0.0230258509299404, '28': 0.0230258509299404, '29': 0.0230258509299404, '30': 0.0230258509299404, '31': 0.0230258509299404, '32': 0.0230258509299404}{'27': 0.0230258509299404, '28': 0.0230258509299404, '29': 0.0230258509299404, '30': 0.0230258509299404, '31': 0.0230258509299404, '32': 0.0230258509299404}{'32': 0.0230258509299404}{'32': 0.0230258509299404}\n",
      "\n",
      "\n",
      "{'27': 0.0230258509299404, '28': 0.0230258509299404, '29': 0.0230258509299404, '30': 0.0230258509299404, '31': 0.0230258509299404, '32': 0.0230258509299404}{'32': 0.0230258509299404}\n",
      "\n",
      "\n",
      "{'27': 0.0230258509299404, '28': 0.0230258509299404, '29': 0.0230258509299404, '30': 0.0230258509299404, '31': 0.0230258509299404, '32': 0.0230258509299404}\n",
      "{'32': 0.0230258509299404}{'27': 0.0230258509299404, '28': 0.0230258509299404, '29': 0.0230258509299404, '30': 0.0230258509299404, '31': 0.0230258509299404, '32': 0.0230258509299404}\n",
      "{'32': 0.0230258509299404}{'27': 0.0230258509299404, '28': 0.0230258509299404, '29': 0.0230258509299404, '30': 0.0230258509299404, '31': 0.0230258509299404, '32': 0.0230258509299404}{'32': 0.0230258509299404}\n",
      "{'27': 0.0230258509299404, '28': 0.0230258509299404, '29': 0.0230258509299404, '30': 0.0230258509299404, '31': 0.0230258509299404, '32': 0.0230258509299404}\n",
      "\n",
      "\n",
      "{'32': 0.0230258509299404}\n",
      "\n",
      "\n",
      "{'27': 0.0230258509299404, '28': 0.0230258509299404, '29': 0.0230258509299404, '30': 0.0230258509299404, '31': 0.0230258509299404, '32': 0.0230258509299404}{'32': 0.0230258509299404}{'27': 0.0230258509299404, '28': 0.0230258509299404, '29': 0.0230258509299404, '30': 0.0230258509299404, '31': 0.0230258509299404, '32': 0.0230258509299404}{'32': 0.0230258509299404}\n",
      "{'27': 0.0230258509299404, '28': 0.0230258509299404, '29': 0.0230258509299404, '30': 0.0230258509299404, '31': 0.0230258509299404, '32': 0.0230258509299404}{'32': 0.0230258509299404}\n",
      "{'27': 0.0230258509299404, '28': 0.0230258509299404, '29': 0.0230258509299404, '30': 0.0230258509299404, '31': 0.0230258509299404, '32': 0.0230258509299404}\n",
      "\n",
      "\n",
      "{'32': 0.0230258509299404}\n",
      "\n",
      "{'27': 0.0230258509299404, '28': 0.0230258509299404, '29': 0.0230258509299404, '30': 0.0230258509299404, '31': 0.0230258509299404, '32': 0.0230258509299404}\n",
      "{'32': 0.0230258509299404}{'32': 0.0230258509299404}\n",
      "{'27': 0.0230258509299404, '28': 0.0230258509299404, '29': 0.0230258509299404, '30': 0.0230258509299404, '31': 0.0230258509299404, '32': 0.0230258509299404}{'27': 0.0230258509299404, '28': 0.0230258509299404, '29': 0.0230258509299404, '30': 0.0230258509299404, '31': 0.0230258509299404, '32': 0.0230258509299404}\n",
      "{'32': 0.0230258509299404}{'27': 0.0230258509299404, '28': 0.0230258509299404, '29': 0.0230258509299404, '30': 0.0230258509299404, '31': 0.0230258509299404, '32': 0.0230258509299404}\n",
      "\n",
      "\n",
      "{'32': 0.0230258509299404}\n",
      "{'27': 0.0230258509299404, '28': 0.0230258509299404, '29': 0.0230258509299404, '30': 0.0230258509299404, '31': 0.0230258509299404, '32': 0.0230258509299404}\n",
      "\n",
      "{'32': 0.0230258509299404}{'27': 0.0230258509299404, '28': 0.0230258509299404, '29': 0.0230258509299404, '30': 0.0230258509299404, '31': 0.0230258509299404, '32': 0.0230258509299404}{'32': 0.0230258509299404}\n",
      "\n",
      "{'27': 0.0230258509299404, '28': 0.0230258509299404, '29': 0.0230258509299404, '30': 0.0230258509299404, '31': 0.0230258509299404, '32': 0.0230258509299404}\n",
      "{'27': 0.0230258509299404, '28': 0.0230258509299404, '29': 0.0230258509299404, '30': 0.0230258509299404, '31': 0.0230258509299404, '32': 0.0230258509299404}{'32': 0.0230258509299404}\n",
      "\n",
      "{'32': 0.0230258509299404}{'27': 0.0230258509299404, '28': 0.0230258509299404, '29': 0.0230258509299404, '30': 0.0230258509299404, '31': 0.0230258509299404, '32': 0.0230258509299404}\n",
      "{'32': 0.0230258509299404}\n",
      "\n",
      "{'27': 0.0230258509299404, '28': 0.0230258509299404, '29': 0.0230258509299404, '30': 0.0230258509299404, '31': 0.0230258509299404, '32': 0.0230258509299404}\n",
      "\n",
      "{'32': 0.0230258509299404}\n",
      "{'27': 0.0230258509299404, '28': 0.0230258509299404, '29': 0.0230258509299404, '30': 0.0230258509299404, '31': 0.0230258509299404, '32': 0.0230258509299404}{'27': 0.0230258509299404, '28': 0.0230258509299404, '29': 0.0230258509299404, '30': 0.0230258509299404, '31': 0.0230258509299404, '32': 0.0230258509299404}\n",
      "{'32': 0.0230258509299404}{'27': 0.0230258509299404, '28': 0.0230258509299404, '29': 0.0230258509299404, '30': 0.0230258509299404, '31': 0.0230258509299404, '32': 0.0230258509299404}\n",
      "{'32': 0.0230258509299404}{'32': 0.0230258509299404}\n",
      "\n",
      "{'27': 0.0230258509299404, '28': 0.0230258509299404, '29': 0.0230258509299404, '30': 0.0230258509299404, '31': 0.0230258509299404, '32': 0.0230258509299404}\n",
      "\n",
      "{'32': 0.0230258509299404}\n",
      "{'27': 0.0230258509299404, '28': 0.0230258509299404, '29': 0.0230258509299404, '30': 0.0230258509299404, '31': 0.0230258509299404, '32': 0.0230258509299404}\n",
      "\n",
      "{'27': 0.0230258509299404, '28': 0.0230258509299404, '29': 0.0230258509299404, '30': 0.0230258509299404, '31': 0.0230258509299404, '32': 0.0230258509299404}{'27': 0.0230258509299404, '28': 0.0230258509299404, '29': 0.0230258509299404, '30': 0.0230258509299404, '31': 0.0230258509299404, '32': 0.0230258509299404}{'32': 0.0230258509299404}\n",
      "\n",
      "{'32': 0.0230258509299404}{'27': 0.0230258509299404, '28': 0.0230258509299404, '29': 0.0230258509299404, '30': 0.0230258509299404, '31': 0.0230258509299404, '32': 0.0230258509299404}\n",
      "\n",
      "{'32': 0.0230258509299404}\n",
      "\n",
      "\n",
      "{'27': 0.0230258509299404, '28': 0.0230258509299404, '29': 0.0230258509299404, '30': 0.0230258509299404, '31': 0.0230258509299404, '32': 0.0230258509299404}{'32': 0.0230258509299404}{'27': 0.0230258509299404, '28': 0.0230258509299404, '29': 0.0230258509299404, '30': 0.0230258509299404, '31': 0.0230258509299404, '32': 0.0230258509299404}{'27': 0.0230258509299404, '28': 0.0230258509299404, '29': 0.0230258509299404, '30': 0.0230258509299404, '31': 0.0230258509299404, '32': 0.0230258509299404}\n",
      "{'32': 0.0230258509299404}{'32': 0.0230258509299404}{'27': 0.0230258509299404, '28': 0.0230258509299404, '29': 0.0230258509299404, '30': 0.0230258509299404, '31': 0.0230258509299404, '32': 0.0230258509299404}\n",
      "\n",
      "\n",
      "\n",
      "\n",
      "{'32': 0.0230258509299404}\n",
      "\n",
      "{'27': 0.0230258509299404, '28': 0.0230258509299404, '29': 0.0230258509299404, '30': 0.0230258509299404, '31': 0.0230258509299404, '32': 0.0230258509299404}{'27': 0.0230258509299404, '28': 0.0230258509299404, '29': 0.0230258509299404, '30': 0.0230258509299404, '31': 0.0230258509299404, '32': 0.0230258509299404}{'32': 0.0230258509299404}{'27': 0.0230258509299404, '28': 0.0230258509299404, '29': 0.0230258509299404, '30': 0.0230258509299404, '31': 0.0230258509299404, '32': 0.0230258509299404}{'32': 0.0230258509299404}{'32': 0.0230258509299404}{'27': 0.0230258509299404, '28': 0.0230258509299404, '29': 0.0230258509299404, '30': 0.0230258509299404, '31': 0.0230258509299404, '32': 0.0230258509299404}\n",
      "\n",
      "\n",
      "\n",
      "\n",
      "\n",
      "\n",
      "\n",
      "{'27': 0.0230258509299404, '28': 0.0230258509299404, '29': 0.0230258509299404, '30': 0.0230258509299404, '31': 0.0230258509299404, '32': 0.0230258509299404}{'32': 0.0230258509299404}{'27': 0.0230258509299404, '28': 0.0230258509299404, '29': 0.0230258509299404, '30': 0.0230258509299404, '31': 0.0230258509299404, '32': 0.0230258509299404}{'32': 0.0230258509299404}{'32': 0.0230258509299404}{'27': 0.0230258509299404, '28': 0.0230258509299404, '29': 0.0230258509299404, '30': 0.0230258509299404, '31': 0.0230258509299404, '32': 0.0230258509299404}{'32': 0.0230258509299404}{'27': 0.0230258509299404, '28': 0.0230258509299404, '29': 0.0230258509299404, '30': 0.0230258509299404, '31': 0.0230258509299404, '32': 0.0230258509299404}\n",
      "\n",
      "\n",
      "\n",
      "\n",
      "\n",
      "\n",
      "\n",
      "{'27': 0.0230258509299404, '28': 0.0230258509299404, '29': 0.0230258509299404, '30': 0.0230258509299404, '31': 0.0230258509299404, '32': 0.0230258509299404}{'27': 0.0230258509299404, '28': 0.0230258509299404, '29': 0.0230258509299404, '30': 0.0230258509299404, '31': 0.0230258509299404, '32': 0.0230258509299404}{'32': 0.0230258509299404}{'32': 0.0230258509299404}{'27': 0.0230258509299404, '28': 0.0230258509299404, '29': 0.0230258509299404, '30': 0.0230258509299404, '31': 0.0230258509299404, '32': 0.0230258509299404}{'32': 0.0230258509299404}{'32': 0.0230258509299404}{'27': 0.0230258509299404, '28': 0.0230258509299404, '29': 0.0230258509299404, '30': 0.0230258509299404, '31': 0.0230258509299404, '32': 0.0230258509299404}\n",
      "\n",
      "\n",
      "\n",
      "\n",
      "\n",
      "\n",
      "\n",
      "{'27': 0.0230258509299404, '28': 0.0230258509299404, '29': 0.0230258509299404, '30': 0.0230258509299404, '31': 0.0230258509299404, '32': 0.0230258509299404}{'32': 0.0230258509299404}{'27': 0.0230258509299404, '28': 0.0230258509299404, '29': 0.0230258509299404, '30': 0.0230258509299404, '31': 0.0230258509299404, '32': 0.0230258509299404}{'32': 0.0230258509299404}{'27': 0.0230258509299404, '28': 0.0230258509299404, '29': 0.0230258509299404, '30': 0.0230258509299404, '31': 0.0230258509299404, '32': 0.0230258509299404}{'32': 0.0230258509299404}{'27': 0.0230258509299404, '28': 0.0230258509299404, '29': 0.0230258509299404, '30': 0.0230258509299404, '31': 0.0230258509299404, '32': 0.0230258509299404}\n",
      "\n",
      "\n",
      "\n",
      "\n",
      "\n",
      "\n",
      "{'32': 0.0230258509299404}{'27': 0.0230258509299404, '28': 0.0230258509299404, '29': 0.0230258509299404, '30': 0.0230258509299404, '31': 0.0230258509299404, '32': 0.0230258509299404}{'32': 0.0230258509299404}{'27': 0.0230258509299404, '28': 0.0230258509299404, '29': 0.0230258509299404, '30': 0.0230258509299404, '31': 0.0230258509299404, '32': 0.0230258509299404}{'32': 0.0230258509299404}{'27': 0.0230258509299404, '28': 0.0230258509299404, '29': 0.0230258509299404, '30': 0.0230258509299404, '31': 0.0230258509299404, '32': 0.0230258509299404}{'32': 0.0230258509299404}{'27': 0.0230258509299404, '28': 0.0230258509299404, '29': 0.0230258509299404, '30': 0.0230258509299404, '31': 0.0230258509299404, '32': 0.0230258509299404}\n",
      "\n",
      "\n",
      "\n",
      "\n",
      "\n",
      "\n",
      "\n",
      "{'27': 0.0230258509299404, '28': 0.0230258509299404, '29': 0.0230258509299404, '30': 0.0230258509299404, '31': 0.0230258509299404, '32': 0.0230258509299404}{'32': 0.0230258509299404}{'27': 0.0230258509299404, '28': 0.0230258509299404, '29': 0.0230258509299404, '30': 0.0230258509299404, '31': 0.0230258509299404, '32': 0.0230258509299404}{'32': 0.0230258509299404}{'32': 0.0230258509299404}{'32': 0.0230258509299404}{'27': 0.0230258509299404, '28': 0.0230258509299404, '29': 0.0230258509299404, '30': 0.0230258509299404, '31': 0.0230258509299404, '32': 0.0230258509299404}\n",
      "{'27': 0.0230258509299404, '28': 0.0230258509299404, '29': 0.0230258509299404, '30': 0.0230258509299404, '31': 0.0230258509299404, '32': 0.0230258509299404}\n",
      "\n",
      "\n",
      "\n",
      "\n",
      "\n",
      "\n",
      "{'27': 0.0230258509299404, '28': 0.0230258509299404, '29': 0.0230258509299404, '30': 0.0230258509299404, '31': 0.0230258509299404, '32': 0.0230258509299404}{'32': 0.0230258509299404}{'27': 0.0230258509299404, '28': 0.0230258509299404, '29': 0.0230258509299404, '30': 0.0230258509299404, '31': 0.0230258509299404, '32': 0.0230258509299404}{'32': 0.0230258509299404}{'32': 0.0230258509299404}{'32': 0.0230258509299404}{'27': 0.0230258509299404, '28': 0.0230258509299404, '29': 0.0230258509299404, '30': 0.0230258509299404, '31': 0.0230258509299404, '32': 0.0230258509299404}{'27': 0.0230258509299404, '28': 0.0230258509299404, '29': 0.0230258509299404, '30': 0.0230258509299404, '31': 0.0230258509299404, '32': 0.0230258509299404}\n",
      "\n",
      "\n",
      "\n",
      "\n",
      "\n",
      "\n",
      "\n",
      "{'27': 0.0230258509299404, '28': 0.0230258509299404, '29': 0.0230258509299404, '30': 0.0230258509299404, '31': 0.0230258509299404, '32': 0.0230258509299404}{'32': 0.0230258509299404}{'27': 0.0230258509299404, '28': 0.0230258509299404, '29': 0.0230258509299404, '30': 0.0230258509299404, '31': 0.0230258509299404, '32': 0.0230258509299404}{'32': 0.0230258509299404}{'27': 0.0230258509299404, '28': 0.0230258509299404, '29': 0.0230258509299404, '30': 0.0230258509299404, '31': 0.0230258509299404, '32': 0.0230258509299404}{'32': 0.0230258509299404}\n",
      "{'27': 0.0230258509299404, '28': 0.0230258509299404, '29': 0.0230258509299404, '30': 0.0230258509299404, '31': 0.0230258509299404, '32': 0.0230258509299404}\n",
      "{'32': 0.0230258509299404}\n",
      "\n",
      "\n",
      "\n",
      "\n",
      "{'27': 0.0230258509299404, '28': 0.0230258509299404, '29': 0.0230258509299404, '30': 0.0230258509299404, '31': 0.0230258509299404, '32': 0.0230258509299404}\n",
      "{'32': 0.0230258509299404}{'27': 0.0230258509299404, '28': 0.0230258509299404, '29': 0.0230258509299404, '30': 0.0230258509299404, '31': 0.0230258509299404, '32': 0.0230258509299404}{'27': 0.0230258509299404, '28': 0.0230258509299404, '29': 0.0230258509299404, '30': 0.0230258509299404, '31': 0.0230258509299404, '32': 0.0230258509299404}{'32': 0.0230258509299404}\n",
      "{'27': 0.0230258509299404, '28': 0.0230258509299404, '29': 0.0230258509299404, '30': 0.0230258509299404, '31': 0.0230258509299404, '32': 0.0230258509299404}\n",
      "{'32': 0.0230258509299404}{'32': 0.0230258509299404}\n",
      "\n",
      "\n",
      "\n",
      "{'27': 0.0230258509299404, '28': 0.0230258509299404, '29': 0.0230258509299404, '30': 0.0230258509299404, '31': 0.0230258509299404, '32': 0.0230258509299404}{'32': 0.0230258509299404}\n",
      "\n",
      "{'27': 0.0230258509299404, '28': 0.0230258509299404, '29': 0.0230258509299404, '30': 0.0230258509299404, '31': 0.0230258509299404, '32': 0.0230258509299404}{'32': 0.0230258509299404}{'27': 0.0230258509299404, '28': 0.0230258509299404, '29': 0.0230258509299404, '30': 0.0230258509299404, '31': 0.0230258509299404, '32': 0.0230258509299404}\n",
      "\n",
      "{'27': 0.0230258509299404, '28': 0.0230258509299404, '29': 0.0230258509299404, '30': 0.0230258509299404, '31': 0.0230258509299404, '32': 0.0230258509299404}\n",
      "{'32': 0.0230258509299404}{'32': 0.0230258509299404}\n",
      "\n",
      "{'27': 0.0230258509299404, '28': 0.0230258509299404, '29': 0.0230258509299404, '30': 0.0230258509299404, '31': 0.0230258509299404, '32': 0.0230258509299404}{'32': 0.0230258509299404}\n",
      "{'27': 0.0230258509299404, '28': 0.0230258509299404, '29': 0.0230258509299404, '30': 0.0230258509299404, '31': 0.0230258509299404, '32': 0.0230258509299404}\n",
      "\n",
      "{'32': 0.0230258509299404}{'27': 0.0230258509299404, '28': 0.0230258509299404, '29': 0.0230258509299404, '30': 0.0230258509299404, '31': 0.0230258509299404, '32': 0.0230258509299404}\n",
      "\n",
      "\n",
      "{'27': 0.0230258509299404, '28': 0.0230258509299404, '29': 0.0230258509299404, '30': 0.0230258509299404, '31': 0.0230258509299404, '32': 0.0230258509299404}\n",
      "{'32': 0.0230258509299404}{'32': 0.0230258509299404}\n",
      "{'27': 0.0230258509299404, '28': 0.0230258509299404, '29': 0.0230258509299404, '30': 0.0230258509299404, '31': 0.0230258509299404, '32': 0.0230258509299404}{'32': 0.0230258509299404}\n",
      "{'27': 0.0230258509299404, '28': 0.0230258509299404, '29': 0.0230258509299404, '30': 0.0230258509299404, '31': 0.0230258509299404, '32': 0.0230258509299404}\n",
      "{'32': 0.0230258509299404}\n",
      "\n",
      "{'27': 0.0230258509299404, '28': 0.0230258509299404, '29': 0.0230258509299404, '30': 0.0230258509299404, '31': 0.0230258509299404, '32': 0.0230258509299404}\n",
      "\n",
      "\n",
      "{'27': 0.0230258509299404, '28': 0.0230258509299404, '29': 0.0230258509299404, '30': 0.0230258509299404, '31': 0.0230258509299404, '32': 0.0230258509299404}{'32': 0.0230258509299404}\n",
      "{'32': 0.0230258509299404}{'32': 0.0230258509299404}{'27': 0.0230258509299404, '28': 0.0230258509299404, '29': 0.0230258509299404, '30': 0.0230258509299404, '31': 0.0230258509299404, '32': 0.0230258509299404}\n",
      "{'27': 0.0230258509299404, '28': 0.0230258509299404, '29': 0.0230258509299404, '30': 0.0230258509299404, '31': 0.0230258509299404, '32': 0.0230258509299404}{'32': 0.0230258509299404}\n",
      "\n",
      "\n",
      "{'27': 0.0230258509299404, '28': 0.0230258509299404, '29': 0.0230258509299404, '30': 0.0230258509299404, '31': 0.0230258509299404, '32': 0.0230258509299404}\n",
      "\n",
      "\n",
      "{'27': 0.0230258509299404, '28': 0.0230258509299404, '29': 0.0230258509299404, '30': 0.0230258509299404, '31': 0.0230258509299404, '32': 0.0230258509299404}\n",
      "{'32': 0.0230258509299404}{'32': 0.0230258509299404}{'32': 0.0230258509299404}{'27': 0.0230258509299404, '28': 0.0230258509299404, '29': 0.0230258509299404, '30': 0.0230258509299404, '31': 0.0230258509299404, '32': 0.0230258509299404}{'27': 0.0230258509299404, '28': 0.0230258509299404, '29': 0.0230258509299404, '30': 0.0230258509299404, '31': 0.0230258509299404, '32': 0.0230258509299404}\n",
      "\n",
      "{'32': 0.0230258509299404}{'27': 0.0230258509299404, '28': 0.0230258509299404, '29': 0.0230258509299404, '30': 0.0230258509299404, '31': 0.0230258509299404, '32': 0.0230258509299404}\n",
      "\n",
      "\n",
      "\n",
      "\n",
      "{'32': 0.0230258509299404}{'27': 0.0230258509299404, '28': 0.0230258509299404, '29': 0.0230258509299404, '30': 0.0230258509299404, '31': 0.0230258509299404, '32': 0.0230258509299404}\n",
      "{'32': 0.0230258509299404}{'27': 0.0230258509299404, '28': 0.0230258509299404, '29': 0.0230258509299404, '30': 0.0230258509299404, '31': 0.0230258509299404, '32': 0.0230258509299404}{'32': 0.0230258509299404}\n",
      "{'27': 0.0230258509299404, '28': 0.0230258509299404, '29': 0.0230258509299404, '30': 0.0230258509299404, '31': 0.0230258509299404, '32': 0.0230258509299404}\n",
      "{'32': 0.0230258509299404}\n",
      "{'27': 0.0230258509299404, '28': 0.0230258509299404, '29': 0.0230258509299404, '30': 0.0230258509299404, '31': 0.0230258509299404, '32': 0.0230258509299404}\n",
      "\n",
      "{'32': 0.0230258509299404}\n",
      "\n",
      "{'27': 0.0230258509299404, '28': 0.0230258509299404, '29': 0.0230258509299404, '30': 0.0230258509299404, '31': 0.0230258509299404, '32': 0.0230258509299404}\n",
      "{'32': 0.0230258509299404}{'27': 0.0230258509299404, '28': 0.0230258509299404, '29': 0.0230258509299404, '30': 0.0230258509299404, '31': 0.0230258509299404, '32': 0.0230258509299404}\n",
      "{'32': 0.0230258509299404}\n",
      "{'32': 0.0230258509299404}{'27': 0.0230258509299404, '28': 0.0230258509299404, '29': 0.0230258509299404, '30': 0.0230258509299404, '31': 0.0230258509299404, '32': 0.0230258509299404}\n",
      "\n",
      "{'27': 0.0230258509299404, '28': 0.0230258509299404, '29': 0.0230258509299404, '30': 0.0230258509299404, '31': 0.0230258509299404, '32': 0.0230258509299404}{'32': 0.0230258509299404}\n",
      "{'27': 0.0230258509299404, '28': 0.0230258509299404, '29': 0.0230258509299404, '30': 0.0230258509299404, '31': 0.0230258509299404, '32': 0.0230258509299404}\n",
      "\n",
      "\n",
      "{'32': 0.0230258509299404}{'27': 0.0230258509299404, '28': 0.0230258509299404, '29': 0.0230258509299404, '30': 0.0230258509299404, '31': 0.0230258509299404, '32': 0.0230258509299404}\n",
      "\n",
      "{'32': 0.0230258509299404}\n",
      "{'32': 0.0230258509299404}{'27': 0.0230258509299404, '28': 0.0230258509299404, '29': 0.0230258509299404, '30': 0.0230258509299404, '31': 0.0230258509299404, '32': 0.0230258509299404}\n",
      "{'27': 0.0230258509299404, '28': 0.0230258509299404, '29': 0.0230258509299404, '30': 0.0230258509299404, '31': 0.0230258509299404, '32': 0.0230258509299404}{'32': 0.0230258509299404}{'27': 0.0230258509299404, '28': 0.0230258509299404, '29': 0.0230258509299404, '30': 0.0230258509299404, '31': 0.0230258509299404, '32': 0.0230258509299404}\n",
      "{'32': 0.0230258509299404}\n",
      "\n",
      "\n",
      "\n",
      "\n",
      "{'27': 0.0230258509299404, '28': 0.0230258509299404, '29': 0.0230258509299404, '30': 0.0230258509299404, '31': 0.0230258509299404, '32': 0.0230258509299404}\n",
      "{'32': 0.0230258509299404}{'27': 0.0230258509299404, '28': 0.0230258509299404, '29': 0.0230258509299404, '30': 0.0230258509299404, '31': 0.0230258509299404, '32': 0.0230258509299404}{'32': 0.0230258509299404}{'27': 0.0230258509299404, '28': 0.0230258509299404, '29': 0.0230258509299404, '30': 0.0230258509299404, '31': 0.0230258509299404, '32': 0.0230258509299404}{'32': 0.0230258509299404}{'27': 0.0230258509299404, '28': 0.0230258509299404, '29': 0.0230258509299404, '30': 0.0230258509299404, '31': 0.0230258509299404, '32': 0.0230258509299404}\n",
      "{'32': 0.0230258509299404}\n",
      "\n",
      "\n",
      "\n",
      "\n",
      "\n",
      "\n",
      "{'27': 0.0230258509299404, '28': 0.0230258509299404, '29': 0.0230258509299404, '30': 0.0230258509299404, '31': 0.0230258509299404, '32': 0.0230258509299404}{'32': 0.0230258509299404}{'27': 0.0230258509299404, '28': 0.0230258509299404, '29': 0.0230258509299404, '30': 0.0230258509299404, '31': 0.0230258509299404, '32': 0.0230258509299404}{'32': 0.0230258509299404}{'27': 0.0230258509299404, '28': 0.0230258509299404, '29': 0.0230258509299404, '30': 0.0230258509299404, '31': 0.0230258509299404, '32': 0.0230258509299404}{'27': 0.0230258509299404, '28': 0.0230258509299404, '29': 0.0230258509299404, '30': 0.0230258509299404, '31': 0.0230258509299404, '32': 0.0230258509299404}{'32': 0.0230258509299404}{'32': 0.0230258509299404}\n",
      "\n",
      "\n",
      "\n",
      "\n",
      "\n",
      "\n",
      "\n",
      "{'32': 0.0230258509299404}{'27': 0.0230258509299404, '28': 0.0230258509299404, '29': 0.0230258509299404, '30': 0.0230258509299404, '31': 0.0230258509299404, '32': 0.0230258509299404}{'27': 0.0230258509299404, '28': 0.0230258509299404, '29': 0.0230258509299404, '30': 0.0230258509299404, '31': 0.0230258509299404, '32': 0.0230258509299404}{'27': 0.0230258509299404, '28': 0.0230258509299404, '29': 0.0230258509299404, '30': 0.0230258509299404, '31': 0.0230258509299404, '32': 0.0230258509299404}{'27': 0.0230258509299404, '28': 0.0230258509299404, '29': 0.0230258509299404, '30': 0.0230258509299404, '31': 0.0230258509299404, '32': 0.0230258509299404}{'32': 0.0230258509299404}{'32': 0.0230258509299404}{'32': 0.0230258509299404}\n",
      "\n",
      "\n",
      "\n",
      "\n",
      "\n",
      "\n",
      "\n",
      "{'32': 0.0230258509299404}{'27': 0.0230258509299404, '28': 0.0230258509299404, '29': 0.0230258509299404, '30': 0.0230258509299404, '31': 0.0230258509299404, '32': 0.0230258509299404}{'27': 0.0230258509299404, '28': 0.0230258509299404, '29': 0.0230258509299404, '30': 0.0230258509299404, '31': 0.0230258509299404, '32': 0.0230258509299404}{'27': 0.0230258509299404, '28': 0.0230258509299404, '29': 0.0230258509299404, '30': 0.0230258509299404, '31': 0.0230258509299404, '32': 0.0230258509299404}{'27': 0.0230258509299404, '28': 0.0230258509299404, '29': 0.0230258509299404, '30': 0.0230258509299404, '31': 0.0230258509299404, '32': 0.0230258509299404}{'32': 0.0230258509299404}\n",
      "{'32': 0.0230258509299404}{'32': 0.0230258509299404}\n",
      "\n",
      "\n",
      "\n",
      "\n",
      "\n",
      "{'27': 0.0230258509299404, '28': 0.0230258509299404, '29': 0.0230258509299404, '30': 0.0230258509299404, '31': 0.0230258509299404, '32': 0.0230258509299404}\n",
      "{'32': 0.0230258509299404}{'27': 0.0230258509299404, '28': 0.0230258509299404, '29': 0.0230258509299404, '30': 0.0230258509299404, '31': 0.0230258509299404, '32': 0.0230258509299404}{'27': 0.0230258509299404, '28': 0.0230258509299404, '29': 0.0230258509299404, '30': 0.0230258509299404, '31': 0.0230258509299404, '32': 0.0230258509299404}{'27': 0.0230258509299404, '28': 0.0230258509299404, '29': 0.0230258509299404, '30': 0.0230258509299404, '31': 0.0230258509299404, '32': 0.0230258509299404}\n",
      "{'32': 0.0230258509299404}{'32': 0.0230258509299404}\n",
      "{'32': 0.0230258509299404}\n",
      "\n",
      "\n",
      "{'27': 0.0230258509299404, '28': 0.0230258509299404, '29': 0.0230258509299404, '30': 0.0230258509299404, '31': 0.0230258509299404, '32': 0.0230258509299404}\n",
      "\n",
      "\n",
      "{'32': 0.0230258509299404}{'27': 0.0230258509299404, '28': 0.0230258509299404, '29': 0.0230258509299404, '30': 0.0230258509299404, '31': 0.0230258509299404, '32': 0.0230258509299404}\n",
      "{'27': 0.0230258509299404, '28': 0.0230258509299404, '29': 0.0230258509299404, '30': 0.0230258509299404, '31': 0.0230258509299404, '32': 0.0230258509299404}{'27': 0.0230258509299404, '28': 0.0230258509299404, '29': 0.0230258509299404, '30': 0.0230258509299404, '31': 0.0230258509299404, '32': 0.0230258509299404}{'32': 0.0230258509299404}{'32': 0.0230258509299404}\n",
      "\n",
      "{'32': 0.0230258509299404}\n",
      "{'27': 0.0230258509299404, '28': 0.0230258509299404, '29': 0.0230258509299404, '30': 0.0230258509299404, '31': 0.0230258509299404, '32': 0.0230258509299404}\n",
      "\n",
      "\n",
      "{'32': 0.0230258509299404}\n",
      "{'27': 0.0230258509299404, '28': 0.0230258509299404, '29': 0.0230258509299404, '30': 0.0230258509299404, '31': 0.0230258509299404, '32': 0.0230258509299404}\n",
      "{'27': 0.0230258509299404, '28': 0.0230258509299404, '29': 0.0230258509299404, '30': 0.0230258509299404, '31': 0.0230258509299404, '32': 0.0230258509299404}{'27': 0.0230258509299404, '28': 0.0230258509299404, '29': 0.0230258509299404, '30': 0.0230258509299404, '31': 0.0230258509299404, '32': 0.0230258509299404}{'32': 0.0230258509299404}{'32': 0.0230258509299404}\n",
      "\n",
      "{'27': 0.0230258509299404, '28': 0.0230258509299404, '29': 0.0230258509299404, '30': 0.0230258509299404, '31': 0.0230258509299404, '32': 0.0230258509299404}{'32': 0.0230258509299404}\n",
      "\n",
      "\n",
      "\n",
      "\n",
      "{'32': 0.0230258509299404}{'27': 0.0230258509299404, '28': 0.0230258509299404, '29': 0.0230258509299404, '30': 0.0230258509299404, '31': 0.0230258509299404, '32': 0.0230258509299404}\n",
      "{'32': 0.0230258509299404}{'27': 0.0230258509299404, '28': 0.0230258509299404, '29': 0.0230258509299404, '30': 0.0230258509299404, '31': 0.0230258509299404, '32': 0.0230258509299404}{'27': 0.0230258509299404, '28': 0.0230258509299404, '29': 0.0230258509299404, '30': 0.0230258509299404, '31': 0.0230258509299404, '32': 0.0230258509299404}\n",
      "{'32': 0.0230258509299404}{'27': 0.0230258509299404, '28': 0.0230258509299404, '29': 0.0230258509299404, '30': 0.0230258509299404, '31': 0.0230258509299404, '32': 0.0230258509299404}\n",
      "\n",
      "{'32': 0.0230258509299404}\n",
      "\n",
      "\n",
      "{'32': 0.0230258509299404}\n",
      "{'27': 0.0230258509299404, '28': 0.0230258509299404, '29': 0.0230258509299404, '30': 0.0230258509299404, '31': 0.0230258509299404, '32': 0.0230258509299404}{'32': 0.0230258509299404}\n",
      "{'27': 0.0230258509299404, '28': 0.0230258509299404, '29': 0.0230258509299404, '30': 0.0230258509299404, '31': 0.0230258509299404, '32': 0.0230258509299404}\n",
      "{'27': 0.0230258509299404, '28': 0.0230258509299404, '29': 0.0230258509299404, '30': 0.0230258509299404, '31': 0.0230258509299404, '32': 0.0230258509299404}{'32': 0.0230258509299404}{'27': 0.0230258509299404, '28': 0.0230258509299404, '29': 0.0230258509299404, '30': 0.0230258509299404, '31': 0.0230258509299404, '32': 0.0230258509299404}\n",
      "\n",
      "{'32': 0.0230258509299404}\n",
      "\n",
      "\n",
      "{'32': 0.0230258509299404}\n",
      "{'32': 0.0230258509299404}\n",
      "{'27': 0.0230258509299404, '28': 0.0230258509299404, '29': 0.0230258509299404, '30': 0.0230258509299404, '31': 0.0230258509299404, '32': 0.0230258509299404}{'27': 0.0230258509299404, '28': 0.0230258509299404, '29': 0.0230258509299404, '30': 0.0230258509299404, '31': 0.0230258509299404, '32': 0.0230258509299404}{'27': 0.0230258509299404, '28': 0.0230258509299404, '29': 0.0230258509299404, '30': 0.0230258509299404, '31': 0.0230258509299404, '32': 0.0230258509299404}\n",
      "{'32': 0.0230258509299404}\n",
      "{'27': 0.0230258509299404, '28': 0.0230258509299404, '29': 0.0230258509299404, '30': 0.0230258509299404, '31': 0.0230258509299404, '32': 0.0230258509299404}\n",
      "\n",
      "\n",
      "{'32': 0.0230258509299404}\n",
      "{'32': 0.0230258509299404}{'32': 0.0230258509299404}\n",
      "{'27': 0.0230258509299404, '28': 0.0230258509299404, '29': 0.0230258509299404, '30': 0.0230258509299404, '31': 0.0230258509299404, '32': 0.0230258509299404}\n",
      "{'27': 0.0230258509299404, '28': 0.0230258509299404, '29': 0.0230258509299404, '30': 0.0230258509299404, '31': 0.0230258509299404, '32': 0.0230258509299404}{'27': 0.0230258509299404, '28': 0.0230258509299404, '29': 0.0230258509299404, '30': 0.0230258509299404, '31': 0.0230258509299404, '32': 0.0230258509299404}\n",
      "\n",
      "{'32': 0.0230258509299404}{'27': 0.0230258509299404, '28': 0.0230258509299404, '29': 0.0230258509299404, '30': 0.0230258509299404, '31': 0.0230258509299404, '32': 0.0230258509299404}\n",
      "\n",
      "\n",
      "\n",
      "{'32': 0.0230258509299404}\n",
      "{'32': 0.0230258509299404}{'32': 0.0230258509299404}{'27': 0.0230258509299404, '28': 0.0230258509299404, '29': 0.0230258509299404, '30': 0.0230258509299404, '31': 0.0230258509299404, '32': 0.0230258509299404}{'27': 0.0230258509299404, '28': 0.0230258509299404, '29': 0.0230258509299404, '30': 0.0230258509299404, '31': 0.0230258509299404, '32': 0.0230258509299404}{'27': 0.0230258509299404, '28': 0.0230258509299404, '29': 0.0230258509299404, '30': 0.0230258509299404, '31': 0.0230258509299404, '32': 0.0230258509299404}\n",
      "{'32': 0.0230258509299404}\n",
      "{'27': 0.0230258509299404, '28': 0.0230258509299404, '29': 0.0230258509299404, '30': 0.0230258509299404, '31': 0.0230258509299404, '32': 0.0230258509299404}\n",
      "\n",
      "\n",
      "\n",
      "\n",
      "\n",
      "{'32': 0.0230258509299404}{'32': 0.0230258509299404}{'32': 0.0230258509299404}{'27': 0.0230258509299404, '28': 0.0230258509299404, '29': 0.0230258509299404, '30': 0.0230258509299404, '31': 0.0230258509299404, '32': 0.0230258509299404}{'32': 0.0230258509299404}{'27': 0.0230258509299404, '28': 0.0230258509299404, '29': 0.0230258509299404, '30': 0.0230258509299404, '31': 0.0230258509299404, '32': 0.0230258509299404}{'27': 0.0230258509299404, '28': 0.0230258509299404, '29': 0.0230258509299404, '30': 0.0230258509299404, '31': 0.0230258509299404, '32': 0.0230258509299404}{'27': 0.0230258509299404, '28': 0.0230258509299404, '29': 0.0230258509299404, '30': 0.0230258509299404, '31': 0.0230258509299404, '32': 0.0230258509299404}\n",
      "\n",
      "\n",
      "\n",
      "\n",
      "\n",
      "\n",
      "\n",
      "{'32': 0.0230258509299404}{'32': 0.0230258509299404}{'32': 0.0230258509299404}{'32': 0.0230258509299404}{'27': 0.0230258509299404, '28': 0.0230258509299404, '29': 0.0230258509299404, '30': 0.0230258509299404, '31': 0.0230258509299404, '32': 0.0230258509299404}{'27': 0.0230258509299404, '28': 0.0230258509299404, '29': 0.0230258509299404, '30': 0.0230258509299404, '31': 0.0230258509299404, '32': 0.0230258509299404}{'27': 0.0230258509299404, '28': 0.0230258509299404, '29': 0.0230258509299404, '30': 0.0230258509299404, '31': 0.0230258509299404, '32': 0.0230258509299404}{'27': 0.0230258509299404, '28': 0.0230258509299404, '29': 0.0230258509299404, '30': 0.0230258509299404, '31': 0.0230258509299404, '32': 0.0230258509299404}\n",
      "\n",
      "\n",
      "\n",
      "\n",
      "\n",
      "\n",
      "\n",
      "{'32': 0.0230258509299404}{'32': 0.0230258509299404}{'32': 0.0230258509299404}{'32': 0.0230258509299404}{'27': 0.0230258509299404, '28': 0.0230258509299404, '29': 0.0230258509299404, '30': 0.0230258509299404, '31': 0.0230258509299404, '32': 0.0230258509299404}{'27': 0.0230258509299404, '28': 0.0230258509299404, '29': 0.0230258509299404, '30': 0.0230258509299404, '31': 0.0230258509299404, '32': 0.0230258509299404}\n",
      "\n",
      "{'27': 0.0230258509299404, '28': 0.0230258509299404, '29': 0.0230258509299404, '30': 0.0230258509299404, '31': 0.0230258509299404, '32': 0.0230258509299404}\n",
      "{'27': 0.0230258509299404, '28': 0.0230258509299404, '29': 0.0230258509299404, '30': 0.0230258509299404, '31': 0.0230258509299404, '32': 0.0230258509299404}\n",
      "\n",
      "\n",
      "{'32': 0.0230258509299404}{'32': 0.0230258509299404}\n",
      "{'32': 0.0230258509299404}\n",
      "{'27': 0.0230258509299404, '28': 0.0230258509299404, '29': 0.0230258509299404, '30': 0.0230258509299404, '31': 0.0230258509299404, '32': 0.0230258509299404}\n",
      "\n",
      "{'32': 0.0230258509299404}{'27': 0.0230258509299404, '28': 0.0230258509299404, '29': 0.0230258509299404, '30': 0.0230258509299404, '31': 0.0230258509299404, '32': 0.0230258509299404}\n",
      "{'27': 0.0230258509299404, '28': 0.0230258509299404, '29': 0.0230258509299404, '30': 0.0230258509299404, '31': 0.0230258509299404, '32': 0.0230258509299404}\n",
      "{'27': 0.0230258509299404, '28': 0.0230258509299404, '29': 0.0230258509299404, '30': 0.0230258509299404, '31': 0.0230258509299404, '32': 0.0230258509299404}{'32': 0.0230258509299404}\n",
      "{'32': 0.0230258509299404}\n",
      "\n",
      "{'32': 0.0230258509299404}{'27': 0.0230258509299404, '28': 0.0230258509299404, '29': 0.0230258509299404, '30': 0.0230258509299404, '31': 0.0230258509299404, '32': 0.0230258509299404}\n",
      "\n",
      "\n",
      "{'27': 0.0230258509299404, '28': 0.0230258509299404, '29': 0.0230258509299404, '30': 0.0230258509299404, '31': 0.0230258509299404, '32': 0.0230258509299404}{'32': 0.0230258509299404}\n",
      "\n",
      "{'27': 0.0230258509299404, '28': 0.0230258509299404, '29': 0.0230258509299404, '30': 0.0230258509299404, '31': 0.0230258509299404, '32': 0.0230258509299404}{'32': 0.0230258509299404}\n",
      "{'32': 0.0230258509299404}{'27': 0.0230258509299404, '28': 0.0230258509299404, '29': 0.0230258509299404, '30': 0.0230258509299404, '31': 0.0230258509299404, '32': 0.0230258509299404}\n",
      "{'32': 0.0230258509299404}{'27': 0.0230258509299404, '28': 0.0230258509299404, '29': 0.0230258509299404, '30': 0.0230258509299404, '31': 0.0230258509299404, '32': 0.0230258509299404}\n",
      "\n",
      "\n",
      "{'27': 0.0230258509299404, '28': 0.0230258509299404, '29': 0.0230258509299404, '30': 0.0230258509299404, '31': 0.0230258509299404, '32': 0.0230258509299404}\n",
      "\n",
      "\n",
      "{'32': 0.0230258509299404}{'27': 0.0230258509299404, '28': 0.0230258509299404, '29': 0.0230258509299404, '30': 0.0230258509299404, '31': 0.0230258509299404, '32': 0.0230258509299404}{'32': 0.0230258509299404}\n",
      "{'32': 0.0230258509299404}{'27': 0.0230258509299404, '28': 0.0230258509299404, '29': 0.0230258509299404, '30': 0.0230258509299404, '31': 0.0230258509299404, '32': 0.0230258509299404}{'32': 0.0230258509299404}\n",
      "{'27': 0.0230258509299404, '28': 0.0230258509299404, '29': 0.0230258509299404, '30': 0.0230258509299404, '31': 0.0230258509299404, '32': 0.0230258509299404}\n",
      "\n",
      "\n",
      "\n",
      "{'27': 0.0230258509299404, '28': 0.0230258509299404, '29': 0.0230258509299404, '30': 0.0230258509299404, '31': 0.0230258509299404, '32': 0.0230258509299404}\n",
      "\n",
      "{'32': 0.0230258509299404}{'32': 0.0230258509299404}{'27': 0.0230258509299404, '28': 0.0230258509299404, '29': 0.0230258509299404, '30': 0.0230258509299404, '31': 0.0230258509299404, '32': 0.0230258509299404}{'27': 0.0230258509299404, '28': 0.0230258509299404, '29': 0.0230258509299404, '30': 0.0230258509299404, '31': 0.0230258509299404, '32': 0.0230258509299404}\n",
      "\n",
      "{'32': 0.0230258509299404}{'32': 0.0230258509299404}\n",
      "\n",
      "{'27': 0.0230258509299404, '28': 0.0230258509299404, '29': 0.0230258509299404, '30': 0.0230258509299404, '31': 0.0230258509299404, '32': 0.0230258509299404}\n",
      "{'32': 0.0230258509299404}\n",
      "{'27': 0.0230258509299404, '28': 0.0230258509299404, '29': 0.0230258509299404, '30': 0.0230258509299404, '31': 0.0230258509299404, '32': 0.0230258509299404}\n",
      "{'27': 0.0230258509299404, '28': 0.0230258509299404, '29': 0.0230258509299404, '30': 0.0230258509299404, '31': 0.0230258509299404, '32': 0.0230258509299404}{'32': 0.0230258509299404}\n",
      "\n",
      "{'27': 0.0230258509299404, '28': 0.0230258509299404, '29': 0.0230258509299404, '30': 0.0230258509299404, '31': 0.0230258509299404, '32': 0.0230258509299404}\n",
      "{'32': 0.0230258509299404}\n",
      "\n",
      "{'32': 0.0230258509299404}\n",
      "{'27': 0.0230258509299404, '28': 0.0230258509299404, '29': 0.0230258509299404, '30': 0.0230258509299404, '31': 0.0230258509299404, '32': 0.0230258509299404}{'32': 0.0230258509299404}\n",
      "{'27': 0.0230258509299404, '28': 0.0230258509299404, '29': 0.0230258509299404, '30': 0.0230258509299404, '31': 0.0230258509299404, '32': 0.0230258509299404}\n",
      "{'32': 0.0230258509299404}{'27': 0.0230258509299404, '28': 0.0230258509299404, '29': 0.0230258509299404, '30': 0.0230258509299404, '31': 0.0230258509299404, '32': 0.0230258509299404}\n",
      "\n",
      "{'27': 0.0230258509299404, '28': 0.0230258509299404, '29': 0.0230258509299404, '30': 0.0230258509299404, '31': 0.0230258509299404, '32': 0.0230258509299404}\n",
      "{'32': 0.0230258509299404}\n",
      "{'32': 0.0230258509299404}\n",
      "\n",
      "{'32': 0.0230258509299404}{'27': 0.0230258509299404, '28': 0.0230258509299404, '29': 0.0230258509299404, '30': 0.0230258509299404, '31': 0.0230258509299404, '32': 0.0230258509299404}{'27': 0.0230258509299404, '28': 0.0230258509299404, '29': 0.0230258509299404, '30': 0.0230258509299404, '31': 0.0230258509299404, '32': 0.0230258509299404}\n",
      "\n",
      "{'32': 0.0230258509299404}\n",
      "{'27': 0.0230258509299404, '28': 0.0230258509299404, '29': 0.0230258509299404, '30': 0.0230258509299404, '31': 0.0230258509299404, '32': 0.0230258509299404}{'27': 0.0230258509299404, '28': 0.0230258509299404, '29': 0.0230258509299404, '30': 0.0230258509299404, '31': 0.0230258509299404, '32': 0.0230258509299404}\n",
      "\n",
      "{'32': 0.0230258509299404}\n",
      "\n",
      "{'32': 0.0230258509299404}{'32': 0.0230258509299404}\n",
      "{'27': 0.0230258509299404, '28': 0.0230258509299404, '29': 0.0230258509299404, '30': 0.0230258509299404, '31': 0.0230258509299404, '32': 0.0230258509299404}\n",
      "{'32': 0.0230258509299404}\n",
      "{'27': 0.0230258509299404, '28': 0.0230258509299404, '29': 0.0230258509299404, '30': 0.0230258509299404, '31': 0.0230258509299404, '32': 0.0230258509299404}\n",
      "{'27': 0.0230258509299404, '28': 0.0230258509299404, '29': 0.0230258509299404, '30': 0.0230258509299404, '31': 0.0230258509299404, '32': 0.0230258509299404}{'27': 0.0230258509299404, '28': 0.0230258509299404, '29': 0.0230258509299404, '30': 0.0230258509299404, '31': 0.0230258509299404, '32': 0.0230258509299404}{'32': 0.0230258509299404}\n",
      "\n",
      "\n",
      "{'32': 0.0230258509299404}\n",
      "\n",
      "\n",
      "{'32': 0.0230258509299404}{'27': 0.0230258509299404, '28': 0.0230258509299404, '29': 0.0230258509299404, '30': 0.0230258509299404, '31': 0.0230258509299404, '32': 0.0230258509299404}{'32': 0.0230258509299404}\n",
      "{'27': 0.0230258509299404, '28': 0.0230258509299404, '29': 0.0230258509299404, '30': 0.0230258509299404, '31': 0.0230258509299404, '32': 0.0230258509299404}{'27': 0.0230258509299404, '28': 0.0230258509299404, '29': 0.0230258509299404, '30': 0.0230258509299404, '31': 0.0230258509299404, '32': 0.0230258509299404}{'32': 0.0230258509299404}\n",
      "\n",
      "\n",
      "{'27': 0.0230258509299404, '28': 0.0230258509299404, '29': 0.0230258509299404, '30': 0.0230258509299404, '31': 0.0230258509299404, '32': 0.0230258509299404}\n",
      "{'32': 0.0230258509299404}\n",
      "\n",
      "{'32': 0.0230258509299404}{'32': 0.0230258509299404}\n",
      "\n",
      "{'27': 0.0230258509299404, '28': 0.0230258509299404, '29': 0.0230258509299404, '30': 0.0230258509299404, '31': 0.0230258509299404, '32': 0.0230258509299404}{'27': 0.0230258509299404, '28': 0.0230258509299404, '29': 0.0230258509299404, '30': 0.0230258509299404, '31': 0.0230258509299404, '32': 0.0230258509299404}{'27': 0.0230258509299404, '28': 0.0230258509299404, '29': 0.0230258509299404, '30': 0.0230258509299404, '31': 0.0230258509299404, '32': 0.0230258509299404}{'32': 0.0230258509299404}\n",
      "\n",
      "{'32': 0.0230258509299404}\n",
      "{'27': 0.0230258509299404, '28': 0.0230258509299404, '29': 0.0230258509299404, '30': 0.0230258509299404, '31': 0.0230258509299404, '32': 0.0230258509299404}\n",
      "\n",
      "\n",
      "{'32': 0.0230258509299404}\n",
      "\n",
      "{'27': 0.0230258509299404, '28': 0.0230258509299404, '29': 0.0230258509299404, '30': 0.0230258509299404, '31': 0.0230258509299404, '32': 0.0230258509299404}{'32': 0.0230258509299404}{'27': 0.0230258509299404, '28': 0.0230258509299404, '29': 0.0230258509299404, '30': 0.0230258509299404, '31': 0.0230258509299404, '32': 0.0230258509299404}\n",
      "{'32': 0.0230258509299404}{'32': 0.0230258509299404}{'27': 0.0230258509299404, '28': 0.0230258509299404, '29': 0.0230258509299404, '30': 0.0230258509299404, '31': 0.0230258509299404, '32': 0.0230258509299404}\n",
      "\n",
      "\n",
      "{'27': 0.0230258509299404, '28': 0.0230258509299404, '29': 0.0230258509299404, '30': 0.0230258509299404, '31': 0.0230258509299404, '32': 0.0230258509299404}\n",
      "\n",
      "{'32': 0.0230258509299404}\n",
      "{'32': 0.0230258509299404}\n",
      "{'27': 0.0230258509299404, '28': 0.0230258509299404, '29': 0.0230258509299404, '30': 0.0230258509299404, '31': 0.0230258509299404, '32': 0.0230258509299404}{'27': 0.0230258509299404, '28': 0.0230258509299404, '29': 0.0230258509299404, '30': 0.0230258509299404, '31': 0.0230258509299404, '32': 0.0230258509299404}\n",
      "{'32': 0.0230258509299404}\n",
      "{'27': 0.0230258509299404, '28': 0.0230258509299404, '29': 0.0230258509299404, '30': 0.0230258509299404, '31': 0.0230258509299404, '32': 0.0230258509299404}{'32': 0.0230258509299404}\n",
      "\n",
      "{'27': 0.0230258509299404, '28': 0.0230258509299404, '29': 0.0230258509299404, '30': 0.0230258509299404, '31': 0.0230258509299404, '32': 0.0230258509299404}{'32': 0.0230258509299404}\n",
      "\n",
      "{'32': 0.0230258509299404}\n",
      "{'27': 0.0230258509299404, '28': 0.0230258509299404, '29': 0.0230258509299404, '30': 0.0230258509299404, '31': 0.0230258509299404, '32': 0.0230258509299404}{'27': 0.0230258509299404, '28': 0.0230258509299404, '29': 0.0230258509299404, '30': 0.0230258509299404, '31': 0.0230258509299404, '32': 0.0230258509299404}\n",
      "\n",
      "{'32': 0.0230258509299404}{'27': 0.0230258509299404, '28': 0.0230258509299404, '29': 0.0230258509299404, '30': 0.0230258509299404, '31': 0.0230258509299404, '32': 0.0230258509299404}{'32': 0.0230258509299404}\n",
      "\n",
      "\n",
      "\n",
      "{'32': 0.0230258509299404}{'27': 0.0230258509299404, '28': 0.0230258509299404, '29': 0.0230258509299404, '30': 0.0230258509299404, '31': 0.0230258509299404, '32': 0.0230258509299404}\n",
      "\n",
      "{'32': 0.0230258509299404}{'27': 0.0230258509299404, '28': 0.0230258509299404, '29': 0.0230258509299404, '30': 0.0230258509299404, '31': 0.0230258509299404, '32': 0.0230258509299404}{'27': 0.0230258509299404, '28': 0.0230258509299404, '29': 0.0230258509299404, '30': 0.0230258509299404, '31': 0.0230258509299404, '32': 0.0230258509299404}\n",
      "{'32': 0.0230258509299404}\n",
      "{'32': 0.0230258509299404}\n",
      "{'27': 0.0230258509299404, '28': 0.0230258509299404, '29': 0.0230258509299404, '30': 0.0230258509299404, '31': 0.0230258509299404, '32': 0.0230258509299404}\n",
      "\n",
      "\n",
      "{'32': 0.0230258509299404}{'27': 0.0230258509299404, '28': 0.0230258509299404, '29': 0.0230258509299404, '30': 0.0230258509299404, '31': 0.0230258509299404, '32': 0.0230258509299404}\n",
      "\n",
      "{'27': 0.0230258509299404, '28': 0.0230258509299404, '29': 0.0230258509299404, '30': 0.0230258509299404, '31': 0.0230258509299404, '32': 0.0230258509299404}\n",
      "{'27': 0.0230258509299404, '28': 0.0230258509299404, '29': 0.0230258509299404, '30': 0.0230258509299404, '31': 0.0230258509299404, '32': 0.0230258509299404}{'32': 0.0230258509299404}{'32': 0.0230258509299404}\n",
      "{'32': 0.0230258509299404}\n",
      "{'27': 0.0230258509299404, '28': 0.0230258509299404, '29': 0.0230258509299404, '30': 0.0230258509299404, '31': 0.0230258509299404, '32': 0.0230258509299404}\n",
      "{'32': 0.0230258509299404}\n",
      "\n",
      "{'27': 0.0230258509299404, '28': 0.0230258509299404, '29': 0.0230258509299404, '30': 0.0230258509299404, '31': 0.0230258509299404, '32': 0.0230258509299404}\n",
      "\n",
      "{'27': 0.0230258509299404, '28': 0.0230258509299404, '29': 0.0230258509299404, '30': 0.0230258509299404, '31': 0.0230258509299404, '32': 0.0230258509299404}\n",
      "{'27': 0.0230258509299404, '28': 0.0230258509299404, '29': 0.0230258509299404, '30': 0.0230258509299404, '31': 0.0230258509299404, '32': 0.0230258509299404}\n",
      "{'32': 0.0230258509299404}{'32': 0.0230258509299404}\n",
      "{'32': 0.0230258509299404}{'32': 0.0230258509299404}{'27': 0.0230258509299404, '28': 0.0230258509299404, '29': 0.0230258509299404, '30': 0.0230258509299404, '31': 0.0230258509299404, '32': 0.0230258509299404}\n",
      "\n",
      "\n",
      "{'27': 0.0230258509299404, '28': 0.0230258509299404, '29': 0.0230258509299404, '30': 0.0230258509299404, '31': 0.0230258509299404, '32': 0.0230258509299404}{'27': 0.0230258509299404, '28': 0.0230258509299404, '29': 0.0230258509299404, '30': 0.0230258509299404, '31': 0.0230258509299404, '32': 0.0230258509299404}\n",
      "\n",
      "\n",
      "{'27': 0.0230258509299404, '28': 0.0230258509299404, '29': 0.0230258509299404, '30': 0.0230258509299404, '31': 0.0230258509299404, '32': 0.0230258509299404}\n",
      "\n",
      "{'32': 0.0230258509299404}{'32': 0.0230258509299404}{'32': 0.0230258509299404}\n",
      "{'32': 0.0230258509299404}{'27': 0.0230258509299404, '28': 0.0230258509299404, '29': 0.0230258509299404, '30': 0.0230258509299404, '31': 0.0230258509299404, '32': 0.0230258509299404}{'27': 0.0230258509299404, '28': 0.0230258509299404, '29': 0.0230258509299404, '30': 0.0230258509299404, '31': 0.0230258509299404, '32': 0.0230258509299404}\n",
      "{'27': 0.0230258509299404, '28': 0.0230258509299404, '29': 0.0230258509299404, '30': 0.0230258509299404, '31': 0.0230258509299404, '32': 0.0230258509299404}\n",
      "\n",
      "\n",
      "\n",
      "{'27': 0.0230258509299404, '28': 0.0230258509299404, '29': 0.0230258509299404, '30': 0.0230258509299404, '31': 0.0230258509299404, '32': 0.0230258509299404}\n",
      "{'32': 0.0230258509299404}\n",
      "{'32': 0.0230258509299404}{'32': 0.0230258509299404}{'27': 0.0230258509299404, '28': 0.0230258509299404, '29': 0.0230258509299404, '30': 0.0230258509299404, '31': 0.0230258509299404, '32': 0.0230258509299404}\n",
      "{'32': 0.0230258509299404}{'27': 0.0230258509299404, '28': 0.0230258509299404, '29': 0.0230258509299404, '30': 0.0230258509299404, '31': 0.0230258509299404, '32': 0.0230258509299404}"
     ]
    }
   ],
   "source": [
    "path = \"ray/criteo/bias_varying_workload_size\"\n",
    "budget_df = analyze_results(path, \"budget\")\n",
    "budget_df"
   ]
  }
 ],
 "metadata": {
  "kernelspec": {
   "display_name": "Python 3 (ipykernel)",
   "language": "python",
   "name": "python3"
  },
  "language_info": {
   "codemirror_mode": {
    "name": "ipython",
    "version": 3
   },
   "file_extension": ".py",
   "mimetype": "text/x-python",
   "name": "python",
   "nbconvert_exporter": "python",
   "pygments_lexer": "ipython3",
   "version": "3.10.12"
  }
 },
 "nbformat": 4,
 "nbformat_minor": 4
}
