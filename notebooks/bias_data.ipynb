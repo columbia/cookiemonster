{
 "cells": [
  {
   "cell_type": "code",
   "execution_count": 72,
   "metadata": {},
   "outputs": [],
   "source": [
    "import mlflow\n",
    "import pandas as pd\n",
    "\n",
    "from cookiemonster.utils import LOGS_PATH"
   ]
  },
  {
   "cell_type": "code",
   "execution_count": 73,
   "metadata": {},
   "outputs": [],
   "source": [
    "from mlflow.tracking import MlflowClient\n",
    "\n",
    "tracking_uri = str(LOGS_PATH.joinpath(\"mlflow\"))\n",
    "\n",
    "mlflow.set_tracking_uri(tracking_uri)\n",
    "client = MlflowClient(\n",
    "    tracking_uri=tracking_uri\n",
    ")"
   ]
  },
  {
   "cell_type": "code",
   "execution_count": 74,
   "metadata": {},
   "outputs": [
    {
     "data": {
      "text/plain": [
       "['dfbdd28ca90c47bb93f7f4d981c04f69',\n",
       " '96828147a47b493987fb90ff5c24574f',\n",
       " 'a6aeac653b1648d584bf8112da0f5502',\n",
       " 'a63c5caf467c47e8a98506dcc0ec8e16',\n",
       " '6c6345e71d9d43c7b7de3dfae4e24234',\n",
       " '217359fcd7504ca0bef4897ed972a842']"
      ]
     },
     "execution_count": 74,
     "metadata": {},
     "output_type": "execute_result"
    }
   ],
   "source": [
    "experiment_name=\"bias_detection_09-04_15-00\"\n",
    "runs = mlflow.search_runs(experiment_names=[experiment_name])\n",
    "run_ids = list(runs.run_id)\n",
    "run_ids"
   ]
  },
  {
   "cell_type": "code",
   "execution_count": 75,
   "metadata": {},
   "outputs": [
    {
     "data": {
      "text/html": [
       "<div>\n",
       "<style scoped>\n",
       "    .dataframe tbody tr th:only-of-type {\n",
       "        vertical-align: middle;\n",
       "    }\n",
       "\n",
       "    .dataframe tbody tr th {\n",
       "        vertical-align: top;\n",
       "    }\n",
       "\n",
       "    .dataframe thead th {\n",
       "        text-align: right;\n",
       "    }\n",
       "</style>\n",
       "<table border=\"1\" class=\"dataframe\">\n",
       "  <thead>\n",
       "    <tr style=\"text-align: right;\">\n",
       "      <th></th>\n",
       "      <th>step</th>\n",
       "      <th>rmsre</th>\n",
       "      <th>user.baseline</th>\n",
       "      <th>user.bias_detection_knob</th>\n",
       "    </tr>\n",
       "  </thead>\n",
       "  <tbody>\n",
       "    <tr>\n",
       "      <th>0</th>\n",
       "      <td>0</td>\n",
       "      <td>0.015920</td>\n",
       "      <td>cookiemonster_base</td>\n",
       "      <td>0</td>\n",
       "    </tr>\n",
       "    <tr>\n",
       "      <th>1</th>\n",
       "      <td>1</td>\n",
       "      <td>0.015903</td>\n",
       "      <td>cookiemonster_base</td>\n",
       "      <td>0</td>\n",
       "    </tr>\n",
       "    <tr>\n",
       "      <th>2</th>\n",
       "      <td>2</td>\n",
       "      <td>0.015838</td>\n",
       "      <td>cookiemonster_base</td>\n",
       "      <td>0</td>\n",
       "    </tr>\n",
       "    <tr>\n",
       "      <th>3</th>\n",
       "      <td>3</td>\n",
       "      <td>0.015887</td>\n",
       "      <td>cookiemonster_base</td>\n",
       "      <td>0</td>\n",
       "    </tr>\n",
       "    <tr>\n",
       "      <th>4</th>\n",
       "      <td>4</td>\n",
       "      <td>0.015895</td>\n",
       "      <td>cookiemonster_base</td>\n",
       "      <td>0</td>\n",
       "    </tr>\n",
       "    <tr>\n",
       "      <th>...</th>\n",
       "      <td>...</td>\n",
       "      <td>...</td>\n",
       "      <td>...</td>\n",
       "      <td>...</td>\n",
       "    </tr>\n",
       "    <tr>\n",
       "      <th>3001</th>\n",
       "      <td>496</td>\n",
       "      <td>0.158955</td>\n",
       "      <td>cookiemonster</td>\n",
       "      <td>0.5</td>\n",
       "    </tr>\n",
       "    <tr>\n",
       "      <th>3002</th>\n",
       "      <td>497</td>\n",
       "      <td>0.161519</td>\n",
       "      <td>cookiemonster</td>\n",
       "      <td>0.5</td>\n",
       "    </tr>\n",
       "    <tr>\n",
       "      <th>3003</th>\n",
       "      <td>498</td>\n",
       "      <td>0.158830</td>\n",
       "      <td>cookiemonster</td>\n",
       "      <td>0.5</td>\n",
       "    </tr>\n",
       "    <tr>\n",
       "      <th>3004</th>\n",
       "      <td>499</td>\n",
       "      <td>0.174944</td>\n",
       "      <td>cookiemonster</td>\n",
       "      <td>0.5</td>\n",
       "    </tr>\n",
       "    <tr>\n",
       "      <th>3005</th>\n",
       "      <td>500</td>\n",
       "      <td>0.167672</td>\n",
       "      <td>cookiemonster</td>\n",
       "      <td>0.5</td>\n",
       "    </tr>\n",
       "  </tbody>\n",
       "</table>\n",
       "<p>3006 rows × 4 columns</p>\n",
       "</div>"
      ],
      "text/plain": [
       "      step     rmsre       user.baseline user.bias_detection_knob\n",
       "0        0  0.015920  cookiemonster_base                        0\n",
       "1        1  0.015903  cookiemonster_base                        0\n",
       "2        2  0.015838  cookiemonster_base                        0\n",
       "3        3  0.015887  cookiemonster_base                        0\n",
       "4        4  0.015895  cookiemonster_base                        0\n",
       "...    ...       ...                 ...                      ...\n",
       "3001   496  0.158955       cookiemonster                      0.5\n",
       "3002   497  0.161519       cookiemonster                      0.5\n",
       "3003   498  0.158830       cookiemonster                      0.5\n",
       "3004   499  0.174944       cookiemonster                      0.5\n",
       "3005   500  0.167672       cookiemonster                      0.5\n",
       "\n",
       "[3006 rows x 4 columns]"
      ]
     },
     "execution_count": 75,
     "metadata": {},
     "output_type": "execute_result"
    }
   ],
   "source": [
    "data = []\n",
    "metric_names = [\"rmsre\"]\n",
    "param_names = [\"user.baseline\", \"user.bias_detection_knob\"]\n",
    "\n",
    "for run_id in run_ids:\n",
    "    \n",
    "    run_params = client.get_run(run_id).data.params\n",
    "    \n",
    "    metric_histories = {}\n",
    "    for metric_name in metric_names:\n",
    "        metric_histories[metric_name] = client.get_metric_history(run_id, metric_name)\n",
    "    \n",
    "    for step in range(len(metric_histories[metric_names[0]])):\n",
    "        step_data = {\n",
    "            \"step\": step,\n",
    "        }\n",
    "        for metric_name in metric_names:\n",
    "            step_data[metric_name] = metric_histories[metric_name][step].value        \n",
    "    \n",
    "        for param_name in param_names:\n",
    "            step_data[param_name] = run_params[param_name]\n",
    "    \n",
    "        data.append(step_data)\n",
    "\n",
    "df = pd.DataFrame(data)\n",
    "df"
   ]
  },
  {
   "cell_type": "code",
   "execution_count": 76,
   "metadata": {},
   "outputs": [],
   "source": [
    "# df[\"baseline\"] = df[\"user.baseline\"]\n",
    "# df[\"bias_detection_knob\"] = df[\"user.bias_detection_knob\"]\n",
    "\n",
    "def get_baseline_name(row):\n",
    "    if row[\"user.bias_detection_knob\"] == \"0\":\n",
    "        return row[\"user.baseline\"]\n",
    "    return row[\"user.baseline\"] + \"_bias\" + row[\"user.bias_detection_knob\"]\n",
    "\n",
    "df[\"baseline\"] = df.apply(get_baseline_name, axis=1)\n",
    "\n"
   ]
  },
  {
   "cell_type": "code",
   "execution_count": 77,
   "metadata": {},
   "outputs": [
    {
     "data": {
      "text/plain": [
       "array(['cookiemonster_base', 'cookiemonster', 'ipa',\n",
       "       'cookiemonster_bias0.1', 'cookiemonster_bias1',\n",
       "       'cookiemonster_bias0.5'], dtype=object)"
      ]
     },
     "execution_count": 77,
     "metadata": {},
     "output_type": "execute_result"
    }
   ],
   "source": [
    "df.baseline.unique()"
   ]
  },
  {
   "cell_type": "code",
   "execution_count": 78,
   "metadata": {},
   "outputs": [],
   "source": [
    "from plotting.macros import *\n",
    "from plotting.plot_template import *\n"
   ]
  },
  {
   "cell_type": "code",
   "execution_count": 79,
   "metadata": {},
   "outputs": [],
   "source": [
    "cdf_args = {\n",
    "        \"df\": df,\n",
    "        \"metric\": \"rmsre\",\n",
    "        \"x_axis\": None,\n",
    "        \"x_axis_title\": RMSRE_CDF_X,\n",
    "        \"y_axis_title\": RMSRE_Y,\n",
    "        \"ordering\": None,\n",
    "        \"log_y\": False,\n",
    "        \"x_range\": [1, 100],\n",
    "        \"showlegend\": False,\n",
    "        \"marker_pos\": 0.98,\n",
    "    }"
   ]
  },
  {
   "cell_type": "code",
   "execution_count": 80,
   "metadata": {},
   "outputs": [],
   "source": [
    "figs_args = {\n",
    "    \"axis_title_font_size\": {\"x\": 18, \"y\": 18},\n",
    "    \"axis_tick_font_size\": {\"x\": 14, \"y\": 14},\n",
    "    \"legend\": {\n",
    "        \"yanchor\": \"top\",\n",
    "        \"y\": 1.2,\n",
    "        \"xanchor\": \"left\",\n",
    "        \"x\": 0.2,\n",
    "        \"orientation\": \"h\",\n",
    "    },\n",
    "    \"output_path\": f\"cdf_rmsre_{experiment_name}.png\",\n",
    "    \"height\": 300,\n",
    "    \"width\": 1500,\n",
    "}\n",
    "make_plots([(cdf, cdf_args)], cols=1, **figs_args)\n"
   ]
  },
  {
   "cell_type": "code",
   "execution_count": 81,
   "metadata": {},
   "outputs": [],
   "source": [
    "# TODO: plot this."
   ]
  },
  {
   "cell_type": "markdown",
   "metadata": {},
   "source": []
  }
 ],
 "metadata": {
  "kernelspec": {
   "display_name": "cookiemonster-6SEke24S-py3.11",
   "language": "python",
   "name": "python3"
  },
  "language_info": {
   "codemirror_mode": {
    "name": "ipython",
    "version": 3
   },
   "file_extension": ".py",
   "mimetype": "text/x-python",
   "name": "python",
   "nbconvert_exporter": "python",
   "pygments_lexer": "ipython3",
   "version": "3.11.9"
  }
 },
 "nbformat": 4,
 "nbformat_minor": 2
}
