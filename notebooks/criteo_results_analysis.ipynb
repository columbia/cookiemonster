{
 "cells": [
  {
   "cell_type": "code",
   "execution_count": 1,
   "metadata": {},
   "outputs": [],
   "source": [
    "%load_ext autoreload\n",
    "%autoreload 2"
   ]
  },
  {
   "cell_type": "code",
   "execution_count": 2,
   "metadata": {},
   "outputs": [
    {
     "data": {
      "text/html": [
       "        <script type=\"text/javascript\">\n",
       "        window.PlotlyConfig = {MathJaxConfig: 'local'};\n",
       "        if (window.MathJax && window.MathJax.Hub && window.MathJax.Hub.Config) {window.MathJax.Hub.Config({SVG: {font: \"STIX-Web\"}});}\n",
       "        if (typeof require !== 'undefined') {\n",
       "        require.undef(\"plotly\");\n",
       "        requirejs.config({\n",
       "            paths: {\n",
       "                'plotly': ['https://cdn.plot.ly/plotly-2.30.0.min']\n",
       "            }\n",
       "        });\n",
       "        require(['plotly'], function(Plotly) {\n",
       "            window._Plotly = Plotly;\n",
       "        });\n",
       "        }\n",
       "        </script>\n",
       "        "
      ]
     },
     "metadata": {},
     "output_type": "display_data"
    }
   ],
   "source": [
    "import pandas as pd\n",
    "import plotly.io as pio\n",
    "pio.renderers.default = \"notebook\"\n",
    "import plotly.offline as pyo\n",
    "import plotly.express as px\n",
    "pyo.init_notebook_mode(connected=True)\n",
    "import utils as u"
   ]
  },
  {
   "cell_type": "code",
   "execution_count": 3,
   "metadata": {},
   "outputs": [
    {
     "data": {
      "text/plain": [
       "'\\nPlain old dataset:\\n- BOX RMSRE (varying epoch sizes)\\n- CDF BUDGET (epoch_size=7)\\n- AVG BUDGET for 3 advs (epoc_size 7)\\n\\nEnhanced with impressions:\\n- BOX RMSRE (varying epoch sizes)\\n- CDF BUDGET (epoch_size=7)\\n- AVG BUDGET for 3 advs (epoc_size 7)\\n'"
      ]
     },
     "execution_count": 3,
     "metadata": {},
     "output_type": "execute_result"
    }
   ],
   "source": [
    "\"\"\"\n",
    "Plain old dataset:\n",
    "- BOX RMSRE (varying epoch sizes)\n",
    "- CDF BUDGET (epoch_size=7)\n",
    "- AVG BUDGET for 3 advs (epoc_size 7)\n",
    "\n",
    "Enhanced with impressions:\n",
    "- BOX RMSRE (varying epoch sizes)\n",
    "- CDF BUDGET (epoch_size=7)\n",
    "- AVG BUDGET for 3 advs (epoc_size 7)\n",
    "\"\"\""
   ]
  },
  {
   "cell_type": "code",
   "execution_count": 4,
   "metadata": {},
   "outputs": [
    {
     "data": {
      "text/plain": [
       "'\\nThese destinations are selected based on their query pool sizes, and how representative\\nthey are of the query pool distributions (min 1 query, mean 8.24 queries, max 93 queries)\\n\\n9FF550C0B17A3C493378CB6E2DEEE6E4 has the largest query pool (93),\\n482E924BCFAA8562F60BF0BE53786C24 has a query pool close to the mean (8),\\n9D883ED995259EA3E715122397FE0EF9 has query pool of size 2\\n'"
      ]
     },
     "execution_count": 4,
     "metadata": {},
     "output_type": "execute_result"
    }
   ],
   "source": [
    "\"\"\"\n",
    "These destinations are selected based on their query pool sizes, and how representative\n",
    "they are of the query pool distributions (min 1 query, mean 8.24 queries, max 93 queries)\n",
    "\n",
    "9FF550C0B17A3C493378CB6E2DEEE6E4 has the largest query pool (93),\n",
    "482E924BCFAA8562F60BF0BE53786C24 has a query pool close to the mean (8),\n",
    "9D883ED995259EA3E715122397FE0EF9 has query pool of size 2\n",
    "\"\"\"\n",
    "# selected_destinations = [\"9FF55\", \"482E9\", \"9D883\"]"
   ]
  },
  {
   "cell_type": "code",
   "execution_count": 5,
   "metadata": {},
   "outputs": [],
   "source": [
    "\n",
    "# def extra_df_prep(df: pd.DataFrame) -> pd.DataFrame:\n",
    "#     df = df.assign(\n",
    "#         destination=df.apply(\n",
    "#             lambda row: row.destination[0:5],\n",
    "#             axis=1,\n",
    "#         )\n",
    "#     )\n",
    "#     global selected_destinations\n",
    "#     return df[df.destination.isin(selected_destinations)]\n"
   ]
  },
  {
   "cell_type": "code",
   "execution_count": 6,
   "metadata": {},
   "outputs": [],
   "source": [
    "# unaugmented path\n",
    "# path = \"ray/criteo/bias_varying_epoch_size\""
   ]
  },
  {
   "cell_type": "code",
   "execution_count": 7,
   "metadata": {},
   "outputs": [],
   "source": [
    "# u.plot_rmsre_boxes(path, log_y=True, category_orders={\"num_days_per_epoch\": [1, 7, 14, 21, 30, 60, 90]})"
   ]
  },
  {
   "cell_type": "code",
   "execution_count": 8,
   "metadata": {},
   "outputs": [],
   "source": [
    "# u.plot_budget_consumption_cdf(path, epoch_size=7)"
   ]
  },
  {
   "cell_type": "code",
   "execution_count": 9,
   "metadata": {},
   "outputs": [],
   "source": [
    "\n",
    "# u.plot_budget_consumption_lines(\n",
    "#     path,\n",
    "#     epoch_size=7,\n",
    "#     by_destination=True,\n",
    "#     extra_df_prep=extra_df_prep\n",
    "# )"
   ]
  },
  {
   "cell_type": "code",
   "execution_count": 10,
   "metadata": {},
   "outputs": [],
   "source": [
    "# u.save_data(path)"
   ]
  },
  {
   "cell_type": "code",
   "execution_count": 11,
   "metadata": {},
   "outputs": [],
   "source": [
    "# augmented impressions path\n",
    "# path = \"ray/criteo/augmented_bias_varying_epoch_size\""
   ]
  },
  {
   "cell_type": "code",
   "execution_count": 12,
   "metadata": {},
   "outputs": [],
   "source": [
    "# u.plot_rmsre_boxes(path, log_y=True, category_orders={\"num_days_per_epoch\": [1, 7, 14, 21, 30, 60, 90]})"
   ]
  },
  {
   "cell_type": "code",
   "execution_count": 13,
   "metadata": {},
   "outputs": [],
   "source": [
    "# u.plot_budget_consumption_cdf(path, epoch_size=7)"
   ]
  },
  {
   "cell_type": "code",
   "execution_count": 14,
   "metadata": {},
   "outputs": [],
   "source": [
    "\n",
    "# u.plot_budget_consumption_lines(\n",
    "#     path,\n",
    "#     epoch_size=7,\n",
    "#     by_destination=True,\n",
    "#     extra_df_prep=extra_df_prep\n",
    "# )"
   ]
  },
  {
   "cell_type": "code",
   "execution_count": 18,
   "metadata": {},
   "outputs": [],
   "source": [
    "# augmented convesrions path\n",
    "path = \"ray/criteo/augmented_conversions_bias_varying_epoch_size/run_and_report_2024-04-30_15-24-35\""
   ]
  },
  {
   "cell_type": "code",
   "execution_count": 16,
   "metadata": {},
   "outputs": [],
   "source": [
    "# u.plot_budget_consumption_cdf(path, epoch_size=7)"
   ]
  },
  {
   "cell_type": "code",
   "execution_count": 19,
   "metadata": {},
   "outputs": [],
   "source": [
    "u.save_data(path)"
   ]
  },
  {
   "cell_type": "code",
   "execution_count": 29,
   "metadata": {},
   "outputs": [
    {
     "name": "stderr",
     "output_type": "stream",
     "text": [
      "C:\\Users\\petem\\AppData\\Local\\Temp\\ipykernel_8636\\293685438.py:1: DtypeWarning:\n",
      "\n",
      "Columns (11) have mixed types. Specify dtype option on import or set low_memory=False.\n",
      "\n"
     ]
    },
    {
     "name": "stdout",
     "output_type": "stream",
     "text": [
      "1.07556% of users convert more than once\n"
     ]
    }
   ],
   "source": [
    "original_conversions = pd.read_csv(\"../data/criteo/criteo_query_pool_conversions.csv\")\n",
    "original_conversions = original_conversions.groupby([\"partner_id\", \"user_id\", \"product_category3\"])[\"count\"].count()\n",
    "multi_convert_percentage = original_conversions[original_conversions > 1].shape[0] / original_conversions.shape[0] * 100\n",
    "print(f\"{multi_convert_percentage:.5f}% of users convert more than once\")"
   ]
  },
  {
   "cell_type": "code",
   "execution_count": 30,
   "metadata": {},
   "outputs": [
    {
     "name": "stdout",
     "output_type": "stream",
     "text": [
      "11.64880% of users convert more than once\n"
     ]
    }
   ],
   "source": [
    "augmented_conversions_10 = pd.read_csv(\"../data/criteo/criteo_query_pool_augmented_conversions_10.csv\")\n",
    "augmented_conversions_10 = augmented_conversions_10.groupby([\"partner_id\", \"user_id\", \"product_category3\"])[\"count\"].count()\n",
    "multi_convert_percentage = augmented_conversions_10[augmented_conversions_10 > 1].shape[0] / augmented_conversions_10.shape[0] * 100\n",
    "print(f\"{multi_convert_percentage:.5f}% of users convert more than once\")"
   ]
  },
  {
   "cell_type": "code",
   "execution_count": 32,
   "metadata": {},
   "outputs": [
    {
     "name": "stdout",
     "output_type": "stream",
     "text": [
      "31.97529% of users convert more than once\n"
     ]
    }
   ],
   "source": [
    "augmented_conversions_30 = pd.read_csv(\"../data/criteo/criteo_query_pool_augmented_conversions_30.csv\")\n",
    "augmented_conversions_30 = augmented_conversions_30.groupby([\"partner_id\", \"user_id\", \"product_category3\"])[\"count\"].count()\n",
    "multi_convert_percentage = augmented_conversions_30[augmented_conversions_30 > 1].shape[0] / augmented_conversions_30.shape[0] * 100\n",
    "print(f\"{multi_convert_percentage:.5f}% of users convert more than once\")"
   ]
  },
  {
   "cell_type": "code",
   "execution_count": 34,
   "metadata": {},
   "outputs": [
    {
     "name": "stdout",
     "output_type": "stream",
     "text": [
      "48.80594% of users convert more than once\n"
     ]
    }
   ],
   "source": [
    "augmented_conversions_50 = pd.read_csv(\"../data/criteo/criteo_query_pool_augmented_conversions.csv\")\n",
    "augmented_conversions_50 = augmented_conversions_50.groupby([\"partner_id\", \"user_id\", \"product_category3\"])[\"count\"].count()\n",
    "multi_convert_percentage = augmented_conversions_50[augmented_conversions_50 > 1].shape[0] / augmented_conversions_50.shape[0] * 100\n",
    "print(f\"{multi_convert_percentage:.5f}% of users convert more than once\")"
   ]
  }
 ],
 "metadata": {
  "kernelspec": {
   "display_name": "Python 3 (ipykernel)",
   "language": "python",
   "name": "python3"
  },
  "language_info": {
   "codemirror_mode": {
    "name": "ipython",
    "version": 3
   },
   "file_extension": ".py",
   "mimetype": "text/x-python",
   "name": "python",
   "nbconvert_exporter": "python",
   "pygments_lexer": "ipython3",
   "version": "3.10.11"
  }
 },
 "nbformat": 4,
 "nbformat_minor": 4
}
