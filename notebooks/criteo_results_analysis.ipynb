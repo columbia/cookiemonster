{
 "cells": [
  {
   "cell_type": "code",
   "execution_count": 14,
   "metadata": {},
   "outputs": [
    {
     "name": "stdout",
     "output_type": "stream",
     "text": [
      "The autoreload extension is already loaded. To reload it, use:\n",
      "  %reload_ext autoreload\n"
     ]
    }
   ],
   "source": [
    "%load_ext autoreload\n",
    "%autoreload 2"
   ]
  },
  {
   "cell_type": "code",
   "execution_count": 15,
   "metadata": {},
   "outputs": [
    {
     "data": {
      "text/html": [
       "        <script type=\"text/javascript\">\n",
       "        window.PlotlyConfig = {MathJaxConfig: 'local'};\n",
       "        if (window.MathJax && window.MathJax.Hub && window.MathJax.Hub.Config) {window.MathJax.Hub.Config({SVG: {font: \"STIX-Web\"}});}\n",
       "        if (typeof require !== 'undefined') {\n",
       "        require.undef(\"plotly\");\n",
       "        requirejs.config({\n",
       "            paths: {\n",
       "                'plotly': ['https://cdn.plot.ly/plotly-2.30.0.min']\n",
       "            }\n",
       "        });\n",
       "        require(['plotly'], function(Plotly) {\n",
       "            window._Plotly = Plotly;\n",
       "        });\n",
       "        }\n",
       "        </script>\n",
       "        "
      ]
     },
     "metadata": {},
     "output_type": "display_data"
    }
   ],
   "source": [
    "import pandas as pd\n",
    "import plotly.io as pio\n",
    "pio.renderers.default = \"notebook\"\n",
    "import plotly.offline as pyo\n",
    "import plotly.express as px\n",
    "pyo.init_notebook_mode(connected=True)\n",
    "import utils as u"
   ]
  },
  {
   "cell_type": "code",
   "execution_count": 16,
   "metadata": {},
   "outputs": [
    {
     "data": {
      "text/plain": [
       "'\\nPlain old dataset:\\n- BOX RMSRE (varying epoch sizes)\\n- CDF BUDGET (epoch_size=7)\\n- AVG BUDGET for 3 advs (epoc_size 7)\\n\\nEnhanced with impressions:\\n- BOX RMSRE (varying epoch sizes)\\n- CDF BUDGET (epoch_size=7)\\n- AVG BUDGET for 3 advs (epoc_size 7)\\n'"
      ]
     },
     "execution_count": 16,
     "metadata": {},
     "output_type": "execute_result"
    }
   ],
   "source": [
    "\"\"\"\n",
    "Plain old dataset:\n",
    "- BOX RMSRE (varying epoch sizes)\n",
    "- CDF BUDGET (epoch_size=7)\n",
    "- AVG BUDGET for 3 advs (epoc_size 7)\n",
    "\n",
    "Enhanced with impressions:\n",
    "- BOX RMSRE (varying epoch sizes)\n",
    "- CDF BUDGET (epoch_size=7)\n",
    "- AVG BUDGET for 3 advs (epoc_size 7)\n",
    "\"\"\""
   ]
  },
  {
   "cell_type": "code",
   "execution_count": 17,
   "metadata": {},
   "outputs": [],
   "source": [
    "\"\"\"\n",
    "These destinations are selected based on their query pool sizes, and how representative\n",
    "they are of the query pool distributions (min 1 query, mean 8.24 queries, max 93 queries)\n",
    "\n",
    "9FF550C0B17A3C493378CB6E2DEEE6E4 has the largest query pool (93),\n",
    "482E924BCFAA8562F60BF0BE53786C24 has a query pool close to the mean (8),\n",
    "9D883ED995259EA3E715122397FE0EF9 has query pool of size 2\n",
    "\"\"\"\n",
    "selected_destinations = [\"9FF55\", \"482E9\", \"9D883\"]"
   ]
  },
  {
   "cell_type": "code",
   "execution_count": 18,
   "metadata": {},
   "outputs": [],
   "source": [
    "\n",
    "def extra_df_prep(df: pd.DataFrame) -> pd.DataFrame:\n",
    "    df = df.assign(\n",
    "        destination=df.apply(\n",
    "            lambda row: row.destination[0:5],\n",
    "            axis=1,\n",
    "        )\n",
    "    )\n",
    "    destinations_to_show = 3\n",
    "    global selected_destinations\n",
    "    if selected_destinations is None:\n",
    "        selected_destinations = df.destination.sample(frac=1).unique()[:destinations_to_show]\n",
    "    return df[df.destination.isin(selected_destinations)]\n"
   ]
  },
  {
   "cell_type": "code",
   "execution_count": 19,
   "metadata": {},
   "outputs": [],
   "source": [
    "# unaugmented path\n",
    "path = \"ray/criteo/one_tenth_augment/bias_varying_epoch_size\""
   ]
  },
  {
   "cell_type": "code",
   "execution_count": 20,
   "metadata": {},
   "outputs": [],
   "source": [
    "# u.plot_rmsre_boxes(path, log_y=True, category_orders={\"num_days_per_epoch\": [1, 7, 14, 21, 30, 60, 90]})"
   ]
  },
  {
   "cell_type": "code",
   "execution_count": 21,
   "metadata": {},
   "outputs": [],
   "source": [
    "# u.plot_budget_consumption_cdf(path, epoch_size=7)"
   ]
  },
  {
   "cell_type": "code",
   "execution_count": 22,
   "metadata": {},
   "outputs": [
    {
     "data": {
      "application/vnd.plotly.v1+json": {
       "config": {
        "linkText": "Export to plot.ly",
        "plotlyServerURL": "https://plot.ly",
        "showLink": false
       },
       "data": [
        {
         "hovertemplate": "baseline=ipa<br>destination=9FF55<br>index=%{x}<br>max_max=%{y}<extra></extra>",
         "legendgroup": "ipa",
         "line": {
          "color": "#636efa",
          "dash": "solid"
         },
         "marker": {
          "symbol": "circle"
         },
         "mode": "lines+markers",
         "name": "ipa",
         "orientation": "v",
         "showlegend": true,
         "type": "scatter",
         "x": [
          10,
          25,
          41,
          58,
          82,
          102,
          122,
          126,
          137,
          144,
          146,
          147,
          159,
          171,
          174,
          184,
          196,
          224,
          231,
          239,
          243,
          246,
          257,
          258,
          269,
          283,
          286,
          292,
          308,
          319,
          325,
          334,
          335,
          345,
          362,
          366,
          369,
          370,
          398,
          400,
          411,
          430,
          442,
          448,
          462,
          467,
          472,
          473,
          482,
          489,
          494,
          511,
          513,
          518,
          527,
          540,
          557,
          558,
          565,
          568,
          591,
          601,
          604,
          607,
          611,
          617,
          626,
          636,
          644,
          654,
          656,
          665,
          680,
          688,
          693,
          694,
          715,
          717,
          726,
          727,
          728,
          736,
          759,
          760,
          761,
          762,
          763,
          764,
          765,
          766,
          767,
          768,
          769
         ],
         "xaxis": "x",
         "y": [
          0.7309793946012845,
          0.7309793946012845,
          0.7309793946012845,
          0.7309793946012845,
          0.7309793946012845,
          0.7309793946012845,
          0.7309793946012845,
          0.7309793946012845,
          0.7309793946012845,
          0.7309793946012845,
          0.7309793946012845,
          0.7309793946012845,
          0.7309793946012845,
          0.7309793946012845,
          0.7309793946012845,
          0.7309793946012845,
          0.7309793946012845,
          0.7309793946012845,
          0.7309793946012845,
          0.7309793946012845,
          0.7309793946012845,
          0.7309793946012845,
          0.7309793946012845,
          0.7309793946012845,
          0.7309793946012845,
          0.7309793946012845,
          0.7309793946012845,
          0.7309793946012845,
          0.7309793946012845,
          0.7309793946012845,
          0.7309793946012845,
          0.7309793946012845,
          0.7309793946012845,
          0.7309793946012845,
          0.7309793946012845,
          0.7309793946012845,
          0.7309793946012845,
          0.7309793946012845,
          0.7309793946012845,
          0.7309793946012845,
          0.7309793946012845,
          0.7309793946012845,
          0.7309793946012845,
          0.7309793946012845,
          0.7309793946012845,
          0.7309793946012845,
          0.7309793946012845,
          0.7309793946012845,
          0.7309793946012845,
          0.7309793946012845,
          0.7309793946012845,
          0.7309793946012845,
          0.7309793946012845,
          0.7309793946012845,
          0.7309793946012845,
          0.7309793946012845,
          0.7309793946012845,
          0.7309793946012845,
          0.7309793946012845,
          0.7309793946012845,
          0.7309793946012845,
          0.7309793946012845,
          0.7309793946012845,
          0.7309793946012845,
          0.7309793946012845,
          0.7309793946012845,
          0.7309793946012845,
          0.7309793946012845,
          0.7309793946012845,
          0.7309793946012845,
          0.7309793946012845,
          0.7309793946012845,
          0.7309793946012845,
          0.7309793946012845,
          0.7309793946012845,
          0.7309793946012845,
          0.7309793946012845,
          0.7309793946012845,
          0.7309793946012845,
          0.7309793946012845,
          0.7309793946012845,
          0.7309793946012845,
          0.7309793946012845,
          0.7309793946012845,
          0.7309793946012845,
          0.7309793946012845,
          0.7309793946012845,
          0.7309793946012845,
          0.7309793946012845,
          0.7309793946012845,
          0.7309793946012845,
          0.7309793946012845,
          0.7309793946012845
         ],
         "yaxis": "y"
        },
        {
         "hovertemplate": "baseline=ipa<br>destination=482E9<br>index=%{x}<br>max_max=%{y}<extra></extra>",
         "legendgroup": "ipa",
         "line": {
          "color": "#636efa",
          "dash": "solid"
         },
         "marker": {
          "symbol": "circle"
         },
         "mode": "lines+markers",
         "name": "ipa",
         "orientation": "v",
         "showlegend": false,
         "type": "scatter",
         "x": [
          109,
          160,
          235,
          299,
          396,
          483,
          566,
          663
         ],
         "xaxis": "x2",
         "y": [
          0.7309793946012845,
          0.7309793946012845,
          0.7309793946012845,
          0.7309793946012845,
          0.7309793946012845,
          0.7309793946012845,
          0.7309793946012845,
          0.7309793946012845
         ],
         "yaxis": "y2"
        },
        {
         "hovertemplate": "baseline=ipa<br>destination=9D883<br>index=%{x}<br>max_max=%{y}<extra></extra>",
         "legendgroup": "ipa",
         "line": {
          "color": "#636efa",
          "dash": "solid"
         },
         "marker": {
          "symbol": "circle"
         },
         "mode": "lines+markers",
         "name": "ipa",
         "orientation": "v",
         "showlegend": false,
         "type": "scatter",
         "x": [
          195,
          590
         ],
         "xaxis": "x3",
         "y": [
          0.7309793946012845,
          0.7309793946012845
         ],
         "yaxis": "y3"
        },
        {
         "hovertemplate": "baseline=cookiemonster_base<br>destination=9FF55<br>index=%{x}<br>max_max=%{y}<extra></extra>",
         "legendgroup": "cookiemonster_base",
         "line": {
          "color": "#EF553B",
          "dash": "solid"
         },
         "marker": {
          "symbol": "circle"
         },
         "mode": "lines+markers",
         "name": "cookiemonster_base",
         "orientation": "v",
         "showlegend": true,
         "type": "scatter",
         "x": [
          10,
          25,
          41,
          58,
          82,
          102,
          122,
          126,
          137,
          144,
          146,
          147,
          159,
          171,
          174,
          184,
          196,
          224,
          231,
          239,
          243,
          246,
          257,
          258,
          269,
          283,
          286,
          292,
          308,
          319,
          325,
          334,
          335,
          345,
          362,
          366,
          369,
          370,
          398,
          400,
          411,
          430,
          442,
          448,
          462,
          467,
          472,
          473,
          482,
          489,
          494,
          511,
          513,
          518,
          527,
          540,
          557,
          558,
          565,
          568,
          591,
          601,
          604,
          607,
          611,
          617,
          626,
          636,
          644,
          654,
          656,
          665,
          680,
          688,
          693,
          694,
          715,
          717,
          726,
          727,
          728,
          736,
          759,
          760,
          761,
          762,
          763,
          764,
          765,
          766,
          767,
          768,
          769
         ],
         "xaxis": "x",
         "y": [
          0.9967900835472062,
          0.9967900835472062,
          0.9967900835472062,
          0.9967900835472062,
          0.9967900835472062,
          0.9967900835472062,
          0.9967900835472062,
          0.9967900835472062,
          0.9967900835472062,
          0.9967900835472062,
          0.9967900835472062,
          0.9967900835472062,
          0.9967900835472062,
          0.9967900835472062,
          0.9967900835472062,
          0.9967900835472062,
          0.9967900835472062,
          0.9967900835472062,
          0.9967900835472062,
          0.9967900835472062,
          0.9967900835472062,
          0.9967900835472062,
          0.9967900835472062,
          0.9967900835472062,
          0.9967900835472062,
          0.9967900835472062,
          0.9967900835472062,
          0.9967900835472062,
          0.9967900835472062,
          0.9967900835472062,
          0.9967900835472062,
          0.9967900835472062,
          0.9967900835472062,
          0.9967900835472062,
          0.9967900835472062,
          0.9967900835472062,
          0.9967900835472062,
          0.9967900835472062,
          0.9967900835472062,
          0.9967900835472062,
          0.9967900835472062,
          0.9967900835472062,
          0.9967900835472062,
          0.9967900835472062,
          0.9967900835472062,
          0.9967900835472062,
          0.9967900835472062,
          0.9967900835472062,
          0.9967900835472062,
          0.9967900835472062,
          0.9967900835472062,
          0.9967900835472062,
          0.9967900835472062,
          0.9967900835472062,
          0.9967900835472062,
          0.9967900835472062,
          0.9967900835472062,
          0.9967900835472062,
          0.9967900835472062,
          0.9967900835472062,
          0.9967900835472062,
          0.9967900835472062,
          0.9967900835472062,
          0.9967900835472062,
          0.9967900835472062,
          0.9967900835472062,
          0.9967900835472062,
          0.9967900835472062,
          0.9967900835472062,
          0.9967900835472062,
          0.9967900835472062,
          0.9967900835472062,
          0.9967900835472062,
          0.9967900835472062,
          0.9967900835472062,
          0.9967900835472062,
          0.9967900835472062,
          0.9967900835472062,
          0.9967900835472062,
          0.9967900835472062,
          0.9967900835472062,
          0.9967900835472062,
          0.9967900835472062,
          0.9967900835472062,
          0.9967900835472062,
          0.9967900835472062,
          0.9967900835472062,
          0.9967900835472062,
          0.9967900835472062,
          0.9967900835472062,
          0.9967900835472062,
          0.9967900835472062,
          0.9967900835472062
         ],
         "yaxis": "y"
        },
        {
         "hovertemplate": "baseline=cookiemonster_base<br>destination=482E9<br>index=%{x}<br>max_max=%{y}<extra></extra>",
         "legendgroup": "cookiemonster_base",
         "line": {
          "color": "#EF553B",
          "dash": "solid"
         },
         "marker": {
          "symbol": "circle"
         },
         "mode": "lines+markers",
         "name": "cookiemonster_base",
         "orientation": "v",
         "showlegend": false,
         "type": "scatter",
         "x": [
          109,
          160,
          235,
          299,
          396,
          483,
          566,
          663
         ],
         "xaxis": "x2",
         "y": [
          0.7309793946012845,
          0.7309793946012845,
          0.7309793946012845,
          0.7309793946012845,
          0.7309793946012845,
          0.7309793946012845,
          0.7309793946012845,
          0.7309793946012845
         ],
         "yaxis": "y2"
        },
        {
         "hovertemplate": "baseline=cookiemonster_base<br>destination=9D883<br>index=%{x}<br>max_max=%{y}<extra></extra>",
         "legendgroup": "cookiemonster_base",
         "line": {
          "color": "#EF553B",
          "dash": "solid"
         },
         "marker": {
          "symbol": "circle"
         },
         "mode": "lines+markers",
         "name": "cookiemonster_base",
         "orientation": "v",
         "showlegend": false,
         "type": "scatter",
         "x": [
          195,
          590
         ],
         "xaxis": "x3",
         "y": [
          0.7309793946012845,
          0.7309793946012845
         ],
         "yaxis": "y3"
        },
        {
         "hovertemplate": "baseline=cookiemonster<br>destination=9FF55<br>index=%{x}<br>max_max=%{y}<extra></extra>",
         "legendgroup": "cookiemonster",
         "line": {
          "color": "#00cc96",
          "dash": "solid"
         },
         "marker": {
          "symbol": "circle"
         },
         "mode": "lines+markers",
         "name": "cookiemonster",
         "orientation": "v",
         "showlegend": true,
         "type": "scatter",
         "x": [
          10,
          25,
          41,
          58,
          82,
          102,
          122,
          126,
          137,
          144,
          146,
          147,
          159,
          171,
          174,
          184,
          196,
          224,
          231,
          239,
          243,
          246,
          257,
          258,
          269,
          283,
          286,
          292,
          308,
          319,
          325,
          334,
          335,
          345,
          362,
          366,
          369,
          370,
          398,
          400,
          411,
          430,
          442,
          448,
          462,
          467,
          472,
          473,
          482,
          489,
          494,
          511,
          513,
          518,
          527,
          540,
          557,
          558,
          565,
          568,
          591,
          601,
          604,
          607,
          611,
          617,
          626,
          636,
          644,
          654,
          656,
          665,
          680,
          688,
          693,
          694,
          715,
          717,
          726,
          727,
          728,
          736,
          759,
          760,
          761,
          762,
          763,
          764,
          765,
          766,
          767,
          768,
          769
         ],
         "xaxis": "x",
         "y": [
          0.9967900835472062,
          0.9967900835472062,
          0.9967900835472062,
          0.9967900835472062,
          0.9967900835472062,
          0.9967900835472062,
          0.9967900835472062,
          0.9967900835472062,
          0.9967900835472062,
          0.9967900835472062,
          0.9967900835472062,
          0.9967900835472062,
          0.9967900835472062,
          0.9967900835472062,
          0.9967900835472062,
          0.9967900835472062,
          0.9967900835472062,
          0.9967900835472062,
          0.9967900835472062,
          0.9967900835472062,
          0.9967900835472062,
          0.9967900835472062,
          0.9967900835472062,
          0.9967900835472062,
          0.9967900835472062,
          0.9967900835472062,
          0.9967900835472062,
          0.9967900835472062,
          0.9967900835472062,
          0.9967900835472062,
          0.9967900835472062,
          0.9967900835472062,
          0.9967900835472062,
          0.9967900835472062,
          0.9967900835472062,
          0.9967900835472062,
          0.9967900835472062,
          0.9967900835472062,
          0.9967900835472062,
          0.9967900835472062,
          0.9967900835472062,
          0.9967900835472062,
          0.9967900835472062,
          0.9967900835472062,
          0.9967900835472062,
          0.9967900835472062,
          0.9967900835472062,
          0.9967900835472062,
          0.9967900835472062,
          0.9967900835472062,
          0.9967900835472062,
          0.9967900835472062,
          0.9967900835472062,
          0.9967900835472062,
          0.9967900835472062,
          0.9967900835472062,
          0.9967900835472062,
          0.9967900835472062,
          0.9967900835472062,
          0.9967900835472062,
          0.9967900835472062,
          0.9967900835472062,
          0.9967900835472062,
          0.9967900835472062,
          0.9967900835472062,
          0.9967900835472062,
          0.9967900835472062,
          0.9967900835472062,
          0.9967900835472062,
          0.9967900835472062,
          0.9967900835472062,
          0.9967900835472062,
          0.9967900835472062,
          0.9967900835472062,
          0.9967900835472062,
          0.9967900835472062,
          0.9967900835472062,
          0.9967900835472062,
          0.9967900835472062,
          0.9967900835472062,
          0.9967900835472062,
          0.9967900835472062,
          0.9967900835472062,
          0.9967900835472062,
          0.9967900835472062,
          0.9967900835472062,
          0.9967900835472062,
          0.9967900835472062,
          0.9967900835472062,
          0.9967900835472062,
          0.9967900835472062,
          0.9967900835472062,
          0.9967900835472062
         ],
         "yaxis": "y"
        },
        {
         "hovertemplate": "baseline=cookiemonster<br>destination=482E9<br>index=%{x}<br>max_max=%{y}<extra></extra>",
         "legendgroup": "cookiemonster",
         "line": {
          "color": "#00cc96",
          "dash": "solid"
         },
         "marker": {
          "symbol": "circle"
         },
         "mode": "lines+markers",
         "name": "cookiemonster",
         "orientation": "v",
         "showlegend": false,
         "type": "scatter",
         "x": [
          109,
          160,
          235,
          299,
          396,
          483,
          566,
          663
         ],
         "xaxis": "x2",
         "y": [
          0.7309793946012845,
          0.7309793946012845,
          0.7309793946012845,
          0.7309793946012845,
          0.7309793946012845,
          0.7309793946012845,
          0.7309793946012845,
          0.7309793946012845
         ],
         "yaxis": "y2"
        },
        {
         "hovertemplate": "baseline=cookiemonster<br>destination=9D883<br>index=%{x}<br>max_max=%{y}<extra></extra>",
         "legendgroup": "cookiemonster",
         "line": {
          "color": "#00cc96",
          "dash": "solid"
         },
         "marker": {
          "symbol": "circle"
         },
         "mode": "lines+markers",
         "name": "cookiemonster",
         "orientation": "v",
         "showlegend": false,
         "type": "scatter",
         "x": [
          195,
          590
         ],
         "xaxis": "x3",
         "y": [
          0.7309793946012845,
          0.7309793946012845
         ],
         "yaxis": "y3"
        }
       ],
       "layout": {
        "annotations": [
         {
          "showarrow": false,
          "text": "destination=9FF55",
          "x": 0.15999999999999998,
          "xanchor": "center",
          "xref": "paper",
          "y": 1,
          "yanchor": "bottom",
          "yref": "paper"
         },
         {
          "showarrow": false,
          "text": "destination=482E9",
          "x": 0.49999999999999994,
          "xanchor": "center",
          "xref": "paper",
          "y": 1,
          "yanchor": "bottom",
          "yref": "paper"
         },
         {
          "showarrow": false,
          "text": "destination=9D883",
          "x": 0.8399999999999999,
          "xanchor": "center",
          "xref": "paper",
          "y": 1,
          "yanchor": "bottom",
          "yref": "paper"
         }
        ],
        "height": 1000,
        "legend": {
         "title": {
          "text": "baseline"
         },
         "tracegroupgap": 0
        },
        "template": {
         "data": {
          "bar": [
           {
            "error_x": {
             "color": "#2a3f5f"
            },
            "error_y": {
             "color": "#2a3f5f"
            },
            "marker": {
             "line": {
              "color": "#E5ECF6",
              "width": 0.5
             },
             "pattern": {
              "fillmode": "overlay",
              "size": 10,
              "solidity": 0.2
             }
            },
            "type": "bar"
           }
          ],
          "barpolar": [
           {
            "marker": {
             "line": {
              "color": "#E5ECF6",
              "width": 0.5
             },
             "pattern": {
              "fillmode": "overlay",
              "size": 10,
              "solidity": 0.2
             }
            },
            "type": "barpolar"
           }
          ],
          "carpet": [
           {
            "aaxis": {
             "endlinecolor": "#2a3f5f",
             "gridcolor": "white",
             "linecolor": "white",
             "minorgridcolor": "white",
             "startlinecolor": "#2a3f5f"
            },
            "baxis": {
             "endlinecolor": "#2a3f5f",
             "gridcolor": "white",
             "linecolor": "white",
             "minorgridcolor": "white",
             "startlinecolor": "#2a3f5f"
            },
            "type": "carpet"
           }
          ],
          "choropleth": [
           {
            "colorbar": {
             "outlinewidth": 0,
             "ticks": ""
            },
            "type": "choropleth"
           }
          ],
          "contour": [
           {
            "colorbar": {
             "outlinewidth": 0,
             "ticks": ""
            },
            "colorscale": [
             [
              0,
              "#0d0887"
             ],
             [
              0.1111111111111111,
              "#46039f"
             ],
             [
              0.2222222222222222,
              "#7201a8"
             ],
             [
              0.3333333333333333,
              "#9c179e"
             ],
             [
              0.4444444444444444,
              "#bd3786"
             ],
             [
              0.5555555555555556,
              "#d8576b"
             ],
             [
              0.6666666666666666,
              "#ed7953"
             ],
             [
              0.7777777777777778,
              "#fb9f3a"
             ],
             [
              0.8888888888888888,
              "#fdca26"
             ],
             [
              1,
              "#f0f921"
             ]
            ],
            "type": "contour"
           }
          ],
          "contourcarpet": [
           {
            "colorbar": {
             "outlinewidth": 0,
             "ticks": ""
            },
            "type": "contourcarpet"
           }
          ],
          "heatmap": [
           {
            "colorbar": {
             "outlinewidth": 0,
             "ticks": ""
            },
            "colorscale": [
             [
              0,
              "#0d0887"
             ],
             [
              0.1111111111111111,
              "#46039f"
             ],
             [
              0.2222222222222222,
              "#7201a8"
             ],
             [
              0.3333333333333333,
              "#9c179e"
             ],
             [
              0.4444444444444444,
              "#bd3786"
             ],
             [
              0.5555555555555556,
              "#d8576b"
             ],
             [
              0.6666666666666666,
              "#ed7953"
             ],
             [
              0.7777777777777778,
              "#fb9f3a"
             ],
             [
              0.8888888888888888,
              "#fdca26"
             ],
             [
              1,
              "#f0f921"
             ]
            ],
            "type": "heatmap"
           }
          ],
          "heatmapgl": [
           {
            "colorbar": {
             "outlinewidth": 0,
             "ticks": ""
            },
            "colorscale": [
             [
              0,
              "#0d0887"
             ],
             [
              0.1111111111111111,
              "#46039f"
             ],
             [
              0.2222222222222222,
              "#7201a8"
             ],
             [
              0.3333333333333333,
              "#9c179e"
             ],
             [
              0.4444444444444444,
              "#bd3786"
             ],
             [
              0.5555555555555556,
              "#d8576b"
             ],
             [
              0.6666666666666666,
              "#ed7953"
             ],
             [
              0.7777777777777778,
              "#fb9f3a"
             ],
             [
              0.8888888888888888,
              "#fdca26"
             ],
             [
              1,
              "#f0f921"
             ]
            ],
            "type": "heatmapgl"
           }
          ],
          "histogram": [
           {
            "marker": {
             "pattern": {
              "fillmode": "overlay",
              "size": 10,
              "solidity": 0.2
             }
            },
            "type": "histogram"
           }
          ],
          "histogram2d": [
           {
            "colorbar": {
             "outlinewidth": 0,
             "ticks": ""
            },
            "colorscale": [
             [
              0,
              "#0d0887"
             ],
             [
              0.1111111111111111,
              "#46039f"
             ],
             [
              0.2222222222222222,
              "#7201a8"
             ],
             [
              0.3333333333333333,
              "#9c179e"
             ],
             [
              0.4444444444444444,
              "#bd3786"
             ],
             [
              0.5555555555555556,
              "#d8576b"
             ],
             [
              0.6666666666666666,
              "#ed7953"
             ],
             [
              0.7777777777777778,
              "#fb9f3a"
             ],
             [
              0.8888888888888888,
              "#fdca26"
             ],
             [
              1,
              "#f0f921"
             ]
            ],
            "type": "histogram2d"
           }
          ],
          "histogram2dcontour": [
           {
            "colorbar": {
             "outlinewidth": 0,
             "ticks": ""
            },
            "colorscale": [
             [
              0,
              "#0d0887"
             ],
             [
              0.1111111111111111,
              "#46039f"
             ],
             [
              0.2222222222222222,
              "#7201a8"
             ],
             [
              0.3333333333333333,
              "#9c179e"
             ],
             [
              0.4444444444444444,
              "#bd3786"
             ],
             [
              0.5555555555555556,
              "#d8576b"
             ],
             [
              0.6666666666666666,
              "#ed7953"
             ],
             [
              0.7777777777777778,
              "#fb9f3a"
             ],
             [
              0.8888888888888888,
              "#fdca26"
             ],
             [
              1,
              "#f0f921"
             ]
            ],
            "type": "histogram2dcontour"
           }
          ],
          "mesh3d": [
           {
            "colorbar": {
             "outlinewidth": 0,
             "ticks": ""
            },
            "type": "mesh3d"
           }
          ],
          "parcoords": [
           {
            "line": {
             "colorbar": {
              "outlinewidth": 0,
              "ticks": ""
             }
            },
            "type": "parcoords"
           }
          ],
          "pie": [
           {
            "automargin": true,
            "type": "pie"
           }
          ],
          "scatter": [
           {
            "fillpattern": {
             "fillmode": "overlay",
             "size": 10,
             "solidity": 0.2
            },
            "type": "scatter"
           }
          ],
          "scatter3d": [
           {
            "line": {
             "colorbar": {
              "outlinewidth": 0,
              "ticks": ""
             }
            },
            "marker": {
             "colorbar": {
              "outlinewidth": 0,
              "ticks": ""
             }
            },
            "type": "scatter3d"
           }
          ],
          "scattercarpet": [
           {
            "marker": {
             "colorbar": {
              "outlinewidth": 0,
              "ticks": ""
             }
            },
            "type": "scattercarpet"
           }
          ],
          "scattergeo": [
           {
            "marker": {
             "colorbar": {
              "outlinewidth": 0,
              "ticks": ""
             }
            },
            "type": "scattergeo"
           }
          ],
          "scattergl": [
           {
            "marker": {
             "colorbar": {
              "outlinewidth": 0,
              "ticks": ""
             }
            },
            "type": "scattergl"
           }
          ],
          "scattermapbox": [
           {
            "marker": {
             "colorbar": {
              "outlinewidth": 0,
              "ticks": ""
             }
            },
            "type": "scattermapbox"
           }
          ],
          "scatterpolar": [
           {
            "marker": {
             "colorbar": {
              "outlinewidth": 0,
              "ticks": ""
             }
            },
            "type": "scatterpolar"
           }
          ],
          "scatterpolargl": [
           {
            "marker": {
             "colorbar": {
              "outlinewidth": 0,
              "ticks": ""
             }
            },
            "type": "scatterpolargl"
           }
          ],
          "scatterternary": [
           {
            "marker": {
             "colorbar": {
              "outlinewidth": 0,
              "ticks": ""
             }
            },
            "type": "scatterternary"
           }
          ],
          "surface": [
           {
            "colorbar": {
             "outlinewidth": 0,
             "ticks": ""
            },
            "colorscale": [
             [
              0,
              "#0d0887"
             ],
             [
              0.1111111111111111,
              "#46039f"
             ],
             [
              0.2222222222222222,
              "#7201a8"
             ],
             [
              0.3333333333333333,
              "#9c179e"
             ],
             [
              0.4444444444444444,
              "#bd3786"
             ],
             [
              0.5555555555555556,
              "#d8576b"
             ],
             [
              0.6666666666666666,
              "#ed7953"
             ],
             [
              0.7777777777777778,
              "#fb9f3a"
             ],
             [
              0.8888888888888888,
              "#fdca26"
             ],
             [
              1,
              "#f0f921"
             ]
            ],
            "type": "surface"
           }
          ],
          "table": [
           {
            "cells": {
             "fill": {
              "color": "#EBF0F8"
             },
             "line": {
              "color": "white"
             }
            },
            "header": {
             "fill": {
              "color": "#C8D4E3"
             },
             "line": {
              "color": "white"
             }
            },
            "type": "table"
           }
          ]
         },
         "layout": {
          "annotationdefaults": {
           "arrowcolor": "#2a3f5f",
           "arrowhead": 0,
           "arrowwidth": 1
          },
          "autotypenumbers": "strict",
          "coloraxis": {
           "colorbar": {
            "outlinewidth": 0,
            "ticks": ""
           }
          },
          "colorscale": {
           "diverging": [
            [
             0,
             "#8e0152"
            ],
            [
             0.1,
             "#c51b7d"
            ],
            [
             0.2,
             "#de77ae"
            ],
            [
             0.3,
             "#f1b6da"
            ],
            [
             0.4,
             "#fde0ef"
            ],
            [
             0.5,
             "#f7f7f7"
            ],
            [
             0.6,
             "#e6f5d0"
            ],
            [
             0.7,
             "#b8e186"
            ],
            [
             0.8,
             "#7fbc41"
            ],
            [
             0.9,
             "#4d9221"
            ],
            [
             1,
             "#276419"
            ]
           ],
           "sequential": [
            [
             0,
             "#0d0887"
            ],
            [
             0.1111111111111111,
             "#46039f"
            ],
            [
             0.2222222222222222,
             "#7201a8"
            ],
            [
             0.3333333333333333,
             "#9c179e"
            ],
            [
             0.4444444444444444,
             "#bd3786"
            ],
            [
             0.5555555555555556,
             "#d8576b"
            ],
            [
             0.6666666666666666,
             "#ed7953"
            ],
            [
             0.7777777777777778,
             "#fb9f3a"
            ],
            [
             0.8888888888888888,
             "#fdca26"
            ],
            [
             1,
             "#f0f921"
            ]
           ],
           "sequentialminus": [
            [
             0,
             "#0d0887"
            ],
            [
             0.1111111111111111,
             "#46039f"
            ],
            [
             0.2222222222222222,
             "#7201a8"
            ],
            [
             0.3333333333333333,
             "#9c179e"
            ],
            [
             0.4444444444444444,
             "#bd3786"
            ],
            [
             0.5555555555555556,
             "#d8576b"
            ],
            [
             0.6666666666666666,
             "#ed7953"
            ],
            [
             0.7777777777777778,
             "#fb9f3a"
            ],
            [
             0.8888888888888888,
             "#fdca26"
            ],
            [
             1,
             "#f0f921"
            ]
           ]
          },
          "colorway": [
           "#636efa",
           "#EF553B",
           "#00cc96",
           "#ab63fa",
           "#FFA15A",
           "#19d3f3",
           "#FF6692",
           "#B6E880",
           "#FF97FF",
           "#FECB52"
          ],
          "font": {
           "color": "#2a3f5f"
          },
          "geo": {
           "bgcolor": "white",
           "lakecolor": "white",
           "landcolor": "#E5ECF6",
           "showlakes": true,
           "showland": true,
           "subunitcolor": "white"
          },
          "hoverlabel": {
           "align": "left"
          },
          "hovermode": "closest",
          "mapbox": {
           "style": "light"
          },
          "paper_bgcolor": "white",
          "plot_bgcolor": "#E5ECF6",
          "polar": {
           "angularaxis": {
            "gridcolor": "white",
            "linecolor": "white",
            "ticks": ""
           },
           "bgcolor": "#E5ECF6",
           "radialaxis": {
            "gridcolor": "white",
            "linecolor": "white",
            "ticks": ""
           }
          },
          "scene": {
           "xaxis": {
            "backgroundcolor": "#E5ECF6",
            "gridcolor": "white",
            "gridwidth": 2,
            "linecolor": "white",
            "showbackground": true,
            "ticks": "",
            "zerolinecolor": "white"
           },
           "yaxis": {
            "backgroundcolor": "#E5ECF6",
            "gridcolor": "white",
            "gridwidth": 2,
            "linecolor": "white",
            "showbackground": true,
            "ticks": "",
            "zerolinecolor": "white"
           },
           "zaxis": {
            "backgroundcolor": "#E5ECF6",
            "gridcolor": "white",
            "gridwidth": 2,
            "linecolor": "white",
            "showbackground": true,
            "ticks": "",
            "zerolinecolor": "white"
           }
          },
          "shapedefaults": {
           "line": {
            "color": "#2a3f5f"
           }
          },
          "ternary": {
           "aaxis": {
            "gridcolor": "white",
            "linecolor": "white",
            "ticks": ""
           },
           "baxis": {
            "gridcolor": "white",
            "linecolor": "white",
            "ticks": ""
           },
           "bgcolor": "#E5ECF6",
           "caxis": {
            "gridcolor": "white",
            "linecolor": "white",
            "ticks": ""
           }
          },
          "title": {
           "x": 0.05
          },
          "xaxis": {
           "automargin": true,
           "gridcolor": "white",
           "linecolor": "white",
           "ticks": "",
           "title": {
            "standoff": 15
           },
           "zerolinecolor": "white",
           "zerolinewidth": 2
          },
          "yaxis": {
           "automargin": true,
           "gridcolor": "white",
           "linecolor": "white",
           "ticks": "",
           "title": {
            "standoff": 15
           },
           "zerolinecolor": "white",
           "zerolinewidth": 2
          }
         }
        },
        "title": {
         "text": "Cumulative Budget Consumption epoch size 7"
        },
        "width": 1100,
        "xaxis": {
         "anchor": "y",
         "domain": [
          0,
          0.31999999999999995
         ],
         "title": {
          "text": "index"
         }
        },
        "xaxis2": {
         "anchor": "y2",
         "domain": [
          0.33999999999999997,
          0.6599999999999999
         ],
         "matches": "x",
         "title": {
          "text": "index"
         }
        },
        "xaxis3": {
         "anchor": "y3",
         "domain": [
          0.6799999999999999,
          0.9999999999999999
         ],
         "matches": "x",
         "title": {
          "text": "index"
         }
        },
        "yaxis": {
         "anchor": "x",
         "domain": [
          0,
          1
         ],
         "range": [
          0,
          1
         ],
         "title": {
          "text": "max_max"
         }
        },
        "yaxis2": {
         "anchor": "x2",
         "domain": [
          0,
          1
         ],
         "matches": "y",
         "showticklabels": false
        },
        "yaxis3": {
         "anchor": "x3",
         "domain": [
          0,
          1
         ],
         "matches": "y",
         "showticklabels": false
        }
       }
      },
      "text/html": [
       "<div>                            <div id=\"fa5da822-680c-4561-be38-b6b48be85abd\" class=\"plotly-graph-div\" style=\"height:1000px; width:1100px;\"></div>            <script type=\"text/javascript\">                require([\"plotly\"], function(Plotly) {                    window.PLOTLYENV=window.PLOTLYENV || {};                                    if (document.getElementById(\"fa5da822-680c-4561-be38-b6b48be85abd\")) {                    Plotly.newPlot(                        \"fa5da822-680c-4561-be38-b6b48be85abd\",                        [{\"hovertemplate\":\"baseline=ipa\\u003cbr\\u003edestination=9FF55\\u003cbr\\u003eindex=%{x}\\u003cbr\\u003emax_max=%{y}\\u003cextra\\u003e\\u003c\\u002fextra\\u003e\",\"legendgroup\":\"ipa\",\"line\":{\"color\":\"#636efa\",\"dash\":\"solid\"},\"marker\":{\"symbol\":\"circle\"},\"mode\":\"lines+markers\",\"name\":\"ipa\",\"orientation\":\"v\",\"showlegend\":true,\"x\":[10,25,41,58,82,102,122,126,137,144,146,147,159,171,174,184,196,224,231,239,243,246,257,258,269,283,286,292,308,319,325,334,335,345,362,366,369,370,398,400,411,430,442,448,462,467,472,473,482,489,494,511,513,518,527,540,557,558,565,568,591,601,604,607,611,617,626,636,644,654,656,665,680,688,693,694,715,717,726,727,728,736,759,760,761,762,763,764,765,766,767,768,769],\"xaxis\":\"x\",\"y\":[0.7309793946012845,0.7309793946012845,0.7309793946012845,0.7309793946012845,0.7309793946012845,0.7309793946012845,0.7309793946012845,0.7309793946012845,0.7309793946012845,0.7309793946012845,0.7309793946012845,0.7309793946012845,0.7309793946012845,0.7309793946012845,0.7309793946012845,0.7309793946012845,0.7309793946012845,0.7309793946012845,0.7309793946012845,0.7309793946012845,0.7309793946012845,0.7309793946012845,0.7309793946012845,0.7309793946012845,0.7309793946012845,0.7309793946012845,0.7309793946012845,0.7309793946012845,0.7309793946012845,0.7309793946012845,0.7309793946012845,0.7309793946012845,0.7309793946012845,0.7309793946012845,0.7309793946012845,0.7309793946012845,0.7309793946012845,0.7309793946012845,0.7309793946012845,0.7309793946012845,0.7309793946012845,0.7309793946012845,0.7309793946012845,0.7309793946012845,0.7309793946012845,0.7309793946012845,0.7309793946012845,0.7309793946012845,0.7309793946012845,0.7309793946012845,0.7309793946012845,0.7309793946012845,0.7309793946012845,0.7309793946012845,0.7309793946012845,0.7309793946012845,0.7309793946012845,0.7309793946012845,0.7309793946012845,0.7309793946012845,0.7309793946012845,0.7309793946012845,0.7309793946012845,0.7309793946012845,0.7309793946012845,0.7309793946012845,0.7309793946012845,0.7309793946012845,0.7309793946012845,0.7309793946012845,0.7309793946012845,0.7309793946012845,0.7309793946012845,0.7309793946012845,0.7309793946012845,0.7309793946012845,0.7309793946012845,0.7309793946012845,0.7309793946012845,0.7309793946012845,0.7309793946012845,0.7309793946012845,0.7309793946012845,0.7309793946012845,0.7309793946012845,0.7309793946012845,0.7309793946012845,0.7309793946012845,0.7309793946012845,0.7309793946012845,0.7309793946012845,0.7309793946012845,0.7309793946012845],\"yaxis\":\"y\",\"type\":\"scatter\"},{\"hovertemplate\":\"baseline=ipa\\u003cbr\\u003edestination=482E9\\u003cbr\\u003eindex=%{x}\\u003cbr\\u003emax_max=%{y}\\u003cextra\\u003e\\u003c\\u002fextra\\u003e\",\"legendgroup\":\"ipa\",\"line\":{\"color\":\"#636efa\",\"dash\":\"solid\"},\"marker\":{\"symbol\":\"circle\"},\"mode\":\"lines+markers\",\"name\":\"ipa\",\"orientation\":\"v\",\"showlegend\":false,\"x\":[109,160,235,299,396,483,566,663],\"xaxis\":\"x2\",\"y\":[0.7309793946012845,0.7309793946012845,0.7309793946012845,0.7309793946012845,0.7309793946012845,0.7309793946012845,0.7309793946012845,0.7309793946012845],\"yaxis\":\"y2\",\"type\":\"scatter\"},{\"hovertemplate\":\"baseline=ipa\\u003cbr\\u003edestination=9D883\\u003cbr\\u003eindex=%{x}\\u003cbr\\u003emax_max=%{y}\\u003cextra\\u003e\\u003c\\u002fextra\\u003e\",\"legendgroup\":\"ipa\",\"line\":{\"color\":\"#636efa\",\"dash\":\"solid\"},\"marker\":{\"symbol\":\"circle\"},\"mode\":\"lines+markers\",\"name\":\"ipa\",\"orientation\":\"v\",\"showlegend\":false,\"x\":[195,590],\"xaxis\":\"x3\",\"y\":[0.7309793946012845,0.7309793946012845],\"yaxis\":\"y3\",\"type\":\"scatter\"},{\"hovertemplate\":\"baseline=cookiemonster_base\\u003cbr\\u003edestination=9FF55\\u003cbr\\u003eindex=%{x}\\u003cbr\\u003emax_max=%{y}\\u003cextra\\u003e\\u003c\\u002fextra\\u003e\",\"legendgroup\":\"cookiemonster_base\",\"line\":{\"color\":\"#EF553B\",\"dash\":\"solid\"},\"marker\":{\"symbol\":\"circle\"},\"mode\":\"lines+markers\",\"name\":\"cookiemonster_base\",\"orientation\":\"v\",\"showlegend\":true,\"x\":[10,25,41,58,82,102,122,126,137,144,146,147,159,171,174,184,196,224,231,239,243,246,257,258,269,283,286,292,308,319,325,334,335,345,362,366,369,370,398,400,411,430,442,448,462,467,472,473,482,489,494,511,513,518,527,540,557,558,565,568,591,601,604,607,611,617,626,636,644,654,656,665,680,688,693,694,715,717,726,727,728,736,759,760,761,762,763,764,765,766,767,768,769],\"xaxis\":\"x\",\"y\":[0.9967900835472062,0.9967900835472062,0.9967900835472062,0.9967900835472062,0.9967900835472062,0.9967900835472062,0.9967900835472062,0.9967900835472062,0.9967900835472062,0.9967900835472062,0.9967900835472062,0.9967900835472062,0.9967900835472062,0.9967900835472062,0.9967900835472062,0.9967900835472062,0.9967900835472062,0.9967900835472062,0.9967900835472062,0.9967900835472062,0.9967900835472062,0.9967900835472062,0.9967900835472062,0.9967900835472062,0.9967900835472062,0.9967900835472062,0.9967900835472062,0.9967900835472062,0.9967900835472062,0.9967900835472062,0.9967900835472062,0.9967900835472062,0.9967900835472062,0.9967900835472062,0.9967900835472062,0.9967900835472062,0.9967900835472062,0.9967900835472062,0.9967900835472062,0.9967900835472062,0.9967900835472062,0.9967900835472062,0.9967900835472062,0.9967900835472062,0.9967900835472062,0.9967900835472062,0.9967900835472062,0.9967900835472062,0.9967900835472062,0.9967900835472062,0.9967900835472062,0.9967900835472062,0.9967900835472062,0.9967900835472062,0.9967900835472062,0.9967900835472062,0.9967900835472062,0.9967900835472062,0.9967900835472062,0.9967900835472062,0.9967900835472062,0.9967900835472062,0.9967900835472062,0.9967900835472062,0.9967900835472062,0.9967900835472062,0.9967900835472062,0.9967900835472062,0.9967900835472062,0.9967900835472062,0.9967900835472062,0.9967900835472062,0.9967900835472062,0.9967900835472062,0.9967900835472062,0.9967900835472062,0.9967900835472062,0.9967900835472062,0.9967900835472062,0.9967900835472062,0.9967900835472062,0.9967900835472062,0.9967900835472062,0.9967900835472062,0.9967900835472062,0.9967900835472062,0.9967900835472062,0.9967900835472062,0.9967900835472062,0.9967900835472062,0.9967900835472062,0.9967900835472062,0.9967900835472062],\"yaxis\":\"y\",\"type\":\"scatter\"},{\"hovertemplate\":\"baseline=cookiemonster_base\\u003cbr\\u003edestination=482E9\\u003cbr\\u003eindex=%{x}\\u003cbr\\u003emax_max=%{y}\\u003cextra\\u003e\\u003c\\u002fextra\\u003e\",\"legendgroup\":\"cookiemonster_base\",\"line\":{\"color\":\"#EF553B\",\"dash\":\"solid\"},\"marker\":{\"symbol\":\"circle\"},\"mode\":\"lines+markers\",\"name\":\"cookiemonster_base\",\"orientation\":\"v\",\"showlegend\":false,\"x\":[109,160,235,299,396,483,566,663],\"xaxis\":\"x2\",\"y\":[0.7309793946012845,0.7309793946012845,0.7309793946012845,0.7309793946012845,0.7309793946012845,0.7309793946012845,0.7309793946012845,0.7309793946012845],\"yaxis\":\"y2\",\"type\":\"scatter\"},{\"hovertemplate\":\"baseline=cookiemonster_base\\u003cbr\\u003edestination=9D883\\u003cbr\\u003eindex=%{x}\\u003cbr\\u003emax_max=%{y}\\u003cextra\\u003e\\u003c\\u002fextra\\u003e\",\"legendgroup\":\"cookiemonster_base\",\"line\":{\"color\":\"#EF553B\",\"dash\":\"solid\"},\"marker\":{\"symbol\":\"circle\"},\"mode\":\"lines+markers\",\"name\":\"cookiemonster_base\",\"orientation\":\"v\",\"showlegend\":false,\"x\":[195,590],\"xaxis\":\"x3\",\"y\":[0.7309793946012845,0.7309793946012845],\"yaxis\":\"y3\",\"type\":\"scatter\"},{\"hovertemplate\":\"baseline=cookiemonster\\u003cbr\\u003edestination=9FF55\\u003cbr\\u003eindex=%{x}\\u003cbr\\u003emax_max=%{y}\\u003cextra\\u003e\\u003c\\u002fextra\\u003e\",\"legendgroup\":\"cookiemonster\",\"line\":{\"color\":\"#00cc96\",\"dash\":\"solid\"},\"marker\":{\"symbol\":\"circle\"},\"mode\":\"lines+markers\",\"name\":\"cookiemonster\",\"orientation\":\"v\",\"showlegend\":true,\"x\":[10,25,41,58,82,102,122,126,137,144,146,147,159,171,174,184,196,224,231,239,243,246,257,258,269,283,286,292,308,319,325,334,335,345,362,366,369,370,398,400,411,430,442,448,462,467,472,473,482,489,494,511,513,518,527,540,557,558,565,568,591,601,604,607,611,617,626,636,644,654,656,665,680,688,693,694,715,717,726,727,728,736,759,760,761,762,763,764,765,766,767,768,769],\"xaxis\":\"x\",\"y\":[0.9967900835472062,0.9967900835472062,0.9967900835472062,0.9967900835472062,0.9967900835472062,0.9967900835472062,0.9967900835472062,0.9967900835472062,0.9967900835472062,0.9967900835472062,0.9967900835472062,0.9967900835472062,0.9967900835472062,0.9967900835472062,0.9967900835472062,0.9967900835472062,0.9967900835472062,0.9967900835472062,0.9967900835472062,0.9967900835472062,0.9967900835472062,0.9967900835472062,0.9967900835472062,0.9967900835472062,0.9967900835472062,0.9967900835472062,0.9967900835472062,0.9967900835472062,0.9967900835472062,0.9967900835472062,0.9967900835472062,0.9967900835472062,0.9967900835472062,0.9967900835472062,0.9967900835472062,0.9967900835472062,0.9967900835472062,0.9967900835472062,0.9967900835472062,0.9967900835472062,0.9967900835472062,0.9967900835472062,0.9967900835472062,0.9967900835472062,0.9967900835472062,0.9967900835472062,0.9967900835472062,0.9967900835472062,0.9967900835472062,0.9967900835472062,0.9967900835472062,0.9967900835472062,0.9967900835472062,0.9967900835472062,0.9967900835472062,0.9967900835472062,0.9967900835472062,0.9967900835472062,0.9967900835472062,0.9967900835472062,0.9967900835472062,0.9967900835472062,0.9967900835472062,0.9967900835472062,0.9967900835472062,0.9967900835472062,0.9967900835472062,0.9967900835472062,0.9967900835472062,0.9967900835472062,0.9967900835472062,0.9967900835472062,0.9967900835472062,0.9967900835472062,0.9967900835472062,0.9967900835472062,0.9967900835472062,0.9967900835472062,0.9967900835472062,0.9967900835472062,0.9967900835472062,0.9967900835472062,0.9967900835472062,0.9967900835472062,0.9967900835472062,0.9967900835472062,0.9967900835472062,0.9967900835472062,0.9967900835472062,0.9967900835472062,0.9967900835472062,0.9967900835472062,0.9967900835472062],\"yaxis\":\"y\",\"type\":\"scatter\"},{\"hovertemplate\":\"baseline=cookiemonster\\u003cbr\\u003edestination=482E9\\u003cbr\\u003eindex=%{x}\\u003cbr\\u003emax_max=%{y}\\u003cextra\\u003e\\u003c\\u002fextra\\u003e\",\"legendgroup\":\"cookiemonster\",\"line\":{\"color\":\"#00cc96\",\"dash\":\"solid\"},\"marker\":{\"symbol\":\"circle\"},\"mode\":\"lines+markers\",\"name\":\"cookiemonster\",\"orientation\":\"v\",\"showlegend\":false,\"x\":[109,160,235,299,396,483,566,663],\"xaxis\":\"x2\",\"y\":[0.7309793946012845,0.7309793946012845,0.7309793946012845,0.7309793946012845,0.7309793946012845,0.7309793946012845,0.7309793946012845,0.7309793946012845],\"yaxis\":\"y2\",\"type\":\"scatter\"},{\"hovertemplate\":\"baseline=cookiemonster\\u003cbr\\u003edestination=9D883\\u003cbr\\u003eindex=%{x}\\u003cbr\\u003emax_max=%{y}\\u003cextra\\u003e\\u003c\\u002fextra\\u003e\",\"legendgroup\":\"cookiemonster\",\"line\":{\"color\":\"#00cc96\",\"dash\":\"solid\"},\"marker\":{\"symbol\":\"circle\"},\"mode\":\"lines+markers\",\"name\":\"cookiemonster\",\"orientation\":\"v\",\"showlegend\":false,\"x\":[195,590],\"xaxis\":\"x3\",\"y\":[0.7309793946012845,0.7309793946012845],\"yaxis\":\"y3\",\"type\":\"scatter\"}],                        {\"annotations\":[{\"showarrow\":false,\"text\":\"destination=9FF55\",\"x\":0.15999999999999998,\"xanchor\":\"center\",\"xref\":\"paper\",\"y\":1.0,\"yanchor\":\"bottom\",\"yref\":\"paper\"},{\"showarrow\":false,\"text\":\"destination=482E9\",\"x\":0.49999999999999994,\"xanchor\":\"center\",\"xref\":\"paper\",\"y\":1.0,\"yanchor\":\"bottom\",\"yref\":\"paper\"},{\"showarrow\":false,\"text\":\"destination=9D883\",\"x\":0.8399999999999999,\"xanchor\":\"center\",\"xref\":\"paper\",\"y\":1.0,\"yanchor\":\"bottom\",\"yref\":\"paper\"}],\"height\":1000,\"legend\":{\"title\":{\"text\":\"baseline\"},\"tracegroupgap\":0},\"template\":{\"data\":{\"barpolar\":[{\"marker\":{\"line\":{\"color\":\"#E5ECF6\",\"width\":0.5},\"pattern\":{\"fillmode\":\"overlay\",\"size\":10,\"solidity\":0.2}},\"type\":\"barpolar\"}],\"bar\":[{\"error_x\":{\"color\":\"#2a3f5f\"},\"error_y\":{\"color\":\"#2a3f5f\"},\"marker\":{\"line\":{\"color\":\"#E5ECF6\",\"width\":0.5},\"pattern\":{\"fillmode\":\"overlay\",\"size\":10,\"solidity\":0.2}},\"type\":\"bar\"}],\"carpet\":[{\"aaxis\":{\"endlinecolor\":\"#2a3f5f\",\"gridcolor\":\"white\",\"linecolor\":\"white\",\"minorgridcolor\":\"white\",\"startlinecolor\":\"#2a3f5f\"},\"baxis\":{\"endlinecolor\":\"#2a3f5f\",\"gridcolor\":\"white\",\"linecolor\":\"white\",\"minorgridcolor\":\"white\",\"startlinecolor\":\"#2a3f5f\"},\"type\":\"carpet\"}],\"choropleth\":[{\"colorbar\":{\"outlinewidth\":0,\"ticks\":\"\"},\"type\":\"choropleth\"}],\"contourcarpet\":[{\"colorbar\":{\"outlinewidth\":0,\"ticks\":\"\"},\"type\":\"contourcarpet\"}],\"contour\":[{\"colorbar\":{\"outlinewidth\":0,\"ticks\":\"\"},\"colorscale\":[[0.0,\"#0d0887\"],[0.1111111111111111,\"#46039f\"],[0.2222222222222222,\"#7201a8\"],[0.3333333333333333,\"#9c179e\"],[0.4444444444444444,\"#bd3786\"],[0.5555555555555556,\"#d8576b\"],[0.6666666666666666,\"#ed7953\"],[0.7777777777777778,\"#fb9f3a\"],[0.8888888888888888,\"#fdca26\"],[1.0,\"#f0f921\"]],\"type\":\"contour\"}],\"heatmapgl\":[{\"colorbar\":{\"outlinewidth\":0,\"ticks\":\"\"},\"colorscale\":[[0.0,\"#0d0887\"],[0.1111111111111111,\"#46039f\"],[0.2222222222222222,\"#7201a8\"],[0.3333333333333333,\"#9c179e\"],[0.4444444444444444,\"#bd3786\"],[0.5555555555555556,\"#d8576b\"],[0.6666666666666666,\"#ed7953\"],[0.7777777777777778,\"#fb9f3a\"],[0.8888888888888888,\"#fdca26\"],[1.0,\"#f0f921\"]],\"type\":\"heatmapgl\"}],\"heatmap\":[{\"colorbar\":{\"outlinewidth\":0,\"ticks\":\"\"},\"colorscale\":[[0.0,\"#0d0887\"],[0.1111111111111111,\"#46039f\"],[0.2222222222222222,\"#7201a8\"],[0.3333333333333333,\"#9c179e\"],[0.4444444444444444,\"#bd3786\"],[0.5555555555555556,\"#d8576b\"],[0.6666666666666666,\"#ed7953\"],[0.7777777777777778,\"#fb9f3a\"],[0.8888888888888888,\"#fdca26\"],[1.0,\"#f0f921\"]],\"type\":\"heatmap\"}],\"histogram2dcontour\":[{\"colorbar\":{\"outlinewidth\":0,\"ticks\":\"\"},\"colorscale\":[[0.0,\"#0d0887\"],[0.1111111111111111,\"#46039f\"],[0.2222222222222222,\"#7201a8\"],[0.3333333333333333,\"#9c179e\"],[0.4444444444444444,\"#bd3786\"],[0.5555555555555556,\"#d8576b\"],[0.6666666666666666,\"#ed7953\"],[0.7777777777777778,\"#fb9f3a\"],[0.8888888888888888,\"#fdca26\"],[1.0,\"#f0f921\"]],\"type\":\"histogram2dcontour\"}],\"histogram2d\":[{\"colorbar\":{\"outlinewidth\":0,\"ticks\":\"\"},\"colorscale\":[[0.0,\"#0d0887\"],[0.1111111111111111,\"#46039f\"],[0.2222222222222222,\"#7201a8\"],[0.3333333333333333,\"#9c179e\"],[0.4444444444444444,\"#bd3786\"],[0.5555555555555556,\"#d8576b\"],[0.6666666666666666,\"#ed7953\"],[0.7777777777777778,\"#fb9f3a\"],[0.8888888888888888,\"#fdca26\"],[1.0,\"#f0f921\"]],\"type\":\"histogram2d\"}],\"histogram\":[{\"marker\":{\"pattern\":{\"fillmode\":\"overlay\",\"size\":10,\"solidity\":0.2}},\"type\":\"histogram\"}],\"mesh3d\":[{\"colorbar\":{\"outlinewidth\":0,\"ticks\":\"\"},\"type\":\"mesh3d\"}],\"parcoords\":[{\"line\":{\"colorbar\":{\"outlinewidth\":0,\"ticks\":\"\"}},\"type\":\"parcoords\"}],\"pie\":[{\"automargin\":true,\"type\":\"pie\"}],\"scatter3d\":[{\"line\":{\"colorbar\":{\"outlinewidth\":0,\"ticks\":\"\"}},\"marker\":{\"colorbar\":{\"outlinewidth\":0,\"ticks\":\"\"}},\"type\":\"scatter3d\"}],\"scattercarpet\":[{\"marker\":{\"colorbar\":{\"outlinewidth\":0,\"ticks\":\"\"}},\"type\":\"scattercarpet\"}],\"scattergeo\":[{\"marker\":{\"colorbar\":{\"outlinewidth\":0,\"ticks\":\"\"}},\"type\":\"scattergeo\"}],\"scattergl\":[{\"marker\":{\"colorbar\":{\"outlinewidth\":0,\"ticks\":\"\"}},\"type\":\"scattergl\"}],\"scattermapbox\":[{\"marker\":{\"colorbar\":{\"outlinewidth\":0,\"ticks\":\"\"}},\"type\":\"scattermapbox\"}],\"scatterpolargl\":[{\"marker\":{\"colorbar\":{\"outlinewidth\":0,\"ticks\":\"\"}},\"type\":\"scatterpolargl\"}],\"scatterpolar\":[{\"marker\":{\"colorbar\":{\"outlinewidth\":0,\"ticks\":\"\"}},\"type\":\"scatterpolar\"}],\"scatter\":[{\"fillpattern\":{\"fillmode\":\"overlay\",\"size\":10,\"solidity\":0.2},\"type\":\"scatter\"}],\"scatterternary\":[{\"marker\":{\"colorbar\":{\"outlinewidth\":0,\"ticks\":\"\"}},\"type\":\"scatterternary\"}],\"surface\":[{\"colorbar\":{\"outlinewidth\":0,\"ticks\":\"\"},\"colorscale\":[[0.0,\"#0d0887\"],[0.1111111111111111,\"#46039f\"],[0.2222222222222222,\"#7201a8\"],[0.3333333333333333,\"#9c179e\"],[0.4444444444444444,\"#bd3786\"],[0.5555555555555556,\"#d8576b\"],[0.6666666666666666,\"#ed7953\"],[0.7777777777777778,\"#fb9f3a\"],[0.8888888888888888,\"#fdca26\"],[1.0,\"#f0f921\"]],\"type\":\"surface\"}],\"table\":[{\"cells\":{\"fill\":{\"color\":\"#EBF0F8\"},\"line\":{\"color\":\"white\"}},\"header\":{\"fill\":{\"color\":\"#C8D4E3\"},\"line\":{\"color\":\"white\"}},\"type\":\"table\"}]},\"layout\":{\"annotationdefaults\":{\"arrowcolor\":\"#2a3f5f\",\"arrowhead\":0,\"arrowwidth\":1},\"autotypenumbers\":\"strict\",\"coloraxis\":{\"colorbar\":{\"outlinewidth\":0,\"ticks\":\"\"}},\"colorscale\":{\"diverging\":[[0,\"#8e0152\"],[0.1,\"#c51b7d\"],[0.2,\"#de77ae\"],[0.3,\"#f1b6da\"],[0.4,\"#fde0ef\"],[0.5,\"#f7f7f7\"],[0.6,\"#e6f5d0\"],[0.7,\"#b8e186\"],[0.8,\"#7fbc41\"],[0.9,\"#4d9221\"],[1,\"#276419\"]],\"sequential\":[[0.0,\"#0d0887\"],[0.1111111111111111,\"#46039f\"],[0.2222222222222222,\"#7201a8\"],[0.3333333333333333,\"#9c179e\"],[0.4444444444444444,\"#bd3786\"],[0.5555555555555556,\"#d8576b\"],[0.6666666666666666,\"#ed7953\"],[0.7777777777777778,\"#fb9f3a\"],[0.8888888888888888,\"#fdca26\"],[1.0,\"#f0f921\"]],\"sequentialminus\":[[0.0,\"#0d0887\"],[0.1111111111111111,\"#46039f\"],[0.2222222222222222,\"#7201a8\"],[0.3333333333333333,\"#9c179e\"],[0.4444444444444444,\"#bd3786\"],[0.5555555555555556,\"#d8576b\"],[0.6666666666666666,\"#ed7953\"],[0.7777777777777778,\"#fb9f3a\"],[0.8888888888888888,\"#fdca26\"],[1.0,\"#f0f921\"]]},\"colorway\":[\"#636efa\",\"#EF553B\",\"#00cc96\",\"#ab63fa\",\"#FFA15A\",\"#19d3f3\",\"#FF6692\",\"#B6E880\",\"#FF97FF\",\"#FECB52\"],\"font\":{\"color\":\"#2a3f5f\"},\"geo\":{\"bgcolor\":\"white\",\"lakecolor\":\"white\",\"landcolor\":\"#E5ECF6\",\"showlakes\":true,\"showland\":true,\"subunitcolor\":\"white\"},\"hoverlabel\":{\"align\":\"left\"},\"hovermode\":\"closest\",\"mapbox\":{\"style\":\"light\"},\"paper_bgcolor\":\"white\",\"plot_bgcolor\":\"#E5ECF6\",\"polar\":{\"angularaxis\":{\"gridcolor\":\"white\",\"linecolor\":\"white\",\"ticks\":\"\"},\"bgcolor\":\"#E5ECF6\",\"radialaxis\":{\"gridcolor\":\"white\",\"linecolor\":\"white\",\"ticks\":\"\"}},\"scene\":{\"xaxis\":{\"backgroundcolor\":\"#E5ECF6\",\"gridcolor\":\"white\",\"gridwidth\":2,\"linecolor\":\"white\",\"showbackground\":true,\"ticks\":\"\",\"zerolinecolor\":\"white\"},\"yaxis\":{\"backgroundcolor\":\"#E5ECF6\",\"gridcolor\":\"white\",\"gridwidth\":2,\"linecolor\":\"white\",\"showbackground\":true,\"ticks\":\"\",\"zerolinecolor\":\"white\"},\"zaxis\":{\"backgroundcolor\":\"#E5ECF6\",\"gridcolor\":\"white\",\"gridwidth\":2,\"linecolor\":\"white\",\"showbackground\":true,\"ticks\":\"\",\"zerolinecolor\":\"white\"}},\"shapedefaults\":{\"line\":{\"color\":\"#2a3f5f\"}},\"ternary\":{\"aaxis\":{\"gridcolor\":\"white\",\"linecolor\":\"white\",\"ticks\":\"\"},\"baxis\":{\"gridcolor\":\"white\",\"linecolor\":\"white\",\"ticks\":\"\"},\"bgcolor\":\"#E5ECF6\",\"caxis\":{\"gridcolor\":\"white\",\"linecolor\":\"white\",\"ticks\":\"\"}},\"title\":{\"x\":0.05},\"xaxis\":{\"automargin\":true,\"gridcolor\":\"white\",\"linecolor\":\"white\",\"ticks\":\"\",\"title\":{\"standoff\":15},\"zerolinecolor\":\"white\",\"zerolinewidth\":2},\"yaxis\":{\"automargin\":true,\"gridcolor\":\"white\",\"linecolor\":\"white\",\"ticks\":\"\",\"title\":{\"standoff\":15},\"zerolinecolor\":\"white\",\"zerolinewidth\":2}}},\"title\":{\"text\":\"Cumulative Budget Consumption epoch size 7\"},\"width\":1100,\"xaxis\":{\"anchor\":\"y\",\"domain\":[0.0,0.31999999999999995],\"title\":{\"text\":\"index\"}},\"yaxis\":{\"anchor\":\"x\",\"domain\":[0.0,1.0],\"range\":[0,1],\"title\":{\"text\":\"max_max\"}},\"xaxis2\":{\"anchor\":\"y2\",\"domain\":[0.33999999999999997,0.6599999999999999],\"matches\":\"x\",\"title\":{\"text\":\"index\"}},\"yaxis2\":{\"anchor\":\"x2\",\"domain\":[0.0,1.0],\"matches\":\"y\",\"showticklabels\":false},\"xaxis3\":{\"anchor\":\"y3\",\"domain\":[0.6799999999999999,0.9999999999999999],\"matches\":\"x\",\"title\":{\"text\":\"index\"}},\"yaxis3\":{\"anchor\":\"x3\",\"domain\":[0.0,1.0],\"matches\":\"y\",\"showticklabels\":false}},                        {\"responsive\": true}                    ).then(function(){\n",
       "                            \n",
       "var gd = document.getElementById('fa5da822-680c-4561-be38-b6b48be85abd');\n",
       "var x = new MutationObserver(function (mutations, observer) {{\n",
       "        var display = window.getComputedStyle(gd).display;\n",
       "        if (!display || display === 'none') {{\n",
       "            console.log([gd, 'removed!']);\n",
       "            Plotly.purge(gd);\n",
       "            observer.disconnect();\n",
       "        }}\n",
       "}});\n",
       "\n",
       "// Listen for the removal of the full notebook cells\n",
       "var notebookContainer = gd.closest('#notebook-container');\n",
       "if (notebookContainer) {{\n",
       "    x.observe(notebookContainer, {childList: true});\n",
       "}}\n",
       "\n",
       "// Listen for the clearing of the current output cell\n",
       "var outputEl = gd.closest('.output');\n",
       "if (outputEl) {{\n",
       "    x.observe(outputEl, {childList: true});\n",
       "}}\n",
       "\n",
       "                        })                };                });            </script>        </div>"
      ]
     },
     "metadata": {},
     "output_type": "display_data"
    },
    {
     "data": {
      "application/vnd.plotly.v1+json": {
       "config": {
        "linkText": "Export to plot.ly",
        "plotlyServerURL": "https://plot.ly",
        "showLink": false
       },
       "data": [
        {
         "hovertemplate": "baseline=ipa<br>destination=9FF55<br>index=%{x}<br>avg=%{y}<extra></extra>",
         "legendgroup": "ipa",
         "line": {
          "color": "#636efa",
          "dash": "solid"
         },
         "marker": {
          "symbol": "circle"
         },
         "mode": "lines+markers",
         "name": "ipa",
         "orientation": "v",
         "showlegend": true,
         "type": "scatter",
         "x": [
          10,
          25,
          41,
          58,
          82,
          102,
          122,
          126,
          137,
          144,
          146,
          147,
          159,
          171,
          174,
          184,
          196,
          224,
          231,
          239,
          243,
          246,
          257,
          258,
          269,
          283,
          286,
          292,
          308,
          319,
          325,
          334,
          335,
          345,
          362,
          366,
          369,
          370,
          398,
          400,
          411,
          430,
          442,
          448,
          462,
          467,
          472,
          473,
          482,
          489,
          494,
          511,
          513,
          518,
          527,
          540,
          557,
          558,
          565,
          568,
          591,
          601,
          604,
          607,
          611,
          617,
          626,
          636,
          644,
          654,
          656,
          665,
          680,
          688,
          693,
          694,
          715,
          717,
          726,
          727,
          728,
          736,
          759,
          760,
          761,
          762,
          763,
          764,
          765,
          766,
          767,
          768,
          769
         ],
         "xaxis": "x",
         "y": [
          0.2558427881104496,
          0.2558427881104496,
          0.2558427881104496,
          0.2558427881104496,
          0.2558427881104496,
          0.2558427881104496,
          0.2558427881104496,
          0.2558427881104496,
          0.2558427881104496,
          0.2558427881104496,
          0.2558427881104496,
          0.2558427881104496,
          0.2558427881104496,
          0.2558427881104496,
          0.2558427881104496,
          0.2558427881104496,
          0.2558427881104496,
          0.2558427881104496,
          0.2558427881104496,
          0.2558427881104496,
          0.4385876367607707,
          0.4385876367607707,
          0.4385876367607707,
          0.4385876367607707,
          0.4385876367607707,
          0.4385876367607707,
          0.4385876367607707,
          0.4385876367607707,
          0.4385876367607707,
          0.4385876367607707,
          0.4385876367607707,
          0.4385876367607707,
          0.4385876367607707,
          0.4385876367607707,
          0.4385876367607707,
          0.4385876367607707,
          0.4385876367607707,
          0.4385876367607707,
          0.4385876367607707,
          0.4385876367607707,
          0.4385876367607707,
          0.4385876367607707,
          0.4385876367607707,
          0.4385876367607707,
          0.4385876367607707,
          0.4385876367607707,
          0.4385876367607707,
          0.4385876367607707,
          0.4385876367607707,
          0.4385876367607707,
          0.4385876367607707,
          0.4385876367607707,
          0.4385876367607707,
          0.4385876367607707,
          0.4385876367607707,
          0.4385876367607707,
          0.4385876367607707,
          0.4385876367607707,
          0.4385876367607707,
          0.4385876367607707,
          0.4385876367607707,
          0.4385876367607707,
          0.4385876367607707,
          0.4385876367607707,
          0.6213324854110919,
          0.6213324854110919,
          0.6213324854110919,
          0.6213324854110919,
          0.6213324854110919,
          0.6213324854110919,
          0.6213324854110919,
          0.6213324854110919,
          0.6213324854110919,
          0.6213324854110919,
          0.6213324854110919,
          0.6213324854110919,
          0.6213324854110919,
          0.6213324854110919,
          0.6213324854110919,
          0.6213324854110919,
          0.6213324854110919,
          0.6213324854110919,
          0.6213324854110919,
          0.6213324854110919,
          0.6213324854110919,
          0.6213324854110919,
          0.6213324854110919,
          0.6213324854110919,
          0.6213324854110919,
          0.6213324854110919,
          0.6213324854110919,
          0.6213324854110919,
          0.6213324854110919
         ],
         "yaxis": "y"
        },
        {
         "hovertemplate": "baseline=ipa<br>destination=482E9<br>index=%{x}<br>avg=%{y}<extra></extra>",
         "legendgroup": "ipa",
         "line": {
          "color": "#636efa",
          "dash": "solid"
         },
         "marker": {
          "symbol": "circle"
         },
         "mode": "lines+markers",
         "name": "ipa",
         "orientation": "v",
         "showlegend": false,
         "type": "scatter",
         "x": [
          109,
          160,
          235,
          299,
          396,
          483,
          566,
          663
         ],
         "xaxis": "x2",
         "y": [
          0.31327688340055054,
          0.31327688340055054,
          0.31327688340055054,
          0.31327688340055054,
          0.31327688340055054,
          0.31327688340055054,
          0.6787665807011928,
          0.6787665807011928
         ],
         "yaxis": "y2"
        },
        {
         "hovertemplate": "baseline=ipa<br>destination=9D883<br>index=%{x}<br>avg=%{y}<extra></extra>",
         "legendgroup": "ipa",
         "line": {
          "color": "#636efa",
          "dash": "solid"
         },
         "marker": {
          "symbol": "circle"
         },
         "mode": "lines+markers",
         "name": "ipa",
         "orientation": "v",
         "showlegend": false,
         "type": "scatter",
         "x": [
          195,
          590
         ],
         "xaxis": "x3",
         "y": [
          0.47298666709494885,
          0.47298666709494885
         ],
         "yaxis": "y3"
        },
        {
         "hovertemplate": "baseline=cookiemonster_base<br>destination=9FF55<br>index=%{x}<br>avg=%{y}<extra></extra>",
         "legendgroup": "cookiemonster_base",
         "line": {
          "color": "#EF553B",
          "dash": "solid"
         },
         "marker": {
          "symbol": "circle"
         },
         "mode": "lines+markers",
         "name": "cookiemonster_base",
         "orientation": "v",
         "showlegend": true,
         "type": "scatter",
         "x": [
          10,
          25,
          41,
          58,
          82,
          102,
          122,
          126,
          137,
          144,
          146,
          147,
          159,
          171,
          174,
          184,
          196,
          224,
          231,
          239,
          243,
          246,
          257,
          258,
          269,
          283,
          286,
          292,
          308,
          319,
          325,
          334,
          335,
          345,
          362,
          366,
          369,
          370,
          398,
          400,
          411,
          430,
          442,
          448,
          462,
          467,
          472,
          473,
          482,
          489,
          494,
          511,
          513,
          518,
          527,
          540,
          557,
          558,
          565,
          568,
          591,
          601,
          604,
          607,
          611,
          617,
          626,
          636,
          644,
          654,
          656,
          665,
          680,
          688,
          693,
          694,
          715,
          717,
          726,
          727,
          728,
          736,
          759,
          760,
          761,
          762,
          763,
          764,
          765,
          766,
          767,
          768,
          769
         ],
         "xaxis": "x",
         "y": [
          0.002913509724946794,
          0.005551850623524692,
          0.008445637849337174,
          0.011264797845857948,
          0.015200148544597817,
          0.020820751658414547,
          0.02527477839220767,
          0.026331517667517797,
          0.02973129870581313,
          0.032804980675037204,
          0.034166096658021256,
          0.034478520053949184,
          0.03754685367729779,
          0.04039005363500045,
          0.0412657858811622,
          0.042220698783917696,
          0.04532646578724543,
          0.051046711622466656,
          0.05167869830445396,
          0.05580459733434595,
          0.0563056575367436,
          0.05871095322802015,
          0.06163749269556637,
          0.062409411668027555,
          0.06486830429584302,
          0.0678197386141279,
          0.06844477318619747,
          0.0700202184841897,
          0.07301584169050648,
          0.07692392986058215,
          0.07962748771779661,
          0.08307618925081345,
          0.08320561343599209,
          0.08773436735166606,
          0.09070026755526749,
          0.09126831009331834,
          0.09172506944409026,
          0.09235871923434291,
          0.09739984562811653,
          0.09787640691988182,
          0.1001506292659785,
          0.10354495211012434,
          0.10600445525653103,
          0.10707921048395305,
          0.10988249142747517,
          0.11064786456596935,
          0.1126751619969507,
          0.11271780190548268,
          0.1152997227884623,
          0.11760315200877396,
          0.11956235510325657,
          0.12490884920806695,
          0.12540505379214292,
          0.12726849607164595,
          0.12883673498879253,
          0.1346390156626413,
          0.13671755440312405,
          0.1367723655252167,
          0.13858680144669713,
          0.1397921400551895,
          0.14457169566008843,
          0.14623052031135553,
          0.1480746380559799,
          0.15006602716845877,
          0.15315354440962045,
          0.1551937206450932,
          0.15663330325520392,
          0.15781142668106926,
          0.1602653421831226,
          0.16226170753820343,
          0.1625663612197691,
          0.16446027002906938,
          0.16795212680995825,
          0.16999562493161088,
          0.17282614483190456,
          0.17380999486266518,
          0.17722617526961773,
          0.17788668500269744,
          0.18103870524175208,
          0.18145519064363202,
          0.18300204953114166,
          0.18460804246456833,
          0.18489561117677558,
          0.18489561117677558,
          0.18489561117677558,
          0.18489561117677558,
          0.18489561117677558,
          0.18489561117677558,
          0.18489561117677558,
          0.18489561117677558,
          0.18489561117677558,
          0.18489561117677558,
          0.18489561117677558
         ],
         "yaxis": "y"
        },
        {
         "hovertemplate": "baseline=cookiemonster_base<br>destination=482E9<br>index=%{x}<br>avg=%{y}<extra></extra>",
         "legendgroup": "cookiemonster_base",
         "line": {
          "color": "#EF553B",
          "dash": "solid"
         },
         "marker": {
          "symbol": "circle"
         },
         "mode": "lines+markers",
         "name": "cookiemonster_base",
         "orientation": "v",
         "showlegend": false,
         "type": "scatter",
         "x": [
          109,
          160,
          235,
          299,
          396,
          483,
          566,
          663
         ],
         "xaxis": "x2",
         "y": [
          0.035605042793155454,
          0.07086872836069899,
          0.10562779889907878,
          0.14105474227017745,
          0.17425544286554667,
          0.20886609721887506,
          0.24426335735296084,
          0.279541884539008
         ],
         "yaxis": "y2"
        },
        {
         "hovertemplate": "baseline=cookiemonster_base<br>destination=9D883<br>index=%{x}<br>avg=%{y}<extra></extra>",
         "legendgroup": "cookiemonster_base",
         "line": {
          "color": "#EF553B",
          "dash": "solid"
         },
         "marker": {
          "symbol": "circle"
         },
         "mode": "lines+markers",
         "name": "cookiemonster_base",
         "orientation": "v",
         "showlegend": false,
         "type": "scatter",
         "x": [
          195,
          590
         ],
         "xaxis": "x3",
         "y": [
          0.1134690236717672,
          0.2277502466708711
         ],
         "yaxis": "y3"
        },
        {
         "hovertemplate": "baseline=cookiemonster<br>destination=9FF55<br>index=%{x}<br>avg=%{y}<extra></extra>",
         "legendgroup": "cookiemonster",
         "line": {
          "color": "#00cc96",
          "dash": "solid"
         },
         "marker": {
          "symbol": "circle"
         },
         "mode": "lines+markers",
         "name": "cookiemonster",
         "orientation": "v",
         "showlegend": true,
         "type": "scatter",
         "x": [
          10,
          25,
          41,
          58,
          82,
          102,
          122,
          126,
          137,
          144,
          146,
          147,
          159,
          171,
          174,
          184,
          196,
          224,
          231,
          239,
          243,
          246,
          257,
          258,
          269,
          283,
          286,
          292,
          308,
          319,
          325,
          334,
          335,
          345,
          362,
          366,
          369,
          370,
          398,
          400,
          411,
          430,
          442,
          448,
          462,
          467,
          472,
          473,
          482,
          489,
          494,
          511,
          513,
          518,
          527,
          540,
          557,
          558,
          565,
          568,
          591,
          601,
          604,
          607,
          611,
          617,
          626,
          636,
          644,
          654,
          656,
          665,
          680,
          688,
          693,
          694,
          715,
          717,
          726,
          727,
          728,
          736,
          759,
          760,
          761,
          762,
          763,
          764,
          765,
          766,
          767,
          768,
          769
         ],
         "xaxis": "x",
         "y": [
          0.0005530873296284065,
          0.0010834960654485884,
          0.0016098354906891675,
          0.0021737952770024102,
          0.0029227315074345597,
          0.003972840592549116,
          0.004861818901904889,
          0.005074993794370052,
          0.005764085189044725,
          0.006391976252191917,
          0.006627050584336579,
          0.006679121150324588,
          0.007206846935003082,
          0.007784622113559187,
          0.007961595600194668,
          0.008158972811656619,
          0.00879324766276268,
          0.009820557089633123,
          0.009949694982135231,
          0.010797073820606053,
          0.010900026417190104,
          0.011392047779863407,
          0.011988317897790505,
          0.012143615210984122,
          0.012613602336370799,
          0.013117690112596768,
          0.013223689578677957,
          0.013492933009576364,
          0.014086448838227579,
          0.01488450980886973,
          0.015435270086029067,
          0.01613323206094567,
          0.016159116897981374,
          0.016990934188789095,
          0.017511088083150616,
          0.01762743714686531,
          0.017721529573124232,
          0.01785100008727927,
          0.018889703671802725,
          0.01898775648626032,
          0.019432784868402178,
          0.02001220812294873,
          0.02049685043091001,
          0.020716369069901923,
          0.021290728039128962,
          0.02144837026033538,
          0.021862964933546693,
          0.021871492915253088,
          0.02239701227886396,
          0.02286622610463225,
          0.02325050943245197,
          0.02416854051277543,
          0.02426960846699361,
          0.02464960507250621,
          0.02497238804295067,
          0.026162351359824688,
          0.02659176188844398,
          0.026601810594160953,
          0.0269115247306862,
          0.02711972264838029,
          0.02805913443170484,
          0.02839729399286876,
          0.02877433921010717,
          0.029179011663513374,
          0.029811131410969822,
          0.030227388326377874,
          0.03050537758374452,
          0.030711780193772076,
          0.031140863522214256,
          0.031501453401790974,
          0.031562384138104055,
          0.03195304164308431,
          0.03267790504160879,
          0.03309875499271645,
          0.033679781585393954,
          0.03388294622245743,
          0.03451907865318051,
          0.03464686794516578,
          0.03529766583066454,
          0.03538285568864434,
          0.03570237498061474,
          0.03600871692441572,
          0.03606815611611108,
          0.03606815611611108,
          0.03606815611611108,
          0.03606815611611108,
          0.03606815611611108,
          0.03606815611611108,
          0.03606815611611108,
          0.03606815611611108,
          0.03606815611611108,
          0.03606815611611108,
          0.03606815611611108
         ],
         "yaxis": "y"
        },
        {
         "hovertemplate": "baseline=cookiemonster<br>destination=482E9<br>index=%{x}<br>avg=%{y}<extra></extra>",
         "legendgroup": "cookiemonster",
         "line": {
          "color": "#00cc96",
          "dash": "solid"
         },
         "marker": {
          "symbol": "circle"
         },
         "mode": "lines+markers",
         "name": "cookiemonster",
         "orientation": "v",
         "showlegend": false,
         "type": "scatter",
         "x": [
          109,
          160,
          235,
          299,
          396,
          483,
          566,
          663
         ],
         "xaxis": "x2",
         "y": [
          0.0067232531827008364,
          0.01359492255045006,
          0.02049627515520901,
          0.02735310290445338,
          0.03443255493127063,
          0.04142295724705872,
          0.04830946823331487,
          0.05535923702312444
         ],
         "yaxis": "y2"
        },
        {
         "hovertemplate": "baseline=cookiemonster<br>destination=9D883<br>index=%{x}<br>avg=%{y}<extra></extra>",
         "legendgroup": "cookiemonster",
         "line": {
          "color": "#00cc96",
          "dash": "solid"
         },
         "marker": {
          "symbol": "circle"
         },
         "mode": "lines+markers",
         "name": "cookiemonster",
         "orientation": "v",
         "showlegend": false,
         "type": "scatter",
         "x": [
          195,
          590
         ],
         "xaxis": "x3",
         "y": [
          0.021642723251920366,
          0.04371543438301736
         ],
         "yaxis": "y3"
        }
       ],
       "layout": {
        "annotations": [
         {
          "showarrow": false,
          "text": "destination=9FF55",
          "x": 0.15999999999999998,
          "xanchor": "center",
          "xref": "paper",
          "y": 1,
          "yanchor": "bottom",
          "yref": "paper"
         },
         {
          "showarrow": false,
          "text": "destination=482E9",
          "x": 0.49999999999999994,
          "xanchor": "center",
          "xref": "paper",
          "y": 1,
          "yanchor": "bottom",
          "yref": "paper"
         },
         {
          "showarrow": false,
          "text": "destination=9D883",
          "x": 0.8399999999999999,
          "xanchor": "center",
          "xref": "paper",
          "y": 1,
          "yanchor": "bottom",
          "yref": "paper"
         }
        ],
        "height": 1000,
        "legend": {
         "title": {
          "text": "baseline"
         },
         "tracegroupgap": 0
        },
        "template": {
         "data": {
          "bar": [
           {
            "error_x": {
             "color": "#2a3f5f"
            },
            "error_y": {
             "color": "#2a3f5f"
            },
            "marker": {
             "line": {
              "color": "#E5ECF6",
              "width": 0.5
             },
             "pattern": {
              "fillmode": "overlay",
              "size": 10,
              "solidity": 0.2
             }
            },
            "type": "bar"
           }
          ],
          "barpolar": [
           {
            "marker": {
             "line": {
              "color": "#E5ECF6",
              "width": 0.5
             },
             "pattern": {
              "fillmode": "overlay",
              "size": 10,
              "solidity": 0.2
             }
            },
            "type": "barpolar"
           }
          ],
          "carpet": [
           {
            "aaxis": {
             "endlinecolor": "#2a3f5f",
             "gridcolor": "white",
             "linecolor": "white",
             "minorgridcolor": "white",
             "startlinecolor": "#2a3f5f"
            },
            "baxis": {
             "endlinecolor": "#2a3f5f",
             "gridcolor": "white",
             "linecolor": "white",
             "minorgridcolor": "white",
             "startlinecolor": "#2a3f5f"
            },
            "type": "carpet"
           }
          ],
          "choropleth": [
           {
            "colorbar": {
             "outlinewidth": 0,
             "ticks": ""
            },
            "type": "choropleth"
           }
          ],
          "contour": [
           {
            "colorbar": {
             "outlinewidth": 0,
             "ticks": ""
            },
            "colorscale": [
             [
              0,
              "#0d0887"
             ],
             [
              0.1111111111111111,
              "#46039f"
             ],
             [
              0.2222222222222222,
              "#7201a8"
             ],
             [
              0.3333333333333333,
              "#9c179e"
             ],
             [
              0.4444444444444444,
              "#bd3786"
             ],
             [
              0.5555555555555556,
              "#d8576b"
             ],
             [
              0.6666666666666666,
              "#ed7953"
             ],
             [
              0.7777777777777778,
              "#fb9f3a"
             ],
             [
              0.8888888888888888,
              "#fdca26"
             ],
             [
              1,
              "#f0f921"
             ]
            ],
            "type": "contour"
           }
          ],
          "contourcarpet": [
           {
            "colorbar": {
             "outlinewidth": 0,
             "ticks": ""
            },
            "type": "contourcarpet"
           }
          ],
          "heatmap": [
           {
            "colorbar": {
             "outlinewidth": 0,
             "ticks": ""
            },
            "colorscale": [
             [
              0,
              "#0d0887"
             ],
             [
              0.1111111111111111,
              "#46039f"
             ],
             [
              0.2222222222222222,
              "#7201a8"
             ],
             [
              0.3333333333333333,
              "#9c179e"
             ],
             [
              0.4444444444444444,
              "#bd3786"
             ],
             [
              0.5555555555555556,
              "#d8576b"
             ],
             [
              0.6666666666666666,
              "#ed7953"
             ],
             [
              0.7777777777777778,
              "#fb9f3a"
             ],
             [
              0.8888888888888888,
              "#fdca26"
             ],
             [
              1,
              "#f0f921"
             ]
            ],
            "type": "heatmap"
           }
          ],
          "heatmapgl": [
           {
            "colorbar": {
             "outlinewidth": 0,
             "ticks": ""
            },
            "colorscale": [
             [
              0,
              "#0d0887"
             ],
             [
              0.1111111111111111,
              "#46039f"
             ],
             [
              0.2222222222222222,
              "#7201a8"
             ],
             [
              0.3333333333333333,
              "#9c179e"
             ],
             [
              0.4444444444444444,
              "#bd3786"
             ],
             [
              0.5555555555555556,
              "#d8576b"
             ],
             [
              0.6666666666666666,
              "#ed7953"
             ],
             [
              0.7777777777777778,
              "#fb9f3a"
             ],
             [
              0.8888888888888888,
              "#fdca26"
             ],
             [
              1,
              "#f0f921"
             ]
            ],
            "type": "heatmapgl"
           }
          ],
          "histogram": [
           {
            "marker": {
             "pattern": {
              "fillmode": "overlay",
              "size": 10,
              "solidity": 0.2
             }
            },
            "type": "histogram"
           }
          ],
          "histogram2d": [
           {
            "colorbar": {
             "outlinewidth": 0,
             "ticks": ""
            },
            "colorscale": [
             [
              0,
              "#0d0887"
             ],
             [
              0.1111111111111111,
              "#46039f"
             ],
             [
              0.2222222222222222,
              "#7201a8"
             ],
             [
              0.3333333333333333,
              "#9c179e"
             ],
             [
              0.4444444444444444,
              "#bd3786"
             ],
             [
              0.5555555555555556,
              "#d8576b"
             ],
             [
              0.6666666666666666,
              "#ed7953"
             ],
             [
              0.7777777777777778,
              "#fb9f3a"
             ],
             [
              0.8888888888888888,
              "#fdca26"
             ],
             [
              1,
              "#f0f921"
             ]
            ],
            "type": "histogram2d"
           }
          ],
          "histogram2dcontour": [
           {
            "colorbar": {
             "outlinewidth": 0,
             "ticks": ""
            },
            "colorscale": [
             [
              0,
              "#0d0887"
             ],
             [
              0.1111111111111111,
              "#46039f"
             ],
             [
              0.2222222222222222,
              "#7201a8"
             ],
             [
              0.3333333333333333,
              "#9c179e"
             ],
             [
              0.4444444444444444,
              "#bd3786"
             ],
             [
              0.5555555555555556,
              "#d8576b"
             ],
             [
              0.6666666666666666,
              "#ed7953"
             ],
             [
              0.7777777777777778,
              "#fb9f3a"
             ],
             [
              0.8888888888888888,
              "#fdca26"
             ],
             [
              1,
              "#f0f921"
             ]
            ],
            "type": "histogram2dcontour"
           }
          ],
          "mesh3d": [
           {
            "colorbar": {
             "outlinewidth": 0,
             "ticks": ""
            },
            "type": "mesh3d"
           }
          ],
          "parcoords": [
           {
            "line": {
             "colorbar": {
              "outlinewidth": 0,
              "ticks": ""
             }
            },
            "type": "parcoords"
           }
          ],
          "pie": [
           {
            "automargin": true,
            "type": "pie"
           }
          ],
          "scatter": [
           {
            "fillpattern": {
             "fillmode": "overlay",
             "size": 10,
             "solidity": 0.2
            },
            "type": "scatter"
           }
          ],
          "scatter3d": [
           {
            "line": {
             "colorbar": {
              "outlinewidth": 0,
              "ticks": ""
             }
            },
            "marker": {
             "colorbar": {
              "outlinewidth": 0,
              "ticks": ""
             }
            },
            "type": "scatter3d"
           }
          ],
          "scattercarpet": [
           {
            "marker": {
             "colorbar": {
              "outlinewidth": 0,
              "ticks": ""
             }
            },
            "type": "scattercarpet"
           }
          ],
          "scattergeo": [
           {
            "marker": {
             "colorbar": {
              "outlinewidth": 0,
              "ticks": ""
             }
            },
            "type": "scattergeo"
           }
          ],
          "scattergl": [
           {
            "marker": {
             "colorbar": {
              "outlinewidth": 0,
              "ticks": ""
             }
            },
            "type": "scattergl"
           }
          ],
          "scattermapbox": [
           {
            "marker": {
             "colorbar": {
              "outlinewidth": 0,
              "ticks": ""
             }
            },
            "type": "scattermapbox"
           }
          ],
          "scatterpolar": [
           {
            "marker": {
             "colorbar": {
              "outlinewidth": 0,
              "ticks": ""
             }
            },
            "type": "scatterpolar"
           }
          ],
          "scatterpolargl": [
           {
            "marker": {
             "colorbar": {
              "outlinewidth": 0,
              "ticks": ""
             }
            },
            "type": "scatterpolargl"
           }
          ],
          "scatterternary": [
           {
            "marker": {
             "colorbar": {
              "outlinewidth": 0,
              "ticks": ""
             }
            },
            "type": "scatterternary"
           }
          ],
          "surface": [
           {
            "colorbar": {
             "outlinewidth": 0,
             "ticks": ""
            },
            "colorscale": [
             [
              0,
              "#0d0887"
             ],
             [
              0.1111111111111111,
              "#46039f"
             ],
             [
              0.2222222222222222,
              "#7201a8"
             ],
             [
              0.3333333333333333,
              "#9c179e"
             ],
             [
              0.4444444444444444,
              "#bd3786"
             ],
             [
              0.5555555555555556,
              "#d8576b"
             ],
             [
              0.6666666666666666,
              "#ed7953"
             ],
             [
              0.7777777777777778,
              "#fb9f3a"
             ],
             [
              0.8888888888888888,
              "#fdca26"
             ],
             [
              1,
              "#f0f921"
             ]
            ],
            "type": "surface"
           }
          ],
          "table": [
           {
            "cells": {
             "fill": {
              "color": "#EBF0F8"
             },
             "line": {
              "color": "white"
             }
            },
            "header": {
             "fill": {
              "color": "#C8D4E3"
             },
             "line": {
              "color": "white"
             }
            },
            "type": "table"
           }
          ]
         },
         "layout": {
          "annotationdefaults": {
           "arrowcolor": "#2a3f5f",
           "arrowhead": 0,
           "arrowwidth": 1
          },
          "autotypenumbers": "strict",
          "coloraxis": {
           "colorbar": {
            "outlinewidth": 0,
            "ticks": ""
           }
          },
          "colorscale": {
           "diverging": [
            [
             0,
             "#8e0152"
            ],
            [
             0.1,
             "#c51b7d"
            ],
            [
             0.2,
             "#de77ae"
            ],
            [
             0.3,
             "#f1b6da"
            ],
            [
             0.4,
             "#fde0ef"
            ],
            [
             0.5,
             "#f7f7f7"
            ],
            [
             0.6,
             "#e6f5d0"
            ],
            [
             0.7,
             "#b8e186"
            ],
            [
             0.8,
             "#7fbc41"
            ],
            [
             0.9,
             "#4d9221"
            ],
            [
             1,
             "#276419"
            ]
           ],
           "sequential": [
            [
             0,
             "#0d0887"
            ],
            [
             0.1111111111111111,
             "#46039f"
            ],
            [
             0.2222222222222222,
             "#7201a8"
            ],
            [
             0.3333333333333333,
             "#9c179e"
            ],
            [
             0.4444444444444444,
             "#bd3786"
            ],
            [
             0.5555555555555556,
             "#d8576b"
            ],
            [
             0.6666666666666666,
             "#ed7953"
            ],
            [
             0.7777777777777778,
             "#fb9f3a"
            ],
            [
             0.8888888888888888,
             "#fdca26"
            ],
            [
             1,
             "#f0f921"
            ]
           ],
           "sequentialminus": [
            [
             0,
             "#0d0887"
            ],
            [
             0.1111111111111111,
             "#46039f"
            ],
            [
             0.2222222222222222,
             "#7201a8"
            ],
            [
             0.3333333333333333,
             "#9c179e"
            ],
            [
             0.4444444444444444,
             "#bd3786"
            ],
            [
             0.5555555555555556,
             "#d8576b"
            ],
            [
             0.6666666666666666,
             "#ed7953"
            ],
            [
             0.7777777777777778,
             "#fb9f3a"
            ],
            [
             0.8888888888888888,
             "#fdca26"
            ],
            [
             1,
             "#f0f921"
            ]
           ]
          },
          "colorway": [
           "#636efa",
           "#EF553B",
           "#00cc96",
           "#ab63fa",
           "#FFA15A",
           "#19d3f3",
           "#FF6692",
           "#B6E880",
           "#FF97FF",
           "#FECB52"
          ],
          "font": {
           "color": "#2a3f5f"
          },
          "geo": {
           "bgcolor": "white",
           "lakecolor": "white",
           "landcolor": "#E5ECF6",
           "showlakes": true,
           "showland": true,
           "subunitcolor": "white"
          },
          "hoverlabel": {
           "align": "left"
          },
          "hovermode": "closest",
          "mapbox": {
           "style": "light"
          },
          "paper_bgcolor": "white",
          "plot_bgcolor": "#E5ECF6",
          "polar": {
           "angularaxis": {
            "gridcolor": "white",
            "linecolor": "white",
            "ticks": ""
           },
           "bgcolor": "#E5ECF6",
           "radialaxis": {
            "gridcolor": "white",
            "linecolor": "white",
            "ticks": ""
           }
          },
          "scene": {
           "xaxis": {
            "backgroundcolor": "#E5ECF6",
            "gridcolor": "white",
            "gridwidth": 2,
            "linecolor": "white",
            "showbackground": true,
            "ticks": "",
            "zerolinecolor": "white"
           },
           "yaxis": {
            "backgroundcolor": "#E5ECF6",
            "gridcolor": "white",
            "gridwidth": 2,
            "linecolor": "white",
            "showbackground": true,
            "ticks": "",
            "zerolinecolor": "white"
           },
           "zaxis": {
            "backgroundcolor": "#E5ECF6",
            "gridcolor": "white",
            "gridwidth": 2,
            "linecolor": "white",
            "showbackground": true,
            "ticks": "",
            "zerolinecolor": "white"
           }
          },
          "shapedefaults": {
           "line": {
            "color": "#2a3f5f"
           }
          },
          "ternary": {
           "aaxis": {
            "gridcolor": "white",
            "linecolor": "white",
            "ticks": ""
           },
           "baxis": {
            "gridcolor": "white",
            "linecolor": "white",
            "ticks": ""
           },
           "bgcolor": "#E5ECF6",
           "caxis": {
            "gridcolor": "white",
            "linecolor": "white",
            "ticks": ""
           }
          },
          "title": {
           "x": 0.05
          },
          "xaxis": {
           "automargin": true,
           "gridcolor": "white",
           "linecolor": "white",
           "ticks": "",
           "title": {
            "standoff": 15
           },
           "zerolinecolor": "white",
           "zerolinewidth": 2
          },
          "yaxis": {
           "automargin": true,
           "gridcolor": "white",
           "linecolor": "white",
           "ticks": "",
           "title": {
            "standoff": 15
           },
           "zerolinecolor": "white",
           "zerolinewidth": 2
          }
         }
        },
        "title": {
         "text": "Cumulative Budget Consumption epoch size 7"
        },
        "width": 1100,
        "xaxis": {
         "anchor": "y",
         "domain": [
          0,
          0.31999999999999995
         ],
         "title": {
          "text": "index"
         }
        },
        "xaxis2": {
         "anchor": "y2",
         "domain": [
          0.33999999999999997,
          0.6599999999999999
         ],
         "matches": "x",
         "title": {
          "text": "index"
         }
        },
        "xaxis3": {
         "anchor": "y3",
         "domain": [
          0.6799999999999999,
          0.9999999999999999
         ],
         "matches": "x",
         "title": {
          "text": "index"
         }
        },
        "yaxis": {
         "anchor": "x",
         "domain": [
          0,
          1
         ],
         "range": [
          0,
          1
         ],
         "title": {
          "text": "avg"
         }
        },
        "yaxis2": {
         "anchor": "x2",
         "domain": [
          0,
          1
         ],
         "matches": "y",
         "showticklabels": false
        },
        "yaxis3": {
         "anchor": "x3",
         "domain": [
          0,
          1
         ],
         "matches": "y",
         "showticklabels": false
        }
       }
      },
      "text/html": [
       "<div>                            <div id=\"75f20d35-91f3-4d3c-8972-56f6a615439f\" class=\"plotly-graph-div\" style=\"height:1000px; width:1100px;\"></div>            <script type=\"text/javascript\">                require([\"plotly\"], function(Plotly) {                    window.PLOTLYENV=window.PLOTLYENV || {};                                    if (document.getElementById(\"75f20d35-91f3-4d3c-8972-56f6a615439f\")) {                    Plotly.newPlot(                        \"75f20d35-91f3-4d3c-8972-56f6a615439f\",                        [{\"hovertemplate\":\"baseline=ipa\\u003cbr\\u003edestination=9FF55\\u003cbr\\u003eindex=%{x}\\u003cbr\\u003eavg=%{y}\\u003cextra\\u003e\\u003c\\u002fextra\\u003e\",\"legendgroup\":\"ipa\",\"line\":{\"color\":\"#636efa\",\"dash\":\"solid\"},\"marker\":{\"symbol\":\"circle\"},\"mode\":\"lines+markers\",\"name\":\"ipa\",\"orientation\":\"v\",\"showlegend\":true,\"x\":[10,25,41,58,82,102,122,126,137,144,146,147,159,171,174,184,196,224,231,239,243,246,257,258,269,283,286,292,308,319,325,334,335,345,362,366,369,370,398,400,411,430,442,448,462,467,472,473,482,489,494,511,513,518,527,540,557,558,565,568,591,601,604,607,611,617,626,636,644,654,656,665,680,688,693,694,715,717,726,727,728,736,759,760,761,762,763,764,765,766,767,768,769],\"xaxis\":\"x\",\"y\":[0.2558427881104496,0.2558427881104496,0.2558427881104496,0.2558427881104496,0.2558427881104496,0.2558427881104496,0.2558427881104496,0.2558427881104496,0.2558427881104496,0.2558427881104496,0.2558427881104496,0.2558427881104496,0.2558427881104496,0.2558427881104496,0.2558427881104496,0.2558427881104496,0.2558427881104496,0.2558427881104496,0.2558427881104496,0.2558427881104496,0.4385876367607707,0.4385876367607707,0.4385876367607707,0.4385876367607707,0.4385876367607707,0.4385876367607707,0.4385876367607707,0.4385876367607707,0.4385876367607707,0.4385876367607707,0.4385876367607707,0.4385876367607707,0.4385876367607707,0.4385876367607707,0.4385876367607707,0.4385876367607707,0.4385876367607707,0.4385876367607707,0.4385876367607707,0.4385876367607707,0.4385876367607707,0.4385876367607707,0.4385876367607707,0.4385876367607707,0.4385876367607707,0.4385876367607707,0.4385876367607707,0.4385876367607707,0.4385876367607707,0.4385876367607707,0.4385876367607707,0.4385876367607707,0.4385876367607707,0.4385876367607707,0.4385876367607707,0.4385876367607707,0.4385876367607707,0.4385876367607707,0.4385876367607707,0.4385876367607707,0.4385876367607707,0.4385876367607707,0.4385876367607707,0.4385876367607707,0.6213324854110919,0.6213324854110919,0.6213324854110919,0.6213324854110919,0.6213324854110919,0.6213324854110919,0.6213324854110919,0.6213324854110919,0.6213324854110919,0.6213324854110919,0.6213324854110919,0.6213324854110919,0.6213324854110919,0.6213324854110919,0.6213324854110919,0.6213324854110919,0.6213324854110919,0.6213324854110919,0.6213324854110919,0.6213324854110919,0.6213324854110919,0.6213324854110919,0.6213324854110919,0.6213324854110919,0.6213324854110919,0.6213324854110919,0.6213324854110919,0.6213324854110919,0.6213324854110919],\"yaxis\":\"y\",\"type\":\"scatter\"},{\"hovertemplate\":\"baseline=ipa\\u003cbr\\u003edestination=482E9\\u003cbr\\u003eindex=%{x}\\u003cbr\\u003eavg=%{y}\\u003cextra\\u003e\\u003c\\u002fextra\\u003e\",\"legendgroup\":\"ipa\",\"line\":{\"color\":\"#636efa\",\"dash\":\"solid\"},\"marker\":{\"symbol\":\"circle\"},\"mode\":\"lines+markers\",\"name\":\"ipa\",\"orientation\":\"v\",\"showlegend\":false,\"x\":[109,160,235,299,396,483,566,663],\"xaxis\":\"x2\",\"y\":[0.31327688340055054,0.31327688340055054,0.31327688340055054,0.31327688340055054,0.31327688340055054,0.31327688340055054,0.6787665807011928,0.6787665807011928],\"yaxis\":\"y2\",\"type\":\"scatter\"},{\"hovertemplate\":\"baseline=ipa\\u003cbr\\u003edestination=9D883\\u003cbr\\u003eindex=%{x}\\u003cbr\\u003eavg=%{y}\\u003cextra\\u003e\\u003c\\u002fextra\\u003e\",\"legendgroup\":\"ipa\",\"line\":{\"color\":\"#636efa\",\"dash\":\"solid\"},\"marker\":{\"symbol\":\"circle\"},\"mode\":\"lines+markers\",\"name\":\"ipa\",\"orientation\":\"v\",\"showlegend\":false,\"x\":[195,590],\"xaxis\":\"x3\",\"y\":[0.47298666709494885,0.47298666709494885],\"yaxis\":\"y3\",\"type\":\"scatter\"},{\"hovertemplate\":\"baseline=cookiemonster_base\\u003cbr\\u003edestination=9FF55\\u003cbr\\u003eindex=%{x}\\u003cbr\\u003eavg=%{y}\\u003cextra\\u003e\\u003c\\u002fextra\\u003e\",\"legendgroup\":\"cookiemonster_base\",\"line\":{\"color\":\"#EF553B\",\"dash\":\"solid\"},\"marker\":{\"symbol\":\"circle\"},\"mode\":\"lines+markers\",\"name\":\"cookiemonster_base\",\"orientation\":\"v\",\"showlegend\":true,\"x\":[10,25,41,58,82,102,122,126,137,144,146,147,159,171,174,184,196,224,231,239,243,246,257,258,269,283,286,292,308,319,325,334,335,345,362,366,369,370,398,400,411,430,442,448,462,467,472,473,482,489,494,511,513,518,527,540,557,558,565,568,591,601,604,607,611,617,626,636,644,654,656,665,680,688,693,694,715,717,726,727,728,736,759,760,761,762,763,764,765,766,767,768,769],\"xaxis\":\"x\",\"y\":[0.002913509724946794,0.005551850623524692,0.008445637849337174,0.011264797845857948,0.015200148544597817,0.020820751658414547,0.02527477839220767,0.026331517667517797,0.02973129870581313,0.032804980675037204,0.034166096658021256,0.034478520053949184,0.03754685367729779,0.04039005363500045,0.0412657858811622,0.042220698783917696,0.04532646578724543,0.051046711622466656,0.05167869830445396,0.05580459733434595,0.0563056575367436,0.05871095322802015,0.06163749269556637,0.062409411668027555,0.06486830429584302,0.0678197386141279,0.06844477318619747,0.0700202184841897,0.07301584169050648,0.07692392986058215,0.07962748771779661,0.08307618925081345,0.08320561343599209,0.08773436735166606,0.09070026755526749,0.09126831009331834,0.09172506944409026,0.09235871923434291,0.09739984562811653,0.09787640691988182,0.1001506292659785,0.10354495211012434,0.10600445525653103,0.10707921048395305,0.10988249142747517,0.11064786456596935,0.1126751619969507,0.11271780190548268,0.1152997227884623,0.11760315200877396,0.11956235510325657,0.12490884920806695,0.12540505379214292,0.12726849607164595,0.12883673498879253,0.1346390156626413,0.13671755440312405,0.1367723655252167,0.13858680144669713,0.1397921400551895,0.14457169566008843,0.14623052031135553,0.1480746380559799,0.15006602716845877,0.15315354440962045,0.1551937206450932,0.15663330325520392,0.15781142668106926,0.1602653421831226,0.16226170753820343,0.1625663612197691,0.16446027002906938,0.16795212680995825,0.16999562493161088,0.17282614483190456,0.17380999486266518,0.17722617526961773,0.17788668500269744,0.18103870524175208,0.18145519064363202,0.18300204953114166,0.18460804246456833,0.18489561117677558,0.18489561117677558,0.18489561117677558,0.18489561117677558,0.18489561117677558,0.18489561117677558,0.18489561117677558,0.18489561117677558,0.18489561117677558,0.18489561117677558,0.18489561117677558],\"yaxis\":\"y\",\"type\":\"scatter\"},{\"hovertemplate\":\"baseline=cookiemonster_base\\u003cbr\\u003edestination=482E9\\u003cbr\\u003eindex=%{x}\\u003cbr\\u003eavg=%{y}\\u003cextra\\u003e\\u003c\\u002fextra\\u003e\",\"legendgroup\":\"cookiemonster_base\",\"line\":{\"color\":\"#EF553B\",\"dash\":\"solid\"},\"marker\":{\"symbol\":\"circle\"},\"mode\":\"lines+markers\",\"name\":\"cookiemonster_base\",\"orientation\":\"v\",\"showlegend\":false,\"x\":[109,160,235,299,396,483,566,663],\"xaxis\":\"x2\",\"y\":[0.035605042793155454,0.07086872836069899,0.10562779889907878,0.14105474227017745,0.17425544286554667,0.20886609721887506,0.24426335735296084,0.279541884539008],\"yaxis\":\"y2\",\"type\":\"scatter\"},{\"hovertemplate\":\"baseline=cookiemonster_base\\u003cbr\\u003edestination=9D883\\u003cbr\\u003eindex=%{x}\\u003cbr\\u003eavg=%{y}\\u003cextra\\u003e\\u003c\\u002fextra\\u003e\",\"legendgroup\":\"cookiemonster_base\",\"line\":{\"color\":\"#EF553B\",\"dash\":\"solid\"},\"marker\":{\"symbol\":\"circle\"},\"mode\":\"lines+markers\",\"name\":\"cookiemonster_base\",\"orientation\":\"v\",\"showlegend\":false,\"x\":[195,590],\"xaxis\":\"x3\",\"y\":[0.1134690236717672,0.2277502466708711],\"yaxis\":\"y3\",\"type\":\"scatter\"},{\"hovertemplate\":\"baseline=cookiemonster\\u003cbr\\u003edestination=9FF55\\u003cbr\\u003eindex=%{x}\\u003cbr\\u003eavg=%{y}\\u003cextra\\u003e\\u003c\\u002fextra\\u003e\",\"legendgroup\":\"cookiemonster\",\"line\":{\"color\":\"#00cc96\",\"dash\":\"solid\"},\"marker\":{\"symbol\":\"circle\"},\"mode\":\"lines+markers\",\"name\":\"cookiemonster\",\"orientation\":\"v\",\"showlegend\":true,\"x\":[10,25,41,58,82,102,122,126,137,144,146,147,159,171,174,184,196,224,231,239,243,246,257,258,269,283,286,292,308,319,325,334,335,345,362,366,369,370,398,400,411,430,442,448,462,467,472,473,482,489,494,511,513,518,527,540,557,558,565,568,591,601,604,607,611,617,626,636,644,654,656,665,680,688,693,694,715,717,726,727,728,736,759,760,761,762,763,764,765,766,767,768,769],\"xaxis\":\"x\",\"y\":[0.0005530873296284065,0.0010834960654485884,0.0016098354906891675,0.0021737952770024102,0.0029227315074345597,0.003972840592549116,0.004861818901904889,0.005074993794370052,0.005764085189044725,0.006391976252191917,0.006627050584336579,0.006679121150324588,0.007206846935003082,0.007784622113559187,0.007961595600194668,0.008158972811656619,0.00879324766276268,0.009820557089633123,0.009949694982135231,0.010797073820606053,0.010900026417190104,0.011392047779863407,0.011988317897790505,0.012143615210984122,0.012613602336370799,0.013117690112596768,0.013223689578677957,0.013492933009576364,0.014086448838227579,0.01488450980886973,0.015435270086029067,0.01613323206094567,0.016159116897981374,0.016990934188789095,0.017511088083150616,0.01762743714686531,0.017721529573124232,0.01785100008727927,0.018889703671802725,0.01898775648626032,0.019432784868402178,0.02001220812294873,0.02049685043091001,0.020716369069901923,0.021290728039128962,0.02144837026033538,0.021862964933546693,0.021871492915253088,0.02239701227886396,0.02286622610463225,0.02325050943245197,0.02416854051277543,0.02426960846699361,0.02464960507250621,0.02497238804295067,0.026162351359824688,0.02659176188844398,0.026601810594160953,0.0269115247306862,0.02711972264838029,0.02805913443170484,0.02839729399286876,0.02877433921010717,0.029179011663513374,0.029811131410969822,0.030227388326377874,0.03050537758374452,0.030711780193772076,0.031140863522214256,0.031501453401790974,0.031562384138104055,0.03195304164308431,0.03267790504160879,0.03309875499271645,0.033679781585393954,0.03388294622245743,0.03451907865318051,0.03464686794516578,0.03529766583066454,0.03538285568864434,0.03570237498061474,0.03600871692441572,0.03606815611611108,0.03606815611611108,0.03606815611611108,0.03606815611611108,0.03606815611611108,0.03606815611611108,0.03606815611611108,0.03606815611611108,0.03606815611611108,0.03606815611611108,0.03606815611611108],\"yaxis\":\"y\",\"type\":\"scatter\"},{\"hovertemplate\":\"baseline=cookiemonster\\u003cbr\\u003edestination=482E9\\u003cbr\\u003eindex=%{x}\\u003cbr\\u003eavg=%{y}\\u003cextra\\u003e\\u003c\\u002fextra\\u003e\",\"legendgroup\":\"cookiemonster\",\"line\":{\"color\":\"#00cc96\",\"dash\":\"solid\"},\"marker\":{\"symbol\":\"circle\"},\"mode\":\"lines+markers\",\"name\":\"cookiemonster\",\"orientation\":\"v\",\"showlegend\":false,\"x\":[109,160,235,299,396,483,566,663],\"xaxis\":\"x2\",\"y\":[0.0067232531827008364,0.01359492255045006,0.02049627515520901,0.02735310290445338,0.03443255493127063,0.04142295724705872,0.04830946823331487,0.05535923702312444],\"yaxis\":\"y2\",\"type\":\"scatter\"},{\"hovertemplate\":\"baseline=cookiemonster\\u003cbr\\u003edestination=9D883\\u003cbr\\u003eindex=%{x}\\u003cbr\\u003eavg=%{y}\\u003cextra\\u003e\\u003c\\u002fextra\\u003e\",\"legendgroup\":\"cookiemonster\",\"line\":{\"color\":\"#00cc96\",\"dash\":\"solid\"},\"marker\":{\"symbol\":\"circle\"},\"mode\":\"lines+markers\",\"name\":\"cookiemonster\",\"orientation\":\"v\",\"showlegend\":false,\"x\":[195,590],\"xaxis\":\"x3\",\"y\":[0.021642723251920366,0.04371543438301736],\"yaxis\":\"y3\",\"type\":\"scatter\"}],                        {\"annotations\":[{\"showarrow\":false,\"text\":\"destination=9FF55\",\"x\":0.15999999999999998,\"xanchor\":\"center\",\"xref\":\"paper\",\"y\":1.0,\"yanchor\":\"bottom\",\"yref\":\"paper\"},{\"showarrow\":false,\"text\":\"destination=482E9\",\"x\":0.49999999999999994,\"xanchor\":\"center\",\"xref\":\"paper\",\"y\":1.0,\"yanchor\":\"bottom\",\"yref\":\"paper\"},{\"showarrow\":false,\"text\":\"destination=9D883\",\"x\":0.8399999999999999,\"xanchor\":\"center\",\"xref\":\"paper\",\"y\":1.0,\"yanchor\":\"bottom\",\"yref\":\"paper\"}],\"height\":1000,\"legend\":{\"title\":{\"text\":\"baseline\"},\"tracegroupgap\":0},\"template\":{\"data\":{\"barpolar\":[{\"marker\":{\"line\":{\"color\":\"#E5ECF6\",\"width\":0.5},\"pattern\":{\"fillmode\":\"overlay\",\"size\":10,\"solidity\":0.2}},\"type\":\"barpolar\"}],\"bar\":[{\"error_x\":{\"color\":\"#2a3f5f\"},\"error_y\":{\"color\":\"#2a3f5f\"},\"marker\":{\"line\":{\"color\":\"#E5ECF6\",\"width\":0.5},\"pattern\":{\"fillmode\":\"overlay\",\"size\":10,\"solidity\":0.2}},\"type\":\"bar\"}],\"carpet\":[{\"aaxis\":{\"endlinecolor\":\"#2a3f5f\",\"gridcolor\":\"white\",\"linecolor\":\"white\",\"minorgridcolor\":\"white\",\"startlinecolor\":\"#2a3f5f\"},\"baxis\":{\"endlinecolor\":\"#2a3f5f\",\"gridcolor\":\"white\",\"linecolor\":\"white\",\"minorgridcolor\":\"white\",\"startlinecolor\":\"#2a3f5f\"},\"type\":\"carpet\"}],\"choropleth\":[{\"colorbar\":{\"outlinewidth\":0,\"ticks\":\"\"},\"type\":\"choropleth\"}],\"contourcarpet\":[{\"colorbar\":{\"outlinewidth\":0,\"ticks\":\"\"},\"type\":\"contourcarpet\"}],\"contour\":[{\"colorbar\":{\"outlinewidth\":0,\"ticks\":\"\"},\"colorscale\":[[0.0,\"#0d0887\"],[0.1111111111111111,\"#46039f\"],[0.2222222222222222,\"#7201a8\"],[0.3333333333333333,\"#9c179e\"],[0.4444444444444444,\"#bd3786\"],[0.5555555555555556,\"#d8576b\"],[0.6666666666666666,\"#ed7953\"],[0.7777777777777778,\"#fb9f3a\"],[0.8888888888888888,\"#fdca26\"],[1.0,\"#f0f921\"]],\"type\":\"contour\"}],\"heatmapgl\":[{\"colorbar\":{\"outlinewidth\":0,\"ticks\":\"\"},\"colorscale\":[[0.0,\"#0d0887\"],[0.1111111111111111,\"#46039f\"],[0.2222222222222222,\"#7201a8\"],[0.3333333333333333,\"#9c179e\"],[0.4444444444444444,\"#bd3786\"],[0.5555555555555556,\"#d8576b\"],[0.6666666666666666,\"#ed7953\"],[0.7777777777777778,\"#fb9f3a\"],[0.8888888888888888,\"#fdca26\"],[1.0,\"#f0f921\"]],\"type\":\"heatmapgl\"}],\"heatmap\":[{\"colorbar\":{\"outlinewidth\":0,\"ticks\":\"\"},\"colorscale\":[[0.0,\"#0d0887\"],[0.1111111111111111,\"#46039f\"],[0.2222222222222222,\"#7201a8\"],[0.3333333333333333,\"#9c179e\"],[0.4444444444444444,\"#bd3786\"],[0.5555555555555556,\"#d8576b\"],[0.6666666666666666,\"#ed7953\"],[0.7777777777777778,\"#fb9f3a\"],[0.8888888888888888,\"#fdca26\"],[1.0,\"#f0f921\"]],\"type\":\"heatmap\"}],\"histogram2dcontour\":[{\"colorbar\":{\"outlinewidth\":0,\"ticks\":\"\"},\"colorscale\":[[0.0,\"#0d0887\"],[0.1111111111111111,\"#46039f\"],[0.2222222222222222,\"#7201a8\"],[0.3333333333333333,\"#9c179e\"],[0.4444444444444444,\"#bd3786\"],[0.5555555555555556,\"#d8576b\"],[0.6666666666666666,\"#ed7953\"],[0.7777777777777778,\"#fb9f3a\"],[0.8888888888888888,\"#fdca26\"],[1.0,\"#f0f921\"]],\"type\":\"histogram2dcontour\"}],\"histogram2d\":[{\"colorbar\":{\"outlinewidth\":0,\"ticks\":\"\"},\"colorscale\":[[0.0,\"#0d0887\"],[0.1111111111111111,\"#46039f\"],[0.2222222222222222,\"#7201a8\"],[0.3333333333333333,\"#9c179e\"],[0.4444444444444444,\"#bd3786\"],[0.5555555555555556,\"#d8576b\"],[0.6666666666666666,\"#ed7953\"],[0.7777777777777778,\"#fb9f3a\"],[0.8888888888888888,\"#fdca26\"],[1.0,\"#f0f921\"]],\"type\":\"histogram2d\"}],\"histogram\":[{\"marker\":{\"pattern\":{\"fillmode\":\"overlay\",\"size\":10,\"solidity\":0.2}},\"type\":\"histogram\"}],\"mesh3d\":[{\"colorbar\":{\"outlinewidth\":0,\"ticks\":\"\"},\"type\":\"mesh3d\"}],\"parcoords\":[{\"line\":{\"colorbar\":{\"outlinewidth\":0,\"ticks\":\"\"}},\"type\":\"parcoords\"}],\"pie\":[{\"automargin\":true,\"type\":\"pie\"}],\"scatter3d\":[{\"line\":{\"colorbar\":{\"outlinewidth\":0,\"ticks\":\"\"}},\"marker\":{\"colorbar\":{\"outlinewidth\":0,\"ticks\":\"\"}},\"type\":\"scatter3d\"}],\"scattercarpet\":[{\"marker\":{\"colorbar\":{\"outlinewidth\":0,\"ticks\":\"\"}},\"type\":\"scattercarpet\"}],\"scattergeo\":[{\"marker\":{\"colorbar\":{\"outlinewidth\":0,\"ticks\":\"\"}},\"type\":\"scattergeo\"}],\"scattergl\":[{\"marker\":{\"colorbar\":{\"outlinewidth\":0,\"ticks\":\"\"}},\"type\":\"scattergl\"}],\"scattermapbox\":[{\"marker\":{\"colorbar\":{\"outlinewidth\":0,\"ticks\":\"\"}},\"type\":\"scattermapbox\"}],\"scatterpolargl\":[{\"marker\":{\"colorbar\":{\"outlinewidth\":0,\"ticks\":\"\"}},\"type\":\"scatterpolargl\"}],\"scatterpolar\":[{\"marker\":{\"colorbar\":{\"outlinewidth\":0,\"ticks\":\"\"}},\"type\":\"scatterpolar\"}],\"scatter\":[{\"fillpattern\":{\"fillmode\":\"overlay\",\"size\":10,\"solidity\":0.2},\"type\":\"scatter\"}],\"scatterternary\":[{\"marker\":{\"colorbar\":{\"outlinewidth\":0,\"ticks\":\"\"}},\"type\":\"scatterternary\"}],\"surface\":[{\"colorbar\":{\"outlinewidth\":0,\"ticks\":\"\"},\"colorscale\":[[0.0,\"#0d0887\"],[0.1111111111111111,\"#46039f\"],[0.2222222222222222,\"#7201a8\"],[0.3333333333333333,\"#9c179e\"],[0.4444444444444444,\"#bd3786\"],[0.5555555555555556,\"#d8576b\"],[0.6666666666666666,\"#ed7953\"],[0.7777777777777778,\"#fb9f3a\"],[0.8888888888888888,\"#fdca26\"],[1.0,\"#f0f921\"]],\"type\":\"surface\"}],\"table\":[{\"cells\":{\"fill\":{\"color\":\"#EBF0F8\"},\"line\":{\"color\":\"white\"}},\"header\":{\"fill\":{\"color\":\"#C8D4E3\"},\"line\":{\"color\":\"white\"}},\"type\":\"table\"}]},\"layout\":{\"annotationdefaults\":{\"arrowcolor\":\"#2a3f5f\",\"arrowhead\":0,\"arrowwidth\":1},\"autotypenumbers\":\"strict\",\"coloraxis\":{\"colorbar\":{\"outlinewidth\":0,\"ticks\":\"\"}},\"colorscale\":{\"diverging\":[[0,\"#8e0152\"],[0.1,\"#c51b7d\"],[0.2,\"#de77ae\"],[0.3,\"#f1b6da\"],[0.4,\"#fde0ef\"],[0.5,\"#f7f7f7\"],[0.6,\"#e6f5d0\"],[0.7,\"#b8e186\"],[0.8,\"#7fbc41\"],[0.9,\"#4d9221\"],[1,\"#276419\"]],\"sequential\":[[0.0,\"#0d0887\"],[0.1111111111111111,\"#46039f\"],[0.2222222222222222,\"#7201a8\"],[0.3333333333333333,\"#9c179e\"],[0.4444444444444444,\"#bd3786\"],[0.5555555555555556,\"#d8576b\"],[0.6666666666666666,\"#ed7953\"],[0.7777777777777778,\"#fb9f3a\"],[0.8888888888888888,\"#fdca26\"],[1.0,\"#f0f921\"]],\"sequentialminus\":[[0.0,\"#0d0887\"],[0.1111111111111111,\"#46039f\"],[0.2222222222222222,\"#7201a8\"],[0.3333333333333333,\"#9c179e\"],[0.4444444444444444,\"#bd3786\"],[0.5555555555555556,\"#d8576b\"],[0.6666666666666666,\"#ed7953\"],[0.7777777777777778,\"#fb9f3a\"],[0.8888888888888888,\"#fdca26\"],[1.0,\"#f0f921\"]]},\"colorway\":[\"#636efa\",\"#EF553B\",\"#00cc96\",\"#ab63fa\",\"#FFA15A\",\"#19d3f3\",\"#FF6692\",\"#B6E880\",\"#FF97FF\",\"#FECB52\"],\"font\":{\"color\":\"#2a3f5f\"},\"geo\":{\"bgcolor\":\"white\",\"lakecolor\":\"white\",\"landcolor\":\"#E5ECF6\",\"showlakes\":true,\"showland\":true,\"subunitcolor\":\"white\"},\"hoverlabel\":{\"align\":\"left\"},\"hovermode\":\"closest\",\"mapbox\":{\"style\":\"light\"},\"paper_bgcolor\":\"white\",\"plot_bgcolor\":\"#E5ECF6\",\"polar\":{\"angularaxis\":{\"gridcolor\":\"white\",\"linecolor\":\"white\",\"ticks\":\"\"},\"bgcolor\":\"#E5ECF6\",\"radialaxis\":{\"gridcolor\":\"white\",\"linecolor\":\"white\",\"ticks\":\"\"}},\"scene\":{\"xaxis\":{\"backgroundcolor\":\"#E5ECF6\",\"gridcolor\":\"white\",\"gridwidth\":2,\"linecolor\":\"white\",\"showbackground\":true,\"ticks\":\"\",\"zerolinecolor\":\"white\"},\"yaxis\":{\"backgroundcolor\":\"#E5ECF6\",\"gridcolor\":\"white\",\"gridwidth\":2,\"linecolor\":\"white\",\"showbackground\":true,\"ticks\":\"\",\"zerolinecolor\":\"white\"},\"zaxis\":{\"backgroundcolor\":\"#E5ECF6\",\"gridcolor\":\"white\",\"gridwidth\":2,\"linecolor\":\"white\",\"showbackground\":true,\"ticks\":\"\",\"zerolinecolor\":\"white\"}},\"shapedefaults\":{\"line\":{\"color\":\"#2a3f5f\"}},\"ternary\":{\"aaxis\":{\"gridcolor\":\"white\",\"linecolor\":\"white\",\"ticks\":\"\"},\"baxis\":{\"gridcolor\":\"white\",\"linecolor\":\"white\",\"ticks\":\"\"},\"bgcolor\":\"#E5ECF6\",\"caxis\":{\"gridcolor\":\"white\",\"linecolor\":\"white\",\"ticks\":\"\"}},\"title\":{\"x\":0.05},\"xaxis\":{\"automargin\":true,\"gridcolor\":\"white\",\"linecolor\":\"white\",\"ticks\":\"\",\"title\":{\"standoff\":15},\"zerolinecolor\":\"white\",\"zerolinewidth\":2},\"yaxis\":{\"automargin\":true,\"gridcolor\":\"white\",\"linecolor\":\"white\",\"ticks\":\"\",\"title\":{\"standoff\":15},\"zerolinecolor\":\"white\",\"zerolinewidth\":2}}},\"title\":{\"text\":\"Cumulative Budget Consumption epoch size 7\"},\"width\":1100,\"xaxis\":{\"anchor\":\"y\",\"domain\":[0.0,0.31999999999999995],\"title\":{\"text\":\"index\"}},\"yaxis\":{\"anchor\":\"x\",\"domain\":[0.0,1.0],\"range\":[0,1],\"title\":{\"text\":\"avg\"}},\"xaxis2\":{\"anchor\":\"y2\",\"domain\":[0.33999999999999997,0.6599999999999999],\"matches\":\"x\",\"title\":{\"text\":\"index\"}},\"yaxis2\":{\"anchor\":\"x2\",\"domain\":[0.0,1.0],\"matches\":\"y\",\"showticklabels\":false},\"xaxis3\":{\"anchor\":\"y3\",\"domain\":[0.6799999999999999,0.9999999999999999],\"matches\":\"x\",\"title\":{\"text\":\"index\"}},\"yaxis3\":{\"anchor\":\"x3\",\"domain\":[0.0,1.0],\"matches\":\"y\",\"showticklabels\":false}},                        {\"responsive\": true}                    ).then(function(){\n",
       "                            \n",
       "var gd = document.getElementById('75f20d35-91f3-4d3c-8972-56f6a615439f');\n",
       "var x = new MutationObserver(function (mutations, observer) {{\n",
       "        var display = window.getComputedStyle(gd).display;\n",
       "        if (!display || display === 'none') {{\n",
       "            console.log([gd, 'removed!']);\n",
       "            Plotly.purge(gd);\n",
       "            observer.disconnect();\n",
       "        }}\n",
       "}});\n",
       "\n",
       "// Listen for the removal of the full notebook cells\n",
       "var notebookContainer = gd.closest('#notebook-container');\n",
       "if (notebookContainer) {{\n",
       "    x.observe(notebookContainer, {childList: true});\n",
       "}}\n",
       "\n",
       "// Listen for the clearing of the current output cell\n",
       "var outputEl = gd.closest('.output');\n",
       "if (outputEl) {{\n",
       "    x.observe(outputEl, {childList: true});\n",
       "}}\n",
       "\n",
       "                        })                };                });            </script>        </div>"
      ]
     },
     "metadata": {},
     "output_type": "display_data"
    }
   ],
   "source": [
    "\n",
    "u.plot_budget_consumption_lines(\n",
    "    path,\n",
    "    epoch_size=7,\n",
    "    by_destination=True,\n",
    "    extra_df_prep=extra_df_prep\n",
    ")"
   ]
  },
  {
   "cell_type": "code",
   "execution_count": 23,
   "metadata": {},
   "outputs": [],
   "source": [
    "# augmented path\n",
    "path = \"ray/criteo/one_tenth_augment/augmented_bias_varying_epoch_size\""
   ]
  },
  {
   "cell_type": "code",
   "execution_count": 24,
   "metadata": {},
   "outputs": [],
   "source": [
    "# u.plot_rmsre_boxes(path, log_y=True, category_orders={\"num_days_per_epoch\": [1, 7, 14, 21, 30, 60, 90]})"
   ]
  },
  {
   "cell_type": "code",
   "execution_count": 25,
   "metadata": {},
   "outputs": [],
   "source": [
    "# u.plot_budget_consumption_cdf(path, epoch_size=7)"
   ]
  },
  {
   "cell_type": "code",
   "execution_count": 26,
   "metadata": {},
   "outputs": [
    {
     "data": {
      "application/vnd.plotly.v1+json": {
       "config": {
        "linkText": "Export to plot.ly",
        "plotlyServerURL": "https://plot.ly",
        "showLink": false
       },
       "data": [
        {
         "hovertemplate": "baseline=ipa<br>destination=9FF55<br>index=%{x}<br>max_max=%{y}<extra></extra>",
         "legendgroup": "ipa",
         "line": {
          "color": "#636efa",
          "dash": "solid"
         },
         "marker": {
          "symbol": "circle"
         },
         "mode": "lines+markers",
         "name": "ipa",
         "orientation": "v",
         "showlegend": true,
         "type": "scatter",
         "x": [
          10,
          25,
          41,
          58,
          82,
          102,
          122,
          126,
          137,
          144,
          146,
          147,
          159,
          171,
          174,
          184,
          196,
          224,
          231,
          239,
          243,
          246,
          257,
          258,
          269,
          283,
          286,
          292,
          308,
          319,
          325,
          334,
          335,
          345,
          362,
          366,
          369,
          370,
          398,
          400,
          411,
          430,
          442,
          448,
          462,
          467,
          472,
          473,
          482,
          489,
          494,
          511,
          513,
          518,
          527,
          540,
          557,
          558,
          565,
          568,
          591,
          601,
          604,
          607,
          611,
          617,
          626,
          636,
          644,
          654,
          656,
          665,
          680,
          688,
          693,
          694,
          715,
          717,
          726,
          727,
          728,
          736,
          759,
          760,
          761,
          762,
          763,
          764,
          765,
          766,
          767,
          768,
          769
         ],
         "xaxis": "x",
         "y": [
          0.7309793946012845,
          0.7309793946012845,
          0.7309793946012845,
          0.7309793946012845,
          0.7309793946012845,
          0.7309793946012845,
          0.7309793946012845,
          0.7309793946012845,
          0.7309793946012845,
          0.7309793946012845,
          0.7309793946012845,
          0.7309793946012845,
          0.7309793946012845,
          0.7309793946012845,
          0.7309793946012845,
          0.7309793946012845,
          0.7309793946012845,
          0.7309793946012845,
          0.7309793946012845,
          0.7309793946012845,
          0.7309793946012845,
          0.7309793946012845,
          0.7309793946012845,
          0.7309793946012845,
          0.7309793946012845,
          0.7309793946012845,
          0.7309793946012845,
          0.7309793946012845,
          0.7309793946012845,
          0.7309793946012845,
          0.7309793946012845,
          0.7309793946012845,
          0.7309793946012845,
          0.7309793946012845,
          0.7309793946012845,
          0.7309793946012845,
          0.7309793946012845,
          0.7309793946012845,
          0.7309793946012845,
          0.7309793946012845,
          0.7309793946012845,
          0.7309793946012845,
          0.7309793946012845,
          0.7309793946012845,
          0.7309793946012845,
          0.7309793946012845,
          0.7309793946012845,
          0.7309793946012845,
          0.7309793946012845,
          0.7309793946012845,
          0.7309793946012845,
          0.7309793946012845,
          0.7309793946012845,
          0.7309793946012845,
          0.7309793946012845,
          0.7309793946012845,
          0.7309793946012845,
          0.7309793946012845,
          0.7309793946012845,
          0.7309793946012845,
          0.7309793946012845,
          0.7309793946012845,
          0.7309793946012845,
          0.7309793946012845,
          0.7309793946012845,
          0.7309793946012845,
          0.7309793946012845,
          0.7309793946012845,
          0.7309793946012845,
          0.7309793946012845,
          0.7309793946012845,
          0.7309793946012845,
          0.7309793946012845,
          0.7309793946012845,
          0.7309793946012845,
          0.7309793946012845,
          0.7309793946012845,
          0.7309793946012845,
          0.7309793946012845,
          0.7309793946012845,
          0.7309793946012845,
          0.7309793946012845,
          0.7309793946012845,
          0.7309793946012845,
          0.7309793946012845,
          0.7309793946012845,
          0.7309793946012845,
          0.7309793946012845,
          0.7309793946012845,
          0.7309793946012845,
          0.7309793946012845,
          0.7309793946012845,
          0.7309793946012845
         ],
         "yaxis": "y"
        },
        {
         "hovertemplate": "baseline=ipa<br>destination=482E9<br>index=%{x}<br>max_max=%{y}<extra></extra>",
         "legendgroup": "ipa",
         "line": {
          "color": "#636efa",
          "dash": "solid"
         },
         "marker": {
          "symbol": "circle"
         },
         "mode": "lines+markers",
         "name": "ipa",
         "orientation": "v",
         "showlegend": false,
         "type": "scatter",
         "x": [
          109,
          160,
          235,
          299,
          396,
          483,
          566,
          663
         ],
         "xaxis": "x2",
         "y": [
          0.7309793946012845,
          0.7309793946012845,
          0.7309793946012845,
          0.7309793946012845,
          0.7309793946012845,
          0.7309793946012845,
          0.7309793946012845,
          0.7309793946012845
         ],
         "yaxis": "y2"
        },
        {
         "hovertemplate": "baseline=ipa<br>destination=9D883<br>index=%{x}<br>max_max=%{y}<extra></extra>",
         "legendgroup": "ipa",
         "line": {
          "color": "#636efa",
          "dash": "solid"
         },
         "marker": {
          "symbol": "circle"
         },
         "mode": "lines+markers",
         "name": "ipa",
         "orientation": "v",
         "showlegend": false,
         "type": "scatter",
         "x": [
          195,
          590
         ],
         "xaxis": "x3",
         "y": [
          0.7309793946012845,
          0.7309793946012845
         ],
         "yaxis": "y3"
        },
        {
         "hovertemplate": "baseline=cookiemonster_base<br>destination=9FF55<br>index=%{x}<br>max_max=%{y}<extra></extra>",
         "legendgroup": "cookiemonster_base",
         "line": {
          "color": "#EF553B",
          "dash": "solid"
         },
         "marker": {
          "symbol": "circle"
         },
         "mode": "lines+markers",
         "name": "cookiemonster_base",
         "orientation": "v",
         "showlegend": true,
         "type": "scatter",
         "x": [
          10,
          25,
          41,
          58,
          82,
          102,
          122,
          126,
          137,
          144,
          146,
          147,
          159,
          171,
          174,
          184,
          196,
          224,
          231,
          239,
          243,
          246,
          257,
          258,
          269,
          283,
          286,
          292,
          308,
          319,
          325,
          334,
          335,
          345,
          362,
          366,
          369,
          370,
          398,
          400,
          411,
          430,
          442,
          448,
          462,
          467,
          472,
          473,
          482,
          489,
          494,
          511,
          513,
          518,
          527,
          540,
          557,
          558,
          565,
          568,
          591,
          601,
          604,
          607,
          611,
          617,
          626,
          636,
          644,
          654,
          656,
          665,
          680,
          688,
          693,
          694,
          715,
          717,
          726,
          727,
          728,
          736,
          759,
          760,
          761,
          762,
          763,
          764,
          765,
          766,
          767,
          768,
          769
         ],
         "xaxis": "x",
         "y": [
          0.9967900835472062,
          0.9967900835472062,
          0.9967900835472062,
          0.9967900835472062,
          0.9967900835472062,
          0.9967900835472062,
          0.9967900835472062,
          0.9967900835472062,
          0.9967900835472062,
          0.9967900835472062,
          0.9967900835472062,
          0.9967900835472062,
          0.9967900835472062,
          0.9967900835472062,
          0.9967900835472062,
          0.9967900835472062,
          0.9967900835472062,
          0.9967900835472062,
          0.9967900835472062,
          0.9967900835472062,
          0.9967900835472062,
          0.9967900835472062,
          0.9967900835472062,
          0.9967900835472062,
          0.9967900835472062,
          0.9967900835472062,
          0.9967900835472062,
          0.9967900835472062,
          0.9967900835472062,
          0.9967900835472062,
          0.9967900835472062,
          0.9967900835472062,
          0.9967900835472062,
          0.9967900835472062,
          0.9967900835472062,
          0.9967900835472062,
          0.9967900835472062,
          0.9967900835472062,
          0.9967900835472062,
          0.9967900835472062,
          0.9967900835472062,
          0.9967900835472062,
          0.9967900835472062,
          0.9967900835472062,
          0.9967900835472062,
          0.9967900835472062,
          0.9967900835472062,
          0.9967900835472062,
          0.9967900835472062,
          0.9967900835472062,
          0.9967900835472062,
          0.9967900835472062,
          0.9967900835472062,
          0.9967900835472062,
          0.9967900835472062,
          0.9967900835472062,
          0.9967900835472062,
          0.9967900835472062,
          0.9967900835472062,
          0.9967900835472062,
          0.9967900835472062,
          0.9967900835472062,
          0.9967900835472062,
          0.9967900835472062,
          0.9967900835472062,
          0.9967900835472062,
          0.9967900835472062,
          0.9967900835472062,
          0.9967900835472062,
          0.9967900835472062,
          0.9967900835472062,
          0.9967900835472062,
          0.9967900835472062,
          0.9967900835472062,
          0.9967900835472062,
          0.9967900835472062,
          0.9967900835472062,
          0.9967900835472062,
          0.9967900835472062,
          0.9967900835472062,
          0.9967900835472062,
          0.9967900835472062,
          0.9967900835472062,
          0.9967900835472062,
          0.9967900835472062,
          0.9967900835472062,
          0.9967900835472062,
          0.9967900835472062,
          0.9967900835472062,
          0.9967900835472062,
          0.9967900835472062,
          0.9967900835472062,
          0.9967900835472062
         ],
         "yaxis": "y"
        },
        {
         "hovertemplate": "baseline=cookiemonster_base<br>destination=482E9<br>index=%{x}<br>max_max=%{y}<extra></extra>",
         "legendgroup": "cookiemonster_base",
         "line": {
          "color": "#EF553B",
          "dash": "solid"
         },
         "marker": {
          "symbol": "circle"
         },
         "mode": "lines+markers",
         "name": "cookiemonster_base",
         "orientation": "v",
         "showlegend": false,
         "type": "scatter",
         "x": [
          109,
          160,
          235,
          299,
          396,
          483,
          566,
          663
         ],
         "xaxis": "x2",
         "y": [
          0.7309793946012845,
          0.7309793946012845,
          0.7309793946012845,
          0.7309793946012845,
          0.7309793946012845,
          0.7309793946012845,
          0.7309793946012845,
          0.7309793946012845
         ],
         "yaxis": "y2"
        },
        {
         "hovertemplate": "baseline=cookiemonster_base<br>destination=9D883<br>index=%{x}<br>max_max=%{y}<extra></extra>",
         "legendgroup": "cookiemonster_base",
         "line": {
          "color": "#EF553B",
          "dash": "solid"
         },
         "marker": {
          "symbol": "circle"
         },
         "mode": "lines+markers",
         "name": "cookiemonster_base",
         "orientation": "v",
         "showlegend": false,
         "type": "scatter",
         "x": [
          195,
          590
         ],
         "xaxis": "x3",
         "y": [
          0.7309793946012845,
          0.7309793946012845
         ],
         "yaxis": "y3"
        },
        {
         "hovertemplate": "baseline=cookiemonster<br>destination=9FF55<br>index=%{x}<br>max_max=%{y}<extra></extra>",
         "legendgroup": "cookiemonster",
         "line": {
          "color": "#00cc96",
          "dash": "solid"
         },
         "marker": {
          "symbol": "circle"
         },
         "mode": "lines+markers",
         "name": "cookiemonster",
         "orientation": "v",
         "showlegend": true,
         "type": "scatter",
         "x": [
          10,
          25,
          41,
          58,
          82,
          102,
          122,
          126,
          137,
          144,
          146,
          147,
          159,
          171,
          174,
          184,
          196,
          224,
          231,
          239,
          243,
          246,
          257,
          258,
          269,
          283,
          286,
          292,
          308,
          319,
          325,
          334,
          335,
          345,
          362,
          366,
          369,
          370,
          398,
          400,
          411,
          430,
          442,
          448,
          462,
          467,
          472,
          473,
          482,
          489,
          494,
          511,
          513,
          518,
          527,
          540,
          557,
          558,
          565,
          568,
          591,
          601,
          604,
          607,
          611,
          617,
          626,
          636,
          644,
          654,
          656,
          665,
          680,
          688,
          693,
          694,
          715,
          717,
          726,
          727,
          728,
          736,
          759,
          760,
          761,
          762,
          763,
          764,
          765,
          766,
          767,
          768,
          769
         ],
         "xaxis": "x",
         "y": [
          0.9967900835472062,
          0.9967900835472062,
          0.9967900835472062,
          0.9967900835472062,
          0.9967900835472062,
          0.9967900835472062,
          0.9967900835472062,
          0.9967900835472062,
          0.9967900835472062,
          0.9967900835472062,
          0.9967900835472062,
          0.9967900835472062,
          0.9967900835472062,
          0.9967900835472062,
          0.9967900835472062,
          0.9967900835472062,
          0.9967900835472062,
          0.9967900835472062,
          0.9967900835472062,
          0.9967900835472062,
          0.9967900835472062,
          0.9967900835472062,
          0.9967900835472062,
          0.9967900835472062,
          0.9967900835472062,
          0.9967900835472062,
          0.9967900835472062,
          0.9967900835472062,
          0.9967900835472062,
          0.9967900835472062,
          0.9967900835472062,
          0.9967900835472062,
          0.9967900835472062,
          0.9967900835472062,
          0.9967900835472062,
          0.9967900835472062,
          0.9967900835472062,
          0.9967900835472062,
          0.9967900835472062,
          0.9967900835472062,
          0.9967900835472062,
          0.9967900835472062,
          0.9967900835472062,
          0.9967900835472062,
          0.9967900835472062,
          0.9967900835472062,
          0.9967900835472062,
          0.9967900835472062,
          0.9967900835472062,
          0.9967900835472062,
          0.9967900835472062,
          0.9967900835472062,
          0.9967900835472062,
          0.9967900835472062,
          0.9967900835472062,
          0.9967900835472062,
          0.9967900835472062,
          0.9967900835472062,
          0.9967900835472062,
          0.9967900835472062,
          0.9967900835472062,
          0.9967900835472062,
          0.9967900835472062,
          0.9967900835472062,
          0.9967900835472062,
          0.9967900835472062,
          0.9967900835472062,
          0.9967900835472062,
          0.9967900835472062,
          0.9967900835472062,
          0.9967900835472062,
          0.9967900835472062,
          0.9967900835472062,
          0.9967900835472062,
          0.9967900835472062,
          0.9967900835472062,
          0.9967900835472062,
          0.9967900835472062,
          0.9967900835472062,
          0.9967900835472062,
          0.9967900835472062,
          0.9967900835472062,
          0.9967900835472062,
          0.9967900835472062,
          0.9967900835472062,
          0.9967900835472062,
          0.9967900835472062,
          0.9967900835472062,
          0.9967900835472062,
          0.9967900835472062,
          0.9967900835472062,
          0.9967900835472062,
          0.9967900835472062
         ],
         "yaxis": "y"
        },
        {
         "hovertemplate": "baseline=cookiemonster<br>destination=482E9<br>index=%{x}<br>max_max=%{y}<extra></extra>",
         "legendgroup": "cookiemonster",
         "line": {
          "color": "#00cc96",
          "dash": "solid"
         },
         "marker": {
          "symbol": "circle"
         },
         "mode": "lines+markers",
         "name": "cookiemonster",
         "orientation": "v",
         "showlegend": false,
         "type": "scatter",
         "x": [
          109,
          160,
          235,
          299,
          396,
          483,
          566,
          663
         ],
         "xaxis": "x2",
         "y": [
          0.7309793946012845,
          0.7309793946012845,
          0.7309793946012845,
          0.7309793946012845,
          0.7309793946012845,
          0.7309793946012845,
          0.7309793946012845,
          0.7309793946012845
         ],
         "yaxis": "y2"
        },
        {
         "hovertemplate": "baseline=cookiemonster<br>destination=9D883<br>index=%{x}<br>max_max=%{y}<extra></extra>",
         "legendgroup": "cookiemonster",
         "line": {
          "color": "#00cc96",
          "dash": "solid"
         },
         "marker": {
          "symbol": "circle"
         },
         "mode": "lines+markers",
         "name": "cookiemonster",
         "orientation": "v",
         "showlegend": false,
         "type": "scatter",
         "x": [
          195,
          590
         ],
         "xaxis": "x3",
         "y": [
          0.7309793946012845,
          0.7309793946012845
         ],
         "yaxis": "y3"
        }
       ],
       "layout": {
        "annotations": [
         {
          "showarrow": false,
          "text": "destination=9FF55",
          "x": 0.15999999999999998,
          "xanchor": "center",
          "xref": "paper",
          "y": 1,
          "yanchor": "bottom",
          "yref": "paper"
         },
         {
          "showarrow": false,
          "text": "destination=482E9",
          "x": 0.49999999999999994,
          "xanchor": "center",
          "xref": "paper",
          "y": 1,
          "yanchor": "bottom",
          "yref": "paper"
         },
         {
          "showarrow": false,
          "text": "destination=9D883",
          "x": 0.8399999999999999,
          "xanchor": "center",
          "xref": "paper",
          "y": 1,
          "yanchor": "bottom",
          "yref": "paper"
         }
        ],
        "height": 1000,
        "legend": {
         "title": {
          "text": "baseline"
         },
         "tracegroupgap": 0
        },
        "template": {
         "data": {
          "bar": [
           {
            "error_x": {
             "color": "#2a3f5f"
            },
            "error_y": {
             "color": "#2a3f5f"
            },
            "marker": {
             "line": {
              "color": "#E5ECF6",
              "width": 0.5
             },
             "pattern": {
              "fillmode": "overlay",
              "size": 10,
              "solidity": 0.2
             }
            },
            "type": "bar"
           }
          ],
          "barpolar": [
           {
            "marker": {
             "line": {
              "color": "#E5ECF6",
              "width": 0.5
             },
             "pattern": {
              "fillmode": "overlay",
              "size": 10,
              "solidity": 0.2
             }
            },
            "type": "barpolar"
           }
          ],
          "carpet": [
           {
            "aaxis": {
             "endlinecolor": "#2a3f5f",
             "gridcolor": "white",
             "linecolor": "white",
             "minorgridcolor": "white",
             "startlinecolor": "#2a3f5f"
            },
            "baxis": {
             "endlinecolor": "#2a3f5f",
             "gridcolor": "white",
             "linecolor": "white",
             "minorgridcolor": "white",
             "startlinecolor": "#2a3f5f"
            },
            "type": "carpet"
           }
          ],
          "choropleth": [
           {
            "colorbar": {
             "outlinewidth": 0,
             "ticks": ""
            },
            "type": "choropleth"
           }
          ],
          "contour": [
           {
            "colorbar": {
             "outlinewidth": 0,
             "ticks": ""
            },
            "colorscale": [
             [
              0,
              "#0d0887"
             ],
             [
              0.1111111111111111,
              "#46039f"
             ],
             [
              0.2222222222222222,
              "#7201a8"
             ],
             [
              0.3333333333333333,
              "#9c179e"
             ],
             [
              0.4444444444444444,
              "#bd3786"
             ],
             [
              0.5555555555555556,
              "#d8576b"
             ],
             [
              0.6666666666666666,
              "#ed7953"
             ],
             [
              0.7777777777777778,
              "#fb9f3a"
             ],
             [
              0.8888888888888888,
              "#fdca26"
             ],
             [
              1,
              "#f0f921"
             ]
            ],
            "type": "contour"
           }
          ],
          "contourcarpet": [
           {
            "colorbar": {
             "outlinewidth": 0,
             "ticks": ""
            },
            "type": "contourcarpet"
           }
          ],
          "heatmap": [
           {
            "colorbar": {
             "outlinewidth": 0,
             "ticks": ""
            },
            "colorscale": [
             [
              0,
              "#0d0887"
             ],
             [
              0.1111111111111111,
              "#46039f"
             ],
             [
              0.2222222222222222,
              "#7201a8"
             ],
             [
              0.3333333333333333,
              "#9c179e"
             ],
             [
              0.4444444444444444,
              "#bd3786"
             ],
             [
              0.5555555555555556,
              "#d8576b"
             ],
             [
              0.6666666666666666,
              "#ed7953"
             ],
             [
              0.7777777777777778,
              "#fb9f3a"
             ],
             [
              0.8888888888888888,
              "#fdca26"
             ],
             [
              1,
              "#f0f921"
             ]
            ],
            "type": "heatmap"
           }
          ],
          "heatmapgl": [
           {
            "colorbar": {
             "outlinewidth": 0,
             "ticks": ""
            },
            "colorscale": [
             [
              0,
              "#0d0887"
             ],
             [
              0.1111111111111111,
              "#46039f"
             ],
             [
              0.2222222222222222,
              "#7201a8"
             ],
             [
              0.3333333333333333,
              "#9c179e"
             ],
             [
              0.4444444444444444,
              "#bd3786"
             ],
             [
              0.5555555555555556,
              "#d8576b"
             ],
             [
              0.6666666666666666,
              "#ed7953"
             ],
             [
              0.7777777777777778,
              "#fb9f3a"
             ],
             [
              0.8888888888888888,
              "#fdca26"
             ],
             [
              1,
              "#f0f921"
             ]
            ],
            "type": "heatmapgl"
           }
          ],
          "histogram": [
           {
            "marker": {
             "pattern": {
              "fillmode": "overlay",
              "size": 10,
              "solidity": 0.2
             }
            },
            "type": "histogram"
           }
          ],
          "histogram2d": [
           {
            "colorbar": {
             "outlinewidth": 0,
             "ticks": ""
            },
            "colorscale": [
             [
              0,
              "#0d0887"
             ],
             [
              0.1111111111111111,
              "#46039f"
             ],
             [
              0.2222222222222222,
              "#7201a8"
             ],
             [
              0.3333333333333333,
              "#9c179e"
             ],
             [
              0.4444444444444444,
              "#bd3786"
             ],
             [
              0.5555555555555556,
              "#d8576b"
             ],
             [
              0.6666666666666666,
              "#ed7953"
             ],
             [
              0.7777777777777778,
              "#fb9f3a"
             ],
             [
              0.8888888888888888,
              "#fdca26"
             ],
             [
              1,
              "#f0f921"
             ]
            ],
            "type": "histogram2d"
           }
          ],
          "histogram2dcontour": [
           {
            "colorbar": {
             "outlinewidth": 0,
             "ticks": ""
            },
            "colorscale": [
             [
              0,
              "#0d0887"
             ],
             [
              0.1111111111111111,
              "#46039f"
             ],
             [
              0.2222222222222222,
              "#7201a8"
             ],
             [
              0.3333333333333333,
              "#9c179e"
             ],
             [
              0.4444444444444444,
              "#bd3786"
             ],
             [
              0.5555555555555556,
              "#d8576b"
             ],
             [
              0.6666666666666666,
              "#ed7953"
             ],
             [
              0.7777777777777778,
              "#fb9f3a"
             ],
             [
              0.8888888888888888,
              "#fdca26"
             ],
             [
              1,
              "#f0f921"
             ]
            ],
            "type": "histogram2dcontour"
           }
          ],
          "mesh3d": [
           {
            "colorbar": {
             "outlinewidth": 0,
             "ticks": ""
            },
            "type": "mesh3d"
           }
          ],
          "parcoords": [
           {
            "line": {
             "colorbar": {
              "outlinewidth": 0,
              "ticks": ""
             }
            },
            "type": "parcoords"
           }
          ],
          "pie": [
           {
            "automargin": true,
            "type": "pie"
           }
          ],
          "scatter": [
           {
            "fillpattern": {
             "fillmode": "overlay",
             "size": 10,
             "solidity": 0.2
            },
            "type": "scatter"
           }
          ],
          "scatter3d": [
           {
            "line": {
             "colorbar": {
              "outlinewidth": 0,
              "ticks": ""
             }
            },
            "marker": {
             "colorbar": {
              "outlinewidth": 0,
              "ticks": ""
             }
            },
            "type": "scatter3d"
           }
          ],
          "scattercarpet": [
           {
            "marker": {
             "colorbar": {
              "outlinewidth": 0,
              "ticks": ""
             }
            },
            "type": "scattercarpet"
           }
          ],
          "scattergeo": [
           {
            "marker": {
             "colorbar": {
              "outlinewidth": 0,
              "ticks": ""
             }
            },
            "type": "scattergeo"
           }
          ],
          "scattergl": [
           {
            "marker": {
             "colorbar": {
              "outlinewidth": 0,
              "ticks": ""
             }
            },
            "type": "scattergl"
           }
          ],
          "scattermapbox": [
           {
            "marker": {
             "colorbar": {
              "outlinewidth": 0,
              "ticks": ""
             }
            },
            "type": "scattermapbox"
           }
          ],
          "scatterpolar": [
           {
            "marker": {
             "colorbar": {
              "outlinewidth": 0,
              "ticks": ""
             }
            },
            "type": "scatterpolar"
           }
          ],
          "scatterpolargl": [
           {
            "marker": {
             "colorbar": {
              "outlinewidth": 0,
              "ticks": ""
             }
            },
            "type": "scatterpolargl"
           }
          ],
          "scatterternary": [
           {
            "marker": {
             "colorbar": {
              "outlinewidth": 0,
              "ticks": ""
             }
            },
            "type": "scatterternary"
           }
          ],
          "surface": [
           {
            "colorbar": {
             "outlinewidth": 0,
             "ticks": ""
            },
            "colorscale": [
             [
              0,
              "#0d0887"
             ],
             [
              0.1111111111111111,
              "#46039f"
             ],
             [
              0.2222222222222222,
              "#7201a8"
             ],
             [
              0.3333333333333333,
              "#9c179e"
             ],
             [
              0.4444444444444444,
              "#bd3786"
             ],
             [
              0.5555555555555556,
              "#d8576b"
             ],
             [
              0.6666666666666666,
              "#ed7953"
             ],
             [
              0.7777777777777778,
              "#fb9f3a"
             ],
             [
              0.8888888888888888,
              "#fdca26"
             ],
             [
              1,
              "#f0f921"
             ]
            ],
            "type": "surface"
           }
          ],
          "table": [
           {
            "cells": {
             "fill": {
              "color": "#EBF0F8"
             },
             "line": {
              "color": "white"
             }
            },
            "header": {
             "fill": {
              "color": "#C8D4E3"
             },
             "line": {
              "color": "white"
             }
            },
            "type": "table"
           }
          ]
         },
         "layout": {
          "annotationdefaults": {
           "arrowcolor": "#2a3f5f",
           "arrowhead": 0,
           "arrowwidth": 1
          },
          "autotypenumbers": "strict",
          "coloraxis": {
           "colorbar": {
            "outlinewidth": 0,
            "ticks": ""
           }
          },
          "colorscale": {
           "diverging": [
            [
             0,
             "#8e0152"
            ],
            [
             0.1,
             "#c51b7d"
            ],
            [
             0.2,
             "#de77ae"
            ],
            [
             0.3,
             "#f1b6da"
            ],
            [
             0.4,
             "#fde0ef"
            ],
            [
             0.5,
             "#f7f7f7"
            ],
            [
             0.6,
             "#e6f5d0"
            ],
            [
             0.7,
             "#b8e186"
            ],
            [
             0.8,
             "#7fbc41"
            ],
            [
             0.9,
             "#4d9221"
            ],
            [
             1,
             "#276419"
            ]
           ],
           "sequential": [
            [
             0,
             "#0d0887"
            ],
            [
             0.1111111111111111,
             "#46039f"
            ],
            [
             0.2222222222222222,
             "#7201a8"
            ],
            [
             0.3333333333333333,
             "#9c179e"
            ],
            [
             0.4444444444444444,
             "#bd3786"
            ],
            [
             0.5555555555555556,
             "#d8576b"
            ],
            [
             0.6666666666666666,
             "#ed7953"
            ],
            [
             0.7777777777777778,
             "#fb9f3a"
            ],
            [
             0.8888888888888888,
             "#fdca26"
            ],
            [
             1,
             "#f0f921"
            ]
           ],
           "sequentialminus": [
            [
             0,
             "#0d0887"
            ],
            [
             0.1111111111111111,
             "#46039f"
            ],
            [
             0.2222222222222222,
             "#7201a8"
            ],
            [
             0.3333333333333333,
             "#9c179e"
            ],
            [
             0.4444444444444444,
             "#bd3786"
            ],
            [
             0.5555555555555556,
             "#d8576b"
            ],
            [
             0.6666666666666666,
             "#ed7953"
            ],
            [
             0.7777777777777778,
             "#fb9f3a"
            ],
            [
             0.8888888888888888,
             "#fdca26"
            ],
            [
             1,
             "#f0f921"
            ]
           ]
          },
          "colorway": [
           "#636efa",
           "#EF553B",
           "#00cc96",
           "#ab63fa",
           "#FFA15A",
           "#19d3f3",
           "#FF6692",
           "#B6E880",
           "#FF97FF",
           "#FECB52"
          ],
          "font": {
           "color": "#2a3f5f"
          },
          "geo": {
           "bgcolor": "white",
           "lakecolor": "white",
           "landcolor": "#E5ECF6",
           "showlakes": true,
           "showland": true,
           "subunitcolor": "white"
          },
          "hoverlabel": {
           "align": "left"
          },
          "hovermode": "closest",
          "mapbox": {
           "style": "light"
          },
          "paper_bgcolor": "white",
          "plot_bgcolor": "#E5ECF6",
          "polar": {
           "angularaxis": {
            "gridcolor": "white",
            "linecolor": "white",
            "ticks": ""
           },
           "bgcolor": "#E5ECF6",
           "radialaxis": {
            "gridcolor": "white",
            "linecolor": "white",
            "ticks": ""
           }
          },
          "scene": {
           "xaxis": {
            "backgroundcolor": "#E5ECF6",
            "gridcolor": "white",
            "gridwidth": 2,
            "linecolor": "white",
            "showbackground": true,
            "ticks": "",
            "zerolinecolor": "white"
           },
           "yaxis": {
            "backgroundcolor": "#E5ECF6",
            "gridcolor": "white",
            "gridwidth": 2,
            "linecolor": "white",
            "showbackground": true,
            "ticks": "",
            "zerolinecolor": "white"
           },
           "zaxis": {
            "backgroundcolor": "#E5ECF6",
            "gridcolor": "white",
            "gridwidth": 2,
            "linecolor": "white",
            "showbackground": true,
            "ticks": "",
            "zerolinecolor": "white"
           }
          },
          "shapedefaults": {
           "line": {
            "color": "#2a3f5f"
           }
          },
          "ternary": {
           "aaxis": {
            "gridcolor": "white",
            "linecolor": "white",
            "ticks": ""
           },
           "baxis": {
            "gridcolor": "white",
            "linecolor": "white",
            "ticks": ""
           },
           "bgcolor": "#E5ECF6",
           "caxis": {
            "gridcolor": "white",
            "linecolor": "white",
            "ticks": ""
           }
          },
          "title": {
           "x": 0.05
          },
          "xaxis": {
           "automargin": true,
           "gridcolor": "white",
           "linecolor": "white",
           "ticks": "",
           "title": {
            "standoff": 15
           },
           "zerolinecolor": "white",
           "zerolinewidth": 2
          },
          "yaxis": {
           "automargin": true,
           "gridcolor": "white",
           "linecolor": "white",
           "ticks": "",
           "title": {
            "standoff": 15
           },
           "zerolinecolor": "white",
           "zerolinewidth": 2
          }
         }
        },
        "title": {
         "text": "Cumulative Budget Consumption epoch size 7"
        },
        "width": 1100,
        "xaxis": {
         "anchor": "y",
         "domain": [
          0,
          0.31999999999999995
         ],
         "title": {
          "text": "index"
         }
        },
        "xaxis2": {
         "anchor": "y2",
         "domain": [
          0.33999999999999997,
          0.6599999999999999
         ],
         "matches": "x",
         "title": {
          "text": "index"
         }
        },
        "xaxis3": {
         "anchor": "y3",
         "domain": [
          0.6799999999999999,
          0.9999999999999999
         ],
         "matches": "x",
         "title": {
          "text": "index"
         }
        },
        "yaxis": {
         "anchor": "x",
         "domain": [
          0,
          1
         ],
         "range": [
          0,
          1
         ],
         "title": {
          "text": "max_max"
         }
        },
        "yaxis2": {
         "anchor": "x2",
         "domain": [
          0,
          1
         ],
         "matches": "y",
         "showticklabels": false
        },
        "yaxis3": {
         "anchor": "x3",
         "domain": [
          0,
          1
         ],
         "matches": "y",
         "showticklabels": false
        }
       }
      },
      "text/html": [
       "<div>                            <div id=\"ddd1ee8c-43ae-4ebc-bf9e-483862ee2eed\" class=\"plotly-graph-div\" style=\"height:1000px; width:1100px;\"></div>            <script type=\"text/javascript\">                require([\"plotly\"], function(Plotly) {                    window.PLOTLYENV=window.PLOTLYENV || {};                                    if (document.getElementById(\"ddd1ee8c-43ae-4ebc-bf9e-483862ee2eed\")) {                    Plotly.newPlot(                        \"ddd1ee8c-43ae-4ebc-bf9e-483862ee2eed\",                        [{\"hovertemplate\":\"baseline=ipa\\u003cbr\\u003edestination=9FF55\\u003cbr\\u003eindex=%{x}\\u003cbr\\u003emax_max=%{y}\\u003cextra\\u003e\\u003c\\u002fextra\\u003e\",\"legendgroup\":\"ipa\",\"line\":{\"color\":\"#636efa\",\"dash\":\"solid\"},\"marker\":{\"symbol\":\"circle\"},\"mode\":\"lines+markers\",\"name\":\"ipa\",\"orientation\":\"v\",\"showlegend\":true,\"x\":[10,25,41,58,82,102,122,126,137,144,146,147,159,171,174,184,196,224,231,239,243,246,257,258,269,283,286,292,308,319,325,334,335,345,362,366,369,370,398,400,411,430,442,448,462,467,472,473,482,489,494,511,513,518,527,540,557,558,565,568,591,601,604,607,611,617,626,636,644,654,656,665,680,688,693,694,715,717,726,727,728,736,759,760,761,762,763,764,765,766,767,768,769],\"xaxis\":\"x\",\"y\":[0.7309793946012845,0.7309793946012845,0.7309793946012845,0.7309793946012845,0.7309793946012845,0.7309793946012845,0.7309793946012845,0.7309793946012845,0.7309793946012845,0.7309793946012845,0.7309793946012845,0.7309793946012845,0.7309793946012845,0.7309793946012845,0.7309793946012845,0.7309793946012845,0.7309793946012845,0.7309793946012845,0.7309793946012845,0.7309793946012845,0.7309793946012845,0.7309793946012845,0.7309793946012845,0.7309793946012845,0.7309793946012845,0.7309793946012845,0.7309793946012845,0.7309793946012845,0.7309793946012845,0.7309793946012845,0.7309793946012845,0.7309793946012845,0.7309793946012845,0.7309793946012845,0.7309793946012845,0.7309793946012845,0.7309793946012845,0.7309793946012845,0.7309793946012845,0.7309793946012845,0.7309793946012845,0.7309793946012845,0.7309793946012845,0.7309793946012845,0.7309793946012845,0.7309793946012845,0.7309793946012845,0.7309793946012845,0.7309793946012845,0.7309793946012845,0.7309793946012845,0.7309793946012845,0.7309793946012845,0.7309793946012845,0.7309793946012845,0.7309793946012845,0.7309793946012845,0.7309793946012845,0.7309793946012845,0.7309793946012845,0.7309793946012845,0.7309793946012845,0.7309793946012845,0.7309793946012845,0.7309793946012845,0.7309793946012845,0.7309793946012845,0.7309793946012845,0.7309793946012845,0.7309793946012845,0.7309793946012845,0.7309793946012845,0.7309793946012845,0.7309793946012845,0.7309793946012845,0.7309793946012845,0.7309793946012845,0.7309793946012845,0.7309793946012845,0.7309793946012845,0.7309793946012845,0.7309793946012845,0.7309793946012845,0.7309793946012845,0.7309793946012845,0.7309793946012845,0.7309793946012845,0.7309793946012845,0.7309793946012845,0.7309793946012845,0.7309793946012845,0.7309793946012845,0.7309793946012845],\"yaxis\":\"y\",\"type\":\"scatter\"},{\"hovertemplate\":\"baseline=ipa\\u003cbr\\u003edestination=482E9\\u003cbr\\u003eindex=%{x}\\u003cbr\\u003emax_max=%{y}\\u003cextra\\u003e\\u003c\\u002fextra\\u003e\",\"legendgroup\":\"ipa\",\"line\":{\"color\":\"#636efa\",\"dash\":\"solid\"},\"marker\":{\"symbol\":\"circle\"},\"mode\":\"lines+markers\",\"name\":\"ipa\",\"orientation\":\"v\",\"showlegend\":false,\"x\":[109,160,235,299,396,483,566,663],\"xaxis\":\"x2\",\"y\":[0.7309793946012845,0.7309793946012845,0.7309793946012845,0.7309793946012845,0.7309793946012845,0.7309793946012845,0.7309793946012845,0.7309793946012845],\"yaxis\":\"y2\",\"type\":\"scatter\"},{\"hovertemplate\":\"baseline=ipa\\u003cbr\\u003edestination=9D883\\u003cbr\\u003eindex=%{x}\\u003cbr\\u003emax_max=%{y}\\u003cextra\\u003e\\u003c\\u002fextra\\u003e\",\"legendgroup\":\"ipa\",\"line\":{\"color\":\"#636efa\",\"dash\":\"solid\"},\"marker\":{\"symbol\":\"circle\"},\"mode\":\"lines+markers\",\"name\":\"ipa\",\"orientation\":\"v\",\"showlegend\":false,\"x\":[195,590],\"xaxis\":\"x3\",\"y\":[0.7309793946012845,0.7309793946012845],\"yaxis\":\"y3\",\"type\":\"scatter\"},{\"hovertemplate\":\"baseline=cookiemonster_base\\u003cbr\\u003edestination=9FF55\\u003cbr\\u003eindex=%{x}\\u003cbr\\u003emax_max=%{y}\\u003cextra\\u003e\\u003c\\u002fextra\\u003e\",\"legendgroup\":\"cookiemonster_base\",\"line\":{\"color\":\"#EF553B\",\"dash\":\"solid\"},\"marker\":{\"symbol\":\"circle\"},\"mode\":\"lines+markers\",\"name\":\"cookiemonster_base\",\"orientation\":\"v\",\"showlegend\":true,\"x\":[10,25,41,58,82,102,122,126,137,144,146,147,159,171,174,184,196,224,231,239,243,246,257,258,269,283,286,292,308,319,325,334,335,345,362,366,369,370,398,400,411,430,442,448,462,467,472,473,482,489,494,511,513,518,527,540,557,558,565,568,591,601,604,607,611,617,626,636,644,654,656,665,680,688,693,694,715,717,726,727,728,736,759,760,761,762,763,764,765,766,767,768,769],\"xaxis\":\"x\",\"y\":[0.9967900835472062,0.9967900835472062,0.9967900835472062,0.9967900835472062,0.9967900835472062,0.9967900835472062,0.9967900835472062,0.9967900835472062,0.9967900835472062,0.9967900835472062,0.9967900835472062,0.9967900835472062,0.9967900835472062,0.9967900835472062,0.9967900835472062,0.9967900835472062,0.9967900835472062,0.9967900835472062,0.9967900835472062,0.9967900835472062,0.9967900835472062,0.9967900835472062,0.9967900835472062,0.9967900835472062,0.9967900835472062,0.9967900835472062,0.9967900835472062,0.9967900835472062,0.9967900835472062,0.9967900835472062,0.9967900835472062,0.9967900835472062,0.9967900835472062,0.9967900835472062,0.9967900835472062,0.9967900835472062,0.9967900835472062,0.9967900835472062,0.9967900835472062,0.9967900835472062,0.9967900835472062,0.9967900835472062,0.9967900835472062,0.9967900835472062,0.9967900835472062,0.9967900835472062,0.9967900835472062,0.9967900835472062,0.9967900835472062,0.9967900835472062,0.9967900835472062,0.9967900835472062,0.9967900835472062,0.9967900835472062,0.9967900835472062,0.9967900835472062,0.9967900835472062,0.9967900835472062,0.9967900835472062,0.9967900835472062,0.9967900835472062,0.9967900835472062,0.9967900835472062,0.9967900835472062,0.9967900835472062,0.9967900835472062,0.9967900835472062,0.9967900835472062,0.9967900835472062,0.9967900835472062,0.9967900835472062,0.9967900835472062,0.9967900835472062,0.9967900835472062,0.9967900835472062,0.9967900835472062,0.9967900835472062,0.9967900835472062,0.9967900835472062,0.9967900835472062,0.9967900835472062,0.9967900835472062,0.9967900835472062,0.9967900835472062,0.9967900835472062,0.9967900835472062,0.9967900835472062,0.9967900835472062,0.9967900835472062,0.9967900835472062,0.9967900835472062,0.9967900835472062,0.9967900835472062],\"yaxis\":\"y\",\"type\":\"scatter\"},{\"hovertemplate\":\"baseline=cookiemonster_base\\u003cbr\\u003edestination=482E9\\u003cbr\\u003eindex=%{x}\\u003cbr\\u003emax_max=%{y}\\u003cextra\\u003e\\u003c\\u002fextra\\u003e\",\"legendgroup\":\"cookiemonster_base\",\"line\":{\"color\":\"#EF553B\",\"dash\":\"solid\"},\"marker\":{\"symbol\":\"circle\"},\"mode\":\"lines+markers\",\"name\":\"cookiemonster_base\",\"orientation\":\"v\",\"showlegend\":false,\"x\":[109,160,235,299,396,483,566,663],\"xaxis\":\"x2\",\"y\":[0.7309793946012845,0.7309793946012845,0.7309793946012845,0.7309793946012845,0.7309793946012845,0.7309793946012845,0.7309793946012845,0.7309793946012845],\"yaxis\":\"y2\",\"type\":\"scatter\"},{\"hovertemplate\":\"baseline=cookiemonster_base\\u003cbr\\u003edestination=9D883\\u003cbr\\u003eindex=%{x}\\u003cbr\\u003emax_max=%{y}\\u003cextra\\u003e\\u003c\\u002fextra\\u003e\",\"legendgroup\":\"cookiemonster_base\",\"line\":{\"color\":\"#EF553B\",\"dash\":\"solid\"},\"marker\":{\"symbol\":\"circle\"},\"mode\":\"lines+markers\",\"name\":\"cookiemonster_base\",\"orientation\":\"v\",\"showlegend\":false,\"x\":[195,590],\"xaxis\":\"x3\",\"y\":[0.7309793946012845,0.7309793946012845],\"yaxis\":\"y3\",\"type\":\"scatter\"},{\"hovertemplate\":\"baseline=cookiemonster\\u003cbr\\u003edestination=9FF55\\u003cbr\\u003eindex=%{x}\\u003cbr\\u003emax_max=%{y}\\u003cextra\\u003e\\u003c\\u002fextra\\u003e\",\"legendgroup\":\"cookiemonster\",\"line\":{\"color\":\"#00cc96\",\"dash\":\"solid\"},\"marker\":{\"symbol\":\"circle\"},\"mode\":\"lines+markers\",\"name\":\"cookiemonster\",\"orientation\":\"v\",\"showlegend\":true,\"x\":[10,25,41,58,82,102,122,126,137,144,146,147,159,171,174,184,196,224,231,239,243,246,257,258,269,283,286,292,308,319,325,334,335,345,362,366,369,370,398,400,411,430,442,448,462,467,472,473,482,489,494,511,513,518,527,540,557,558,565,568,591,601,604,607,611,617,626,636,644,654,656,665,680,688,693,694,715,717,726,727,728,736,759,760,761,762,763,764,765,766,767,768,769],\"xaxis\":\"x\",\"y\":[0.9967900835472062,0.9967900835472062,0.9967900835472062,0.9967900835472062,0.9967900835472062,0.9967900835472062,0.9967900835472062,0.9967900835472062,0.9967900835472062,0.9967900835472062,0.9967900835472062,0.9967900835472062,0.9967900835472062,0.9967900835472062,0.9967900835472062,0.9967900835472062,0.9967900835472062,0.9967900835472062,0.9967900835472062,0.9967900835472062,0.9967900835472062,0.9967900835472062,0.9967900835472062,0.9967900835472062,0.9967900835472062,0.9967900835472062,0.9967900835472062,0.9967900835472062,0.9967900835472062,0.9967900835472062,0.9967900835472062,0.9967900835472062,0.9967900835472062,0.9967900835472062,0.9967900835472062,0.9967900835472062,0.9967900835472062,0.9967900835472062,0.9967900835472062,0.9967900835472062,0.9967900835472062,0.9967900835472062,0.9967900835472062,0.9967900835472062,0.9967900835472062,0.9967900835472062,0.9967900835472062,0.9967900835472062,0.9967900835472062,0.9967900835472062,0.9967900835472062,0.9967900835472062,0.9967900835472062,0.9967900835472062,0.9967900835472062,0.9967900835472062,0.9967900835472062,0.9967900835472062,0.9967900835472062,0.9967900835472062,0.9967900835472062,0.9967900835472062,0.9967900835472062,0.9967900835472062,0.9967900835472062,0.9967900835472062,0.9967900835472062,0.9967900835472062,0.9967900835472062,0.9967900835472062,0.9967900835472062,0.9967900835472062,0.9967900835472062,0.9967900835472062,0.9967900835472062,0.9967900835472062,0.9967900835472062,0.9967900835472062,0.9967900835472062,0.9967900835472062,0.9967900835472062,0.9967900835472062,0.9967900835472062,0.9967900835472062,0.9967900835472062,0.9967900835472062,0.9967900835472062,0.9967900835472062,0.9967900835472062,0.9967900835472062,0.9967900835472062,0.9967900835472062,0.9967900835472062],\"yaxis\":\"y\",\"type\":\"scatter\"},{\"hovertemplate\":\"baseline=cookiemonster\\u003cbr\\u003edestination=482E9\\u003cbr\\u003eindex=%{x}\\u003cbr\\u003emax_max=%{y}\\u003cextra\\u003e\\u003c\\u002fextra\\u003e\",\"legendgroup\":\"cookiemonster\",\"line\":{\"color\":\"#00cc96\",\"dash\":\"solid\"},\"marker\":{\"symbol\":\"circle\"},\"mode\":\"lines+markers\",\"name\":\"cookiemonster\",\"orientation\":\"v\",\"showlegend\":false,\"x\":[109,160,235,299,396,483,566,663],\"xaxis\":\"x2\",\"y\":[0.7309793946012845,0.7309793946012845,0.7309793946012845,0.7309793946012845,0.7309793946012845,0.7309793946012845,0.7309793946012845,0.7309793946012845],\"yaxis\":\"y2\",\"type\":\"scatter\"},{\"hovertemplate\":\"baseline=cookiemonster\\u003cbr\\u003edestination=9D883\\u003cbr\\u003eindex=%{x}\\u003cbr\\u003emax_max=%{y}\\u003cextra\\u003e\\u003c\\u002fextra\\u003e\",\"legendgroup\":\"cookiemonster\",\"line\":{\"color\":\"#00cc96\",\"dash\":\"solid\"},\"marker\":{\"symbol\":\"circle\"},\"mode\":\"lines+markers\",\"name\":\"cookiemonster\",\"orientation\":\"v\",\"showlegend\":false,\"x\":[195,590],\"xaxis\":\"x3\",\"y\":[0.7309793946012845,0.7309793946012845],\"yaxis\":\"y3\",\"type\":\"scatter\"}],                        {\"annotations\":[{\"showarrow\":false,\"text\":\"destination=9FF55\",\"x\":0.15999999999999998,\"xanchor\":\"center\",\"xref\":\"paper\",\"y\":1.0,\"yanchor\":\"bottom\",\"yref\":\"paper\"},{\"showarrow\":false,\"text\":\"destination=482E9\",\"x\":0.49999999999999994,\"xanchor\":\"center\",\"xref\":\"paper\",\"y\":1.0,\"yanchor\":\"bottom\",\"yref\":\"paper\"},{\"showarrow\":false,\"text\":\"destination=9D883\",\"x\":0.8399999999999999,\"xanchor\":\"center\",\"xref\":\"paper\",\"y\":1.0,\"yanchor\":\"bottom\",\"yref\":\"paper\"}],\"height\":1000,\"legend\":{\"title\":{\"text\":\"baseline\"},\"tracegroupgap\":0},\"template\":{\"data\":{\"barpolar\":[{\"marker\":{\"line\":{\"color\":\"#E5ECF6\",\"width\":0.5},\"pattern\":{\"fillmode\":\"overlay\",\"size\":10,\"solidity\":0.2}},\"type\":\"barpolar\"}],\"bar\":[{\"error_x\":{\"color\":\"#2a3f5f\"},\"error_y\":{\"color\":\"#2a3f5f\"},\"marker\":{\"line\":{\"color\":\"#E5ECF6\",\"width\":0.5},\"pattern\":{\"fillmode\":\"overlay\",\"size\":10,\"solidity\":0.2}},\"type\":\"bar\"}],\"carpet\":[{\"aaxis\":{\"endlinecolor\":\"#2a3f5f\",\"gridcolor\":\"white\",\"linecolor\":\"white\",\"minorgridcolor\":\"white\",\"startlinecolor\":\"#2a3f5f\"},\"baxis\":{\"endlinecolor\":\"#2a3f5f\",\"gridcolor\":\"white\",\"linecolor\":\"white\",\"minorgridcolor\":\"white\",\"startlinecolor\":\"#2a3f5f\"},\"type\":\"carpet\"}],\"choropleth\":[{\"colorbar\":{\"outlinewidth\":0,\"ticks\":\"\"},\"type\":\"choropleth\"}],\"contourcarpet\":[{\"colorbar\":{\"outlinewidth\":0,\"ticks\":\"\"},\"type\":\"contourcarpet\"}],\"contour\":[{\"colorbar\":{\"outlinewidth\":0,\"ticks\":\"\"},\"colorscale\":[[0.0,\"#0d0887\"],[0.1111111111111111,\"#46039f\"],[0.2222222222222222,\"#7201a8\"],[0.3333333333333333,\"#9c179e\"],[0.4444444444444444,\"#bd3786\"],[0.5555555555555556,\"#d8576b\"],[0.6666666666666666,\"#ed7953\"],[0.7777777777777778,\"#fb9f3a\"],[0.8888888888888888,\"#fdca26\"],[1.0,\"#f0f921\"]],\"type\":\"contour\"}],\"heatmapgl\":[{\"colorbar\":{\"outlinewidth\":0,\"ticks\":\"\"},\"colorscale\":[[0.0,\"#0d0887\"],[0.1111111111111111,\"#46039f\"],[0.2222222222222222,\"#7201a8\"],[0.3333333333333333,\"#9c179e\"],[0.4444444444444444,\"#bd3786\"],[0.5555555555555556,\"#d8576b\"],[0.6666666666666666,\"#ed7953\"],[0.7777777777777778,\"#fb9f3a\"],[0.8888888888888888,\"#fdca26\"],[1.0,\"#f0f921\"]],\"type\":\"heatmapgl\"}],\"heatmap\":[{\"colorbar\":{\"outlinewidth\":0,\"ticks\":\"\"},\"colorscale\":[[0.0,\"#0d0887\"],[0.1111111111111111,\"#46039f\"],[0.2222222222222222,\"#7201a8\"],[0.3333333333333333,\"#9c179e\"],[0.4444444444444444,\"#bd3786\"],[0.5555555555555556,\"#d8576b\"],[0.6666666666666666,\"#ed7953\"],[0.7777777777777778,\"#fb9f3a\"],[0.8888888888888888,\"#fdca26\"],[1.0,\"#f0f921\"]],\"type\":\"heatmap\"}],\"histogram2dcontour\":[{\"colorbar\":{\"outlinewidth\":0,\"ticks\":\"\"},\"colorscale\":[[0.0,\"#0d0887\"],[0.1111111111111111,\"#46039f\"],[0.2222222222222222,\"#7201a8\"],[0.3333333333333333,\"#9c179e\"],[0.4444444444444444,\"#bd3786\"],[0.5555555555555556,\"#d8576b\"],[0.6666666666666666,\"#ed7953\"],[0.7777777777777778,\"#fb9f3a\"],[0.8888888888888888,\"#fdca26\"],[1.0,\"#f0f921\"]],\"type\":\"histogram2dcontour\"}],\"histogram2d\":[{\"colorbar\":{\"outlinewidth\":0,\"ticks\":\"\"},\"colorscale\":[[0.0,\"#0d0887\"],[0.1111111111111111,\"#46039f\"],[0.2222222222222222,\"#7201a8\"],[0.3333333333333333,\"#9c179e\"],[0.4444444444444444,\"#bd3786\"],[0.5555555555555556,\"#d8576b\"],[0.6666666666666666,\"#ed7953\"],[0.7777777777777778,\"#fb9f3a\"],[0.8888888888888888,\"#fdca26\"],[1.0,\"#f0f921\"]],\"type\":\"histogram2d\"}],\"histogram\":[{\"marker\":{\"pattern\":{\"fillmode\":\"overlay\",\"size\":10,\"solidity\":0.2}},\"type\":\"histogram\"}],\"mesh3d\":[{\"colorbar\":{\"outlinewidth\":0,\"ticks\":\"\"},\"type\":\"mesh3d\"}],\"parcoords\":[{\"line\":{\"colorbar\":{\"outlinewidth\":0,\"ticks\":\"\"}},\"type\":\"parcoords\"}],\"pie\":[{\"automargin\":true,\"type\":\"pie\"}],\"scatter3d\":[{\"line\":{\"colorbar\":{\"outlinewidth\":0,\"ticks\":\"\"}},\"marker\":{\"colorbar\":{\"outlinewidth\":0,\"ticks\":\"\"}},\"type\":\"scatter3d\"}],\"scattercarpet\":[{\"marker\":{\"colorbar\":{\"outlinewidth\":0,\"ticks\":\"\"}},\"type\":\"scattercarpet\"}],\"scattergeo\":[{\"marker\":{\"colorbar\":{\"outlinewidth\":0,\"ticks\":\"\"}},\"type\":\"scattergeo\"}],\"scattergl\":[{\"marker\":{\"colorbar\":{\"outlinewidth\":0,\"ticks\":\"\"}},\"type\":\"scattergl\"}],\"scattermapbox\":[{\"marker\":{\"colorbar\":{\"outlinewidth\":0,\"ticks\":\"\"}},\"type\":\"scattermapbox\"}],\"scatterpolargl\":[{\"marker\":{\"colorbar\":{\"outlinewidth\":0,\"ticks\":\"\"}},\"type\":\"scatterpolargl\"}],\"scatterpolar\":[{\"marker\":{\"colorbar\":{\"outlinewidth\":0,\"ticks\":\"\"}},\"type\":\"scatterpolar\"}],\"scatter\":[{\"fillpattern\":{\"fillmode\":\"overlay\",\"size\":10,\"solidity\":0.2},\"type\":\"scatter\"}],\"scatterternary\":[{\"marker\":{\"colorbar\":{\"outlinewidth\":0,\"ticks\":\"\"}},\"type\":\"scatterternary\"}],\"surface\":[{\"colorbar\":{\"outlinewidth\":0,\"ticks\":\"\"},\"colorscale\":[[0.0,\"#0d0887\"],[0.1111111111111111,\"#46039f\"],[0.2222222222222222,\"#7201a8\"],[0.3333333333333333,\"#9c179e\"],[0.4444444444444444,\"#bd3786\"],[0.5555555555555556,\"#d8576b\"],[0.6666666666666666,\"#ed7953\"],[0.7777777777777778,\"#fb9f3a\"],[0.8888888888888888,\"#fdca26\"],[1.0,\"#f0f921\"]],\"type\":\"surface\"}],\"table\":[{\"cells\":{\"fill\":{\"color\":\"#EBF0F8\"},\"line\":{\"color\":\"white\"}},\"header\":{\"fill\":{\"color\":\"#C8D4E3\"},\"line\":{\"color\":\"white\"}},\"type\":\"table\"}]},\"layout\":{\"annotationdefaults\":{\"arrowcolor\":\"#2a3f5f\",\"arrowhead\":0,\"arrowwidth\":1},\"autotypenumbers\":\"strict\",\"coloraxis\":{\"colorbar\":{\"outlinewidth\":0,\"ticks\":\"\"}},\"colorscale\":{\"diverging\":[[0,\"#8e0152\"],[0.1,\"#c51b7d\"],[0.2,\"#de77ae\"],[0.3,\"#f1b6da\"],[0.4,\"#fde0ef\"],[0.5,\"#f7f7f7\"],[0.6,\"#e6f5d0\"],[0.7,\"#b8e186\"],[0.8,\"#7fbc41\"],[0.9,\"#4d9221\"],[1,\"#276419\"]],\"sequential\":[[0.0,\"#0d0887\"],[0.1111111111111111,\"#46039f\"],[0.2222222222222222,\"#7201a8\"],[0.3333333333333333,\"#9c179e\"],[0.4444444444444444,\"#bd3786\"],[0.5555555555555556,\"#d8576b\"],[0.6666666666666666,\"#ed7953\"],[0.7777777777777778,\"#fb9f3a\"],[0.8888888888888888,\"#fdca26\"],[1.0,\"#f0f921\"]],\"sequentialminus\":[[0.0,\"#0d0887\"],[0.1111111111111111,\"#46039f\"],[0.2222222222222222,\"#7201a8\"],[0.3333333333333333,\"#9c179e\"],[0.4444444444444444,\"#bd3786\"],[0.5555555555555556,\"#d8576b\"],[0.6666666666666666,\"#ed7953\"],[0.7777777777777778,\"#fb9f3a\"],[0.8888888888888888,\"#fdca26\"],[1.0,\"#f0f921\"]]},\"colorway\":[\"#636efa\",\"#EF553B\",\"#00cc96\",\"#ab63fa\",\"#FFA15A\",\"#19d3f3\",\"#FF6692\",\"#B6E880\",\"#FF97FF\",\"#FECB52\"],\"font\":{\"color\":\"#2a3f5f\"},\"geo\":{\"bgcolor\":\"white\",\"lakecolor\":\"white\",\"landcolor\":\"#E5ECF6\",\"showlakes\":true,\"showland\":true,\"subunitcolor\":\"white\"},\"hoverlabel\":{\"align\":\"left\"},\"hovermode\":\"closest\",\"mapbox\":{\"style\":\"light\"},\"paper_bgcolor\":\"white\",\"plot_bgcolor\":\"#E5ECF6\",\"polar\":{\"angularaxis\":{\"gridcolor\":\"white\",\"linecolor\":\"white\",\"ticks\":\"\"},\"bgcolor\":\"#E5ECF6\",\"radialaxis\":{\"gridcolor\":\"white\",\"linecolor\":\"white\",\"ticks\":\"\"}},\"scene\":{\"xaxis\":{\"backgroundcolor\":\"#E5ECF6\",\"gridcolor\":\"white\",\"gridwidth\":2,\"linecolor\":\"white\",\"showbackground\":true,\"ticks\":\"\",\"zerolinecolor\":\"white\"},\"yaxis\":{\"backgroundcolor\":\"#E5ECF6\",\"gridcolor\":\"white\",\"gridwidth\":2,\"linecolor\":\"white\",\"showbackground\":true,\"ticks\":\"\",\"zerolinecolor\":\"white\"},\"zaxis\":{\"backgroundcolor\":\"#E5ECF6\",\"gridcolor\":\"white\",\"gridwidth\":2,\"linecolor\":\"white\",\"showbackground\":true,\"ticks\":\"\",\"zerolinecolor\":\"white\"}},\"shapedefaults\":{\"line\":{\"color\":\"#2a3f5f\"}},\"ternary\":{\"aaxis\":{\"gridcolor\":\"white\",\"linecolor\":\"white\",\"ticks\":\"\"},\"baxis\":{\"gridcolor\":\"white\",\"linecolor\":\"white\",\"ticks\":\"\"},\"bgcolor\":\"#E5ECF6\",\"caxis\":{\"gridcolor\":\"white\",\"linecolor\":\"white\",\"ticks\":\"\"}},\"title\":{\"x\":0.05},\"xaxis\":{\"automargin\":true,\"gridcolor\":\"white\",\"linecolor\":\"white\",\"ticks\":\"\",\"title\":{\"standoff\":15},\"zerolinecolor\":\"white\",\"zerolinewidth\":2},\"yaxis\":{\"automargin\":true,\"gridcolor\":\"white\",\"linecolor\":\"white\",\"ticks\":\"\",\"title\":{\"standoff\":15},\"zerolinecolor\":\"white\",\"zerolinewidth\":2}}},\"title\":{\"text\":\"Cumulative Budget Consumption epoch size 7\"},\"width\":1100,\"xaxis\":{\"anchor\":\"y\",\"domain\":[0.0,0.31999999999999995],\"title\":{\"text\":\"index\"}},\"yaxis\":{\"anchor\":\"x\",\"domain\":[0.0,1.0],\"range\":[0,1],\"title\":{\"text\":\"max_max\"}},\"xaxis2\":{\"anchor\":\"y2\",\"domain\":[0.33999999999999997,0.6599999999999999],\"matches\":\"x\",\"title\":{\"text\":\"index\"}},\"yaxis2\":{\"anchor\":\"x2\",\"domain\":[0.0,1.0],\"matches\":\"y\",\"showticklabels\":false},\"xaxis3\":{\"anchor\":\"y3\",\"domain\":[0.6799999999999999,0.9999999999999999],\"matches\":\"x\",\"title\":{\"text\":\"index\"}},\"yaxis3\":{\"anchor\":\"x3\",\"domain\":[0.0,1.0],\"matches\":\"y\",\"showticklabels\":false}},                        {\"responsive\": true}                    ).then(function(){\n",
       "                            \n",
       "var gd = document.getElementById('ddd1ee8c-43ae-4ebc-bf9e-483862ee2eed');\n",
       "var x = new MutationObserver(function (mutations, observer) {{\n",
       "        var display = window.getComputedStyle(gd).display;\n",
       "        if (!display || display === 'none') {{\n",
       "            console.log([gd, 'removed!']);\n",
       "            Plotly.purge(gd);\n",
       "            observer.disconnect();\n",
       "        }}\n",
       "}});\n",
       "\n",
       "// Listen for the removal of the full notebook cells\n",
       "var notebookContainer = gd.closest('#notebook-container');\n",
       "if (notebookContainer) {{\n",
       "    x.observe(notebookContainer, {childList: true});\n",
       "}}\n",
       "\n",
       "// Listen for the clearing of the current output cell\n",
       "var outputEl = gd.closest('.output');\n",
       "if (outputEl) {{\n",
       "    x.observe(outputEl, {childList: true});\n",
       "}}\n",
       "\n",
       "                        })                };                });            </script>        </div>"
      ]
     },
     "metadata": {},
     "output_type": "display_data"
    },
    {
     "data": {
      "application/vnd.plotly.v1+json": {
       "config": {
        "linkText": "Export to plot.ly",
        "plotlyServerURL": "https://plot.ly",
        "showLink": false
       },
       "data": [
        {
         "hovertemplate": "baseline=ipa<br>destination=9FF55<br>index=%{x}<br>avg=%{y}<extra></extra>",
         "legendgroup": "ipa",
         "line": {
          "color": "#636efa",
          "dash": "solid"
         },
         "marker": {
          "symbol": "circle"
         },
         "mode": "lines+markers",
         "name": "ipa",
         "orientation": "v",
         "showlegend": true,
         "type": "scatter",
         "x": [
          10,
          25,
          41,
          58,
          82,
          102,
          122,
          126,
          137,
          144,
          146,
          147,
          159,
          171,
          174,
          184,
          196,
          224,
          231,
          239,
          243,
          246,
          257,
          258,
          269,
          283,
          286,
          292,
          308,
          319,
          325,
          334,
          335,
          345,
          362,
          366,
          369,
          370,
          398,
          400,
          411,
          430,
          442,
          448,
          462,
          467,
          472,
          473,
          482,
          489,
          494,
          511,
          513,
          518,
          527,
          540,
          557,
          558,
          565,
          568,
          591,
          601,
          604,
          607,
          611,
          617,
          626,
          636,
          644,
          654,
          656,
          665,
          680,
          688,
          693,
          694,
          715,
          717,
          726,
          727,
          728,
          736,
          759,
          760,
          761,
          762,
          763,
          764,
          765,
          766,
          767,
          768,
          769
         ],
         "xaxis": "x",
         "y": [
          0.2558427881104496,
          0.2558427881104496,
          0.2558427881104496,
          0.2558427881104496,
          0.2558427881104496,
          0.2558427881104496,
          0.2558427881104496,
          0.2558427881104496,
          0.2558427881104496,
          0.2558427881104496,
          0.2558427881104496,
          0.2558427881104496,
          0.2558427881104496,
          0.2558427881104496,
          0.2558427881104496,
          0.2558427881104496,
          0.2558427881104496,
          0.2558427881104496,
          0.2558427881104496,
          0.2558427881104496,
          0.4385876367607707,
          0.4385876367607707,
          0.4385876367607707,
          0.4385876367607707,
          0.4385876367607707,
          0.4385876367607707,
          0.4385876367607707,
          0.4385876367607707,
          0.4385876367607707,
          0.4385876367607707,
          0.4385876367607707,
          0.4385876367607707,
          0.4385876367607707,
          0.4385876367607707,
          0.4385876367607707,
          0.4385876367607707,
          0.4385876367607707,
          0.4385876367607707,
          0.4385876367607707,
          0.4385876367607707,
          0.4385876367607707,
          0.4385876367607707,
          0.4385876367607707,
          0.4385876367607707,
          0.4385876367607707,
          0.4385876367607707,
          0.4385876367607707,
          0.4385876367607707,
          0.4385876367607707,
          0.4385876367607707,
          0.4385876367607707,
          0.4385876367607707,
          0.4385876367607707,
          0.4385876367607707,
          0.4385876367607707,
          0.4385876367607707,
          0.4385876367607707,
          0.4385876367607707,
          0.4385876367607707,
          0.4385876367607707,
          0.4385876367607707,
          0.4385876367607707,
          0.4385876367607707,
          0.4385876367607707,
          0.6213324854110919,
          0.6213324854110919,
          0.6213324854110919,
          0.6213324854110919,
          0.6213324854110919,
          0.6213324854110919,
          0.6213324854110919,
          0.6213324854110919,
          0.6213324854110919,
          0.6213324854110919,
          0.6213324854110919,
          0.6213324854110919,
          0.6213324854110919,
          0.6213324854110919,
          0.6213324854110919,
          0.6213324854110919,
          0.6213324854110919,
          0.6213324854110919,
          0.6213324854110919,
          0.6213324854110919,
          0.6213324854110919,
          0.6213324854110919,
          0.6213324854110919,
          0.6213324854110919,
          0.6213324854110919,
          0.6213324854110919,
          0.6213324854110919,
          0.6213324854110919,
          0.6213324854110919
         ],
         "yaxis": "y"
        },
        {
         "hovertemplate": "baseline=ipa<br>destination=482E9<br>index=%{x}<br>avg=%{y}<extra></extra>",
         "legendgroup": "ipa",
         "line": {
          "color": "#636efa",
          "dash": "solid"
         },
         "marker": {
          "symbol": "circle"
         },
         "mode": "lines+markers",
         "name": "ipa",
         "orientation": "v",
         "showlegend": false,
         "type": "scatter",
         "x": [
          109,
          160,
          235,
          299,
          396,
          483,
          566,
          663
         ],
         "xaxis": "x2",
         "y": [
          0.31327688340055054,
          0.31327688340055054,
          0.31327688340055054,
          0.31327688340055054,
          0.31327688340055054,
          0.31327688340055054,
          0.6787665807011928,
          0.6787665807011928
         ],
         "yaxis": "y2"
        },
        {
         "hovertemplate": "baseline=ipa<br>destination=9D883<br>index=%{x}<br>avg=%{y}<extra></extra>",
         "legendgroup": "ipa",
         "line": {
          "color": "#636efa",
          "dash": "solid"
         },
         "marker": {
          "symbol": "circle"
         },
         "mode": "lines+markers",
         "name": "ipa",
         "orientation": "v",
         "showlegend": false,
         "type": "scatter",
         "x": [
          195,
          590
         ],
         "xaxis": "x3",
         "y": [
          0.47298666709494885,
          0.47298666709494885
         ],
         "yaxis": "y3"
        },
        {
         "hovertemplate": "baseline=cookiemonster_base<br>destination=9FF55<br>index=%{x}<br>avg=%{y}<extra></extra>",
         "legendgroup": "cookiemonster_base",
         "line": {
          "color": "#EF553B",
          "dash": "solid"
         },
         "marker": {
          "symbol": "circle"
         },
         "mode": "lines+markers",
         "name": "cookiemonster_base",
         "orientation": "v",
         "showlegend": true,
         "type": "scatter",
         "x": [
          10,
          25,
          41,
          58,
          82,
          102,
          122,
          126,
          137,
          144,
          146,
          147,
          159,
          171,
          174,
          184,
          196,
          224,
          231,
          239,
          243,
          246,
          257,
          258,
          269,
          283,
          286,
          292,
          308,
          319,
          325,
          334,
          335,
          345,
          362,
          366,
          369,
          370,
          398,
          400,
          411,
          430,
          442,
          448,
          462,
          467,
          472,
          473,
          482,
          489,
          494,
          511,
          513,
          518,
          527,
          540,
          557,
          558,
          565,
          568,
          591,
          601,
          604,
          607,
          611,
          617,
          626,
          636,
          644,
          654,
          656,
          665,
          680,
          688,
          693,
          694,
          715,
          717,
          726,
          727,
          728,
          736,
          759,
          760,
          761,
          762,
          763,
          764,
          765,
          766,
          767,
          768,
          769
         ],
         "xaxis": "x",
         "y": [
          0.0029135097249468195,
          0.0055518506235247116,
          0.008445637849337165,
          0.011264797845857922,
          0.01520014854459779,
          0.02082075165841447,
          0.025274778392207643,
          0.026331517667517776,
          0.029731298705813144,
          0.032804980675037246,
          0.0341660966580213,
          0.03447852005394922,
          0.03754685367729782,
          0.04039005363500049,
          0.0412657858811623,
          0.04222069878391797,
          0.045326465787246153,
          0.051046711622466955,
          0.051678698304454235,
          0.05580459733434579,
          0.05630565753674341,
          0.05871095322801973,
          0.06163749269556553,
          0.06240941166802664,
          0.06486830429584199,
          0.06781973861412711,
          0.06844477318619673,
          0.07002021848418906,
          0.0730158416905058,
          0.07692392986058141,
          0.07962748771779586,
          0.08307618925081275,
          0.08320561343599142,
          0.08773436735166554,
          0.09070026755526707,
          0.09126831009331791,
          0.09172506944408983,
          0.09235871923434247,
          0.09739984562811609,
          0.09787640691988139,
          0.10015062926597809,
          0.10354495211012393,
          0.10600445525653061,
          0.10707921048395265,
          0.10988249142747476,
          0.11064786456596895,
          0.11267516199695031,
          0.1127178019054823,
          0.11529972278846191,
          0.11760315200877355,
          0.11956235510325619,
          0.12490884920806662,
          0.12540505379214256,
          0.12726849607164561,
          0.1288367349887922,
          0.13463901566264103,
          0.13671755440312378,
          0.13677236552521643,
          0.13858680144669686,
          0.13979214005518922,
          0.14457169566008815,
          0.14623052031135525,
          0.14807463805597962,
          0.1500660271684585,
          0.15315354440962017,
          0.15519372064509293,
          0.15663330325520367,
          0.157811426681069,
          0.16026534218312233,
          0.16226170753820318,
          0.16256636121976886,
          0.16446027002906916,
          0.16795212680995814,
          0.16999562493161058,
          0.1728261448319039,
          0.1738099948626645,
          0.17722617526961698,
          0.17788668500269672,
          0.18103870524175236,
          0.18145519064363239,
          0.18300204953114257,
          0.18460804246457044,
          0.18489561117677777,
          0.18489561117677777,
          0.18489561117677777,
          0.18489561117677777,
          0.18489561117677777,
          0.18489561117677777,
          0.18489561117677777,
          0.18489561117677777,
          0.18489561117677777,
          0.18489561117677777,
          0.18489561117677777
         ],
         "yaxis": "y"
        },
        {
         "hovertemplate": "baseline=cookiemonster_base<br>destination=482E9<br>index=%{x}<br>avg=%{y}<extra></extra>",
         "legendgroup": "cookiemonster_base",
         "line": {
          "color": "#EF553B",
          "dash": "solid"
         },
         "marker": {
          "symbol": "circle"
         },
         "mode": "lines+markers",
         "name": "cookiemonster_base",
         "orientation": "v",
         "showlegend": false,
         "type": "scatter",
         "x": [
          109,
          160,
          235,
          299,
          396,
          483,
          566,
          663
         ],
         "xaxis": "x2",
         "y": [
          0.035605042793155114,
          0.07086872836069852,
          0.10562779889907827,
          0.141054742270177,
          0.17425544286554598,
          0.2088660972188749,
          0.24426335735296062,
          0.2795418845390077
         ],
         "yaxis": "y2"
        },
        {
         "hovertemplate": "baseline=cookiemonster_base<br>destination=9D883<br>index=%{x}<br>avg=%{y}<extra></extra>",
         "legendgroup": "cookiemonster_base",
         "line": {
          "color": "#EF553B",
          "dash": "solid"
         },
         "marker": {
          "symbol": "circle"
         },
         "mode": "lines+markers",
         "name": "cookiemonster_base",
         "orientation": "v",
         "showlegend": false,
         "type": "scatter",
         "x": [
          195,
          590
         ],
         "xaxis": "x3",
         "y": [
          0.11346902367176728,
          0.2277502466708711
         ],
         "yaxis": "y3"
        },
        {
         "hovertemplate": "baseline=cookiemonster<br>destination=9FF55<br>index=%{x}<br>avg=%{y}<extra></extra>",
         "legendgroup": "cookiemonster",
         "line": {
          "color": "#00cc96",
          "dash": "solid"
         },
         "marker": {
          "symbol": "circle"
         },
         "mode": "lines+markers",
         "name": "cookiemonster",
         "orientation": "v",
         "showlegend": true,
         "type": "scatter",
         "x": [
          10,
          25,
          41,
          58,
          82,
          102,
          122,
          126,
          137,
          144,
          146,
          147,
          159,
          171,
          174,
          184,
          196,
          224,
          231,
          239,
          243,
          246,
          257,
          258,
          269,
          283,
          286,
          292,
          308,
          319,
          325,
          334,
          335,
          345,
          362,
          366,
          369,
          370,
          398,
          400,
          411,
          430,
          442,
          448,
          462,
          467,
          472,
          473,
          482,
          489,
          494,
          511,
          513,
          518,
          527,
          540,
          557,
          558,
          565,
          568,
          591,
          601,
          604,
          607,
          611,
          617,
          626,
          636,
          644,
          654,
          656,
          665,
          680,
          688,
          693,
          694,
          715,
          717,
          726,
          727,
          728,
          736,
          759,
          760,
          761,
          762,
          763,
          764,
          765,
          766,
          767,
          768,
          769
         ],
         "xaxis": "x",
         "y": [
          0.001703749821604917,
          0.0033165361265129305,
          0.004955239864261949,
          0.006649527590687565,
          0.00891624129084765,
          0.012082488157698138,
          0.014808526784674876,
          0.015424625876904175,
          0.017432764632281102,
          0.019206541426915365,
          0.019917826865641256,
          0.02007769263841143,
          0.021707427283454355,
          0.02345232138278152,
          0.023968625543463244,
          0.024539720372487393,
          0.02635174222296318,
          0.02944216632251025,
          0.029838741062258277,
          0.03230252623454411,
          0.032609224798274855,
          0.03404598213993841,
          0.035795152692676205,
          0.03624892603521814,
          0.03762904760762156,
          0.03913677008408854,
          0.03945872887053118,
          0.04028813490363476,
          0.042076048577200244,
          0.04444166912242775,
          0.04605345467215757,
          0.048083119704145666,
          0.04815041919614337,
          0.050571211243472074,
          0.052166085312265895,
          0.05250840568388076,
          0.05278428833174699,
          0.05318856188075741,
          0.05621240724547459,
          0.056495603464429146,
          0.05777562878033349,
          0.05952117496385045,
          0.06096961492101595,
          0.061636698819698674,
          0.06334981635636366,
          0.06380076096618348,
          0.06500255528831848,
          0.06503392665903944,
          0.06654476987439378,
          0.06789019689078533,
          0.06898482539733489,
          0.07181141837131395,
          0.07211191340760072,
          0.07325314936449408,
          0.0742050495177246,
          0.07771257820879421,
          0.0789058614546555,
          0.07893509405310489,
          0.07987915907529868,
          0.08050490920100242,
          0.08327228796257469,
          0.08430839063602129,
          0.08543758360737368,
          0.08663336817780842,
          0.08846951953213335,
          0.08967474140653123,
          0.09049008074075539,
          0.09110959488423026,
          0.09241450803827804,
          0.09350117745913411,
          0.09368122911196866,
          0.0948580433710384,
          0.0969693525008094,
          0.09819146511037917,
          0.0998459340073962,
          0.1004176673384309,
          0.10223724199422131,
          0.1026010704581268,
          0.10446383612468582,
          0.10470092156971775,
          0.10558127794417606,
          0.10644875331492969,
          0.10661777064516982,
          0.10661777064516982,
          0.10661777064516982,
          0.10661777064516982,
          0.10661777064516982,
          0.10661777064516982,
          0.10661777064516982,
          0.10661777064516982,
          0.10661777064516982,
          0.10661777064516982,
          0.10661777064516982
         ],
         "yaxis": "y"
        },
        {
         "hovertemplate": "baseline=cookiemonster<br>destination=482E9<br>index=%{x}<br>avg=%{y}<extra></extra>",
         "legendgroup": "cookiemonster",
         "line": {
          "color": "#00cc96",
          "dash": "solid"
         },
         "marker": {
          "symbol": "circle"
         },
         "mode": "lines+markers",
         "name": "cookiemonster",
         "orientation": "v",
         "showlegend": false,
         "type": "scatter",
         "x": [
          109,
          160,
          235,
          299,
          396,
          483,
          566,
          663
         ],
         "xaxis": "x2",
         "y": [
          0.0207188994327824,
          0.041348749154534965,
          0.06197859887628878,
          0.0824006659389745,
          0.10249621739455217,
          0.12279955150919747,
          0.14356297579749322,
          0.16376241858260454
         ],
         "yaxis": "y2"
        },
        {
         "hovertemplate": "baseline=cookiemonster<br>destination=9D883<br>index=%{x}<br>avg=%{y}<extra></extra>",
         "legendgroup": "cookiemonster",
         "line": {
          "color": "#00cc96",
          "dash": "solid"
         },
         "marker": {
          "symbol": "circle"
         },
         "mode": "lines+markers",
         "name": "cookiemonster",
         "orientation": "v",
         "showlegend": false,
         "type": "scatter",
         "x": [
          195,
          590
         ],
         "xaxis": "x3",
         "y": [
          0.06669589770349009,
          0.13358290113105667
         ],
         "yaxis": "y3"
        }
       ],
       "layout": {
        "annotations": [
         {
          "showarrow": false,
          "text": "destination=9FF55",
          "x": 0.15999999999999998,
          "xanchor": "center",
          "xref": "paper",
          "y": 1,
          "yanchor": "bottom",
          "yref": "paper"
         },
         {
          "showarrow": false,
          "text": "destination=482E9",
          "x": 0.49999999999999994,
          "xanchor": "center",
          "xref": "paper",
          "y": 1,
          "yanchor": "bottom",
          "yref": "paper"
         },
         {
          "showarrow": false,
          "text": "destination=9D883",
          "x": 0.8399999999999999,
          "xanchor": "center",
          "xref": "paper",
          "y": 1,
          "yanchor": "bottom",
          "yref": "paper"
         }
        ],
        "height": 1000,
        "legend": {
         "title": {
          "text": "baseline"
         },
         "tracegroupgap": 0
        },
        "template": {
         "data": {
          "bar": [
           {
            "error_x": {
             "color": "#2a3f5f"
            },
            "error_y": {
             "color": "#2a3f5f"
            },
            "marker": {
             "line": {
              "color": "#E5ECF6",
              "width": 0.5
             },
             "pattern": {
              "fillmode": "overlay",
              "size": 10,
              "solidity": 0.2
             }
            },
            "type": "bar"
           }
          ],
          "barpolar": [
           {
            "marker": {
             "line": {
              "color": "#E5ECF6",
              "width": 0.5
             },
             "pattern": {
              "fillmode": "overlay",
              "size": 10,
              "solidity": 0.2
             }
            },
            "type": "barpolar"
           }
          ],
          "carpet": [
           {
            "aaxis": {
             "endlinecolor": "#2a3f5f",
             "gridcolor": "white",
             "linecolor": "white",
             "minorgridcolor": "white",
             "startlinecolor": "#2a3f5f"
            },
            "baxis": {
             "endlinecolor": "#2a3f5f",
             "gridcolor": "white",
             "linecolor": "white",
             "minorgridcolor": "white",
             "startlinecolor": "#2a3f5f"
            },
            "type": "carpet"
           }
          ],
          "choropleth": [
           {
            "colorbar": {
             "outlinewidth": 0,
             "ticks": ""
            },
            "type": "choropleth"
           }
          ],
          "contour": [
           {
            "colorbar": {
             "outlinewidth": 0,
             "ticks": ""
            },
            "colorscale": [
             [
              0,
              "#0d0887"
             ],
             [
              0.1111111111111111,
              "#46039f"
             ],
             [
              0.2222222222222222,
              "#7201a8"
             ],
             [
              0.3333333333333333,
              "#9c179e"
             ],
             [
              0.4444444444444444,
              "#bd3786"
             ],
             [
              0.5555555555555556,
              "#d8576b"
             ],
             [
              0.6666666666666666,
              "#ed7953"
             ],
             [
              0.7777777777777778,
              "#fb9f3a"
             ],
             [
              0.8888888888888888,
              "#fdca26"
             ],
             [
              1,
              "#f0f921"
             ]
            ],
            "type": "contour"
           }
          ],
          "contourcarpet": [
           {
            "colorbar": {
             "outlinewidth": 0,
             "ticks": ""
            },
            "type": "contourcarpet"
           }
          ],
          "heatmap": [
           {
            "colorbar": {
             "outlinewidth": 0,
             "ticks": ""
            },
            "colorscale": [
             [
              0,
              "#0d0887"
             ],
             [
              0.1111111111111111,
              "#46039f"
             ],
             [
              0.2222222222222222,
              "#7201a8"
             ],
             [
              0.3333333333333333,
              "#9c179e"
             ],
             [
              0.4444444444444444,
              "#bd3786"
             ],
             [
              0.5555555555555556,
              "#d8576b"
             ],
             [
              0.6666666666666666,
              "#ed7953"
             ],
             [
              0.7777777777777778,
              "#fb9f3a"
             ],
             [
              0.8888888888888888,
              "#fdca26"
             ],
             [
              1,
              "#f0f921"
             ]
            ],
            "type": "heatmap"
           }
          ],
          "heatmapgl": [
           {
            "colorbar": {
             "outlinewidth": 0,
             "ticks": ""
            },
            "colorscale": [
             [
              0,
              "#0d0887"
             ],
             [
              0.1111111111111111,
              "#46039f"
             ],
             [
              0.2222222222222222,
              "#7201a8"
             ],
             [
              0.3333333333333333,
              "#9c179e"
             ],
             [
              0.4444444444444444,
              "#bd3786"
             ],
             [
              0.5555555555555556,
              "#d8576b"
             ],
             [
              0.6666666666666666,
              "#ed7953"
             ],
             [
              0.7777777777777778,
              "#fb9f3a"
             ],
             [
              0.8888888888888888,
              "#fdca26"
             ],
             [
              1,
              "#f0f921"
             ]
            ],
            "type": "heatmapgl"
           }
          ],
          "histogram": [
           {
            "marker": {
             "pattern": {
              "fillmode": "overlay",
              "size": 10,
              "solidity": 0.2
             }
            },
            "type": "histogram"
           }
          ],
          "histogram2d": [
           {
            "colorbar": {
             "outlinewidth": 0,
             "ticks": ""
            },
            "colorscale": [
             [
              0,
              "#0d0887"
             ],
             [
              0.1111111111111111,
              "#46039f"
             ],
             [
              0.2222222222222222,
              "#7201a8"
             ],
             [
              0.3333333333333333,
              "#9c179e"
             ],
             [
              0.4444444444444444,
              "#bd3786"
             ],
             [
              0.5555555555555556,
              "#d8576b"
             ],
             [
              0.6666666666666666,
              "#ed7953"
             ],
             [
              0.7777777777777778,
              "#fb9f3a"
             ],
             [
              0.8888888888888888,
              "#fdca26"
             ],
             [
              1,
              "#f0f921"
             ]
            ],
            "type": "histogram2d"
           }
          ],
          "histogram2dcontour": [
           {
            "colorbar": {
             "outlinewidth": 0,
             "ticks": ""
            },
            "colorscale": [
             [
              0,
              "#0d0887"
             ],
             [
              0.1111111111111111,
              "#46039f"
             ],
             [
              0.2222222222222222,
              "#7201a8"
             ],
             [
              0.3333333333333333,
              "#9c179e"
             ],
             [
              0.4444444444444444,
              "#bd3786"
             ],
             [
              0.5555555555555556,
              "#d8576b"
             ],
             [
              0.6666666666666666,
              "#ed7953"
             ],
             [
              0.7777777777777778,
              "#fb9f3a"
             ],
             [
              0.8888888888888888,
              "#fdca26"
             ],
             [
              1,
              "#f0f921"
             ]
            ],
            "type": "histogram2dcontour"
           }
          ],
          "mesh3d": [
           {
            "colorbar": {
             "outlinewidth": 0,
             "ticks": ""
            },
            "type": "mesh3d"
           }
          ],
          "parcoords": [
           {
            "line": {
             "colorbar": {
              "outlinewidth": 0,
              "ticks": ""
             }
            },
            "type": "parcoords"
           }
          ],
          "pie": [
           {
            "automargin": true,
            "type": "pie"
           }
          ],
          "scatter": [
           {
            "fillpattern": {
             "fillmode": "overlay",
             "size": 10,
             "solidity": 0.2
            },
            "type": "scatter"
           }
          ],
          "scatter3d": [
           {
            "line": {
             "colorbar": {
              "outlinewidth": 0,
              "ticks": ""
             }
            },
            "marker": {
             "colorbar": {
              "outlinewidth": 0,
              "ticks": ""
             }
            },
            "type": "scatter3d"
           }
          ],
          "scattercarpet": [
           {
            "marker": {
             "colorbar": {
              "outlinewidth": 0,
              "ticks": ""
             }
            },
            "type": "scattercarpet"
           }
          ],
          "scattergeo": [
           {
            "marker": {
             "colorbar": {
              "outlinewidth": 0,
              "ticks": ""
             }
            },
            "type": "scattergeo"
           }
          ],
          "scattergl": [
           {
            "marker": {
             "colorbar": {
              "outlinewidth": 0,
              "ticks": ""
             }
            },
            "type": "scattergl"
           }
          ],
          "scattermapbox": [
           {
            "marker": {
             "colorbar": {
              "outlinewidth": 0,
              "ticks": ""
             }
            },
            "type": "scattermapbox"
           }
          ],
          "scatterpolar": [
           {
            "marker": {
             "colorbar": {
              "outlinewidth": 0,
              "ticks": ""
             }
            },
            "type": "scatterpolar"
           }
          ],
          "scatterpolargl": [
           {
            "marker": {
             "colorbar": {
              "outlinewidth": 0,
              "ticks": ""
             }
            },
            "type": "scatterpolargl"
           }
          ],
          "scatterternary": [
           {
            "marker": {
             "colorbar": {
              "outlinewidth": 0,
              "ticks": ""
             }
            },
            "type": "scatterternary"
           }
          ],
          "surface": [
           {
            "colorbar": {
             "outlinewidth": 0,
             "ticks": ""
            },
            "colorscale": [
             [
              0,
              "#0d0887"
             ],
             [
              0.1111111111111111,
              "#46039f"
             ],
             [
              0.2222222222222222,
              "#7201a8"
             ],
             [
              0.3333333333333333,
              "#9c179e"
             ],
             [
              0.4444444444444444,
              "#bd3786"
             ],
             [
              0.5555555555555556,
              "#d8576b"
             ],
             [
              0.6666666666666666,
              "#ed7953"
             ],
             [
              0.7777777777777778,
              "#fb9f3a"
             ],
             [
              0.8888888888888888,
              "#fdca26"
             ],
             [
              1,
              "#f0f921"
             ]
            ],
            "type": "surface"
           }
          ],
          "table": [
           {
            "cells": {
             "fill": {
              "color": "#EBF0F8"
             },
             "line": {
              "color": "white"
             }
            },
            "header": {
             "fill": {
              "color": "#C8D4E3"
             },
             "line": {
              "color": "white"
             }
            },
            "type": "table"
           }
          ]
         },
         "layout": {
          "annotationdefaults": {
           "arrowcolor": "#2a3f5f",
           "arrowhead": 0,
           "arrowwidth": 1
          },
          "autotypenumbers": "strict",
          "coloraxis": {
           "colorbar": {
            "outlinewidth": 0,
            "ticks": ""
           }
          },
          "colorscale": {
           "diverging": [
            [
             0,
             "#8e0152"
            ],
            [
             0.1,
             "#c51b7d"
            ],
            [
             0.2,
             "#de77ae"
            ],
            [
             0.3,
             "#f1b6da"
            ],
            [
             0.4,
             "#fde0ef"
            ],
            [
             0.5,
             "#f7f7f7"
            ],
            [
             0.6,
             "#e6f5d0"
            ],
            [
             0.7,
             "#b8e186"
            ],
            [
             0.8,
             "#7fbc41"
            ],
            [
             0.9,
             "#4d9221"
            ],
            [
             1,
             "#276419"
            ]
           ],
           "sequential": [
            [
             0,
             "#0d0887"
            ],
            [
             0.1111111111111111,
             "#46039f"
            ],
            [
             0.2222222222222222,
             "#7201a8"
            ],
            [
             0.3333333333333333,
             "#9c179e"
            ],
            [
             0.4444444444444444,
             "#bd3786"
            ],
            [
             0.5555555555555556,
             "#d8576b"
            ],
            [
             0.6666666666666666,
             "#ed7953"
            ],
            [
             0.7777777777777778,
             "#fb9f3a"
            ],
            [
             0.8888888888888888,
             "#fdca26"
            ],
            [
             1,
             "#f0f921"
            ]
           ],
           "sequentialminus": [
            [
             0,
             "#0d0887"
            ],
            [
             0.1111111111111111,
             "#46039f"
            ],
            [
             0.2222222222222222,
             "#7201a8"
            ],
            [
             0.3333333333333333,
             "#9c179e"
            ],
            [
             0.4444444444444444,
             "#bd3786"
            ],
            [
             0.5555555555555556,
             "#d8576b"
            ],
            [
             0.6666666666666666,
             "#ed7953"
            ],
            [
             0.7777777777777778,
             "#fb9f3a"
            ],
            [
             0.8888888888888888,
             "#fdca26"
            ],
            [
             1,
             "#f0f921"
            ]
           ]
          },
          "colorway": [
           "#636efa",
           "#EF553B",
           "#00cc96",
           "#ab63fa",
           "#FFA15A",
           "#19d3f3",
           "#FF6692",
           "#B6E880",
           "#FF97FF",
           "#FECB52"
          ],
          "font": {
           "color": "#2a3f5f"
          },
          "geo": {
           "bgcolor": "white",
           "lakecolor": "white",
           "landcolor": "#E5ECF6",
           "showlakes": true,
           "showland": true,
           "subunitcolor": "white"
          },
          "hoverlabel": {
           "align": "left"
          },
          "hovermode": "closest",
          "mapbox": {
           "style": "light"
          },
          "paper_bgcolor": "white",
          "plot_bgcolor": "#E5ECF6",
          "polar": {
           "angularaxis": {
            "gridcolor": "white",
            "linecolor": "white",
            "ticks": ""
           },
           "bgcolor": "#E5ECF6",
           "radialaxis": {
            "gridcolor": "white",
            "linecolor": "white",
            "ticks": ""
           }
          },
          "scene": {
           "xaxis": {
            "backgroundcolor": "#E5ECF6",
            "gridcolor": "white",
            "gridwidth": 2,
            "linecolor": "white",
            "showbackground": true,
            "ticks": "",
            "zerolinecolor": "white"
           },
           "yaxis": {
            "backgroundcolor": "#E5ECF6",
            "gridcolor": "white",
            "gridwidth": 2,
            "linecolor": "white",
            "showbackground": true,
            "ticks": "",
            "zerolinecolor": "white"
           },
           "zaxis": {
            "backgroundcolor": "#E5ECF6",
            "gridcolor": "white",
            "gridwidth": 2,
            "linecolor": "white",
            "showbackground": true,
            "ticks": "",
            "zerolinecolor": "white"
           }
          },
          "shapedefaults": {
           "line": {
            "color": "#2a3f5f"
           }
          },
          "ternary": {
           "aaxis": {
            "gridcolor": "white",
            "linecolor": "white",
            "ticks": ""
           },
           "baxis": {
            "gridcolor": "white",
            "linecolor": "white",
            "ticks": ""
           },
           "bgcolor": "#E5ECF6",
           "caxis": {
            "gridcolor": "white",
            "linecolor": "white",
            "ticks": ""
           }
          },
          "title": {
           "x": 0.05
          },
          "xaxis": {
           "automargin": true,
           "gridcolor": "white",
           "linecolor": "white",
           "ticks": "",
           "title": {
            "standoff": 15
           },
           "zerolinecolor": "white",
           "zerolinewidth": 2
          },
          "yaxis": {
           "automargin": true,
           "gridcolor": "white",
           "linecolor": "white",
           "ticks": "",
           "title": {
            "standoff": 15
           },
           "zerolinecolor": "white",
           "zerolinewidth": 2
          }
         }
        },
        "title": {
         "text": "Cumulative Budget Consumption epoch size 7"
        },
        "width": 1100,
        "xaxis": {
         "anchor": "y",
         "domain": [
          0,
          0.31999999999999995
         ],
         "title": {
          "text": "index"
         }
        },
        "xaxis2": {
         "anchor": "y2",
         "domain": [
          0.33999999999999997,
          0.6599999999999999
         ],
         "matches": "x",
         "title": {
          "text": "index"
         }
        },
        "xaxis3": {
         "anchor": "y3",
         "domain": [
          0.6799999999999999,
          0.9999999999999999
         ],
         "matches": "x",
         "title": {
          "text": "index"
         }
        },
        "yaxis": {
         "anchor": "x",
         "domain": [
          0,
          1
         ],
         "range": [
          0,
          1
         ],
         "title": {
          "text": "avg"
         }
        },
        "yaxis2": {
         "anchor": "x2",
         "domain": [
          0,
          1
         ],
         "matches": "y",
         "showticklabels": false
        },
        "yaxis3": {
         "anchor": "x3",
         "domain": [
          0,
          1
         ],
         "matches": "y",
         "showticklabels": false
        }
       }
      },
      "text/html": [
       "<div>                            <div id=\"35f0ff2e-14a9-473c-978b-bb1aa66689ed\" class=\"plotly-graph-div\" style=\"height:1000px; width:1100px;\"></div>            <script type=\"text/javascript\">                require([\"plotly\"], function(Plotly) {                    window.PLOTLYENV=window.PLOTLYENV || {};                                    if (document.getElementById(\"35f0ff2e-14a9-473c-978b-bb1aa66689ed\")) {                    Plotly.newPlot(                        \"35f0ff2e-14a9-473c-978b-bb1aa66689ed\",                        [{\"hovertemplate\":\"baseline=ipa\\u003cbr\\u003edestination=9FF55\\u003cbr\\u003eindex=%{x}\\u003cbr\\u003eavg=%{y}\\u003cextra\\u003e\\u003c\\u002fextra\\u003e\",\"legendgroup\":\"ipa\",\"line\":{\"color\":\"#636efa\",\"dash\":\"solid\"},\"marker\":{\"symbol\":\"circle\"},\"mode\":\"lines+markers\",\"name\":\"ipa\",\"orientation\":\"v\",\"showlegend\":true,\"x\":[10,25,41,58,82,102,122,126,137,144,146,147,159,171,174,184,196,224,231,239,243,246,257,258,269,283,286,292,308,319,325,334,335,345,362,366,369,370,398,400,411,430,442,448,462,467,472,473,482,489,494,511,513,518,527,540,557,558,565,568,591,601,604,607,611,617,626,636,644,654,656,665,680,688,693,694,715,717,726,727,728,736,759,760,761,762,763,764,765,766,767,768,769],\"xaxis\":\"x\",\"y\":[0.2558427881104496,0.2558427881104496,0.2558427881104496,0.2558427881104496,0.2558427881104496,0.2558427881104496,0.2558427881104496,0.2558427881104496,0.2558427881104496,0.2558427881104496,0.2558427881104496,0.2558427881104496,0.2558427881104496,0.2558427881104496,0.2558427881104496,0.2558427881104496,0.2558427881104496,0.2558427881104496,0.2558427881104496,0.2558427881104496,0.4385876367607707,0.4385876367607707,0.4385876367607707,0.4385876367607707,0.4385876367607707,0.4385876367607707,0.4385876367607707,0.4385876367607707,0.4385876367607707,0.4385876367607707,0.4385876367607707,0.4385876367607707,0.4385876367607707,0.4385876367607707,0.4385876367607707,0.4385876367607707,0.4385876367607707,0.4385876367607707,0.4385876367607707,0.4385876367607707,0.4385876367607707,0.4385876367607707,0.4385876367607707,0.4385876367607707,0.4385876367607707,0.4385876367607707,0.4385876367607707,0.4385876367607707,0.4385876367607707,0.4385876367607707,0.4385876367607707,0.4385876367607707,0.4385876367607707,0.4385876367607707,0.4385876367607707,0.4385876367607707,0.4385876367607707,0.4385876367607707,0.4385876367607707,0.4385876367607707,0.4385876367607707,0.4385876367607707,0.4385876367607707,0.4385876367607707,0.6213324854110919,0.6213324854110919,0.6213324854110919,0.6213324854110919,0.6213324854110919,0.6213324854110919,0.6213324854110919,0.6213324854110919,0.6213324854110919,0.6213324854110919,0.6213324854110919,0.6213324854110919,0.6213324854110919,0.6213324854110919,0.6213324854110919,0.6213324854110919,0.6213324854110919,0.6213324854110919,0.6213324854110919,0.6213324854110919,0.6213324854110919,0.6213324854110919,0.6213324854110919,0.6213324854110919,0.6213324854110919,0.6213324854110919,0.6213324854110919,0.6213324854110919,0.6213324854110919],\"yaxis\":\"y\",\"type\":\"scatter\"},{\"hovertemplate\":\"baseline=ipa\\u003cbr\\u003edestination=482E9\\u003cbr\\u003eindex=%{x}\\u003cbr\\u003eavg=%{y}\\u003cextra\\u003e\\u003c\\u002fextra\\u003e\",\"legendgroup\":\"ipa\",\"line\":{\"color\":\"#636efa\",\"dash\":\"solid\"},\"marker\":{\"symbol\":\"circle\"},\"mode\":\"lines+markers\",\"name\":\"ipa\",\"orientation\":\"v\",\"showlegend\":false,\"x\":[109,160,235,299,396,483,566,663],\"xaxis\":\"x2\",\"y\":[0.31327688340055054,0.31327688340055054,0.31327688340055054,0.31327688340055054,0.31327688340055054,0.31327688340055054,0.6787665807011928,0.6787665807011928],\"yaxis\":\"y2\",\"type\":\"scatter\"},{\"hovertemplate\":\"baseline=ipa\\u003cbr\\u003edestination=9D883\\u003cbr\\u003eindex=%{x}\\u003cbr\\u003eavg=%{y}\\u003cextra\\u003e\\u003c\\u002fextra\\u003e\",\"legendgroup\":\"ipa\",\"line\":{\"color\":\"#636efa\",\"dash\":\"solid\"},\"marker\":{\"symbol\":\"circle\"},\"mode\":\"lines+markers\",\"name\":\"ipa\",\"orientation\":\"v\",\"showlegend\":false,\"x\":[195,590],\"xaxis\":\"x3\",\"y\":[0.47298666709494885,0.47298666709494885],\"yaxis\":\"y3\",\"type\":\"scatter\"},{\"hovertemplate\":\"baseline=cookiemonster_base\\u003cbr\\u003edestination=9FF55\\u003cbr\\u003eindex=%{x}\\u003cbr\\u003eavg=%{y}\\u003cextra\\u003e\\u003c\\u002fextra\\u003e\",\"legendgroup\":\"cookiemonster_base\",\"line\":{\"color\":\"#EF553B\",\"dash\":\"solid\"},\"marker\":{\"symbol\":\"circle\"},\"mode\":\"lines+markers\",\"name\":\"cookiemonster_base\",\"orientation\":\"v\",\"showlegend\":true,\"x\":[10,25,41,58,82,102,122,126,137,144,146,147,159,171,174,184,196,224,231,239,243,246,257,258,269,283,286,292,308,319,325,334,335,345,362,366,369,370,398,400,411,430,442,448,462,467,472,473,482,489,494,511,513,518,527,540,557,558,565,568,591,601,604,607,611,617,626,636,644,654,656,665,680,688,693,694,715,717,726,727,728,736,759,760,761,762,763,764,765,766,767,768,769],\"xaxis\":\"x\",\"y\":[0.0029135097249468195,0.0055518506235247116,0.008445637849337165,0.011264797845857922,0.01520014854459779,0.02082075165841447,0.025274778392207643,0.026331517667517776,0.029731298705813144,0.032804980675037246,0.0341660966580213,0.03447852005394922,0.03754685367729782,0.04039005363500049,0.0412657858811623,0.04222069878391797,0.045326465787246153,0.051046711622466955,0.051678698304454235,0.05580459733434579,0.05630565753674341,0.05871095322801973,0.06163749269556553,0.06240941166802664,0.06486830429584199,0.06781973861412711,0.06844477318619673,0.07002021848418906,0.0730158416905058,0.07692392986058141,0.07962748771779586,0.08307618925081275,0.08320561343599142,0.08773436735166554,0.09070026755526707,0.09126831009331791,0.09172506944408983,0.09235871923434247,0.09739984562811609,0.09787640691988139,0.10015062926597809,0.10354495211012393,0.10600445525653061,0.10707921048395265,0.10988249142747476,0.11064786456596895,0.11267516199695031,0.1127178019054823,0.11529972278846191,0.11760315200877355,0.11956235510325619,0.12490884920806662,0.12540505379214256,0.12726849607164561,0.1288367349887922,0.13463901566264103,0.13671755440312378,0.13677236552521643,0.13858680144669686,0.13979214005518922,0.14457169566008815,0.14623052031135525,0.14807463805597962,0.1500660271684585,0.15315354440962017,0.15519372064509293,0.15663330325520367,0.157811426681069,0.16026534218312233,0.16226170753820318,0.16256636121976886,0.16446027002906916,0.16795212680995814,0.16999562493161058,0.1728261448319039,0.1738099948626645,0.17722617526961698,0.17788668500269672,0.18103870524175236,0.18145519064363239,0.18300204953114257,0.18460804246457044,0.18489561117677777,0.18489561117677777,0.18489561117677777,0.18489561117677777,0.18489561117677777,0.18489561117677777,0.18489561117677777,0.18489561117677777,0.18489561117677777,0.18489561117677777,0.18489561117677777],\"yaxis\":\"y\",\"type\":\"scatter\"},{\"hovertemplate\":\"baseline=cookiemonster_base\\u003cbr\\u003edestination=482E9\\u003cbr\\u003eindex=%{x}\\u003cbr\\u003eavg=%{y}\\u003cextra\\u003e\\u003c\\u002fextra\\u003e\",\"legendgroup\":\"cookiemonster_base\",\"line\":{\"color\":\"#EF553B\",\"dash\":\"solid\"},\"marker\":{\"symbol\":\"circle\"},\"mode\":\"lines+markers\",\"name\":\"cookiemonster_base\",\"orientation\":\"v\",\"showlegend\":false,\"x\":[109,160,235,299,396,483,566,663],\"xaxis\":\"x2\",\"y\":[0.035605042793155114,0.07086872836069852,0.10562779889907827,0.141054742270177,0.17425544286554598,0.2088660972188749,0.24426335735296062,0.2795418845390077],\"yaxis\":\"y2\",\"type\":\"scatter\"},{\"hovertemplate\":\"baseline=cookiemonster_base\\u003cbr\\u003edestination=9D883\\u003cbr\\u003eindex=%{x}\\u003cbr\\u003eavg=%{y}\\u003cextra\\u003e\\u003c\\u002fextra\\u003e\",\"legendgroup\":\"cookiemonster_base\",\"line\":{\"color\":\"#EF553B\",\"dash\":\"solid\"},\"marker\":{\"symbol\":\"circle\"},\"mode\":\"lines+markers\",\"name\":\"cookiemonster_base\",\"orientation\":\"v\",\"showlegend\":false,\"x\":[195,590],\"xaxis\":\"x3\",\"y\":[0.11346902367176728,0.2277502466708711],\"yaxis\":\"y3\",\"type\":\"scatter\"},{\"hovertemplate\":\"baseline=cookiemonster\\u003cbr\\u003edestination=9FF55\\u003cbr\\u003eindex=%{x}\\u003cbr\\u003eavg=%{y}\\u003cextra\\u003e\\u003c\\u002fextra\\u003e\",\"legendgroup\":\"cookiemonster\",\"line\":{\"color\":\"#00cc96\",\"dash\":\"solid\"},\"marker\":{\"symbol\":\"circle\"},\"mode\":\"lines+markers\",\"name\":\"cookiemonster\",\"orientation\":\"v\",\"showlegend\":true,\"x\":[10,25,41,58,82,102,122,126,137,144,146,147,159,171,174,184,196,224,231,239,243,246,257,258,269,283,286,292,308,319,325,334,335,345,362,366,369,370,398,400,411,430,442,448,462,467,472,473,482,489,494,511,513,518,527,540,557,558,565,568,591,601,604,607,611,617,626,636,644,654,656,665,680,688,693,694,715,717,726,727,728,736,759,760,761,762,763,764,765,766,767,768,769],\"xaxis\":\"x\",\"y\":[0.001703749821604917,0.0033165361265129305,0.004955239864261949,0.006649527590687565,0.00891624129084765,0.012082488157698138,0.014808526784674876,0.015424625876904175,0.017432764632281102,0.019206541426915365,0.019917826865641256,0.02007769263841143,0.021707427283454355,0.02345232138278152,0.023968625543463244,0.024539720372487393,0.02635174222296318,0.02944216632251025,0.029838741062258277,0.03230252623454411,0.032609224798274855,0.03404598213993841,0.035795152692676205,0.03624892603521814,0.03762904760762156,0.03913677008408854,0.03945872887053118,0.04028813490363476,0.042076048577200244,0.04444166912242775,0.04605345467215757,0.048083119704145666,0.04815041919614337,0.050571211243472074,0.052166085312265895,0.05250840568388076,0.05278428833174699,0.05318856188075741,0.05621240724547459,0.056495603464429146,0.05777562878033349,0.05952117496385045,0.06096961492101595,0.061636698819698674,0.06334981635636366,0.06380076096618348,0.06500255528831848,0.06503392665903944,0.06654476987439378,0.06789019689078533,0.06898482539733489,0.07181141837131395,0.07211191340760072,0.07325314936449408,0.0742050495177246,0.07771257820879421,0.0789058614546555,0.07893509405310489,0.07987915907529868,0.08050490920100242,0.08327228796257469,0.08430839063602129,0.08543758360737368,0.08663336817780842,0.08846951953213335,0.08967474140653123,0.09049008074075539,0.09110959488423026,0.09241450803827804,0.09350117745913411,0.09368122911196866,0.0948580433710384,0.0969693525008094,0.09819146511037917,0.0998459340073962,0.1004176673384309,0.10223724199422131,0.1026010704581268,0.10446383612468582,0.10470092156971775,0.10558127794417606,0.10644875331492969,0.10661777064516982,0.10661777064516982,0.10661777064516982,0.10661777064516982,0.10661777064516982,0.10661777064516982,0.10661777064516982,0.10661777064516982,0.10661777064516982,0.10661777064516982,0.10661777064516982],\"yaxis\":\"y\",\"type\":\"scatter\"},{\"hovertemplate\":\"baseline=cookiemonster\\u003cbr\\u003edestination=482E9\\u003cbr\\u003eindex=%{x}\\u003cbr\\u003eavg=%{y}\\u003cextra\\u003e\\u003c\\u002fextra\\u003e\",\"legendgroup\":\"cookiemonster\",\"line\":{\"color\":\"#00cc96\",\"dash\":\"solid\"},\"marker\":{\"symbol\":\"circle\"},\"mode\":\"lines+markers\",\"name\":\"cookiemonster\",\"orientation\":\"v\",\"showlegend\":false,\"x\":[109,160,235,299,396,483,566,663],\"xaxis\":\"x2\",\"y\":[0.0207188994327824,0.041348749154534965,0.06197859887628878,0.0824006659389745,0.10249621739455217,0.12279955150919747,0.14356297579749322,0.16376241858260454],\"yaxis\":\"y2\",\"type\":\"scatter\"},{\"hovertemplate\":\"baseline=cookiemonster\\u003cbr\\u003edestination=9D883\\u003cbr\\u003eindex=%{x}\\u003cbr\\u003eavg=%{y}\\u003cextra\\u003e\\u003c\\u002fextra\\u003e\",\"legendgroup\":\"cookiemonster\",\"line\":{\"color\":\"#00cc96\",\"dash\":\"solid\"},\"marker\":{\"symbol\":\"circle\"},\"mode\":\"lines+markers\",\"name\":\"cookiemonster\",\"orientation\":\"v\",\"showlegend\":false,\"x\":[195,590],\"xaxis\":\"x3\",\"y\":[0.06669589770349009,0.13358290113105667],\"yaxis\":\"y3\",\"type\":\"scatter\"}],                        {\"annotations\":[{\"showarrow\":false,\"text\":\"destination=9FF55\",\"x\":0.15999999999999998,\"xanchor\":\"center\",\"xref\":\"paper\",\"y\":1.0,\"yanchor\":\"bottom\",\"yref\":\"paper\"},{\"showarrow\":false,\"text\":\"destination=482E9\",\"x\":0.49999999999999994,\"xanchor\":\"center\",\"xref\":\"paper\",\"y\":1.0,\"yanchor\":\"bottom\",\"yref\":\"paper\"},{\"showarrow\":false,\"text\":\"destination=9D883\",\"x\":0.8399999999999999,\"xanchor\":\"center\",\"xref\":\"paper\",\"y\":1.0,\"yanchor\":\"bottom\",\"yref\":\"paper\"}],\"height\":1000,\"legend\":{\"title\":{\"text\":\"baseline\"},\"tracegroupgap\":0},\"template\":{\"data\":{\"barpolar\":[{\"marker\":{\"line\":{\"color\":\"#E5ECF6\",\"width\":0.5},\"pattern\":{\"fillmode\":\"overlay\",\"size\":10,\"solidity\":0.2}},\"type\":\"barpolar\"}],\"bar\":[{\"error_x\":{\"color\":\"#2a3f5f\"},\"error_y\":{\"color\":\"#2a3f5f\"},\"marker\":{\"line\":{\"color\":\"#E5ECF6\",\"width\":0.5},\"pattern\":{\"fillmode\":\"overlay\",\"size\":10,\"solidity\":0.2}},\"type\":\"bar\"}],\"carpet\":[{\"aaxis\":{\"endlinecolor\":\"#2a3f5f\",\"gridcolor\":\"white\",\"linecolor\":\"white\",\"minorgridcolor\":\"white\",\"startlinecolor\":\"#2a3f5f\"},\"baxis\":{\"endlinecolor\":\"#2a3f5f\",\"gridcolor\":\"white\",\"linecolor\":\"white\",\"minorgridcolor\":\"white\",\"startlinecolor\":\"#2a3f5f\"},\"type\":\"carpet\"}],\"choropleth\":[{\"colorbar\":{\"outlinewidth\":0,\"ticks\":\"\"},\"type\":\"choropleth\"}],\"contourcarpet\":[{\"colorbar\":{\"outlinewidth\":0,\"ticks\":\"\"},\"type\":\"contourcarpet\"}],\"contour\":[{\"colorbar\":{\"outlinewidth\":0,\"ticks\":\"\"},\"colorscale\":[[0.0,\"#0d0887\"],[0.1111111111111111,\"#46039f\"],[0.2222222222222222,\"#7201a8\"],[0.3333333333333333,\"#9c179e\"],[0.4444444444444444,\"#bd3786\"],[0.5555555555555556,\"#d8576b\"],[0.6666666666666666,\"#ed7953\"],[0.7777777777777778,\"#fb9f3a\"],[0.8888888888888888,\"#fdca26\"],[1.0,\"#f0f921\"]],\"type\":\"contour\"}],\"heatmapgl\":[{\"colorbar\":{\"outlinewidth\":0,\"ticks\":\"\"},\"colorscale\":[[0.0,\"#0d0887\"],[0.1111111111111111,\"#46039f\"],[0.2222222222222222,\"#7201a8\"],[0.3333333333333333,\"#9c179e\"],[0.4444444444444444,\"#bd3786\"],[0.5555555555555556,\"#d8576b\"],[0.6666666666666666,\"#ed7953\"],[0.7777777777777778,\"#fb9f3a\"],[0.8888888888888888,\"#fdca26\"],[1.0,\"#f0f921\"]],\"type\":\"heatmapgl\"}],\"heatmap\":[{\"colorbar\":{\"outlinewidth\":0,\"ticks\":\"\"},\"colorscale\":[[0.0,\"#0d0887\"],[0.1111111111111111,\"#46039f\"],[0.2222222222222222,\"#7201a8\"],[0.3333333333333333,\"#9c179e\"],[0.4444444444444444,\"#bd3786\"],[0.5555555555555556,\"#d8576b\"],[0.6666666666666666,\"#ed7953\"],[0.7777777777777778,\"#fb9f3a\"],[0.8888888888888888,\"#fdca26\"],[1.0,\"#f0f921\"]],\"type\":\"heatmap\"}],\"histogram2dcontour\":[{\"colorbar\":{\"outlinewidth\":0,\"ticks\":\"\"},\"colorscale\":[[0.0,\"#0d0887\"],[0.1111111111111111,\"#46039f\"],[0.2222222222222222,\"#7201a8\"],[0.3333333333333333,\"#9c179e\"],[0.4444444444444444,\"#bd3786\"],[0.5555555555555556,\"#d8576b\"],[0.6666666666666666,\"#ed7953\"],[0.7777777777777778,\"#fb9f3a\"],[0.8888888888888888,\"#fdca26\"],[1.0,\"#f0f921\"]],\"type\":\"histogram2dcontour\"}],\"histogram2d\":[{\"colorbar\":{\"outlinewidth\":0,\"ticks\":\"\"},\"colorscale\":[[0.0,\"#0d0887\"],[0.1111111111111111,\"#46039f\"],[0.2222222222222222,\"#7201a8\"],[0.3333333333333333,\"#9c179e\"],[0.4444444444444444,\"#bd3786\"],[0.5555555555555556,\"#d8576b\"],[0.6666666666666666,\"#ed7953\"],[0.7777777777777778,\"#fb9f3a\"],[0.8888888888888888,\"#fdca26\"],[1.0,\"#f0f921\"]],\"type\":\"histogram2d\"}],\"histogram\":[{\"marker\":{\"pattern\":{\"fillmode\":\"overlay\",\"size\":10,\"solidity\":0.2}},\"type\":\"histogram\"}],\"mesh3d\":[{\"colorbar\":{\"outlinewidth\":0,\"ticks\":\"\"},\"type\":\"mesh3d\"}],\"parcoords\":[{\"line\":{\"colorbar\":{\"outlinewidth\":0,\"ticks\":\"\"}},\"type\":\"parcoords\"}],\"pie\":[{\"automargin\":true,\"type\":\"pie\"}],\"scatter3d\":[{\"line\":{\"colorbar\":{\"outlinewidth\":0,\"ticks\":\"\"}},\"marker\":{\"colorbar\":{\"outlinewidth\":0,\"ticks\":\"\"}},\"type\":\"scatter3d\"}],\"scattercarpet\":[{\"marker\":{\"colorbar\":{\"outlinewidth\":0,\"ticks\":\"\"}},\"type\":\"scattercarpet\"}],\"scattergeo\":[{\"marker\":{\"colorbar\":{\"outlinewidth\":0,\"ticks\":\"\"}},\"type\":\"scattergeo\"}],\"scattergl\":[{\"marker\":{\"colorbar\":{\"outlinewidth\":0,\"ticks\":\"\"}},\"type\":\"scattergl\"}],\"scattermapbox\":[{\"marker\":{\"colorbar\":{\"outlinewidth\":0,\"ticks\":\"\"}},\"type\":\"scattermapbox\"}],\"scatterpolargl\":[{\"marker\":{\"colorbar\":{\"outlinewidth\":0,\"ticks\":\"\"}},\"type\":\"scatterpolargl\"}],\"scatterpolar\":[{\"marker\":{\"colorbar\":{\"outlinewidth\":0,\"ticks\":\"\"}},\"type\":\"scatterpolar\"}],\"scatter\":[{\"fillpattern\":{\"fillmode\":\"overlay\",\"size\":10,\"solidity\":0.2},\"type\":\"scatter\"}],\"scatterternary\":[{\"marker\":{\"colorbar\":{\"outlinewidth\":0,\"ticks\":\"\"}},\"type\":\"scatterternary\"}],\"surface\":[{\"colorbar\":{\"outlinewidth\":0,\"ticks\":\"\"},\"colorscale\":[[0.0,\"#0d0887\"],[0.1111111111111111,\"#46039f\"],[0.2222222222222222,\"#7201a8\"],[0.3333333333333333,\"#9c179e\"],[0.4444444444444444,\"#bd3786\"],[0.5555555555555556,\"#d8576b\"],[0.6666666666666666,\"#ed7953\"],[0.7777777777777778,\"#fb9f3a\"],[0.8888888888888888,\"#fdca26\"],[1.0,\"#f0f921\"]],\"type\":\"surface\"}],\"table\":[{\"cells\":{\"fill\":{\"color\":\"#EBF0F8\"},\"line\":{\"color\":\"white\"}},\"header\":{\"fill\":{\"color\":\"#C8D4E3\"},\"line\":{\"color\":\"white\"}},\"type\":\"table\"}]},\"layout\":{\"annotationdefaults\":{\"arrowcolor\":\"#2a3f5f\",\"arrowhead\":0,\"arrowwidth\":1},\"autotypenumbers\":\"strict\",\"coloraxis\":{\"colorbar\":{\"outlinewidth\":0,\"ticks\":\"\"}},\"colorscale\":{\"diverging\":[[0,\"#8e0152\"],[0.1,\"#c51b7d\"],[0.2,\"#de77ae\"],[0.3,\"#f1b6da\"],[0.4,\"#fde0ef\"],[0.5,\"#f7f7f7\"],[0.6,\"#e6f5d0\"],[0.7,\"#b8e186\"],[0.8,\"#7fbc41\"],[0.9,\"#4d9221\"],[1,\"#276419\"]],\"sequential\":[[0.0,\"#0d0887\"],[0.1111111111111111,\"#46039f\"],[0.2222222222222222,\"#7201a8\"],[0.3333333333333333,\"#9c179e\"],[0.4444444444444444,\"#bd3786\"],[0.5555555555555556,\"#d8576b\"],[0.6666666666666666,\"#ed7953\"],[0.7777777777777778,\"#fb9f3a\"],[0.8888888888888888,\"#fdca26\"],[1.0,\"#f0f921\"]],\"sequentialminus\":[[0.0,\"#0d0887\"],[0.1111111111111111,\"#46039f\"],[0.2222222222222222,\"#7201a8\"],[0.3333333333333333,\"#9c179e\"],[0.4444444444444444,\"#bd3786\"],[0.5555555555555556,\"#d8576b\"],[0.6666666666666666,\"#ed7953\"],[0.7777777777777778,\"#fb9f3a\"],[0.8888888888888888,\"#fdca26\"],[1.0,\"#f0f921\"]]},\"colorway\":[\"#636efa\",\"#EF553B\",\"#00cc96\",\"#ab63fa\",\"#FFA15A\",\"#19d3f3\",\"#FF6692\",\"#B6E880\",\"#FF97FF\",\"#FECB52\"],\"font\":{\"color\":\"#2a3f5f\"},\"geo\":{\"bgcolor\":\"white\",\"lakecolor\":\"white\",\"landcolor\":\"#E5ECF6\",\"showlakes\":true,\"showland\":true,\"subunitcolor\":\"white\"},\"hoverlabel\":{\"align\":\"left\"},\"hovermode\":\"closest\",\"mapbox\":{\"style\":\"light\"},\"paper_bgcolor\":\"white\",\"plot_bgcolor\":\"#E5ECF6\",\"polar\":{\"angularaxis\":{\"gridcolor\":\"white\",\"linecolor\":\"white\",\"ticks\":\"\"},\"bgcolor\":\"#E5ECF6\",\"radialaxis\":{\"gridcolor\":\"white\",\"linecolor\":\"white\",\"ticks\":\"\"}},\"scene\":{\"xaxis\":{\"backgroundcolor\":\"#E5ECF6\",\"gridcolor\":\"white\",\"gridwidth\":2,\"linecolor\":\"white\",\"showbackground\":true,\"ticks\":\"\",\"zerolinecolor\":\"white\"},\"yaxis\":{\"backgroundcolor\":\"#E5ECF6\",\"gridcolor\":\"white\",\"gridwidth\":2,\"linecolor\":\"white\",\"showbackground\":true,\"ticks\":\"\",\"zerolinecolor\":\"white\"},\"zaxis\":{\"backgroundcolor\":\"#E5ECF6\",\"gridcolor\":\"white\",\"gridwidth\":2,\"linecolor\":\"white\",\"showbackground\":true,\"ticks\":\"\",\"zerolinecolor\":\"white\"}},\"shapedefaults\":{\"line\":{\"color\":\"#2a3f5f\"}},\"ternary\":{\"aaxis\":{\"gridcolor\":\"white\",\"linecolor\":\"white\",\"ticks\":\"\"},\"baxis\":{\"gridcolor\":\"white\",\"linecolor\":\"white\",\"ticks\":\"\"},\"bgcolor\":\"#E5ECF6\",\"caxis\":{\"gridcolor\":\"white\",\"linecolor\":\"white\",\"ticks\":\"\"}},\"title\":{\"x\":0.05},\"xaxis\":{\"automargin\":true,\"gridcolor\":\"white\",\"linecolor\":\"white\",\"ticks\":\"\",\"title\":{\"standoff\":15},\"zerolinecolor\":\"white\",\"zerolinewidth\":2},\"yaxis\":{\"automargin\":true,\"gridcolor\":\"white\",\"linecolor\":\"white\",\"ticks\":\"\",\"title\":{\"standoff\":15},\"zerolinecolor\":\"white\",\"zerolinewidth\":2}}},\"title\":{\"text\":\"Cumulative Budget Consumption epoch size 7\"},\"width\":1100,\"xaxis\":{\"anchor\":\"y\",\"domain\":[0.0,0.31999999999999995],\"title\":{\"text\":\"index\"}},\"yaxis\":{\"anchor\":\"x\",\"domain\":[0.0,1.0],\"range\":[0,1],\"title\":{\"text\":\"avg\"}},\"xaxis2\":{\"anchor\":\"y2\",\"domain\":[0.33999999999999997,0.6599999999999999],\"matches\":\"x\",\"title\":{\"text\":\"index\"}},\"yaxis2\":{\"anchor\":\"x2\",\"domain\":[0.0,1.0],\"matches\":\"y\",\"showticklabels\":false},\"xaxis3\":{\"anchor\":\"y3\",\"domain\":[0.6799999999999999,0.9999999999999999],\"matches\":\"x\",\"title\":{\"text\":\"index\"}},\"yaxis3\":{\"anchor\":\"x3\",\"domain\":[0.0,1.0],\"matches\":\"y\",\"showticklabels\":false}},                        {\"responsive\": true}                    ).then(function(){\n",
       "                            \n",
       "var gd = document.getElementById('35f0ff2e-14a9-473c-978b-bb1aa66689ed');\n",
       "var x = new MutationObserver(function (mutations, observer) {{\n",
       "        var display = window.getComputedStyle(gd).display;\n",
       "        if (!display || display === 'none') {{\n",
       "            console.log([gd, 'removed!']);\n",
       "            Plotly.purge(gd);\n",
       "            observer.disconnect();\n",
       "        }}\n",
       "}});\n",
       "\n",
       "// Listen for the removal of the full notebook cells\n",
       "var notebookContainer = gd.closest('#notebook-container');\n",
       "if (notebookContainer) {{\n",
       "    x.observe(notebookContainer, {childList: true});\n",
       "}}\n",
       "\n",
       "// Listen for the clearing of the current output cell\n",
       "var outputEl = gd.closest('.output');\n",
       "if (outputEl) {{\n",
       "    x.observe(outputEl, {childList: true});\n",
       "}}\n",
       "\n",
       "                        })                };                });            </script>        </div>"
      ]
     },
     "metadata": {},
     "output_type": "display_data"
    }
   ],
   "source": [
    "\n",
    "u.plot_budget_consumption_lines(\n",
    "    path,\n",
    "    epoch_size=7,\n",
    "    by_destination=True,\n",
    "    extra_df_prep=extra_df_prep\n",
    ")"
   ]
  }
 ],
 "metadata": {
  "kernelspec": {
   "display_name": "Python 3 (ipykernel)",
   "language": "python",
   "name": "python3"
  },
  "language_info": {
   "codemirror_mode": {
    "name": "ipython",
    "version": 3
   },
   "file_extension": ".py",
   "mimetype": "text/x-python",
   "name": "python",
   "nbconvert_exporter": "python",
   "pygments_lexer": "ipython3",
   "version": "3.10.12"
  }
 },
 "nbformat": 4,
 "nbformat_minor": 4
}
