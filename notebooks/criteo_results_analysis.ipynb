{
 "cells": [
  {
   "cell_type": "code",
   "execution_count": 1,
   "metadata": {},
   "outputs": [],
   "source": [
    "%load_ext autoreload\n",
    "%autoreload 2"
   ]
  },
  {
   "cell_type": "code",
   "execution_count": 2,
   "metadata": {},
   "outputs": [
    {
     "data": {
      "text/html": [
       "        <script type=\"text/javascript\">\n",
       "        window.PlotlyConfig = {MathJaxConfig: 'local'};\n",
       "        if (window.MathJax && window.MathJax.Hub && window.MathJax.Hub.Config) {window.MathJax.Hub.Config({SVG: {font: \"STIX-Web\"}});}\n",
       "        if (typeof require !== 'undefined') {\n",
       "        require.undef(\"plotly\");\n",
       "        requirejs.config({\n",
       "            paths: {\n",
       "                'plotly': ['https://cdn.plot.ly/plotly-2.30.0.min']\n",
       "            }\n",
       "        });\n",
       "        require(['plotly'], function(Plotly) {\n",
       "            window._Plotly = Plotly;\n",
       "        });\n",
       "        }\n",
       "        </script>\n",
       "        "
      ]
     },
     "metadata": {},
     "output_type": "display_data"
    }
   ],
   "source": [
    "import pandas as pd\n",
    "import plotly.io as pio\n",
    "pio.renderers.default = \"notebook\"\n",
    "import plotly.offline as pyo\n",
    "import plotly.express as px\n",
    "pyo.init_notebook_mode(connected=True)\n",
    "import utils as u"
   ]
  },
  {
   "cell_type": "code",
   "execution_count": 3,
   "metadata": {},
   "outputs": [
    {
     "data": {
      "text/plain": [
       "'\\nPlain old dataset:\\n- BOX RMSRE (varying epoch sizes)\\n- CDF BUDGET (epoch_size=7)\\n- AVG BUDGET for 3 advs (epoc_size 7)\\n\\nEnhanced with impressions:\\n- BOX RMSRE (varying epoch sizes)\\n- CDF BUDGET (epoch_size=7)\\n- AVG BUDGET for 3 advs (epoc_size 7)\\n'"
      ]
     },
     "execution_count": 3,
     "metadata": {},
     "output_type": "execute_result"
    }
   ],
   "source": [
    "\"\"\"\n",
    "Plain old dataset:\n",
    "- BOX RMSRE (varying epoch sizes)\n",
    "- CDF BUDGET (epoch_size=7)\n",
    "- AVG BUDGET for 3 advs (epoc_size 7)\n",
    "\n",
    "Enhanced with impressions:\n",
    "- BOX RMSRE (varying epoch sizes)\n",
    "- CDF BUDGET (epoch_size=7)\n",
    "- AVG BUDGET for 3 advs (epoc_size 7)\n",
    "\"\"\""
   ]
  },
  {
   "cell_type": "code",
   "execution_count": 4,
   "metadata": {},
   "outputs": [
    {
     "data": {
      "text/plain": [
       "'\\nThese destinations are selected based on their query pool sizes, and how representative\\nthey are of the query pool distributions (min 1 query, mean 8.24 queries, max 93 queries)\\n\\n9FF550C0B17A3C493378CB6E2DEEE6E4 has the largest query pool (93),\\n482E924BCFAA8562F60BF0BE53786C24 has a query pool close to the mean (8),\\n9D883ED995259EA3E715122397FE0EF9 has query pool of size 2\\n'"
      ]
     },
     "execution_count": 4,
     "metadata": {},
     "output_type": "execute_result"
    }
   ],
   "source": [
    "\"\"\"\n",
    "These destinations are selected based on their query pool sizes, and how representative\n",
    "they are of the query pool distributions (min 1 query, mean 8.24 queries, max 93 queries)\n",
    "\n",
    "9FF550C0B17A3C493378CB6E2DEEE6E4 has the largest query pool (93),\n",
    "482E924BCFAA8562F60BF0BE53786C24 has a query pool close to the mean (8),\n",
    "9D883ED995259EA3E715122397FE0EF9 has query pool of size 2\n",
    "\"\"\"\n",
    "# selected_destinations = [\"9FF55\", \"482E9\", \"9D883\"]"
   ]
  },
  {
   "cell_type": "code",
   "execution_count": 5,
   "metadata": {},
   "outputs": [],
   "source": [
    "\n",
    "# def extra_df_prep(df: pd.DataFrame) -> pd.DataFrame:\n",
    "#     df = df.assign(\n",
    "#         destination=df.apply(\n",
    "#             lambda row: row.destination[0:5],\n",
    "#             axis=1,\n",
    "#         )\n",
    "#     )\n",
    "#     global selected_destinations\n",
    "#     return df[df.destination.isin(selected_destinations)]\n"
   ]
  },
  {
   "cell_type": "code",
   "execution_count": 6,
   "metadata": {},
   "outputs": [],
   "source": [
    "# unaugmented path\n",
    "path = \"ray/criteo/bias_varying_epoch_size\""
   ]
  },
  {
   "cell_type": "code",
   "execution_count": 7,
   "metadata": {},
   "outputs": [],
   "source": [
    "# u.plot_rmsre_boxes(path, log_y=True, category_orders={\"num_days_per_epoch\": [1, 7, 14, 21, 30, 60, 90]})"
   ]
  },
  {
   "cell_type": "code",
   "execution_count": 8,
   "metadata": {},
   "outputs": [],
   "source": [
    "# u.plot_budget_consumption_cdf(path, epoch_size=7)"
   ]
  },
  {
   "cell_type": "code",
   "execution_count": 9,
   "metadata": {},
   "outputs": [],
   "source": [
    "\n",
    "# u.plot_budget_consumption_lines(\n",
    "#     path,\n",
    "#     epoch_size=7,\n",
    "#     by_destination=True,\n",
    "#     extra_df_prep=extra_df_prep\n",
    "# )"
   ]
  },
  {
   "cell_type": "code",
   "execution_count": 10,
   "metadata": {},
   "outputs": [],
   "source": [
    "# u.save_data(path)"
   ]
  },
  {
   "cell_type": "code",
   "execution_count": 11,
   "metadata": {},
   "outputs": [],
   "source": [
    "# augmented impressions path\n",
    "path = \"ray/criteo/augmented_bias_varying_epoch_size\""
   ]
  },
  {
   "cell_type": "code",
   "execution_count": 12,
   "metadata": {},
   "outputs": [],
   "source": [
    "# u.plot_rmsre_boxes(path, log_y=True, category_orders={\"num_days_per_epoch\": [1, 7, 14, 21, 30, 60, 90]})"
   ]
  },
  {
   "cell_type": "code",
   "execution_count": 13,
   "metadata": {},
   "outputs": [],
   "source": [
    "# u.plot_budget_consumption_cdf(path, epoch_size=7)"
   ]
  },
  {
   "cell_type": "code",
   "execution_count": 14,
   "metadata": {},
   "outputs": [],
   "source": [
    "\n",
    "# u.plot_budget_consumption_lines(\n",
    "#     path,\n",
    "#     epoch_size=7,\n",
    "#     by_destination=True,\n",
    "#     extra_df_prep=extra_df_prep\n",
    "# )"
   ]
  },
  {
   "cell_type": "code",
   "execution_count": 15,
   "metadata": {},
   "outputs": [],
   "source": [
    "# augmented convesrions path\n",
    "path = \"ray/criteo/augmented_conversions_bias_varying_epoch_size\""
   ]
  },
  {
   "cell_type": "code",
   "execution_count": 16,
   "metadata": {},
   "outputs": [],
   "source": [
    "# u.plot_budget_consumption_cdf(path, epoch_size=7)"
   ]
  },
  {
   "cell_type": "code",
   "execution_count": 17,
   "metadata": {},
   "outputs": [],
   "source": [
    "# u.save_data(path)"
   ]
  },
  {
   "cell_type": "code",
   "execution_count": 18,
   "metadata": {},
   "outputs": [
    {
     "data": {
      "text/html": [
       "<div>\n",
       "<style scoped>\n",
       "    .dataframe tbody tr th:only-of-type {\n",
       "        vertical-align: middle;\n",
       "    }\n",
       "\n",
       "    .dataframe tbody tr th {\n",
       "        vertical-align: top;\n",
       "    }\n",
       "\n",
       "    .dataframe thead th {\n",
       "        text-align: right;\n",
       "    }\n",
       "</style>\n",
       "<table border=\"1\" class=\"dataframe\">\n",
       "  <thead>\n",
       "    <tr style=\"text-align: right;\">\n",
       "      <th></th>\n",
       "      <th>partner_id</th>\n",
       "      <th>user_id</th>\n",
       "      <th>filter</th>\n",
       "      <th>product_category3</th>\n",
       "      <th>count</th>\n",
       "      <th>conversion_timestamp</th>\n",
       "      <th>epsilon</th>\n",
       "      <th>aggregatable_cap_value</th>\n",
       "      <th>key</th>\n",
       "    </tr>\n",
       "  </thead>\n",
       "  <tbody>\n",
       "    <tr>\n",
       "      <th>0</th>\n",
       "      <td>9D9E93D1D461D7BAE47FB67EC0E01B62</td>\n",
       "      <td>757E6E6ECE2242C09222A395F5C0E1B6</td>\n",
       "      <td>NaN</td>\n",
       "      <td>95A082A08B36796D9679070A169EE4B9</td>\n",
       "      <td>5.0</td>\n",
       "      <td>1596439484</td>\n",
       "      <td>0.717316</td>\n",
       "      <td>5</td>\n",
       "      <td>139</td>\n",
       "    </tr>\n",
       "    <tr>\n",
       "      <th>1</th>\n",
       "      <td>9D9E93D1D461D7BAE47FB67EC0E01B62</td>\n",
       "      <td>19610A2A13924049BFA6AB692AB49DD3</td>\n",
       "      <td>NaN</td>\n",
       "      <td>009F21AE727F749C597752589DE82C9A</td>\n",
       "      <td>5.0</td>\n",
       "      <td>1596439550</td>\n",
       "      <td>0.632578</td>\n",
       "      <td>5</td>\n",
       "      <td>145</td>\n",
       "    </tr>\n",
       "    <tr>\n",
       "      <th>2</th>\n",
       "      <td>C13DEAF04388B219AC04416DF3DA0ED8</td>\n",
       "      <td>4CA3BDF6304103161BEFC3DEAE5D0C2A</td>\n",
       "      <td>NaN</td>\n",
       "      <td>FE31DD5AD3E857EBD4BA2C4FDF732ED4</td>\n",
       "      <td>1.0</td>\n",
       "      <td>1596439563</td>\n",
       "      <td>0.644982</td>\n",
       "      <td>5</td>\n",
       "      <td>0</td>\n",
       "    </tr>\n",
       "    <tr>\n",
       "      <th>3</th>\n",
       "      <td>F0FD783189F55BAFC331AD347EAE6863</td>\n",
       "      <td>F3CAE70720CC4D6F8468FCAA34F85AB3</td>\n",
       "      <td>NaN</td>\n",
       "      <td>555EE90CF6686FFF818AC7065AAB2773</td>\n",
       "      <td>3.0</td>\n",
       "      <td>1596439655</td>\n",
       "      <td>0.511686</td>\n",
       "      <td>5</td>\n",
       "      <td>1</td>\n",
       "    </tr>\n",
       "    <tr>\n",
       "      <th>4</th>\n",
       "      <td>5DC3ED9F13993DF6471EBE25BD88BD24</td>\n",
       "      <td>F0D52A53241B145050B5ED8C55DD4B5B</td>\n",
       "      <td>NaN</td>\n",
       "      <td>8A30BF8BD2B3E9D44D2938D42C387D2E</td>\n",
       "      <td>1.0</td>\n",
       "      <td>1596439718</td>\n",
       "      <td>0.699874</td>\n",
       "      <td>5</td>\n",
       "      <td>0</td>\n",
       "    </tr>\n",
       "  </tbody>\n",
       "</table>\n",
       "</div>"
      ],
      "text/plain": [
       "                         partner_id                           user_id  filter  \\\n",
       "0  9D9E93D1D461D7BAE47FB67EC0E01B62  757E6E6ECE2242C09222A395F5C0E1B6     NaN   \n",
       "1  9D9E93D1D461D7BAE47FB67EC0E01B62  19610A2A13924049BFA6AB692AB49DD3     NaN   \n",
       "2  C13DEAF04388B219AC04416DF3DA0ED8  4CA3BDF6304103161BEFC3DEAE5D0C2A     NaN   \n",
       "3  F0FD783189F55BAFC331AD347EAE6863  F3CAE70720CC4D6F8468FCAA34F85AB3     NaN   \n",
       "4  5DC3ED9F13993DF6471EBE25BD88BD24  F0D52A53241B145050B5ED8C55DD4B5B     NaN   \n",
       "\n",
       "                  product_category3  count  conversion_timestamp   epsilon  \\\n",
       "0  95A082A08B36796D9679070A169EE4B9    5.0            1596439484  0.717316   \n",
       "1  009F21AE727F749C597752589DE82C9A    5.0            1596439550  0.632578   \n",
       "2  FE31DD5AD3E857EBD4BA2C4FDF732ED4    1.0            1596439563  0.644982   \n",
       "3  555EE90CF6686FFF818AC7065AAB2773    3.0            1596439655  0.511686   \n",
       "4  8A30BF8BD2B3E9D44D2938D42C387D2E    1.0            1596439718  0.699874   \n",
       "\n",
       "   aggregatable_cap_value  key  \n",
       "0                       5  139  \n",
       "1                       5  145  \n",
       "2                       5    0  \n",
       "3                       5    1  \n",
       "4                       5    0  "
      ]
     },
     "execution_count": 18,
     "metadata": {},
     "output_type": "execute_result"
    }
   ],
   "source": [
    "df = pd.read_csv(\"../data/criteo/criteo_query_pool_augmented_conversions.csv\")\n",
    "df.head()"
   ]
  },
  {
   "cell_type": "code",
   "execution_count": 19,
   "metadata": {},
   "outputs": [],
   "source": [
    "true_output = df.groupby([\"partner_id\", \"key\"])[\"count\"].sum()"
   ]
  },
  {
   "cell_type": "code",
   "execution_count": 20,
   "metadata": {},
   "outputs": [
    {
     "name": "stdout",
     "output_type": "stream",
     "text": [
      "(1212,) (1212,)\n"
     ]
    }
   ],
   "source": [
    "print(true_output.shape, true_output[true_output > 0].shape)"
   ]
  },
  {
   "cell_type": "code",
   "execution_count": 25,
   "metadata": {},
   "outputs": [],
   "source": [
    "impressions = pd.read_csv(\"../data/criteo/criteo_query_pool_impressions.csv\")"
   ]
  },
  {
   "cell_type": "code",
   "execution_count": 43,
   "metadata": {},
   "outputs": [],
   "source": [
    "columns = [\"partner_id\", \"user_id\", \"product_category3\", \"count\", \"conversion_timestamp\", \"epsilon\", \"key\"]\n",
    "x = df.merge(impressions, how=\"left\", on=[\"partner_id\", \"user_id\"], suffixes=(\"\", \"impressions\"))\n",
    "synthetic_conversions = x.loc[x.click_timestamp.isna()][columns]\n",
    "real_conversions = x.loc[~x.click_timestamp.isna()][columns]\n",
    "\n",
    "synthetic_counts = synthetic_conversions.groupby([\"partner_id\", \"key\"]).user_id.count().to_dict()\n",
    "real_counts = real_conversions.groupby([\"partner_id\", \"key\"]).user_id.count().to_dict()"
   ]
  },
  {
   "cell_type": "code",
   "execution_count": 44,
   "metadata": {},
   "outputs": [
    {
     "data": {
      "text/plain": [
       "[('98594F28C91322F1DAF20DF86F3F6D8A', 13),\n",
       " ('A57EF8EBFE4E6EF71F0DC4877B186793', 30),\n",
       " ('A57EF8EBFE4E6EF71F0DC4877B186793', 32),\n",
       " ('A57EF8EBFE4E6EF71F0DC4877B186793', 34),\n",
       " ('F762E4949B07C39AEA4F2D26849B1893', 0),\n",
       " ('F762E4949B07C39AEA4F2D26849B1893', 2),\n",
       " ('F762E4949B07C39AEA4F2D26849B1893', 3),\n",
       " ('F762E4949B07C39AEA4F2D26849B1893', 4),\n",
       " ('F762E4949B07C39AEA4F2D26849B1893', 5)]"
      ]
     },
     "execution_count": 44,
     "metadata": {},
     "output_type": "execute_result"
    }
   ],
   "source": [
    "completely_synthetic_queries = []\n",
    "for key in synthetic_counts.keys():\n",
    "    if key not in real_counts:\n",
    "        completely_synthetic_queries.append(key)\n",
    "\n",
    "completely_synthetic_queries"
   ]
  }
 ],
 "metadata": {
  "kernelspec": {
   "display_name": "Python 3 (ipykernel)",
   "language": "python",
   "name": "python3"
  },
  "language_info": {
   "codemirror_mode": {
    "name": "ipython",
    "version": 3
   },
   "file_extension": ".py",
   "mimetype": "text/x-python",
   "name": "python",
   "nbconvert_exporter": "python",
   "pygments_lexer": "ipython3",
   "version": "3.10.11"
  }
 },
 "nbformat": 4,
 "nbformat_minor": 4
}
