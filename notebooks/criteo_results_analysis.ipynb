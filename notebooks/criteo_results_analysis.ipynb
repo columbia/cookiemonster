{
 "cells": [
  {
   "cell_type": "code",
   "execution_count": 148,
   "metadata": {},
   "outputs": [
    {
     "name": "stdout",
     "output_type": "stream",
     "text": [
      "The autoreload extension is already loaded. To reload it, use:\n",
      "  %reload_ext autoreload\n"
     ]
    }
   ],
   "source": [
    "%load_ext autoreload\n",
    "%autoreload 2"
   ]
  },
  {
   "cell_type": "code",
   "execution_count": 149,
   "metadata": {},
   "outputs": [
    {
     "data": {
      "text/html": [
       "        <script type=\"text/javascript\">\n",
       "        window.PlotlyConfig = {MathJaxConfig: 'local'};\n",
       "        if (window.MathJax && window.MathJax.Hub && window.MathJax.Hub.Config) {window.MathJax.Hub.Config({SVG: {font: \"STIX-Web\"}});}\n",
       "        if (typeof require !== 'undefined') {\n",
       "        require.undef(\"plotly\");\n",
       "        requirejs.config({\n",
       "            paths: {\n",
       "                'plotly': ['https://cdn.plot.ly/plotly-2.30.0.min']\n",
       "            }\n",
       "        });\n",
       "        require(['plotly'], function(Plotly) {\n",
       "            window._Plotly = Plotly;\n",
       "        });\n",
       "        }\n",
       "        </script>\n",
       "        "
      ]
     },
     "metadata": {},
     "output_type": "display_data"
    }
   ],
   "source": [
    "import pandas as pd\n",
    "import plotly.io as pio\n",
    "pio.renderers.default = \"notebook\"\n",
    "import plotly.offline as pyo\n",
    "import plotly.express as px\n",
    "pyo.init_notebook_mode(connected=True)\n",
    "import utils as u"
   ]
  },
  {
   "cell_type": "code",
   "execution_count": 150,
   "metadata": {},
   "outputs": [
    {
     "data": {
      "text/plain": [
       "'\\nPlain old dataset:\\n- BOX RMSRE (varying epoch sizes)\\n- CDF BUDGET (epoch_size=7)\\n- AVG BUDGET for 3 advs (epoc_size 7)\\n\\nEnhanced with impressions:\\n- BOX RMSRE (varying epoch sizes)\\n- CDF BUDGET (epoch_size=7)\\n- AVG BUDGET for 3 advs (epoc_size 7)\\n'"
      ]
     },
     "execution_count": 150,
     "metadata": {},
     "output_type": "execute_result"
    }
   ],
   "source": [
    "\"\"\"\n",
    "Plain old dataset:\n",
    "- BOX RMSRE (varying epoch sizes)\n",
    "- CDF BUDGET (epoch_size=7)\n",
    "- AVG BUDGET for 3 advs (epoc_size 7)\n",
    "\n",
    "Enhanced with impressions:\n",
    "- BOX RMSRE (varying epoch sizes)\n",
    "- CDF BUDGET (epoch_size=7)\n",
    "- AVG BUDGET for 3 advs (epoc_size 7)\n",
    "\"\"\""
   ]
  },
  {
   "cell_type": "code",
   "execution_count": 151,
   "metadata": {},
   "outputs": [
    {
     "data": {
      "text/plain": [
       "'\\nThese destinations are selected based on their query pool sizes, and how representative\\nthey are of the query pool distributions (min 1 query, mean 8.24 queries, max 93 queries)\\n\\n9FF550C0B17A3C493378CB6E2DEEE6E4 has the largest query pool (93),\\n482E924BCFAA8562F60BF0BE53786C24 has a query pool close to the mean (8),\\n9D883ED995259EA3E715122397FE0EF9 has query pool of size 2\\n'"
      ]
     },
     "execution_count": 151,
     "metadata": {},
     "output_type": "execute_result"
    }
   ],
   "source": [
    "\"\"\"\n",
    "These destinations are selected based on their query pool sizes, and how representative\n",
    "they are of the query pool distributions (min 1 query, mean 8.24 queries, max 93 queries)\n",
    "\n",
    "9FF550C0B17A3C493378CB6E2DEEE6E4 has the largest query pool (93),\n",
    "482E924BCFAA8562F60BF0BE53786C24 has a query pool close to the mean (8),\n",
    "9D883ED995259EA3E715122397FE0EF9 has query pool of size 2\n",
    "\"\"\"\n",
    "# selected_destinations = [\"9FF55\", \"482E9\", \"9D883\"]"
   ]
  },
  {
   "cell_type": "code",
   "execution_count": 152,
   "metadata": {},
   "outputs": [],
   "source": [
    "\n",
    "# def extra_df_prep(df: pd.DataFrame) -> pd.DataFrame:\n",
    "#     df = df.assign(\n",
    "#         destination=df.apply(\n",
    "#             lambda row: row.destination[0:5],\n",
    "#             axis=1,\n",
    "#         )\n",
    "#     )\n",
    "#     global selected_destinations\n",
    "#     return df[df.destination.isin(selected_destinations)]\n"
   ]
  },
  {
   "cell_type": "code",
   "execution_count": 153,
   "metadata": {},
   "outputs": [],
   "source": [
    "# unaugmented path\n",
    "# path = \"ray/criteo/bias_varying_epoch_size\""
   ]
  },
  {
   "cell_type": "code",
   "execution_count": 154,
   "metadata": {},
   "outputs": [],
   "source": [
    "# u.plot_rmsre_boxes(path, log_y=True, category_orders={\"num_days_per_epoch\": [1, 7, 14, 21, 30, 60, 90]})"
   ]
  },
  {
   "cell_type": "code",
   "execution_count": 155,
   "metadata": {},
   "outputs": [],
   "source": [
    "# u.plot_budget_consumption_cdf(path, epoch_size=7)"
   ]
  },
  {
   "cell_type": "code",
   "execution_count": 156,
   "metadata": {},
   "outputs": [],
   "source": [
    "\n",
    "# u.plot_budget_consumption_lines(\n",
    "#     path,\n",
    "#     epoch_size=7,\n",
    "#     by_destination=True,\n",
    "#     extra_df_prep=extra_df_prep\n",
    "# )"
   ]
  },
  {
   "cell_type": "code",
   "execution_count": 157,
   "metadata": {},
   "outputs": [],
   "source": [
    "# u.save_data(path)"
   ]
  },
  {
   "cell_type": "code",
   "execution_count": 158,
   "metadata": {},
   "outputs": [],
   "source": [
    "# augmented impressions path\n",
    "# path = \"ray/criteo/augmented_bias_varying_epoch_size\""
   ]
  },
  {
   "cell_type": "code",
   "execution_count": 159,
   "metadata": {},
   "outputs": [],
   "source": [
    "# u.plot_rmsre_boxes(path, log_y=True, category_orders={\"num_days_per_epoch\": [1, 7, 14, 21, 30, 60, 90]})"
   ]
  },
  {
   "cell_type": "code",
   "execution_count": 160,
   "metadata": {},
   "outputs": [],
   "source": [
    "# u.plot_budget_consumption_cdf(path, epoch_size=7)"
   ]
  },
  {
   "cell_type": "code",
   "execution_count": 161,
   "metadata": {},
   "outputs": [],
   "source": [
    "\n",
    "# u.plot_budget_consumption_lines(\n",
    "#     path,\n",
    "#     epoch_size=7,\n",
    "#     by_destination=True,\n",
    "#     extra_df_prep=extra_df_prep\n",
    "# )"
   ]
  },
  {
   "cell_type": "code",
   "execution_count": 162,
   "metadata": {},
   "outputs": [],
   "source": [
    "# augmented convesrions path\n",
    "path = \"ray/criteo/augmented_conversions_bias_varying_epoch_size\""
   ]
  },
  {
   "cell_type": "code",
   "execution_count": 163,
   "metadata": {},
   "outputs": [],
   "source": [
    "# u.plot_budget_consumption_cdf(path, epoch_size=7)"
   ]
  },
  {
   "cell_type": "code",
   "execution_count": 164,
   "metadata": {},
   "outputs": [],
   "source": [
    "u.save_data(path)"
   ]
  },
  {
   "cell_type": "code",
   "execution_count": 165,
   "metadata": {},
   "outputs": [
    {
     "data": {
      "text/html": [
       "<div>\n",
       "<style scoped>\n",
       "    .dataframe tbody tr th:only-of-type {\n",
       "        vertical-align: middle;\n",
       "    }\n",
       "\n",
       "    .dataframe tbody tr th {\n",
       "        vertical-align: top;\n",
       "    }\n",
       "\n",
       "    .dataframe thead th {\n",
       "        text-align: right;\n",
       "    }\n",
       "</style>\n",
       "<table border=\"1\" class=\"dataframe\">\n",
       "  <thead>\n",
       "    <tr style=\"text-align: right;\">\n",
       "      <th></th>\n",
       "      <th>partner_id</th>\n",
       "      <th>user_id</th>\n",
       "      <th>filter</th>\n",
       "      <th>product_category3</th>\n",
       "      <th>count</th>\n",
       "      <th>conversion_timestamp</th>\n",
       "      <th>epsilon</th>\n",
       "      <th>aggregatable_cap_value</th>\n",
       "      <th>key</th>\n",
       "    </tr>\n",
       "  </thead>\n",
       "  <tbody>\n",
       "    <tr>\n",
       "      <th>0</th>\n",
       "      <td>C13DEAF04388B219AC04416DF3DA0ED8</td>\n",
       "      <td>4CA3BDF6304103161BEFC3DEAE5D0C2A</td>\n",
       "      <td>NaN</td>\n",
       "      <td>FE31DD5AD3E857EBD4BA2C4FDF732ED4</td>\n",
       "      <td>1.0</td>\n",
       "      <td>1596439563</td>\n",
       "      <td>0.757429</td>\n",
       "      <td>5</td>\n",
       "      <td>0</td>\n",
       "    </tr>\n",
       "    <tr>\n",
       "      <th>1</th>\n",
       "      <td>5DC3ED9F13993DF6471EBE25BD88BD24</td>\n",
       "      <td>F0D52A53241B145050B5ED8C55DD4B5B</td>\n",
       "      <td>NaN</td>\n",
       "      <td>8A30BF8BD2B3E9D44D2938D42C387D2E</td>\n",
       "      <td>1.0</td>\n",
       "      <td>1596439718</td>\n",
       "      <td>0.740381</td>\n",
       "      <td>5</td>\n",
       "      <td>0</td>\n",
       "    </tr>\n",
       "    <tr>\n",
       "      <th>2</th>\n",
       "      <td>6BFFDE668C5BC3938C875D3D0940E699</td>\n",
       "      <td>DC248B6867334C450AFDE6853A599E1E</td>\n",
       "      <td>NaN</td>\n",
       "      <td>F6BFE2644C2435F720C79B3EE10D9E42</td>\n",
       "      <td>1.0</td>\n",
       "      <td>1596439787</td>\n",
       "      <td>0.511686</td>\n",
       "      <td>5</td>\n",
       "      <td>0</td>\n",
       "    </tr>\n",
       "    <tr>\n",
       "      <th>3</th>\n",
       "      <td>9D883ED995259EA3E715122397FE0EF9</td>\n",
       "      <td>304E5E4A0F9F200B5A1CE22238AE1DE3</td>\n",
       "      <td>NaN</td>\n",
       "      <td>844A857A93A322847D10FA733714E3A6</td>\n",
       "      <td>4.0</td>\n",
       "      <td>1596439926</td>\n",
       "      <td>0.511686</td>\n",
       "      <td>5</td>\n",
       "      <td>0</td>\n",
       "    </tr>\n",
       "    <tr>\n",
       "      <th>4</th>\n",
       "      <td>319A2412BDB0EF669733053640B80112</td>\n",
       "      <td>79178DA7BA27DA4E64C4841D14DE747C</td>\n",
       "      <td>NaN</td>\n",
       "      <td>FAE775DB79B7E40FB3E581B2755783A4</td>\n",
       "      <td>1.0</td>\n",
       "      <td>1596439969</td>\n",
       "      <td>0.511686</td>\n",
       "      <td>5</td>\n",
       "      <td>8</td>\n",
       "    </tr>\n",
       "  </tbody>\n",
       "</table>\n",
       "</div>"
      ],
      "text/plain": [
       "                         partner_id                           user_id  filter  \\\n",
       "0  C13DEAF04388B219AC04416DF3DA0ED8  4CA3BDF6304103161BEFC3DEAE5D0C2A     NaN   \n",
       "1  5DC3ED9F13993DF6471EBE25BD88BD24  F0D52A53241B145050B5ED8C55DD4B5B     NaN   \n",
       "2  6BFFDE668C5BC3938C875D3D0940E699  DC248B6867334C450AFDE6853A599E1E     NaN   \n",
       "3  9D883ED995259EA3E715122397FE0EF9  304E5E4A0F9F200B5A1CE22238AE1DE3     NaN   \n",
       "4  319A2412BDB0EF669733053640B80112  79178DA7BA27DA4E64C4841D14DE747C     NaN   \n",
       "\n",
       "                  product_category3  count  conversion_timestamp   epsilon  \\\n",
       "0  FE31DD5AD3E857EBD4BA2C4FDF732ED4    1.0            1596439563  0.757429   \n",
       "1  8A30BF8BD2B3E9D44D2938D42C387D2E    1.0            1596439718  0.740381   \n",
       "2  F6BFE2644C2435F720C79B3EE10D9E42    1.0            1596439787  0.511686   \n",
       "3  844A857A93A322847D10FA733714E3A6    4.0            1596439926  0.511686   \n",
       "4  FAE775DB79B7E40FB3E581B2755783A4    1.0            1596439969  0.511686   \n",
       "\n",
       "   aggregatable_cap_value  key  \n",
       "0                       5    0  \n",
       "1                       5    0  \n",
       "2                       5    0  \n",
       "3                       5    0  \n",
       "4                       5    8  "
      ]
     },
     "execution_count": 165,
     "metadata": {},
     "output_type": "execute_result"
    }
   ],
   "source": [
    "df = pd.read_csv(\"../data/criteo/criteo_query_pool_augmented_conversions.csv\")\n",
    "df.head()"
   ]
  },
  {
   "cell_type": "code",
   "execution_count": 166,
   "metadata": {},
   "outputs": [],
   "source": [
    "true_output = df.groupby([\"partner_id\", \"key\"])[\"count\"].sum()"
   ]
  },
  {
   "cell_type": "code",
   "execution_count": 167,
   "metadata": {},
   "outputs": [
    {
     "name": "stdout",
     "output_type": "stream",
     "text": [
      "(921,) (921,)\n"
     ]
    }
   ],
   "source": [
    "print(true_output.shape, true_output[true_output > 0].shape)"
   ]
  },
  {
   "cell_type": "code",
   "execution_count": 168,
   "metadata": {},
   "outputs": [],
   "source": [
    "impressions = pd.read_csv(\"../data/criteo/criteo_query_pool_impressions.csv\")"
   ]
  },
  {
   "cell_type": "code",
   "execution_count": 169,
   "metadata": {},
   "outputs": [],
   "source": [
    "columns = [\"partner_id\", \"user_id\", \"product_category3\", \"count\", \"conversion_timestamp\", \"epsilon\", \"key\"]\n",
    "x = df.merge(impressions, how=\"left\", on=[\"partner_id\", \"user_id\"], suffixes=(\"\", \"impressions\"))\n",
    "synthetic_conversions = x.loc[x.click_timestamp.isna()][columns]\n",
    "real_conversions = x.loc[~x.click_timestamp.isna()][columns]\n",
    "\n",
    "synthetic_counts = synthetic_conversions.groupby([\"partner_id\", \"key\"]).user_id.count().to_dict()\n",
    "real_counts = real_conversions.groupby([\"partner_id\", \"key\"]).user_id.count().to_dict()"
   ]
  },
  {
   "cell_type": "code",
   "execution_count": 170,
   "metadata": {},
   "outputs": [
    {
     "data": {
      "text/plain": [
       "[]"
      ]
     },
     "execution_count": 170,
     "metadata": {},
     "output_type": "execute_result"
    }
   ],
   "source": [
    "# Looks like somehow, the reports can end up fully populated\n",
    "# by synthetic conversions\n",
    "\n",
    "completely_synthetic_queries = []\n",
    "for key in synthetic_counts.keys():\n",
    "    if key not in real_counts:\n",
    "        completely_synthetic_queries.append(key)\n",
    "\n",
    "completely_synthetic_queries"
   ]
  },
  {
   "cell_type": "code",
   "execution_count": 171,
   "metadata": {},
   "outputs": [
    {
     "data": {
      "text/html": [
       "<div>\n",
       "<style scoped>\n",
       "    .dataframe tbody tr th:only-of-type {\n",
       "        vertical-align: middle;\n",
       "    }\n",
       "\n",
       "    .dataframe tbody tr th {\n",
       "        vertical-align: top;\n",
       "    }\n",
       "\n",
       "    .dataframe thead th {\n",
       "        text-align: right;\n",
       "    }\n",
       "</style>\n",
       "<table border=\"1\" class=\"dataframe\">\n",
       "  <thead>\n",
       "    <tr style=\"text-align: right;\">\n",
       "      <th></th>\n",
       "      <th>destination</th>\n",
       "      <th>queries_rmsres</th>\n",
       "      <th>baseline</th>\n",
       "      <th>initial_budget</th>\n",
       "      <th>workload_size</th>\n",
       "      <th>num_days_per_epoch</th>\n",
       "      <th>num_days_attribution_window</th>\n",
       "    </tr>\n",
       "  </thead>\n",
       "  <tbody>\n",
       "    <tr>\n",
       "      <th>0</th>\n",
       "      <td>01E57DAC509AE48685D6219DE7718BA8</td>\n",
       "      <td>0.023343</td>\n",
       "      <td>ipa</td>\n",
       "      <td>1</td>\n",
       "      <td>1000</td>\n",
       "      <td>7</td>\n",
       "      <td>30</td>\n",
       "    </tr>\n",
       "    <tr>\n",
       "      <th>1</th>\n",
       "      <td>01E57DAC509AE48685D6219DE7718BA8</td>\n",
       "      <td>NaN</td>\n",
       "      <td>ipa</td>\n",
       "      <td>1</td>\n",
       "      <td>1000</td>\n",
       "      <td>7</td>\n",
       "      <td>30</td>\n",
       "    </tr>\n",
       "    <tr>\n",
       "      <th>2</th>\n",
       "      <td>01E57DAC509AE48685D6219DE7718BA8</td>\n",
       "      <td>NaN</td>\n",
       "      <td>ipa</td>\n",
       "      <td>1</td>\n",
       "      <td>1000</td>\n",
       "      <td>7</td>\n",
       "      <td>30</td>\n",
       "    </tr>\n",
       "    <tr>\n",
       "      <th>3</th>\n",
       "      <td>01E57DAC509AE48685D6219DE7718BA8</td>\n",
       "      <td>NaN</td>\n",
       "      <td>ipa</td>\n",
       "      <td>1</td>\n",
       "      <td>1000</td>\n",
       "      <td>7</td>\n",
       "      <td>30</td>\n",
       "    </tr>\n",
       "    <tr>\n",
       "      <th>4</th>\n",
       "      <td>0225D81C97298F6FD63C8868EE8E2228</td>\n",
       "      <td>0.020843</td>\n",
       "      <td>ipa</td>\n",
       "      <td>1</td>\n",
       "      <td>1000</td>\n",
       "      <td>7</td>\n",
       "      <td>30</td>\n",
       "    </tr>\n",
       "  </tbody>\n",
       "</table>\n",
       "</div>"
      ],
      "text/plain": [
       "                        destination  queries_rmsres baseline  initial_budget  \\\n",
       "0  01E57DAC509AE48685D6219DE7718BA8        0.023343      ipa               1   \n",
       "1  01E57DAC509AE48685D6219DE7718BA8             NaN      ipa               1   \n",
       "2  01E57DAC509AE48685D6219DE7718BA8             NaN      ipa               1   \n",
       "3  01E57DAC509AE48685D6219DE7718BA8             NaN      ipa               1   \n",
       "4  0225D81C97298F6FD63C8868EE8E2228        0.020843      ipa               1   \n",
       "\n",
       "   workload_size  num_days_per_epoch  num_days_attribution_window  \n",
       "0           1000                   7                           30  \n",
       "1           1000                   7                           30  \n",
       "2           1000                   7                           30  \n",
       "3           1000                   7                           30  \n",
       "4           1000                   7                           30  "
      ]
     },
     "execution_count": 171,
     "metadata": {},
     "output_type": "execute_result"
    }
   ],
   "source": [
    "rmsres = pd.read_csv(\"../logs/ray/criteo/augmented_conversions_bias_varying_epoch_size/rmsres.csv\")\n",
    "rmsres.head()"
   ]
  },
  {
   "cell_type": "code",
   "execution_count": 172,
   "metadata": {},
   "outputs": [
    {
     "name": "stdout",
     "output_type": "stream",
     "text": [
      "__cookiemonster__\n",
      "A57EF8EBFE4E6EF71F0DC4877B186793: 2\n",
      "F762E4949B07C39AEA4F2D26849B1893: 5\n",
      "__cookiemonster_base__\n",
      "A57EF8EBFE4E6EF71F0DC4877B186793: 2\n",
      "F762E4949B07C39AEA4F2D26849B1893: 5\n"
     ]
    }
   ],
   "source": [
    "# and the reports made up of only synthetic conversion records\n",
    "# end up being the ones with na RMSREs.\n",
    "for baseline, rdf in rmsres.loc[(rmsres.baseline != \"ipa\") & (rmsres.queries_rmsres.isna())].groupby([\"baseline\"]):\n",
    "    print(f\"__{baseline[0]}__\")\n",
    "    for partner, pdf in rdf.groupby([\"destination\"]):\n",
    "        print(f\"{partner[0]}:\", pdf.shape[0])"
   ]
  },
  {
   "cell_type": "code",
   "execution_count": 173,
   "metadata": {},
   "outputs": [
    {
     "name": "stdout",
     "output_type": "stream",
     "text": [
      "number of queries (by destination) with RMSREs >= 1\n",
      "\tcookiemonster\n",
      "\t1BB44E9DB5ABBD9F9A64B475291DC555: 2\n",
      "\t319A2412BDB0EF669733053640B80112: 8\n",
      "\t6CCBF9BF3B87306C95BD5CD15F4CD324: 1\n",
      "\t8C8BBC051B051F9424483D0ADEFAB81B: 11\n",
      "\t95F6B7BA0BA90E5D5DF1CC063390BA51: 3\n",
      "\t98594F28C91322F1DAF20DF86F3F6D8A: 2\n",
      "\t9D9E93D1D461D7BAE47FB67EC0E01B62: 34\n",
      "\tA3B6CDB413E8C3A945248C364022DCB7: 1\n",
      "\tA57EF8EBFE4E6EF71F0DC4877B186793: 6\n",
      "\tF762E4949B07C39AEA4F2D26849B1893: 1\n",
      "\tcookiemonster_base\n",
      "\t1BB44E9DB5ABBD9F9A64B475291DC555: 2\n",
      "\t319A2412BDB0EF669733053640B80112: 8\n",
      "\t6CCBF9BF3B87306C95BD5CD15F4CD324: 1\n",
      "\t8C8BBC051B051F9424483D0ADEFAB81B: 11\n",
      "\t95F6B7BA0BA90E5D5DF1CC063390BA51: 3\n",
      "\t98594F28C91322F1DAF20DF86F3F6D8A: 2\n",
      "\t9D9E93D1D461D7BAE47FB67EC0E01B62: 34\n",
      "\tA3B6CDB413E8C3A945248C364022DCB7: 1\n",
      "\tA57EF8EBFE4E6EF71F0DC4877B186793: 6\n",
      "\tF762E4949B07C39AEA4F2D26849B1893: 1\n",
      "number of queries (by destination) with RMSREs >= 2\n",
      "\tcookiemonster\n",
      "\t1BB44E9DB5ABBD9F9A64B475291DC555: 1\n",
      "\t319A2412BDB0EF669733053640B80112: 4\n",
      "\t6CCBF9BF3B87306C95BD5CD15F4CD324: 1\n",
      "\t8C8BBC051B051F9424483D0ADEFAB81B: 9\n",
      "\t95F6B7BA0BA90E5D5DF1CC063390BA51: 3\n",
      "\t98594F28C91322F1DAF20DF86F3F6D8A: 1\n",
      "\t9D9E93D1D461D7BAE47FB67EC0E01B62: 26\n",
      "\tA3B6CDB413E8C3A945248C364022DCB7: 1\n",
      "\tA57EF8EBFE4E6EF71F0DC4877B186793: 4\n",
      "\tF762E4949B07C39AEA4F2D26849B1893: 1\n",
      "\tcookiemonster_base\n",
      "\t1BB44E9DB5ABBD9F9A64B475291DC555: 1\n",
      "\t319A2412BDB0EF669733053640B80112: 4\n",
      "\t6CCBF9BF3B87306C95BD5CD15F4CD324: 1\n",
      "\t8C8BBC051B051F9424483D0ADEFAB81B: 9\n",
      "\t95F6B7BA0BA90E5D5DF1CC063390BA51: 3\n",
      "\t98594F28C91322F1DAF20DF86F3F6D8A: 1\n",
      "\t9D9E93D1D461D7BAE47FB67EC0E01B62: 26\n",
      "\tA3B6CDB413E8C3A945248C364022DCB7: 1\n",
      "\tA57EF8EBFE4E6EF71F0DC4877B186793: 4\n",
      "\tF762E4949B07C39AEA4F2D26849B1893: 1\n",
      "number of queries (by destination) with RMSREs >= 3\n",
      "\tcookiemonster\n",
      "\t319A2412BDB0EF669733053640B80112: 4\n",
      "\t6CCBF9BF3B87306C95BD5CD15F4CD324: 1\n",
      "\t8C8BBC051B051F9424483D0ADEFAB81B: 7\n",
      "\t95F6B7BA0BA90E5D5DF1CC063390BA51: 3\n",
      "\t98594F28C91322F1DAF20DF86F3F6D8A: 1\n",
      "\t9D9E93D1D461D7BAE47FB67EC0E01B62: 20\n",
      "\tA57EF8EBFE4E6EF71F0DC4877B186793: 4\n",
      "\tF762E4949B07C39AEA4F2D26849B1893: 1\n",
      "\tcookiemonster_base\n",
      "\t319A2412BDB0EF669733053640B80112: 4\n",
      "\t6CCBF9BF3B87306C95BD5CD15F4CD324: 1\n",
      "\t8C8BBC051B051F9424483D0ADEFAB81B: 7\n",
      "\t95F6B7BA0BA90E5D5DF1CC063390BA51: 3\n",
      "\t98594F28C91322F1DAF20DF86F3F6D8A: 1\n",
      "\t9D9E93D1D461D7BAE47FB67EC0E01B62: 20\n",
      "\tA57EF8EBFE4E6EF71F0DC4877B186793: 4\n",
      "\tF762E4949B07C39AEA4F2D26849B1893: 1\n",
      "number of queries (by destination) with RMSREs >= 4\n",
      "\tcookiemonster\n",
      "\t319A2412BDB0EF669733053640B80112: 4\n",
      "\t8C8BBC051B051F9424483D0ADEFAB81B: 6\n",
      "\t95F6B7BA0BA90E5D5DF1CC063390BA51: 3\n",
      "\t98594F28C91322F1DAF20DF86F3F6D8A: 1\n",
      "\t9D9E93D1D461D7BAE47FB67EC0E01B62: 17\n",
      "\tA57EF8EBFE4E6EF71F0DC4877B186793: 4\n",
      "\tF762E4949B07C39AEA4F2D26849B1893: 1\n",
      "\tcookiemonster_base\n",
      "\t319A2412BDB0EF669733053640B80112: 4\n",
      "\t8C8BBC051B051F9424483D0ADEFAB81B: 6\n",
      "\t95F6B7BA0BA90E5D5DF1CC063390BA51: 3\n",
      "\t98594F28C91322F1DAF20DF86F3F6D8A: 1\n",
      "\t9D9E93D1D461D7BAE47FB67EC0E01B62: 17\n",
      "\tA57EF8EBFE4E6EF71F0DC4877B186793: 4\n",
      "\tF762E4949B07C39AEA4F2D26849B1893: 1\n",
      "number of queries (by destination) with RMSREs >= 5\n",
      "\tcookiemonster\n",
      "\t319A2412BDB0EF669733053640B80112: 3\n",
      "\t8C8BBC051B051F9424483D0ADEFAB81B: 5\n",
      "\t95F6B7BA0BA90E5D5DF1CC063390BA51: 2\n",
      "\t9D9E93D1D461D7BAE47FB67EC0E01B62: 16\n",
      "\tA57EF8EBFE4E6EF71F0DC4877B186793: 4\n",
      "\tF762E4949B07C39AEA4F2D26849B1893: 1\n",
      "\tcookiemonster_base\n",
      "\t319A2412BDB0EF669733053640B80112: 3\n",
      "\t8C8BBC051B051F9424483D0ADEFAB81B: 5\n",
      "\t95F6B7BA0BA90E5D5DF1CC063390BA51: 2\n",
      "\t9D9E93D1D461D7BAE47FB67EC0E01B62: 16\n",
      "\tA57EF8EBFE4E6EF71F0DC4877B186793: 4\n",
      "\tF762E4949B07C39AEA4F2D26849B1893: 1\n",
      "number of queries (by destination) with RMSREs >= 6\n",
      "\tcookiemonster\n",
      "\t319A2412BDB0EF669733053640B80112: 3\n",
      "\t8C8BBC051B051F9424483D0ADEFAB81B: 5\n",
      "\t95F6B7BA0BA90E5D5DF1CC063390BA51: 2\n",
      "\t9D9E93D1D461D7BAE47FB67EC0E01B62: 9\n",
      "\tA57EF8EBFE4E6EF71F0DC4877B186793: 4\n",
      "\tF762E4949B07C39AEA4F2D26849B1893: 1\n",
      "\tcookiemonster_base\n",
      "\t319A2412BDB0EF669733053640B80112: 3\n",
      "\t8C8BBC051B051F9424483D0ADEFAB81B: 5\n",
      "\t95F6B7BA0BA90E5D5DF1CC063390BA51: 2\n",
      "\t9D9E93D1D461D7BAE47FB67EC0E01B62: 9\n",
      "\tA57EF8EBFE4E6EF71F0DC4877B186793: 4\n",
      "\tF762E4949B07C39AEA4F2D26849B1893: 1\n",
      "number of queries (by destination) with RMSREs >= 7\n",
      "\tcookiemonster\n",
      "\t319A2412BDB0EF669733053640B80112: 3\n",
      "\t8C8BBC051B051F9424483D0ADEFAB81B: 5\n",
      "\t95F6B7BA0BA90E5D5DF1CC063390BA51: 2\n",
      "\t9D9E93D1D461D7BAE47FB67EC0E01B62: 9\n",
      "\tA57EF8EBFE4E6EF71F0DC4877B186793: 2\n",
      "\tF762E4949B07C39AEA4F2D26849B1893: 1\n",
      "\tcookiemonster_base\n",
      "\t319A2412BDB0EF669733053640B80112: 3\n",
      "\t8C8BBC051B051F9424483D0ADEFAB81B: 5\n",
      "\t95F6B7BA0BA90E5D5DF1CC063390BA51: 2\n",
      "\t9D9E93D1D461D7BAE47FB67EC0E01B62: 9\n",
      "\tA57EF8EBFE4E6EF71F0DC4877B186793: 2\n",
      "\tF762E4949B07C39AEA4F2D26849B1893: 1\n",
      "number of queries (by destination) with RMSREs >= 8\n",
      "\tcookiemonster\n",
      "\t319A2412BDB0EF669733053640B80112: 3\n",
      "\t8C8BBC051B051F9424483D0ADEFAB81B: 5\n",
      "\t95F6B7BA0BA90E5D5DF1CC063390BA51: 2\n",
      "\t9D9E93D1D461D7BAE47FB67EC0E01B62: 9\n",
      "\tA57EF8EBFE4E6EF71F0DC4877B186793: 2\n",
      "\tF762E4949B07C39AEA4F2D26849B1893: 1\n",
      "\tcookiemonster_base\n",
      "\t319A2412BDB0EF669733053640B80112: 3\n",
      "\t8C8BBC051B051F9424483D0ADEFAB81B: 5\n",
      "\t95F6B7BA0BA90E5D5DF1CC063390BA51: 2\n",
      "\t9D9E93D1D461D7BAE47FB67EC0E01B62: 9\n",
      "\tA57EF8EBFE4E6EF71F0DC4877B186793: 2\n",
      "\tF762E4949B07C39AEA4F2D26849B1893: 1\n",
      "number of queries (by destination) with RMSREs >= 9\n",
      "\tcookiemonster\n",
      "\t319A2412BDB0EF669733053640B80112: 3\n",
      "\t8C8BBC051B051F9424483D0ADEFAB81B: 5\n",
      "\t95F6B7BA0BA90E5D5DF1CC063390BA51: 2\n",
      "\t9D9E93D1D461D7BAE47FB67EC0E01B62: 9\n",
      "\tA57EF8EBFE4E6EF71F0DC4877B186793: 2\n",
      "\tF762E4949B07C39AEA4F2D26849B1893: 1\n",
      "\tcookiemonster_base\n",
      "\t319A2412BDB0EF669733053640B80112: 3\n",
      "\t8C8BBC051B051F9424483D0ADEFAB81B: 5\n",
      "\t95F6B7BA0BA90E5D5DF1CC063390BA51: 2\n",
      "\t9D9E93D1D461D7BAE47FB67EC0E01B62: 9\n",
      "\tA57EF8EBFE4E6EF71F0DC4877B186793: 2\n",
      "\tF762E4949B07C39AEA4F2D26849B1893: 1\n",
      "number of queries (by destination) with RMSREs >= 10\n",
      "\tcookiemonster\n",
      "\t8C8BBC051B051F9424483D0ADEFAB81B: 3\n",
      "\t95F6B7BA0BA90E5D5DF1CC063390BA51: 1\n",
      "\t9D9E93D1D461D7BAE47FB67EC0E01B62: 8\n",
      "\tA57EF8EBFE4E6EF71F0DC4877B186793: 2\n",
      "\tF762E4949B07C39AEA4F2D26849B1893: 1\n",
      "\tcookiemonster_base\n",
      "\t8C8BBC051B051F9424483D0ADEFAB81B: 3\n",
      "\t95F6B7BA0BA90E5D5DF1CC063390BA51: 1\n",
      "\t9D9E93D1D461D7BAE47FB67EC0E01B62: 8\n",
      "\tA57EF8EBFE4E6EF71F0DC4877B186793: 2\n",
      "\tF762E4949B07C39AEA4F2D26849B1893: 1\n",
      "number of queries (by destination) with RMSREs >= 11\n",
      "\tcookiemonster\n",
      "\t9D9E93D1D461D7BAE47FB67EC0E01B62: 1\n",
      "\tA57EF8EBFE4E6EF71F0DC4877B186793: 2\n",
      "\tF762E4949B07C39AEA4F2D26849B1893: 1\n",
      "\tcookiemonster_base\n",
      "\t9D9E93D1D461D7BAE47FB67EC0E01B62: 1\n",
      "\tA57EF8EBFE4E6EF71F0DC4877B186793: 2\n",
      "\tF762E4949B07C39AEA4F2D26849B1893: 1\n",
      "number of queries (by destination) with RMSREs >= 12\n",
      "\tcookiemonster\n",
      "\tA57EF8EBFE4E6EF71F0DC4877B186793: 2\n",
      "\tF762E4949B07C39AEA4F2D26849B1893: 1\n",
      "\tcookiemonster_base\n",
      "\tA57EF8EBFE4E6EF71F0DC4877B186793: 2\n",
      "\tF762E4949B07C39AEA4F2D26849B1893: 1\n",
      "number of queries (by destination) with RMSREs >= 13\n",
      "\tcookiemonster\n",
      "\tA57EF8EBFE4E6EF71F0DC4877B186793: 2\n",
      "\tF762E4949B07C39AEA4F2D26849B1893: 1\n",
      "\tcookiemonster_base\n",
      "\tA57EF8EBFE4E6EF71F0DC4877B186793: 2\n",
      "\tF762E4949B07C39AEA4F2D26849B1893: 1\n",
      "number of queries (by destination) with RMSREs >= 14\n"
     ]
    }
   ],
   "source": [
    "for benchmark in range(1, 15):\n",
    "    print(f\"number of queries (by destination) with RMSREs >= {benchmark}\")\n",
    "    for baseline, rdf in rmsres.loc[(rmsres.baseline != \"ipa\") & (rmsres.queries_rmsres >= benchmark)].groupby([\"baseline\"]):\n",
    "        print(f\"\\t{baseline[0]}\")\n",
    "        for partner, pdf in rdf.groupby([\"destination\"]):\n",
    "            print(f\"\\t{partner[0]}:\", pdf.shape[0])"
   ]
  }
 ],
 "metadata": {
  "kernelspec": {
   "display_name": "Python 3 (ipykernel)",
   "language": "python",
   "name": "python3"
  },
  "language_info": {
   "codemirror_mode": {
    "name": "ipython",
    "version": 3
   },
   "file_extension": ".py",
   "mimetype": "text/x-python",
   "name": "python",
   "nbconvert_exporter": "python",
   "pygments_lexer": "ipython3",
   "version": "3.10.11"
  }
 },
 "nbformat": 4,
 "nbformat_minor": 4
}
