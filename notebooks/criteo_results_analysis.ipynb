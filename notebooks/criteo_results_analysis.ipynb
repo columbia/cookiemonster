{
 "cells": [
  {
   "cell_type": "code",
   "execution_count": 1,
   "metadata": {},
   "outputs": [],
   "source": [
    "%load_ext autoreload\n",
    "%autoreload 2"
   ]
  },
  {
   "cell_type": "code",
   "execution_count": 2,
   "metadata": {},
   "outputs": [
    {
     "data": {
      "text/html": [
       "        <script type=\"text/javascript\">\n",
       "        window.PlotlyConfig = {MathJaxConfig: 'local'};\n",
       "        if (window.MathJax && window.MathJax.Hub && window.MathJax.Hub.Config) {window.MathJax.Hub.Config({SVG: {font: \"STIX-Web\"}});}\n",
       "        if (typeof require !== 'undefined') {\n",
       "        require.undef(\"plotly\");\n",
       "        requirejs.config({\n",
       "            paths: {\n",
       "                'plotly': ['https://cdn.plot.ly/plotly-2.30.0.min']\n",
       "            }\n",
       "        });\n",
       "        require(['plotly'], function(Plotly) {\n",
       "            window._Plotly = Plotly;\n",
       "        });\n",
       "        }\n",
       "        </script>\n",
       "        "
      ]
     },
     "metadata": {},
     "output_type": "display_data"
    }
   ],
   "source": [
    "import pandas as pd\n",
    "import plotly.io as pio\n",
    "pio.renderers.default = \"notebook\"\n",
    "import plotly.offline as pyo\n",
    "import plotly.express as px\n",
    "pyo.init_notebook_mode(connected=True)\n",
    "import utils as u"
   ]
  },
  {
   "cell_type": "code",
   "execution_count": 3,
   "metadata": {},
   "outputs": [
    {
     "data": {
      "text/plain": [
       "'\\nPlain old dataset:\\n- BOX RMSRE (varying epoch sizes)\\n- CDF BUDGET (epoch_size=7)\\n- AVG BUDGET for 3 advs (epoc_size 7)\\n\\nEnhanced with impressions:\\n- BOX RMSRE (varying epoch sizes)\\n- CDF BUDGET (epoch_size=7)\\n- AVG BUDGET for 3 advs (epoc_size 7)\\n'"
      ]
     },
     "execution_count": 3,
     "metadata": {},
     "output_type": "execute_result"
    }
   ],
   "source": [
    "\"\"\"\n",
    "Plain old dataset:\n",
    "- BOX RMSRE (varying epoch sizes)\n",
    "- CDF BUDGET (epoch_size=7)\n",
    "- AVG BUDGET for 3 advs (epoc_size 7)\n",
    "\n",
    "Enhanced with impressions:\n",
    "- BOX RMSRE (varying epoch sizes)\n",
    "- CDF BUDGET (epoch_size=7)\n",
    "- AVG BUDGET for 3 advs (epoc_size 7)\n",
    "\"\"\""
   ]
  },
  {
   "cell_type": "code",
   "execution_count": 4,
   "metadata": {},
   "outputs": [
    {
     "data": {
      "text/plain": [
       "'\\nThese destinations are selected based on their query pool sizes, and how representative\\nthey are of the query pool distributions (min 1 query, mean 8.24 queries, max 93 queries)\\n\\n9FF550C0B17A3C493378CB6E2DEEE6E4 has the largest query pool (93),\\n482E924BCFAA8562F60BF0BE53786C24 has a query pool close to the mean (8),\\n9D883ED995259EA3E715122397FE0EF9 has query pool of size 2\\n'"
      ]
     },
     "execution_count": 4,
     "metadata": {},
     "output_type": "execute_result"
    }
   ],
   "source": [
    "\"\"\"\n",
    "These destinations are selected based on their query pool sizes, and how representative\n",
    "they are of the query pool distributions (min 1 query, mean 8.24 queries, max 93 queries)\n",
    "\n",
    "9FF550C0B17A3C493378CB6E2DEEE6E4 has the largest query pool (93),\n",
    "482E924BCFAA8562F60BF0BE53786C24 has a query pool close to the mean (8),\n",
    "9D883ED995259EA3E715122397FE0EF9 has query pool of size 2\n",
    "\"\"\"\n",
    "# selected_destinations = [\"9FF55\", \"482E9\", \"9D883\"]"
   ]
  },
  {
   "cell_type": "code",
   "execution_count": 5,
   "metadata": {},
   "outputs": [],
   "source": [
    "\n",
    "# def extra_df_prep(df: pd.DataFrame) -> pd.DataFrame:\n",
    "#     df = df.assign(\n",
    "#         destination=df.apply(\n",
    "#             lambda row: row.destination[0:5],\n",
    "#             axis=1,\n",
    "#         )\n",
    "#     )\n",
    "#     global selected_destinations\n",
    "#     return df[df.destination.isin(selected_destinations)]\n"
   ]
  },
  {
   "cell_type": "code",
   "execution_count": 6,
   "metadata": {},
   "outputs": [],
   "source": [
    "# unaugmented path\n",
    "path = \"ray/criteo/bias_varying_epoch_size\""
   ]
  },
  {
   "cell_type": "code",
   "execution_count": 7,
   "metadata": {},
   "outputs": [],
   "source": [
    "# u.plot_rmsre_boxes(path, log_y=True, category_orders={\"num_days_per_epoch\": [1, 7, 14, 21, 30, 60, 90]})"
   ]
  },
  {
   "cell_type": "code",
   "execution_count": 8,
   "metadata": {},
   "outputs": [],
   "source": [
    "# u.plot_budget_consumption_cdf(path, epoch_size=7)"
   ]
  },
  {
   "cell_type": "code",
   "execution_count": 9,
   "metadata": {},
   "outputs": [],
   "source": [
    "\n",
    "# u.plot_budget_consumption_lines(\n",
    "#     path,\n",
    "#     epoch_size=7,\n",
    "#     by_destination=True,\n",
    "#     extra_df_prep=extra_df_prep\n",
    "# )"
   ]
  },
  {
   "cell_type": "code",
   "execution_count": 10,
   "metadata": {},
   "outputs": [],
   "source": [
    "# u.save_data(path)"
   ]
  },
  {
   "cell_type": "code",
   "execution_count": 11,
   "metadata": {},
   "outputs": [],
   "source": [
    "# augmented impressions path\n",
    "path = \"ray/criteo/augmented_bias_varying_epoch_size\""
   ]
  },
  {
   "cell_type": "code",
   "execution_count": 12,
   "metadata": {},
   "outputs": [],
   "source": [
    "# u.plot_rmsre_boxes(path, log_y=True, category_orders={\"num_days_per_epoch\": [1, 7, 14, 21, 30, 60, 90]})"
   ]
  },
  {
   "cell_type": "code",
   "execution_count": 13,
   "metadata": {},
   "outputs": [],
   "source": [
    "# u.plot_budget_consumption_cdf(path, epoch_size=7)"
   ]
  },
  {
   "cell_type": "code",
   "execution_count": 14,
   "metadata": {},
   "outputs": [],
   "source": [
    "\n",
    "# u.plot_budget_consumption_lines(\n",
    "#     path,\n",
    "#     epoch_size=7,\n",
    "#     by_destination=True,\n",
    "#     extra_df_prep=extra_df_prep\n",
    "# )"
   ]
  },
  {
   "cell_type": "code",
   "execution_count": 15,
   "metadata": {},
   "outputs": [],
   "source": [
    "# augmented convesrions path\n",
    "path = \"ray/criteo/augmented_conversions_bias_varying_epoch_size\""
   ]
  },
  {
   "cell_type": "code",
   "execution_count": 16,
   "metadata": {},
   "outputs": [],
   "source": [
    "# u.plot_budget_consumption_cdf(path, epoch_size=7)"
   ]
  },
  {
   "cell_type": "code",
   "execution_count": 17,
   "metadata": {},
   "outputs": [],
   "source": [
    "u.save_data(path)"
   ]
  },
  {
   "cell_type": "code",
   "execution_count": 18,
   "metadata": {},
   "outputs": [
    {
     "data": {
      "text/html": [
       "<div>\n",
       "<style scoped>\n",
       "    .dataframe tbody tr th:only-of-type {\n",
       "        vertical-align: middle;\n",
       "    }\n",
       "\n",
       "    .dataframe tbody tr th {\n",
       "        vertical-align: top;\n",
       "    }\n",
       "\n",
       "    .dataframe thead th {\n",
       "        text-align: right;\n",
       "    }\n",
       "</style>\n",
       "<table border=\"1\" class=\"dataframe\">\n",
       "  <thead>\n",
       "    <tr style=\"text-align: right;\">\n",
       "      <th></th>\n",
       "      <th>partner_id</th>\n",
       "      <th>user_id</th>\n",
       "      <th>filter</th>\n",
       "      <th>product_category3</th>\n",
       "      <th>count</th>\n",
       "      <th>conversion_timestamp</th>\n",
       "      <th>epsilon</th>\n",
       "      <th>aggregatable_cap_value</th>\n",
       "      <th>key</th>\n",
       "    </tr>\n",
       "  </thead>\n",
       "  <tbody>\n",
       "    <tr>\n",
       "      <th>0</th>\n",
       "      <td>BC24F033D166444EEB6CC79BF6213A72</td>\n",
       "      <td>AE0C6BD2600A4792BFC001C09F88B958</td>\n",
       "      <td>NaN</td>\n",
       "      <td>D3915F52523CFCDC7FA05E5E96774B89</td>\n",
       "      <td>5.0</td>\n",
       "      <td>1596439471</td>\n",
       "      <td>0.511686</td>\n",
       "      <td>5</td>\n",
       "      <td>51</td>\n",
       "    </tr>\n",
       "    <tr>\n",
       "      <th>1</th>\n",
       "      <td>6CCBF9BF3B87306C95BD5CD15F4CD324</td>\n",
       "      <td>DE9FA9092CB34644AFCB2F6EFE60EE58</td>\n",
       "      <td>NaN</td>\n",
       "      <td>CBEF3E31D31D28182362A050C392548F</td>\n",
       "      <td>3.0</td>\n",
       "      <td>1596439473</td>\n",
       "      <td>0.511686</td>\n",
       "      <td>5</td>\n",
       "      <td>90</td>\n",
       "    </tr>\n",
       "    <tr>\n",
       "      <th>2</th>\n",
       "      <td>6BFFDE668C5BC3938C875D3D0940E699</td>\n",
       "      <td>87E3C38C7A7E4313924ECE5ACF1C1E3A</td>\n",
       "      <td>NaN</td>\n",
       "      <td>30131E72F860C21850E0F2BB16B862DF</td>\n",
       "      <td>2.0</td>\n",
       "      <td>1596439474</td>\n",
       "      <td>0.511686</td>\n",
       "      <td>5</td>\n",
       "      <td>350</td>\n",
       "    </tr>\n",
       "    <tr>\n",
       "      <th>3</th>\n",
       "      <td>35EA60602589E5F5F00520A563290A59</td>\n",
       "      <td>A7B2BB8715A5458285E7129B158295C3</td>\n",
       "      <td>NaN</td>\n",
       "      <td>755FCFBCC31578C16D48289ED6830BF5</td>\n",
       "      <td>3.0</td>\n",
       "      <td>1596439478</td>\n",
       "      <td>0.617315</td>\n",
       "      <td>5</td>\n",
       "      <td>4</td>\n",
       "    </tr>\n",
       "    <tr>\n",
       "      <th>4</th>\n",
       "      <td>43B9B57374688E5B843DC51BF98F1ED7</td>\n",
       "      <td>9481F74666CF4C5DBF718351DAFF09E6</td>\n",
       "      <td>NaN</td>\n",
       "      <td>3AAA3CBC1A566F6A8FD4614DED1AE7AB</td>\n",
       "      <td>3.0</td>\n",
       "      <td>1596439481</td>\n",
       "      <td>0.511686</td>\n",
       "      <td>5</td>\n",
       "      <td>0</td>\n",
       "    </tr>\n",
       "  </tbody>\n",
       "</table>\n",
       "</div>"
      ],
      "text/plain": [
       "                         partner_id                           user_id  filter  \\\n",
       "0  BC24F033D166444EEB6CC79BF6213A72  AE0C6BD2600A4792BFC001C09F88B958     NaN   \n",
       "1  6CCBF9BF3B87306C95BD5CD15F4CD324  DE9FA9092CB34644AFCB2F6EFE60EE58     NaN   \n",
       "2  6BFFDE668C5BC3938C875D3D0940E699  87E3C38C7A7E4313924ECE5ACF1C1E3A     NaN   \n",
       "3  35EA60602589E5F5F00520A563290A59  A7B2BB8715A5458285E7129B158295C3     NaN   \n",
       "4  43B9B57374688E5B843DC51BF98F1ED7  9481F74666CF4C5DBF718351DAFF09E6     NaN   \n",
       "\n",
       "                  product_category3  count  conversion_timestamp   epsilon  \\\n",
       "0  D3915F52523CFCDC7FA05E5E96774B89    5.0            1596439471  0.511686   \n",
       "1  CBEF3E31D31D28182362A050C392548F    3.0            1596439473  0.511686   \n",
       "2  30131E72F860C21850E0F2BB16B862DF    2.0            1596439474  0.511686   \n",
       "3  755FCFBCC31578C16D48289ED6830BF5    3.0            1596439478  0.617315   \n",
       "4  3AAA3CBC1A566F6A8FD4614DED1AE7AB    3.0            1596439481  0.511686   \n",
       "\n",
       "   aggregatable_cap_value  key  \n",
       "0                       5   51  \n",
       "1                       5   90  \n",
       "2                       5  350  \n",
       "3                       5    4  \n",
       "4                       5    0  "
      ]
     },
     "execution_count": 18,
     "metadata": {},
     "output_type": "execute_result"
    }
   ],
   "source": [
    "df = pd.read_csv(\"../data/criteo/criteo_query_pool_augmented_conversions.csv\")\n",
    "df.head()"
   ]
  },
  {
   "cell_type": "code",
   "execution_count": 19,
   "metadata": {},
   "outputs": [],
   "source": [
    "true_output = df.groupby([\"partner_id\", \"key\"])[\"count\"].sum()"
   ]
  },
  {
   "cell_type": "code",
   "execution_count": 20,
   "metadata": {},
   "outputs": [
    {
     "name": "stdout",
     "output_type": "stream",
     "text": [
      "(7444,) (7444,)\n"
     ]
    }
   ],
   "source": [
    "print(true_output.shape, true_output[true_output > 0].shape)"
   ]
  }
 ],
 "metadata": {
  "kernelspec": {
   "display_name": "Python 3 (ipykernel)",
   "language": "python",
   "name": "python3"
  },
  "language_info": {
   "codemirror_mode": {
    "name": "ipython",
    "version": 3
   },
   "file_extension": ".py",
   "mimetype": "text/x-python",
   "name": "python",
   "nbconvert_exporter": "python",
   "pygments_lexer": "ipython3",
   "version": "3.10.11"
  }
 },
 "nbformat": 4,
 "nbformat_minor": 4
}
