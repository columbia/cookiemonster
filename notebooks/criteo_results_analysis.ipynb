{
 "cells": [
  {
   "cell_type": "code",
   "execution_count": 1,
   "metadata": {},
   "outputs": [],
   "source": [
    "%load_ext autoreload\n",
    "%autoreload 2"
   ]
  },
  {
   "cell_type": "code",
   "execution_count": 2,
   "metadata": {},
   "outputs": [
    {
     "data": {
      "text/html": [
       "        <script type=\"text/javascript\">\n",
       "        window.PlotlyConfig = {MathJaxConfig: 'local'};\n",
       "        if (window.MathJax && window.MathJax.Hub && window.MathJax.Hub.Config) {window.MathJax.Hub.Config({SVG: {font: \"STIX-Web\"}});}\n",
       "        if (typeof require !== 'undefined') {\n",
       "        require.undef(\"plotly\");\n",
       "        requirejs.config({\n",
       "            paths: {\n",
       "                'plotly': ['https://cdn.plot.ly/plotly-2.30.0.min']\n",
       "            }\n",
       "        });\n",
       "        require(['plotly'], function(Plotly) {\n",
       "            window._Plotly = Plotly;\n",
       "        });\n",
       "        }\n",
       "        </script>\n",
       "        "
      ]
     },
     "metadata": {},
     "output_type": "display_data"
    }
   ],
   "source": [
    "import pandas as pd\n",
    "import plotly.io as pio\n",
    "pio.renderers.default = \"notebook\"\n",
    "import plotly.offline as pyo\n",
    "import plotly.express as px\n",
    "pyo.init_notebook_mode(connected=True)\n",
    "import utils as u"
   ]
  },
  {
   "cell_type": "code",
   "execution_count": 3,
   "metadata": {},
   "outputs": [],
   "source": [
    "# augmented conversions path 10% multi-converters\n",
    "path = \"ray/criteo/augmented_conversions_bias_varying_epoch_size/run_and_report_2024-04-30_15-24-35\"\n",
    "u.save_data(path)"
   ]
  },
  {
   "cell_type": "code",
   "execution_count": 4,
   "metadata": {},
   "outputs": [],
   "source": [
    "# augmented conversions path 30% multi-converters\n",
    "path = \"ray/criteo/augmented_conversions_bias_varying_epoch_size/run_and_report_2024-04-30_16-59-14\"\n",
    "u.save_data(path)"
   ]
  },
  {
   "cell_type": "code",
   "execution_count": null,
   "metadata": {},
   "outputs": [],
   "source": [
    "# augmented conversions path 50% multi-converters\n",
    "path = \"ray/criteo/augmented_conversions_bias_varying_epoch_size/run_and_report_2024-05-05_15-03-53\"\n",
    "u.save_data(path)"
   ]
  },
  {
   "cell_type": "code",
   "execution_count": 5,
   "metadata": {},
   "outputs": [
    {
     "name": "stderr",
     "output_type": "stream",
     "text": [
      "C:\\Users\\petem\\AppData\\Local\\Temp\\ipykernel_30580\\293685438.py:1: DtypeWarning:\n",
      "\n",
      "Columns (11) have mixed types. Specify dtype option on import or set low_memory=False.\n",
      "\n"
     ]
    },
    {
     "name": "stdout",
     "output_type": "stream",
     "text": [
      "1.07556% of users convert more than once\n"
     ]
    }
   ],
   "source": [
    "original_conversions = pd.read_csv(\"../data/criteo/criteo_query_pool_conversions.csv\")\n",
    "original_conversions = original_conversions.groupby([\"partner_id\", \"user_id\", \"product_category3\"])[\"count\"].count()\n",
    "multi_convert_percentage = original_conversions[original_conversions > 1].shape[0] / original_conversions.shape[0] * 100\n",
    "print(f\"{multi_convert_percentage:.5f}% of users convert more than once\")"
   ]
  },
  {
   "cell_type": "code",
   "execution_count": 6,
   "metadata": {},
   "outputs": [
    {
     "name": "stdout",
     "output_type": "stream",
     "text": [
      "11.64880% of users convert more than once\n"
     ]
    }
   ],
   "source": [
    "augmented_conversions_10 = pd.read_csv(\"../data/criteo/criteo_query_pool_augmented_conversions_10.csv\")\n",
    "augmented_conversions_10 = augmented_conversions_10.groupby([\"partner_id\", \"user_id\", \"product_category3\"])[\"count\"].count()\n",
    "multi_convert_percentage = augmented_conversions_10[augmented_conversions_10 > 1].shape[0] / augmented_conversions_10.shape[0] * 100\n",
    "print(f\"{multi_convert_percentage:.5f}% of users convert more than once\")"
   ]
  },
  {
   "cell_type": "code",
   "execution_count": 7,
   "metadata": {},
   "outputs": [
    {
     "name": "stdout",
     "output_type": "stream",
     "text": [
      "31.97529% of users convert more than once\n"
     ]
    }
   ],
   "source": [
    "augmented_conversions_30 = pd.read_csv(\"../data/criteo/criteo_query_pool_augmented_conversions_30.csv\")\n",
    "augmented_conversions_30 = augmented_conversions_30.groupby([\"partner_id\", \"user_id\", \"product_category3\"])[\"count\"].count()\n",
    "multi_convert_percentage = augmented_conversions_30[augmented_conversions_30 > 1].shape[0] / augmented_conversions_30.shape[0] * 100\n",
    "print(f\"{multi_convert_percentage:.5f}% of users convert more than once\")"
   ]
  },
  {
   "cell_type": "code",
   "execution_count": 8,
   "metadata": {},
   "outputs": [
    {
     "name": "stdout",
     "output_type": "stream",
     "text": [
      "48.80594% of users convert more than once\n"
     ]
    }
   ],
   "source": [
    "augmented_conversions_50 = pd.read_csv(\"../data/criteo/criteo_query_pool_augmented_conversions_50.csv\")\n",
    "augmented_conversions_50 = augmented_conversions_50.groupby([\"partner_id\", \"user_id\", \"product_category3\"])[\"count\"].count()\n",
    "multi_convert_percentage = augmented_conversions_50[augmented_conversions_50 > 1].shape[0] / augmented_conversions_50.shape[0] * 100\n",
    "print(f\"{multi_convert_percentage:.5f}% of users convert more than once\")"
   ]
  }
 ],
 "metadata": {
  "kernelspec": {
   "display_name": "Python 3 (ipykernel)",
   "language": "python",
   "name": "python3"
  },
  "language_info": {
   "codemirror_mode": {
    "name": "ipython",
    "version": 3
   },
   "file_extension": ".py",
   "mimetype": "text/x-python",
   "name": "python",
   "nbconvert_exporter": "python",
   "pygments_lexer": "ipython3",
   "version": "3.10.11"
  }
 },
 "nbformat": 4,
 "nbformat_minor": 4
}
