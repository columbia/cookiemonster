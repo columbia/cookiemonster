{
 "cells": [
  {
   "cell_type": "markdown",
   "id": "8d74629c",
   "metadata": {},
   "source": [
    "# Criteo Sponsored Search Conversion Log Dataset Analysis\n",
    "\n",
    "## Resources\n",
    "Dataset: [Criteo Sponsored Search Conversion Log Dataset](https://ailab.criteo.com/criteo-sponsored-search-conversion-log-dataset/)\n",
    "\n",
    "Paper: [Reacting to Variations in Product Demand: An Application for\n",
    "Conversion Rate (CR) Prediction in Sponsored Search\n",
    "](https://arxiv.org/pdf/1806.08211.pdf)\n",
    "\n",
    "## Shortform Overview of the data\n",
    "- Entire dataset spans 90 days of logs\n",
    "- Attribution Window used is 30 days\n",
    "- Each row in the dataset represents an action (i.e. click) performed by the user on a product related advertisement.\n",
    "- Each row may or may not have a conversion with it. If Sale = 1, then there was a conversion.\n",
    "- The data has been sub-sampled, and it's not clear how the sampling was done. So, it could be that we have impartial user stories. For instance, multiple impressions might have _actually_ led to a conversion, but that conversion might be missing from the dataset. Similarly, multiple impressions might have _actually_ been recorded, but some impressions might be missing from the dataset. This has implications for accurately recording privacy budget deductions.\n",
    "\n",
    "## Overview of the data\n",
    "(Copied from the data source website. Emphasis is mine)\n",
    "\n",
    "This dataset contains logs obtained from Criteo Predictive Search (CPS). CPS, offers an automated end-to-end solution using sophisticated machine learning techniques to improve Google Shopping experience using robust, predictive optimization across every aspect of the advertiser’s campaign. CPS in general has two main aims : (1) Retarget high-value users via behavioral targeting such that the bids are based on each user’s likelihood to make a purchase. (2) Increase ROI using a bidding strategy which incorporates the effects of product characteristics, user intent, device and user behavior.\n",
    "\n",
    "**Each row in the dataset represents an action (i.e. click) performed by the user on a product related advertisement**. The product advertisement was shown to the user, post the user expressing an intent via an online search engine.  Each row in the dataset, contains information about the product characteristics (age, brand, gender, price), time of the click ( subject to uniform shift), user characteristics and device information. The **logs also contain information on whether the clicks eventually led to a conversion (product was bought) within a 30 day window and the time between click and the conversion**.\n",
    "\n",
    "**This dataset represents a sample of 90 days of Criteo live traffic data**. Each line corresponds to one click (product related advertisement) that was displayed to a user. For each advertisement, we have detailed information about the product. Further, we also provide information on whether the click led to a conversion, amount of conversion and the time between the click and the conversion. **Data has been sub-sampled** and anonymized so as not to disclose proprietary elements."
   ]
  },
  {
   "cell_type": "code",
   "execution_count": 1,
   "id": "024fa901",
   "metadata": {},
   "outputs": [],
   "source": [
    "# import pandas as pd\n",
    "import modin.pandas as pd\n",
    "import numpy as np\n",
    "from datetime import datetime\n",
    "import os\n",
    "import math\n",
    "import plotly.express as px\n",
    "\n",
    "os.environ[\"MODIN_ENGINE\"] = \"ray\""
   ]
  },
  {
   "cell_type": "markdown",
   "id": "037d64d0",
   "metadata": {},
   "source": [
    "### Dataset Retrieval\n",
    "This notebook assumes you already have the dataset downloaded and in the current directory. If you do not, uncomment and run the following cell. Note that the uncompressed data is ~6 GB."
   ]
  },
  {
   "cell_type": "code",
   "execution_count": 6,
   "id": "b77d8e22",
   "metadata": {},
   "outputs": [],
   "source": [
    "# !wget http://go.criteo.net/criteo-research-search-conversion.tar.gz\n",
    "# !tar -xzf criteo-research-search-conversion.tar.gz"
   ]
  },
  {
   "cell_type": "code",
   "execution_count": 2,
   "id": "79921a04",
   "metadata": {},
   "outputs": [],
   "source": [
    "DATA_FILE = 'Criteo_Conversion_Search/CriteoSearchData'\n",
    "dtype={\n",
    "    \"Sale\": np.int32,\n",
    "    \"SalesAmountInEuro\": np.float64,\n",
    "    \"Time_delay_for_conversion\": np.int32,\n",
    "    \"click_timestamp\": np.int32,\n",
    "    \"nb_clicks_1week\": pd.Int64Dtype(),\n",
    "    \"product_price\": np.float64,\n",
    "    \"product_age_group\": str,\n",
    "    \"device_type\": str,\n",
    "    \"audience_id\": str,\n",
    "    \"product_gender\": str,\n",
    "    \"product_brand\": str,\n",
    "    \"product_category1\": str,\n",
    "    \"product_category2\": str,\n",
    "    \"product_category3\": str,\n",
    "    \"product_category4\": str,\n",
    "    \"product_category5\": str,\n",
    "    \"product_category6\": str,\n",
    "    \"product_category7\": str,\n",
    "    \"product_country\": str,\n",
    "    \"product_id\": str,\n",
    "    \"product_title\": str,\n",
    "    \"partner_id\": str,\n",
    "    \"user_id\": str,\n",
    "}\n",
    "na_values={\n",
    "    \"click_timestamp\": \"0\",\n",
    "    \"nb_clicks_1week\": \"-1\",\n",
    "    \"product_price\": \"-1\",\n",
    "    \"product_age_group\": \"-1\",\n",
    "    \"device_type\": \"-1\",\n",
    "    \"audience_id\": \"-1\",\n",
    "    \"product_gender\": \"-1\",\n",
    "    \"product_brand\": \"-1\",\n",
    "    \"product_category1\": \"-1\",\n",
    "    \"product_category2\": \"-1\",\n",
    "    \"product_category3\": \"-1\",\n",
    "    \"product_category4\": \"-1\",\n",
    "    \"product_category5\": \"-1\",\n",
    "    \"product_category6\": \"-1\",\n",
    "    \"product_category7\": \"-1\",\n",
    "    \"product_country\": \"-1\",\n",
    "    \"product_id\": \"-1\",\n",
    "    \"product_title\": \"-1\",\n",
    "    \"partner_id\": \"-1\",\n",
    "    \"user_id\": \"-1\",\n",
    "}\n",
    "columns_to_drop = [\n",
    "    'product_category1', 'product_category2', 'product_category3', 'product_category4',\n",
    "    'product_category5', 'product_category6', 'product_category7', 'nb_clicks_1week', 'device_type',\n",
    "    'product_title', 'product_brand', 'product_gender', 'audience_id', 'product_age_group', \"product_country\"\n",
    "]"
   ]
  },
  {
   "cell_type": "code",
   "execution_count": 21,
   "id": "e03bda6c",
   "metadata": {},
   "outputs": [
    {
     "data": {
      "text/html": [
       "<div>\n",
       "<style scoped>\n",
       "    .dataframe tbody tr th:only-of-type {\n",
       "        vertical-align: middle;\n",
       "    }\n",
       "\n",
       "    .dataframe tbody tr th {\n",
       "        vertical-align: top;\n",
       "    }\n",
       "\n",
       "    .dataframe thead th {\n",
       "        text-align: right;\n",
       "    }\n",
       "</style>\n",
       "<table border=\"1\" class=\"dataframe\">\n",
       "  <thead>\n",
       "    <tr style=\"text-align: right;\">\n",
       "      <th></th>\n",
       "      <th>Sale</th>\n",
       "      <th>SalesAmountInEuro</th>\n",
       "      <th>Time_delay_for_conversion</th>\n",
       "      <th>click_timestamp</th>\n",
       "      <th>product_price</th>\n",
       "      <th>product_id</th>\n",
       "      <th>partner_id</th>\n",
       "      <th>user_id</th>\n",
       "    </tr>\n",
       "  </thead>\n",
       "  <tbody>\n",
       "    <tr>\n",
       "      <th>0</th>\n",
       "      <td>0</td>\n",
       "      <td>-1.0</td>\n",
       "      <td>-1</td>\n",
       "      <td>1598891820</td>\n",
       "      <td>0.00</td>\n",
       "      <td>A66DB02AC1726A8D79C518B7F7AB79F0</td>\n",
       "      <td>E3DDEB04F8AFF944B11943BB57D2F620</td>\n",
       "      <td>493CFB4A87C50804C94C0CF76ABD19CD</td>\n",
       "    </tr>\n",
       "    <tr>\n",
       "      <th>1</th>\n",
       "      <td>0</td>\n",
       "      <td>-1.0</td>\n",
       "      <td>-1</td>\n",
       "      <td>1598925284</td>\n",
       "      <td>0.00</td>\n",
       "      <td>4C6C62203B4CE5AA6DFCF17F2604DC37</td>\n",
       "      <td>BD01BAFAE73CF38C403978BBB458300C</td>\n",
       "      <td>D0EBCD4402172AE3AA6FD21FB77BDE84</td>\n",
       "    </tr>\n",
       "    <tr>\n",
       "      <th>4</th>\n",
       "      <td>0</td>\n",
       "      <td>-1.0</td>\n",
       "      <td>-1</td>\n",
       "      <td>1598905245</td>\n",
       "      <td>0.00</td>\n",
       "      <td>5F4AFF2693601C2EFFE9AF2C1ED4222E</td>\n",
       "      <td>E3DDEB04F8AFF944B11943BB57D2F620</td>\n",
       "      <td>703B8CFC8D65A67BDF96595CCF992D27</td>\n",
       "    </tr>\n",
       "    <tr>\n",
       "      <th>5</th>\n",
       "      <td>1</td>\n",
       "      <td>89.9</td>\n",
       "      <td>442485</td>\n",
       "      <td>1598929598</td>\n",
       "      <td>49.95</td>\n",
       "      <td>C806140F3AF11759BEF4E3B79B51588F</td>\n",
       "      <td>743B1EE3A39E06D855A72B3B66D501D0</td>\n",
       "      <td>E94BA61ACE2488B7DA7920736B82DFBD</td>\n",
       "    </tr>\n",
       "    <tr>\n",
       "      <th>6</th>\n",
       "      <td>0</td>\n",
       "      <td>-1.0</td>\n",
       "      <td>-1</td>\n",
       "      <td>1598940008</td>\n",
       "      <td>0.00</td>\n",
       "      <td>EE31CDA023E1237FBAD9C75E08C1D2BF</td>\n",
       "      <td>E3DDEB04F8AFF944B11943BB57D2F620</td>\n",
       "      <td>B361216FD8F17C7F748DFAC7EEA9C231</td>\n",
       "    </tr>\n",
       "  </tbody>\n",
       "</table>\n",
       "</div>"
      ],
      "text/plain": [
       "   Sale  SalesAmountInEuro  Time_delay_for_conversion  click_timestamp  \\\n",
       "0     0               -1.0                         -1       1598891820   \n",
       "1     0               -1.0                         -1       1598925284   \n",
       "4     0               -1.0                         -1       1598905245   \n",
       "5     1               89.9                     442485       1598929598   \n",
       "6     0               -1.0                         -1       1598940008   \n",
       "\n",
       "   product_price                        product_id  \\\n",
       "0           0.00  A66DB02AC1726A8D79C518B7F7AB79F0   \n",
       "1           0.00  4C6C62203B4CE5AA6DFCF17F2604DC37   \n",
       "4           0.00  5F4AFF2693601C2EFFE9AF2C1ED4222E   \n",
       "5          49.95  C806140F3AF11759BEF4E3B79B51588F   \n",
       "6           0.00  EE31CDA023E1237FBAD9C75E08C1D2BF   \n",
       "\n",
       "                         partner_id                           user_id  \n",
       "0  E3DDEB04F8AFF944B11943BB57D2F620  493CFB4A87C50804C94C0CF76ABD19CD  \n",
       "1  BD01BAFAE73CF38C403978BBB458300C  D0EBCD4402172AE3AA6FD21FB77BDE84  \n",
       "4  E3DDEB04F8AFF944B11943BB57D2F620  703B8CFC8D65A67BDF96595CCF992D27  \n",
       "5  743B1EE3A39E06D855A72B3B66D501D0  E94BA61ACE2488B7DA7920736B82DFBD  \n",
       "6  E3DDEB04F8AFF944B11943BB57D2F620  B361216FD8F17C7F748DFAC7EEA9C231  "
      ]
     },
     "execution_count": 21,
     "metadata": {},
     "output_type": "execute_result"
    }
   ],
   "source": [
    "df = pd.read_csv(DATA_FILE, names=dtype.keys(), dtype=dtype, na_values=na_values, header=None, sep=\"\\t\")\n",
    "df = df.drop(columns=columns_to_drop)\n",
    "df = df.dropna(subset=['partner_id', 'user_id', \"product_id\"])\n",
    "df.head()"
   ]
  },
  {
   "cell_type": "code",
   "execution_count": 23,
   "id": "7291cd61-e69c-4fcb-be51-a67b15475447",
   "metadata": {},
   "outputs": [
    {
     "name": "stdout",
     "output_type": "stream",
     "text": [
      "1596439471\n"
     ]
    },
    {
     "data": {
      "text/plain": [
       "0"
      ]
     },
     "execution_count": 23,
     "metadata": {},
     "output_type": "execute_result"
    }
   ],
   "source": [
    "print(df[\"click_timestamp\"].min())\n",
    "df[\"click_timestamp\"].max()\n",
    "\n",
    "df[\"click_timestamp\"] = df[\"click_timestamp\"] - df[\"click_timestamp\"].min()\n",
    "df[\"click_timestamp\"].min()"
   ]
  },
  {
   "cell_type": "code",
   "execution_count": 30,
   "id": "72aa37f1-7c36-44d7-a9db-5616836e1c20",
   "metadata": {},
   "outputs": [
    {
     "data": {
      "text/plain": [
       "0           32\n",
       "1           32\n",
       "4           32\n",
       "5           32\n",
       "6           32\n",
       "            ..\n",
       "15995629    10\n",
       "15995630    10\n",
       "15995631     9\n",
       "15995632     9\n",
       "15995633    10\n",
       "Name: click_day, Length: 12167296, dtype: int64"
      ]
     },
     "execution_count": 30,
     "metadata": {},
     "output_type": "execute_result"
    }
   ],
   "source": [
    "df[\"click_datetime\"] = df[\"click_timestamp\"].apply(lambda x: datetime.fromtimestamp(x))\n",
    "df[\"click_datetime\"].min()\n",
    "df[\"click_day\"] = df[\"click_datetime\"].apply(\n",
    "    lambda x: (7 * (x.isocalendar().week - 1)) + x.isocalendar().weekday\n",
    ")\n",
    "df[\"click_day\"]\n"
   ]
  },
  {
   "cell_type": "code",
   "execution_count": 31,
   "id": "6ae17fef",
   "metadata": {},
   "outputs": [
    {
     "name": "stdout",
     "output_type": "stream",
     "text": [
      "BFACB58E2C452E7C227802C3D6155F20\n"
     ]
    }
   ],
   "source": [
    "df[\"click_timestamp\"] = df[\"click_timestamp\"] - df[\"click_timestamp\"].min()\n",
    "df[\"click_datetime\"] = df[\"click_timestamp\"].apply(lambda x: datetime.fromtimestamp(x))\n",
    "df[\"click_day\"] = df[\"click_datetime\"].apply(\n",
    "    lambda x: (7 * (x.isocalendar().week - 1)) + x.isocalendar().weekday\n",
    ")\n",
    "\n",
    "df[\"conversion_timestamp\"] = df[\"Time_delay_for_conversion\"] + df[\"click_timestamp\"]\n",
    "df[\"conversion_datetime\"] = df[\"conversion_timestamp\"].apply(\n",
    "    lambda x: datetime.fromtimestamp(x)\n",
    ")\n",
    "df[\"conversion_day\"] = df[\"conversion_datetime\"].apply(\n",
    "    lambda x: (7 * (x.isocalendar().week - 1)) + x.isocalendar().weekday\n",
    ")\n",
    "\n",
    "\n",
    "df = df.query(\n",
    "    \"partner_id=='F122B91F6D102E4630817566839A4F1F' and user_id == '34951B67071368AAB361548D35DF978B'\"\n",
    ")\n",
    "def hash_to_buckets(s):\n",
    "    print(s)\n",
    "    hash_value = hash(s)\n",
    "    normalized_hash = (hash_value % 10000) / 10000\n",
    "    if normalized_hash < 1 / 3:\n",
    "        return 0\n",
    "    elif normalized_hash < 2 / 3:\n",
    "        return 1\n",
    "    else:\n",
    "        return 2\n",
    "\n",
    "df[\"product_id_group\"] = df[\"product_id\"].apply(hash_to_buckets)\n",
    "df[\"filter\"] = \"product_group_id=\" + df[\"product_id_group\"].astype(str)\n",
    "# df\n",
    "# df[[\"product_id_group\", \"product_id\"]]"
   ]
  },
  {
   "cell_type": "code",
   "execution_count": 32,
   "id": "92db4d6a-d96c-4ee2-bedb-1fcba321aace",
   "metadata": {},
   "outputs": [],
   "source": [
    "# Get impressions\n",
    "impressions = df[\n",
    "    [\n",
    "        \"click_timestamp\",\n",
    "        \"click_day\",\n",
    "        \"user_id\",\n",
    "        \"partner_id\",\n",
    "        \"product_id_group\",\n",
    "        \"filter\",\n",
    "    ]\n",
    "]\n",
    "impressions = impressions.sort_values(by=[\"click_timestamp\"])\n",
    "impressions[\"key\"] = \"purchaseCount\"\n",
    "\n",
    "# Get conversions\n",
    "conversions = pd.DataFrame(df.loc[df.Sale == 1])[\n",
    "    [\n",
    "        \"conversion_timestamp\",\n",
    "        \"conversion_day\",\n",
    "        \"user_id\",\n",
    "        \"partner_id\",\n",
    "        \"product_id_group\",\n",
    "        \"filter\",\n",
    "        \"SalesAmountInEuro\",\n",
    "        \"product_price\",\n",
    "        \"Time_delay_for_conversion\"\n",
    "    ]\n",
    "]\n",
    "conversions = conversions.sort_values(by=[\"conversion_timestamp\"])"
   ]
  },
  {
   "cell_type": "code",
   "execution_count": 33,
   "id": "387000fc-e4ec-4ca5-8083-d36309e03414",
   "metadata": {
    "scrolled": true
   },
   "outputs": [
    {
     "data": {
      "text/html": [
       "<div>\n",
       "<style scoped>\n",
       "    .dataframe tbody tr th:only-of-type {\n",
       "        vertical-align: middle;\n",
       "    }\n",
       "\n",
       "    .dataframe tbody tr th {\n",
       "        vertical-align: top;\n",
       "    }\n",
       "\n",
       "    .dataframe thead th {\n",
       "        text-align: right;\n",
       "    }\n",
       "</style>\n",
       "<table border=\"1\" class=\"dataframe\">\n",
       "  <thead>\n",
       "    <tr style=\"text-align: right;\">\n",
       "      <th></th>\n",
       "      <th>click_timestamp</th>\n",
       "      <th>click_day</th>\n",
       "      <th>user_id</th>\n",
       "      <th>partner_id</th>\n",
       "      <th>product_id_group</th>\n",
       "      <th>filter</th>\n",
       "      <th>key</th>\n",
       "    </tr>\n",
       "  </thead>\n",
       "  <tbody>\n",
       "    <tr>\n",
       "      <th>1854160</th>\n",
       "      <td>138455</td>\n",
       "      <td>5</td>\n",
       "      <td>34951B67071368AAB361548D35DF978B</td>\n",
       "      <td>F122B91F6D102E4630817566839A4F1F</td>\n",
       "      <td>1</td>\n",
       "      <td>product_group_id=1</td>\n",
       "      <td>purchaseCount</td>\n",
       "    </tr>\n",
       "  </tbody>\n",
       "</table>\n",
       "</div>"
      ],
      "text/plain": [
       "         click_timestamp  click_day                           user_id  \\\n",
       "1854160           138455          5  34951B67071368AAB361548D35DF978B   \n",
       "\n",
       "                               partner_id  product_id_group  \\\n",
       "1854160  F122B91F6D102E4630817566839A4F1F                 1   \n",
       "\n",
       "                     filter            key  \n",
       "1854160  product_group_id=1  purchaseCount  "
      ]
     },
     "execution_count": 33,
     "metadata": {},
     "output_type": "execute_result"
    }
   ],
   "source": [
    "# impressions.query(\"partner_id == '9FF550C0B17A3C493378CB6E2DEEE6E4' and user_id == '52608AC73B7E4DEDE6A5392D5C36A834'\")\n",
    "impressions"
   ]
  },
  {
   "cell_type": "code",
   "execution_count": 34,
   "id": "fc3e4653-45c4-4efb-a027-00531bab5a57",
   "metadata": {},
   "outputs": [
    {
     "data": {
      "text/html": [
       "<div>\n",
       "<style scoped>\n",
       "    .dataframe tbody tr th:only-of-type {\n",
       "        vertical-align: middle;\n",
       "    }\n",
       "\n",
       "    .dataframe tbody tr th {\n",
       "        vertical-align: top;\n",
       "    }\n",
       "\n",
       "    .dataframe thead th {\n",
       "        text-align: right;\n",
       "    }\n",
       "</style>\n",
       "<table border=\"1\" class=\"dataframe\">\n",
       "  <thead>\n",
       "    <tr style=\"text-align: right;\">\n",
       "      <th></th>\n",
       "      <th>conversion_timestamp</th>\n",
       "      <th>conversion_day</th>\n",
       "      <th>user_id</th>\n",
       "      <th>partner_id</th>\n",
       "      <th>product_id_group</th>\n",
       "      <th>filter</th>\n",
       "      <th>SalesAmountInEuro</th>\n",
       "      <th>product_price</th>\n",
       "      <th>Time_delay_for_conversion</th>\n",
       "    </tr>\n",
       "  </thead>\n",
       "  <tbody>\n",
       "    <tr>\n",
       "      <th>1854160</th>\n",
       "      <td>2670963</td>\n",
       "      <td>34</td>\n",
       "      <td>34951B67071368AAB361548D35DF978B</td>\n",
       "      <td>F122B91F6D102E4630817566839A4F1F</td>\n",
       "      <td>1</td>\n",
       "      <td>product_group_id=1</td>\n",
       "      <td>47.28</td>\n",
       "      <td>5.87</td>\n",
       "      <td>2532508</td>\n",
       "    </tr>\n",
       "  </tbody>\n",
       "</table>\n",
       "</div>"
      ],
      "text/plain": [
       "         conversion_timestamp  conversion_day  \\\n",
       "1854160               2670963              34   \n",
       "\n",
       "                                  user_id                        partner_id  \\\n",
       "1854160  34951B67071368AAB361548D35DF978B  F122B91F6D102E4630817566839A4F1F   \n",
       "\n",
       "         product_id_group              filter  SalesAmountInEuro  \\\n",
       "1854160                 1  product_group_id=1              47.28   \n",
       "\n",
       "         product_price  Time_delay_for_conversion  \n",
       "1854160           5.87                    2532508  "
      ]
     },
     "execution_count": 34,
     "metadata": {},
     "output_type": "execute_result"
    }
   ],
   "source": [
    "# conversions.query(\"conversion_timestamp==1599026856 and user_id == '52608AC73B7E4DEDE6A5392D5C36A834'\")\n",
    "conversions"
   ]
  },
  {
   "cell_type": "code",
   "execution_count": 12,
   "id": "1ea3c3b9",
   "metadata": {},
   "outputs": [],
   "source": [
    "# conversions.loc[conversions['SalesAmountInEuro'] < conversions['product_price'], 'SalesAmountInEuro'] = conversions['product_price']\n",
    "# cap_value = 5\n",
    "# conversions[\"count\"] = conversions[\"SalesAmountInEuro\"] // conversions[\"product_price\"]\n",
    "# conversions = conversions.drop(columns=[\"product_price\", \"SalesAmountInEuro\"])\n",
    "# conversions.loc[conversions['count'] > cap_value, 'count'] = cap_value\n",
    "# conversions[\"count\"].describe()"
   ]
  },
  {
   "cell_type": "code",
   "execution_count": 13,
   "id": "6b3ed3aa-5935-43c3-abb4-10e7685d1ba6",
   "metadata": {},
   "outputs": [],
   "source": [
    "# def get_epsilon_from_accuracy(n):\n",
    "#     s = cap_value\n",
    "#     a = 0.05\n",
    "#     b = 0.01\n",
    "#     return s * math.log(1 / b) / (n * a)\n",
    "\n",
    "# # Get epsilons from accuracy\n",
    "# x = (\n",
    "#     conversions.groupby([\"partner_id\", \"product_id_group\"])\n",
    "#     .size()\n",
    "#     .reset_index(name=\"count\")\n",
    "# )\n",
    "# x[\"epsilon\"] = x[\"count\"].apply(get_epsilon_from_accuracy)\n",
    "# x = x.drop(columns=[\"count\"])\n",
    "# conversions = conversions.merge(x, on=[\"partner_id\", \"product_id_group\"], how=\"left\")\n",
    "\n",
    "# conversions[\"aggregatable_cap_value\"] = cap_value\n",
    "# conversions[\"key\"] = \"product_group_id=\" + conversions[\"product_id_group\"].astype(str)\n",
    "\n",
    "# epsilons = s * math.log(1/b) / (df[\"num_conversions\"] * a)"
   ]
  },
  {
   "cell_type": "code",
   "execution_count": 14,
   "id": "4ad58891-9eaa-4959-9453-a46ca0bd0390",
   "metadata": {},
   "outputs": [],
   "source": [
    "# x.groupby([\"partner_id\", \"product_id_group\"]).max()[\"epsilon\"]"
   ]
  },
  {
   "cell_type": "code",
   "execution_count": 15,
   "id": "f3a6f37d",
   "metadata": {},
   "outputs": [],
   "source": [
    "# total_impressions = impressions.shape[0]\n",
    "# total_conversions = conversions.shape[0]\n",
    "# unique_user_count = len(df.groupby(['user_id']).count())\n",
    "# unique_partner_count = len(df.groupby(['partner_id']).count())\n",
    "# unique_product_count = len(df.groupby(['product_id']).count())\n",
    "# unique_partner_product_count = len(df.groupby(['partner_id', 'product_id']).size())\n",
    "\n",
    "# print(\"total impressions:\", total_impressions, \"total conversions:\", total_conversions)\n",
    "# print(\"conversion rate:\", total_conversions/total_impressions*100, \"%\")\n",
    "# print(\"unique users:\", unique_user_count)\n",
    "# print(\"unique partners:\", unique_partner_count)\n",
    "# print(\"unique products:\", unique_product_count)\n",
    "# print(\"unique per partner products :\", unique_partner_product_count)"
   ]
  },
  {
   "cell_type": "code",
   "execution_count": null,
   "id": "d252acde-05e4-4f31-bef7-348f955609c3",
   "metadata": {},
   "outputs": [],
   "source": []
  }
 ],
 "metadata": {
  "kernelspec": {
   "display_name": "Python 3 (ipykernel)",
   "language": "python",
   "name": "python3"
  },
  "language_info": {
   "codemirror_mode": {
    "name": "ipython",
    "version": 3
   },
   "file_extension": ".py",
   "mimetype": "text/x-python",
   "name": "python",
   "nbconvert_exporter": "python",
   "pygments_lexer": "ipython3",
   "version": "3.10.12"
  }
 },
 "nbformat": 4,
 "nbformat_minor": 5
}
