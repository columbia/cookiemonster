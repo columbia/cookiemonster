{
 "cells": [
  {
   "cell_type": "markdown",
   "id": "8d74629c",
   "metadata": {},
   "source": [
    "# Criteo Sponsored Search Conversion Log Dataset Analysis\n",
    "\n",
    "## Resources\n",
    "Dataset: [Criteo Sponsored Search Conversion Log Dataset](https://ailab.criteo.com/criteo-sponsored-search-conversion-log-dataset/)\n",
    "\n",
    "Paper: [Reacting to Variations in Product Demand: An Application for\n",
    "Conversion Rate (CR) Prediction in Sponsored Search\n",
    "](https://arxiv.org/pdf/1806.08211.pdf)\n",
    "\n",
    "## Shortform Overview of the data\n",
    "- Entire dataset spans 90 days of logs\n",
    "- Attribution Window used is 30 days\n",
    "- Each row in the dataset represents an action (i.e. click) performed by the user on a product related advertisement.\n",
    "- Each row may or may not have a conversion with it. If Sale = 1, then there was a conversion.\n",
    "- The data has been sub-sampled, and it's not clear how the sampling was done. So, it could be that we have impartial user stories. For instance, multiple impressions might have _actually_ led to a conversion, but that conversion might be missing from the dataset. Similarly, multiple impressions might have _actually_ been recorded, but some impressions might be missing from the dataset. This has implications for accurately recording privacy budget deductions.\n",
    "\n",
    "## Overview of the data\n",
    "(Copied from the data source website. Emphasis is mine)\n",
    "\n",
    "This dataset contains logs obtained from Criteo Predictive Search (CPS). CPS, offers an automated end-to-end solution using sophisticated machine learning techniques to improve Google Shopping experience using robust, predictive optimization across every aspect of the advertiser’s campaign. CPS in general has two main aims : (1) Retarget high-value users via behavioral targeting such that the bids are based on each user’s likelihood to make a purchase. (2) Increase ROI using a bidding strategy which incorporates the effects of product characteristics, user intent, device and user behavior.\n",
    "\n",
    "**Each row in the dataset represents an action (i.e. click) performed by the user on a product related advertisement**. The product advertisement was shown to the user, post the user expressing an intent via an online search engine.  Each row in the dataset, contains information about the product characteristics (age, brand, gender, price), time of the click ( subject to uniform shift), user characteristics and device information. The **logs also contain information on whether the clicks eventually led to a conversion (product was bought) within a 30 day window and the time between click and the conversion**.\n",
    "\n",
    "**This dataset represents a sample of 90 days of Criteo live traffic data**. Each line corresponds to one click (product related advertisement) that was displayed to a user. For each advertisement, we have detailed information about the product. Further, we also provide information on whether the click led to a conversion, amount of conversion and the time between the click and the conversion. **Data has been sub-sampled** and anonymized so as not to disclose proprietary elements."
   ]
  },
  {
   "cell_type": "code",
   "execution_count": null,
   "id": "024fa901",
   "metadata": {},
   "outputs": [],
   "source": [
    "# import pandas as pd\n",
    "import modin.pandas as pd\n",
    "import numpy as np\n",
    "from datetime import datetime\n",
    "import os\n",
    "import plotly.express as px\n",
    "\n",
    "os.environ[\"MODIN_ENGINE\"] = \"ray\""
   ]
  },
  {
   "cell_type": "markdown",
   "id": "037d64d0",
   "metadata": {},
   "source": [
    "### Dataset Retrieval\n",
    "This notebook assumes you already have the dataset downloaded and in the current directory. If you do not, uncomment and run the following cell. Note that the uncompressed data is ~6 GB."
   ]
  },
  {
   "cell_type": "code",
   "execution_count": null,
   "id": "b77d8e22",
   "metadata": {},
   "outputs": [],
   "source": [
    "# !wget http://go.criteo.net/criteo-research-search-conversion.tar.gz\n",
    "# !tar -xzf criteo-research-search-conversion.tar.gz"
   ]
  },
  {
   "cell_type": "code",
   "execution_count": null,
   "id": "79921a04",
   "metadata": {},
   "outputs": [],
   "source": [
    "DATA_FILE = 'Criteo_Conversion_Search/CriteoSearchData'\n",
    "dtype={\n",
    "    \"Sale\": np.int32,\n",
    "    \"SalesAmountInEuro\": np.float64,\n",
    "    \"Time_delay_for_conversion\": np.int32,\n",
    "    \"click_timestamp\": np.int32,\n",
    "    \"nb_clicks_1week\": pd.Int64Dtype(),\n",
    "    \"product_price\": np.float64,\n",
    "    \"product_age_group\": str,\n",
    "    \"device_type\": str,\n",
    "    \"audience_id\": str,\n",
    "    \"product_gender\": str,\n",
    "    \"product_brand\": str,\n",
    "    \"product_category1\": str,\n",
    "    \"product_category2\": str,\n",
    "    \"product_category3\": str,\n",
    "    \"product_category4\": str,\n",
    "    \"product_category5\": str,\n",
    "    \"product_category6\": str,\n",
    "    \"product_category7\": str,\n",
    "    \"product_country\": str,\n",
    "    \"product_id\": str,\n",
    "    \"product_title\": str,\n",
    "    \"partner_id\": str,\n",
    "    \"user_id\": str,\n",
    "}\n",
    "na_values={\n",
    "    \"click_timestamp\": \"0\",\n",
    "    \"nb_clicks_1week\": \"-1\",\n",
    "    \"product_price\": \"-1\",\n",
    "    \"product_age_group\": \"-1\",\n",
    "    \"device_type\": \"-1\",\n",
    "    \"audience_id\": \"-1\",\n",
    "    \"product_gender\": \"-1\",\n",
    "    \"product_brand\": \"-1\",\n",
    "    \"product_category1\": \"-1\",\n",
    "    \"product_category2\": \"-1\",\n",
    "    \"product_category3\": \"-1\",\n",
    "    \"product_category4\": \"-1\",\n",
    "    \"product_category5\": \"-1\",\n",
    "    \"product_category6\": \"-1\",\n",
    "    \"product_category7\": \"-1\",\n",
    "    \"product_country\": \"-1\",\n",
    "    \"product_id\": \"-1\",\n",
    "    \"product_title\": \"-1\",\n",
    "    \"partner_id\": \"-1\",\n",
    "    \"user_id\": \"-1\",\n",
    "}\n",
    "columns_to_drop = [\n",
    "    'product_category1', 'product_category2', 'product_category3', 'product_category4',\n",
    "    'product_category5', 'product_category6', 'product_category7', 'nb_clicks_1week', 'device_type',\n",
    "    'product_title', 'product_brand', 'product_gender', 'audience_id', 'product_age_group', 'product_country'\n",
    "]"
   ]
  },
  {
   "cell_type": "code",
   "execution_count": null,
   "id": "e03bda6c",
   "metadata": {},
   "outputs": [],
   "source": [
    "df = pd.read_csv(DATA_FILE, names=dtype.keys(), dtype=dtype, na_values=na_values, header=None, sep=\"\\t\")\n",
    "df = df.drop(columns=columns_to_drop)\n",
    "df = df.dropna(subset=['product_id', 'partner_id', 'user_id'])\n",
    "df.head()"
   ]
  },
  {
   "cell_type": "code",
   "execution_count": null,
   "id": "6ae17fef",
   "metadata": {},
   "outputs": [],
   "source": [
    "df[\"click_datetime\"] = df[\"click_timestamp\"].apply(lambda x: datetime.fromtimestamp(x))\n",
    "df[\"click_day\"] = df[\"click_datetime\"].apply(\n",
    "    lambda x: (7 * (x.isocalendar().week - 1)) + x.isocalendar().weekday\n",
    ")\n",
    "min_click_day = df[\"click_day\"].min()\n",
    "df[\"click_day\"] -= min_click_day\n",
    "\n",
    "df[\"conversion_timestamp\"] = df[\"Time_delay_for_conversion\"] + df[\"click_timestamp\"]\n",
    "df[\"conversion_datetime\"] = df[\"conversion_timestamp\"].apply(\n",
    "    lambda x: datetime.fromtimestamp(x)\n",
    ")\n",
    "df[\"conversion_day\"] = df[\"conversion_datetime\"].apply(\n",
    "    lambda x: (7 * (x.isocalendar().week - 1)) + x.isocalendar().weekday\n",
    ")\n",
    "df[\"conversion_day\"] -= min_click_day\n",
    "\n",
    "impressions = df[[\"click_timestamp\", \"click_day\", \"user_id\", \"partner_id\"]]\n",
    "conversions = pd.DataFrame(df.loc[df.Sale == 1])[\n",
    "    [\n",
    "        \"conversion_timestamp\",\n",
    "        \"conversion_day\",\n",
    "        \"user_id\",\n",
    "        \"partner_id\",\n",
    "        \"SalesAmountInEuro\",\n",
    "    ]\n",
    "]"
   ]
  },
  {
   "cell_type": "code",
   "execution_count": null,
   "id": "1ea3c3b9",
   "metadata": {},
   "outputs": [],
   "source": [
    "impressions"
   ]
  },
  {
   "cell_type": "code",
   "execution_count": null,
   "id": "2e7e6892-dc1d-4f29-9d5c-2e86c0dc2a15",
   "metadata": {},
   "outputs": [],
   "source": [
    "print(conversions[\"user_id\"].nunique())\n"
   ]
  },
  {
   "cell_type": "code",
   "execution_count": null,
   "id": "f3a6f37d",
   "metadata": {},
   "outputs": [],
   "source": [
    "total_impressions = impressions.shape[0]\n",
    "total_conversions = conversions.shape[0]\n",
    "unique_user_count = len(df.groupby(['user_id']).count())\n",
    "unique_partner_count = len(df.groupby(['partner_id']).count())\n",
    "unique_product_count = len(df.groupby(['product_id']).count())\n",
    "unique_partner_product_count = len(df.groupby(['partner_id', 'product_id']).size())\n",
    "\n",
    "print(\"total impressions:\", total_impressions, \"total conversions:\", total_conversions)\n",
    "print(\"conversion rate:\", total_conversions/total_impressions*100, \"%\")\n",
    "print(\"unique users:\", unique_user_count)\n",
    "print(\"unique partners:\", unique_partner_count)\n",
    "print(\"unique products:\", unique_product_count)\n",
    "print(\"unique per partner products :\", unique_partner_product_count)"
   ]
  },
  {
   "cell_type": "code",
   "execution_count": null,
   "id": "f72c11b8-d466-4256-b72a-7a25f5719d14",
   "metadata": {},
   "outputs": [],
   "source": [
    "iuser_counts = impressions.groupby(['user_id']).size().reset_index(name=\"count\")\n",
    "iuser_counts.describe()"
   ]
  },
  {
   "cell_type": "code",
   "execution_count": null,
   "id": "72e3c658-25ab-4ac9-b161-425f4aab3708",
   "metadata": {},
   "outputs": [],
   "source": [
    "cuser_counts = conversions.groupby(['user_id']).size().reset_index(name=\"count\")\n",
    "cuser_counts.describe()"
   ]
  },
  {
   "cell_type": "code",
   "execution_count": null,
   "id": "e6a8174e-59f6-460f-8403-b8e1675aceb4",
   "metadata": {},
   "outputs": [],
   "source": [
    "iday_counts = impressions.groupby(['click_day']).size().reset_index(name=\"count\")\n",
    "iday_counts.describe()"
   ]
  },
  {
   "cell_type": "code",
   "execution_count": null,
   "id": "d9ba43cc-6c8a-4f61-8707-5277977dd0bd",
   "metadata": {},
   "outputs": [],
   "source": [
    "iuser_day_counts = impressions.groupby(['user_id', 'click_day']).size().reset_index(name=\"count\")\n",
    "iuser_day_counts.describe()"
   ]
  },
  {
   "cell_type": "code",
   "execution_count": null,
   "id": "77e6f110-7b29-4897-9c88-a5b0b2fd359e",
   "metadata": {},
   "outputs": [],
   "source": [
    "cday_counts = conversions.groupby(['conversion_day']).size().reset_index(name=\"count\")\n",
    "cday_counts.describe()"
   ]
  },
  {
   "cell_type": "code",
   "execution_count": null,
   "id": "425d9875-0e88-44ec-ba6e-9110f91dc82f",
   "metadata": {},
   "outputs": [],
   "source": [
    "cday_counts = conversions.groupby(['conversion_day']).size().reset_index(name=\"count\")\n",
    "cday_counts.describe()"
   ]
  },
  {
   "cell_type": "code",
   "execution_count": null,
   "id": "0a370a1d-1c02-4111-a5c7-343b820e4de2",
   "metadata": {},
   "outputs": [],
   "source": [
    "cuser_day_counts = conversions.groupby(['user_id', 'conversion_day']).size().reset_index(name=\"count\")\n",
    "cuser_day_counts.describe()"
   ]
  },
  {
   "cell_type": "code",
   "execution_count": null,
   "id": "5078e81c-66fa-487b-a5e7-30bfdf0f7939",
   "metadata": {},
   "outputs": [],
   "source": []
  },
  {
   "cell_type": "code",
   "execution_count": null,
   "id": "ab129fd0-67a4-4180-b590-3641439d624f",
   "metadata": {},
   "outputs": [],
   "source": [
    "# print(user_day_counts.loc[user_day_counts['count'] == 1].shape)\n",
    "# print(user_day_counts.loc[user_day_counts['count'] > 1].shape)\n",
    "# print(user_day_counts.loc[user_day_counts['count'] > 2].shape)\n",
    "# print(user_day_counts.loc[user_day_counts['count'] > 3].shape)\n",
    "# print(user_day_counts.loc[user_day_counts['count'] > 4].shape)\n",
    "# print(user_day_counts.loc[user_day_counts['count'] > 5].shape)\n"
   ]
  },
  {
   "cell_type": "code",
   "execution_count": null,
   "id": "24d62197-b5d7-49ab-af75-b197a195178e",
   "metadata": {},
   "outputs": [],
   "source": []
  },
  {
   "cell_type": "code",
   "execution_count": null,
   "id": "a070797f-7683-4d9f-b808-4746cf3bdf32",
   "metadata": {},
   "outputs": [],
   "source": [
    "# user_counts = user_counts.sort_values([\"count\"], ascending=False,)\n",
    "# user_counts"
   ]
  },
  {
   "cell_type": "code",
   "execution_count": null,
   "id": "8bb9a333-d703-481b-8d9a-6dfa8d625ba5",
   "metadata": {},
   "outputs": [],
   "source": []
  },
  {
   "cell_type": "code",
   "execution_count": null,
   "id": "8a919f82-835e-4d0d-9a96-f49e408f6f40",
   "metadata": {},
   "outputs": [],
   "source": [
    "# iuser = impressions.query(\"user_id == 'C8C869CD45415BA13541D602D8EA277E'\")\n",
    "# cuser = conversions.query(\"user_id == 'C8C869CD45415BA13541D602D8EA277E'\")\n",
    "# iuser\n",
    "# cuser"
   ]
  },
  {
   "cell_type": "code",
   "execution_count": null,
   "id": "109b67b1-11b7-4b8e-a901-6713ae83d17e",
   "metadata": {},
   "outputs": [],
   "source": []
  },
  {
   "cell_type": "code",
   "execution_count": null,
   "id": "a448ce4e-35dc-4115-a8b0-f6243f30e80c",
   "metadata": {},
   "outputs": [],
   "source": [
    "conversion_user_day_counts = conversions.groupby(['user_id', 'conversion_day']).size().reset_index(name=\"count\")\n",
    "conversion_user_day_counts.describe()"
   ]
  },
  {
   "cell_type": "code",
   "execution_count": null,
   "id": "df3f109d-94f3-4e58-8263-5fdba80e883e",
   "metadata": {},
   "outputs": [],
   "source": []
  },
  {
   "cell_type": "code",
   "execution_count": null,
   "id": "8553d8c1-7edb-4173-923c-58e34758e93a",
   "metadata": {},
   "outputs": [],
   "source": [
    "# fig = px.ecdf(user_day_counts, x=\"count\")\n",
    "# fig.show()"
   ]
  },
  {
   "cell_type": "code",
   "execution_count": null,
   "id": "6f9f3b56-8ddc-42e2-96d4-c1635602b6a5",
   "metadata": {},
   "outputs": [],
   "source": []
  },
  {
   "cell_type": "code",
   "execution_count": null,
   "id": "c89e1db3-6256-4521-99c3-f828715a3ebb",
   "metadata": {},
   "outputs": [],
   "source": [
    "# df.query(\"partner_id=='319A2412BDB0EF669733053640B80112' and product_id=='C9A3F830655829E5E924423E7417AAB4'\")"
   ]
  },
  {
   "cell_type": "code",
   "execution_count": null,
   "id": "45b5fad6-3dba-49b0-9019-9d0a7ceea0d1",
   "metadata": {},
   "outputs": [],
   "source": []
  },
  {
   "cell_type": "code",
   "execution_count": null,
   "id": "079053bf-d98d-4caa-99c8-0b57ca388df7",
   "metadata": {},
   "outputs": [],
   "source": []
  }
 ],
 "metadata": {
  "kernelspec": {
   "display_name": "Python 3 (ipykernel)",
   "language": "python",
   "name": "python3"
  },
  "language_info": {
   "codemirror_mode": {
    "name": "ipython",
    "version": 3
   },
   "file_extension": ".py",
   "mimetype": "text/x-python",
   "name": "python",
   "nbconvert_exporter": "python",
   "pygments_lexer": "ipython3",
   "version": "3.10.12"
  }
 },
 "nbformat": 4,
 "nbformat_minor": 5
}
